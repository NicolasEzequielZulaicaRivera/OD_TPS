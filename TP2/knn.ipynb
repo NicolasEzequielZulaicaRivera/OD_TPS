{
 "cells": [
  {
   "cell_type": "markdown",
   "id": "1ee1f2d6-b47a-41f9-8fbf-63ba458ed082",
   "metadata": {
    "execution": {
     "iopub.execute_input": "2021-11-30T02:10:08.889763Z",
     "iopub.status.busy": "2021-11-30T02:10:08.889506Z",
     "iopub.status.idle": "2021-11-30T02:10:09.873670Z",
     "shell.execute_reply": "2021-11-30T02:10:09.873096Z",
     "shell.execute_reply.started": "2021-11-30T02:10:08.889697Z"
    }
   },
   "source": [
    "# KNN"
   ]
  },
  {
   "cell_type": "markdown",
   "id": "8dea3855-b4cc-4ce1-9d22-2df6a3ade5d5",
   "metadata": {
    "tags": []
   },
   "source": [
    "### Imports"
   ]
  },
  {
   "cell_type": "code",
   "execution_count": 1,
   "id": "5f9f30da-5537-4ffb-b557-f57a33525b62",
   "metadata": {
    "execution": {
     "iopub.execute_input": "2021-12-06T20:07:17.244704Z",
     "iopub.status.busy": "2021-12-06T20:07:17.244144Z",
     "iopub.status.idle": "2021-12-06T20:07:18.068666Z",
     "shell.execute_reply": "2021-12-06T20:07:18.067838Z",
     "shell.execute_reply.started": "2021-12-06T20:07:17.244502Z"
    }
   },
   "outputs": [],
   "source": [
    "import pandas as pd\n",
    "import numpy as np\n",
    "from matplotlib import pyplot as plt\n",
    "from joblib import dump, load"
   ]
  },
  {
   "cell_type": "code",
   "execution_count": 2,
   "id": "c94c7fb4-bcec-48e6-965c-9058dcbdbc53",
   "metadata": {
    "execution": {
     "iopub.execute_input": "2021-12-06T20:07:18.069682Z",
     "iopub.status.busy": "2021-12-06T20:07:18.069501Z",
     "iopub.status.idle": "2021-12-06T20:07:18.360651Z",
     "shell.execute_reply": "2021-12-06T20:07:18.359885Z",
     "shell.execute_reply.started": "2021-12-06T20:07:18.069649Z"
    },
    "tags": []
   },
   "outputs": [],
   "source": [
    "from sklearn.neighbors import KNeighborsClassifier\n",
    "from sklearn.experimental import enable_halving_search_cv\n",
    "from sklearn.model_selection import HalvingGridSearchCV"
   ]
  },
  {
   "cell_type": "code",
   "execution_count": 3,
   "id": "cfb24ca0-9bd9-4b58-8b92-5092f42a4cda",
   "metadata": {
    "execution": {
     "iopub.execute_input": "2021-12-06T20:07:18.363207Z",
     "iopub.status.busy": "2021-12-06T20:07:18.363045Z",
     "iopub.status.idle": "2021-12-06T20:07:19.498484Z",
     "shell.execute_reply": "2021-12-06T20:07:19.497528Z",
     "shell.execute_reply.started": "2021-12-06T20:07:18.363188Z"
    }
   },
   "outputs": [
    {
     "name": "stdout",
     "output_type": "stream",
     "text": [
      "[###] All Done                                              \n"
     ]
    }
   ],
   "source": [
    "from preprocessing import reemplazarNulls,reemplazarCategoricas,reemplazarFechas,targetBooleano,regularizar"
   ]
  },
  {
   "cell_type": "code",
   "execution_count": 4,
   "id": "59647526-08b8-4e5c-bf24-54a1280e33e9",
   "metadata": {
    "execution": {
     "iopub.execute_input": "2021-12-06T20:07:19.500846Z",
     "iopub.status.busy": "2021-12-06T20:07:19.499968Z",
     "iopub.status.idle": "2021-12-06T20:07:19.936570Z",
     "shell.execute_reply": "2021-12-06T20:07:19.935655Z",
     "shell.execute_reply.started": "2021-12-06T20:07:19.500790Z"
    }
   },
   "outputs": [],
   "source": [
    "from utilities import score, df_feat, df_targ, train_val"
   ]
  },
  {
   "cell_type": "markdown",
   "id": "8b202d87-3e34-4c7c-8944-5addb5e0bccc",
   "metadata": {},
   "source": [
    "### Codigo a correr"
   ]
  },
  {
   "cell_type": "code",
   "execution_count": 5,
   "id": "1df16897-a34d-4c6c-8dfb-cdd79a3f0930",
   "metadata": {
    "execution": {
     "iopub.execute_input": "2021-12-06T20:07:19.937751Z",
     "iopub.status.busy": "2021-12-06T20:07:19.937557Z",
     "iopub.status.idle": "2021-12-06T20:07:19.942402Z",
     "shell.execute_reply": "2021-12-06T20:07:19.941568Z",
     "shell.execute_reply.started": "2021-12-06T20:07:19.937732Z"
    }
   },
   "outputs": [],
   "source": [
    "MAX_ITER = 10**6\n",
    "MAX_JOBS = -1"
   ]
  },
  {
   "cell_type": "markdown",
   "id": "ad6e03b0-054c-4ee9-a850-fb8e31a34fb2",
   "metadata": {},
   "source": [
    "**Run :** Entrenar Nuevamente o Cargar Entrenado"
   ]
  },
  {
   "cell_type": "code",
   "execution_count": 6,
   "id": "462bbeeb-82e1-4353-afc9-27893f355cab",
   "metadata": {
    "execution": {
     "iopub.execute_input": "2021-12-06T20:07:19.944722Z",
     "iopub.status.busy": "2021-12-06T20:07:19.944305Z",
     "iopub.status.idle": "2021-12-06T20:07:20.065602Z",
     "shell.execute_reply": "2021-12-06T20:07:20.064762Z",
     "shell.execute_reply.started": "2021-12-06T20:07:19.944689Z"
    },
    "tags": []
   },
   "outputs": [],
   "source": [
    "runAuto = False"
   ]
  },
  {
   "cell_type": "markdown",
   "id": "d44b2c11-34d5-44c0-a842-7a173b50993b",
   "metadata": {},
   "source": [
    "**Save :** Guardar Modelo (pisa anterior)"
   ]
  },
  {
   "cell_type": "code",
   "execution_count": 7,
   "id": "07c1439f-5b3c-4ba2-9c15-09eb314cdb77",
   "metadata": {
    "execution": {
     "iopub.execute_input": "2021-12-06T20:07:20.067081Z",
     "iopub.status.busy": "2021-12-06T20:07:20.066769Z",
     "iopub.status.idle": "2021-12-06T20:07:20.198916Z",
     "shell.execute_reply": "2021-12-06T20:07:20.198035Z",
     "shell.execute_reply.started": "2021-12-06T20:07:20.067057Z"
    }
   },
   "outputs": [],
   "source": [
    "saveAuto = True"
   ]
  },
  {
   "cell_type": "markdown",
   "id": "6eb64672-26db-4e45-ae0d-544505b0fb83",
   "metadata": {},
   "source": [
    "### Preprocesamiento"
   ]
  },
  {
   "cell_type": "code",
   "execution_count": 8,
   "id": "1595b6db-747c-4202-b289-ceba0ec11c9b",
   "metadata": {
    "execution": {
     "iopub.execute_input": "2021-12-06T20:07:20.200277Z",
     "iopub.status.busy": "2021-12-06T20:07:20.200028Z",
     "iopub.status.idle": "2021-12-06T20:07:21.605604Z",
     "shell.execute_reply": "2021-12-06T20:07:21.604676Z",
     "shell.execute_reply.started": "2021-12-06T20:07:20.200226Z"
    },
    "tags": []
   },
   "outputs": [
    {
     "data": {
      "text/html": [
       "<div>\n",
       "<style scoped>\n",
       "    .dataframe tbody tr th:only-of-type {\n",
       "        vertical-align: middle;\n",
       "    }\n",
       "\n",
       "    .dataframe tbody tr th {\n",
       "        vertical-align: top;\n",
       "    }\n",
       "\n",
       "    .dataframe thead th {\n",
       "        text-align: right;\n",
       "    }\n",
       "</style>\n",
       "<table border=\"1\" class=\"dataframe\">\n",
       "  <thead>\n",
       "    <tr style=\"text-align: right;\">\n",
       "      <th></th>\n",
       "      <th>id</th>\n",
       "      <th>direccion_viento_tarde</th>\n",
       "      <th>direccion_viento_temprano</th>\n",
       "      <th>horas_de_sol</th>\n",
       "      <th>humedad_tarde</th>\n",
       "      <th>humedad_temprano</th>\n",
       "      <th>mm_lluvia_dia</th>\n",
       "      <th>nubosidad_tarde</th>\n",
       "      <th>presion_atmosferica_tarde</th>\n",
       "      <th>rafaga_viento_max_direccion</th>\n",
       "      <th>rafaga_viento_max_velocidad</th>\n",
       "      <th>velocidad_viendo_tarde</th>\n",
       "    </tr>\n",
       "  </thead>\n",
       "  <tbody>\n",
       "    <tr>\n",
       "      <th>0</th>\n",
       "      <td>0.495844</td>\n",
       "      <td>0.736537</td>\n",
       "      <td>0.645996</td>\n",
       "      <td>-2.018030</td>\n",
       "      <td>1.277923</td>\n",
       "      <td>0.270523</td>\n",
       "      <td>7.914307</td>\n",
       "      <td>0.916539</td>\n",
       "      <td>1.269394</td>\n",
       "      <td>0.802215</td>\n",
       "      <td>0.589120</td>\n",
       "      <td>0.834079</td>\n",
       "    </tr>\n",
       "    <tr>\n",
       "      <th>1</th>\n",
       "      <td>0.183431</td>\n",
       "      <td>0.317434</td>\n",
       "      <td>-1.382279</td>\n",
       "      <td>-2.018030</td>\n",
       "      <td>-1.806334</td>\n",
       "      <td>-0.675093</td>\n",
       "      <td>0.417359</td>\n",
       "      <td>-1.288420</td>\n",
       "      <td>-2.406972</td>\n",
       "      <td>0.393094</td>\n",
       "      <td>1.544505</td>\n",
       "      <td>1.402051</td>\n",
       "    </tr>\n",
       "    <tr>\n",
       "      <th>2</th>\n",
       "      <td>-0.113001</td>\n",
       "      <td>-0.730326</td>\n",
       "      <td>-0.570969</td>\n",
       "      <td>-1.330311</td>\n",
       "      <td>1.326115</td>\n",
       "      <td>-1.147901</td>\n",
       "      <td>-0.281713</td>\n",
       "      <td>1.284033</td>\n",
       "      <td>-2.094694</td>\n",
       "      <td>-0.834272</td>\n",
       "      <td>1.250541</td>\n",
       "      <td>1.629239</td>\n",
       "    </tr>\n",
       "    <tr>\n",
       "      <th>3</th>\n",
       "      <td>-1.678190</td>\n",
       "      <td>1.574745</td>\n",
       "      <td>0.848823</td>\n",
       "      <td>-2.018030</td>\n",
       "      <td>1.952605</td>\n",
       "      <td>1.426276</td>\n",
       "      <td>0.320935</td>\n",
       "      <td>1.284033</td>\n",
       "      <td>0.020281</td>\n",
       "      <td>-1.447954</td>\n",
       "      <td>1.030067</td>\n",
       "      <td>1.402051</td>\n",
       "    </tr>\n",
       "    <tr>\n",
       "      <th>4</th>\n",
       "      <td>0.930508</td>\n",
       "      <td>-1.149430</td>\n",
       "      <td>-1.179451</td>\n",
       "      <td>-2.018030</td>\n",
       "      <td>-1.806334</td>\n",
       "      <td>-1.673244</td>\n",
       "      <td>-0.281713</td>\n",
       "      <td>-0.920927</td>\n",
       "      <td>-1.257220</td>\n",
       "      <td>-0.834272</td>\n",
       "      <td>0.736103</td>\n",
       "      <td>0.038918</td>\n",
       "    </tr>\n",
       "    <tr>\n",
       "      <th>...</th>\n",
       "      <td>...</td>\n",
       "      <td>...</td>\n",
       "      <td>...</td>\n",
       "      <td>...</td>\n",
       "      <td>...</td>\n",
       "      <td>...</td>\n",
       "      <td>...</td>\n",
       "      <td>...</td>\n",
       "      <td>...</td>\n",
       "      <td>...</td>\n",
       "      <td>...</td>\n",
       "      <td>...</td>\n",
       "    </tr>\n",
       "    <tr>\n",
       "      <th>102351</th>\n",
       "      <td>-0.264327</td>\n",
       "      <td>-0.101670</td>\n",
       "      <td>-0.570969</td>\n",
       "      <td>-0.298733</td>\n",
       "      <td>0.555051</td>\n",
       "      <td>-1.305504</td>\n",
       "      <td>-0.233501</td>\n",
       "      <td>0.549046</td>\n",
       "      <td>-0.490719</td>\n",
       "      <td>-0.834272</td>\n",
       "      <td>2.352908</td>\n",
       "      <td>2.083617</td>\n",
       "    </tr>\n",
       "    <tr>\n",
       "      <th>102352</th>\n",
       "      <td>-1.317418</td>\n",
       "      <td>0.946089</td>\n",
       "      <td>1.457306</td>\n",
       "      <td>-1.462565</td>\n",
       "      <td>0.651434</td>\n",
       "      <td>0.585729</td>\n",
       "      <td>0.345041</td>\n",
       "      <td>0.916539</td>\n",
       "      <td>0.318365</td>\n",
       "      <td>1.211337</td>\n",
       "      <td>0.589120</td>\n",
       "      <td>1.402051</td>\n",
       "    </tr>\n",
       "    <tr>\n",
       "      <th>102353</th>\n",
       "      <td>-1.594150</td>\n",
       "      <td>0.736537</td>\n",
       "      <td>1.660133</td>\n",
       "      <td>-2.018030</td>\n",
       "      <td>1.422498</td>\n",
       "      <td>-0.359888</td>\n",
       "      <td>-0.281713</td>\n",
       "      <td>0.916539</td>\n",
       "      <td>-0.064885</td>\n",
       "      <td>-1.447954</td>\n",
       "      <td>-0.366265</td>\n",
       "      <td>-1.892186</td>\n",
       "    </tr>\n",
       "    <tr>\n",
       "      <th>102354</th>\n",
       "      <td>0.293898</td>\n",
       "      <td>-1.149430</td>\n",
       "      <td>-0.773796</td>\n",
       "      <td>-1.779974</td>\n",
       "      <td>1.326115</td>\n",
       "      <td>-0.202285</td>\n",
       "      <td>-0.281713</td>\n",
       "      <td>1.284033</td>\n",
       "      <td>-2.052110</td>\n",
       "      <td>-0.629711</td>\n",
       "      <td>1.177050</td>\n",
       "      <td>0.606890</td>\n",
       "    </tr>\n",
       "    <tr>\n",
       "      <th>102355</th>\n",
       "      <td>-0.762408</td>\n",
       "      <td>1.574745</td>\n",
       "      <td>1.457306</td>\n",
       "      <td>0.812198</td>\n",
       "      <td>0.217710</td>\n",
       "      <td>-0.202285</td>\n",
       "      <td>-0.281713</td>\n",
       "      <td>-0.920927</td>\n",
       "      <td>0.588060</td>\n",
       "      <td>1.415898</td>\n",
       "      <td>0.589120</td>\n",
       "      <td>1.288456</td>\n",
       "    </tr>\n",
       "  </tbody>\n",
       "</table>\n",
       "<p>102356 rows × 12 columns</p>\n",
       "</div>"
      ],
      "text/plain": [
       "              id  direccion_viento_tarde  direccion_viento_temprano  \\\n",
       "0       0.495844                0.736537                   0.645996   \n",
       "1       0.183431                0.317434                  -1.382279   \n",
       "2      -0.113001               -0.730326                  -0.570969   \n",
       "3      -1.678190                1.574745                   0.848823   \n",
       "4       0.930508               -1.149430                  -1.179451   \n",
       "...          ...                     ...                        ...   \n",
       "102351 -0.264327               -0.101670                  -0.570969   \n",
       "102352 -1.317418                0.946089                   1.457306   \n",
       "102353 -1.594150                0.736537                   1.660133   \n",
       "102354  0.293898               -1.149430                  -0.773796   \n",
       "102355 -0.762408                1.574745                   1.457306   \n",
       "\n",
       "        horas_de_sol  humedad_tarde  humedad_temprano  mm_lluvia_dia  \\\n",
       "0          -2.018030       1.277923          0.270523       7.914307   \n",
       "1          -2.018030      -1.806334         -0.675093       0.417359   \n",
       "2          -1.330311       1.326115         -1.147901      -0.281713   \n",
       "3          -2.018030       1.952605          1.426276       0.320935   \n",
       "4          -2.018030      -1.806334         -1.673244      -0.281713   \n",
       "...              ...            ...               ...            ...   \n",
       "102351     -0.298733       0.555051         -1.305504      -0.233501   \n",
       "102352     -1.462565       0.651434          0.585729       0.345041   \n",
       "102353     -2.018030       1.422498         -0.359888      -0.281713   \n",
       "102354     -1.779974       1.326115         -0.202285      -0.281713   \n",
       "102355      0.812198       0.217710         -0.202285      -0.281713   \n",
       "\n",
       "        nubosidad_tarde  presion_atmosferica_tarde  \\\n",
       "0              0.916539                   1.269394   \n",
       "1             -1.288420                  -2.406972   \n",
       "2              1.284033                  -2.094694   \n",
       "3              1.284033                   0.020281   \n",
       "4             -0.920927                  -1.257220   \n",
       "...                 ...                        ...   \n",
       "102351         0.549046                  -0.490719   \n",
       "102352         0.916539                   0.318365   \n",
       "102353         0.916539                  -0.064885   \n",
       "102354         1.284033                  -2.052110   \n",
       "102355        -0.920927                   0.588060   \n",
       "\n",
       "        rafaga_viento_max_direccion  rafaga_viento_max_velocidad  \\\n",
       "0                          0.802215                     0.589120   \n",
       "1                          0.393094                     1.544505   \n",
       "2                         -0.834272                     1.250541   \n",
       "3                         -1.447954                     1.030067   \n",
       "4                         -0.834272                     0.736103   \n",
       "...                             ...                          ...   \n",
       "102351                    -0.834272                     2.352908   \n",
       "102352                     1.211337                     0.589120   \n",
       "102353                    -1.447954                    -0.366265   \n",
       "102354                    -0.629711                     1.177050   \n",
       "102355                     1.415898                     0.589120   \n",
       "\n",
       "        velocidad_viendo_tarde  \n",
       "0                     0.834079  \n",
       "1                     1.402051  \n",
       "2                     1.629239  \n",
       "3                     1.402051  \n",
       "4                     0.038918  \n",
       "...                        ...  \n",
       "102351                2.083617  \n",
       "102352                1.402051  \n",
       "102353               -1.892186  \n",
       "102354                0.606890  \n",
       "102355                1.288456  \n",
       "\n",
       "[102356 rows x 12 columns]"
      ]
     },
     "execution_count": 8,
     "metadata": {},
     "output_type": "execute_result"
    }
   ],
   "source": [
    "df_targ=targetBooleano(df_targ)\n",
    "reemplazarNulls(df_feat , inplace=True)\n",
    "reemplazarCategoricas(df_feat , inplace=True)\n",
    "reemplazarFechas(df_feat , inplace=True)\n",
    "regularizar(df_feat , inplace=True)"
   ]
  },
  {
   "cell_type": "code",
   "execution_count": 9,
   "id": "0a2ab13c-8af8-4f56-bdec-192a92a7fa25",
   "metadata": {
    "execution": {
     "iopub.execute_input": "2021-12-06T20:07:21.606579Z",
     "iopub.status.busy": "2021-12-06T20:07:21.606372Z",
     "iopub.status.idle": "2021-12-06T20:07:21.618319Z",
     "shell.execute_reply": "2021-12-06T20:07:21.617367Z",
     "shell.execute_reply.started": "2021-12-06T20:07:21.606557Z"
    }
   },
   "outputs": [
    {
     "name": "stdout",
     "output_type": "stream",
     "text": [
      "<class 'pandas.core.frame.DataFrame'>\n",
      "RangeIndex: 102356 entries, 0 to 102355\n",
      "Data columns (total 12 columns):\n",
      " #   Column                       Non-Null Count   Dtype  \n",
      "---  ------                       --------------   -----  \n",
      " 0   id                           102356 non-null  float64\n",
      " 1   direccion_viento_tarde       102356 non-null  float64\n",
      " 2   direccion_viento_temprano    102356 non-null  float64\n",
      " 3   horas_de_sol                 102356 non-null  float64\n",
      " 4   humedad_tarde                102356 non-null  float64\n",
      " 5   humedad_temprano             102356 non-null  float64\n",
      " 6   mm_lluvia_dia                102356 non-null  float64\n",
      " 7   nubosidad_tarde              102356 non-null  float64\n",
      " 8   presion_atmosferica_tarde    102356 non-null  float64\n",
      " 9   rafaga_viento_max_direccion  102356 non-null  float64\n",
      " 10  rafaga_viento_max_velocidad  102356 non-null  float64\n",
      " 11  velocidad_viendo_tarde       102356 non-null  float64\n",
      "dtypes: float64(12)\n",
      "memory usage: 9.4 MB\n"
     ]
    }
   ],
   "source": [
    "df_feat.info()"
   ]
  },
  {
   "cell_type": "code",
   "execution_count": 10,
   "id": "a240b4ad-cf86-464e-812e-6b6ef1cf1b2f",
   "metadata": {
    "execution": {
     "iopub.execute_input": "2021-12-06T20:07:21.620334Z",
     "iopub.status.busy": "2021-12-06T20:07:21.619498Z",
     "iopub.status.idle": "2021-12-06T20:07:21.761882Z",
     "shell.execute_reply": "2021-12-06T20:07:21.760794Z",
     "shell.execute_reply.started": "2021-12-06T20:07:21.620301Z"
    }
   },
   "outputs": [],
   "source": [
    "train_feat, val_feat, train_targ, val_targ = train_val( df_feat, df_targ )\n",
    "train_targ = train_targ.llovieron_hamburguesas_al_dia_siguiente\n",
    "val_targ = val_targ.llovieron_hamburguesas_al_dia_siguiente"
   ]
  },
  {
   "cell_type": "markdown",
   "id": "c5be4845-2836-4adf-aaac-4cc7bca2993d",
   "metadata": {},
   "source": [
    "## Entrenamiento"
   ]
  },
  {
   "cell_type": "markdown",
   "id": "0c5a7f98-92c2-47bb-bb03-f5035ec16983",
   "metadata": {},
   "source": [
    "### Auto"
   ]
  },
  {
   "cell_type": "code",
   "execution_count": 11,
   "id": "4ec52b58-47dc-48d5-a25f-8fc3fa2ac92b",
   "metadata": {
    "execution": {
     "iopub.execute_input": "2021-12-06T20:07:21.763098Z",
     "iopub.status.busy": "2021-12-06T20:07:21.762899Z",
     "iopub.status.idle": "2021-12-06T20:07:21.934938Z",
     "shell.execute_reply": "2021-12-06T20:07:21.932796Z",
     "shell.execute_reply.started": "2021-12-06T20:07:21.763066Z"
    },
    "tags": []
   },
   "outputs": [],
   "source": [
    "if (runAuto):\n",
    "    knn_auto = KNeighborsClassifier()\n",
    "    params = {\n",
    "        'weights': ['uniform','distance'],\n",
    "        'n_neighbors': np.arange(5,200,5)\n",
    "    }\n",
    "    \n",
    "    knn_auto_grid = HalvingGridSearchCV(\n",
    "        knn_auto,\n",
    "        params,\n",
    "        scoring='roc_auc',\n",
    "        n_jobs=MAX_JOBS,\n",
    "        return_train_score=True,\n",
    "        verbose=1,\n",
    "    ).fit(train_feat, train_targ)\n",
    "    \n",
    "    # Guardar\n",
    "    if(saveAuto):\n",
    "        dump(knn_auto_grid, 'models/KNN/knn_auto_grid.sk')\n",
    "        dump(knn_auto_grid.best_estimator_, 'models/KNN/knn_auto.sk')\n",
    "else:\n",
    "    # Cargar\n",
    "    knn_auto_grid = load('models/KNN/knn_auto_grid.sk')"
   ]
  },
  {
   "cell_type": "code",
   "execution_count": 12,
   "id": "62f3ba9b-732c-43ff-aef7-0bc09ae0458d",
   "metadata": {
    "execution": {
     "iopub.execute_input": "2021-12-06T20:07:21.939960Z",
     "iopub.status.busy": "2021-12-06T20:07:21.939511Z",
     "iopub.status.idle": "2021-12-06T20:07:22.046318Z",
     "shell.execute_reply": "2021-12-06T20:07:22.044507Z",
     "shell.execute_reply.started": "2021-12-06T20:07:21.939911Z"
    }
   },
   "outputs": [
    {
     "name": "stdout",
     "output_type": "stream",
     "text": [
      "Best score: 0.8641528292194023\n",
      "Best params {'n_neighbors': 155, 'weights': 'distance'}\n"
     ]
    }
   ],
   "source": [
    "print(f\"Best score: {knn_auto_grid.best_score_}\")\n",
    "print(f\"Best params {knn_auto_grid.best_params_}\")"
   ]
  },
  {
   "cell_type": "code",
   "execution_count": 13,
   "id": "d40f1f7e-7f90-4852-911c-03dec1a94351",
   "metadata": {
    "execution": {
     "iopub.execute_input": "2021-12-06T20:07:22.049150Z",
     "iopub.status.busy": "2021-12-06T20:07:22.048518Z",
     "iopub.status.idle": "2021-12-06T20:07:22.201943Z",
     "shell.execute_reply": "2021-12-06T20:07:22.200743Z",
     "shell.execute_reply.started": "2021-12-06T20:07:22.049040Z"
    }
   },
   "outputs": [],
   "source": [
    "knn_auto = knn_auto_grid.best_estimator_"
   ]
  },
  {
   "cell_type": "code",
   "execution_count": 14,
   "id": "d80cf9d4-5938-4ffe-8404-700b7e9d041a",
   "metadata": {
    "execution": {
     "iopub.execute_input": "2021-12-06T20:07:22.203308Z",
     "iopub.status.busy": "2021-12-06T20:07:22.203077Z",
     "iopub.status.idle": "2021-12-06T20:07:56.070285Z",
     "shell.execute_reply": "2021-12-06T20:07:56.068851Z",
     "shell.execute_reply.started": "2021-12-06T20:07:22.203284Z"
    },
    "tags": []
   },
   "outputs": [
    {
     "name": "stdout",
     "output_type": "stream",
     "text": [
      "AUC-ROC: 0.8619167371020766\n",
      "ACCURACY: 0.8357756936303243\n",
      "PRESICION: 0.7560975609756098\n",
      "RECALL: 0.3925764192139738\n",
      "CONFUSION MATRIX\n",
      "CPU times: user 33.6 s, sys: 50.3 ms, total: 33.7 s\n",
      "Wall time: 33.6 s\n"
     ]
    },
    {
     "data": {
      "image/png": "[encoded data removed]",
      "text/plain": [
       "<Figure size 432x288 with 2 Axes>"
      ]
     },
     "metadata": {},
     "output_type": "display_data"
    }
   ],
   "source": [
    "%%time\n",
    "pred = knn_auto.predict(val_feat)\n",
    "prob = knn_auto.predict_proba(val_feat)\n",
    "score(val_targ,pred, prob[:,1])"
   ]
  }
 ],
 "metadata": {
  "kernelspec": {
   "display_name": "Python 3 (ipykernel)",
   "language": "python",
   "name": "python3"
  },
  "language_info": {
   "codemirror_mode": {
    "name": "ipython",
    "version": 3
   },
   "file_extension": ".py",
   "mimetype": "text/x-python",
   "name": "python",
   "nbconvert_exporter": "python",
   "pygments_lexer": "ipython3",
   "version": "3.9.8"
  }
 },
 "nbformat": 4,
 "nbformat_minor": 5
}
