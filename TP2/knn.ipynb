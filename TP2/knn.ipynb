{
 "cells": [
  {
   "cell_type": "markdown",
   "id": "1ee1f2d6-b47a-41f9-8fbf-63ba458ed082",
   "metadata": {
    "execution": {
     "iopub.execute_input": "2021-11-30T02:10:08.889763Z",
     "iopub.status.busy": "2021-11-30T02:10:08.889506Z",
     "iopub.status.idle": "2021-11-30T02:10:09.873670Z",
     "shell.execute_reply": "2021-11-30T02:10:09.873096Z",
     "shell.execute_reply.started": "2021-11-30T02:10:08.889697Z"
    }
   },
   "source": [
    "# KNN"
   ]
  },
  {
   "cell_type": "markdown",
   "id": "8dea3855-b4cc-4ce1-9d22-2df6a3ade5d5",
   "metadata": {
    "tags": []
   },
   "source": [
    "### Imports"
   ]
  },
  {
   "cell_type": "code",
   "execution_count": 1,
   "id": "5f9f30da-5537-4ffb-b557-f57a33525b62",
   "metadata": {
    "execution": {
     "iopub.execute_input": "2021-12-28T00:25:36.659895Z",
     "iopub.status.busy": "2021-12-28T00:25:36.659634Z",
     "iopub.status.idle": "2021-12-28T00:25:37.675596Z",
     "shell.execute_reply": "2021-12-28T00:25:37.674731Z",
     "shell.execute_reply.started": "2021-12-28T00:25:36.659801Z"
    }
   },
   "outputs": [],
   "source": [
    "import pandas as pd\n",
    "import numpy as np\n",
    "from matplotlib import pyplot as plt\n",
    "from joblib import dump, load"
   ]
  },
  {
   "cell_type": "code",
   "execution_count": 2,
   "id": "c94c7fb4-bcec-48e6-965c-9058dcbdbc53",
   "metadata": {
    "execution": {
     "iopub.execute_input": "2021-12-28T00:25:37.677085Z",
     "iopub.status.busy": "2021-12-28T00:25:37.676842Z",
     "iopub.status.idle": "2021-12-28T00:25:38.021515Z",
     "shell.execute_reply": "2021-12-28T00:25:38.020945Z",
     "shell.execute_reply.started": "2021-12-28T00:25:37.677062Z"
    },
    "tags": []
   },
   "outputs": [],
   "source": [
    "from sklearn.neighbors import KNeighborsClassifier\n",
    "from sklearn.experimental import enable_halving_search_cv\n",
    "from sklearn.model_selection import RandomizedSearchCV"
   ]
  },
  {
   "cell_type": "code",
   "execution_count": 3,
   "id": "cfb24ca0-9bd9-4b58-8b92-5092f42a4cda",
   "metadata": {
    "execution": {
     "iopub.execute_input": "2021-12-28T00:25:38.024291Z",
     "iopub.status.busy": "2021-12-28T00:25:38.024028Z",
     "iopub.status.idle": "2021-12-28T00:25:39.391745Z",
     "shell.execute_reply": "2021-12-28T00:25:39.391099Z",
     "shell.execute_reply.started": "2021-12-28T00:25:38.024253Z"
    }
   },
   "outputs": [
    {
     "name": "stdout",
     "output_type": "stream",
     "text": [
      "[###] Initial Preprocessings Done                           \n",
      "[###] Aditional Preprocessings Done                                                   \n"
     ]
    }
   ],
   "source": [
    "from preprocessing import reemplazarNulls,reemplazarCategoricas,reemplazarFechas,targetBooleano,regularizar"
   ]
  },
  {
   "cell_type": "code",
   "execution_count": 18,
   "id": "59647526-08b8-4e5c-bf24-54a1280e33e9",
   "metadata": {
    "execution": {
     "iopub.execute_input": "2021-12-28T00:41:07.126947Z",
     "iopub.status.busy": "2021-12-28T00:41:07.126631Z",
     "iopub.status.idle": "2021-12-28T00:41:07.132185Z",
     "shell.execute_reply": "2021-12-28T00:41:07.131357Z",
     "shell.execute_reply.started": "2021-12-28T00:41:07.126916Z"
    },
    "tags": []
   },
   "outputs": [],
   "source": [
    "from utilities import score, score2, df_feat, df_targ, train_val"
   ]
  },
  {
   "cell_type": "markdown",
   "id": "8b202d87-3e34-4c7c-8944-5addb5e0bccc",
   "metadata": {},
   "source": [
    "### Codigo a correr"
   ]
  },
  {
   "cell_type": "code",
   "execution_count": 5,
   "id": "1df16897-a34d-4c6c-8dfb-cdd79a3f0930",
   "metadata": {
    "execution": {
     "iopub.execute_input": "2021-12-28T00:25:39.782168Z",
     "iopub.status.busy": "2021-12-28T00:25:39.781976Z",
     "iopub.status.idle": "2021-12-28T00:25:39.785550Z",
     "shell.execute_reply": "2021-12-28T00:25:39.784697Z",
     "shell.execute_reply.started": "2021-12-28T00:25:39.782145Z"
    }
   },
   "outputs": [],
   "source": [
    "MAX_ITER = 10**6\n",
    "MAX_JOBS = -1"
   ]
  },
  {
   "cell_type": "markdown",
   "id": "ad6e03b0-054c-4ee9-a850-fb8e31a34fb2",
   "metadata": {},
   "source": [
    "**Run :** Entrenar Nuevamente o Cargar Entrenado"
   ]
  },
  {
   "cell_type": "code",
   "execution_count": 6,
   "id": "462bbeeb-82e1-4353-afc9-27893f355cab",
   "metadata": {
    "execution": {
     "iopub.execute_input": "2021-12-28T00:25:39.787139Z",
     "iopub.status.busy": "2021-12-28T00:25:39.786466Z",
     "iopub.status.idle": "2021-12-28T00:25:39.790437Z",
     "shell.execute_reply": "2021-12-28T00:25:39.789621Z",
     "shell.execute_reply.started": "2021-12-28T00:25:39.787105Z"
    },
    "tags": []
   },
   "outputs": [],
   "source": [
    "runAuto = False\n",
    "runScaled = True"
   ]
  },
  {
   "cell_type": "markdown",
   "id": "d44b2c11-34d5-44c0-a842-7a173b50993b",
   "metadata": {},
   "source": [
    "**Save :** Guardar Modelo (pisa anterior)"
   ]
  },
  {
   "cell_type": "code",
   "execution_count": 26,
   "id": "07c1439f-5b3c-4ba2-9c15-09eb314cdb77",
   "metadata": {
    "execution": {
     "iopub.execute_input": "2021-12-28T02:58:24.748701Z",
     "iopub.status.busy": "2021-12-28T02:58:24.748249Z",
     "iopub.status.idle": "2021-12-28T02:58:24.751942Z",
     "shell.execute_reply": "2021-12-28T02:58:24.751027Z",
     "shell.execute_reply.started": "2021-12-28T02:58:24.748677Z"
    },
    "tags": []
   },
   "outputs": [],
   "source": [
    "saveAuto = True\n",
    "saveScaled = True\n",
    "saveBest = True"
   ]
  },
  {
   "cell_type": "code",
   "execution_count": 8,
   "id": "5f7b0dd1-d697-4dbe-bd54-ebc312863e40",
   "metadata": {
    "execution": {
     "iopub.execute_input": "2021-12-28T00:25:39.797437Z",
     "iopub.status.busy": "2021-12-28T00:25:39.797184Z",
     "iopub.status.idle": "2021-12-28T00:25:39.800802Z",
     "shell.execute_reply": "2021-12-28T00:25:39.800205Z",
     "shell.execute_reply.started": "2021-12-28T00:25:39.797417Z"
    }
   },
   "outputs": [],
   "source": [
    "predictions = pd.DataFrame()"
   ]
  },
  {
   "cell_type": "markdown",
   "id": "6eb64672-26db-4e45-ae0d-544505b0fb83",
   "metadata": {},
   "source": [
    "### Preprocesamiento"
   ]
  },
  {
   "cell_type": "code",
   "execution_count": 9,
   "id": "1595b6db-747c-4202-b289-ceba0ec11c9b",
   "metadata": {
    "execution": {
     "iopub.execute_input": "2021-12-28T00:25:39.802537Z",
     "iopub.status.busy": "2021-12-28T00:25:39.802052Z",
     "iopub.status.idle": "2021-12-28T00:25:42.291720Z",
     "shell.execute_reply": "2021-12-28T00:25:42.290850Z",
     "shell.execute_reply.started": "2021-12-28T00:25:39.802515Z"
    },
    "tags": []
   },
   "outputs": [
    {
     "data": {
      "text/html": [
       "<div>\n",
       "<style scoped>\n",
       "    .dataframe tbody tr th:only-of-type {\n",
       "        vertical-align: middle;\n",
       "    }\n",
       "\n",
       "    .dataframe tbody tr th {\n",
       "        vertical-align: top;\n",
       "    }\n",
       "\n",
       "    .dataframe thead th {\n",
       "        text-align: right;\n",
       "    }\n",
       "</style>\n",
       "<table border=\"1\" class=\"dataframe\">\n",
       "  <thead>\n",
       "    <tr style=\"text-align: right;\">\n",
       "      <th></th>\n",
       "      <th>direccion_viento_tarde</th>\n",
       "      <th>direccion_viento_temprano</th>\n",
       "      <th>horas_de_sol</th>\n",
       "      <th>humedad_tarde</th>\n",
       "      <th>humedad_temprano</th>\n",
       "      <th>mm_lluvia_dia</th>\n",
       "      <th>nubosidad_tarde</th>\n",
       "      <th>presion_atmosferica_tarde</th>\n",
       "      <th>rafaga_viento_max_direccion</th>\n",
       "      <th>rafaga_viento_max_velocidad</th>\n",
       "      <th>velocidad_viendo_tarde</th>\n",
       "    </tr>\n",
       "    <tr>\n",
       "      <th>id</th>\n",
       "      <th></th>\n",
       "      <th></th>\n",
       "      <th></th>\n",
       "      <th></th>\n",
       "      <th></th>\n",
       "      <th></th>\n",
       "      <th></th>\n",
       "      <th></th>\n",
       "      <th></th>\n",
       "      <th></th>\n",
       "      <th></th>\n",
       "    </tr>\n",
       "  </thead>\n",
       "  <tbody>\n",
       "    <tr>\n",
       "      <th>74816</th>\n",
       "      <td>0.736537</td>\n",
       "      <td>0.645996</td>\n",
       "      <td>-2.018030</td>\n",
       "      <td>1.277923</td>\n",
       "      <td>0.270523</td>\n",
       "      <td>7.914307</td>\n",
       "      <td>0.916539</td>\n",
       "      <td>1.269394</td>\n",
       "      <td>0.802215</td>\n",
       "      <td>0.589120</td>\n",
       "      <td>0.834079</td>\n",
       "    </tr>\n",
       "    <tr>\n",
       "      <th>64318</th>\n",
       "      <td>0.317434</td>\n",
       "      <td>-1.382279</td>\n",
       "      <td>-2.018030</td>\n",
       "      <td>-1.806334</td>\n",
       "      <td>-0.675093</td>\n",
       "      <td>0.417359</td>\n",
       "      <td>-1.288420</td>\n",
       "      <td>-2.406972</td>\n",
       "      <td>0.393094</td>\n",
       "      <td>1.544505</td>\n",
       "      <td>1.402051</td>\n",
       "    </tr>\n",
       "    <tr>\n",
       "      <th>54357</th>\n",
       "      <td>-0.730326</td>\n",
       "      <td>-0.570969</td>\n",
       "      <td>-1.330311</td>\n",
       "      <td>1.326115</td>\n",
       "      <td>-1.147901</td>\n",
       "      <td>-0.281713</td>\n",
       "      <td>1.284033</td>\n",
       "      <td>-2.094694</td>\n",
       "      <td>-0.834272</td>\n",
       "      <td>1.250541</td>\n",
       "      <td>1.629239</td>\n",
       "    </tr>\n",
       "    <tr>\n",
       "      <th>1762</th>\n",
       "      <td>1.574745</td>\n",
       "      <td>0.848823</td>\n",
       "      <td>-2.018030</td>\n",
       "      <td>1.952605</td>\n",
       "      <td>1.426276</td>\n",
       "      <td>0.320935</td>\n",
       "      <td>1.284033</td>\n",
       "      <td>0.020281</td>\n",
       "      <td>-1.447954</td>\n",
       "      <td>1.030067</td>\n",
       "      <td>1.402051</td>\n",
       "    </tr>\n",
       "    <tr>\n",
       "      <th>89422</th>\n",
       "      <td>-1.149430</td>\n",
       "      <td>-1.179451</td>\n",
       "      <td>-2.018030</td>\n",
       "      <td>-1.806334</td>\n",
       "      <td>-1.673244</td>\n",
       "      <td>-0.281713</td>\n",
       "      <td>-0.920927</td>\n",
       "      <td>-1.257220</td>\n",
       "      <td>-0.834272</td>\n",
       "      <td>0.736103</td>\n",
       "      <td>0.038918</td>\n",
       "    </tr>\n",
       "    <tr>\n",
       "      <th>...</th>\n",
       "      <td>...</td>\n",
       "      <td>...</td>\n",
       "      <td>...</td>\n",
       "      <td>...</td>\n",
       "      <td>...</td>\n",
       "      <td>...</td>\n",
       "      <td>...</td>\n",
       "      <td>...</td>\n",
       "      <td>...</td>\n",
       "      <td>...</td>\n",
       "      <td>...</td>\n",
       "    </tr>\n",
       "    <tr>\n",
       "      <th>49272</th>\n",
       "      <td>-0.101670</td>\n",
       "      <td>-0.570969</td>\n",
       "      <td>-0.298733</td>\n",
       "      <td>0.555051</td>\n",
       "      <td>-1.305504</td>\n",
       "      <td>-0.233501</td>\n",
       "      <td>0.549046</td>\n",
       "      <td>-0.490719</td>\n",
       "      <td>-0.834272</td>\n",
       "      <td>2.352908</td>\n",
       "      <td>2.083617</td>\n",
       "    </tr>\n",
       "    <tr>\n",
       "      <th>13885</th>\n",
       "      <td>0.946089</td>\n",
       "      <td>1.457306</td>\n",
       "      <td>-1.462565</td>\n",
       "      <td>0.651434</td>\n",
       "      <td>0.585729</td>\n",
       "      <td>0.345041</td>\n",
       "      <td>0.916539</td>\n",
       "      <td>0.318365</td>\n",
       "      <td>1.211337</td>\n",
       "      <td>0.589120</td>\n",
       "      <td>1.402051</td>\n",
       "    </tr>\n",
       "    <tr>\n",
       "      <th>4586</th>\n",
       "      <td>0.736537</td>\n",
       "      <td>1.660133</td>\n",
       "      <td>-2.018030</td>\n",
       "      <td>1.422498</td>\n",
       "      <td>-0.359888</td>\n",
       "      <td>-0.281713</td>\n",
       "      <td>0.916539</td>\n",
       "      <td>-0.064885</td>\n",
       "      <td>-1.447954</td>\n",
       "      <td>-0.366265</td>\n",
       "      <td>-1.892186</td>\n",
       "    </tr>\n",
       "    <tr>\n",
       "      <th>68030</th>\n",
       "      <td>-1.149430</td>\n",
       "      <td>-0.773796</td>\n",
       "      <td>-1.779974</td>\n",
       "      <td>1.326115</td>\n",
       "      <td>-0.202285</td>\n",
       "      <td>-0.281713</td>\n",
       "      <td>1.284033</td>\n",
       "      <td>-2.052110</td>\n",
       "      <td>-0.629711</td>\n",
       "      <td>1.177050</td>\n",
       "      <td>0.606890</td>\n",
       "    </tr>\n",
       "    <tr>\n",
       "      <th>32535</th>\n",
       "      <td>1.574745</td>\n",
       "      <td>1.457306</td>\n",
       "      <td>0.812198</td>\n",
       "      <td>0.217710</td>\n",
       "      <td>-0.202285</td>\n",
       "      <td>-0.281713</td>\n",
       "      <td>-0.920927</td>\n",
       "      <td>0.588060</td>\n",
       "      <td>1.415898</td>\n",
       "      <td>0.589120</td>\n",
       "      <td>1.288456</td>\n",
       "    </tr>\n",
       "  </tbody>\n",
       "</table>\n",
       "<p>102356 rows × 11 columns</p>\n",
       "</div>"
      ],
      "text/plain": [
       "       direccion_viento_tarde  direccion_viento_temprano  horas_de_sol  \\\n",
       "id                                                                       \n",
       "74816                0.736537                   0.645996     -2.018030   \n",
       "64318                0.317434                  -1.382279     -2.018030   \n",
       "54357               -0.730326                  -0.570969     -1.330311   \n",
       "1762                 1.574745                   0.848823     -2.018030   \n",
       "89422               -1.149430                  -1.179451     -2.018030   \n",
       "...                       ...                        ...           ...   \n",
       "49272               -0.101670                  -0.570969     -0.298733   \n",
       "13885                0.946089                   1.457306     -1.462565   \n",
       "4586                 0.736537                   1.660133     -2.018030   \n",
       "68030               -1.149430                  -0.773796     -1.779974   \n",
       "32535                1.574745                   1.457306      0.812198   \n",
       "\n",
       "       humedad_tarde  humedad_temprano  mm_lluvia_dia  nubosidad_tarde  \\\n",
       "id                                                                       \n",
       "74816       1.277923          0.270523       7.914307         0.916539   \n",
       "64318      -1.806334         -0.675093       0.417359        -1.288420   \n",
       "54357       1.326115         -1.147901      -0.281713         1.284033   \n",
       "1762        1.952605          1.426276       0.320935         1.284033   \n",
       "89422      -1.806334         -1.673244      -0.281713        -0.920927   \n",
       "...              ...               ...            ...              ...   \n",
       "49272       0.555051         -1.305504      -0.233501         0.549046   \n",
       "13885       0.651434          0.585729       0.345041         0.916539   \n",
       "4586        1.422498         -0.359888      -0.281713         0.916539   \n",
       "68030       1.326115         -0.202285      -0.281713         1.284033   \n",
       "32535       0.217710         -0.202285      -0.281713        -0.920927   \n",
       "\n",
       "       presion_atmosferica_tarde  rafaga_viento_max_direccion  \\\n",
       "id                                                              \n",
       "74816                   1.269394                     0.802215   \n",
       "64318                  -2.406972                     0.393094   \n",
       "54357                  -2.094694                    -0.834272   \n",
       "1762                    0.020281                    -1.447954   \n",
       "89422                  -1.257220                    -0.834272   \n",
       "...                          ...                          ...   \n",
       "49272                  -0.490719                    -0.834272   \n",
       "13885                   0.318365                     1.211337   \n",
       "4586                   -0.064885                    -1.447954   \n",
       "68030                  -2.052110                    -0.629711   \n",
       "32535                   0.588060                     1.415898   \n",
       "\n",
       "       rafaga_viento_max_velocidad  velocidad_viendo_tarde  \n",
       "id                                                          \n",
       "74816                     0.589120                0.834079  \n",
       "64318                     1.544505                1.402051  \n",
       "54357                     1.250541                1.629239  \n",
       "1762                      1.030067                1.402051  \n",
       "89422                     0.736103                0.038918  \n",
       "...                            ...                     ...  \n",
       "49272                     2.352908                2.083617  \n",
       "13885                     0.589120                1.402051  \n",
       "4586                     -0.366265               -1.892186  \n",
       "68030                     1.177050                0.606890  \n",
       "32535                     0.589120                1.288456  \n",
       "\n",
       "[102356 rows x 11 columns]"
      ]
     },
     "execution_count": 9,
     "metadata": {},
     "output_type": "execute_result"
    }
   ],
   "source": [
    "df_targ=targetBooleano(df_targ)\n",
    "reemplazarNulls(df_feat , inplace=True)\n",
    "reemplazarCategoricas(df_feat , inplace=True)\n",
    "reemplazarFechas(df_feat , inplace=True)\n",
    "\n",
    "scaled_feat = regularizar(df_feat , scaleFunc='std')\n",
    "regularizar(df_feat , inplace=True)"
   ]
  },
  {
   "cell_type": "code",
   "execution_count": 10,
   "id": "0a2ab13c-8af8-4f56-bdec-192a92a7fa25",
   "metadata": {
    "execution": {
     "iopub.execute_input": "2021-12-28T00:25:42.292943Z",
     "iopub.status.busy": "2021-12-28T00:25:42.292623Z",
     "iopub.status.idle": "2021-12-28T00:25:42.308047Z",
     "shell.execute_reply": "2021-12-28T00:25:42.307300Z",
     "shell.execute_reply.started": "2021-12-28T00:25:42.292922Z"
    }
   },
   "outputs": [
    {
     "name": "stdout",
     "output_type": "stream",
     "text": [
      "<class 'pandas.core.frame.DataFrame'>\n",
      "Int64Index: 102356 entries, 74816 to 32535\n",
      "Data columns (total 11 columns):\n",
      " #   Column                       Non-Null Count   Dtype  \n",
      "---  ------                       --------------   -----  \n",
      " 0   direccion_viento_tarde       102356 non-null  float64\n",
      " 1   direccion_viento_temprano    102356 non-null  float64\n",
      " 2   horas_de_sol                 102356 non-null  float64\n",
      " 3   humedad_tarde                102356 non-null  float64\n",
      " 4   humedad_temprano             102356 non-null  float64\n",
      " 5   mm_lluvia_dia                102356 non-null  float64\n",
      " 6   nubosidad_tarde              102356 non-null  float64\n",
      " 7   presion_atmosferica_tarde    102356 non-null  float64\n",
      " 8   rafaga_viento_max_direccion  102356 non-null  float64\n",
      " 9   rafaga_viento_max_velocidad  102356 non-null  float64\n",
      " 10  velocidad_viendo_tarde       102356 non-null  float64\n",
      "dtypes: float64(11)\n",
      "memory usage: 9.4 MB\n"
     ]
    }
   ],
   "source": [
    "df_feat.info()"
   ]
  },
  {
   "cell_type": "code",
   "execution_count": 11,
   "id": "a240b4ad-cf86-464e-812e-6b6ef1cf1b2f",
   "metadata": {
    "execution": {
     "iopub.execute_input": "2021-12-28T00:25:42.310794Z",
     "iopub.status.busy": "2021-12-28T00:25:42.310191Z",
     "iopub.status.idle": "2021-12-28T00:25:42.363320Z",
     "shell.execute_reply": "2021-12-28T00:25:42.362119Z",
     "shell.execute_reply.started": "2021-12-28T00:25:42.310735Z"
    }
   },
   "outputs": [],
   "source": [
    "train_feat, val_feat, train_targ, val_targ = train_val( df_feat, df_targ, True )"
   ]
  },
  {
   "cell_type": "code",
   "execution_count": 12,
   "id": "a3aee078-14d5-4616-837b-ab589fb1b109",
   "metadata": {
    "execution": {
     "iopub.execute_input": "2021-12-28T00:25:42.369903Z",
     "iopub.status.busy": "2021-12-28T00:25:42.369292Z",
     "iopub.status.idle": "2021-12-28T00:25:42.422907Z",
     "shell.execute_reply": "2021-12-28T00:25:42.422110Z",
     "shell.execute_reply.started": "2021-12-28T00:25:42.369878Z"
    }
   },
   "outputs": [],
   "source": [
    "train_feat2, val_feat2, train_targ2, val_targ2 = train_val( scaled_feat, df_targ, True )"
   ]
  },
  {
   "cell_type": "markdown",
   "id": "c5be4845-2836-4adf-aaac-4cc7bca2993d",
   "metadata": {},
   "source": [
    "## Entrenamiento"
   ]
  },
  {
   "cell_type": "markdown",
   "id": "0c5a7f98-92c2-47bb-bb03-f5035ec16983",
   "metadata": {},
   "source": [
    "### Auto"
   ]
  },
  {
   "cell_type": "code",
   "execution_count": 13,
   "id": "4ec52b58-47dc-48d5-a25f-8fc3fa2ac92b",
   "metadata": {
    "execution": {
     "iopub.execute_input": "2021-12-28T00:25:42.424565Z",
     "iopub.status.busy": "2021-12-28T00:25:42.424064Z",
     "iopub.status.idle": "2021-12-28T00:37:28.633924Z",
     "shell.execute_reply": "2021-12-28T00:37:28.633303Z",
     "shell.execute_reply.started": "2021-12-28T00:25:42.424540Z"
    },
    "tags": []
   },
   "outputs": [],
   "source": [
    "if (runAuto):\n",
    "    knn_auto = KNeighborsClassifier()\n",
    "    params = {\n",
    "        'weights': ['uniform','distance'],\n",
    "        'n_neighbors': np.arange(30,200,30)\n",
    "    }\n",
    "    \n",
    "    knn_auto_grid = HalvingGridSearchCV(\n",
    "        knn_auto,\n",
    "        params,\n",
    "        scoring='roc_auc',\n",
    "        n_jobs=MAX_JOBS,\n",
    "        return_train_score=True,\n",
    "        verbose=1,\n",
    "    ).fit(train_feat, train_targ)\n",
    "    \n",
    "    # Guardar\n",
    "    if(saveAuto):\n",
    "        dump(knn_auto_grid, 'models/KNN/knn_grid.sk')\n",
    "else:\n",
    "    # Cargar\n",
    "    knn_auto_grid = load('models/KNN/knn_grid.sk')"
   ]
  },
  {
   "cell_type": "code",
   "execution_count": 14,
   "id": "62f3ba9b-732c-43ff-aef7-0bc09ae0458d",
   "metadata": {
    "execution": {
     "iopub.execute_input": "2021-12-28T00:37:28.635780Z",
     "iopub.status.busy": "2021-12-28T00:37:28.635452Z",
     "iopub.status.idle": "2021-12-28T00:37:28.640386Z",
     "shell.execute_reply": "2021-12-28T00:37:28.639343Z",
     "shell.execute_reply.started": "2021-12-28T00:37:28.635753Z"
    }
   },
   "outputs": [
    {
     "name": "stdout",
     "output_type": "stream",
     "text": [
      "Best score: 0.8662587242836324\n",
      "Best params {'weights': 'distance', 'n_neighbors': 90}\n"
     ]
    }
   ],
   "source": [
    "print(f\"Best score: {knn_auto_grid.best_score_}\")\n",
    "print(f\"Best params {knn_auto_grid.best_params_}\")"
   ]
  },
  {
   "cell_type": "code",
   "execution_count": 15,
   "id": "d40f1f7e-7f90-4852-911c-03dec1a94351",
   "metadata": {
    "execution": {
     "iopub.execute_input": "2021-12-28T00:37:28.642584Z",
     "iopub.status.busy": "2021-12-28T00:37:28.642241Z",
     "iopub.status.idle": "2021-12-28T00:37:28.647874Z",
     "shell.execute_reply": "2021-12-28T00:37:28.646535Z",
     "shell.execute_reply.started": "2021-12-28T00:37:28.642552Z"
    }
   },
   "outputs": [],
   "source": [
    "knn_auto = knn_auto_grid.best_estimator_"
   ]
  },
  {
   "cell_type": "code",
   "execution_count": 16,
   "id": "d80cf9d4-5938-4ffe-8404-700b7e9d041a",
   "metadata": {
    "execution": {
     "iopub.execute_input": "2021-12-28T00:37:28.650639Z",
     "iopub.status.busy": "2021-12-28T00:37:28.649685Z",
     "iopub.status.idle": "2021-12-28T00:37:49.997830Z",
     "shell.execute_reply": "2021-12-28T00:37:49.997113Z",
     "shell.execute_reply.started": "2021-12-28T00:37:28.650602Z"
    },
    "tags": []
   },
   "outputs": [
    {
     "name": "stdout",
     "output_type": "stream",
     "text": [
      "AUC-ROC: 0.8656961235061557\n",
      "              precision    recall  f1-score   support\n",
      "\n",
      "       False       0.85      0.96      0.90      7946\n",
      "        True       0.75      0.42      0.54      2290\n",
      "\n",
      "    accuracy                           0.84     10236\n",
      "   macro avg       0.80      0.69      0.72     10236\n",
      "weighted avg       0.83      0.84      0.82     10236\n",
      "\n",
      "CONFUSION MATRIX\n",
      "CPU times: user 19.7 s, sys: 96.5 ms, total: 19.8 s\n",
      "Wall time: 19.8 s\n"
     ]
    },
    {
     "data": {
      "image/png": "[encoded data removed]",
      "text/plain": [
       "<Figure size 432x288 with 2 Axes>"
      ]
     },
     "metadata": {},
     "output_type": "display_data"
    }
   ],
   "source": [
    "%%time\n",
    "pred = knn_auto.predict(val_feat)\n",
    "prob = knn_auto.predict_proba(val_feat)\n",
    "score(val_targ,pred, prob[:,1])"
   ]
  },
  {
   "cell_type": "code",
   "execution_count": 19,
   "id": "c2ad0b57-19ac-4ff7-a8b2-7ce365107653",
   "metadata": {
    "execution": {
     "iopub.execute_input": "2021-12-28T00:41:11.823226Z",
     "iopub.status.busy": "2021-12-28T00:41:11.822995Z",
     "iopub.status.idle": "2021-12-28T00:41:11.857141Z",
     "shell.execute_reply": "2021-12-28T00:41:11.856507Z",
     "shell.execute_reply.started": "2021-12-28T00:41:11.823203Z"
    },
    "tags": []
   },
   "outputs": [],
   "source": [
    "pdf = score2('KNN 1','Regularizado',val_targ, pred, prob[:,1])\n",
    "predictions = predictions.append( pdf )"
   ]
  },
  {
   "cell_type": "markdown",
   "id": "bbb47004-e319-47b3-8aa3-6503cb7430d8",
   "metadata": {},
   "source": [
    "### Scaled"
   ]
  },
  {
   "cell_type": "code",
   "execution_count": 20,
   "id": "85f40da2-816c-4f36-90d9-614374a79abd",
   "metadata": {
    "execution": {
     "iopub.execute_input": "2021-12-28T00:41:13.859759Z",
     "iopub.status.busy": "2021-12-28T00:41:13.859483Z",
     "iopub.status.idle": "2021-12-28T00:50:55.298969Z",
     "shell.execute_reply": "2021-12-28T00:50:55.298396Z",
     "shell.execute_reply.started": "2021-12-28T00:41:13.859733Z"
    },
    "tags": []
   },
   "outputs": [],
   "source": [
    "if (runScaled):\n",
    "    knn_scaled = KNeighborsClassifier()\n",
    "    params = {\n",
    "        'weights': ['uniform','distance'],\n",
    "        'n_neighbors': np.arange(30,200,30)\n",
    "    }\n",
    "    \n",
    "    knn_scaled_grid = HalvingGridSearchCV(\n",
    "        knn_scaled,\n",
    "        params,\n",
    "        scoring='roc_auc',\n",
    "        n_jobs=MAX_JOBS,\n",
    "        return_train_score=True,\n",
    "        verbose=1,\n",
    "    ).fit(train_feat2, train_targ2)\n",
    "    \n",
    "    # Guardar\n",
    "    if(saveScaled):\n",
    "        dump(knn_scaled_grid, 'models/KNN/knn_scaled_grid.sk')\n",
    "else:\n",
    "    # Cargar\n",
    "    knn_scaled_grid = load('models/KNN/knn_scaled_grid.sk')"
   ]
  },
  {
   "cell_type": "code",
   "execution_count": 21,
   "id": "e9510527-8bc6-4314-b376-9d5a7527c12c",
   "metadata": {
    "execution": {
     "iopub.execute_input": "2021-12-28T00:50:55.300743Z",
     "iopub.status.busy": "2021-12-28T00:50:55.300330Z",
     "iopub.status.idle": "2021-12-28T00:50:55.304886Z",
     "shell.execute_reply": "2021-12-28T00:50:55.304273Z",
     "shell.execute_reply.started": "2021-12-28T00:50:55.300716Z"
    },
    "tags": []
   },
   "outputs": [
    {
     "name": "stdout",
     "output_type": "stream",
     "text": [
      "Best score: 0.8616479270376344\n",
      "Best params {'weights': 'distance', 'n_neighbors': 95}\n"
     ]
    }
   ],
   "source": [
    "print(f\"Best score: {knn_scaled_grid.best_score_}\")\n",
    "print(f\"Best params {knn_scaled_grid.best_params_}\")"
   ]
  },
  {
   "cell_type": "code",
   "execution_count": 22,
   "id": "0b9dd21e-58ac-4409-9baf-a84a9e2bd7fc",
   "metadata": {
    "execution": {
     "iopub.execute_input": "2021-12-28T00:50:55.306239Z",
     "iopub.status.busy": "2021-12-28T00:50:55.305828Z",
     "iopub.status.idle": "2021-12-28T00:50:55.309135Z",
     "shell.execute_reply": "2021-12-28T00:50:55.308615Z",
     "shell.execute_reply.started": "2021-12-28T00:50:55.306209Z"
    },
    "tags": []
   },
   "outputs": [],
   "source": [
    "knn_scaled = knn_scaled_grid.best_estimator_"
   ]
  },
  {
   "cell_type": "code",
   "execution_count": 23,
   "id": "1d3efacf-db66-41ba-80a0-7cb38346896b",
   "metadata": {
    "execution": {
     "iopub.execute_input": "2021-12-28T00:50:55.311149Z",
     "iopub.status.busy": "2021-12-28T00:50:55.310886Z",
     "iopub.status.idle": "2021-12-28T00:51:11.370552Z",
     "shell.execute_reply": "2021-12-28T00:51:11.369915Z",
     "shell.execute_reply.started": "2021-12-28T00:50:55.311124Z"
    },
    "tags": []
   },
   "outputs": [
    {
     "name": "stdout",
     "output_type": "stream",
     "text": [
      "AUC-ROC: 0.8615026977952709\n",
      "              precision    recall  f1-score   support\n",
      "\n",
      "       False       0.84      0.96      0.90      7946\n",
      "        True       0.76      0.39      0.51      2290\n",
      "\n",
      "    accuracy                           0.83     10236\n",
      "   macro avg       0.80      0.68      0.71     10236\n",
      "weighted avg       0.83      0.83      0.81     10236\n",
      "\n",
      "CONFUSION MATRIX\n",
      "CPU times: user 17.8 s, sys: 55.6 ms, total: 17.8 s\n",
      "Wall time: 17.8 s\n"
     ]
    },
    {
     "data": {
      "image/png": "[encoded data removed]",
      "text/plain": [
       "<Figure size 432x288 with 2 Axes>"
      ]
     },
     "metadata": {},
     "output_type": "display_data"
    }
   ],
   "source": [
    "%%time\n",
    "pred = knn_scaled.predict(val_feat2)\n",
    "prob = knn_scaled.predict_proba(val_feat2)\n",
    "score(val_targ2,pred, prob[:,1])"
   ]
  },
  {
   "cell_type": "code",
   "execution_count": 24,
   "id": "b79929a2-dbb9-4e89-bfdf-0785152ece53",
   "metadata": {
    "execution": {
     "iopub.execute_input": "2021-12-28T00:51:11.371875Z",
     "iopub.status.busy": "2021-12-28T00:51:11.371483Z",
     "iopub.status.idle": "2021-12-28T00:51:11.409026Z",
     "shell.execute_reply": "2021-12-28T00:51:11.408376Z",
     "shell.execute_reply.started": "2021-12-28T00:51:11.371853Z"
    },
    "tags": []
   },
   "outputs": [],
   "source": [
    "pdf = score2('KNN 2','Regularizado y Escalado',val_targ2, pred, prob[:,1])\n",
    "predictions = predictions.append( pdf )"
   ]
  },
  {
   "cell_type": "markdown",
   "id": "700b83be-122f-4cf7-bb78-e126565f50d3",
   "metadata": {},
   "source": [
    "## Resultados"
   ]
  },
  {
   "cell_type": "code",
   "execution_count": 25,
   "id": "75cb47ee-784d-4bab-8b80-0d4307685153",
   "metadata": {
    "execution": {
     "iopub.execute_input": "2021-12-28T00:51:11.410408Z",
     "iopub.status.busy": "2021-12-28T00:51:11.410059Z",
     "iopub.status.idle": "2021-12-28T00:51:11.424965Z",
     "shell.execute_reply": "2021-12-28T00:51:11.424390Z",
     "shell.execute_reply.started": "2021-12-28T00:51:11.410385Z"
    },
    "tags": []
   },
   "outputs": [
    {
     "data": {
      "text/html": [
       "<div>\n",
       "<style scoped>\n",
       "    .dataframe tbody tr th:only-of-type {\n",
       "        vertical-align: middle;\n",
       "    }\n",
       "\n",
       "    .dataframe tbody tr th {\n",
       "        vertical-align: top;\n",
       "    }\n",
       "\n",
       "    .dataframe thead th {\n",
       "        text-align: right;\n",
       "    }\n",
       "</style>\n",
       "<table border=\"1\" class=\"dataframe\">\n",
       "  <thead>\n",
       "    <tr style=\"text-align: right;\">\n",
       "      <th></th>\n",
       "      <th>Modelo</th>\n",
       "      <th>Preprocesamientos</th>\n",
       "      <th>Clase</th>\n",
       "      <th>AUC-ROC</th>\n",
       "      <th>Accuracy</th>\n",
       "      <th>Precision</th>\n",
       "      <th>Recall</th>\n",
       "      <th>F1 score</th>\n",
       "      <th>Support</th>\n",
       "    </tr>\n",
       "  </thead>\n",
       "  <tbody>\n",
       "    <tr>\n",
       "      <th>0</th>\n",
       "      <td>KNN 1</td>\n",
       "      <td>Regularizado</td>\n",
       "      <td>AVG</td>\n",
       "      <td>0.865696</td>\n",
       "      <td>0.839586</td>\n",
       "      <td>0.829835</td>\n",
       "      <td>0.839586</td>\n",
       "      <td>0.821687</td>\n",
       "      <td>10236</td>\n",
       "    </tr>\n",
       "    <tr>\n",
       "      <th>1</th>\n",
       "      <td>KNN 1</td>\n",
       "      <td>Regularizado</td>\n",
       "      <td>True</td>\n",
       "      <td>NaN</td>\n",
       "      <td>NaN</td>\n",
       "      <td>0.753125</td>\n",
       "      <td>0.420961</td>\n",
       "      <td>0.540056</td>\n",
       "      <td>2290</td>\n",
       "    </tr>\n",
       "    <tr>\n",
       "      <th>2</th>\n",
       "      <td>KNN 1</td>\n",
       "      <td>Regularizado</td>\n",
       "      <td>False</td>\n",
       "      <td>NaN</td>\n",
       "      <td>NaN</td>\n",
       "      <td>0.851943</td>\n",
       "      <td>0.960232</td>\n",
       "      <td>0.902852</td>\n",
       "      <td>7946</td>\n",
       "    </tr>\n",
       "    <tr>\n",
       "      <th>0</th>\n",
       "      <td>KNN 2</td>\n",
       "      <td>Regularizado y Escalado</td>\n",
       "      <td>AVG</td>\n",
       "      <td>0.861503</td>\n",
       "      <td>0.834799</td>\n",
       "      <td>0.825081</td>\n",
       "      <td>0.834799</td>\n",
       "      <td>0.813472</td>\n",
       "      <td>10236</td>\n",
       "    </tr>\n",
       "    <tr>\n",
       "      <th>1</th>\n",
       "      <td>KNN 2</td>\n",
       "      <td>Regularizado y Escalado</td>\n",
       "      <td>True</td>\n",
       "      <td>NaN</td>\n",
       "      <td>NaN</td>\n",
       "      <td>0.756202</td>\n",
       "      <td>0.386026</td>\n",
       "      <td>0.511130</td>\n",
       "      <td>2290</td>\n",
       "    </tr>\n",
       "    <tr>\n",
       "      <th>2</th>\n",
       "      <td>KNN 2</td>\n",
       "      <td>Regularizado y Escalado</td>\n",
       "      <td>False</td>\n",
       "      <td>NaN</td>\n",
       "      <td>NaN</td>\n",
       "      <td>0.844932</td>\n",
       "      <td>0.964133</td>\n",
       "      <td>0.900605</td>\n",
       "      <td>7946</td>\n",
       "    </tr>\n",
       "  </tbody>\n",
       "</table>\n",
       "</div>"
      ],
      "text/plain": [
       "  Modelo        Preprocesamientos  Clase   AUC-ROC  Accuracy  Precision  \\\n",
       "0  KNN 1             Regularizado    AVG  0.865696  0.839586   0.829835   \n",
       "1  KNN 1             Regularizado   True       NaN       NaN   0.753125   \n",
       "2  KNN 1             Regularizado  False       NaN       NaN   0.851943   \n",
       "0  KNN 2  Regularizado y Escalado    AVG  0.861503  0.834799   0.825081   \n",
       "1  KNN 2  Regularizado y Escalado   True       NaN       NaN   0.756202   \n",
       "2  KNN 2  Regularizado y Escalado  False       NaN       NaN   0.844932   \n",
       "\n",
       "     Recall  F1 score Support  \n",
       "0  0.839586  0.821687   10236  \n",
       "1  0.420961  0.540056    2290  \n",
       "2  0.960232  0.902852    7946  \n",
       "0  0.834799  0.813472   10236  \n",
       "1  0.386026  0.511130    2290  \n",
       "2  0.964133  0.900605    7946  "
      ]
     },
     "execution_count": 23,
     "metadata": {},
     "output_type": "execute_result"
    }
   ],
   "source": [
    "predictions"
   ]
  },
  {
   "cell_type": "code",
   "execution_count": 27,
   "id": "2b9ac136-5bd2-49b9-8695-db3ffba241ae",
   "metadata": {
    "execution": {
     "iopub.execute_input": "2021-12-28T02:58:27.917983Z",
     "iopub.status.busy": "2021-12-28T02:58:27.917728Z",
     "iopub.status.idle": "2021-12-28T02:58:27.945698Z",
     "shell.execute_reply": "2021-12-28T02:58:27.944604Z",
     "shell.execute_reply.started": "2021-12-28T02:58:27.917960Z"
    },
    "tags": []
   },
   "outputs": [],
   "source": [
    "if(saveBest):\n",
    "    dump(knn_auto, 'models/KNN/knn.sk')"
   ]
  }
 ],
 "metadata": {
  "kernelspec": {
   "display_name": "Python 3 (ipykernel)",
   "language": "python",
   "name": "python3"
  },
  "language_info": {
   "codemirror_mode": {
    "name": "ipython",
    "version": 3
   },
   "file_extension": ".py",
   "mimetype": "text/x-python",
   "name": "python",
   "nbconvert_exporter": "python",
   "pygments_lexer": "ipython3",
   "version": "3.9.9"
  }
 },
 "nbformat": 4,
 "nbformat_minor": 5
}
