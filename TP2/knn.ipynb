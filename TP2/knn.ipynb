{
 "cells": [
  {
   "cell_type": "markdown",
   "id": "1ee1f2d6-b47a-41f9-8fbf-63ba458ed082",
   "metadata": {
    "execution": {
     "iopub.execute_input": "2021-11-30T02:10:08.889763Z",
     "iopub.status.busy": "2021-11-30T02:10:08.889506Z",
     "iopub.status.idle": "2021-11-30T02:10:09.873670Z",
     "shell.execute_reply": "2021-11-30T02:10:09.873096Z",
     "shell.execute_reply.started": "2021-11-30T02:10:08.889697Z"
    }
   },
   "source": [
    "# KNN"
   ]
  },
  {
   "cell_type": "markdown",
   "id": "8dea3855-b4cc-4ce1-9d22-2df6a3ade5d5",
   "metadata": {
    "tags": []
   },
   "source": [
    "### Imports"
   ]
  },
  {
   "cell_type": "code",
   "execution_count": 1,
   "id": "5f9f30da-5537-4ffb-b557-f57a33525b62",
   "metadata": {
    "execution": {
     "iopub.execute_input": "2021-12-28T20:45:34.226046Z",
     "iopub.status.busy": "2021-12-28T20:45:34.225778Z",
     "iopub.status.idle": "2021-12-28T20:45:35.325708Z",
     "shell.execute_reply": "2021-12-28T20:45:35.325012Z",
     "shell.execute_reply.started": "2021-12-28T20:45:34.225989Z"
    }
   },
   "outputs": [],
   "source": [
    "import pandas as pd\n",
    "import numpy as np\n",
    "from matplotlib import pyplot as plt\n",
    "from joblib import dump, load"
   ]
  },
  {
   "cell_type": "code",
   "execution_count": 2,
   "id": "c94c7fb4-bcec-48e6-965c-9058dcbdbc53",
   "metadata": {
    "execution": {
     "iopub.execute_input": "2021-12-28T20:45:35.326929Z",
     "iopub.status.busy": "2021-12-28T20:45:35.326578Z",
     "iopub.status.idle": "2021-12-28T20:45:35.764756Z",
     "shell.execute_reply": "2021-12-28T20:45:35.764009Z",
     "shell.execute_reply.started": "2021-12-28T20:45:35.326883Z"
    },
    "tags": []
   },
   "outputs": [],
   "source": [
    "from sklearn.neighbors import KNeighborsClassifier\n",
    "from sklearn.experimental import enable_halving_search_cv\n",
    "from sklearn.model_selection import RandomizedSearchCV, HalvingGridSearchCV"
   ]
  },
  {
   "cell_type": "code",
   "execution_count": 3,
   "id": "cfb24ca0-9bd9-4b58-8b92-5092f42a4cda",
   "metadata": {
    "execution": {
     "iopub.execute_input": "2021-12-28T20:45:35.767754Z",
     "iopub.status.busy": "2021-12-28T20:45:35.767484Z",
     "iopub.status.idle": "2021-12-28T20:45:37.000144Z",
     "shell.execute_reply": "2021-12-28T20:45:36.999467Z",
     "shell.execute_reply.started": "2021-12-28T20:45:35.767731Z"
    },
    "tags": []
   },
   "outputs": [
    {
     "name": "stdout",
     "output_type": "stream",
     "text": [
      "[###] Initial Preprocessings Done                           \n",
      "[###] Aditional Preprocessings Done                                                   \n"
     ]
    }
   ],
   "source": [
    "from preprocessing import reemplazarNulls,reemplazarCategoricas,reemplazarFechas,targetBooleano,regularizar,reemplazarCategoricas_OHE,reemplazarNullsNum,keepFeat_OHE"
   ]
  },
  {
   "cell_type": "code",
   "execution_count": 4,
   "id": "59647526-08b8-4e5c-bf24-54a1280e33e9",
   "metadata": {
    "execution": {
     "iopub.execute_input": "2021-12-28T20:45:37.001455Z",
     "iopub.status.busy": "2021-12-28T20:45:37.001101Z",
     "iopub.status.idle": "2021-12-28T20:45:37.365104Z",
     "shell.execute_reply": "2021-12-28T20:45:37.364433Z",
     "shell.execute_reply.started": "2021-12-28T20:45:37.001426Z"
    },
    "tags": []
   },
   "outputs": [],
   "source": [
    "from utilities import score, score2, df_feat, df_targ, train_val"
   ]
  },
  {
   "cell_type": "markdown",
   "id": "8b202d87-3e34-4c7c-8944-5addb5e0bccc",
   "metadata": {
    "tags": []
   },
   "source": [
    "### Codigo a correr"
   ]
  },
  {
   "cell_type": "code",
   "execution_count": 5,
   "id": "1df16897-a34d-4c6c-8dfb-cdd79a3f0930",
   "metadata": {
    "execution": {
     "iopub.execute_input": "2021-12-28T20:45:37.366457Z",
     "iopub.status.busy": "2021-12-28T20:45:37.366120Z",
     "iopub.status.idle": "2021-12-28T20:45:37.369477Z",
     "shell.execute_reply": "2021-12-28T20:45:37.368914Z",
     "shell.execute_reply.started": "2021-12-28T20:45:37.366432Z"
    },
    "tags": []
   },
   "outputs": [],
   "source": [
    "MAX_ITER = 10**6\n",
    "MAX_JOBS = -1"
   ]
  },
  {
   "cell_type": "markdown",
   "id": "ad6e03b0-054c-4ee9-a850-fb8e31a34fb2",
   "metadata": {},
   "source": [
    "**Run :** Entrenar Nuevamente o Cargar Entrenado"
   ]
  },
  {
   "cell_type": "code",
   "execution_count": 6,
   "id": "462bbeeb-82e1-4353-afc9-27893f355cab",
   "metadata": {
    "execution": {
     "iopub.execute_input": "2021-12-28T20:45:37.370911Z",
     "iopub.status.busy": "2021-12-28T20:45:37.370593Z",
     "iopub.status.idle": "2021-12-28T20:45:37.374306Z",
     "shell.execute_reply": "2021-12-28T20:45:37.373527Z",
     "shell.execute_reply.started": "2021-12-28T20:45:37.370888Z"
    },
    "tags": []
   },
   "outputs": [],
   "source": [
    "runAuto = False\n",
    "runScaled = False\n",
    "runOhe = True"
   ]
  },
  {
   "cell_type": "markdown",
   "id": "d44b2c11-34d5-44c0-a842-7a173b50993b",
   "metadata": {},
   "source": [
    "**Save :** Guardar Modelo (pisa anterior)"
   ]
  },
  {
   "cell_type": "code",
   "execution_count": 7,
   "id": "07c1439f-5b3c-4ba2-9c15-09eb314cdb77",
   "metadata": {
    "execution": {
     "iopub.execute_input": "2021-12-28T20:45:37.375510Z",
     "iopub.status.busy": "2021-12-28T20:45:37.375245Z",
     "iopub.status.idle": "2021-12-28T20:45:37.378699Z",
     "shell.execute_reply": "2021-12-28T20:45:37.377907Z",
     "shell.execute_reply.started": "2021-12-28T20:45:37.375487Z"
    },
    "tags": []
   },
   "outputs": [],
   "source": [
    "saveAuto = True\n",
    "saveScaled = True\n",
    "saveOhe = True\n",
    "saveBest = True"
   ]
  },
  {
   "cell_type": "code",
   "execution_count": 8,
   "id": "5f7b0dd1-d697-4dbe-bd54-ebc312863e40",
   "metadata": {
    "execution": {
     "iopub.execute_input": "2021-12-28T20:45:37.379885Z",
     "iopub.status.busy": "2021-12-28T20:45:37.379505Z",
     "iopub.status.idle": "2021-12-28T20:45:37.382861Z",
     "shell.execute_reply": "2021-12-28T20:45:37.382298Z",
     "shell.execute_reply.started": "2021-12-28T20:45:37.379863Z"
    }
   },
   "outputs": [],
   "source": [
    "predictions = pd.DataFrame()"
   ]
  },
  {
   "cell_type": "markdown",
   "id": "6eb64672-26db-4e45-ae0d-544505b0fb83",
   "metadata": {},
   "source": [
    "### Preprocesamiento"
   ]
  },
  {
   "cell_type": "code",
   "execution_count": 9,
   "id": "1595b6db-747c-4202-b289-ceba0ec11c9b",
   "metadata": {
    "execution": {
     "iopub.execute_input": "2021-12-28T20:45:37.384046Z",
     "iopub.status.busy": "2021-12-28T20:45:37.383730Z",
     "iopub.status.idle": "2021-12-28T20:45:40.026196Z",
     "shell.execute_reply": "2021-12-28T20:45:40.025413Z",
     "shell.execute_reply.started": "2021-12-28T20:45:37.383989Z"
    },
    "tags": []
   },
   "outputs": [
    {
     "data": {
      "text/html": [
       "<div>\n",
       "<style scoped>\n",
       "    .dataframe tbody tr th:only-of-type {\n",
       "        vertical-align: middle;\n",
       "    }\n",
       "\n",
       "    .dataframe tbody tr th {\n",
       "        vertical-align: top;\n",
       "    }\n",
       "\n",
       "    .dataframe thead th {\n",
       "        text-align: right;\n",
       "    }\n",
       "</style>\n",
       "<table border=\"1\" class=\"dataframe\">\n",
       "  <thead>\n",
       "    <tr style=\"text-align: right;\">\n",
       "      <th></th>\n",
       "      <th>humedad_tarde</th>\n",
       "      <th>horas_de_sol</th>\n",
       "      <th>llovieron_hamburguesas_hoy_no</th>\n",
       "      <th>llovieron_hamburguesas_hoy_si</th>\n",
       "      <th>nubosidad_tarde</th>\n",
       "      <th>nubosidad_temprano</th>\n",
       "      <th>humedad_temprano</th>\n",
       "      <th>mm_lluvia_dia</th>\n",
       "      <th>presion_atmosferica_temprano</th>\n",
       "      <th>rafaga_viento_max_velocidad</th>\n",
       "    </tr>\n",
       "    <tr>\n",
       "      <th>id</th>\n",
       "      <th></th>\n",
       "      <th></th>\n",
       "      <th></th>\n",
       "      <th></th>\n",
       "      <th></th>\n",
       "      <th></th>\n",
       "      <th></th>\n",
       "      <th></th>\n",
       "      <th></th>\n",
       "      <th></th>\n",
       "    </tr>\n",
       "  </thead>\n",
       "  <tbody>\n",
       "    <tr>\n",
       "      <th>74816</th>\n",
       "      <td>78.0</td>\n",
       "      <td>7.629393</td>\n",
       "      <td>0</td>\n",
       "      <td>1</td>\n",
       "      <td>4.50597</td>\n",
       "      <td>4.430203</td>\n",
       "      <td>74.0</td>\n",
       "      <td>68.0</td>\n",
       "      <td>1026.200000</td>\n",
       "      <td>48.0</td>\n",
       "    </tr>\n",
       "    <tr>\n",
       "      <th>64318</th>\n",
       "      <td>14.0</td>\n",
       "      <td>7.629393</td>\n",
       "      <td>0</td>\n",
       "      <td>1</td>\n",
       "      <td>1.00000</td>\n",
       "      <td>4.430203</td>\n",
       "      <td>56.0</td>\n",
       "      <td>5.8</td>\n",
       "      <td>1002.500000</td>\n",
       "      <td>61.0</td>\n",
       "    </tr>\n",
       "    <tr>\n",
       "      <th>54357</th>\n",
       "      <td>79.0</td>\n",
       "      <td>2.600000</td>\n",
       "      <td>1</td>\n",
       "      <td>0</td>\n",
       "      <td>8.00000</td>\n",
       "      <td>7.000000</td>\n",
       "      <td>47.0</td>\n",
       "      <td>0.0</td>\n",
       "      <td>1005.800000</td>\n",
       "      <td>57.0</td>\n",
       "    </tr>\n",
       "    <tr>\n",
       "      <th>1762</th>\n",
       "      <td>92.0</td>\n",
       "      <td>0.000000</td>\n",
       "      <td>0</td>\n",
       "      <td>1</td>\n",
       "      <td>8.00000</td>\n",
       "      <td>8.000000</td>\n",
       "      <td>96.0</td>\n",
       "      <td>5.0</td>\n",
       "      <td>1016.800000</td>\n",
       "      <td>54.0</td>\n",
       "    </tr>\n",
       "    <tr>\n",
       "      <th>89422</th>\n",
       "      <td>14.0</td>\n",
       "      <td>7.629393</td>\n",
       "      <td>1</td>\n",
       "      <td>0</td>\n",
       "      <td>2.00000</td>\n",
       "      <td>4.430203</td>\n",
       "      <td>37.0</td>\n",
       "      <td>0.0</td>\n",
       "      <td>1011.100000</td>\n",
       "      <td>50.0</td>\n",
       "    </tr>\n",
       "    <tr>\n",
       "      <th>...</th>\n",
       "      <td>...</td>\n",
       "      <td>...</td>\n",
       "      <td>...</td>\n",
       "      <td>...</td>\n",
       "      <td>...</td>\n",
       "      <td>...</td>\n",
       "      <td>...</td>\n",
       "      <td>...</td>\n",
       "      <td>...</td>\n",
       "      <td>...</td>\n",
       "    </tr>\n",
       "    <tr>\n",
       "      <th>49272</th>\n",
       "      <td>63.0</td>\n",
       "      <td>6.500000</td>\n",
       "      <td>1</td>\n",
       "      <td>0</td>\n",
       "      <td>6.00000</td>\n",
       "      <td>2.000000</td>\n",
       "      <td>44.0</td>\n",
       "      <td>0.4</td>\n",
       "      <td>1014.500000</td>\n",
       "      <td>72.0</td>\n",
       "    </tr>\n",
       "    <tr>\n",
       "      <th>13885</th>\n",
       "      <td>65.0</td>\n",
       "      <td>2.100000</td>\n",
       "      <td>0</td>\n",
       "      <td>1</td>\n",
       "      <td>7.00000</td>\n",
       "      <td>7.000000</td>\n",
       "      <td>80.0</td>\n",
       "      <td>5.2</td>\n",
       "      <td>1016.300000</td>\n",
       "      <td>48.0</td>\n",
       "    </tr>\n",
       "    <tr>\n",
       "      <th>4586</th>\n",
       "      <td>81.0</td>\n",
       "      <td>7.629393</td>\n",
       "      <td>1</td>\n",
       "      <td>0</td>\n",
       "      <td>4.50597</td>\n",
       "      <td>4.430203</td>\n",
       "      <td>62.0</td>\n",
       "      <td>0.0</td>\n",
       "      <td>1017.655555</td>\n",
       "      <td>35.0</td>\n",
       "    </tr>\n",
       "    <tr>\n",
       "      <th>68030</th>\n",
       "      <td>79.0</td>\n",
       "      <td>0.900000</td>\n",
       "      <td>1</td>\n",
       "      <td>0</td>\n",
       "      <td>8.00000</td>\n",
       "      <td>7.000000</td>\n",
       "      <td>65.0</td>\n",
       "      <td>0.0</td>\n",
       "      <td>1010.900000</td>\n",
       "      <td>56.0</td>\n",
       "    </tr>\n",
       "    <tr>\n",
       "      <th>32535</th>\n",
       "      <td>56.0</td>\n",
       "      <td>10.700000</td>\n",
       "      <td>1</td>\n",
       "      <td>0</td>\n",
       "      <td>2.00000</td>\n",
       "      <td>2.000000</td>\n",
       "      <td>65.0</td>\n",
       "      <td>0.0</td>\n",
       "      <td>1020.800000</td>\n",
       "      <td>48.0</td>\n",
       "    </tr>\n",
       "  </tbody>\n",
       "</table>\n",
       "<p>102356 rows × 10 columns</p>\n",
       "</div>"
      ],
      "text/plain": [
       "       humedad_tarde  horas_de_sol  llovieron_hamburguesas_hoy_no  \\\n",
       "id                                                                  \n",
       "74816           78.0      7.629393                              0   \n",
       "64318           14.0      7.629393                              0   \n",
       "54357           79.0      2.600000                              1   \n",
       "1762            92.0      0.000000                              0   \n",
       "89422           14.0      7.629393                              1   \n",
       "...              ...           ...                            ...   \n",
       "49272           63.0      6.500000                              1   \n",
       "13885           65.0      2.100000                              0   \n",
       "4586            81.0      7.629393                              1   \n",
       "68030           79.0      0.900000                              1   \n",
       "32535           56.0     10.700000                              1   \n",
       "\n",
       "       llovieron_hamburguesas_hoy_si  nubosidad_tarde  nubosidad_temprano  \\\n",
       "id                                                                          \n",
       "74816                              1          4.50597            4.430203   \n",
       "64318                              1          1.00000            4.430203   \n",
       "54357                              0          8.00000            7.000000   \n",
       "1762                               1          8.00000            8.000000   \n",
       "89422                              0          2.00000            4.430203   \n",
       "...                              ...              ...                 ...   \n",
       "49272                              0          6.00000            2.000000   \n",
       "13885                              1          7.00000            7.000000   \n",
       "4586                               0          4.50597            4.430203   \n",
       "68030                              0          8.00000            7.000000   \n",
       "32535                              0          2.00000            2.000000   \n",
       "\n",
       "       humedad_temprano  mm_lluvia_dia  presion_atmosferica_temprano  \\\n",
       "id                                                                     \n",
       "74816              74.0           68.0                   1026.200000   \n",
       "64318              56.0            5.8                   1002.500000   \n",
       "54357              47.0            0.0                   1005.800000   \n",
       "1762               96.0            5.0                   1016.800000   \n",
       "89422              37.0            0.0                   1011.100000   \n",
       "...                 ...            ...                           ...   \n",
       "49272              44.0            0.4                   1014.500000   \n",
       "13885              80.0            5.2                   1016.300000   \n",
       "4586               62.0            0.0                   1017.655555   \n",
       "68030              65.0            0.0                   1010.900000   \n",
       "32535              65.0            0.0                   1020.800000   \n",
       "\n",
       "       rafaga_viento_max_velocidad  \n",
       "id                                  \n",
       "74816                         48.0  \n",
       "64318                         61.0  \n",
       "54357                         57.0  \n",
       "1762                          54.0  \n",
       "89422                         50.0  \n",
       "...                            ...  \n",
       "49272                         72.0  \n",
       "13885                         48.0  \n",
       "4586                          35.0  \n",
       "68030                         56.0  \n",
       "32535                         48.0  \n",
       "\n",
       "[102356 rows x 10 columns]"
      ]
     },
     "execution_count": 9,
     "metadata": {},
     "output_type": "execute_result"
    }
   ],
   "source": [
    "df_targ=targetBooleano(df_targ)\n",
    "ohe_feat = reemplazarCategoricas_OHE(df_feat)\n",
    "\n",
    "reemplazarNulls(df_feat , inplace=True)\n",
    "reemplazarCategoricas(df_feat , inplace=True)\n",
    "reemplazarFechas(df_feat , inplace=True)\n",
    "\n",
    "scaled_feat = regularizar(df_feat , scaleFunc='std')\n",
    "regularizar(df_feat , inplace=True)\n",
    "\n",
    "reemplazarNullsNum(ohe_feat, inplace=True)\n",
    "reemplazarFechas(ohe_feat , inplace=True)\n",
    "keepFeat_OHE(ohe_feat, 10, inplace=True)"
   ]
  },
  {
   "cell_type": "code",
   "execution_count": 10,
   "id": "0a2ab13c-8af8-4f56-bdec-192a92a7fa25",
   "metadata": {
    "execution": {
     "iopub.execute_input": "2021-12-28T20:45:40.027415Z",
     "iopub.status.busy": "2021-12-28T20:45:40.027043Z",
     "iopub.status.idle": "2021-12-28T20:45:40.037102Z",
     "shell.execute_reply": "2021-12-28T20:45:40.036496Z",
     "shell.execute_reply.started": "2021-12-28T20:45:40.027388Z"
    }
   },
   "outputs": [
    {
     "name": "stdout",
     "output_type": "stream",
     "text": [
      "<class 'pandas.core.frame.DataFrame'>\n",
      "Int64Index: 102356 entries, 74816 to 32535\n",
      "Data columns (total 11 columns):\n",
      " #   Column                       Non-Null Count   Dtype  \n",
      "---  ------                       --------------   -----  \n",
      " 0   direccion_viento_tarde       102356 non-null  float64\n",
      " 1   direccion_viento_temprano    102356 non-null  float64\n",
      " 2   horas_de_sol                 102356 non-null  float64\n",
      " 3   humedad_tarde                102356 non-null  float64\n",
      " 4   humedad_temprano             102356 non-null  float64\n",
      " 5   mm_lluvia_dia                102356 non-null  float64\n",
      " 6   nubosidad_tarde              102356 non-null  float64\n",
      " 7   presion_atmosferica_tarde    102356 non-null  float64\n",
      " 8   rafaga_viento_max_direccion  102356 non-null  float64\n",
      " 9   rafaga_viento_max_velocidad  102356 non-null  float64\n",
      " 10  velocidad_viendo_tarde       102356 non-null  float64\n",
      "dtypes: float64(11)\n",
      "memory usage: 9.4 MB\n"
     ]
    }
   ],
   "source": [
    "df_feat.info()"
   ]
  },
  {
   "cell_type": "code",
   "execution_count": 11,
   "id": "a240b4ad-cf86-464e-812e-6b6ef1cf1b2f",
   "metadata": {
    "execution": {
     "iopub.execute_input": "2021-12-28T20:45:40.038578Z",
     "iopub.status.busy": "2021-12-28T20:45:40.038382Z",
     "iopub.status.idle": "2021-12-28T20:45:40.228787Z",
     "shell.execute_reply": "2021-12-28T20:45:40.228058Z",
     "shell.execute_reply.started": "2021-12-28T20:45:40.038558Z"
    }
   },
   "outputs": [],
   "source": [
    "train_feat, val_feat, train_targ, val_targ = train_val( df_feat, df_targ, True )\n",
    "train_feat2, val_feat2, train_targ2, val_targ2 = train_val( scaled_feat, df_targ, True )\n",
    "train_feat3, val_feat3, train_targ3, val_targ3 = train_val( ohe_feat, df_targ, True )"
   ]
  },
  {
   "cell_type": "markdown",
   "id": "c5be4845-2836-4adf-aaac-4cc7bca2993d",
   "metadata": {},
   "source": [
    "## Entrenamiento"
   ]
  },
  {
   "cell_type": "markdown",
   "id": "0c5a7f98-92c2-47bb-bb03-f5035ec16983",
   "metadata": {},
   "source": [
    "### Auto"
   ]
  },
  {
   "cell_type": "code",
   "execution_count": 12,
   "id": "4ec52b58-47dc-48d5-a25f-8fc3fa2ac92b",
   "metadata": {
    "execution": {
     "iopub.execute_input": "2021-12-28T20:45:40.233593Z",
     "iopub.status.busy": "2021-12-28T20:45:40.233383Z",
     "iopub.status.idle": "2021-12-28T20:45:40.298920Z",
     "shell.execute_reply": "2021-12-28T20:45:40.298301Z",
     "shell.execute_reply.started": "2021-12-28T20:45:40.233569Z"
    },
    "tags": []
   },
   "outputs": [],
   "source": [
    "if (runAuto):\n",
    "    knn_auto = KNeighborsClassifier()\n",
    "    params = {\n",
    "        'weights': ['uniform','distance'],\n",
    "        'n_neighbors': np.arange(30,200,30)\n",
    "    }\n",
    "    \n",
    "    knn_auto_grid = HalvingGridSearchCV(\n",
    "        knn_auto,\n",
    "        params,\n",
    "        scoring='roc_auc',\n",
    "        n_jobs=MAX_JOBS,\n",
    "        return_train_score=True,\n",
    "        verbose=1,\n",
    "    ).fit(train_feat, train_targ)\n",
    "    \n",
    "    # Guardar\n",
    "    if(saveAuto):\n",
    "        dump(knn_auto_grid, 'models/KNN/knn_grid.sk')\n",
    "else:\n",
    "    # Cargar\n",
    "    knn_auto_grid = load('models/KNN/knn_grid.sk')"
   ]
  },
  {
   "cell_type": "code",
   "execution_count": 13,
   "id": "62f3ba9b-732c-43ff-aef7-0bc09ae0458d",
   "metadata": {
    "execution": {
     "iopub.execute_input": "2021-12-28T20:45:40.300846Z",
     "iopub.status.busy": "2021-12-28T20:45:40.300561Z",
     "iopub.status.idle": "2021-12-28T20:45:40.309406Z",
     "shell.execute_reply": "2021-12-28T20:45:40.307752Z",
     "shell.execute_reply.started": "2021-12-28T20:45:40.300813Z"
    }
   },
   "outputs": [
    {
     "name": "stdout",
     "output_type": "stream",
     "text": [
      "Best score: 0.8662587242836324\n",
      "Best params {'weights': 'distance', 'n_neighbors': 90}\n"
     ]
    }
   ],
   "source": [
    "print(f\"Best score: {knn_auto_grid.best_score_}\")\n",
    "print(f\"Best params {knn_auto_grid.best_params_}\")"
   ]
  },
  {
   "cell_type": "code",
   "execution_count": 14,
   "id": "d40f1f7e-7f90-4852-911c-03dec1a94351",
   "metadata": {
    "execution": {
     "iopub.execute_input": "2021-12-28T20:45:40.310981Z",
     "iopub.status.busy": "2021-12-28T20:45:40.310655Z",
     "iopub.status.idle": "2021-12-28T20:45:40.313771Z",
     "shell.execute_reply": "2021-12-28T20:45:40.313056Z",
     "shell.execute_reply.started": "2021-12-28T20:45:40.310961Z"
    }
   },
   "outputs": [],
   "source": [
    "knn_auto = knn_auto_grid.best_estimator_"
   ]
  },
  {
   "cell_type": "code",
   "execution_count": 15,
   "id": "d80cf9d4-5938-4ffe-8404-700b7e9d041a",
   "metadata": {
    "execution": {
     "iopub.execute_input": "2021-12-28T20:45:40.315082Z",
     "iopub.status.busy": "2021-12-28T20:45:40.314725Z",
     "iopub.status.idle": "2021-12-28T20:45:58.634515Z",
     "shell.execute_reply": "2021-12-28T20:45:58.633851Z",
     "shell.execute_reply.started": "2021-12-28T20:45:40.315060Z"
    },
    "tags": []
   },
   "outputs": [
    {
     "name": "stdout",
     "output_type": "stream",
     "text": [
      "AUC-ROC: 0.8656961235061557\n",
      "              precision    recall  f1-score   support\n",
      "\n",
      "       False       0.85      0.96      0.90      7946\n",
      "        True       0.75      0.42      0.54      2290\n",
      "\n",
      "    accuracy                           0.84     10236\n",
      "   macro avg       0.80      0.69      0.72     10236\n",
      "weighted avg       0.83      0.84      0.82     10236\n",
      "\n",
      "CONFUSION MATRIX\n",
      "CPU times: user 18.2 s, sys: 65.9 ms, total: 18.2 s\n",
      "Wall time: 18.2 s\n"
     ]
    },
    {
     "data": {
      "image/png": "[encoded data removed]",
      "text/plain": [
       "<Figure size 432x288 with 2 Axes>"
      ]
     },
     "metadata": {},
     "output_type": "display_data"
    }
   ],
   "source": [
    "%%time\n",
    "pred = knn_auto.predict(val_feat)\n",
    "prob = knn_auto.predict_proba(val_feat)\n",
    "score(val_targ,pred, prob[:,1])"
   ]
  },
  {
   "cell_type": "code",
   "execution_count": 16,
   "id": "c2ad0b57-19ac-4ff7-a8b2-7ce365107653",
   "metadata": {
    "execution": {
     "iopub.execute_input": "2021-12-28T20:45:58.635676Z",
     "iopub.status.busy": "2021-12-28T20:45:58.635487Z",
     "iopub.status.idle": "2021-12-28T20:45:58.672482Z",
     "shell.execute_reply": "2021-12-28T20:45:58.671788Z",
     "shell.execute_reply.started": "2021-12-28T20:45:58.635653Z"
    },
    "tags": []
   },
   "outputs": [],
   "source": [
    "pdf = score2('KNN 1','Regularizado',val_targ, pred, prob[:,1])\n",
    "predictions = predictions.append( pdf )"
   ]
  },
  {
   "cell_type": "markdown",
   "id": "bbb47004-e319-47b3-8aa3-6503cb7430d8",
   "metadata": {},
   "source": [
    "### Scaled"
   ]
  },
  {
   "cell_type": "code",
   "execution_count": 17,
   "id": "85f40da2-816c-4f36-90d9-614374a79abd",
   "metadata": {
    "execution": {
     "iopub.execute_input": "2021-12-28T20:45:58.673857Z",
     "iopub.status.busy": "2021-12-28T20:45:58.673575Z",
     "iopub.status.idle": "2021-12-28T20:45:58.703730Z",
     "shell.execute_reply": "2021-12-28T20:45:58.703130Z",
     "shell.execute_reply.started": "2021-12-28T20:45:58.673835Z"
    },
    "tags": []
   },
   "outputs": [],
   "source": [
    "if (runScaled):\n",
    "    knn_scaled = KNeighborsClassifier()\n",
    "    params = {\n",
    "        'weights': ['uniform','distance'],\n",
    "        'n_neighbors': np.arange(60,120,20)\n",
    "    }\n",
    "    \n",
    "    knn_scaled_grid = HalvingGridSearchCV(\n",
    "        knn_scaled,\n",
    "        params,\n",
    "        scoring='roc_auc',\n",
    "        n_jobs=MAX_JOBS,\n",
    "        return_train_score=True,\n",
    "        verbose=1,\n",
    "    ).fit(train_feat2, train_targ2)\n",
    "    \n",
    "    # Guardar\n",
    "    if(saveScaled):\n",
    "        dump(knn_scaled_grid, 'models/KNN/knn_scaled_grid.sk')\n",
    "else:\n",
    "    # Cargar\n",
    "    knn_scaled_grid = load('models/KNN/knn_scaled_grid.sk')"
   ]
  },
  {
   "cell_type": "code",
   "execution_count": 18,
   "id": "e9510527-8bc6-4314-b376-9d5a7527c12c",
   "metadata": {
    "execution": {
     "iopub.execute_input": "2021-12-28T20:45:58.704978Z",
     "iopub.status.busy": "2021-12-28T20:45:58.704710Z",
     "iopub.status.idle": "2021-12-28T20:45:58.716326Z",
     "shell.execute_reply": "2021-12-28T20:45:58.712297Z",
     "shell.execute_reply.started": "2021-12-28T20:45:58.704957Z"
    },
    "tags": []
   },
   "outputs": [
    {
     "name": "stdout",
     "output_type": "stream",
     "text": [
      "Best score: 0.8616244163872258\n",
      "Best params {'n_neighbors': 80, 'weights': 'distance'}\n"
     ]
    }
   ],
   "source": [
    "print(f\"Best score: {knn_scaled_grid.best_score_}\")\n",
    "print(f\"Best params {knn_scaled_grid.best_params_}\")"
   ]
  },
  {
   "cell_type": "code",
   "execution_count": 19,
   "id": "0b9dd21e-58ac-4409-9baf-a84a9e2bd7fc",
   "metadata": {
    "execution": {
     "iopub.execute_input": "2021-12-28T20:45:58.719846Z",
     "iopub.status.busy": "2021-12-28T20:45:58.719463Z",
     "iopub.status.idle": "2021-12-28T20:45:58.724112Z",
     "shell.execute_reply": "2021-12-28T20:45:58.722771Z",
     "shell.execute_reply.started": "2021-12-28T20:45:58.719813Z"
    },
    "tags": []
   },
   "outputs": [],
   "source": [
    "knn_scaled = knn_scaled_grid.best_estimator_"
   ]
  },
  {
   "cell_type": "code",
   "execution_count": 20,
   "id": "1d3efacf-db66-41ba-80a0-7cb38346896b",
   "metadata": {
    "execution": {
     "iopub.execute_input": "2021-12-28T20:45:58.726703Z",
     "iopub.status.busy": "2021-12-28T20:45:58.725907Z",
     "iopub.status.idle": "2021-12-28T20:46:14.302795Z",
     "shell.execute_reply": "2021-12-28T20:46:14.302200Z",
     "shell.execute_reply.started": "2021-12-28T20:45:58.726664Z"
    },
    "tags": []
   },
   "outputs": [
    {
     "name": "stdout",
     "output_type": "stream",
     "text": [
      "AUC-ROC: 0.8606763502990161\n",
      "              precision    recall  f1-score   support\n",
      "\n",
      "       False       0.85      0.96      0.90      7946\n",
      "        True       0.75      0.39      0.52      2290\n",
      "\n",
      "    accuracy                           0.83     10236\n",
      "   macro avg       0.80      0.68      0.71     10236\n",
      "weighted avg       0.82      0.83      0.81     10236\n",
      "\n",
      "CONFUSION MATRIX\n",
      "CPU times: user 15.5 s, sys: 47.4 ms, total: 15.5 s\n",
      "Wall time: 15.5 s\n"
     ]
    },
    {
     "data": {
      "image/png": "[encoded data removed]",
      "text/plain": [
       "<Figure size 432x288 with 2 Axes>"
      ]
     },
     "metadata": {},
     "output_type": "display_data"
    }
   ],
   "source": [
    "%%time\n",
    "pred = knn_scaled.predict(val_feat2)\n",
    "prob = knn_scaled.predict_proba(val_feat2)\n",
    "score(val_targ2,pred, prob[:,1])"
   ]
  },
  {
   "cell_type": "code",
   "execution_count": 21,
   "id": "b79929a2-dbb9-4e89-bfdf-0785152ece53",
   "metadata": {
    "execution": {
     "iopub.execute_input": "2021-12-28T20:46:14.304283Z",
     "iopub.status.busy": "2021-12-28T20:46:14.303864Z",
     "iopub.status.idle": "2021-12-28T20:46:14.344368Z",
     "shell.execute_reply": "2021-12-28T20:46:14.343780Z",
     "shell.execute_reply.started": "2021-12-28T20:46:14.304251Z"
    },
    "tags": []
   },
   "outputs": [],
   "source": [
    "pdf = score2('KNN 2','Regularizado y Escalado',val_targ2, pred, prob[:,1])\n",
    "predictions = predictions.append( pdf )"
   ]
  },
  {
   "cell_type": "markdown",
   "id": "4ce1c181-a6f3-4f31-a8e3-5e12fd39f519",
   "metadata": {},
   "source": [
    "### One Hot Encoded + Seleccion de Variables"
   ]
  },
  {
   "cell_type": "code",
   "execution_count": 22,
   "id": "28e9d77e-0a12-46da-8be5-e3409e9ad806",
   "metadata": {
    "execution": {
     "iopub.execute_input": "2021-12-28T20:46:14.345901Z",
     "iopub.status.busy": "2021-12-28T20:46:14.345504Z",
     "iopub.status.idle": "2021-12-28T21:02:56.103862Z",
     "shell.execute_reply": "2021-12-28T21:02:56.098541Z",
     "shell.execute_reply.started": "2021-12-28T20:46:14.345877Z"
    },
    "tags": []
   },
   "outputs": [
    {
     "name": "stdout",
     "output_type": "stream",
     "text": [
      "n_iterations: 3\n",
      "n_required_iterations: 3\n",
      "n_possible_iterations: 3\n",
      "min_resources_: 10235\n",
      "max_resources_: 92120\n",
      "aggressive_elimination: False\n",
      "factor: 3\n",
      "----------\n",
      "iter: 0\n",
      "n_candidates: 12\n",
      "n_resources: 10235\n",
      "Fitting 5 folds for each of 12 candidates, totalling 60 fits\n",
      "----------\n",
      "iter: 1\n",
      "n_candidates: 4\n",
      "n_resources: 30705\n",
      "Fitting 5 folds for each of 4 candidates, totalling 20 fits\n",
      "----------\n",
      "iter: 2\n",
      "n_candidates: 2\n",
      "n_resources: 92115\n",
      "Fitting 5 folds for each of 2 candidates, totalling 10 fits\n"
     ]
    }
   ],
   "source": [
    "if (runOhe):\n",
    "    knn_ohe = KNeighborsClassifier()\n",
    "    params = {\n",
    "        'weights': ['uniform','distance'],\n",
    "        'n_neighbors': np.arange(70,100,5)\n",
    "    }\n",
    "    \n",
    "    knn_ohe_grid = HalvingGridSearchCV(\n",
    "        knn_ohe,\n",
    "        params,\n",
    "        scoring='roc_auc',\n",
    "        n_jobs=MAX_JOBS,\n",
    "        return_train_score=True,\n",
    "        verbose=1,\n",
    "    ).fit(train_feat3, train_targ3)\n",
    "    \n",
    "    # Guardar\n",
    "    if(saveOhe):\n",
    "        dump(knn_ohe_grid, 'models/KNN/knn_ohe_grid.sk')\n",
    "else:\n",
    "    # Cargar\n",
    "    knn_ohe_grid = load('models/KNN/knn_ohe_grid.sk')"
   ]
  },
  {
   "cell_type": "code",
   "execution_count": 23,
   "id": "f020d2f9-b8f1-422b-83e9-e51f44382cb0",
   "metadata": {
    "execution": {
     "iopub.execute_input": "2021-12-28T21:02:56.110729Z",
     "iopub.status.busy": "2021-12-28T21:02:56.110269Z",
     "iopub.status.idle": "2021-12-28T21:02:56.122534Z",
     "shell.execute_reply": "2021-12-28T21:02:56.121760Z",
     "shell.execute_reply.started": "2021-12-28T21:02:56.110693Z"
    },
    "tags": []
   },
   "outputs": [
    {
     "name": "stdout",
     "output_type": "stream",
     "text": [
      "Best score: 0.862653116320468\n",
      "Best params {'n_neighbors': 90, 'weights': 'distance'}\n"
     ]
    }
   ],
   "source": [
    "print(f\"Best score: {knn_ohe_grid.best_score_}\")\n",
    "print(f\"Best params {knn_ohe_grid.best_params_}\")"
   ]
  },
  {
   "cell_type": "code",
   "execution_count": 24,
   "id": "708f67de-b417-4a12-899e-d603e38851a7",
   "metadata": {
    "execution": {
     "iopub.execute_input": "2021-12-28T21:02:56.124932Z",
     "iopub.status.busy": "2021-12-28T21:02:56.124692Z",
     "iopub.status.idle": "2021-12-28T21:02:56.130175Z",
     "shell.execute_reply": "2021-12-28T21:02:56.129421Z",
     "shell.execute_reply.started": "2021-12-28T21:02:56.124912Z"
    },
    "tags": []
   },
   "outputs": [],
   "source": [
    "knn_ohe = knn_ohe_grid.best_estimator_"
   ]
  },
  {
   "cell_type": "code",
   "execution_count": 25,
   "id": "bbf4e8a5-1f56-4372-8b1e-559588d29c77",
   "metadata": {
    "execution": {
     "iopub.execute_input": "2021-12-28T21:02:56.131181Z",
     "iopub.status.busy": "2021-12-28T21:02:56.130982Z",
     "iopub.status.idle": "2021-12-28T21:03:34.157419Z",
     "shell.execute_reply": "2021-12-28T21:03:34.156670Z",
     "shell.execute_reply.started": "2021-12-28T21:02:56.131162Z"
    },
    "tags": []
   },
   "outputs": [
    {
     "name": "stdout",
     "output_type": "stream",
     "text": [
      "AUC-ROC: 0.8582323698062357\n",
      "              precision    recall  f1-score   support\n",
      "\n",
      "       False       0.85      0.96      0.90      7946\n",
      "        True       0.76      0.42      0.54      2290\n",
      "\n",
      "    accuracy                           0.84     10236\n",
      "   macro avg       0.81      0.69      0.72     10236\n",
      "weighted avg       0.83      0.84      0.82     10236\n",
      "\n",
      "CONFUSION MATRIX\n",
      "CPU times: user 47.5 s, sys: 12.8 s, total: 1min\n",
      "Wall time: 37.9 s\n"
     ]
    },
    {
     "data": {
      "image/png": "[encoded data removed]",
      "text/plain": [
       "<Figure size 432x288 with 2 Axes>"
      ]
     },
     "metadata": {},
     "output_type": "display_data"
    }
   ],
   "source": [
    "%%time\n",
    "pred = knn_ohe.predict(val_feat3)\n",
    "prob = knn_ohe.predict_proba(val_feat3)\n",
    "score(val_targ3,pred, prob[:,1])"
   ]
  },
  {
   "cell_type": "code",
   "execution_count": 26,
   "id": "78467ceb-e1cc-4555-b964-26b1b969e4f3",
   "metadata": {
    "execution": {
     "iopub.execute_input": "2021-12-28T21:03:34.158778Z",
     "iopub.status.busy": "2021-12-28T21:03:34.158506Z",
     "iopub.status.idle": "2021-12-28T21:03:34.195302Z",
     "shell.execute_reply": "2021-12-28T21:03:34.194688Z",
     "shell.execute_reply.started": "2021-12-28T21:03:34.158755Z"
    },
    "tags": []
   },
   "outputs": [],
   "source": [
    "pdf = score2('KNN 3','OHE y Seleccion',val_targ3, pred, prob[:,1])\n",
    "predictions = predictions.append( pdf )"
   ]
  },
  {
   "cell_type": "markdown",
   "id": "700b83be-122f-4cf7-bb78-e126565f50d3",
   "metadata": {},
   "source": [
    "## Resultados"
   ]
  },
  {
   "cell_type": "code",
   "execution_count": 27,
   "id": "75cb47ee-784d-4bab-8b80-0d4307685153",
   "metadata": {
    "execution": {
     "iopub.execute_input": "2021-12-28T21:03:34.196688Z",
     "iopub.status.busy": "2021-12-28T21:03:34.196328Z",
     "iopub.status.idle": "2021-12-28T21:03:34.210483Z",
     "shell.execute_reply": "2021-12-28T21:03:34.209869Z",
     "shell.execute_reply.started": "2021-12-28T21:03:34.196664Z"
    },
    "tags": []
   },
   "outputs": [
    {
     "data": {
      "text/html": [
       "<div>\n",
       "<style scoped>\n",
       "    .dataframe tbody tr th:only-of-type {\n",
       "        vertical-align: middle;\n",
       "    }\n",
       "\n",
       "    .dataframe tbody tr th {\n",
       "        vertical-align: top;\n",
       "    }\n",
       "\n",
       "    .dataframe thead th {\n",
       "        text-align: right;\n",
       "    }\n",
       "</style>\n",
       "<table border=\"1\" class=\"dataframe\">\n",
       "  <thead>\n",
       "    <tr style=\"text-align: right;\">\n",
       "      <th></th>\n",
       "      <th>Modelo</th>\n",
       "      <th>Preprocesamientos</th>\n",
       "      <th>Clase</th>\n",
       "      <th>AUC-ROC</th>\n",
       "      <th>Accuracy</th>\n",
       "      <th>Precision</th>\n",
       "      <th>Recall</th>\n",
       "      <th>F1 score</th>\n",
       "      <th>Support</th>\n",
       "    </tr>\n",
       "  </thead>\n",
       "  <tbody>\n",
       "    <tr>\n",
       "      <th>0</th>\n",
       "      <td>KNN 1</td>\n",
       "      <td>Regularizado</td>\n",
       "      <td>AVG</td>\n",
       "      <td>0.865696</td>\n",
       "      <td>0.839586</td>\n",
       "      <td>0.829835</td>\n",
       "      <td>0.839586</td>\n",
       "      <td>0.821687</td>\n",
       "      <td>10236</td>\n",
       "    </tr>\n",
       "    <tr>\n",
       "      <th>1</th>\n",
       "      <td>KNN 1</td>\n",
       "      <td>Regularizado</td>\n",
       "      <td>True</td>\n",
       "      <td>NaN</td>\n",
       "      <td>NaN</td>\n",
       "      <td>0.753125</td>\n",
       "      <td>0.420961</td>\n",
       "      <td>0.540056</td>\n",
       "      <td>2290</td>\n",
       "    </tr>\n",
       "    <tr>\n",
       "      <th>2</th>\n",
       "      <td>KNN 1</td>\n",
       "      <td>Regularizado</td>\n",
       "      <td>False</td>\n",
       "      <td>NaN</td>\n",
       "      <td>NaN</td>\n",
       "      <td>0.851943</td>\n",
       "      <td>0.960232</td>\n",
       "      <td>0.902852</td>\n",
       "      <td>7946</td>\n",
       "    </tr>\n",
       "    <tr>\n",
       "      <th>0</th>\n",
       "      <td>KNN 2</td>\n",
       "      <td>Regularizado y Escalado</td>\n",
       "      <td>AVG</td>\n",
       "      <td>0.860676</td>\n",
       "      <td>0.834896</td>\n",
       "      <td>0.824724</td>\n",
       "      <td>0.834896</td>\n",
       "      <td>0.814306</td>\n",
       "      <td>10236</td>\n",
       "    </tr>\n",
       "    <tr>\n",
       "      <th>1</th>\n",
       "      <td>KNN 2</td>\n",
       "      <td>Regularizado y Escalado</td>\n",
       "      <td>True</td>\n",
       "      <td>NaN</td>\n",
       "      <td>NaN</td>\n",
       "      <td>0.750836</td>\n",
       "      <td>0.392140</td>\n",
       "      <td>0.515204</td>\n",
       "      <td>2290</td>\n",
       "    </tr>\n",
       "    <tr>\n",
       "      <th>2</th>\n",
       "      <td>KNN 2</td>\n",
       "      <td>Regularizado y Escalado</td>\n",
       "      <td>False</td>\n",
       "      <td>NaN</td>\n",
       "      <td>NaN</td>\n",
       "      <td>0.846018</td>\n",
       "      <td>0.962497</td>\n",
       "      <td>0.900506</td>\n",
       "      <td>7946</td>\n",
       "    </tr>\n",
       "    <tr>\n",
       "      <th>0</th>\n",
       "      <td>KNN 3</td>\n",
       "      <td>OHE y Seleccion</td>\n",
       "      <td>AVG</td>\n",
       "      <td>0.858232</td>\n",
       "      <td>0.840172</td>\n",
       "      <td>0.830855</td>\n",
       "      <td>0.840172</td>\n",
       "      <td>0.821948</td>\n",
       "      <td>10236</td>\n",
       "    </tr>\n",
       "    <tr>\n",
       "      <th>1</th>\n",
       "      <td>KNN 3</td>\n",
       "      <td>OHE y Seleccion</td>\n",
       "      <td>True</td>\n",
       "      <td>NaN</td>\n",
       "      <td>NaN</td>\n",
       "      <td>0.758703</td>\n",
       "      <td>0.418777</td>\n",
       "      <td>0.539674</td>\n",
       "      <td>2290</td>\n",
       "    </tr>\n",
       "    <tr>\n",
       "      <th>2</th>\n",
       "      <td>KNN 3</td>\n",
       "      <td>OHE y Seleccion</td>\n",
       "      <td>False</td>\n",
       "      <td>NaN</td>\n",
       "      <td>NaN</td>\n",
       "      <td>0.851650</td>\n",
       "      <td>0.961616</td>\n",
       "      <td>0.903298</td>\n",
       "      <td>7946</td>\n",
       "    </tr>\n",
       "  </tbody>\n",
       "</table>\n",
       "</div>"
      ],
      "text/plain": [
       "  Modelo        Preprocesamientos  Clase   AUC-ROC  Accuracy  Precision  \\\n",
       "0  KNN 1             Regularizado    AVG  0.865696  0.839586   0.829835   \n",
       "1  KNN 1             Regularizado   True       NaN       NaN   0.753125   \n",
       "2  KNN 1             Regularizado  False       NaN       NaN   0.851943   \n",
       "0  KNN 2  Regularizado y Escalado    AVG  0.860676  0.834896   0.824724   \n",
       "1  KNN 2  Regularizado y Escalado   True       NaN       NaN   0.750836   \n",
       "2  KNN 2  Regularizado y Escalado  False       NaN       NaN   0.846018   \n",
       "0  KNN 3          OHE y Seleccion    AVG  0.858232  0.840172   0.830855   \n",
       "1  KNN 3          OHE y Seleccion   True       NaN       NaN   0.758703   \n",
       "2  KNN 3          OHE y Seleccion  False       NaN       NaN   0.851650   \n",
       "\n",
       "     Recall  F1 score Support  \n",
       "0  0.839586  0.821687   10236  \n",
       "1  0.420961  0.540056    2290  \n",
       "2  0.960232  0.902852    7946  \n",
       "0  0.834896  0.814306   10236  \n",
       "1  0.392140  0.515204    2290  \n",
       "2  0.962497  0.900506    7946  \n",
       "0  0.840172  0.821948   10236  \n",
       "1  0.418777  0.539674    2290  \n",
       "2  0.961616  0.903298    7946  "
      ]
     },
     "execution_count": 27,
     "metadata": {},
     "output_type": "execute_result"
    }
   ],
   "source": [
    "predictions"
   ]
  },
  {
   "cell_type": "code",
   "execution_count": 28,
   "id": "2b9ac136-5bd2-49b9-8695-db3ffba241ae",
   "metadata": {
    "execution": {
     "iopub.execute_input": "2021-12-28T21:03:34.211854Z",
     "iopub.status.busy": "2021-12-28T21:03:34.211644Z",
     "iopub.status.idle": "2021-12-28T21:03:34.284112Z",
     "shell.execute_reply": "2021-12-28T21:03:34.283417Z",
     "shell.execute_reply.started": "2021-12-28T21:03:34.211834Z"
    },
    "tags": []
   },
   "outputs": [],
   "source": [
    "if(saveBest):\n",
    "    dump(knn_auto, 'models/KNN/knn.sk')"
   ]
  }
 ],
 "metadata": {
  "kernelspec": {
   "display_name": "Python 3 (ipykernel)",
   "language": "python",
   "name": "python3"
  },
  "language_info": {
   "codemirror_mode": {
    "name": "ipython",
    "version": 3
   },
   "file_extension": ".py",
   "mimetype": "text/x-python",
   "name": "python",
   "nbconvert_exporter": "python",
   "pygments_lexer": "ipython3",
   "version": "3.9.9"
  }
 },
 "nbformat": 4,
 "nbformat_minor": 5
}
