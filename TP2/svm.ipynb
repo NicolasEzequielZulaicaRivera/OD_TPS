{
 "cells": [
  {
   "cell_type": "markdown",
   "id": "3308d311-40d7-4259-a828-7a57b1c0697c",
   "metadata": {},
   "source": [
    "# Arbol"
   ]
  },
  {
   "cell_type": "markdown",
   "id": "2052667d-db58-4679-830a-e39d8750ef0a",
   "metadata": {},
   "source": [
    "### Imports"
   ]
  },
  {
   "cell_type": "code",
   "execution_count": 1,
   "id": "57fe6f06-9c8e-4d61-97ae-d6a56db43ce2",
   "metadata": {},
   "outputs": [],
   "source": [
    "import pandas as pd\n",
    "import numpy as np\n",
    "from matplotlib import pyplot as plt\n",
    "from joblib import dump, load"
   ]
  },
  {
   "cell_type": "code",
   "execution_count": 2,
   "id": "a49e6792-264c-4416-9d7a-2fd751337a76",
   "metadata": {},
   "outputs": [],
   "source": [
    "from sklearn.svm import SVC\n",
    "from sklearn.experimental import enable_halving_search_cv\n",
    "from sklearn.model_selection import HalvingGridSearchCV"
   ]
  },
  {
   "cell_type": "code",
   "execution_count": 3,
   "id": "9f6b5fc1-d0fa-471e-87d7-799e273af71c",
   "metadata": {},
   "outputs": [
    {
     "name": "stdout",
     "output_type": "stream",
     "text": [
      "1.0.1\n"
     ]
    }
   ],
   "source": [
    "import sklearn\n",
    "print(sklearn.__version__)"
   ]
  },
  {
   "cell_type": "code",
   "execution_count": 4,
   "id": "ecbe57a8-73db-45f4-a21d-4f876860ec06",
   "metadata": {},
   "outputs": [
    {
     "name": "stdout",
     "output_type": "stream",
     "text": [
      "[6/6] Loading Regularizaton                                 \r"
     ]
    },
    {
     "name": "stderr",
     "output_type": "stream",
     "text": [
      "/home/nicozu/orga/venv/lib/python3.9/site-packages/sklearn/base.py:324: UserWarning: Trying to unpickle estimator SimpleImputer from version 0.23.2 when using version 1.0.1. This might lead to breaking code or invalid results. Use at your own risk. For more info please refer to:\n",
      "https://scikit-learn.org/stable/modules/model_persistence.html#security-maintainability-limitations\n",
      "  warnings.warn(\n",
      "/home/nicozu/orga/venv/lib/python3.9/site-packages/sklearn/base.py:438: UserWarning: X has feature names, but SimpleImputer was fitted without feature names\n",
      "  warnings.warn(\n"
     ]
    },
    {
     "name": "stdout",
     "output_type": "stream",
     "text": [
      "[###] All Done                          \n"
     ]
    },
    {
     "name": "stderr",
     "output_type": "stream",
     "text": [
      "/home/nicozu/orga/venv/lib/python3.9/site-packages/sklearn/base.py:324: UserWarning: Trying to unpickle estimator StandardScaler from version 0.23.2 when using version 1.0.1. This might lead to breaking code or invalid results. Use at your own risk. For more info please refer to:\n",
      "https://scikit-learn.org/stable/modules/model_persistence.html#security-maintainability-limitations\n",
      "  warnings.warn(\n",
      "/home/nicozu/orga/venv/lib/python3.9/site-packages/sklearn/base.py:324: UserWarning: Trying to unpickle estimator Lasso from version 0.23.2 when using version 1.0.1. This might lead to breaking code or invalid results. Use at your own risk. For more info please refer to:\n",
      "https://scikit-learn.org/stable/modules/model_persistence.html#security-maintainability-limitations\n",
      "  warnings.warn(\n"
     ]
    }
   ],
   "source": [
    "from preprocessing import reemplazarNulls,reemplazarCategoricas,reemplazarFechas,targetBooleano,regularizar"
   ]
  },
  {
   "cell_type": "code",
   "execution_count": 5,
   "id": "ae53c637-7f02-4802-9add-5a35ced69f64",
   "metadata": {},
   "outputs": [],
   "source": [
    "from utilities import score"
   ]
  },
  {
   "cell_type": "markdown",
   "id": "1aa60fef-ad74-400f-8ef7-8255160828a9",
   "metadata": {},
   "source": [
    "### Codigo a correr"
   ]
  },
  {
   "cell_type": "code",
   "execution_count": 6,
   "id": "ec911bfa-0fc9-40e5-96bd-42f11c0bb12b",
   "metadata": {},
   "outputs": [],
   "source": [
    "MAX_ITER = 10**6\n",
    "MAX_JOBS = -1"
   ]
  },
  {
   "cell_type": "markdown",
   "id": "c99e8bfe-0edd-4db5-a218-1cf71f809d2d",
   "metadata": {},
   "source": [
    "**Run :** Entrenar Nuevamente o Cargar Entrenado"
   ]
  },
  {
   "cell_type": "code",
   "execution_count": 22,
   "id": "cd65bc5e-db28-4191-9e7f-0932bbd738a3",
   "metadata": {},
   "outputs": [],
   "source": [
    "runLinearSimple = True\n",
    "runLinear = False\n",
    "runPoly = True\n",
    "runRadial = True"
   ]
  },
  {
   "cell_type": "markdown",
   "id": "f1c590df-60bb-4c53-91e7-2da0c3476415",
   "metadata": {},
   "source": [
    "**Save :** Guardar Modelo (pisa anterior)"
   ]
  },
  {
   "cell_type": "code",
   "execution_count": 23,
   "id": "6f9b41b6-3059-4967-a9c7-c00188c3e415",
   "metadata": {},
   "outputs": [],
   "source": [
    "saveLinear= True\n",
    "saveLinearSimple= True\n",
    "runPoly = True\n",
    "runRadial = True"
   ]
  },
  {
   "cell_type": "markdown",
   "id": "b78994e0-e1e1-4b66-befc-3f03e7bce8a0",
   "metadata": {},
   "source": [
    "### Dataset"
   ]
  },
  {
   "cell_type": "code",
   "execution_count": 9,
   "id": "b133cc79-b11f-4ccb-a197-b4d8e86ec152",
   "metadata": {},
   "outputs": [],
   "source": [
    "df_feat = pd.read_csv(\"datasets/train_features.csv\", low_memory=False)\n",
    "df_targ = targetBooleano( pd.read_csv(\"datasets/train_target.csv\") )"
   ]
  },
  {
   "cell_type": "markdown",
   "id": "e6b58791-7d09-4d8a-8fcd-2b5e207db9fd",
   "metadata": {},
   "source": [
    "### Preprocesamiento"
   ]
  },
  {
   "cell_type": "code",
   "execution_count": 10,
   "id": "2e086941-2bc4-49ea-8bd8-91682b5a619a",
   "metadata": {},
   "outputs": [
    {
     "name": "stderr",
     "output_type": "stream",
     "text": [
      "/home/nicozu/orga/venv/lib/python3.9/site-packages/sklearn/base.py:438: UserWarning: X has feature names, but SimpleImputer was fitted without feature names\n",
      "  warnings.warn(\n",
      "/home/nicozu/orga/venv/lib/python3.9/site-packages/sklearn/base.py:438: UserWarning: X has feature names, but StandardScaler was fitted without feature names\n",
      "  warnings.warn(\n",
      "/home/nicozu/orga/venv/lib/python3.9/site-packages/sklearn/base.py:438: UserWarning: X has feature names, but StandardScaler was fitted without feature names\n",
      "  warnings.warn(\n"
     ]
    },
    {
     "data": {
      "text/html": [
       "<div>\n",
       "<style scoped>\n",
       "    .dataframe tbody tr th:only-of-type {\n",
       "        vertical-align: middle;\n",
       "    }\n",
       "\n",
       "    .dataframe tbody tr th {\n",
       "        vertical-align: top;\n",
       "    }\n",
       "\n",
       "    .dataframe thead th {\n",
       "        text-align: right;\n",
       "    }\n",
       "</style>\n",
       "<table border=\"1\" class=\"dataframe\">\n",
       "  <thead>\n",
       "    <tr style=\"text-align: right;\">\n",
       "      <th></th>\n",
       "      <th>id</th>\n",
       "      <th>direccion_viento_tarde</th>\n",
       "      <th>direccion_viento_temprano</th>\n",
       "      <th>horas_de_sol</th>\n",
       "      <th>humedad_tarde</th>\n",
       "      <th>humedad_temprano</th>\n",
       "      <th>mm_lluvia_dia</th>\n",
       "      <th>nubosidad_tarde</th>\n",
       "      <th>presion_atmosferica_tarde</th>\n",
       "      <th>rafaga_viento_max_direccion</th>\n",
       "      <th>rafaga_viento_max_velocidad</th>\n",
       "      <th>velocidad_viendo_tarde</th>\n",
       "    </tr>\n",
       "  </thead>\n",
       "  <tbody>\n",
       "    <tr>\n",
       "      <th>0</th>\n",
       "      <td>0.495844</td>\n",
       "      <td>0.736537</td>\n",
       "      <td>0.645996</td>\n",
       "      <td>-2.018030</td>\n",
       "      <td>1.277923</td>\n",
       "      <td>0.270523</td>\n",
       "      <td>7.914307</td>\n",
       "      <td>0.916539</td>\n",
       "      <td>1.269394</td>\n",
       "      <td>0.802215</td>\n",
       "      <td>0.589120</td>\n",
       "      <td>0.834079</td>\n",
       "    </tr>\n",
       "    <tr>\n",
       "      <th>1</th>\n",
       "      <td>0.183431</td>\n",
       "      <td>0.317434</td>\n",
       "      <td>-1.382279</td>\n",
       "      <td>-2.018030</td>\n",
       "      <td>-1.806334</td>\n",
       "      <td>-0.675093</td>\n",
       "      <td>0.417359</td>\n",
       "      <td>-1.288420</td>\n",
       "      <td>-2.406972</td>\n",
       "      <td>0.393094</td>\n",
       "      <td>1.544505</td>\n",
       "      <td>1.402051</td>\n",
       "    </tr>\n",
       "    <tr>\n",
       "      <th>2</th>\n",
       "      <td>-0.113001</td>\n",
       "      <td>-0.730326</td>\n",
       "      <td>-0.570969</td>\n",
       "      <td>-1.330311</td>\n",
       "      <td>1.326115</td>\n",
       "      <td>-1.147901</td>\n",
       "      <td>-0.281713</td>\n",
       "      <td>1.284033</td>\n",
       "      <td>-2.094694</td>\n",
       "      <td>-0.834272</td>\n",
       "      <td>1.250541</td>\n",
       "      <td>1.629239</td>\n",
       "    </tr>\n",
       "    <tr>\n",
       "      <th>3</th>\n",
       "      <td>-1.678190</td>\n",
       "      <td>1.574745</td>\n",
       "      <td>0.848823</td>\n",
       "      <td>-2.018030</td>\n",
       "      <td>1.952605</td>\n",
       "      <td>1.426276</td>\n",
       "      <td>0.320935</td>\n",
       "      <td>1.284033</td>\n",
       "      <td>0.020281</td>\n",
       "      <td>-1.447954</td>\n",
       "      <td>1.030067</td>\n",
       "      <td>1.402051</td>\n",
       "    </tr>\n",
       "    <tr>\n",
       "      <th>4</th>\n",
       "      <td>0.930508</td>\n",
       "      <td>-1.149430</td>\n",
       "      <td>-1.179451</td>\n",
       "      <td>-2.018030</td>\n",
       "      <td>-1.806334</td>\n",
       "      <td>-1.673244</td>\n",
       "      <td>-0.281713</td>\n",
       "      <td>-0.920927</td>\n",
       "      <td>-1.257220</td>\n",
       "      <td>-0.834272</td>\n",
       "      <td>0.736103</td>\n",
       "      <td>0.038918</td>\n",
       "    </tr>\n",
       "    <tr>\n",
       "      <th>...</th>\n",
       "      <td>...</td>\n",
       "      <td>...</td>\n",
       "      <td>...</td>\n",
       "      <td>...</td>\n",
       "      <td>...</td>\n",
       "      <td>...</td>\n",
       "      <td>...</td>\n",
       "      <td>...</td>\n",
       "      <td>...</td>\n",
       "      <td>...</td>\n",
       "      <td>...</td>\n",
       "      <td>...</td>\n",
       "    </tr>\n",
       "    <tr>\n",
       "      <th>102351</th>\n",
       "      <td>-0.264327</td>\n",
       "      <td>-0.101670</td>\n",
       "      <td>-0.570969</td>\n",
       "      <td>-0.298733</td>\n",
       "      <td>0.555051</td>\n",
       "      <td>-1.305504</td>\n",
       "      <td>-0.233501</td>\n",
       "      <td>0.549046</td>\n",
       "      <td>-0.490719</td>\n",
       "      <td>-0.834272</td>\n",
       "      <td>2.352908</td>\n",
       "      <td>2.083617</td>\n",
       "    </tr>\n",
       "    <tr>\n",
       "      <th>102352</th>\n",
       "      <td>-1.317418</td>\n",
       "      <td>0.946089</td>\n",
       "      <td>1.457306</td>\n",
       "      <td>-1.462565</td>\n",
       "      <td>0.651434</td>\n",
       "      <td>0.585729</td>\n",
       "      <td>0.345041</td>\n",
       "      <td>0.916539</td>\n",
       "      <td>0.318365</td>\n",
       "      <td>1.211337</td>\n",
       "      <td>0.589120</td>\n",
       "      <td>1.402051</td>\n",
       "    </tr>\n",
       "    <tr>\n",
       "      <th>102353</th>\n",
       "      <td>-1.594150</td>\n",
       "      <td>0.736537</td>\n",
       "      <td>1.660133</td>\n",
       "      <td>-2.018030</td>\n",
       "      <td>1.422498</td>\n",
       "      <td>-0.359888</td>\n",
       "      <td>-0.281713</td>\n",
       "      <td>0.916539</td>\n",
       "      <td>-0.064885</td>\n",
       "      <td>-1.447954</td>\n",
       "      <td>-0.366265</td>\n",
       "      <td>-1.892186</td>\n",
       "    </tr>\n",
       "    <tr>\n",
       "      <th>102354</th>\n",
       "      <td>0.293898</td>\n",
       "      <td>-1.149430</td>\n",
       "      <td>-0.773796</td>\n",
       "      <td>-1.779974</td>\n",
       "      <td>1.326115</td>\n",
       "      <td>-0.202285</td>\n",
       "      <td>-0.281713</td>\n",
       "      <td>1.284033</td>\n",
       "      <td>-2.052110</td>\n",
       "      <td>-0.629711</td>\n",
       "      <td>1.177050</td>\n",
       "      <td>0.606890</td>\n",
       "    </tr>\n",
       "    <tr>\n",
       "      <th>102355</th>\n",
       "      <td>-0.762408</td>\n",
       "      <td>1.574745</td>\n",
       "      <td>1.457306</td>\n",
       "      <td>0.812198</td>\n",
       "      <td>0.217710</td>\n",
       "      <td>-0.202285</td>\n",
       "      <td>-0.281713</td>\n",
       "      <td>-0.920927</td>\n",
       "      <td>0.588060</td>\n",
       "      <td>1.415898</td>\n",
       "      <td>0.589120</td>\n",
       "      <td>1.288456</td>\n",
       "    </tr>\n",
       "  </tbody>\n",
       "</table>\n",
       "<p>102356 rows × 12 columns</p>\n",
       "</div>"
      ],
      "text/plain": [
       "              id  direccion_viento_tarde  direccion_viento_temprano  \\\n",
       "0       0.495844                0.736537                   0.645996   \n",
       "1       0.183431                0.317434                  -1.382279   \n",
       "2      -0.113001               -0.730326                  -0.570969   \n",
       "3      -1.678190                1.574745                   0.848823   \n",
       "4       0.930508               -1.149430                  -1.179451   \n",
       "...          ...                     ...                        ...   \n",
       "102351 -0.264327               -0.101670                  -0.570969   \n",
       "102352 -1.317418                0.946089                   1.457306   \n",
       "102353 -1.594150                0.736537                   1.660133   \n",
       "102354  0.293898               -1.149430                  -0.773796   \n",
       "102355 -0.762408                1.574745                   1.457306   \n",
       "\n",
       "        horas_de_sol  humedad_tarde  humedad_temprano  mm_lluvia_dia  \\\n",
       "0          -2.018030       1.277923          0.270523       7.914307   \n",
       "1          -2.018030      -1.806334         -0.675093       0.417359   \n",
       "2          -1.330311       1.326115         -1.147901      -0.281713   \n",
       "3          -2.018030       1.952605          1.426276       0.320935   \n",
       "4          -2.018030      -1.806334         -1.673244      -0.281713   \n",
       "...              ...            ...               ...            ...   \n",
       "102351     -0.298733       0.555051         -1.305504      -0.233501   \n",
       "102352     -1.462565       0.651434          0.585729       0.345041   \n",
       "102353     -2.018030       1.422498         -0.359888      -0.281713   \n",
       "102354     -1.779974       1.326115         -0.202285      -0.281713   \n",
       "102355      0.812198       0.217710         -0.202285      -0.281713   \n",
       "\n",
       "        nubosidad_tarde  presion_atmosferica_tarde  \\\n",
       "0              0.916539                   1.269394   \n",
       "1             -1.288420                  -2.406972   \n",
       "2              1.284033                  -2.094694   \n",
       "3              1.284033                   0.020281   \n",
       "4             -0.920927                  -1.257220   \n",
       "...                 ...                        ...   \n",
       "102351         0.549046                  -0.490719   \n",
       "102352         0.916539                   0.318365   \n",
       "102353         0.916539                  -0.064885   \n",
       "102354         1.284033                  -2.052110   \n",
       "102355        -0.920927                   0.588060   \n",
       "\n",
       "        rafaga_viento_max_direccion  rafaga_viento_max_velocidad  \\\n",
       "0                          0.802215                     0.589120   \n",
       "1                          0.393094                     1.544505   \n",
       "2                         -0.834272                     1.250541   \n",
       "3                         -1.447954                     1.030067   \n",
       "4                         -0.834272                     0.736103   \n",
       "...                             ...                          ...   \n",
       "102351                    -0.834272                     2.352908   \n",
       "102352                     1.211337                     0.589120   \n",
       "102353                    -1.447954                    -0.366265   \n",
       "102354                    -0.629711                     1.177050   \n",
       "102355                     1.415898                     0.589120   \n",
       "\n",
       "        velocidad_viendo_tarde  \n",
       "0                     0.834079  \n",
       "1                     1.402051  \n",
       "2                     1.629239  \n",
       "3                     1.402051  \n",
       "4                     0.038918  \n",
       "...                        ...  \n",
       "102351                2.083617  \n",
       "102352                1.402051  \n",
       "102353               -1.892186  \n",
       "102354                0.606890  \n",
       "102355                1.288456  \n",
       "\n",
       "[102356 rows x 12 columns]"
      ]
     },
     "execution_count": 10,
     "metadata": {},
     "output_type": "execute_result"
    }
   ],
   "source": [
    "reemplazarNulls(df_feat , inplace=True)\n",
    "reemplazarCategoricas(df_feat , inplace=True)\n",
    "reemplazarFechas(df_feat , inplace=True)\n",
    "df_allfeat = regularizar(df_feat , drop=0)\n",
    "regularizar(df_feat , inplace=True)"
   ]
  },
  {
   "cell_type": "code",
   "execution_count": 11,
   "id": "642171dc-c717-48aa-9f13-3d5115385741",
   "metadata": {},
   "outputs": [
    {
     "name": "stdout",
     "output_type": "stream",
     "text": [
      "<class 'pandas.core.frame.DataFrame'>\n",
      "RangeIndex: 102356 entries, 0 to 102355\n",
      "Data columns (total 12 columns):\n",
      " #   Column                       Non-Null Count   Dtype  \n",
      "---  ------                       --------------   -----  \n",
      " 0   id                           102356 non-null  float64\n",
      " 1   direccion_viento_tarde       102356 non-null  float64\n",
      " 2   direccion_viento_temprano    102356 non-null  float64\n",
      " 3   horas_de_sol                 102356 non-null  float64\n",
      " 4   humedad_tarde                102356 non-null  float64\n",
      " 5   humedad_temprano             102356 non-null  float64\n",
      " 6   mm_lluvia_dia                102356 non-null  float64\n",
      " 7   nubosidad_tarde              102356 non-null  float64\n",
      " 8   presion_atmosferica_tarde    102356 non-null  float64\n",
      " 9   rafaga_viento_max_direccion  102356 non-null  float64\n",
      " 10  rafaga_viento_max_velocidad  102356 non-null  float64\n",
      " 11  velocidad_viendo_tarde       102356 non-null  float64\n",
      "dtypes: float64(12)\n",
      "memory usage: 9.4 MB\n"
     ]
    }
   ],
   "source": [
    "df_feat.info()"
   ]
  },
  {
   "cell_type": "markdown",
   "id": "0644d54b-4e59-49d5-a8df-c627b574c2f3",
   "metadata": {},
   "source": [
    "## Entrenamiento"
   ]
  },
  {
   "cell_type": "markdown",
   "id": "12e60815-3880-48af-9fcc-527ec3ecec42",
   "metadata": {},
   "source": [
    "### Lineal"
   ]
  },
  {
   "cell_type": "markdown",
   "id": "f732770d-bf3a-4361-b9d8-ab3c94386c11",
   "metadata": {},
   "source": [
    "#### Simple"
   ]
  },
  {
   "cell_type": "code",
   "execution_count": 12,
   "id": "2bb0e7fa-49d3-4711-aa60-2a98afef1996",
   "metadata": {},
   "outputs": [
    {
     "name": "stderr",
     "output_type": "stream",
     "text": [
      "/home/nicozu/orga/venv/lib/python3.9/site-packages/sklearn/base.py:324: UserWarning: Trying to unpickle estimator SVC from version 0.23.2 when using version 1.0.1. This might lead to breaking code or invalid results. Use at your own risk. For more info please refer to:\n",
      "https://scikit-learn.org/stable/modules/model_persistence.html#security-maintainability-limitations\n",
      "  warnings.warn(\n"
     ]
    }
   ],
   "source": [
    "if (runLinearSimple):\n",
    "    svm_simple_lineal = SVC(\n",
    "        kernel='linear', C=0.1,\n",
    "        max_iter=MAX_ITER, shrinking=False, verbose = 1,\n",
    "    )\n",
    "    svm_simple_lineal.fit( df_feat, df_targ )\n",
    "    \n",
    "    # Guardar\n",
    "    if(saveLinearSimple):\n",
    "        dump(svm_simple_lineal, 'models/SVM/svm_simple_lineal.sk') \n",
    "else:\n",
    "    # Cargar\n",
    "    svm_simple_lineal = load('models/SVM/svm_simple_lineal.sk')"
   ]
  },
  {
   "cell_type": "code",
   "execution_count": 13,
   "id": "13fd98df-4710-49ba-8c42-a630eb2987df",
   "metadata": {},
   "outputs": [
    {
     "name": "stderr",
     "output_type": "stream",
     "text": [
      "/home/nicozu/orga/venv/lib/python3.9/site-packages/sklearn/base.py:438: UserWarning: X has feature names, but SVC was fitted without feature names\n",
      "  warnings.warn(\n"
     ]
    },
    {
     "name": "stdout",
     "output_type": "stream",
     "text": [
      "ACCURACY: 0.8385927546992848\n"
     ]
    }
   ],
   "source": [
    "pred = svm_simple_lineal.predict(df_feat)\n",
    "score(df_targ, pred)"
   ]
  },
  {
   "cell_type": "markdown",
   "id": "004420d2-c81b-4d3c-8cb0-915b0f06a536",
   "metadata": {},
   "source": [
    "#### Optimizando Hiperparametros"
   ]
  },
  {
   "cell_type": "code",
   "execution_count": 14,
   "id": "85132091-d2b2-4af9-919f-ce3b670d498b",
   "metadata": {},
   "outputs": [
    {
     "data": {
      "text/plain": [
       "array([0.01, 0.04, 0.07, 0.1 , 0.4 , 0.7 , 1.  , 4.  , 7.  ])"
      ]
     },
     "execution_count": 14,
     "metadata": {},
     "output_type": "execute_result"
    }
   ],
   "source": [
    "base_arrange = np.arange(0.01, 0.09, 0.03)\n",
    "hipr_arrange = np.concatenate((base_arrange,base_arrange*10,base_arrange*100),axis=None)\n",
    "hipr_arrange"
   ]
  },
  {
   "cell_type": "code",
   "execution_count": 15,
   "id": "abca05b1-08f1-4509-9c92-f58d4d860789",
   "metadata": {},
   "outputs": [
    {
     "name": "stdout",
     "output_type": "stream",
     "text": [
      "n_iterations: 3\n",
      "n_required_iterations: 3\n",
      "n_possible_iterations: 3\n",
      "min_resources_: 11372\n",
      "max_resources_: 102356\n",
      "aggressive_elimination: False\n",
      "factor: 3\n",
      "----------\n",
      "iter: 0\n",
      "n_candidates: 9\n",
      "n_resources: 11372\n",
      "Fitting 5 folds for each of 9 candidates, totalling 45 fits\n",
      "----------\n",
      "iter: 1\n",
      "n_candidates: 3\n",
      "n_resources: 34116\n",
      "Fitting 5 folds for each of 3 candidates, totalling 15 fits\n"
     ]
    },
    {
     "name": "stderr",
     "output_type": "stream",
     "text": [
      "/home/nicozu/orga/venv/lib/python3.9/site-packages/sklearn/svm/_base.py:284: ConvergenceWarning: Solver terminated early (max_iter=1000000).  Consider pre-processing your data with StandardScaler or MinMaxScaler.\n",
      "  warnings.warn(\n"
     ]
    },
    {
     "name": "stdout",
     "output_type": "stream",
     "text": [
      "----------\n",
      "iter: 2\n",
      "n_candidates: 1\n",
      "n_resources: 102348\n",
      "Fitting 5 folds for each of 1 candidates, totalling 5 fits\n",
      "[CV] END .............................................C=0.04; total time=   2.6s\n",
      "[CV] END ..............................C=0.06999999999999999; total time=   3.0s\n",
      "[CV] END ..............................................C=0.4; total time=   4.3s\n",
      "[CV] END ..............................................C=1.0; total time=   7.2s\n",
      "[CV] END ..............................................C=4.0; total time=  19.9s\n",
      "[CV] END ..............................................C=1.0; total time= 1.3min\n",
      "[CV] END ................................C=6.999999999999999; total time= 5.2min\n",
      "[CV] END .............................................C=0.04; total time=   2.7s\n",
      "[CV] END ..............................C=0.06999999999999999; total time=   3.1s\n",
      "[CV] END ..............................................C=0.4; total time=   4.0s\n",
      "[CV] END ..............................................C=1.0; total time=   5.8s\n",
      "[CV] END ..............................................C=4.0; total time=  18.0s\n",
      "[CV] END ................................C=6.999999999999999; total time=  25.6s\n",
      "[CV] END ..............................................C=4.0; total time= 3.4min\n",
      "[CV] END ................................C=6.999999999999999; total time= 4.0min\n",
      "[CV] END .............................................C=0.01; total time=   2.6s\n",
      "[CV] END ..............................C=0.06999999999999999; total time=   2.7s\n",
      "[CV] END ..............................................C=0.1; total time=   2.8s\n",
      "[CV] END ..............................................C=0.7; total time=   5.6s\n",
      "[CV] END ..............................................C=1.0; total time=   6.6s\n",
      "[CV] END ................................C=6.999999999999999; total time=  36.0s\n",
      "[CV] END ..............................................C=4.0; total time= 3.4min\n",
      "[CV] END ................................C=6.999999999999999; total time= 4.4min\n",
      "[CV] END .............................................C=0.01; total time=   2.5s\n",
      "[CV] END .............................................C=0.04; total time=   2.9s\n",
      "[CV] END ..............................................C=0.1; total time=   2.7s\n",
      "[CV] END ..............................................C=0.4; total time=   4.2s\n",
      "[CV] END ..............................................C=1.0; total time=   7.5s\n",
      "[CV] END ................................C=6.999999999999999; total time=  31.9s\n",
      "[CV] END ..............................................C=1.0; total time= 1.4min\n",
      "[CV] END ................................C=6.999999999999999; total time= 4.8min\n",
      "[CV] END ..............................................C=1.0; total time=12.7min\n",
      "[CV] END .............................................C=0.01; total time=   2.6s\n",
      "[CV] END ..............................C=0.06999999999999999; total time=   2.9s\n",
      "[CV] END ..............................................C=0.1; total time=   2.7s\n",
      "[CV] END ..............................................C=0.7; total time=   5.8s\n",
      "[CV] END ..............................................C=4.0; total time=  17.7s\n",
      "[CV] END ................................C=6.999999999999999; total time=  23.3s\n",
      "[CV] END ..............................................C=4.0; total time= 3.7min\n",
      "[CV] END ..............................................C=1.0; total time=13.0min\n",
      "[CV] END .............................................C=0.04; total time=   2.7s\n",
      "[CV] END ..............................................C=0.1; total time=   2.8s\n",
      "[CV] END ..............................................C=0.4; total time=   3.9s\n",
      "[CV] END ..............................................C=0.7; total time=   5.3s\n",
      "[CV] END ..............................................C=4.0; total time=  21.3s\n",
      "[CV] END ..............................................C=1.0; total time= 1.4min\n",
      "[CV] END ................................C=6.999999999999999; total time= 4.8min\n",
      "[CV] END ..............................................C=1.0; total time=13.1min\n",
      "[CV] END .............................................C=0.01; total time=   2.5s\n",
      "[CV] END .............................................C=0.04; total time=   2.7s\n",
      "[CV] END ..............................................C=0.1; total time=   2.8s\n",
      "[CV] END ..............................................C=0.7; total time=   4.5s\n",
      "[CV] END ..............................................C=1.0; total time=   6.3s\n",
      "[CV] END ................................C=6.999999999999999; total time=  27.9s\n",
      "[CV] END ..............................................C=1.0; total time= 1.3min\n",
      "[CV] END ..............................................C=4.0; total time= 3.4min\n",
      "[CV] END ..............................................C=1.0; total time=13.3min\n",
      "[CV] END .............................................C=0.01; total time=   2.6s\n",
      "[CV] END ..............................C=0.06999999999999999; total time=   2.9s\n",
      "[CV] END ..............................................C=0.4; total time=   4.1s\n",
      "[CV] END ..............................................C=0.7; total time=   5.0s\n",
      "[CV] END ..............................................C=4.0; total time=  24.3s\n",
      "[CV] END ..............................................C=1.0; total time= 1.3min\n",
      "[CV] END ..............................................C=4.0; total time= 3.1min\n",
      "[CV] END ..............................................C=1.0; total time=13.5min\n"
     ]
    }
   ],
   "source": [
    "if (runLinear):\n",
    "    svm_lineal = SVC(\n",
    "        kernel='linear',\n",
    "        max_iter=MAX_ITER, shrinking=False,\n",
    "    )\n",
    "    params = {'C': hipr_arrange}\n",
    "    \n",
    "    svm_lineal_grid = HalvingGridSearchCV(\n",
    "        svm_lineal,\n",
    "        params,\n",
    "        scoring='accuracy',\n",
    "        n_jobs=MAX_JOBS,\n",
    "        return_train_score=True,\n",
    "        verbose=2,\n",
    "    ).fit(df_feat, df_targ)\n",
    "    \n",
    "    # Guardar\n",
    "    if(saveLinear):\n",
    "        dump(svm_lineal_grid, 'models/SVM/svm_lineal_grid.sk') \n",
    "else:\n",
    "    # Cargar\n",
    "    svm_lineal_grid = load('models/SVM/svm_lineal_grid.sk')"
   ]
  },
  {
   "cell_type": "code",
   "execution_count": 16,
   "id": "3b5f0332-67fc-445d-9a82-0fcc17095aca",
   "metadata": {},
   "outputs": [
    {
     "name": "stdout",
     "output_type": "stream",
     "text": [
      "Best score: 0.8386942323663009\n",
      "Best params {'C': 1.0}\n"
     ]
    }
   ],
   "source": [
    "print(f\"Best score: {svm_lineal_grid.best_score_}\")\n",
    "print(f\"Best params {svm_lineal_grid.best_params_}\")"
   ]
  },
  {
   "cell_type": "code",
   "execution_count": 17,
   "id": "b3a91c8f-546d-44ce-a5df-f8e669a0d1cb",
   "metadata": {},
   "outputs": [],
   "source": [
    "svm_lineal = svm_lineal_grid.best_estimator_"
   ]
  },
  {
   "cell_type": "code",
   "execution_count": 18,
   "id": "f03a261f-ee22-4e23-af00-0c050a5b5eb9",
   "metadata": {},
   "outputs": [
    {
     "name": "stdout",
     "output_type": "stream",
     "text": [
      "ACCURACY: 0.8385927546992848\n"
     ]
    }
   ],
   "source": [
    "pred = svm_lineal.predict(df_feat)\n",
    "score(df_targ, pred)"
   ]
  },
  {
   "cell_type": "markdown",
   "id": "730fde1c-8cfd-4bf9-9182-0b266c760a7b",
   "metadata": {},
   "source": [
    "#### Otras Corridas"
   ]
  },
  {
   "cell_type": "markdown",
   "id": "74748cb4-5699-4390-b0eb-c3f1779650fe",
   "metadata": {},
   "source": [
    "SVM Lineal , C=10, sin eliminar features poco significativos ni limitar iteraciones, t ~= 10hs \\\n",
    "El entranamiento fue removido debido a que tarda mucho y ni siquiera se esta optimizando el hiperparametro"
   ]
  },
  {
   "cell_type": "code",
   "execution_count": 19,
   "id": "2b9c3aaf-92c6-4550-a138-7e88b38989f1",
   "metadata": {},
   "outputs": [
    {
     "name": "stderr",
     "output_type": "stream",
     "text": [
      "/home/nicozu/orga/venv/lib/python3.9/site-packages/sklearn/base.py:324: UserWarning: Trying to unpickle estimator SVC from version 0.23.2 when using version 1.0.1. This might lead to breaking code or invalid results. Use at your own risk. For more info please refer to:\n",
      "https://scikit-learn.org/stable/modules/model_persistence.html#security-maintainability-limitations\n",
      "  warnings.warn(\n"
     ]
    }
   ],
   "source": [
    "svm_lineal_allfeat = load('models/SVM/svm_lineal_allfeat.sk')"
   ]
  },
  {
   "cell_type": "code",
   "execution_count": 20,
   "id": "2a0037b1-e376-44f0-8176-04248c2bb7f8",
   "metadata": {},
   "outputs": [
    {
     "name": "stderr",
     "output_type": "stream",
     "text": [
      "/home/nicozu/orga/venv/lib/python3.9/site-packages/sklearn/base.py:438: UserWarning: X has feature names, but SVC was fitted without feature names\n",
      "  warnings.warn(\n"
     ]
    },
    {
     "name": "stdout",
     "output_type": "stream",
     "text": [
      "ACCURACY: 0.8404294814177967\n"
     ]
    }
   ],
   "source": [
    "pred = svm_lineal_allfeat.predict(df_allfeat)\n",
    "score(df_targ, pred)"
   ]
  },
  {
   "cell_type": "markdown",
   "id": "530e14b5-501c-4cf5-87fc-b57e4559f24c",
   "metadata": {},
   "source": [
    "### Validado"
   ]
  },
  {
   "cell_type": "code",
   "execution_count": null,
   "id": "9a1c6ade-0f11-4c42-a68f-c577ae5b311b",
   "metadata": {},
   "outputs": [],
   "source": [
    "if (runPoly):\n",
    "    svm_poly = SVC(\n",
    "        kernel='poly',\n",
    "        max_iter=MAX_ITER, shrinking=False,\n",
    "    )\n",
    "    params = {\n",
    "        'C': hipr_arrange,\n",
    "        'degree': hipr_arrange,\n",
    "        'gamma': hipr_arrange,\n",
    "        'coef0': hipr_arrange,\n",
    "    }\n",
    "    \n",
    "    svm_poly_grid = HalvingGridSearchCV(\n",
    "        svm_poly,\n",
    "        params,\n",
    "        scoring='accuracy',\n",
    "        n_jobs=MAX_JOBS,\n",
    "        return_train_score=True,\n",
    "        verbose=1,\n",
    "    ).fit(df_feat, df_targ)\n",
    "    \n",
    "    # Guardar\n",
    "    if(savePoly):\n",
    "        dump(svm_poly_grid, 'models/SVM/svm_poly_grid.sk') \n",
    "else:\n",
    "    # Cargar\n",
    "    svm_poly_grid = load('models/SVM/svm_poly_grid.sk')"
   ]
  },
  {
   "cell_type": "code",
   "execution_count": null,
   "id": "a3d772e9-548d-445e-b785-86b0bf6f13dc",
   "metadata": {},
   "outputs": [],
   "source": [
    "if (runRadial):\n",
    "    svm_radial = SVC(\n",
    "        kernel='rbf',\n",
    "        max_iter=MAX_ITER, shrinking=False,\n",
    "    )\n",
    "    params = {\n",
    "        'C': hipr_arrange,\n",
    "        'gamma': hipr_arrange,\n",
    "    }\n",
    "    \n",
    "    svm_radial_grid = HalvingGridSearchCV(\n",
    "        svm_radial,\n",
    "        params,\n",
    "        scoring='accuracy',\n",
    "        n_jobs=MAX_JOBS,\n",
    "        return_train_score=True,\n",
    "        verbose=1,\n",
    "    ).fit(df_feat, df_targ)\n",
    "    \n",
    "    # Guardar\n",
    "    if(saveRadial):\n",
    "        dump(svm_radial_grid, 'models/SVM/svm_radial_grid.sk') \n",
    "else:\n",
    "    # Cargar\n",
    "    svm_radial_grid = load('models/SVM/svm_radial_grid.sk')"
   ]
  },
  {
   "cell_type": "markdown",
   "id": "49a23b52-ff58-4562-933d-c0c15f6ad595",
   "metadata": {},
   "source": [
    "## Conclusion"
   ]
  },
  {
   "cell_type": "markdown",
   "id": "b351f693-cced-4b19-8e99-f101a58fcdf7",
   "metadata": {},
   "source": [
    "**Lineal:** \\\n",
    "ACCURACY: 0.8283246707569659\n",
    "\n",
    "**Grid:** \\\n",
    "Best score: 0.8396869725200906 \\\n",
    "Best params {'max_depth': 10, 'min_samples_leaf': 100}\n",
    "\n",
    "**Random:** \\\n",
    "\n",
    "Exportamos el modelo de grid search porque sus hiperparametros son 'redondos'"
   ]
  }
 ],
 "metadata": {
  "kernelspec": {
   "display_name": "Python 3 (ipykernel)",
   "language": "python",
   "name": "python3"
  },
  "language_info": {
   "codemirror_mode": {
    "name": "ipython",
    "version": 3
   },
   "file_extension": ".py",
   "mimetype": "text/x-python",
   "name": "python",
   "nbconvert_exporter": "python",
   "pygments_lexer": "ipython3",
   "version": "3.9.8"
  }
 },
 "nbformat": 4,
 "nbformat_minor": 5
}
