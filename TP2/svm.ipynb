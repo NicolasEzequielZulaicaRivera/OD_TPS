{
 "cells": [
  {
   "cell_type": "markdown",
   "id": "3308d311-40d7-4259-a828-7a57b1c0697c",
   "metadata": {},
   "source": [
    "# SVM"
   ]
  },
  {
   "cell_type": "markdown",
   "id": "2052667d-db58-4679-830a-e39d8750ef0a",
   "metadata": {},
   "source": [
    "### Imports"
   ]
  },
  {
   "cell_type": "code",
   "execution_count": 1,
   "id": "57fe6f06-9c8e-4d61-97ae-d6a56db43ce2",
   "metadata": {
    "execution": {
     "iopub.execute_input": "2021-12-30T00:11:08.981155Z",
     "iopub.status.busy": "2021-12-30T00:11:08.980931Z",
     "iopub.status.idle": "2021-12-30T00:11:10.154526Z",
     "shell.execute_reply": "2021-12-30T00:11:10.153984Z",
     "shell.execute_reply.started": "2021-12-30T00:11:08.981100Z"
    }
   },
   "outputs": [],
   "source": [
    "import pandas as pd\n",
    "import numpy as np\n",
    "from matplotlib import pyplot as plt\n",
    "from joblib import dump, load"
   ]
  },
  {
   "cell_type": "code",
   "execution_count": 2,
   "id": "a49e6792-264c-4416-9d7a-2fd751337a76",
   "metadata": {
    "execution": {
     "iopub.execute_input": "2021-12-30T00:11:10.155997Z",
     "iopub.status.busy": "2021-12-30T00:11:10.155646Z",
     "iopub.status.idle": "2021-12-30T00:11:10.606944Z",
     "shell.execute_reply": "2021-12-30T00:11:10.606088Z",
     "shell.execute_reply.started": "2021-12-30T00:11:10.155966Z"
    }
   },
   "outputs": [],
   "source": [
    "from sklearn.svm import SVC\n",
    "from sklearn.experimental import enable_halving_search_cv\n",
    "from sklearn.model_selection import HalvingGridSearchCV"
   ]
  },
  {
   "cell_type": "code",
   "execution_count": 3,
   "id": "ecbe57a8-73db-45f4-a21d-4f876860ec06",
   "metadata": {
    "execution": {
     "iopub.execute_input": "2021-12-30T00:11:10.612153Z",
     "iopub.status.busy": "2021-12-30T00:11:10.611183Z",
     "iopub.status.idle": "2021-12-30T00:11:12.072046Z",
     "shell.execute_reply": "2021-12-30T00:11:12.071411Z",
     "shell.execute_reply.started": "2021-12-30T00:11:10.612049Z"
    }
   },
   "outputs": [
    {
     "name": "stdout",
     "output_type": "stream",
     "text": [
      "[###] Initial Preprocessings Done                           \n",
      "[###] Aditional Preprocessings Done                                                   \n"
     ]
    }
   ],
   "source": [
    "from preprocessing import reemplazarNulls,reemplazarCategoricas,reemplazarFechas,targetBooleano,regularizar,reemplazarCategoricas_OHE,reemplazarNullsNum,keepFeat_OHE"
   ]
  },
  {
   "cell_type": "code",
   "execution_count": 4,
   "id": "ae53c637-7f02-4802-9add-5a35ced69f64",
   "metadata": {
    "execution": {
     "iopub.execute_input": "2021-12-30T00:11:12.073559Z",
     "iopub.status.busy": "2021-12-30T00:11:12.073207Z",
     "iopub.status.idle": "2021-12-30T00:11:12.488543Z",
     "shell.execute_reply": "2021-12-30T00:11:12.487856Z",
     "shell.execute_reply.started": "2021-12-30T00:11:12.073484Z"
    }
   },
   "outputs": [],
   "source": [
    "from utilities import score, score2, df_feat, df_targ, train_val"
   ]
  },
  {
   "cell_type": "markdown",
   "id": "1aa60fef-ad74-400f-8ef7-8255160828a9",
   "metadata": {},
   "source": [
    "### Codigo a correr"
   ]
  },
  {
   "cell_type": "code",
   "execution_count": 5,
   "id": "ec911bfa-0fc9-40e5-96bd-42f11c0bb12b",
   "metadata": {
    "execution": {
     "iopub.execute_input": "2021-12-30T00:11:12.489962Z",
     "iopub.status.busy": "2021-12-30T00:11:12.489464Z",
     "iopub.status.idle": "2021-12-30T00:11:12.493586Z",
     "shell.execute_reply": "2021-12-30T00:11:12.492257Z",
     "shell.execute_reply.started": "2021-12-30T00:11:12.489940Z"
    }
   },
   "outputs": [],
   "source": [
    "MAX_ITER = 10**6\n",
    "MAX_JOBS = -1"
   ]
  },
  {
   "cell_type": "markdown",
   "id": "c99e8bfe-0edd-4db5-a218-1cf71f809d2d",
   "metadata": {},
   "source": [
    "**Run :** Entrenar Nuevamente o Cargar Entrenado"
   ]
  },
  {
   "cell_type": "code",
   "execution_count": 39,
   "id": "cd65bc5e-db28-4191-9e7f-0932bbd738a3",
   "metadata": {
    "execution": {
     "iopub.execute_input": "2021-12-30T00:14:28.672229Z",
     "iopub.status.busy": "2021-12-30T00:14:28.671983Z",
     "iopub.status.idle": "2021-12-30T00:14:28.677198Z",
     "shell.execute_reply": "2021-12-30T00:14:28.676406Z",
     "shell.execute_reply.started": "2021-12-30T00:14:28.672206Z"
    },
    "tags": []
   },
   "outputs": [],
   "source": [
    "runLinearSimple = False\n",
    "runLinear = False\n",
    "runPoly = False\n",
    "runRadial = False\n",
    "runPolyOhe = False\n",
    "runPolyOhe2 = True"
   ]
  },
  {
   "cell_type": "markdown",
   "id": "f1c590df-60bb-4c53-91e7-2da0c3476415",
   "metadata": {},
   "source": [
    "**Save :** Guardar Modelo (pisa anterior)"
   ]
  },
  {
   "cell_type": "code",
   "execution_count": 40,
   "id": "6f9b41b6-3059-4967-a9c7-c00188c3e415",
   "metadata": {
    "execution": {
     "iopub.execute_input": "2021-12-30T00:14:33.667486Z",
     "iopub.status.busy": "2021-12-30T00:14:33.667246Z",
     "iopub.status.idle": "2021-12-30T00:14:33.671053Z",
     "shell.execute_reply": "2021-12-30T00:14:33.670246Z",
     "shell.execute_reply.started": "2021-12-30T00:14:33.667461Z"
    },
    "tags": []
   },
   "outputs": [],
   "source": [
    "saveLinear= False\n",
    "saveLinearSimple= False\n",
    "savePoly = False\n",
    "saveRadial = False\n",
    "savePolyOhe = False\n",
    "savePolyOhe2 = True\n",
    "saveBest = False"
   ]
  },
  {
   "cell_type": "code",
   "execution_count": 8,
   "id": "c0bf50e0-f8f3-4264-826e-e5f7754cdd9d",
   "metadata": {
    "execution": {
     "iopub.execute_input": "2021-12-30T00:11:12.504643Z",
     "iopub.status.busy": "2021-12-30T00:11:12.504413Z",
     "iopub.status.idle": "2021-12-30T00:11:12.510596Z",
     "shell.execute_reply": "2021-12-30T00:11:12.509853Z",
     "shell.execute_reply.started": "2021-12-30T00:11:12.504622Z"
    }
   },
   "outputs": [],
   "source": [
    "predictions = pd.DataFrame()"
   ]
  },
  {
   "cell_type": "markdown",
   "id": "e6b58791-7d09-4d8a-8fcd-2b5e207db9fd",
   "metadata": {},
   "source": [
    "### Preprocesamiento"
   ]
  },
  {
   "cell_type": "code",
   "execution_count": 9,
   "id": "2e086941-2bc4-49ea-8bd8-91682b5a619a",
   "metadata": {
    "execution": {
     "iopub.execute_input": "2021-12-30T00:11:12.511949Z",
     "iopub.status.busy": "2021-12-30T00:11:12.511547Z",
     "iopub.status.idle": "2021-12-30T00:11:14.653424Z",
     "shell.execute_reply": "2021-12-30T00:11:14.652758Z",
     "shell.execute_reply.started": "2021-12-30T00:11:12.511928Z"
    },
    "tags": []
   },
   "outputs": [],
   "source": [
    "targetBooleano(df_targ, inplace=True)\n",
    "ohe_feat = reemplazarCategoricas_OHE(df_feat)\n",
    "\n",
    "reemplazarNulls(df_feat , inplace=True)\n",
    "reemplazarCategoricas(df_feat , inplace=True)\n",
    "reemplazarFechas(df_feat , inplace=True)\n",
    "regularizar(df_feat , inplace=True)\n",
    "\n",
    "reemplazarNullsNum(ohe_feat, inplace=True)\n",
    "reemplazarFechas(ohe_feat , inplace=True)\n",
    "ohe_feat2 = keepFeat_OHE(ohe_feat, 10)"
   ]
  },
  {
   "cell_type": "code",
   "execution_count": 10,
   "id": "642171dc-c717-48aa-9f13-3d5115385741",
   "metadata": {
    "execution": {
     "iopub.execute_input": "2021-12-30T00:11:14.654688Z",
     "iopub.status.busy": "2021-12-30T00:11:14.654323Z",
     "iopub.status.idle": "2021-12-30T00:11:14.665716Z",
     "shell.execute_reply": "2021-12-30T00:11:14.665196Z",
     "shell.execute_reply.started": "2021-12-30T00:11:14.654666Z"
    }
   },
   "outputs": [
    {
     "name": "stdout",
     "output_type": "stream",
     "text": [
      "<class 'pandas.core.frame.DataFrame'>\n",
      "Int64Index: 102356 entries, 74816 to 32535\n",
      "Data columns (total 11 columns):\n",
      " #   Column                       Non-Null Count   Dtype  \n",
      "---  ------                       --------------   -----  \n",
      " 0   direccion_viento_tarde       102356 non-null  float64\n",
      " 1   direccion_viento_temprano    102356 non-null  float64\n",
      " 2   horas_de_sol                 102356 non-null  float64\n",
      " 3   humedad_tarde                102356 non-null  float64\n",
      " 4   humedad_temprano             102356 non-null  float64\n",
      " 5   mm_lluvia_dia                102356 non-null  float64\n",
      " 6   nubosidad_tarde              102356 non-null  float64\n",
      " 7   presion_atmosferica_tarde    102356 non-null  float64\n",
      " 8   rafaga_viento_max_direccion  102356 non-null  float64\n",
      " 9   rafaga_viento_max_velocidad  102356 non-null  float64\n",
      " 10  velocidad_viendo_tarde       102356 non-null  float64\n",
      "dtypes: float64(11)\n",
      "memory usage: 9.4 MB\n"
     ]
    }
   ],
   "source": [
    "df_feat.info()"
   ]
  },
  {
   "cell_type": "code",
   "execution_count": 11,
   "id": "d3afba59-055e-4644-856b-1b6f93354ae8",
   "metadata": {
    "execution": {
     "iopub.execute_input": "2021-12-30T00:11:14.666836Z",
     "iopub.status.busy": "2021-12-30T00:11:14.666613Z",
     "iopub.status.idle": "2021-12-30T00:11:14.844605Z",
     "shell.execute_reply": "2021-12-30T00:11:14.843988Z",
     "shell.execute_reply.started": "2021-12-30T00:11:14.666814Z"
    }
   },
   "outputs": [],
   "source": [
    "train_feat, val_feat, train_targ, val_targ = train_val( df_feat, df_targ, True )\n",
    "train_feat2, val_feat2, train_targ2, val_targ2 = train_val( ohe_feat, df_targ, True )\n",
    "train_feat3, val_feat3, train_targ3, val_targ3 = train_val( ohe_feat2, df_targ, True )"
   ]
  },
  {
   "cell_type": "markdown",
   "id": "0644d54b-4e59-49d5-a8df-c627b574c2f3",
   "metadata": {},
   "source": [
    "## Entrenamiento"
   ]
  },
  {
   "cell_type": "markdown",
   "id": "12e60815-3880-48af-9fcc-527ec3ecec42",
   "metadata": {},
   "source": [
    "### Lineal"
   ]
  },
  {
   "cell_type": "markdown",
   "id": "f732770d-bf3a-4361-b9d8-ab3c94386c11",
   "metadata": {},
   "source": [
    "#### Simple"
   ]
  },
  {
   "cell_type": "code",
   "execution_count": 12,
   "id": "2bb0e7fa-49d3-4711-aa60-2a98afef1996",
   "metadata": {
    "execution": {
     "iopub.execute_input": "2021-12-30T00:11:14.850476Z",
     "iopub.status.busy": "2021-12-30T00:11:14.850111Z",
     "iopub.status.idle": "2021-12-30T00:11:14.863148Z",
     "shell.execute_reply": "2021-12-30T00:11:14.862395Z",
     "shell.execute_reply.started": "2021-12-30T00:11:14.850452Z"
    },
    "tags": []
   },
   "outputs": [],
   "source": [
    "if (runLinearSimple):\n",
    "    svm_simple_lineal = SVC(\n",
    "        kernel='linear', C=0.1,\n",
    "        max_iter=MAX_ITER, shrinking=False, verbose = 1, probability=True,\n",
    "    )\n",
    "    svm_simple_lineal.fit( train_feat, train_targ )\n",
    "    \n",
    "    # Guardar\n",
    "    if(saveLinearSimple):\n",
    "        dump(svm_simple_lineal, 'models/SVM/svm_simple_lineal.sk') \n",
    "else:\n",
    "    # Cargar\n",
    "    svm_simple_lineal = load('models/SVM/svm_simple_lineal.sk')"
   ]
  },
  {
   "cell_type": "code",
   "execution_count": 13,
   "id": "13fd98df-4710-49ba-8c42-a630eb2987df",
   "metadata": {
    "execution": {
     "iopub.execute_input": "2021-12-30T00:11:14.864375Z",
     "iopub.status.busy": "2021-12-30T00:11:14.864078Z",
     "iopub.status.idle": "2021-12-30T00:11:30.947948Z",
     "shell.execute_reply": "2021-12-30T00:11:30.947374Z",
     "shell.execute_reply.started": "2021-12-30T00:11:14.864350Z"
    },
    "tags": []
   },
   "outputs": [
    {
     "name": "stdout",
     "output_type": "stream",
     "text": [
      "AUC-ROC: 0.8475399723241047\n",
      "              precision    recall  f1-score   support\n",
      "\n",
      "       False       0.85      0.96      0.90      7946\n",
      "        True       0.73      0.41      0.53      2290\n",
      "\n",
      "    accuracy                           0.83     10236\n",
      "   macro avg       0.79      0.68      0.71     10236\n",
      "weighted avg       0.82      0.83      0.82     10236\n",
      "\n",
      "CONFUSION MATRIX\n",
      "CPU times: user 15.8 s, sys: 99.8 ms, total: 15.9 s\n",
      "Wall time: 16 s\n"
     ]
    },
    {
     "data": {
      "image/png": "[encoded data removed]",
      "text/plain": [
       "<Figure size 432x288 with 2 Axes>"
      ]
     },
     "metadata": {},
     "output_type": "display_data"
    }
   ],
   "source": [
    "%%time\n",
    "pred = svm_simple_lineal.predict(val_feat)\n",
    "prob = svm_simple_lineal.predict_proba(val_feat)\n",
    "score(val_targ, pred, prob[:,1])"
   ]
  },
  {
   "cell_type": "code",
   "execution_count": 14,
   "id": "ad858c2d-2cd8-47d6-a70e-66ba15dbc55e",
   "metadata": {
    "execution": {
     "iopub.execute_input": "2021-12-30T00:11:30.949321Z",
     "iopub.status.busy": "2021-12-30T00:11:30.948918Z",
     "iopub.status.idle": "2021-12-30T00:11:30.983631Z",
     "shell.execute_reply": "2021-12-30T00:11:30.983012Z",
     "shell.execute_reply.started": "2021-12-30T00:11:30.949287Z"
    },
    "tags": []
   },
   "outputs": [],
   "source": [
    "pdf = score2('Lineal (Simple)','Regularizado',val_targ, pred, prob[:,1])\n",
    "predictions = predictions.append( pdf )"
   ]
  },
  {
   "cell_type": "markdown",
   "id": "004420d2-c81b-4d3c-8cb0-915b0f06a536",
   "metadata": {},
   "source": [
    "#### Optimizando Hiperparametros"
   ]
  },
  {
   "cell_type": "code",
   "execution_count": 15,
   "id": "85132091-d2b2-4af9-919f-ce3b670d498b",
   "metadata": {
    "execution": {
     "iopub.execute_input": "2021-12-30T00:11:30.984653Z",
     "iopub.status.busy": "2021-12-30T00:11:30.984420Z",
     "iopub.status.idle": "2021-12-30T00:11:30.990428Z",
     "shell.execute_reply": "2021-12-30T00:11:30.989728Z",
     "shell.execute_reply.started": "2021-12-30T00:11:30.984633Z"
    },
    "tags": []
   },
   "outputs": [
    {
     "data": {
      "text/plain": [
       "array([0.01, 0.04, 0.07, 0.1 , 0.4 , 0.7 , 1.  , 4.  , 7.  ])"
      ]
     },
     "execution_count": 15,
     "metadata": {},
     "output_type": "execute_result"
    }
   ],
   "source": [
    "base_arrange = np.arange(0.01, 0.09, 0.03)\n",
    "hipr_arrange = np.concatenate((base_arrange,base_arrange*10,base_arrange*100),axis=None)\n",
    "hipr_arrange"
   ]
  },
  {
   "cell_type": "code",
   "execution_count": 16,
   "id": "abca05b1-08f1-4509-9c92-f58d4d860789",
   "metadata": {
    "execution": {
     "iopub.execute_input": "2021-12-30T00:11:30.992028Z",
     "iopub.status.busy": "2021-12-30T00:11:30.991444Z",
     "iopub.status.idle": "2021-12-30T00:11:31.008851Z",
     "shell.execute_reply": "2021-12-30T00:11:31.008129Z",
     "shell.execute_reply.started": "2021-12-30T00:11:30.992004Z"
    },
    "scrolled": true,
    "tags": []
   },
   "outputs": [],
   "source": [
    "if (runLinear):\n",
    "    svm_lineal = SVC(\n",
    "        kernel='linear',\n",
    "        max_iter=MAX_ITER, shrinking=False, probability=True,\n",
    "    )\n",
    "    params = {'C': hipr_arrange}\n",
    "    \n",
    "    svm_lineal_grid = HalvingGridSearchCV(\n",
    "        svm_lineal,\n",
    "        params,\n",
    "        scoring='roc_auc',\n",
    "        n_jobs=MAX_JOBS,\n",
    "        return_train_score=True,\n",
    "        verbose=2, cv=2,\n",
    "    ).fit(train_feat, train_targ)\n",
    "    \n",
    "    # Guardar\n",
    "    if(saveLinear):\n",
    "        dump(svm_lineal_grid, 'models/SVM/svm_lineal_grid.sk')\n",
    "else:\n",
    "    # Cargar\n",
    "    svm_lineal_grid = load('models/SVM/svm_lineal_grid.sk')"
   ]
  },
  {
   "cell_type": "code",
   "execution_count": 17,
   "id": "3b5f0332-67fc-445d-9a82-0fcc17095aca",
   "metadata": {
    "execution": {
     "iopub.execute_input": "2021-12-30T00:11:31.010448Z",
     "iopub.status.busy": "2021-12-30T00:11:31.010002Z",
     "iopub.status.idle": "2021-12-30T00:11:31.016174Z",
     "shell.execute_reply": "2021-12-30T00:11:31.015426Z",
     "shell.execute_reply.started": "2021-12-30T00:11:31.010415Z"
    }
   },
   "outputs": [
    {
     "name": "stdout",
     "output_type": "stream",
     "text": [
      "Best score: 0.8529340701093246\n",
      "Best params {'C': 0.01}\n"
     ]
    }
   ],
   "source": [
    "print(f\"Best score: {svm_lineal_grid.best_score_}\")\n",
    "print(f\"Best params {svm_lineal_grid.best_params_}\")"
   ]
  },
  {
   "cell_type": "code",
   "execution_count": 18,
   "id": "b3a91c8f-546d-44ce-a5df-f8e669a0d1cb",
   "metadata": {
    "execution": {
     "iopub.execute_input": "2021-12-30T00:11:31.017429Z",
     "iopub.status.busy": "2021-12-30T00:11:31.017171Z",
     "iopub.status.idle": "2021-12-30T00:11:31.021645Z",
     "shell.execute_reply": "2021-12-30T00:11:31.020837Z",
     "shell.execute_reply.started": "2021-12-30T00:11:31.017408Z"
    },
    "tags": []
   },
   "outputs": [],
   "source": [
    "svm_lineal = svm_lineal_grid.best_estimator_"
   ]
  },
  {
   "cell_type": "code",
   "execution_count": 19,
   "id": "f03a261f-ee22-4e23-af00-0c050a5b5eb9",
   "metadata": {
    "execution": {
     "iopub.execute_input": "2021-12-30T00:11:31.022862Z",
     "iopub.status.busy": "2021-12-30T00:11:31.022509Z",
     "iopub.status.idle": "2021-12-30T00:11:47.034528Z",
     "shell.execute_reply": "2021-12-30T00:11:47.033841Z",
     "shell.execute_reply.started": "2021-12-30T00:11:31.022828Z"
    }
   },
   "outputs": [
    {
     "name": "stdout",
     "output_type": "stream",
     "text": [
      "AUC-ROC: 0.8475881138734495\n",
      "              precision    recall  f1-score   support\n",
      "\n",
      "       False       0.85      0.96      0.90      7946\n",
      "        True       0.73      0.41      0.53      2290\n",
      "\n",
      "    accuracy                           0.83     10236\n",
      "   macro avg       0.79      0.68      0.71     10236\n",
      "weighted avg       0.82      0.83      0.82     10236\n",
      "\n",
      "CONFUSION MATRIX\n",
      "CPU times: user 15.7 s, sys: 103 ms, total: 15.8 s\n",
      "Wall time: 15.9 s\n"
     ]
    },
    {
     "data": {
      "image/png": "[encoded data removed]",
      "text/plain": [
       "<Figure size 432x288 with 2 Axes>"
      ]
     },
     "metadata": {},
     "output_type": "display_data"
    }
   ],
   "source": [
    "%%time\n",
    "pred = svm_lineal.predict(val_feat)\n",
    "prob = svm_lineal.predict_proba(val_feat)\n",
    "score(val_targ, pred, prob[:,1])"
   ]
  },
  {
   "cell_type": "code",
   "execution_count": 20,
   "id": "083ee9e0-37ae-43a5-8c33-98f6f7796471",
   "metadata": {
    "execution": {
     "iopub.execute_input": "2021-12-30T00:11:47.035894Z",
     "iopub.status.busy": "2021-12-30T00:11:47.035585Z",
     "iopub.status.idle": "2021-12-30T00:11:47.070947Z",
     "shell.execute_reply": "2021-12-30T00:11:47.070327Z",
     "shell.execute_reply.started": "2021-12-30T00:11:47.035871Z"
    }
   },
   "outputs": [],
   "source": [
    "pdf = score2('Lineal','Regularizado',val_targ, pred, prob[:,1])\n",
    "predictions = predictions.append( pdf )"
   ]
  },
  {
   "cell_type": "markdown",
   "id": "530e14b5-501c-4cf5-87fc-b57e4559f24c",
   "metadata": {},
   "source": [
    "### Poly"
   ]
  },
  {
   "cell_type": "code",
   "execution_count": 21,
   "id": "9a1c6ade-0f11-4c42-a68f-c577ae5b311b",
   "metadata": {
    "execution": {
     "iopub.execute_input": "2021-12-30T00:11:47.072322Z",
     "iopub.status.busy": "2021-12-30T00:11:47.071971Z",
     "iopub.status.idle": "2021-12-30T00:11:47.142154Z",
     "shell.execute_reply": "2021-12-30T00:11:47.141452Z",
     "shell.execute_reply.started": "2021-12-30T00:11:47.072300Z"
    },
    "scrolled": true,
    "tags": []
   },
   "outputs": [],
   "source": [
    "if (runPolyOhe):\n",
    "    svm_poly = SVC(\n",
    "        kernel='poly',\n",
    "        max_iter=MAX_ITER*10, shrinking=False, probability=True,\n",
    "    )\n",
    "    params = {\n",
    "        'C': hipr_arrange*10,\n",
    "        'degree': np.arange(1,5,1),\n",
    "        'gamma': hipr_arrange,\n",
    "        'coef0': hipr_arrange*10,\n",
    "    }\n",
    "    \n",
    "    svm_poly_grid = HalvingGridSearchCV(\n",
    "        svm_poly,\n",
    "        params,\n",
    "        scoring='roc_auc',\n",
    "        n_jobs=MAX_JOBS,\n",
    "        return_train_score=True,\n",
    "        verbose=1, cv=2,\n",
    "    ).fit(train_feat, train_targ)\n",
    "    \n",
    "    # Guardar\n",
    "    if(savePolyOhe):\n",
    "        dump(svm_poly_grid, 'models/SVM/svm_poly_grid.sk')\n",
    "else:\n",
    "    # Cargar\n",
    "    svm_poly_grid = load('models/SVM/svm_poly_grid.sk')"
   ]
  },
  {
   "cell_type": "code",
   "execution_count": 22,
   "id": "8ee1ff2a-4b23-4a2e-a661-516ea9da0929",
   "metadata": {
    "execution": {
     "iopub.execute_input": "2021-12-30T00:11:47.143353Z",
     "iopub.status.busy": "2021-12-30T00:11:47.142975Z",
     "iopub.status.idle": "2021-12-30T00:11:47.150626Z",
     "shell.execute_reply": "2021-12-30T00:11:47.148567Z",
     "shell.execute_reply.started": "2021-12-30T00:11:47.143326Z"
    }
   },
   "outputs": [
    {
     "name": "stdout",
     "output_type": "stream",
     "text": [
      "Best score: 0.8544879466592524\n",
      "Best params {'C': 0.4, 'coef0': 1.0, 'degree': 2, 'gamma': 0.01}\n"
     ]
    }
   ],
   "source": [
    "print(f\"Best score: {svm_poly_grid.best_score_}\")\n",
    "print(f\"Best params {svm_poly_grid.best_params_}\")"
   ]
  },
  {
   "cell_type": "code",
   "execution_count": 23,
   "id": "3e76b2e2-9433-477e-805a-08221d60457f",
   "metadata": {
    "execution": {
     "iopub.execute_input": "2021-12-30T00:11:47.152039Z",
     "iopub.status.busy": "2021-12-30T00:11:47.151621Z",
     "iopub.status.idle": "2021-12-30T00:11:47.155620Z",
     "shell.execute_reply": "2021-12-30T00:11:47.154717Z",
     "shell.execute_reply.started": "2021-12-30T00:11:47.152017Z"
    }
   },
   "outputs": [],
   "source": [
    "svm_poly = svm_poly_grid.best_estimator_"
   ]
  },
  {
   "cell_type": "code",
   "execution_count": 24,
   "id": "cb649cab-5d78-4719-8aad-06510de22afe",
   "metadata": {
    "execution": {
     "iopub.execute_input": "2021-12-30T00:11:47.156725Z",
     "iopub.status.busy": "2021-12-30T00:11:47.156429Z",
     "iopub.status.idle": "2021-12-30T00:12:04.960362Z",
     "shell.execute_reply": "2021-12-30T00:12:04.959713Z",
     "shell.execute_reply.started": "2021-12-30T00:11:47.156702Z"
    }
   },
   "outputs": [
    {
     "name": "stdout",
     "output_type": "stream",
     "text": [
      "AUC-ROC: 0.849826173834958\n",
      "              precision    recall  f1-score   support\n",
      "\n",
      "       False       0.84      0.97      0.90      7946\n",
      "        True       0.77      0.38      0.51      2290\n",
      "\n",
      "    accuracy                           0.84     10236\n",
      "   macro avg       0.81      0.67      0.70     10236\n",
      "weighted avg       0.83      0.84      0.81     10236\n",
      "\n",
      "CONFUSION MATRIX\n",
      "CPU times: user 17.4 s, sys: 120 ms, total: 17.5 s\n",
      "Wall time: 17.7 s\n"
     ]
    },
    {
     "data": {
      "image/png": "[encoded data removed]",
      "text/plain": [
       "<Figure size 432x288 with 2 Axes>"
      ]
     },
     "metadata": {},
     "output_type": "display_data"
    }
   ],
   "source": [
    "%%time\n",
    "pred = svm_poly.predict(val_feat)\n",
    "prob = svm_poly.predict_proba(val_feat)\n",
    "score(val_targ, pred, prob[:,1])"
   ]
  },
  {
   "cell_type": "code",
   "execution_count": 25,
   "id": "ce95b7e7-2368-4336-b641-4441f43bbb20",
   "metadata": {
    "execution": {
     "iopub.execute_input": "2021-12-30T00:12:04.961651Z",
     "iopub.status.busy": "2021-12-30T00:12:04.961396Z",
     "iopub.status.idle": "2021-12-30T00:12:04.998175Z",
     "shell.execute_reply": "2021-12-30T00:12:04.996334Z",
     "shell.execute_reply.started": "2021-12-30T00:12:04.961628Z"
    }
   },
   "outputs": [],
   "source": [
    "pdf = score2('Poly','Regularizado',val_targ, pred, prob[:,1])\n",
    "predictions = predictions.append( pdf )"
   ]
  },
  {
   "cell_type": "markdown",
   "id": "312b5d3e-396b-4e51-a773-57db20b0f2b8",
   "metadata": {},
   "source": [
    "#### One Hot Encoding"
   ]
  },
  {
   "cell_type": "code",
   "execution_count": 26,
   "id": "651b4312-9fb9-4226-8fe3-91c9a1d9d592",
   "metadata": {
    "execution": {
     "iopub.execute_input": "2021-12-30T00:12:05.000251Z",
     "iopub.status.busy": "2021-12-30T00:12:04.999842Z",
     "iopub.status.idle": "2021-12-30T00:12:05.089338Z",
     "shell.execute_reply": "2021-12-30T00:12:05.088658Z",
     "shell.execute_reply.started": "2021-12-30T00:12:05.000226Z"
    },
    "scrolled": true,
    "tags": []
   },
   "outputs": [],
   "source": [
    "if (runPolyOhe):\n",
    "    svm_poly_ohe = SVC(\n",
    "        kernel='poly',\n",
    "        max_iter=MAX_ITER*10, shrinking=False, probability=True,\n",
    "    )\n",
    "    params = {\n",
    "        'C': hipr_arrange*10,\n",
    "        'degree': np.arange(1,5,1),\n",
    "        'gamma': hipr_arrange,\n",
    "        'coef0': hipr_arrange*10,\n",
    "    }\n",
    "    \n",
    "    svm_poly_ohe_grid = HalvingGridSearchCV(\n",
    "        svm_poly_ohe,\n",
    "        params,\n",
    "        scoring='roc_auc',\n",
    "        n_jobs=MAX_JOBS,\n",
    "        return_train_score=True,\n",
    "        verbose=1, cv=2,\n",
    "    ).fit(train_feat2, train_targ2)\n",
    "    \n",
    "    # Guardar\n",
    "    if(savePolyOhe):\n",
    "        dump(svm_poly_ohe_grid, 'models/SVM/svm_poly_ohe_grid.sk')\n",
    "else:\n",
    "    # Cargar\n",
    "    svm_poly_ohe_grid = load('models/SVM/svm_poly_ohe_grid.sk')"
   ]
  },
  {
   "cell_type": "code",
   "execution_count": 27,
   "id": "39a14b9e-74f2-4cf0-aa6b-29b2ac26b154",
   "metadata": {
    "execution": {
     "iopub.execute_input": "2021-12-30T00:12:05.090431Z",
     "iopub.status.busy": "2021-12-30T00:12:05.090167Z",
     "iopub.status.idle": "2021-12-30T00:12:05.094327Z",
     "shell.execute_reply": "2021-12-30T00:12:05.093622Z",
     "shell.execute_reply.started": "2021-12-30T00:12:05.090409Z"
    }
   },
   "outputs": [
    {
     "name": "stdout",
     "output_type": "stream",
     "text": [
      "Best score: 0.8709715751563119\n",
      "Best params {'C': 0.7, 'coef0': 69.99999999999999, 'degree': 1, 'gamma': 0.01}\n"
     ]
    }
   ],
   "source": [
    "print(f\"Best score: {svm_poly_ohe_grid.best_score_}\")\n",
    "print(f\"Best params {svm_poly_ohe_grid.best_params_}\")"
   ]
  },
  {
   "cell_type": "code",
   "execution_count": 28,
   "id": "ac4e1ec9-beb4-423e-b939-ec6686f58b1a",
   "metadata": {
    "execution": {
     "iopub.execute_input": "2021-12-30T00:12:05.095744Z",
     "iopub.status.busy": "2021-12-30T00:12:05.095346Z",
     "iopub.status.idle": "2021-12-30T00:12:05.099252Z",
     "shell.execute_reply": "2021-12-30T00:12:05.098613Z",
     "shell.execute_reply.started": "2021-12-30T00:12:05.095721Z"
    }
   },
   "outputs": [],
   "source": [
    "svm_poly_ohe = svm_poly_ohe_grid.best_estimator_"
   ]
  },
  {
   "cell_type": "code",
   "execution_count": 29,
   "id": "136b154c-df54-4fb8-9f86-8facdc30363b",
   "metadata": {
    "execution": {
     "iopub.execute_input": "2021-12-30T00:12:05.100403Z",
     "iopub.status.busy": "2021-12-30T00:12:05.100085Z",
     "iopub.status.idle": "2021-12-30T00:12:53.103421Z",
     "shell.execute_reply": "2021-12-30T00:12:53.102742Z",
     "shell.execute_reply.started": "2021-12-30T00:12:05.100378Z"
    }
   },
   "outputs": [
    {
     "name": "stdout",
     "output_type": "stream",
     "text": [
      "AUC-ROC: 0.8677241687064541\n",
      "              precision    recall  f1-score   support\n",
      "\n",
      "       False       0.86      0.95      0.90      7946\n",
      "        True       0.74      0.46      0.57      2290\n",
      "\n",
      "    accuracy                           0.84     10236\n",
      "   macro avg       0.80      0.71      0.74     10236\n",
      "weighted avg       0.83      0.84      0.83     10236\n",
      "\n",
      "CONFUSION MATRIX\n",
      "CPU times: user 47.2 s, sys: 277 ms, total: 47.5 s\n",
      "Wall time: 47.9 s\n"
     ]
    },
    {
     "data": {
      "image/png": "[encoded data removed]",
      "text/plain": [
       "<Figure size 432x288 with 2 Axes>"
      ]
     },
     "metadata": {},
     "output_type": "display_data"
    }
   ],
   "source": [
    "%%time\n",
    "pred = svm_poly_ohe.predict(val_feat2)\n",
    "prob = svm_poly_ohe.predict_proba(val_feat2)\n",
    "score(val_targ2, pred, prob[:,1])"
   ]
  },
  {
   "cell_type": "code",
   "execution_count": 30,
   "id": "e790a328-79e1-4aed-8e11-807272745c6a",
   "metadata": {
    "execution": {
     "iopub.execute_input": "2021-12-30T00:12:53.105198Z",
     "iopub.status.busy": "2021-12-30T00:12:53.104604Z",
     "iopub.status.idle": "2021-12-30T00:12:53.143961Z",
     "shell.execute_reply": "2021-12-30T00:12:53.143234Z",
     "shell.execute_reply.started": "2021-12-30T00:12:53.105169Z"
    }
   },
   "outputs": [],
   "source": [
    "pdf = score2('Poly 2','OHE',val_targ2, pred, prob[:,1])\n",
    "predictions = predictions.append( pdf )"
   ]
  },
  {
   "cell_type": "markdown",
   "id": "f15cb5a6-9d0f-4082-8374-5d8e4e482f7a",
   "metadata": {},
   "source": [
    "#### One Hot Encoding con seleccion de variables"
   ]
  },
  {
   "cell_type": "code",
   "execution_count": null,
   "id": "ca6577b3-57ea-4d11-8812-2e82e10dd125",
   "metadata": {
    "execution": {
     "iopub.execute_input": "2021-12-30T00:14:56.345688Z",
     "iopub.status.busy": "2021-12-30T00:14:56.345203Z"
    },
    "scrolled": true,
    "tags": []
   },
   "outputs": [
    {
     "name": "stdout",
     "output_type": "stream",
     "text": [
      "n_iterations: 8\n",
      "n_required_iterations: 8\n",
      "n_possible_iterations: 8\n",
      "min_resources_: 42\n",
      "max_resources_: 92120\n",
      "aggressive_elimination: False\n",
      "factor: 3\n",
      "----------\n",
      "iter: 0\n",
      "n_candidates: 2916\n",
      "n_resources: 42\n",
      "Fitting 2 folds for each of 2916 candidates, totalling 5832 fits\n",
      "----------\n",
      "iter: 1\n",
      "n_candidates: 972\n",
      "n_resources: 126\n",
      "Fitting 2 folds for each of 972 candidates, totalling 1944 fits\n"
     ]
    },
    {
     "name": "stderr",
     "output_type": "stream",
     "text": [
      "/Users/nicozulaica/Documents/FIUBA/orga/venv/lib/python3.9/site-packages/sklearn/svm/_base.py:284: ConvergenceWarning: Solver terminated early (max_iter=10000000).  Consider pre-processing your data with StandardScaler or MinMaxScaler.\n",
      "  warnings.warn(\n",
      "/Users/nicozulaica/Documents/FIUBA/orga/venv/lib/python3.9/site-packages/sklearn/svm/_base.py:284: ConvergenceWarning: Solver terminated early (max_iter=10000000).  Consider pre-processing your data with StandardScaler or MinMaxScaler.\n",
      "  warnings.warn(\n"
     ]
    },
    {
     "name": "stdout",
     "output_type": "stream",
     "text": [
      "----------\n",
      "iter: 2\n",
      "n_candidates: 324\n",
      "n_resources: 378\n",
      "Fitting 2 folds for each of 324 candidates, totalling 648 fits\n"
     ]
    },
    {
     "name": "stderr",
     "output_type": "stream",
     "text": [
      "/Users/nicozulaica/Documents/FIUBA/orga/venv/lib/python3.9/site-packages/sklearn/svm/_base.py:284: ConvergenceWarning: Solver terminated early (max_iter=10000000).  Consider pre-processing your data with StandardScaler or MinMaxScaler.\n",
      "  warnings.warn(\n",
      "/Users/nicozulaica/Documents/FIUBA/orga/venv/lib/python3.9/site-packages/sklearn/svm/_base.py:284: ConvergenceWarning: Solver terminated early (max_iter=10000000).  Consider pre-processing your data with StandardScaler or MinMaxScaler.\n",
      "  warnings.warn(\n"
     ]
    },
    {
     "name": "stdout",
     "output_type": "stream",
     "text": [
      "----------\n",
      "iter: 3\n",
      "n_candidates: 108\n",
      "n_resources: 1134\n",
      "Fitting 2 folds for each of 108 candidates, totalling 216 fits\n",
      "----------\n",
      "iter: 4\n",
      "n_candidates: 36\n",
      "n_resources: 3402\n",
      "Fitting 2 folds for each of 36 candidates, totalling 72 fits\n",
      "----------\n",
      "iter: 5\n",
      "n_candidates: 12\n",
      "n_resources: 10206\n",
      "Fitting 2 folds for each of 12 candidates, totalling 24 fits\n"
     ]
    },
    {
     "name": "stderr",
     "output_type": "stream",
     "text": [
      "/Users/nicozulaica/Documents/FIUBA/orga/venv/lib/python3.9/site-packages/sklearn/svm/_base.py:284: ConvergenceWarning: Solver terminated early (max_iter=10000000).  Consider pre-processing your data with StandardScaler or MinMaxScaler.\n",
      "  warnings.warn(\n"
     ]
    },
    {
     "name": "stdout",
     "output_type": "stream",
     "text": [
      "----------\n",
      "iter: 6\n",
      "n_candidates: 4\n",
      "n_resources: 30618\n",
      "Fitting 2 folds for each of 4 candidates, totalling 8 fits\n",
      "----------\n",
      "iter: 7\n",
      "n_candidates: 2\n",
      "n_resources: 91854\n",
      "Fitting 2 folds for each of 2 candidates, totalling 4 fits\n"
     ]
    }
   ],
   "source": [
    "if (runPolyOhe2):\n",
    "    svm_poly_ohe2 = SVC(\n",
    "        kernel='poly',\n",
    "        max_iter=MAX_ITER*10, shrinking=False, probability=True,\n",
    "    )\n",
    "    params = {\n",
    "        'C': hipr_arrange*10,\n",
    "        'degree': np.arange(1,5,1),\n",
    "        'gamma': hipr_arrange,\n",
    "        'coef0': hipr_arrange*10,\n",
    "    }\n",
    "    \n",
    "    svm_poly_ohe_grid2 = HalvingGridSearchCV(\n",
    "        svm_poly_ohe2,\n",
    "        params,\n",
    "        scoring='roc_auc',\n",
    "        n_jobs=MAX_JOBS,\n",
    "        return_train_score=True,\n",
    "        verbose=1, cv=2,\n",
    "    ).fit(train_feat3, train_targ3)\n",
    "    \n",
    "    # Guardar\n",
    "    if(savePolyOhe2):\n",
    "        dump(svm_poly_ohe_grid2, 'models/SVM/svm_poly_ohe_grid2.sk')\n",
    "else:\n",
    "    # Cargar\n",
    "    svm_poly_ohe_grid2 = load('models/SVM/svm_poly_ohe_grid2.sk')"
   ]
  },
  {
   "cell_type": "code",
   "execution_count": null,
   "id": "32dc9c68-68b4-4db5-ac4c-8f09a528d112",
   "metadata": {},
   "outputs": [],
   "source": [
    "print(f\"Best score: {svm_poly_ohe_grid2.best_score_}\")\n",
    "print(f\"Best params {svm_poly_ohe_grid2.best_params_}\")"
   ]
  },
  {
   "cell_type": "code",
   "execution_count": null,
   "id": "c40625b6-3406-4956-aadd-75799a490f96",
   "metadata": {},
   "outputs": [],
   "source": [
    "svm_poly_ohe2 = svm_poly_ohe_grid2.best_estimator_"
   ]
  },
  {
   "cell_type": "code",
   "execution_count": null,
   "id": "35aff78f-c59b-4393-9cd9-6359d8ff9c74",
   "metadata": {},
   "outputs": [],
   "source": [
    "%%time\n",
    "pred = svm_poly_ohe2.predict(val_feat3)\n",
    "prob = svm_poly_ohe2.predict_proba(val_feat3)\n",
    "score(val_targ3, pred, prob[:,1])"
   ]
  },
  {
   "cell_type": "code",
   "execution_count": null,
   "id": "15097d17-990c-423c-9286-6f05909e0593",
   "metadata": {},
   "outputs": [],
   "source": [
    "pdf = score2('Poly 3','OHE 2',val_targ3, pred, prob[:,1])\n",
    "predictions = predictions.append( pdf )"
   ]
  },
  {
   "cell_type": "markdown",
   "id": "1be225e9-65ab-42c7-a559-4e494a14c782",
   "metadata": {},
   "source": [
    "### Radial"
   ]
  },
  {
   "cell_type": "code",
   "execution_count": null,
   "id": "a3d772e9-548d-445e-b785-86b0bf6f13dc",
   "metadata": {
    "scrolled": true,
    "tags": []
   },
   "outputs": [],
   "source": [
    "if (runRadial):\n",
    "    svm_radial = SVC(\n",
    "        kernel='rbf',\n",
    "        max_iter=MAX_ITER, shrinking=False, probability=True,\n",
    "    )\n",
    "    params = {\n",
    "        'C': hipr_arrange,\n",
    "        'gamma': hipr_arrange,\n",
    "    }\n",
    "    \n",
    "    svm_radial_grid = HalvingGridSearchCV(\n",
    "        svm_radial,\n",
    "        params,\n",
    "        scoring='roc_auc',\n",
    "        n_jobs=MAX_JOBS,\n",
    "        return_train_score=True,\n",
    "        verbose=1, cv=2,\n",
    "    ).fit(train_feat, train_targ)\n",
    "    \n",
    "    # Guardar\n",
    "    if(saveRadial):\n",
    "        dump(svm_radial_grid, 'models/SVM/svm_radial_grid.sk')\n",
    "else:\n",
    "    # Cargar\n",
    "    svm_radial_grid = load('models/SVM/svm_radial_grid.sk')"
   ]
  },
  {
   "cell_type": "code",
   "execution_count": null,
   "id": "cfc6f607-5b5b-4825-8c61-ed1b450fc447",
   "metadata": {
    "tags": []
   },
   "outputs": [],
   "source": [
    "print(f\"Best score: {svm_radial_grid.best_score_}\")\n",
    "print(f\"Best params {svm_radial_grid.best_params_}\")"
   ]
  },
  {
   "cell_type": "code",
   "execution_count": null,
   "id": "4ba261c2-bcaf-4ef1-9d57-e7845ee9f1e9",
   "metadata": {
    "tags": []
   },
   "outputs": [],
   "source": [
    "svm_radial = svm_radial_grid.best_estimator_"
   ]
  },
  {
   "cell_type": "code",
   "execution_count": null,
   "id": "f04af9eb-96ba-4598-9ea5-428430751db0",
   "metadata": {
    "tags": []
   },
   "outputs": [],
   "source": [
    "%%time\n",
    "pred = svm_radial.predict(val_feat)\n",
    "prob = svm_radial.predict_proba(val_feat)\n",
    "score(val_targ, pred, prob[:,1])"
   ]
  },
  {
   "cell_type": "code",
   "execution_count": null,
   "id": "4ef67c74-a79c-43dd-8b07-2af42823ad87",
   "metadata": {},
   "outputs": [],
   "source": [
    "pdf = score2('Radial','Regularizado',val_targ, pred, prob[:,1])\n",
    "predictions = predictions.append( pdf )"
   ]
  },
  {
   "cell_type": "markdown",
   "id": "49a23b52-ff58-4562-933d-c0c15f6ad595",
   "metadata": {},
   "source": [
    "## Resultados"
   ]
  },
  {
   "cell_type": "code",
   "execution_count": null,
   "id": "db7753a2-d0e7-4c72-8493-074619727eba",
   "metadata": {},
   "outputs": [],
   "source": [
    "predictions"
   ]
  },
  {
   "cell_type": "code",
   "execution_count": null,
   "id": "b58bf54a-cb21-48de-957a-ee8d2553ca9f",
   "metadata": {
    "tags": []
   },
   "outputs": [],
   "source": [
    "if(saveBest):\n",
    "    dump(svm_poly_ohe, 'models/SVM/svm.sk')"
   ]
  }
 ],
 "metadata": {
  "kernelspec": {
   "display_name": "Python 3 (ipykernel)",
   "language": "python",
   "name": "python3"
  },
  "language_info": {
   "codemirror_mode": {
    "name": "ipython",
    "version": 3
   },
   "file_extension": ".py",
   "mimetype": "text/x-python",
   "name": "python",
   "nbconvert_exporter": "python",
   "pygments_lexer": "ipython3",
   "version": "3.9.9"
  }
 },
 "nbformat": 4,
 "nbformat_minor": 5
}
