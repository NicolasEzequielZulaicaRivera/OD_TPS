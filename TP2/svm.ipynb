{
 "cells": [
  {
   "cell_type": "markdown",
   "id": "3308d311-40d7-4259-a828-7a57b1c0697c",
   "metadata": {},
   "source": [
    "# SVM"
   ]
  },
  {
   "cell_type": "markdown",
   "id": "2052667d-db58-4679-830a-e39d8750ef0a",
   "metadata": {},
   "source": [
    "### Imports"
   ]
  },
  {
   "cell_type": "code",
   "execution_count": 1,
   "id": "57fe6f06-9c8e-4d61-97ae-d6a56db43ce2",
   "metadata": {
    "execution": {
     "iopub.execute_input": "2021-12-06T20:19:00.859231Z",
     "iopub.status.busy": "2021-12-06T20:19:00.858619Z",
     "iopub.status.idle": "2021-12-06T20:19:01.671242Z",
     "shell.execute_reply": "2021-12-06T20:19:01.669982Z",
     "shell.execute_reply.started": "2021-12-06T20:19:00.859074Z"
    }
   },
   "outputs": [],
   "source": [
    "import pandas as pd\n",
    "import numpy as np\n",
    "from matplotlib import pyplot as plt\n",
    "from joblib import dump, load"
   ]
  },
  {
   "cell_type": "code",
   "execution_count": 2,
   "id": "a49e6792-264c-4416-9d7a-2fd751337a76",
   "metadata": {
    "execution": {
     "iopub.execute_input": "2021-12-06T20:19:01.672555Z",
     "iopub.status.busy": "2021-12-06T20:19:01.672358Z",
     "iopub.status.idle": "2021-12-06T20:19:01.955632Z",
     "shell.execute_reply": "2021-12-06T20:19:01.954596Z",
     "shell.execute_reply.started": "2021-12-06T20:19:01.672536Z"
    }
   },
   "outputs": [],
   "source": [
    "from sklearn.svm import SVC\n",
    "from sklearn.experimental import enable_halving_search_cv\n",
    "from sklearn.model_selection import HalvingGridSearchCV"
   ]
  },
  {
   "cell_type": "code",
   "execution_count": 3,
   "id": "ecbe57a8-73db-45f4-a21d-4f876860ec06",
   "metadata": {
    "execution": {
     "iopub.execute_input": "2021-12-06T20:19:01.957725Z",
     "iopub.status.busy": "2021-12-06T20:19:01.957475Z",
     "iopub.status.idle": "2021-12-06T20:19:03.075670Z",
     "shell.execute_reply": "2021-12-06T20:19:03.074711Z",
     "shell.execute_reply.started": "2021-12-06T20:19:01.957690Z"
    }
   },
   "outputs": [
    {
     "name": "stdout",
     "output_type": "stream",
     "text": [
      "[###] All Done                                              \n"
     ]
    }
   ],
   "source": [
    "from preprocessing import reemplazarNulls,reemplazarCategoricas,reemplazarFechas,targetBooleano,regularizar"
   ]
  },
  {
   "cell_type": "code",
   "execution_count": 4,
   "id": "ae53c637-7f02-4802-9add-5a35ced69f64",
   "metadata": {
    "execution": {
     "iopub.execute_input": "2021-12-06T20:19:03.076940Z",
     "iopub.status.busy": "2021-12-06T20:19:03.076706Z",
     "iopub.status.idle": "2021-12-06T20:19:03.473703Z",
     "shell.execute_reply": "2021-12-06T20:19:03.472708Z",
     "shell.execute_reply.started": "2021-12-06T20:19:03.076918Z"
    }
   },
   "outputs": [],
   "source": [
    "from utilities import score, df_feat, df_targ, train_val"
   ]
  },
  {
   "cell_type": "markdown",
   "id": "1aa60fef-ad74-400f-8ef7-8255160828a9",
   "metadata": {},
   "source": [
    "### Codigo a correr"
   ]
  },
  {
   "cell_type": "code",
   "execution_count": 5,
   "id": "ec911bfa-0fc9-40e5-96bd-42f11c0bb12b",
   "metadata": {
    "execution": {
     "iopub.execute_input": "2021-12-06T20:19:03.474995Z",
     "iopub.status.busy": "2021-12-06T20:19:03.474785Z",
     "iopub.status.idle": "2021-12-06T20:19:03.479790Z",
     "shell.execute_reply": "2021-12-06T20:19:03.478933Z",
     "shell.execute_reply.started": "2021-12-06T20:19:03.474963Z"
    }
   },
   "outputs": [],
   "source": [
    "MAX_ITER = 10**6\n",
    "MAX_JOBS = -1"
   ]
  },
  {
   "cell_type": "markdown",
   "id": "c99e8bfe-0edd-4db5-a218-1cf71f809d2d",
   "metadata": {},
   "source": [
    "**Run :** Entrenar Nuevamente o Cargar Entrenado"
   ]
  },
  {
   "cell_type": "code",
   "execution_count": 6,
   "id": "cd65bc5e-db28-4191-9e7f-0932bbd738a3",
   "metadata": {
    "execution": {
     "iopub.execute_input": "2021-12-06T20:19:03.480875Z",
     "iopub.status.busy": "2021-12-06T20:19:03.480683Z",
     "iopub.status.idle": "2021-12-06T20:19:03.615981Z",
     "shell.execute_reply": "2021-12-06T20:19:03.615179Z",
     "shell.execute_reply.started": "2021-12-06T20:19:03.480854Z"
    }
   },
   "outputs": [],
   "source": [
    "runLinearSimple = False\n",
    "runLinear = False\n",
    "runPoly = False\n",
    "runRadial = False"
   ]
  },
  {
   "cell_type": "markdown",
   "id": "f1c590df-60bb-4c53-91e7-2da0c3476415",
   "metadata": {},
   "source": [
    "**Save :** Guardar Modelo (pisa anterior)"
   ]
  },
  {
   "cell_type": "code",
   "execution_count": 7,
   "id": "6f9b41b6-3059-4967-a9c7-c00188c3e415",
   "metadata": {
    "execution": {
     "iopub.execute_input": "2021-12-06T20:19:03.617179Z",
     "iopub.status.busy": "2021-12-06T20:19:03.616964Z",
     "iopub.status.idle": "2021-12-06T20:19:03.739514Z",
     "shell.execute_reply": "2021-12-06T20:19:03.736258Z",
     "shell.execute_reply.started": "2021-12-06T20:19:03.617139Z"
    }
   },
   "outputs": [],
   "source": [
    "saveLinear= True\n",
    "saveLinearSimple= True\n",
    "savePoly = True\n",
    "saveRadial = True"
   ]
  },
  {
   "cell_type": "markdown",
   "id": "e6b58791-7d09-4d8a-8fcd-2b5e207db9fd",
   "metadata": {},
   "source": [
    "### Preprocesamiento"
   ]
  },
  {
   "cell_type": "code",
   "execution_count": 8,
   "id": "2e086941-2bc4-49ea-8bd8-91682b5a619a",
   "metadata": {
    "execution": {
     "iopub.execute_input": "2021-12-06T20:19:03.746971Z",
     "iopub.status.busy": "2021-12-06T20:19:03.743284Z",
     "iopub.status.idle": "2021-12-06T20:19:05.164930Z",
     "shell.execute_reply": "2021-12-06T20:19:05.163823Z",
     "shell.execute_reply.started": "2021-12-06T20:19:03.746874Z"
    }
   },
   "outputs": [
    {
     "data": {
      "text/html": [
       "<div>\n",
       "<style scoped>\n",
       "    .dataframe tbody tr th:only-of-type {\n",
       "        vertical-align: middle;\n",
       "    }\n",
       "\n",
       "    .dataframe tbody tr th {\n",
       "        vertical-align: top;\n",
       "    }\n",
       "\n",
       "    .dataframe thead th {\n",
       "        text-align: right;\n",
       "    }\n",
       "</style>\n",
       "<table border=\"1\" class=\"dataframe\">\n",
       "  <thead>\n",
       "    <tr style=\"text-align: right;\">\n",
       "      <th></th>\n",
       "      <th>id</th>\n",
       "      <th>direccion_viento_tarde</th>\n",
       "      <th>direccion_viento_temprano</th>\n",
       "      <th>horas_de_sol</th>\n",
       "      <th>humedad_tarde</th>\n",
       "      <th>humedad_temprano</th>\n",
       "      <th>mm_lluvia_dia</th>\n",
       "      <th>nubosidad_tarde</th>\n",
       "      <th>presion_atmosferica_tarde</th>\n",
       "      <th>rafaga_viento_max_direccion</th>\n",
       "      <th>rafaga_viento_max_velocidad</th>\n",
       "      <th>velocidad_viendo_tarde</th>\n",
       "    </tr>\n",
       "  </thead>\n",
       "  <tbody>\n",
       "    <tr>\n",
       "      <th>0</th>\n",
       "      <td>0.495844</td>\n",
       "      <td>0.736537</td>\n",
       "      <td>0.645996</td>\n",
       "      <td>-2.018030</td>\n",
       "      <td>1.277923</td>\n",
       "      <td>0.270523</td>\n",
       "      <td>7.914307</td>\n",
       "      <td>0.916539</td>\n",
       "      <td>1.269394</td>\n",
       "      <td>0.802215</td>\n",
       "      <td>0.589120</td>\n",
       "      <td>0.834079</td>\n",
       "    </tr>\n",
       "    <tr>\n",
       "      <th>1</th>\n",
       "      <td>0.183431</td>\n",
       "      <td>0.317434</td>\n",
       "      <td>-1.382279</td>\n",
       "      <td>-2.018030</td>\n",
       "      <td>-1.806334</td>\n",
       "      <td>-0.675093</td>\n",
       "      <td>0.417359</td>\n",
       "      <td>-1.288420</td>\n",
       "      <td>-2.406972</td>\n",
       "      <td>0.393094</td>\n",
       "      <td>1.544505</td>\n",
       "      <td>1.402051</td>\n",
       "    </tr>\n",
       "    <tr>\n",
       "      <th>2</th>\n",
       "      <td>-0.113001</td>\n",
       "      <td>-0.730326</td>\n",
       "      <td>-0.570969</td>\n",
       "      <td>-1.330311</td>\n",
       "      <td>1.326115</td>\n",
       "      <td>-1.147901</td>\n",
       "      <td>-0.281713</td>\n",
       "      <td>1.284033</td>\n",
       "      <td>-2.094694</td>\n",
       "      <td>-0.834272</td>\n",
       "      <td>1.250541</td>\n",
       "      <td>1.629239</td>\n",
       "    </tr>\n",
       "    <tr>\n",
       "      <th>3</th>\n",
       "      <td>-1.678190</td>\n",
       "      <td>1.574745</td>\n",
       "      <td>0.848823</td>\n",
       "      <td>-2.018030</td>\n",
       "      <td>1.952605</td>\n",
       "      <td>1.426276</td>\n",
       "      <td>0.320935</td>\n",
       "      <td>1.284033</td>\n",
       "      <td>0.020281</td>\n",
       "      <td>-1.447954</td>\n",
       "      <td>1.030067</td>\n",
       "      <td>1.402051</td>\n",
       "    </tr>\n",
       "    <tr>\n",
       "      <th>4</th>\n",
       "      <td>0.930508</td>\n",
       "      <td>-1.149430</td>\n",
       "      <td>-1.179451</td>\n",
       "      <td>-2.018030</td>\n",
       "      <td>-1.806334</td>\n",
       "      <td>-1.673244</td>\n",
       "      <td>-0.281713</td>\n",
       "      <td>-0.920927</td>\n",
       "      <td>-1.257220</td>\n",
       "      <td>-0.834272</td>\n",
       "      <td>0.736103</td>\n",
       "      <td>0.038918</td>\n",
       "    </tr>\n",
       "    <tr>\n",
       "      <th>...</th>\n",
       "      <td>...</td>\n",
       "      <td>...</td>\n",
       "      <td>...</td>\n",
       "      <td>...</td>\n",
       "      <td>...</td>\n",
       "      <td>...</td>\n",
       "      <td>...</td>\n",
       "      <td>...</td>\n",
       "      <td>...</td>\n",
       "      <td>...</td>\n",
       "      <td>...</td>\n",
       "      <td>...</td>\n",
       "    </tr>\n",
       "    <tr>\n",
       "      <th>102351</th>\n",
       "      <td>-0.264327</td>\n",
       "      <td>-0.101670</td>\n",
       "      <td>-0.570969</td>\n",
       "      <td>-0.298733</td>\n",
       "      <td>0.555051</td>\n",
       "      <td>-1.305504</td>\n",
       "      <td>-0.233501</td>\n",
       "      <td>0.549046</td>\n",
       "      <td>-0.490719</td>\n",
       "      <td>-0.834272</td>\n",
       "      <td>2.352908</td>\n",
       "      <td>2.083617</td>\n",
       "    </tr>\n",
       "    <tr>\n",
       "      <th>102352</th>\n",
       "      <td>-1.317418</td>\n",
       "      <td>0.946089</td>\n",
       "      <td>1.457306</td>\n",
       "      <td>-1.462565</td>\n",
       "      <td>0.651434</td>\n",
       "      <td>0.585729</td>\n",
       "      <td>0.345041</td>\n",
       "      <td>0.916539</td>\n",
       "      <td>0.318365</td>\n",
       "      <td>1.211337</td>\n",
       "      <td>0.589120</td>\n",
       "      <td>1.402051</td>\n",
       "    </tr>\n",
       "    <tr>\n",
       "      <th>102353</th>\n",
       "      <td>-1.594150</td>\n",
       "      <td>0.736537</td>\n",
       "      <td>1.660133</td>\n",
       "      <td>-2.018030</td>\n",
       "      <td>1.422498</td>\n",
       "      <td>-0.359888</td>\n",
       "      <td>-0.281713</td>\n",
       "      <td>0.916539</td>\n",
       "      <td>-0.064885</td>\n",
       "      <td>-1.447954</td>\n",
       "      <td>-0.366265</td>\n",
       "      <td>-1.892186</td>\n",
       "    </tr>\n",
       "    <tr>\n",
       "      <th>102354</th>\n",
       "      <td>0.293898</td>\n",
       "      <td>-1.149430</td>\n",
       "      <td>-0.773796</td>\n",
       "      <td>-1.779974</td>\n",
       "      <td>1.326115</td>\n",
       "      <td>-0.202285</td>\n",
       "      <td>-0.281713</td>\n",
       "      <td>1.284033</td>\n",
       "      <td>-2.052110</td>\n",
       "      <td>-0.629711</td>\n",
       "      <td>1.177050</td>\n",
       "      <td>0.606890</td>\n",
       "    </tr>\n",
       "    <tr>\n",
       "      <th>102355</th>\n",
       "      <td>-0.762408</td>\n",
       "      <td>1.574745</td>\n",
       "      <td>1.457306</td>\n",
       "      <td>0.812198</td>\n",
       "      <td>0.217710</td>\n",
       "      <td>-0.202285</td>\n",
       "      <td>-0.281713</td>\n",
       "      <td>-0.920927</td>\n",
       "      <td>0.588060</td>\n",
       "      <td>1.415898</td>\n",
       "      <td>0.589120</td>\n",
       "      <td>1.288456</td>\n",
       "    </tr>\n",
       "  </tbody>\n",
       "</table>\n",
       "<p>102356 rows × 12 columns</p>\n",
       "</div>"
      ],
      "text/plain": [
       "              id  direccion_viento_tarde  direccion_viento_temprano  \\\n",
       "0       0.495844                0.736537                   0.645996   \n",
       "1       0.183431                0.317434                  -1.382279   \n",
       "2      -0.113001               -0.730326                  -0.570969   \n",
       "3      -1.678190                1.574745                   0.848823   \n",
       "4       0.930508               -1.149430                  -1.179451   \n",
       "...          ...                     ...                        ...   \n",
       "102351 -0.264327               -0.101670                  -0.570969   \n",
       "102352 -1.317418                0.946089                   1.457306   \n",
       "102353 -1.594150                0.736537                   1.660133   \n",
       "102354  0.293898               -1.149430                  -0.773796   \n",
       "102355 -0.762408                1.574745                   1.457306   \n",
       "\n",
       "        horas_de_sol  humedad_tarde  humedad_temprano  mm_lluvia_dia  \\\n",
       "0          -2.018030       1.277923          0.270523       7.914307   \n",
       "1          -2.018030      -1.806334         -0.675093       0.417359   \n",
       "2          -1.330311       1.326115         -1.147901      -0.281713   \n",
       "3          -2.018030       1.952605          1.426276       0.320935   \n",
       "4          -2.018030      -1.806334         -1.673244      -0.281713   \n",
       "...              ...            ...               ...            ...   \n",
       "102351     -0.298733       0.555051         -1.305504      -0.233501   \n",
       "102352     -1.462565       0.651434          0.585729       0.345041   \n",
       "102353     -2.018030       1.422498         -0.359888      -0.281713   \n",
       "102354     -1.779974       1.326115         -0.202285      -0.281713   \n",
       "102355      0.812198       0.217710         -0.202285      -0.281713   \n",
       "\n",
       "        nubosidad_tarde  presion_atmosferica_tarde  \\\n",
       "0              0.916539                   1.269394   \n",
       "1             -1.288420                  -2.406972   \n",
       "2              1.284033                  -2.094694   \n",
       "3              1.284033                   0.020281   \n",
       "4             -0.920927                  -1.257220   \n",
       "...                 ...                        ...   \n",
       "102351         0.549046                  -0.490719   \n",
       "102352         0.916539                   0.318365   \n",
       "102353         0.916539                  -0.064885   \n",
       "102354         1.284033                  -2.052110   \n",
       "102355        -0.920927                   0.588060   \n",
       "\n",
       "        rafaga_viento_max_direccion  rafaga_viento_max_velocidad  \\\n",
       "0                          0.802215                     0.589120   \n",
       "1                          0.393094                     1.544505   \n",
       "2                         -0.834272                     1.250541   \n",
       "3                         -1.447954                     1.030067   \n",
       "4                         -0.834272                     0.736103   \n",
       "...                             ...                          ...   \n",
       "102351                    -0.834272                     2.352908   \n",
       "102352                     1.211337                     0.589120   \n",
       "102353                    -1.447954                    -0.366265   \n",
       "102354                    -0.629711                     1.177050   \n",
       "102355                     1.415898                     0.589120   \n",
       "\n",
       "        velocidad_viendo_tarde  \n",
       "0                     0.834079  \n",
       "1                     1.402051  \n",
       "2                     1.629239  \n",
       "3                     1.402051  \n",
       "4                     0.038918  \n",
       "...                        ...  \n",
       "102351                2.083617  \n",
       "102352                1.402051  \n",
       "102353               -1.892186  \n",
       "102354                0.606890  \n",
       "102355                1.288456  \n",
       "\n",
       "[102356 rows x 12 columns]"
      ]
     },
     "execution_count": 8,
     "metadata": {},
     "output_type": "execute_result"
    }
   ],
   "source": [
    "targetBooleano(df_targ, inplace=True)\n",
    "reemplazarNulls(df_feat , inplace=True)\n",
    "reemplazarCategoricas(df_feat , inplace=True)\n",
    "reemplazarFechas(df_feat , inplace=True)\n",
    "regularizar(df_feat , inplace=True)"
   ]
  },
  {
   "cell_type": "code",
   "execution_count": 9,
   "id": "642171dc-c717-48aa-9f13-3d5115385741",
   "metadata": {
    "execution": {
     "iopub.execute_input": "2021-12-06T20:19:05.166037Z",
     "iopub.status.busy": "2021-12-06T20:19:05.165852Z",
     "iopub.status.idle": "2021-12-06T20:19:05.177345Z",
     "shell.execute_reply": "2021-12-06T20:19:05.176445Z",
     "shell.execute_reply.started": "2021-12-06T20:19:05.166017Z"
    }
   },
   "outputs": [
    {
     "name": "stdout",
     "output_type": "stream",
     "text": [
      "<class 'pandas.core.frame.DataFrame'>\n",
      "RangeIndex: 102356 entries, 0 to 102355\n",
      "Data columns (total 12 columns):\n",
      " #   Column                       Non-Null Count   Dtype  \n",
      "---  ------                       --------------   -----  \n",
      " 0   id                           102356 non-null  float64\n",
      " 1   direccion_viento_tarde       102356 non-null  float64\n",
      " 2   direccion_viento_temprano    102356 non-null  float64\n",
      " 3   horas_de_sol                 102356 non-null  float64\n",
      " 4   humedad_tarde                102356 non-null  float64\n",
      " 5   humedad_temprano             102356 non-null  float64\n",
      " 6   mm_lluvia_dia                102356 non-null  float64\n",
      " 7   nubosidad_tarde              102356 non-null  float64\n",
      " 8   presion_atmosferica_tarde    102356 non-null  float64\n",
      " 9   rafaga_viento_max_direccion  102356 non-null  float64\n",
      " 10  rafaga_viento_max_velocidad  102356 non-null  float64\n",
      " 11  velocidad_viendo_tarde       102356 non-null  float64\n",
      "dtypes: float64(12)\n",
      "memory usage: 9.4 MB\n"
     ]
    }
   ],
   "source": [
    "df_feat.info()"
   ]
  },
  {
   "cell_type": "code",
   "execution_count": 10,
   "id": "d3afba59-055e-4644-856b-1b6f93354ae8",
   "metadata": {
    "execution": {
     "iopub.execute_input": "2021-12-06T20:19:05.178503Z",
     "iopub.status.busy": "2021-12-06T20:19:05.178320Z",
     "iopub.status.idle": "2021-12-06T20:19:05.327210Z",
     "shell.execute_reply": "2021-12-06T20:19:05.326154Z",
     "shell.execute_reply.started": "2021-12-06T20:19:05.178482Z"
    }
   },
   "outputs": [],
   "source": [
    "train_feat, val_feat, train_targ, val_targ = train_val( df_feat, df_targ )\n",
    "train_targ=train_targ.llovieron_hamburguesas_al_dia_siguiente\n",
    "val_targ=val_targ.llovieron_hamburguesas_al_dia_siguiente"
   ]
  },
  {
   "cell_type": "markdown",
   "id": "0644d54b-4e59-49d5-a8df-c627b574c2f3",
   "metadata": {},
   "source": [
    "## Entrenamiento"
   ]
  },
  {
   "cell_type": "markdown",
   "id": "12e60815-3880-48af-9fcc-527ec3ecec42",
   "metadata": {},
   "source": [
    "### Lineal"
   ]
  },
  {
   "cell_type": "markdown",
   "id": "f732770d-bf3a-4361-b9d8-ab3c94386c11",
   "metadata": {},
   "source": [
    "#### Simple"
   ]
  },
  {
   "cell_type": "code",
   "execution_count": 11,
   "id": "2bb0e7fa-49d3-4711-aa60-2a98afef1996",
   "metadata": {
    "execution": {
     "iopub.execute_input": "2021-12-06T20:19:05.328859Z",
     "iopub.status.busy": "2021-12-06T20:19:05.328326Z",
     "iopub.status.idle": "2021-12-06T20:19:05.426155Z",
     "shell.execute_reply": "2021-12-06T20:19:05.425112Z",
     "shell.execute_reply.started": "2021-12-06T20:19:05.328823Z"
    },
    "tags": []
   },
   "outputs": [],
   "source": [
    "if (runLinearSimple):\n",
    "    svm_simple_lineal = SVC(\n",
    "        kernel='linear', C=0.1,\n",
    "        max_iter=MAX_ITER, shrinking=False, verbose = 1, probability=True,\n",
    "    )\n",
    "    svm_simple_lineal.fit( train_feat, train_targ )\n",
    "    \n",
    "    # Guardar\n",
    "    if(saveLinearSimple):\n",
    "        dump(svm_simple_lineal, 'models/SVM/svm_simple_lineal.sk') \n",
    "else:\n",
    "    # Cargar\n",
    "    svm_simple_lineal = load('models/SVM/svm_simple_lineal.sk')"
   ]
  },
  {
   "cell_type": "code",
   "execution_count": 12,
   "id": "13fd98df-4710-49ba-8c42-a630eb2987df",
   "metadata": {
    "execution": {
     "iopub.execute_input": "2021-12-06T20:19:05.428654Z",
     "iopub.status.busy": "2021-12-06T20:19:05.428426Z",
     "iopub.status.idle": "2021-12-06T20:19:18.770191Z",
     "shell.execute_reply": "2021-12-06T20:19:18.769339Z",
     "shell.execute_reply.started": "2021-12-06T20:19:05.428623Z"
    },
    "tags": []
   },
   "outputs": [
    {
     "ename": "ValueError",
     "evalue": "y should be a 1d array, got an array of shape (10236, 2) instead.",
     "output_type": "error",
     "traceback": [
      "\u001b[0;31m---------------------------------------------------------------------------\u001b[0m",
      "\u001b[0;31mValueError\u001b[0m                                Traceback (most recent call last)",
      "\u001b[0;32m<timed exec>\u001b[0m in \u001b[0;36m<module>\u001b[0;34m\u001b[0m\n",
      "\u001b[0;32m~/orga/TP2/utilities.py\u001b[0m in \u001b[0;36mscore\u001b[0;34m(target, predictions, probas)\u001b[0m\n\u001b[1;32m     25\u001b[0m \u001b[0;34m\u001b[0m\u001b[0m\n\u001b[1;32m     26\u001b[0m     \u001b[0;32mif\u001b[0m\u001b[0;34m(\u001b[0m \u001b[0mtype\u001b[0m\u001b[0;34m(\u001b[0m\u001b[0mprobas\u001b[0m\u001b[0;34m)\u001b[0m \u001b[0;34m!=\u001b[0m \u001b[0mtype\u001b[0m\u001b[0;34m(\u001b[0m\u001b[0;32mNone\u001b[0m\u001b[0;34m)\u001b[0m \u001b[0;34m)\u001b[0m\u001b[0;34m:\u001b[0m\u001b[0;34m\u001b[0m\u001b[0;34m\u001b[0m\u001b[0m\n\u001b[0;32m---> 27\u001b[0;31m         \u001b[0mprint\u001b[0m\u001b[0;34m(\u001b[0m\u001b[0;34mf'AUC-ROC: {roc_auc_score(target, probas)}'\u001b[0m\u001b[0;34m)\u001b[0m\u001b[0;34m\u001b[0m\u001b[0;34m\u001b[0m\u001b[0m\n\u001b[0m\u001b[1;32m     28\u001b[0m \u001b[0;34m\u001b[0m\u001b[0m\n\u001b[1;32m     29\u001b[0m     \u001b[0;32mif\u001b[0m\u001b[0;34m(\u001b[0m \u001b[0mtype\u001b[0m\u001b[0;34m(\u001b[0m\u001b[0mpredictions\u001b[0m\u001b[0;34m)\u001b[0m \u001b[0;34m!=\u001b[0m \u001b[0mtype\u001b[0m\u001b[0;34m(\u001b[0m\u001b[0;32mNone\u001b[0m\u001b[0;34m)\u001b[0m \u001b[0;34m)\u001b[0m\u001b[0;34m:\u001b[0m\u001b[0;34m\u001b[0m\u001b[0;34m\u001b[0m\u001b[0m\n",
      "\u001b[0;32m~/orga/venv/lib/python3.9/site-packages/sklearn/metrics/_ranking.py\u001b[0m in \u001b[0;36mroc_auc_score\u001b[0;34m(y_true, y_score, average, sample_weight, max_fpr, multi_class, labels)\u001b[0m\n\u001b[1;32m    565\u001b[0m         \u001b[0mlabels\u001b[0m \u001b[0;34m=\u001b[0m \u001b[0mnp\u001b[0m\u001b[0;34m.\u001b[0m\u001b[0munique\u001b[0m\u001b[0;34m(\u001b[0m\u001b[0my_true\u001b[0m\u001b[0;34m)\u001b[0m\u001b[0;34m\u001b[0m\u001b[0;34m\u001b[0m\u001b[0m\n\u001b[1;32m    566\u001b[0m         \u001b[0my_true\u001b[0m \u001b[0;34m=\u001b[0m \u001b[0mlabel_binarize\u001b[0m\u001b[0;34m(\u001b[0m\u001b[0my_true\u001b[0m\u001b[0;34m,\u001b[0m \u001b[0mclasses\u001b[0m\u001b[0;34m=\u001b[0m\u001b[0mlabels\u001b[0m\u001b[0;34m)\u001b[0m\u001b[0;34m[\u001b[0m\u001b[0;34m:\u001b[0m\u001b[0;34m,\u001b[0m \u001b[0;36m0\u001b[0m\u001b[0;34m]\u001b[0m\u001b[0;34m\u001b[0m\u001b[0;34m\u001b[0m\u001b[0m\n\u001b[0;32m--> 567\u001b[0;31m         return _average_binary_score(\n\u001b[0m\u001b[1;32m    568\u001b[0m             \u001b[0mpartial\u001b[0m\u001b[0;34m(\u001b[0m\u001b[0m_binary_roc_auc_score\u001b[0m\u001b[0;34m,\u001b[0m \u001b[0mmax_fpr\u001b[0m\u001b[0;34m=\u001b[0m\u001b[0mmax_fpr\u001b[0m\u001b[0;34m)\u001b[0m\u001b[0;34m,\u001b[0m\u001b[0;34m\u001b[0m\u001b[0;34m\u001b[0m\u001b[0m\n\u001b[1;32m    569\u001b[0m             \u001b[0my_true\u001b[0m\u001b[0;34m,\u001b[0m\u001b[0;34m\u001b[0m\u001b[0;34m\u001b[0m\u001b[0m\n",
      "\u001b[0;32m~/orga/venv/lib/python3.9/site-packages/sklearn/metrics/_base.py\u001b[0m in \u001b[0;36m_average_binary_score\u001b[0;34m(binary_metric, y_true, y_score, average, sample_weight)\u001b[0m\n\u001b[1;32m     73\u001b[0m \u001b[0;34m\u001b[0m\u001b[0m\n\u001b[1;32m     74\u001b[0m     \u001b[0;32mif\u001b[0m \u001b[0my_type\u001b[0m \u001b[0;34m==\u001b[0m \u001b[0;34m\"binary\"\u001b[0m\u001b[0;34m:\u001b[0m\u001b[0;34m\u001b[0m\u001b[0;34m\u001b[0m\u001b[0m\n\u001b[0;32m---> 75\u001b[0;31m         \u001b[0;32mreturn\u001b[0m \u001b[0mbinary_metric\u001b[0m\u001b[0;34m(\u001b[0m\u001b[0my_true\u001b[0m\u001b[0;34m,\u001b[0m \u001b[0my_score\u001b[0m\u001b[0;34m,\u001b[0m \u001b[0msample_weight\u001b[0m\u001b[0;34m=\u001b[0m\u001b[0msample_weight\u001b[0m\u001b[0;34m)\u001b[0m\u001b[0;34m\u001b[0m\u001b[0;34m\u001b[0m\u001b[0m\n\u001b[0m\u001b[1;32m     76\u001b[0m \u001b[0;34m\u001b[0m\u001b[0m\n\u001b[1;32m     77\u001b[0m     \u001b[0mcheck_consistent_length\u001b[0m\u001b[0;34m(\u001b[0m\u001b[0my_true\u001b[0m\u001b[0;34m,\u001b[0m \u001b[0my_score\u001b[0m\u001b[0;34m,\u001b[0m \u001b[0msample_weight\u001b[0m\u001b[0;34m)\u001b[0m\u001b[0;34m\u001b[0m\u001b[0;34m\u001b[0m\u001b[0m\n",
      "\u001b[0;32m~/orga/venv/lib/python3.9/site-packages/sklearn/metrics/_ranking.py\u001b[0m in \u001b[0;36m_binary_roc_auc_score\u001b[0;34m(y_true, y_score, sample_weight, max_fpr)\u001b[0m\n\u001b[1;32m    340\u001b[0m         )\n\u001b[1;32m    341\u001b[0m \u001b[0;34m\u001b[0m\u001b[0m\n\u001b[0;32m--> 342\u001b[0;31m     \u001b[0mfpr\u001b[0m\u001b[0;34m,\u001b[0m \u001b[0mtpr\u001b[0m\u001b[0;34m,\u001b[0m \u001b[0m_\u001b[0m \u001b[0;34m=\u001b[0m \u001b[0mroc_curve\u001b[0m\u001b[0;34m(\u001b[0m\u001b[0my_true\u001b[0m\u001b[0;34m,\u001b[0m \u001b[0my_score\u001b[0m\u001b[0;34m,\u001b[0m \u001b[0msample_weight\u001b[0m\u001b[0;34m=\u001b[0m\u001b[0msample_weight\u001b[0m\u001b[0;34m)\u001b[0m\u001b[0;34m\u001b[0m\u001b[0;34m\u001b[0m\u001b[0m\n\u001b[0m\u001b[1;32m    343\u001b[0m     \u001b[0;32mif\u001b[0m \u001b[0mmax_fpr\u001b[0m \u001b[0;32mis\u001b[0m \u001b[0;32mNone\u001b[0m \u001b[0;32mor\u001b[0m \u001b[0mmax_fpr\u001b[0m \u001b[0;34m==\u001b[0m \u001b[0;36m1\u001b[0m\u001b[0;34m:\u001b[0m\u001b[0;34m\u001b[0m\u001b[0;34m\u001b[0m\u001b[0m\n\u001b[1;32m    344\u001b[0m         \u001b[0;32mreturn\u001b[0m \u001b[0mauc\u001b[0m\u001b[0;34m(\u001b[0m\u001b[0mfpr\u001b[0m\u001b[0;34m,\u001b[0m \u001b[0mtpr\u001b[0m\u001b[0;34m)\u001b[0m\u001b[0;34m\u001b[0m\u001b[0;34m\u001b[0m\u001b[0m\n",
      "\u001b[0;32m~/orga/venv/lib/python3.9/site-packages/sklearn/metrics/_ranking.py\u001b[0m in \u001b[0;36mroc_curve\u001b[0;34m(y_true, y_score, pos_label, sample_weight, drop_intermediate)\u001b[0m\n\u001b[1;32m    960\u001b[0m \u001b[0;34m\u001b[0m\u001b[0m\n\u001b[1;32m    961\u001b[0m     \"\"\"\n\u001b[0;32m--> 962\u001b[0;31m     fps, tps, thresholds = _binary_clf_curve(\n\u001b[0m\u001b[1;32m    963\u001b[0m         \u001b[0my_true\u001b[0m\u001b[0;34m,\u001b[0m \u001b[0my_score\u001b[0m\u001b[0;34m,\u001b[0m \u001b[0mpos_label\u001b[0m\u001b[0;34m=\u001b[0m\u001b[0mpos_label\u001b[0m\u001b[0;34m,\u001b[0m \u001b[0msample_weight\u001b[0m\u001b[0;34m=\u001b[0m\u001b[0msample_weight\u001b[0m\u001b[0;34m\u001b[0m\u001b[0;34m\u001b[0m\u001b[0m\n\u001b[1;32m    964\u001b[0m     )\n",
      "\u001b[0;32m~/orga/venv/lib/python3.9/site-packages/sklearn/metrics/_ranking.py\u001b[0m in \u001b[0;36m_binary_clf_curve\u001b[0;34m(y_true, y_score, pos_label, sample_weight)\u001b[0m\n\u001b[1;32m    733\u001b[0m     \u001b[0mcheck_consistent_length\u001b[0m\u001b[0;34m(\u001b[0m\u001b[0my_true\u001b[0m\u001b[0;34m,\u001b[0m \u001b[0my_score\u001b[0m\u001b[0;34m,\u001b[0m \u001b[0msample_weight\u001b[0m\u001b[0;34m)\u001b[0m\u001b[0;34m\u001b[0m\u001b[0;34m\u001b[0m\u001b[0m\n\u001b[1;32m    734\u001b[0m     \u001b[0my_true\u001b[0m \u001b[0;34m=\u001b[0m \u001b[0mcolumn_or_1d\u001b[0m\u001b[0;34m(\u001b[0m\u001b[0my_true\u001b[0m\u001b[0;34m)\u001b[0m\u001b[0;34m\u001b[0m\u001b[0;34m\u001b[0m\u001b[0m\n\u001b[0;32m--> 735\u001b[0;31m     \u001b[0my_score\u001b[0m \u001b[0;34m=\u001b[0m \u001b[0mcolumn_or_1d\u001b[0m\u001b[0;34m(\u001b[0m\u001b[0my_score\u001b[0m\u001b[0;34m)\u001b[0m\u001b[0;34m\u001b[0m\u001b[0;34m\u001b[0m\u001b[0m\n\u001b[0m\u001b[1;32m    736\u001b[0m     \u001b[0massert_all_finite\u001b[0m\u001b[0;34m(\u001b[0m\u001b[0my_true\u001b[0m\u001b[0;34m)\u001b[0m\u001b[0;34m\u001b[0m\u001b[0;34m\u001b[0m\u001b[0m\n\u001b[1;32m    737\u001b[0m     \u001b[0massert_all_finite\u001b[0m\u001b[0;34m(\u001b[0m\u001b[0my_score\u001b[0m\u001b[0;34m)\u001b[0m\u001b[0;34m\u001b[0m\u001b[0;34m\u001b[0m\u001b[0m\n",
      "\u001b[0;32m~/orga/venv/lib/python3.9/site-packages/sklearn/utils/validation.py\u001b[0m in \u001b[0;36mcolumn_or_1d\u001b[0;34m(y, warn)\u001b[0m\n\u001b[1;32m   1022\u001b[0m         \u001b[0;32mreturn\u001b[0m \u001b[0mnp\u001b[0m\u001b[0;34m.\u001b[0m\u001b[0mravel\u001b[0m\u001b[0;34m(\u001b[0m\u001b[0my\u001b[0m\u001b[0;34m)\u001b[0m\u001b[0;34m\u001b[0m\u001b[0;34m\u001b[0m\u001b[0m\n\u001b[1;32m   1023\u001b[0m \u001b[0;34m\u001b[0m\u001b[0m\n\u001b[0;32m-> 1024\u001b[0;31m     raise ValueError(\n\u001b[0m\u001b[1;32m   1025\u001b[0m         \u001b[0;34m\"y should be a 1d array, got an array of shape {} instead.\"\u001b[0m\u001b[0;34m.\u001b[0m\u001b[0mformat\u001b[0m\u001b[0;34m(\u001b[0m\u001b[0mshape\u001b[0m\u001b[0;34m)\u001b[0m\u001b[0;34m\u001b[0m\u001b[0;34m\u001b[0m\u001b[0m\n\u001b[1;32m   1026\u001b[0m     )\n",
      "\u001b[0;31mValueError\u001b[0m: y should be a 1d array, got an array of shape (10236, 2) instead."
     ]
    }
   ],
   "source": [
    "%%time\n",
    "linsim_pred = svm_simple_lineal.predict(val_feat)\n",
    "linsim_prob = svm_simple_lineal.predict_proba(val_feat)\n",
    "score(val_targ,linsim_pred, linsim_prob)"
   ]
  },
  {
   "cell_type": "markdown",
   "id": "004420d2-c81b-4d3c-8cb0-915b0f06a536",
   "metadata": {},
   "source": [
    "#### Optimizando Hiperparametros"
   ]
  },
  {
   "cell_type": "code",
   "execution_count": 13,
   "id": "85132091-d2b2-4af9-919f-ce3b670d498b",
   "metadata": {
    "execution": {
     "iopub.execute_input": "2021-12-06T20:19:18.771396Z",
     "iopub.status.busy": "2021-12-06T20:19:18.771160Z",
     "iopub.status.idle": "2021-12-06T20:19:18.778767Z",
     "shell.execute_reply": "2021-12-06T20:19:18.777814Z",
     "shell.execute_reply.started": "2021-12-06T20:19:18.771375Z"
    },
    "tags": []
   },
   "outputs": [
    {
     "data": {
      "text/plain": [
       "array([0.01, 0.04, 0.07, 0.1 , 0.4 , 0.7 , 1.  , 4.  , 7.  ])"
      ]
     },
     "execution_count": 13,
     "metadata": {},
     "output_type": "execute_result"
    }
   ],
   "source": [
    "base_arrange = np.arange(0.01, 0.09, 0.03)\n",
    "hipr_arrange = np.concatenate((base_arrange,base_arrange*10,base_arrange*100),axis=None)\n",
    "hipr_arrange"
   ]
  },
  {
   "cell_type": "code",
   "execution_count": 14,
   "id": "abca05b1-08f1-4509-9c92-f58d4d860789",
   "metadata": {
    "execution": {
     "iopub.execute_input": "2021-12-06T20:19:18.779808Z",
     "iopub.status.busy": "2021-12-06T20:19:18.779645Z",
     "iopub.status.idle": "2021-12-06T20:19:18.952076Z",
     "shell.execute_reply": "2021-12-06T20:19:18.951216Z",
     "shell.execute_reply.started": "2021-12-06T20:19:18.779789Z"
    },
    "scrolled": true,
    "tags": []
   },
   "outputs": [],
   "source": [
    "if (runLinear):\n",
    "    svm_lineal = SVC(\n",
    "        kernel='linear',\n",
    "        max_iter=MAX_ITER, shrinking=False, probability=True,\n",
    "    )\n",
    "    params = {'C': hipr_arrange}\n",
    "    \n",
    "    svm_lineal_grid = HalvingGridSearchCV(\n",
    "        svm_lineal,\n",
    "        params,\n",
    "        scoring='roc_auc',\n",
    "        n_jobs=MAX_JOBS,\n",
    "        return_train_score=True,\n",
    "        verbose=2, cv=2,\n",
    "    ).fit(train_feat, train_targ)\n",
    "    \n",
    "    # Guardar\n",
    "    if(saveLinear):\n",
    "        dump(svm_lineal_grid, 'models/SVM/svm_lineal_grid.sk')\n",
    "        dump(svm_lineal_grid.best_estimator_, 'models/SVM/svm_lineal.sk')\n",
    "else:\n",
    "    # Cargar\n",
    "    svm_lineal_grid = load('models/SVM/svm_lineal_grid.sk')"
   ]
  },
  {
   "cell_type": "code",
   "execution_count": 15,
   "id": "3b5f0332-67fc-445d-9a82-0fcc17095aca",
   "metadata": {
    "execution": {
     "iopub.execute_input": "2021-12-06T20:19:18.953029Z",
     "iopub.status.busy": "2021-12-06T20:19:18.952872Z",
     "iopub.status.idle": "2021-12-06T20:19:19.107956Z",
     "shell.execute_reply": "2021-12-06T20:19:19.106859Z",
     "shell.execute_reply.started": "2021-12-06T20:19:18.953009Z"
    }
   },
   "outputs": [
    {
     "name": "stdout",
     "output_type": "stream",
     "text": [
      "Best score: 0.8529030220197755\n",
      "Best params {'C': 0.01}\n"
     ]
    }
   ],
   "source": [
    "print(f\"Best score: {svm_lineal_grid.best_score_}\")\n",
    "print(f\"Best params {svm_lineal_grid.best_params_}\")"
   ]
  },
  {
   "cell_type": "code",
   "execution_count": 16,
   "id": "b3a91c8f-546d-44ce-a5df-f8e669a0d1cb",
   "metadata": {
    "execution": {
     "iopub.execute_input": "2021-12-06T20:19:19.109186Z",
     "iopub.status.busy": "2021-12-06T20:19:19.108986Z",
     "iopub.status.idle": "2021-12-06T20:19:19.240151Z",
     "shell.execute_reply": "2021-12-06T20:19:19.239035Z",
     "shell.execute_reply.started": "2021-12-06T20:19:19.109165Z"
    },
    "tags": []
   },
   "outputs": [],
   "source": [
    "svm_lineal = svm_lineal_grid.best_estimator_"
   ]
  },
  {
   "cell_type": "code",
   "execution_count": 17,
   "id": "f03a261f-ee22-4e23-af00-0c050a5b5eb9",
   "metadata": {
    "execution": {
     "iopub.execute_input": "2021-12-06T20:19:19.241328Z",
     "iopub.status.busy": "2021-12-06T20:19:19.241148Z",
     "iopub.status.idle": "2021-12-06T20:19:32.675111Z",
     "shell.execute_reply": "2021-12-06T20:19:32.673745Z",
     "shell.execute_reply.started": "2021-12-06T20:19:19.241307Z"
    }
   },
   "outputs": [
    {
     "name": "stdout",
     "output_type": "stream",
     "text": [
      "AUC-ROC: 0.8475897900346991\n",
      "ACCURACY: 0.8345056662758891\n",
      "PRESICION: 0.7339089481946625\n",
      "RECALL: 0.40829694323144106\n",
      "CONFUSION MATRIX\n",
      "CPU times: user 13.3 s, sys: 0 ns, total: 13.3 s\n",
      "Wall time: 13.2 s\n"
     ]
    },
    {
     "data": {
      "image/png": "[encoded data removed]",
      "text/plain": [
       "<Figure size 432x288 with 2 Axes>"
      ]
     },
     "metadata": {},
     "output_type": "display_data"
    }
   ],
   "source": [
    "%%time\n",
    "lin_pred = svm_lineal.predict(val_feat)\n",
    "lin_prob = svm_lineal.predict_proba(val_feat)\n",
    "score(val_targ, lin_pred, lin_prob[:,1])"
   ]
  },
  {
   "cell_type": "markdown",
   "id": "530e14b5-501c-4cf5-87fc-b57e4559f24c",
   "metadata": {},
   "source": [
    "### Poly"
   ]
  },
  {
   "cell_type": "code",
   "execution_count": 18,
   "id": "9a1c6ade-0f11-4c42-a68f-c577ae5b311b",
   "metadata": {
    "execution": {
     "iopub.execute_input": "2021-12-06T20:19:32.676354Z",
     "iopub.status.busy": "2021-12-06T20:19:32.676173Z",
     "iopub.status.idle": "2021-12-06T20:19:32.746877Z",
     "shell.execute_reply": "2021-12-06T20:19:32.746093Z",
     "shell.execute_reply.started": "2021-12-06T20:19:32.676334Z"
    },
    "scrolled": true,
    "tags": []
   },
   "outputs": [],
   "source": [
    "if (runPoly):\n",
    "    svm_poly = SVC(\n",
    "        kernel='poly',\n",
    "        max_iter=MAX_ITER*10, shrinking=False, probability=True,\n",
    "    )\n",
    "    params = {\n",
    "        'C': hipr_arrange*10,\n",
    "        'degree': np.arange(1,5,1),\n",
    "        'gamma': hipr_arrange,\n",
    "        'coef0': hipr_arrange*10,\n",
    "    }\n",
    "    \n",
    "    svm_poly_grid = HalvingGridSearchCV(\n",
    "        svm_poly,\n",
    "        params,\n",
    "        scoring='roc_auc',\n",
    "        n_jobs=MAX_JOBS,\n",
    "        return_train_score=True,\n",
    "        verbose=1, cv=2,\n",
    "    ).fit(train_feat, train_targ)\n",
    "    \n",
    "    # Guardar\n",
    "    if(savePoly):\n",
    "        dump(svm_poly_grid, 'models/SVM/svm_poly_grid.sk')\n",
    "        dump(svm_poly_grid.best_estimator_, 'models/SVM/svm_poly.sk')\n",
    "else:\n",
    "    # Cargar\n",
    "    svm_poly_grid = load('models/SVM/svm_poly_grid.sk')"
   ]
  },
  {
   "cell_type": "code",
   "execution_count": 19,
   "id": "8ee1ff2a-4b23-4a2e-a661-516ea9da0929",
   "metadata": {
    "execution": {
     "iopub.execute_input": "2021-12-06T20:19:32.748000Z",
     "iopub.status.busy": "2021-12-06T20:19:32.747824Z",
     "iopub.status.idle": "2021-12-06T20:19:32.848357Z",
     "shell.execute_reply": "2021-12-06T20:19:32.847454Z",
     "shell.execute_reply.started": "2021-12-06T20:19:32.747980Z"
    }
   },
   "outputs": [
    {
     "name": "stdout",
     "output_type": "stream",
     "text": [
      "Best score: 0.8558912625135552\n",
      "Best params {'C': 0.1, 'coef0': 4.0, 'degree': 2, 'gamma': 0.01}\n"
     ]
    }
   ],
   "source": [
    "print(f\"Best score: {svm_poly_grid.best_score_}\")\n",
    "print(f\"Best params {svm_poly_grid.best_params_}\")"
   ]
  },
  {
   "cell_type": "code",
   "execution_count": 20,
   "id": "3e76b2e2-9433-477e-805a-08221d60457f",
   "metadata": {
    "execution": {
     "iopub.execute_input": "2021-12-06T20:19:32.849595Z",
     "iopub.status.busy": "2021-12-06T20:19:32.849374Z",
     "iopub.status.idle": "2021-12-06T20:19:33.026655Z",
     "shell.execute_reply": "2021-12-06T20:19:33.025868Z",
     "shell.execute_reply.started": "2021-12-06T20:19:32.849571Z"
    }
   },
   "outputs": [],
   "source": [
    "svm_poly = svm_poly_grid.best_estimator_"
   ]
  },
  {
   "cell_type": "code",
   "execution_count": 21,
   "id": "cb649cab-5d78-4719-8aad-06510de22afe",
   "metadata": {
    "execution": {
     "iopub.execute_input": "2021-12-06T20:19:33.027679Z",
     "iopub.status.busy": "2021-12-06T20:19:33.027509Z",
     "iopub.status.idle": "2021-12-06T20:19:49.309877Z",
     "shell.execute_reply": "2021-12-06T20:19:49.308818Z",
     "shell.execute_reply.started": "2021-12-06T20:19:33.027646Z"
    }
   },
   "outputs": [
    {
     "name": "stdout",
     "output_type": "stream",
     "text": [
      "AUC-ROC: 0.8510315261200878\n",
      "ACCURACY: 0.8354826103946854\n",
      "PRESICION: 0.7550505050505051\n",
      "RECALL: 0.39170305676855893\n",
      "CONFUSION MATRIX\n",
      "CPU times: user 16 s, sys: 8.09 ms, total: 16 s\n",
      "Wall time: 15.9 s\n"
     ]
    },
    {
     "data": {
      "image/png": "[encoded data removed]",
      "text/plain": [
       "<Figure size 432x288 with 2 Axes>"
      ]
     },
     "metadata": {},
     "output_type": "display_data"
    }
   ],
   "source": [
    "%%time\n",
    "pol_pred = svm_poly.predict(val_feat)\n",
    "pol_prob = svm_poly.predict_proba(val_feat)\n",
    "score(val_targ, pol_pred, pol_prob[:,1])"
   ]
  },
  {
   "cell_type": "markdown",
   "id": "1be225e9-65ab-42c7-a559-4e494a14c782",
   "metadata": {},
   "source": [
    "### Radial"
   ]
  },
  {
   "cell_type": "code",
   "execution_count": 22,
   "id": "a3d772e9-548d-445e-b785-86b0bf6f13dc",
   "metadata": {
    "execution": {
     "iopub.execute_input": "2021-12-06T20:19:49.312418Z",
     "iopub.status.busy": "2021-12-06T20:19:49.312145Z",
     "iopub.status.idle": "2021-12-06T20:19:49.326951Z",
     "shell.execute_reply": "2021-12-06T20:19:49.325738Z",
     "shell.execute_reply.started": "2021-12-06T20:19:49.312396Z"
    },
    "scrolled": true,
    "tags": []
   },
   "outputs": [],
   "source": [
    "if (runRadial):\n",
    "    svm_radial = SVC(\n",
    "        kernel='rbf',\n",
    "        max_iter=MAX_ITER, shrinking=False, probability=True,\n",
    "    )\n",
    "    params = {\n",
    "        'C': hipr_arrange,\n",
    "        'gamma': hipr_arrange,\n",
    "    }\n",
    "    \n",
    "    svm_radial_grid = HalvingGridSearchCV(\n",
    "        svm_radial,\n",
    "        params,\n",
    "        scoring='roc_auc',\n",
    "        n_jobs=MAX_JOBS,\n",
    "        return_train_score=True,\n",
    "        verbose=1, cv=2,\n",
    "    ).fit(train_feat, train_targ)\n",
    "    \n",
    "    # Guardar\n",
    "    if(saveRadial):\n",
    "        dump(svm_radial_grid, 'models/SVM/svm_radial_grid.sk')\n",
    "        dump(svm_radial_grid.best_estimator_, 'models/SVM/svm_radial.sk')\n",
    "else:\n",
    "    # Cargar\n",
    "    svm_radial_grid = load('models/SVM/svm_radial_grid.sk')"
   ]
  },
  {
   "cell_type": "code",
   "execution_count": 23,
   "id": "cfc6f607-5b5b-4825-8c61-ed1b450fc447",
   "metadata": {
    "execution": {
     "iopub.execute_input": "2021-12-06T20:19:49.329194Z",
     "iopub.status.busy": "2021-12-06T20:19:49.328320Z",
     "iopub.status.idle": "2021-12-06T20:19:49.500135Z",
     "shell.execute_reply": "2021-12-06T20:19:49.499339Z",
     "shell.execute_reply.started": "2021-12-06T20:19:49.329105Z"
    },
    "tags": []
   },
   "outputs": [
    {
     "name": "stdout",
     "output_type": "stream",
     "text": [
      "Best score: 0.8543185190818388\n",
      "Best params {'C': 0.1, 'gamma': 0.01}\n"
     ]
    }
   ],
   "source": [
    "print(f\"Best score: {svm_radial_grid.best_score_}\")\n",
    "print(f\"Best params {svm_radial_grid.best_params_}\")"
   ]
  },
  {
   "cell_type": "code",
   "execution_count": 24,
   "id": "4ba261c2-bcaf-4ef1-9d57-e7845ee9f1e9",
   "metadata": {
    "execution": {
     "iopub.execute_input": "2021-12-06T20:19:49.501321Z",
     "iopub.status.busy": "2021-12-06T20:19:49.501117Z",
     "iopub.status.idle": "2021-12-06T20:19:49.715984Z",
     "shell.execute_reply": "2021-12-06T20:19:49.715137Z",
     "shell.execute_reply.started": "2021-12-06T20:19:49.501296Z"
    },
    "tags": []
   },
   "outputs": [],
   "source": [
    "svm_radial = svm_radial_grid.best_estimator_"
   ]
  },
  {
   "cell_type": "code",
   "execution_count": 25,
   "id": "f04af9eb-96ba-4598-9ea5-428430751db0",
   "metadata": {
    "execution": {
     "iopub.execute_input": "2021-12-06T20:19:49.717182Z",
     "iopub.status.busy": "2021-12-06T20:19:49.717023Z",
     "iopub.status.idle": "2021-12-06T20:20:20.065606Z",
     "shell.execute_reply": "2021-12-06T20:20:20.064386Z",
     "shell.execute_reply.started": "2021-12-06T20:19:49.717163Z"
    },
    "tags": []
   },
   "outputs": [
    {
     "name": "stdout",
     "output_type": "stream",
     "text": [
      "AUC-ROC: 0.8465118809606769\n",
      "ACCURACY: 0.8349941383352872\n",
      "PRESICION: 0.7592752372735116\n",
      "RECALL: 0.38427947598253276\n",
      "CONFUSION MATRIX\n",
      "CPU times: user 30 s, sys: 18.1 ms, total: 30 s\n",
      "Wall time: 30 s\n"
     ]
    },
    {
     "data": {
      "image/png": "[encoded data removed]",
      "text/plain": [
       "<Figure size 432x288 with 2 Axes>"
      ]
     },
     "metadata": {},
     "output_type": "display_data"
    }
   ],
   "source": [
    "%%time\n",
    "rad_pred = svm_radial.predict(val_feat)\n",
    "rad_prob = svm_radial.predict_proba(val_feat)\n",
    "score(val_targ, rad_pred, rad_prob[:,1])"
   ]
  },
  {
   "cell_type": "markdown",
   "id": "49a23b52-ff58-4562-933d-c0c15f6ad595",
   "metadata": {},
   "source": [
    "## Resultados"
   ]
  },
  {
   "cell_type": "markdown",
   "id": "1869bfdf-eaec-40ea-8539-371b9c79664d",
   "metadata": {
    "tags": []
   },
   "source": [
    "#### Lineal"
   ]
  },
  {
   "cell_type": "markdown",
   "id": "b004a2c7-25b5-477a-82fb-cd204d34130b",
   "metadata": {
    "tags": []
   },
   "source": [
    "Best score: 0.8529030220197755 \\\n",
    "Best params {'C': 0.01}\n",
    "\n",
    "Wall time: 13 s \\\n",
    "AUC-ROC: 0.8475897900346991 \\\n",
    "ACCURACY: 0.8345056662758891 \\\n",
    "PRESICION: 0.7339089481946625 \\\n",
    "RECALL: 0.40829694323144106"
   ]
  },
  {
   "cell_type": "markdown",
   "id": "50edfd5c-1718-40ed-8d45-9fcccff1ff1e",
   "metadata": {
    "tags": []
   },
   "source": [
    "#### Polinomial"
   ]
  },
  {
   "cell_type": "markdown",
   "id": "21786edb-7735-4175-aa39-e58f7237deb2",
   "metadata": {},
   "source": [
    "Best score: 0.8558912625135552 \\\n",
    "Best params {'C': 0.1, 'coef0': 4.0, 'degree': 2, 'gamma': 0.01}\n",
    "\n",
    "Wall time: 15.1 s \\\n",
    "AUC-ROC: 0.8510315261200878 \\\n",
    "ACCURACY: 0.8354826103946854 \\\n",
    "PRESICION: 0.7550505050505051 \\\n",
    "RECALL: 0.39170305676855893"
   ]
  },
  {
   "cell_type": "markdown",
   "id": "309e1d69-3665-4b7d-be6a-32bbb7acfac2",
   "metadata": {
    "tags": []
   },
   "source": [
    "#### Radial"
   ]
  },
  {
   "cell_type": "markdown",
   "id": "21c46b6d-3dd8-4192-a6aa-54342815ae4c",
   "metadata": {},
   "source": [
    "Best score: 0.8543185190818388 \\\n",
    "Best params {'C': 0.1, 'gamma': 0.01}\n",
    "\n",
    "Wall time: 30.1 s \\\n",
    "AUC-ROC: 0.8465118809606769 \\\n",
    "ACCURACY: 0.8349941383352872 \\\n",
    "PRESICION: 0.7592752372735116 \\\n",
    "RECALL: 0.38427947598253276"
   ]
  }
 ],
 "metadata": {
  "kernelspec": {
   "display_name": "Python 3 (ipykernel)",
   "language": "python",
   "name": "python3"
  },
  "language_info": {
   "codemirror_mode": {
    "name": "ipython",
    "version": 3
   },
   "file_extension": ".py",
   "mimetype": "text/x-python",
   "name": "python",
   "nbconvert_exporter": "python",
   "pygments_lexer": "ipython3",
   "version": "3.9.8"
  }
 },
 "nbformat": 4,
 "nbformat_minor": 5
}
