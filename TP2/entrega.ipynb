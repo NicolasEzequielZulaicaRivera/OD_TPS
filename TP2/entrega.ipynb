{
 "cells": [
  {
   "cell_type": "markdown",
   "id": "305e2aea-8552-432d-aca9-945a50182740",
   "metadata": {},
   "source": [
    "# Entrega"
   ]
  },
  {
   "cell_type": "markdown",
   "id": "32470318-92b3-4f95-a3a6-42fa6201114a",
   "metadata": {
    "tags": []
   },
   "source": [
    "## Preparacion"
   ]
  },
  {
   "cell_type": "markdown",
   "id": "2dc5738a-1cff-45c3-8c96-bfbdb1351f50",
   "metadata": {},
   "source": [
    "### Imports"
   ]
  },
  {
   "cell_type": "code",
   "execution_count": 1,
   "id": "beb361cf-9dee-4854-888f-1fc8d2f50b32",
   "metadata": {
    "execution": {
     "iopub.execute_input": "2021-12-30T02:16:41.695187Z",
     "iopub.status.busy": "2021-12-30T02:16:41.694681Z",
     "iopub.status.idle": "2021-12-30T02:16:45.128530Z",
     "shell.execute_reply": "2021-12-30T02:16:45.127713Z",
     "shell.execute_reply.started": "2021-12-30T02:16:41.695095Z"
    },
    "tags": []
   },
   "outputs": [],
   "source": [
    "import pandas as pd\n",
    "import numpy as np\n",
    "from matplotlib import pyplot as plt\n",
    "from joblib import dump, load"
   ]
  },
  {
   "cell_type": "code",
   "execution_count": 2,
   "id": "3cd0b092-c1a0-4f66-96ed-54d1532fac68",
   "metadata": {
    "execution": {
     "iopub.execute_input": "2021-12-30T02:16:45.129693Z",
     "iopub.status.busy": "2021-12-30T02:16:45.129513Z",
     "iopub.status.idle": "2021-12-30T02:16:50.774633Z",
     "shell.execute_reply": "2021-12-30T02:16:50.772308Z",
     "shell.execute_reply.started": "2021-12-30T02:16:45.129672Z"
    },
    "tags": []
   },
   "outputs": [
    {
     "name": "stdout",
     "output_type": "stream",
     "text": [
      "[###] Initial Preprocessings Done                           \n",
      "[###] Aditional Preprocessings Done                                                   \n"
     ]
    }
   ],
   "source": [
    "from preprocessing import reemplazarNulls,reemplazarCategoricas,reemplazarFechas,regularizar,targetBooleano\n",
    "from preprocessing import reemplazarCategoricas_OHE, keepFeat_OHE, reemplazarNullsNum\n",
    "from preprocessing import reemplazarCategoricas_HashTrick, normalizar_HashTrick"
   ]
  },
  {
   "cell_type": "code",
   "execution_count": 3,
   "id": "f526bcba-868d-4e14-97fb-44d67c46cd55",
   "metadata": {
    "execution": {
     "iopub.execute_input": "2021-12-30T02:16:50.782481Z",
     "iopub.status.busy": "2021-12-30T02:16:50.780706Z",
     "iopub.status.idle": "2021-12-30T02:16:51.681900Z",
     "shell.execute_reply": "2021-12-30T02:16:51.681094Z",
     "shell.execute_reply.started": "2021-12-30T02:16:50.782400Z"
    },
    "tags": []
   },
   "outputs": [],
   "source": [
    "from utilities import score2"
   ]
  },
  {
   "cell_type": "markdown",
   "id": "e4fbe660-9a08-46f1-86d8-d6516b3a7e9a",
   "metadata": {},
   "source": [
    "### Test Holdout"
   ]
  },
  {
   "cell_type": "code",
   "execution_count": 4,
   "id": "f1a75687-2d21-460e-84db-dddf9ac5dd25",
   "metadata": {
    "execution": {
     "iopub.execute_input": "2021-12-30T02:16:51.682977Z",
     "iopub.status.busy": "2021-12-30T02:16:51.682765Z",
     "iopub.status.idle": "2021-12-30T02:16:51.717272Z",
     "shell.execute_reply": "2021-12-30T02:16:51.716391Z",
     "shell.execute_reply.started": "2021-12-30T02:16:51.682951Z"
    },
    "tags": []
   },
   "outputs": [],
   "source": [
    "df_feat = pd.read_csv(\"datasets/holdout_features.csv\", low_memory=False).set_index('id')\n",
    "df_targ = pd.read_csv(\"datasets/holdout_target.csv\")"
   ]
  },
  {
   "cell_type": "markdown",
   "id": "50bd704c-d590-4bf7-aa29-9499de1bb141",
   "metadata": {},
   "source": [
    "## Preprocesamientos"
   ]
  },
  {
   "cell_type": "markdown",
   "id": "d015ecc5-1e79-43cd-97d2-c0ec98ed2f22",
   "metadata": {},
   "source": [
    "preprocesamiento | descripcion | funcion\n",
    ":--:|:--:|:--:\n",
    "convertir target a booleano | Convierte los 'si' y 'no' por True y False | `targetBooleano`\n",
    "reemplazar nulls de todas las features | Reemplaza los nulls de los features con un `simple imputer` | `reemplazarNulls`\n",
    "tratar missings numericos| Reemplaza missings por su media y una feature bool de missing |`reemplazarNullsNum`\n",
    "reemplazar categoricas de features | convierte las features categoricas en numericas | `reemplazarCategoricas`\n",
    "reemplazar fechas de features | convierte las features de fecha en numericas | `reemplazarFechas`\n",
    "regularizar features | Normaliza las features y elimina las menos significativas mediante lasso | `regularizar`\n",
    "escalar features | Luego de normalizar features pueden ser escaladas segun el peso asignado por lasso | `regularizar`\n",
    "One Hot | Reemplazar features categoricas con one hot encoding | `reemplazarCategoricas_OHE`\n",
    "Seleccion OHE | Selecciona los `N` features mas significativos | `keepFeat_OHE(N)`\n",
    "Hash Trick | Reemplazar features categoricas con hash trick | `reemplazarCategoricas_HashTrick`\n",
    "Normalizar HT | Normaliza las features resultantes de hash trick | `normalizar_HashTrick`"
   ]
  },
  {
   "cell_type": "markdown",
   "id": "bfbe11c6-f496-4326-b18c-9550ce59c464",
   "metadata": {},
   "source": [
    "identificacion | preprocesamientos\n",
    ":--:|:--:\n",
    "`Comun` | `targetBooleano` `reemplazarFechas`\n",
    "`BAS` | `Comun` `reemplazarNulls` `reemplazarCategoricas`\n",
    "`REG` | `BAS` `regularizar`\n",
    "`OHE` | `Comun` `reemplazarCategoricas_OHE`\n",
    "`OHE(N)` | `OHE` `keepFeat_OHE(N)`\n",
    "`HT` | `Comun` `reemplazarCategoricas_HashTrick`\n",
    "`HTN` | `HT` `normalizar_HashTrick`"
   ]
  },
  {
   "cell_type": "code",
   "execution_count": 5,
   "id": "10147b25-efcb-43e9-a6d7-274ff1baec58",
   "metadata": {
    "execution": {
     "iopub.execute_input": "2021-12-30T02:16:51.718283Z",
     "iopub.status.busy": "2021-12-30T02:16:51.718092Z",
     "iopub.status.idle": "2021-12-30T02:17:02.698021Z",
     "shell.execute_reply": "2021-12-30T02:17:02.696828Z",
     "shell.execute_reply.started": "2021-12-30T02:16:51.718262Z"
    },
    "tags": []
   },
   "outputs": [],
   "source": [
    "targetBooleano(df_targ, inplace=True)\n",
    "df_targ = df_targ.llovieron_hamburguesas_al_dia_siguiente\n",
    "\n",
    "ohe_feat = reemplazarCategoricas_OHE(df_feat)\n",
    "ht_feat = reemplazarCategoricas_HashTrick(df_feat)\n",
    "\n",
    "reemplazarNulls(df_feat , inplace=True)\n",
    "reemplazarCategoricas(df_feat , inplace=True)\n",
    "reemplazarFechas(df_feat , inplace=True)\n",
    "\n",
    "df_reg = regularizar(df_feat)\n",
    "\n",
    "reemplazarNullsNum(ohe_feat, inplace=True)\n",
    "reemplazarFechas(ohe_feat , inplace=True)\n",
    "ohe_feat2 = keepFeat_OHE(ohe_feat, 10)\n",
    "\n",
    "reemplazarFechas(ht_feat , inplace=True)\n",
    "reemplazarNullsNum(ht_feat, inplace=True)\n",
    "ht_feat2 = normalizar_HashTrick(ht_feat)"
   ]
  },
  {
   "cell_type": "markdown",
   "id": "ba9acbf4-fcd8-45b5-baeb-04680f0fd37a",
   "metadata": {},
   "source": [
    "## Comparacion con Test Holdout"
   ]
  },
  {
   "cell_type": "code",
   "execution_count": 6,
   "id": "bd4d7299-7e3b-4f11-97b6-16513a55a923",
   "metadata": {
    "execution": {
     "iopub.execute_input": "2021-12-30T02:17:02.699234Z",
     "iopub.status.busy": "2021-12-30T02:17:02.699047Z",
     "iopub.status.idle": "2021-12-30T02:17:02.704161Z",
     "shell.execute_reply": "2021-12-30T02:17:02.703391Z",
     "shell.execute_reply.started": "2021-12-30T02:17:02.699215Z"
    },
    "tags": []
   },
   "outputs": [],
   "source": [
    "predictions = pd.DataFrame()"
   ]
  },
  {
   "cell_type": "code",
   "execution_count": 7,
   "id": "3216ea4b-4b8b-4594-8e86-ba54b6bc8135",
   "metadata": {
    "execution": {
     "iopub.execute_input": "2021-12-30T02:17:02.705258Z",
     "iopub.status.busy": "2021-12-30T02:17:02.705059Z",
     "iopub.status.idle": "2021-12-30T02:17:02.873523Z",
     "shell.execute_reply": "2021-12-30T02:17:02.872513Z",
     "shell.execute_reply.started": "2021-12-30T02:17:02.705237Z"
    },
    "tags": []
   },
   "outputs": [],
   "source": [
    "def predict( model, name, preproc, feat ):\n",
    "    pred = model.predict(feat)\n",
    "    prob = model.predict_proba(feat)\n",
    "    return score2( name, preproc, df_targ, pred, prob[:,1] )"
   ]
  },
  {
   "cell_type": "markdown",
   "id": "fd24cffc-1efb-4c68-a78d-81010ba584a5",
   "metadata": {},
   "source": [
    "### Modelos"
   ]
  },
  {
   "cell_type": "markdown",
   "id": "72c59410-a7c3-40e9-aa0e-81145bcd92f0",
   "metadata": {},
   "source": [
    "#### Arbol"
   ]
  },
  {
   "cell_type": "code",
   "execution_count": 8,
   "id": "b52a7d27-5e61-4534-8ceb-f706f2f1c13c",
   "metadata": {
    "execution": {
     "iopub.execute_input": "2021-12-30T02:17:02.874784Z",
     "iopub.status.busy": "2021-12-30T02:17:02.874518Z",
     "iopub.status.idle": "2021-12-30T02:17:03.431027Z",
     "shell.execute_reply": "2021-12-30T02:17:03.429881Z",
     "shell.execute_reply.started": "2021-12-30T02:17:02.874752Z"
    },
    "tags": []
   },
   "outputs": [],
   "source": [
    "arbol = load('models/Tree/tree.sk')"
   ]
  },
  {
   "cell_type": "code",
   "execution_count": 9,
   "id": "279ee5b1-faef-4ea8-83ee-6133d8175933",
   "metadata": {
    "execution": {
     "iopub.execute_input": "2021-12-30T02:17:03.432513Z",
     "iopub.status.busy": "2021-12-30T02:17:03.432241Z",
     "iopub.status.idle": "2021-12-30T02:17:03.542738Z",
     "shell.execute_reply": "2021-12-30T02:17:03.541711Z",
     "shell.execute_reply.started": "2021-12-30T02:17:03.432488Z"
    },
    "tags": []
   },
   "outputs": [
    {
     "data": {
      "text/plain": [
       "0.8545815778158975"
      ]
     },
     "execution_count": 9,
     "metadata": {},
     "output_type": "execute_result"
    }
   ],
   "source": [
    "pdf = predict(arbol,\"Arbol\",\"BAS\",df_feat)\n",
    "predictions = predictions.append( pdf )\n",
    "pdf['AUC-ROC'][0]"
   ]
  },
  {
   "cell_type": "markdown",
   "id": "87dcb271-8e04-4adf-9c46-07cffd1b95cf",
   "metadata": {},
   "source": [
    "#### Knn"
   ]
  },
  {
   "cell_type": "code",
   "execution_count": 10,
   "id": "276b3c20-1d8c-4022-b94e-e7a5bd6cc159",
   "metadata": {
    "execution": {
     "iopub.execute_input": "2021-12-30T02:17:03.543968Z",
     "iopub.status.busy": "2021-12-30T02:17:03.543739Z",
     "iopub.status.idle": "2021-12-30T02:17:03.649652Z",
     "shell.execute_reply": "2021-12-30T02:17:03.648673Z",
     "shell.execute_reply.started": "2021-12-30T02:17:03.543948Z"
    },
    "tags": []
   },
   "outputs": [],
   "source": [
    "knn = load('models/KNN/knn.sk')"
   ]
  },
  {
   "cell_type": "code",
   "execution_count": 11,
   "id": "2c9a0160-c466-4f56-8ff8-0e9f878d6233",
   "metadata": {
    "execution": {
     "iopub.execute_input": "2021-12-30T02:17:03.650956Z",
     "iopub.status.busy": "2021-12-30T02:17:03.650747Z",
     "iopub.status.idle": "2021-12-30T02:17:24.036725Z",
     "shell.execute_reply": "2021-12-30T02:17:24.035784Z",
     "shell.execute_reply.started": "2021-12-30T02:17:03.650933Z"
    },
    "tags": []
   },
   "outputs": [
    {
     "data": {
      "text/plain": [
       "0.8731459243361229"
      ]
     },
     "execution_count": 11,
     "metadata": {},
     "output_type": "execute_result"
    }
   ],
   "source": [
    "pdf = predict(knn,\"KNN\",\"REG\",df_reg)\n",
    "predictions = predictions.append( pdf )\n",
    "pdf['AUC-ROC'][0]"
   ]
  },
  {
   "cell_type": "markdown",
   "id": "86948128-e163-4818-93d2-1d3749cccf9d",
   "metadata": {},
   "source": [
    "#### Naive Bayes"
   ]
  },
  {
   "cell_type": "code",
   "execution_count": 12,
   "id": "b71c0916-bc9d-47df-9f00-536c20153dd5",
   "metadata": {
    "execution": {
     "iopub.execute_input": "2021-12-30T02:17:24.040492Z",
     "iopub.status.busy": "2021-12-30T02:17:24.039814Z",
     "iopub.status.idle": "2021-12-30T02:17:24.065983Z",
     "shell.execute_reply": "2021-12-30T02:17:24.065034Z",
     "shell.execute_reply.started": "2021-12-30T02:17:24.040457Z"
    },
    "tags": []
   },
   "outputs": [],
   "source": [
    "nb = load('models/NB/nb.sk')"
   ]
  },
  {
   "cell_type": "code",
   "execution_count": 13,
   "id": "648bb33a-2ca8-4f00-a215-06ae91212263",
   "metadata": {
    "execution": {
     "iopub.execute_input": "2021-12-30T02:17:24.067531Z",
     "iopub.status.busy": "2021-12-30T02:17:24.067173Z",
     "iopub.status.idle": "2021-12-30T02:17:24.348303Z",
     "shell.execute_reply": "2021-12-30T02:17:24.347537Z",
     "shell.execute_reply.started": "2021-12-30T02:17:24.067493Z"
    },
    "tags": []
   },
   "outputs": [
    {
     "data": {
      "text/plain": [
       "0.8294019163885583"
      ]
     },
     "execution_count": 13,
     "metadata": {},
     "output_type": "execute_result"
    }
   ],
   "source": [
    "pdf = predict(nb,\"Naive Bayes\",\"REG\",df_reg)\n",
    "predictions = predictions.append( pdf )\n",
    "pdf['AUC-ROC'][0]"
   ]
  },
  {
   "cell_type": "markdown",
   "id": "6322c6fa-e325-40f2-9d15-2c359cf82f06",
   "metadata": {},
   "source": [
    "#### SVM (Poly)"
   ]
  },
  {
   "cell_type": "code",
   "execution_count": 14,
   "id": "e3bc9c01-b36d-40f5-8654-71618ed9e54a",
   "metadata": {
    "execution": {
     "iopub.execute_input": "2021-12-30T02:17:24.349349Z",
     "iopub.status.busy": "2021-12-30T02:17:24.349160Z",
     "iopub.status.idle": "2021-12-30T02:17:24.442969Z",
     "shell.execute_reply": "2021-12-30T02:17:24.441899Z",
     "shell.execute_reply.started": "2021-12-30T02:17:24.349330Z"
    },
    "tags": []
   },
   "outputs": [],
   "source": [
    "svm = load('models/SVM/svm.sk')"
   ]
  },
  {
   "cell_type": "code",
   "execution_count": 15,
   "id": "8fbe764e-68e3-478d-bdc3-05f3508cef45",
   "metadata": {
    "execution": {
     "iopub.execute_input": "2021-12-30T02:17:24.444020Z",
     "iopub.status.busy": "2021-12-30T02:17:24.443842Z",
     "iopub.status.idle": "2021-12-30T02:18:23.061305Z",
     "shell.execute_reply": "2021-12-30T02:18:23.060265Z",
     "shell.execute_reply.started": "2021-12-30T02:17:24.444002Z"
    },
    "tags": []
   },
   "outputs": [
    {
     "data": {
      "text/plain": [
       "0.8743984357683136"
      ]
     },
     "execution_count": 15,
     "metadata": {},
     "output_type": "execute_result"
    }
   ],
   "source": [
    "pdf = predict(svm,\"SVM (Poly)\",\"OHE\",ohe_feat)\n",
    "predictions = predictions.append( pdf )\n",
    "pdf['AUC-ROC'][0]"
   ]
  },
  {
   "cell_type": "markdown",
   "id": "4b36829d-8448-4325-8abd-2d04aaa573e8",
   "metadata": {},
   "source": [
    "#### Red Neuronal"
   ]
  },
  {
   "cell_type": "code",
   "execution_count": 16,
   "id": "6419cd23-4162-4420-97f8-02cf70057882",
   "metadata": {
    "execution": {
     "iopub.execute_input": "2021-12-30T02:18:23.062826Z",
     "iopub.status.busy": "2021-12-30T02:18:23.062631Z",
     "iopub.status.idle": "2021-12-30T02:18:23.247324Z",
     "shell.execute_reply": "2021-12-30T02:18:23.246563Z",
     "shell.execute_reply.started": "2021-12-30T02:18:23.062805Z"
    },
    "tags": []
   },
   "outputs": [],
   "source": [
    "nn = load('models/NN/nn.sk')"
   ]
  },
  {
   "cell_type": "code",
   "execution_count": 17,
   "id": "b066407b-d136-495e-94f8-ebe6edbf5594",
   "metadata": {
    "execution": {
     "iopub.execute_input": "2021-12-30T02:18:23.248362Z",
     "iopub.status.busy": "2021-12-30T02:18:23.248180Z",
     "iopub.status.idle": "2021-12-30T02:18:23.566339Z",
     "shell.execute_reply": "2021-12-30T02:18:23.565610Z",
     "shell.execute_reply.started": "2021-12-30T02:18:23.248342Z"
    },
    "tags": []
   },
   "outputs": [
    {
     "data": {
      "text/plain": [
       "0.8766236292275961"
      ]
     },
     "execution_count": 17,
     "metadata": {},
     "output_type": "execute_result"
    }
   ],
   "source": [
    "pdf = predict(nn,\"Red Neuronal\",\"HTN\",ht_feat2)\n",
    "predictions = predictions.append( pdf )\n",
    "pdf['AUC-ROC'][0]"
   ]
  },
  {
   "cell_type": "markdown",
   "id": "1fdcec5f-5810-46ee-90d8-7b2878f6b022",
   "metadata": {},
   "source": [
    "#### Random Forest"
   ]
  },
  {
   "cell_type": "code",
   "execution_count": 18,
   "id": "a3e8f48e-ca6f-439f-8eba-713be4856427",
   "metadata": {
    "execution": {
     "iopub.execute_input": "2021-12-30T02:18:23.573445Z",
     "iopub.status.busy": "2021-12-30T02:18:23.571086Z",
     "iopub.status.idle": "2021-12-30T02:18:24.423446Z",
     "shell.execute_reply": "2021-12-30T02:18:24.421952Z",
     "shell.execute_reply.started": "2021-12-30T02:18:23.573406Z"
    },
    "tags": []
   },
   "outputs": [],
   "source": [
    "random_forest = load('models/Ensambles/random_forest.sk')"
   ]
  },
  {
   "cell_type": "code",
   "execution_count": 19,
   "id": "91ad8018-d4f7-43cf-950a-6a71b6651b66",
   "metadata": {
    "execution": {
     "iopub.execute_input": "2021-12-30T02:18:24.424705Z",
     "iopub.status.busy": "2021-12-30T02:18:24.424510Z",
     "iopub.status.idle": "2021-12-30T02:18:25.582196Z",
     "shell.execute_reply": "2021-12-30T02:18:25.581218Z",
     "shell.execute_reply.started": "2021-12-30T02:18:24.424687Z"
    },
    "tags": []
   },
   "outputs": [
    {
     "data": {
      "text/plain": [
       "0.8733757476434599"
      ]
     },
     "execution_count": 19,
     "metadata": {},
     "output_type": "execute_result"
    }
   ],
   "source": [
    "pdf = predict(random_forest,\"Random Forest\",\"BAS\",df_feat)\n",
    "predictions = predictions.append( pdf )\n",
    "pdf['AUC-ROC'][0]"
   ]
  },
  {
   "cell_type": "markdown",
   "id": "9add2bee-ef6f-467f-9cdb-965f3631fa36",
   "metadata": {},
   "source": [
    "#### Boosting"
   ]
  },
  {
   "cell_type": "code",
   "execution_count": 20,
   "id": "7ac795f6-2d5b-4fdf-9794-3e53dcd2cf1f",
   "metadata": {
    "execution": {
     "iopub.execute_input": "2021-12-30T02:18:25.583461Z",
     "iopub.status.busy": "2021-12-30T02:18:25.583277Z",
     "iopub.status.idle": "2021-12-30T02:18:25.641930Z",
     "shell.execute_reply": "2021-12-30T02:18:25.640491Z",
     "shell.execute_reply.started": "2021-12-30T02:18:25.583441Z"
    },
    "tags": []
   },
   "outputs": [],
   "source": [
    "boost = load('models/Ensambles/boost.sk')"
   ]
  },
  {
   "cell_type": "code",
   "execution_count": 21,
   "id": "8af0448b-825e-475e-b2e0-60bb966dd3e3",
   "metadata": {
    "execution": {
     "iopub.execute_input": "2021-12-30T02:18:25.643179Z",
     "iopub.status.busy": "2021-12-30T02:18:25.642940Z",
     "iopub.status.idle": "2021-12-30T02:18:26.450413Z",
     "shell.execute_reply": "2021-12-30T02:18:26.449407Z",
     "shell.execute_reply.started": "2021-12-30T02:18:25.643147Z"
    },
    "tags": []
   },
   "outputs": [
    {
     "data": {
      "text/plain": [
       "0.9032807293813307"
      ]
     },
     "execution_count": 21,
     "metadata": {},
     "output_type": "execute_result"
    }
   ],
   "source": [
    "pdf = predict(boost,\"BOOST\",\"OHE\",ohe_feat)\n",
    "predictions = predictions.append( pdf )\n",
    "pdf['AUC-ROC'][0]"
   ]
  },
  {
   "cell_type": "markdown",
   "id": "cecce098-37a3-4cf4-b8ba-b578cf1fdb2d",
   "metadata": {},
   "source": [
    "## Resultados"
   ]
  },
  {
   "cell_type": "code",
   "execution_count": 22,
   "id": "2708938f-08d3-42bf-83eb-c320945d2f02",
   "metadata": {
    "execution": {
     "iopub.execute_input": "2021-12-30T02:18:26.451749Z",
     "iopub.status.busy": "2021-12-30T02:18:26.451551Z",
     "iopub.status.idle": "2021-12-30T02:18:26.481962Z",
     "shell.execute_reply": "2021-12-30T02:18:26.480974Z",
     "shell.execute_reply.started": "2021-12-30T02:18:26.451729Z"
    },
    "tags": []
   },
   "outputs": [
    {
     "data": {
      "text/html": [
       "<div>\n",
       "<style scoped>\n",
       "    .dataframe tbody tr th:only-of-type {\n",
       "        vertical-align: middle;\n",
       "    }\n",
       "\n",
       "    .dataframe tbody tr th {\n",
       "        vertical-align: top;\n",
       "    }\n",
       "\n",
       "    .dataframe thead th {\n",
       "        text-align: right;\n",
       "    }\n",
       "</style>\n",
       "<table border=\"1\" class=\"dataframe\">\n",
       "  <thead>\n",
       "    <tr style=\"text-align: right;\">\n",
       "      <th></th>\n",
       "      <th>Modelo</th>\n",
       "      <th>Preprocesamientos</th>\n",
       "      <th>Clase</th>\n",
       "      <th>AUC-ROC</th>\n",
       "      <th>Accuracy</th>\n",
       "      <th>Precision</th>\n",
       "      <th>Recall</th>\n",
       "      <th>F1 score</th>\n",
       "      <th>Support</th>\n",
       "    </tr>\n",
       "  </thead>\n",
       "  <tbody>\n",
       "    <tr>\n",
       "      <th>0</th>\n",
       "      <td>Arbol</td>\n",
       "      <td>BAS</td>\n",
       "      <td>AVG</td>\n",
       "      <td>0.854582</td>\n",
       "      <td>0.840587</td>\n",
       "      <td>0.829657</td>\n",
       "      <td>0.840587</td>\n",
       "      <td>0.828618</td>\n",
       "      <td>11373</td>\n",
       "    </tr>\n",
       "    <tr>\n",
       "      <th>1</th>\n",
       "      <td>Arbol</td>\n",
       "      <td>BAS</td>\n",
       "      <td>True</td>\n",
       "      <td>NaN</td>\n",
       "      <td>NaN</td>\n",
       "      <td>0.713536</td>\n",
       "      <td>0.480550</td>\n",
       "      <td>0.574313</td>\n",
       "      <td>2545</td>\n",
       "    </tr>\n",
       "    <tr>\n",
       "      <th>2</th>\n",
       "      <td>Arbol</td>\n",
       "      <td>BAS</td>\n",
       "      <td>False</td>\n",
       "      <td>NaN</td>\n",
       "      <td>NaN</td>\n",
       "      <td>0.863133</td>\n",
       "      <td>0.944382</td>\n",
       "      <td>0.901931</td>\n",
       "      <td>8828</td>\n",
       "    </tr>\n",
       "    <tr>\n",
       "      <th>0</th>\n",
       "      <td>KNN</td>\n",
       "      <td>REG</td>\n",
       "      <td>AVG</td>\n",
       "      <td>0.873146</td>\n",
       "      <td>0.842786</td>\n",
       "      <td>0.833702</td>\n",
       "      <td>0.842786</td>\n",
       "      <td>0.825936</td>\n",
       "      <td>11373</td>\n",
       "    </tr>\n",
       "    <tr>\n",
       "      <th>1</th>\n",
       "      <td>KNN</td>\n",
       "      <td>REG</td>\n",
       "      <td>True</td>\n",
       "      <td>NaN</td>\n",
       "      <td>NaN</td>\n",
       "      <td>0.760137</td>\n",
       "      <td>0.434578</td>\n",
       "      <td>0.553000</td>\n",
       "      <td>2545</td>\n",
       "    </tr>\n",
       "    <tr>\n",
       "      <th>2</th>\n",
       "      <td>KNN</td>\n",
       "      <td>REG</td>\n",
       "      <td>False</td>\n",
       "      <td>NaN</td>\n",
       "      <td>NaN</td>\n",
       "      <td>0.854910</td>\n",
       "      <td>0.960467</td>\n",
       "      <td>0.904620</td>\n",
       "      <td>8828</td>\n",
       "    </tr>\n",
       "    <tr>\n",
       "      <th>0</th>\n",
       "      <td>Naive Bayes</td>\n",
       "      <td>REG</td>\n",
       "      <td>AVG</td>\n",
       "      <td>0.829402</td>\n",
       "      <td>0.825991</td>\n",
       "      <td>0.817808</td>\n",
       "      <td>0.825991</td>\n",
       "      <td>0.820698</td>\n",
       "      <td>11373</td>\n",
       "    </tr>\n",
       "    <tr>\n",
       "      <th>1</th>\n",
       "      <td>Naive Bayes</td>\n",
       "      <td>REG</td>\n",
       "      <td>True</td>\n",
       "      <td>NaN</td>\n",
       "      <td>NaN</td>\n",
       "      <td>0.631140</td>\n",
       "      <td>0.535167</td>\n",
       "      <td>0.579205</td>\n",
       "      <td>2545</td>\n",
       "    </tr>\n",
       "    <tr>\n",
       "      <th>2</th>\n",
       "      <td>Naive Bayes</td>\n",
       "      <td>REG</td>\n",
       "      <td>False</td>\n",
       "      <td>NaN</td>\n",
       "      <td>NaN</td>\n",
       "      <td>0.871622</td>\n",
       "      <td>0.909832</td>\n",
       "      <td>0.890318</td>\n",
       "      <td>8828</td>\n",
       "    </tr>\n",
       "    <tr>\n",
       "      <th>0</th>\n",
       "      <td>SVM (Poly)</td>\n",
       "      <td>OHE</td>\n",
       "      <td>AVG</td>\n",
       "      <td>0.874398</td>\n",
       "      <td>0.849028</td>\n",
       "      <td>0.840390</td>\n",
       "      <td>0.849028</td>\n",
       "      <td>0.835431</td>\n",
       "      <td>11373</td>\n",
       "    </tr>\n",
       "    <tr>\n",
       "      <th>1</th>\n",
       "      <td>SVM (Poly)</td>\n",
       "      <td>OHE</td>\n",
       "      <td>True</td>\n",
       "      <td>NaN</td>\n",
       "      <td>NaN</td>\n",
       "      <td>0.760705</td>\n",
       "      <td>0.474656</td>\n",
       "      <td>0.584563</td>\n",
       "      <td>2545</td>\n",
       "    </tr>\n",
       "    <tr>\n",
       "      <th>2</th>\n",
       "      <td>SVM (Poly)</td>\n",
       "      <td>OHE</td>\n",
       "      <td>False</td>\n",
       "      <td>NaN</td>\n",
       "      <td>NaN</td>\n",
       "      <td>0.863362</td>\n",
       "      <td>0.956955</td>\n",
       "      <td>0.907753</td>\n",
       "      <td>8828</td>\n",
       "    </tr>\n",
       "    <tr>\n",
       "      <th>0</th>\n",
       "      <td>Red Neuronal</td>\n",
       "      <td>HTN</td>\n",
       "      <td>AVG</td>\n",
       "      <td>0.876624</td>\n",
       "      <td>0.851315</td>\n",
       "      <td>0.842430</td>\n",
       "      <td>0.851315</td>\n",
       "      <td>0.841415</td>\n",
       "      <td>11373</td>\n",
       "    </tr>\n",
       "    <tr>\n",
       "      <th>1</th>\n",
       "      <td>Red Neuronal</td>\n",
       "      <td>HTN</td>\n",
       "      <td>True</td>\n",
       "      <td>NaN</td>\n",
       "      <td>NaN</td>\n",
       "      <td>0.738547</td>\n",
       "      <td>0.519450</td>\n",
       "      <td>0.609919</td>\n",
       "      <td>2545</td>\n",
       "    </tr>\n",
       "    <tr>\n",
       "      <th>2</th>\n",
       "      <td>Red Neuronal</td>\n",
       "      <td>HTN</td>\n",
       "      <td>False</td>\n",
       "      <td>NaN</td>\n",
       "      <td>NaN</td>\n",
       "      <td>0.872378</td>\n",
       "      <td>0.946987</td>\n",
       "      <td>0.908153</td>\n",
       "      <td>8828</td>\n",
       "    </tr>\n",
       "    <tr>\n",
       "      <th>0</th>\n",
       "      <td>Random Forest</td>\n",
       "      <td>BAS</td>\n",
       "      <td>AVG</td>\n",
       "      <td>0.873376</td>\n",
       "      <td>0.844896</td>\n",
       "      <td>0.836653</td>\n",
       "      <td>0.844896</td>\n",
       "      <td>0.828022</td>\n",
       "      <td>11373</td>\n",
       "    </tr>\n",
       "    <tr>\n",
       "      <th>1</th>\n",
       "      <td>Random Forest</td>\n",
       "      <td>BAS</td>\n",
       "      <td>True</td>\n",
       "      <td>NaN</td>\n",
       "      <td>NaN</td>\n",
       "      <td>0.770617</td>\n",
       "      <td>0.436935</td>\n",
       "      <td>0.557673</td>\n",
       "      <td>2545</td>\n",
       "    </tr>\n",
       "    <tr>\n",
       "      <th>2</th>\n",
       "      <td>Random Forest</td>\n",
       "      <td>BAS</td>\n",
       "      <td>False</td>\n",
       "      <td>NaN</td>\n",
       "      <td>NaN</td>\n",
       "      <td>0.855690</td>\n",
       "      <td>0.962506</td>\n",
       "      <td>0.905960</td>\n",
       "      <td>8828</td>\n",
       "    </tr>\n",
       "    <tr>\n",
       "      <th>0</th>\n",
       "      <td>BOOST</td>\n",
       "      <td>OHE</td>\n",
       "      <td>AVG</td>\n",
       "      <td>0.903281</td>\n",
       "      <td>0.867405</td>\n",
       "      <td>0.860987</td>\n",
       "      <td>0.867405</td>\n",
       "      <td>0.859862</td>\n",
       "      <td>11373</td>\n",
       "    </tr>\n",
       "    <tr>\n",
       "      <th>1</th>\n",
       "      <td>BOOST</td>\n",
       "      <td>OHE</td>\n",
       "      <td>True</td>\n",
       "      <td>NaN</td>\n",
       "      <td>NaN</td>\n",
       "      <td>0.775651</td>\n",
       "      <td>0.573281</td>\n",
       "      <td>0.659286</td>\n",
       "      <td>2545</td>\n",
       "    </tr>\n",
       "    <tr>\n",
       "      <th>2</th>\n",
       "      <td>BOOST</td>\n",
       "      <td>OHE</td>\n",
       "      <td>False</td>\n",
       "      <td>NaN</td>\n",
       "      <td>NaN</td>\n",
       "      <td>0.885588</td>\n",
       "      <td>0.952198</td>\n",
       "      <td>0.917686</td>\n",
       "      <td>8828</td>\n",
       "    </tr>\n",
       "  </tbody>\n",
       "</table>\n",
       "</div>"
      ],
      "text/plain": [
       "          Modelo Preprocesamientos  Clase   AUC-ROC  Accuracy  Precision  \\\n",
       "0          Arbol               BAS    AVG  0.854582  0.840587   0.829657   \n",
       "1          Arbol               BAS   True       NaN       NaN   0.713536   \n",
       "2          Arbol               BAS  False       NaN       NaN   0.863133   \n",
       "0            KNN               REG    AVG  0.873146  0.842786   0.833702   \n",
       "1            KNN               REG   True       NaN       NaN   0.760137   \n",
       "2            KNN               REG  False       NaN       NaN   0.854910   \n",
       "0    Naive Bayes               REG    AVG  0.829402  0.825991   0.817808   \n",
       "1    Naive Bayes               REG   True       NaN       NaN   0.631140   \n",
       "2    Naive Bayes               REG  False       NaN       NaN   0.871622   \n",
       "0     SVM (Poly)               OHE    AVG  0.874398  0.849028   0.840390   \n",
       "1     SVM (Poly)               OHE   True       NaN       NaN   0.760705   \n",
       "2     SVM (Poly)               OHE  False       NaN       NaN   0.863362   \n",
       "0   Red Neuronal               HTN    AVG  0.876624  0.851315   0.842430   \n",
       "1   Red Neuronal               HTN   True       NaN       NaN   0.738547   \n",
       "2   Red Neuronal               HTN  False       NaN       NaN   0.872378   \n",
       "0  Random Forest               BAS    AVG  0.873376  0.844896   0.836653   \n",
       "1  Random Forest               BAS   True       NaN       NaN   0.770617   \n",
       "2  Random Forest               BAS  False       NaN       NaN   0.855690   \n",
       "0          BOOST               OHE    AVG  0.903281  0.867405   0.860987   \n",
       "1          BOOST               OHE   True       NaN       NaN   0.775651   \n",
       "2          BOOST               OHE  False       NaN       NaN   0.885588   \n",
       "\n",
       "     Recall  F1 score Support  \n",
       "0  0.840587  0.828618   11373  \n",
       "1  0.480550  0.574313    2545  \n",
       "2  0.944382  0.901931    8828  \n",
       "0  0.842786  0.825936   11373  \n",
       "1  0.434578  0.553000    2545  \n",
       "2  0.960467  0.904620    8828  \n",
       "0  0.825991  0.820698   11373  \n",
       "1  0.535167  0.579205    2545  \n",
       "2  0.909832  0.890318    8828  \n",
       "0  0.849028  0.835431   11373  \n",
       "1  0.474656  0.584563    2545  \n",
       "2  0.956955  0.907753    8828  \n",
       "0  0.851315  0.841415   11373  \n",
       "1  0.519450  0.609919    2545  \n",
       "2  0.946987  0.908153    8828  \n",
       "0  0.844896  0.828022   11373  \n",
       "1  0.436935  0.557673    2545  \n",
       "2  0.962506  0.905960    8828  \n",
       "0  0.867405  0.859862   11373  \n",
       "1  0.573281  0.659286    2545  \n",
       "2  0.952198  0.917686    8828  "
      ]
     },
     "execution_count": 22,
     "metadata": {},
     "output_type": "execute_result"
    }
   ],
   "source": [
    "predictions"
   ]
  },
  {
   "cell_type": "markdown",
   "id": "a4bf6411-16d6-4ced-93a2-f5313f56ea3c",
   "metadata": {},
   "source": [
    "## Conclusion"
   ]
  },
  {
   "cell_type": "markdown",
   "id": "1aaf9e70-51ba-4f24-a7cd-c0a11ae35227",
   "metadata": {},
   "source": [
    "**Modelo Recomendado:** Boosting, evaluando con el test-holdout es el que mejores metricas en todos los campos excepto  Precision"
   ]
  },
  {
   "cell_type": "markdown",
   "id": "66478c56-0b1b-4f49-ac61-ccf4dc34b131",
   "metadata": {},
   "source": [
    "- qué modelo elegiríamos si se necesitase tener la menor cantidad de falsos positivos\n",
    "\n",
    "> Ninguno, los modelos fueron entrenados para optimizar AUR-ROC, si quisiera minimizar la cantidad de **FP** entrenaria para optimizar la **Presicion**.\n",
    ">\n",
    "> De los modelos entrenados, el de mayor Precision en el test-holdout fue `Boost` tanto para la clase **True** (0.78) y como para **False** (0.89), *y por ende tambien el promedio pesado*. "
   ]
  },
  {
   "cell_type": "markdown",
   "id": "3d0d54d7-9a8c-44df-9972-5910d77fb140",
   "metadata": {},
   "source": [
    "- si necesitan tener una lista de todos los días que potencialmente lloverán hamburguesas al día siguiente sin preocuparse demasiado si metemos en la misma días que realmente no llovieron hamburguesas al día siguiente\n",
    "\n",
    "> Ninguno, los modelos fueron entrenados para optimizar AUR-ROC, si quisiera minimizar la cantidad de **FN** entrenaria para optimizar el **Recall**.\n",
    ">\n",
    "> De los modelos entrenados, el de mayor Recall en el test-holdout fue `Boost` para la clase **True** (0.57) ,`Random Forest` para la clase **False** (0.96) y `Boost` para el promedio pesado (0.87)."
   ]
  },
  {
   "cell_type": "markdown",
   "id": "9fc8e1fb-5b3f-440f-bab1-1ec0fa1e1f6f",
   "metadata": {},
   "source": [
    "#### Comparacion con Base Line"
   ]
  },
  {
   "cell_type": "code",
   "execution_count": 23,
   "id": "6685c954-d985-459b-95d7-dfb3292a95ee",
   "metadata": {
    "execution": {
     "iopub.execute_input": "2021-12-30T02:18:26.484305Z",
     "iopub.status.busy": "2021-12-30T02:18:26.483502Z",
     "iopub.status.idle": "2021-12-30T02:18:26.745605Z",
     "shell.execute_reply": "2021-12-30T02:18:26.744750Z",
     "shell.execute_reply.started": "2021-12-30T02:18:26.484252Z"
    }
   },
   "outputs": [
    {
     "data": {
      "text/html": [
       "<div>\n",
       "<style scoped>\n",
       "    .dataframe tbody tr th:only-of-type {\n",
       "        vertical-align: middle;\n",
       "    }\n",
       "\n",
       "    .dataframe tbody tr th {\n",
       "        vertical-align: top;\n",
       "    }\n",
       "\n",
       "    .dataframe thead th {\n",
       "        text-align: right;\n",
       "    }\n",
       "</style>\n",
       "<table border=\"1\" class=\"dataframe\">\n",
       "  <thead>\n",
       "    <tr style=\"text-align: right;\">\n",
       "      <th></th>\n",
       "      <th>barrio</th>\n",
       "      <th>dia</th>\n",
       "      <th>direccion_viento_tarde</th>\n",
       "      <th>direccion_viento_temprano</th>\n",
       "      <th>horas_de_sol</th>\n",
       "      <th>humedad_tarde</th>\n",
       "      <th>humedad_temprano</th>\n",
       "      <th>llovieron_hamburguesas_hoy</th>\n",
       "      <th>mm_evaporados_agua</th>\n",
       "      <th>mm_lluvia_dia</th>\n",
       "      <th>...</th>\n",
       "      <th>missing_nubosidad_temprano</th>\n",
       "      <th>missing_presion_atmosferica_tarde</th>\n",
       "      <th>missing_presion_atmosferica_temprano</th>\n",
       "      <th>missing_rafaga_viento_max_velocidad</th>\n",
       "      <th>missing_temp_max</th>\n",
       "      <th>missing_temp_min</th>\n",
       "      <th>missing_temperatura_tarde</th>\n",
       "      <th>missing_temperatura_temprano</th>\n",
       "      <th>missing_velocidad_viendo_tarde</th>\n",
       "      <th>missing_velocidad_viendo_temprano</th>\n",
       "    </tr>\n",
       "    <tr>\n",
       "      <th>id</th>\n",
       "      <th></th>\n",
       "      <th></th>\n",
       "      <th></th>\n",
       "      <th></th>\n",
       "      <th></th>\n",
       "      <th></th>\n",
       "      <th></th>\n",
       "      <th></th>\n",
       "      <th></th>\n",
       "      <th></th>\n",
       "      <th></th>\n",
       "      <th></th>\n",
       "      <th></th>\n",
       "      <th></th>\n",
       "      <th></th>\n",
       "      <th></th>\n",
       "      <th></th>\n",
       "      <th></th>\n",
       "      <th></th>\n",
       "      <th></th>\n",
       "      <th></th>\n",
       "    </tr>\n",
       "  </thead>\n",
       "  <tbody>\n",
       "    <tr>\n",
       "      <th>54297</th>\n",
       "      <td>Liniers</td>\n",
       "      <td>2017-02-19</td>\n",
       "      <td>Noroeste</td>\n",
       "      <td>Nornoreste</td>\n",
       "      <td>7.629393</td>\n",
       "      <td>23.0</td>\n",
       "      <td>53.0</td>\n",
       "      <td>si</td>\n",
       "      <td>5.470542</td>\n",
       "      <td>5.2</td>\n",
       "      <td>...</td>\n",
       "      <td>True</td>\n",
       "      <td>False</td>\n",
       "      <td>False</td>\n",
       "      <td>False</td>\n",
       "      <td>False</td>\n",
       "      <td>False</td>\n",
       "      <td>False</td>\n",
       "      <td>False</td>\n",
       "      <td>False</td>\n",
       "      <td>False</td>\n",
       "    </tr>\n",
       "    <tr>\n",
       "      <th>91989</th>\n",
       "      <td>Caballito</td>\n",
       "      <td>2011-01-17</td>\n",
       "      <td>Estenoreste</td>\n",
       "      <td>Noreste</td>\n",
       "      <td>7.629393</td>\n",
       "      <td>74.0</td>\n",
       "      <td>81.0</td>\n",
       "      <td>no</td>\n",
       "      <td>5.470542</td>\n",
       "      <td>0.0</td>\n",
       "      <td>...</td>\n",
       "      <td>True</td>\n",
       "      <td>False</td>\n",
       "      <td>False</td>\n",
       "      <td>False</td>\n",
       "      <td>False</td>\n",
       "      <td>False</td>\n",
       "      <td>False</td>\n",
       "      <td>False</td>\n",
       "      <td>False</td>\n",
       "      <td>False</td>\n",
       "    </tr>\n",
       "    <tr>\n",
       "      <th>58424</th>\n",
       "      <td>Coghlan</td>\n",
       "      <td>2014-12-04</td>\n",
       "      <td>Noreste</td>\n",
       "      <td>Norte</td>\n",
       "      <td>7.629393</td>\n",
       "      <td>51.0</td>\n",
       "      <td>89.0</td>\n",
       "      <td>si</td>\n",
       "      <td>5.470542</td>\n",
       "      <td>10.8</td>\n",
       "      <td>...</td>\n",
       "      <td>True</td>\n",
       "      <td>True</td>\n",
       "      <td>True</td>\n",
       "      <td>False</td>\n",
       "      <td>False</td>\n",
       "      <td>False</td>\n",
       "      <td>False</td>\n",
       "      <td>False</td>\n",
       "      <td>False</td>\n",
       "      <td>False</td>\n",
       "    </tr>\n",
       "    <tr>\n",
       "      <th>69479</th>\n",
       "      <td>Villa Soldati</td>\n",
       "      <td>2013-07-29</td>\n",
       "      <td>Nornoreste</td>\n",
       "      <td>Noreste</td>\n",
       "      <td>10.100000</td>\n",
       "      <td>44.0</td>\n",
       "      <td>68.0</td>\n",
       "      <td>no</td>\n",
       "      <td>4.400000</td>\n",
       "      <td>0.0</td>\n",
       "      <td>...</td>\n",
       "      <td>False</td>\n",
       "      <td>False</td>\n",
       "      <td>False</td>\n",
       "      <td>False</td>\n",
       "      <td>False</td>\n",
       "      <td>False</td>\n",
       "      <td>False</td>\n",
       "      <td>False</td>\n",
       "      <td>False</td>\n",
       "      <td>False</td>\n",
       "    </tr>\n",
       "    <tr>\n",
       "      <th>96106</th>\n",
       "      <td>Barracas</td>\n",
       "      <td>2012-08-20</td>\n",
       "      <td>Noreste</td>\n",
       "      <td>Estenoreste</td>\n",
       "      <td>7.629393</td>\n",
       "      <td>59.0</td>\n",
       "      <td>72.0</td>\n",
       "      <td>no</td>\n",
       "      <td>2.800000</td>\n",
       "      <td>0.0</td>\n",
       "      <td>...</td>\n",
       "      <td>False</td>\n",
       "      <td>False</td>\n",
       "      <td>False</td>\n",
       "      <td>False</td>\n",
       "      <td>False</td>\n",
       "      <td>False</td>\n",
       "      <td>False</td>\n",
       "      <td>False</td>\n",
       "      <td>False</td>\n",
       "      <td>False</td>\n",
       "    </tr>\n",
       "    <tr>\n",
       "      <th>...</th>\n",
       "      <td>...</td>\n",
       "      <td>...</td>\n",
       "      <td>...</td>\n",
       "      <td>...</td>\n",
       "      <td>...</td>\n",
       "      <td>...</td>\n",
       "      <td>...</td>\n",
       "      <td>...</td>\n",
       "      <td>...</td>\n",
       "      <td>...</td>\n",
       "      <td>...</td>\n",
       "      <td>...</td>\n",
       "      <td>...</td>\n",
       "      <td>...</td>\n",
       "      <td>...</td>\n",
       "      <td>...</td>\n",
       "      <td>...</td>\n",
       "      <td>...</td>\n",
       "      <td>...</td>\n",
       "      <td>...</td>\n",
       "      <td>...</td>\n",
       "    </tr>\n",
       "    <tr>\n",
       "      <th>88861</th>\n",
       "      <td>Villa Lugano</td>\n",
       "      <td>2016-08-19</td>\n",
       "      <td>Oestenoroeste</td>\n",
       "      <td>Nornoreste</td>\n",
       "      <td>1.900000</td>\n",
       "      <td>56.0</td>\n",
       "      <td>74.0</td>\n",
       "      <td>no</td>\n",
       "      <td>3.000000</td>\n",
       "      <td>0.2</td>\n",
       "      <td>...</td>\n",
       "      <td>False</td>\n",
       "      <td>False</td>\n",
       "      <td>False</td>\n",
       "      <td>False</td>\n",
       "      <td>False</td>\n",
       "      <td>False</td>\n",
       "      <td>False</td>\n",
       "      <td>False</td>\n",
       "      <td>False</td>\n",
       "      <td>False</td>\n",
       "    </tr>\n",
       "    <tr>\n",
       "      <th>70212</th>\n",
       "      <td>Barracas</td>\n",
       "      <td>2012-06-21</td>\n",
       "      <td>Este</td>\n",
       "      <td>suroeste</td>\n",
       "      <td>7.629393</td>\n",
       "      <td>46.0</td>\n",
       "      <td>59.0</td>\n",
       "      <td>no</td>\n",
       "      <td>2.000000</td>\n",
       "      <td>0.0</td>\n",
       "      <td>...</td>\n",
       "      <td>False</td>\n",
       "      <td>False</td>\n",
       "      <td>False</td>\n",
       "      <td>False</td>\n",
       "      <td>False</td>\n",
       "      <td>False</td>\n",
       "      <td>False</td>\n",
       "      <td>False</td>\n",
       "      <td>False</td>\n",
       "      <td>False</td>\n",
       "    </tr>\n",
       "    <tr>\n",
       "      <th>4839</th>\n",
       "      <td>Villa Crespo</td>\n",
       "      <td>2015-08-11</td>\n",
       "      <td>Oestenoroeste</td>\n",
       "      <td>Norte</td>\n",
       "      <td>7.800000</td>\n",
       "      <td>21.0</td>\n",
       "      <td>40.0</td>\n",
       "      <td>no</td>\n",
       "      <td>5.400000</td>\n",
       "      <td>0.0</td>\n",
       "      <td>...</td>\n",
       "      <td>False</td>\n",
       "      <td>False</td>\n",
       "      <td>False</td>\n",
       "      <td>False</td>\n",
       "      <td>False</td>\n",
       "      <td>False</td>\n",
       "      <td>False</td>\n",
       "      <td>False</td>\n",
       "      <td>False</td>\n",
       "      <td>False</td>\n",
       "    </tr>\n",
       "    <tr>\n",
       "      <th>14019</th>\n",
       "      <td>Almagro</td>\n",
       "      <td>2016-01-16</td>\n",
       "      <td>Estesureste</td>\n",
       "      <td>Sursureste</td>\n",
       "      <td>7.629393</td>\n",
       "      <td>74.0</td>\n",
       "      <td>84.0</td>\n",
       "      <td>no</td>\n",
       "      <td>5.470542</td>\n",
       "      <td>0.6</td>\n",
       "      <td>...</td>\n",
       "      <td>True</td>\n",
       "      <td>False</td>\n",
       "      <td>False</td>\n",
       "      <td>False</td>\n",
       "      <td>False</td>\n",
       "      <td>False</td>\n",
       "      <td>False</td>\n",
       "      <td>False</td>\n",
       "      <td>False</td>\n",
       "      <td>False</td>\n",
       "    </tr>\n",
       "    <tr>\n",
       "      <th>81773</th>\n",
       "      <td>Chacarita</td>\n",
       "      <td>2009-11-13</td>\n",
       "      <td>suroeste</td>\n",
       "      <td>Sursuroeste</td>\n",
       "      <td>10.600000</td>\n",
       "      <td>51.0</td>\n",
       "      <td>64.0</td>\n",
       "      <td>no</td>\n",
       "      <td>4.600000</td>\n",
       "      <td>0.0</td>\n",
       "      <td>...</td>\n",
       "      <td>False</td>\n",
       "      <td>False</td>\n",
       "      <td>False</td>\n",
       "      <td>False</td>\n",
       "      <td>False</td>\n",
       "      <td>False</td>\n",
       "      <td>False</td>\n",
       "      <td>False</td>\n",
       "      <td>False</td>\n",
       "      <td>False</td>\n",
       "    </tr>\n",
       "  </tbody>\n",
       "</table>\n",
       "<p>11373 rows × 38 columns</p>\n",
       "</div>"
      ],
      "text/plain": [
       "              barrio         dia direccion_viento_tarde  \\\n",
       "id                                                        \n",
       "54297        Liniers  2017-02-19               Noroeste   \n",
       "91989      Caballito  2011-01-17            Estenoreste   \n",
       "58424        Coghlan  2014-12-04                Noreste   \n",
       "69479  Villa Soldati  2013-07-29             Nornoreste   \n",
       "96106       Barracas  2012-08-20                Noreste   \n",
       "...              ...         ...                    ...   \n",
       "88861   Villa Lugano  2016-08-19          Oestenoroeste   \n",
       "70212       Barracas  2012-06-21                   Este   \n",
       "4839    Villa Crespo  2015-08-11          Oestenoroeste   \n",
       "14019        Almagro  2016-01-16            Estesureste   \n",
       "81773      Chacarita  2009-11-13               suroeste   \n",
       "\n",
       "      direccion_viento_temprano  horas_de_sol  humedad_tarde  \\\n",
       "id                                                             \n",
       "54297                Nornoreste      7.629393           23.0   \n",
       "91989                   Noreste      7.629393           74.0   \n",
       "58424                     Norte      7.629393           51.0   \n",
       "69479                   Noreste     10.100000           44.0   \n",
       "96106               Estenoreste      7.629393           59.0   \n",
       "...                         ...           ...            ...   \n",
       "88861                Nornoreste      1.900000           56.0   \n",
       "70212                  suroeste      7.629393           46.0   \n",
       "4839                      Norte      7.800000           21.0   \n",
       "14019                Sursureste      7.629393           74.0   \n",
       "81773               Sursuroeste     10.600000           51.0   \n",
       "\n",
       "       humedad_temprano llovieron_hamburguesas_hoy  mm_evaporados_agua  \\\n",
       "id                                                                       \n",
       "54297              53.0                         si            5.470542   \n",
       "91989              81.0                         no            5.470542   \n",
       "58424              89.0                         si            5.470542   \n",
       "69479              68.0                         no            4.400000   \n",
       "96106              72.0                         no            2.800000   \n",
       "...                 ...                        ...                 ...   \n",
       "88861              74.0                         no            3.000000   \n",
       "70212              59.0                         no            2.000000   \n",
       "4839               40.0                         no            5.400000   \n",
       "14019              84.0                         no            5.470542   \n",
       "81773              64.0                         no            4.600000   \n",
       "\n",
       "       mm_lluvia_dia  ...  missing_nubosidad_temprano  \\\n",
       "id                    ...                               \n",
       "54297            5.2  ...                        True   \n",
       "91989            0.0  ...                        True   \n",
       "58424           10.8  ...                        True   \n",
       "69479            0.0  ...                       False   \n",
       "96106            0.0  ...                       False   \n",
       "...              ...  ...                         ...   \n",
       "88861            0.2  ...                       False   \n",
       "70212            0.0  ...                       False   \n",
       "4839             0.0  ...                       False   \n",
       "14019            0.6  ...                        True   \n",
       "81773            0.0  ...                       False   \n",
       "\n",
       "       missing_presion_atmosferica_tarde  \\\n",
       "id                                         \n",
       "54297                              False   \n",
       "91989                              False   \n",
       "58424                               True   \n",
       "69479                              False   \n",
       "96106                              False   \n",
       "...                                  ...   \n",
       "88861                              False   \n",
       "70212                              False   \n",
       "4839                               False   \n",
       "14019                              False   \n",
       "81773                              False   \n",
       "\n",
       "       missing_presion_atmosferica_temprano  \\\n",
       "id                                            \n",
       "54297                                 False   \n",
       "91989                                 False   \n",
       "58424                                  True   \n",
       "69479                                 False   \n",
       "96106                                 False   \n",
       "...                                     ...   \n",
       "88861                                 False   \n",
       "70212                                 False   \n",
       "4839                                  False   \n",
       "14019                                 False   \n",
       "81773                                 False   \n",
       "\n",
       "       missing_rafaga_viento_max_velocidad missing_temp_max  missing_temp_min  \\\n",
       "id                                                                              \n",
       "54297                                False            False             False   \n",
       "91989                                False            False             False   \n",
       "58424                                False            False             False   \n",
       "69479                                False            False             False   \n",
       "96106                                False            False             False   \n",
       "...                                    ...              ...               ...   \n",
       "88861                                False            False             False   \n",
       "70212                                False            False             False   \n",
       "4839                                 False            False             False   \n",
       "14019                                False            False             False   \n",
       "81773                                False            False             False   \n",
       "\n",
       "       missing_temperatura_tarde  missing_temperatura_temprano  \\\n",
       "id                                                               \n",
       "54297                      False                         False   \n",
       "91989                      False                         False   \n",
       "58424                      False                         False   \n",
       "69479                      False                         False   \n",
       "96106                      False                         False   \n",
       "...                          ...                           ...   \n",
       "88861                      False                         False   \n",
       "70212                      False                         False   \n",
       "4839                       False                         False   \n",
       "14019                      False                         False   \n",
       "81773                      False                         False   \n",
       "\n",
       "       missing_velocidad_viendo_tarde  missing_velocidad_viendo_temprano  \n",
       "id                                                                        \n",
       "54297                           False                              False  \n",
       "91989                           False                              False  \n",
       "58424                           False                              False  \n",
       "69479                           False                              False  \n",
       "96106                           False                              False  \n",
       "...                               ...                                ...  \n",
       "88861                           False                              False  \n",
       "70212                           False                              False  \n",
       "4839                            False                              False  \n",
       "14019                           False                              False  \n",
       "81773                           False                              False  \n",
       "\n",
       "[11373 rows x 38 columns]"
      ]
     },
     "execution_count": 23,
     "metadata": {},
     "output_type": "execute_result"
    }
   ],
   "source": [
    "df_feat_base = pd.read_csv(\"datasets/holdout_features.csv\", low_memory=False).set_index('id')\n",
    "reemplazarNullsNum(df_feat_base , inplace=True)"
   ]
  },
  {
   "cell_type": "code",
   "execution_count": 24,
   "id": "acd5cc90-ee0e-4364-808e-8d20b8702c8f",
   "metadata": {
    "execution": {
     "iopub.execute_input": "2021-12-30T02:18:26.746866Z",
     "iopub.status.busy": "2021-12-30T02:18:26.746673Z",
     "iopub.status.idle": "2021-12-30T02:18:26.806147Z",
     "shell.execute_reply": "2021-12-30T02:18:26.805118Z",
     "shell.execute_reply.started": "2021-12-30T02:18:26.746846Z"
    }
   },
   "outputs": [],
   "source": [
    "def funcion_baseline(row):\n",
    "    if row[\"llovieron_hamburguesas_hoy\"] == \"si\":\n",
    "        if row['horas_de_sol'] < 2:\n",
    "            return True\n",
    "        if row['nubosidad_tarde'] > 7:\n",
    "            return True\n",
    "        if row[\"humedad_tarde\"] > 70:\n",
    "            return True\n",
    "\n",
    "    if row[\"mm_lluvia_dia\"] > 10:\n",
    "        return True\n",
    "    if row[\"humedad_tarde\"] > 80:\n",
    "        return True\n",
    "\n",
    "    return False\n",
    "\n",
    "def baseline(df):\n",
    "    return df.apply(funcion_baseline, axis=1)"
   ]
  },
  {
   "cell_type": "code",
   "execution_count": 30,
   "id": "5d7fe56a-e64b-488d-97a4-83f6c0522c82",
   "metadata": {
    "execution": {
     "iopub.execute_input": "2021-12-30T02:21:21.357415Z",
     "iopub.status.busy": "2021-12-30T02:21:21.357149Z",
     "iopub.status.idle": "2021-12-30T02:21:21.533126Z",
     "shell.execute_reply": "2021-12-30T02:21:21.532290Z",
     "shell.execute_reply.started": "2021-12-30T02:21:21.357395Z"
    },
    "tags": []
   },
   "outputs": [
    {
     "data": {
      "text/plain": [
       "0.6972850494452817"
      ]
     },
     "execution_count": 30,
     "metadata": {},
     "output_type": "execute_result"
    }
   ],
   "source": [
    "pred = baseline(df_feat_base)\n",
    "prob = pred.replace({True:80,False:20})\n",
    "pdf = score2( \"Baseline\", \"reemplazar nulls\", df_targ, pred, prob )\n",
    "predictions = predictions.append( pdf )\n",
    "pdf['AUC-ROC'][0]"
   ]
  },
  {
   "cell_type": "code",
   "execution_count": 33,
   "id": "5f25e693-bf2b-4a09-b553-a2b14d4c46a5",
   "metadata": {
    "execution": {
     "iopub.execute_input": "2021-12-30T02:21:49.798004Z",
     "iopub.status.busy": "2021-12-30T02:21:49.797775Z",
     "iopub.status.idle": "2021-12-30T02:21:49.810786Z",
     "shell.execute_reply": "2021-12-30T02:21:49.810055Z",
     "shell.execute_reply.started": "2021-12-30T02:21:49.797984Z"
    },
    "tags": []
   },
   "outputs": [
    {
     "data": {
      "text/html": [
       "<div>\n",
       "<style scoped>\n",
       "    .dataframe tbody tr th:only-of-type {\n",
       "        vertical-align: middle;\n",
       "    }\n",
       "\n",
       "    .dataframe tbody tr th {\n",
       "        vertical-align: top;\n",
       "    }\n",
       "\n",
       "    .dataframe thead th {\n",
       "        text-align: right;\n",
       "    }\n",
       "</style>\n",
       "<table border=\"1\" class=\"dataframe\">\n",
       "  <thead>\n",
       "    <tr style=\"text-align: right;\">\n",
       "      <th></th>\n",
       "      <th>Modelo</th>\n",
       "      <th>Preprocesamientos</th>\n",
       "      <th>Clase</th>\n",
       "      <th>AUC-ROC</th>\n",
       "      <th>Accuracy</th>\n",
       "      <th>Precision</th>\n",
       "      <th>Recall</th>\n",
       "      <th>F1 score</th>\n",
       "      <th>Support</th>\n",
       "    </tr>\n",
       "  </thead>\n",
       "  <tbody>\n",
       "    <tr>\n",
       "      <th>0</th>\n",
       "      <td>BOOST</td>\n",
       "      <td>OHE</td>\n",
       "      <td>AVG</td>\n",
       "      <td>0.903281</td>\n",
       "      <td>0.867405</td>\n",
       "      <td>0.860987</td>\n",
       "      <td>0.867405</td>\n",
       "      <td>0.859862</td>\n",
       "      <td>11373</td>\n",
       "    </tr>\n",
       "    <tr>\n",
       "      <th>1</th>\n",
       "      <td>BOOST</td>\n",
       "      <td>OHE</td>\n",
       "      <td>True</td>\n",
       "      <td>NaN</td>\n",
       "      <td>NaN</td>\n",
       "      <td>0.775651</td>\n",
       "      <td>0.573281</td>\n",
       "      <td>0.659286</td>\n",
       "      <td>2545</td>\n",
       "    </tr>\n",
       "    <tr>\n",
       "      <th>2</th>\n",
       "      <td>BOOST</td>\n",
       "      <td>OHE</td>\n",
       "      <td>False</td>\n",
       "      <td>NaN</td>\n",
       "      <td>NaN</td>\n",
       "      <td>0.885588</td>\n",
       "      <td>0.952198</td>\n",
       "      <td>0.917686</td>\n",
       "      <td>8828</td>\n",
       "    </tr>\n",
       "    <tr>\n",
       "      <th>0</th>\n",
       "      <td>Baseline</td>\n",
       "      <td>reemplazar nulls</td>\n",
       "      <td>AVG</td>\n",
       "      <td>0.697285</td>\n",
       "      <td>0.820276</td>\n",
       "      <td>0.807656</td>\n",
       "      <td>0.820276</td>\n",
       "      <td>0.810679</td>\n",
       "      <td>11373</td>\n",
       "    </tr>\n",
       "    <tr>\n",
       "      <th>1</th>\n",
       "      <td>Baseline</td>\n",
       "      <td>reemplazar nulls</td>\n",
       "      <td>True</td>\n",
       "      <td>NaN</td>\n",
       "      <td>NaN</td>\n",
       "      <td>0.630809</td>\n",
       "      <td>0.474656</td>\n",
       "      <td>0.541704</td>\n",
       "      <td>2545</td>\n",
       "    </tr>\n",
       "    <tr>\n",
       "      <th>2</th>\n",
       "      <td>Baseline</td>\n",
       "      <td>reemplazar nulls</td>\n",
       "      <td>False</td>\n",
       "      <td>NaN</td>\n",
       "      <td>NaN</td>\n",
       "      <td>0.858638</td>\n",
       "      <td>0.919914</td>\n",
       "      <td>0.888220</td>\n",
       "      <td>8828</td>\n",
       "    </tr>\n",
       "  </tbody>\n",
       "</table>\n",
       "</div>"
      ],
      "text/plain": [
       "     Modelo Preprocesamientos  Clase   AUC-ROC  Accuracy  Precision    Recall  \\\n",
       "0     BOOST               OHE    AVG  0.903281  0.867405   0.860987  0.867405   \n",
       "1     BOOST               OHE   True       NaN       NaN   0.775651  0.573281   \n",
       "2     BOOST               OHE  False       NaN       NaN   0.885588  0.952198   \n",
       "0  Baseline  reemplazar nulls    AVG  0.697285  0.820276   0.807656  0.820276   \n",
       "1  Baseline  reemplazar nulls   True       NaN       NaN   0.630809  0.474656   \n",
       "2  Baseline  reemplazar nulls  False       NaN       NaN   0.858638  0.919914   \n",
       "\n",
       "   F1 score Support  \n",
       "0  0.859862   11373  \n",
       "1  0.659286    2545  \n",
       "2  0.917686    8828  \n",
       "0  0.810679   11373  \n",
       "1  0.541704    2545  \n",
       "2  0.888220    8828  "
      ]
     },
     "execution_count": 33,
     "metadata": {},
     "output_type": "execute_result"
    }
   ],
   "source": [
    "predictions.tail(6)"
   ]
  },
  {
   "cell_type": "markdown",
   "id": "98cd074b-4c83-4f32-a173-6c79751a9847",
   "metadata": {},
   "source": [
    "Una mejora impresionante !"
   ]
  },
  {
   "cell_type": "markdown",
   "id": "7a4be8a6-8406-41d8-b297-afbcdb5afeba",
   "metadata": {},
   "source": [
    "## Predicciones"
   ]
  },
  {
   "cell_type": "code",
   "execution_count": 89,
   "id": "8e26fcdd-dfb5-43c3-abe8-afe1d2ec0661",
   "metadata": {
    "execution": {
     "iopub.execute_input": "2021-12-30T02:39:38.951000Z",
     "iopub.status.busy": "2021-12-30T02:39:38.950141Z",
     "iopub.status.idle": "2021-12-30T02:39:39.080348Z",
     "shell.execute_reply": "2021-12-30T02:39:39.079242Z",
     "shell.execute_reply.started": "2021-12-30T02:39:38.950974Z"
    },
    "tags": []
   },
   "outputs": [
    {
     "data": {
      "text/html": [
       "<div>\n",
       "<style scoped>\n",
       "    .dataframe tbody tr th:only-of-type {\n",
       "        vertical-align: middle;\n",
       "    }\n",
       "\n",
       "    .dataframe tbody tr th {\n",
       "        vertical-align: top;\n",
       "    }\n",
       "\n",
       "    .dataframe thead th {\n",
       "        text-align: right;\n",
       "    }\n",
       "</style>\n",
       "<table border=\"1\" class=\"dataframe\">\n",
       "  <thead>\n",
       "    <tr style=\"text-align: right;\">\n",
       "      <th></th>\n",
       "      <th>barrio</th>\n",
       "      <th>dia</th>\n",
       "      <th>direccion_viento_tarde</th>\n",
       "      <th>direccion_viento_temprano</th>\n",
       "      <th>horas_de_sol</th>\n",
       "      <th>humedad_tarde</th>\n",
       "      <th>humedad_temprano</th>\n",
       "      <th>id</th>\n",
       "      <th>llovieron_hamburguesas_hoy</th>\n",
       "      <th>mm_evaporados_agua</th>\n",
       "      <th>...</th>\n",
       "      <th>presion_atmosferica_tarde</th>\n",
       "      <th>presion_atmosferica_temprano</th>\n",
       "      <th>rafaga_viento_max_direccion</th>\n",
       "      <th>rafaga_viento_max_velocidad</th>\n",
       "      <th>temp_max</th>\n",
       "      <th>temp_min</th>\n",
       "      <th>temperatura_tarde</th>\n",
       "      <th>temperatura_temprano</th>\n",
       "      <th>velocidad_viendo_tarde</th>\n",
       "      <th>velocidad_viendo_temprano</th>\n",
       "    </tr>\n",
       "  </thead>\n",
       "  <tbody>\n",
       "    <tr>\n",
       "      <th>0</th>\n",
       "      <td>Villa General Mitre</td>\n",
       "      <td>2014-12-16</td>\n",
       "      <td>Oestesuroeste</td>\n",
       "      <td>Sursureste</td>\n",
       "      <td>13.4</td>\n",
       "      <td>38.0</td>\n",
       "      <td>51.0</td>\n",
       "      <td>116706</td>\n",
       "      <td>NaN</td>\n",
       "      <td>NaN</td>\n",
       "      <td>...</td>\n",
       "      <td>1010.9</td>\n",
       "      <td>1014.4</td>\n",
       "      <td>suroeste</td>\n",
       "      <td>41.0</td>\n",
       "      <td>26.8</td>\n",
       "      <td>8.9</td>\n",
       "      <td>24.9</td>\n",
       "      <td>20.6</td>\n",
       "      <td>28.0</td>\n",
       "      <td>13.0</td>\n",
       "    </tr>\n",
       "    <tr>\n",
       "      <th>1</th>\n",
       "      <td>Nueva Pompeya</td>\n",
       "      <td>2010-10-21</td>\n",
       "      <td>Nornoreste</td>\n",
       "      <td>Estesureste</td>\n",
       "      <td>NaN</td>\n",
       "      <td>39.0</td>\n",
       "      <td>57.0</td>\n",
       "      <td>58831</td>\n",
       "      <td>no</td>\n",
       "      <td>NaN</td>\n",
       "      <td>...</td>\n",
       "      <td>1020.2</td>\n",
       "      <td>1023.8</td>\n",
       "      <td>Norte</td>\n",
       "      <td>28.0</td>\n",
       "      <td>23.3</td>\n",
       "      <td>5.0</td>\n",
       "      <td>21.5</td>\n",
       "      <td>14.7</td>\n",
       "      <td>11.0</td>\n",
       "      <td>6.0</td>\n",
       "    </tr>\n",
       "    <tr>\n",
       "      <th>2</th>\n",
       "      <td>Constitución</td>\n",
       "      <td>2013-04-09</td>\n",
       "      <td>Estesureste</td>\n",
       "      <td>Oestenoroeste</td>\n",
       "      <td>3.6</td>\n",
       "      <td>73.0</td>\n",
       "      <td>90.0</td>\n",
       "      <td>31981</td>\n",
       "      <td>si</td>\n",
       "      <td>2.4</td>\n",
       "      <td>...</td>\n",
       "      <td>1024.3</td>\n",
       "      <td>1026.7</td>\n",
       "      <td>Oestenoroeste</td>\n",
       "      <td>24.0</td>\n",
       "      <td>22.0</td>\n",
       "      <td>15.6</td>\n",
       "      <td>20.7</td>\n",
       "      <td>16.7</td>\n",
       "      <td>6.0</td>\n",
       "      <td>15.0</td>\n",
       "    </tr>\n",
       "    <tr>\n",
       "      <th>3</th>\n",
       "      <td>Agronomía</td>\n",
       "      <td>2016-02-05</td>\n",
       "      <td>Sureste</td>\n",
       "      <td>Sureste</td>\n",
       "      <td>NaN</td>\n",
       "      <td>34.0</td>\n",
       "      <td>47.0</td>\n",
       "      <td>2533</td>\n",
       "      <td>no</td>\n",
       "      <td>NaN</td>\n",
       "      <td>...</td>\n",
       "      <td>1015.8</td>\n",
       "      <td>1018.3</td>\n",
       "      <td>Sureste</td>\n",
       "      <td>30.0</td>\n",
       "      <td>29.9</td>\n",
       "      <td>14.2</td>\n",
       "      <td>27.0</td>\n",
       "      <td>20.0</td>\n",
       "      <td>11.0</td>\n",
       "      <td>15.0</td>\n",
       "    </tr>\n",
       "    <tr>\n",
       "      <th>4</th>\n",
       "      <td>Balvanera</td>\n",
       "      <td>2012-06-05</td>\n",
       "      <td>suroeste</td>\n",
       "      <td>Noroeste</td>\n",
       "      <td>NaN</td>\n",
       "      <td>77.0</td>\n",
       "      <td>87.0</td>\n",
       "      <td>7270</td>\n",
       "      <td>no</td>\n",
       "      <td>2.0</td>\n",
       "      <td>...</td>\n",
       "      <td>1007.6</td>\n",
       "      <td>1006.0</td>\n",
       "      <td>suroeste</td>\n",
       "      <td>39.0</td>\n",
       "      <td>11.5</td>\n",
       "      <td>5.5</td>\n",
       "      <td>11.2</td>\n",
       "      <td>7.0</td>\n",
       "      <td>20.0</td>\n",
       "      <td>17.0</td>\n",
       "    </tr>\n",
       "    <tr>\n",
       "      <th>...</th>\n",
       "      <td>...</td>\n",
       "      <td>...</td>\n",
       "      <td>...</td>\n",
       "      <td>...</td>\n",
       "      <td>...</td>\n",
       "      <td>...</td>\n",
       "      <td>...</td>\n",
       "      <td>...</td>\n",
       "      <td>...</td>\n",
       "      <td>...</td>\n",
       "      <td>...</td>\n",
       "      <td>...</td>\n",
       "      <td>...</td>\n",
       "      <td>...</td>\n",
       "      <td>...</td>\n",
       "      <td>...</td>\n",
       "      <td>...</td>\n",
       "      <td>...</td>\n",
       "      <td>...</td>\n",
       "      <td>...</td>\n",
       "      <td>...</td>\n",
       "    </tr>\n",
       "    <tr>\n",
       "      <th>29087</th>\n",
       "      <td>Parque Chas</td>\n",
       "      <td>2013-04-24</td>\n",
       "      <td>suroeste</td>\n",
       "      <td>Oestenoroeste</td>\n",
       "      <td>NaN</td>\n",
       "      <td>71.0</td>\n",
       "      <td>77.0</td>\n",
       "      <td>73456</td>\n",
       "      <td>no</td>\n",
       "      <td>NaN</td>\n",
       "      <td>...</td>\n",
       "      <td>1018.9</td>\n",
       "      <td>1021.2</td>\n",
       "      <td>Oeste</td>\n",
       "      <td>37.0</td>\n",
       "      <td>19.8</td>\n",
       "      <td>9.8</td>\n",
       "      <td>17.3</td>\n",
       "      <td>12.8</td>\n",
       "      <td>9.0</td>\n",
       "      <td>13.0</td>\n",
       "    </tr>\n",
       "    <tr>\n",
       "      <th>29088</th>\n",
       "      <td>Belgrano</td>\n",
       "      <td>2015-10-30</td>\n",
       "      <td>Norte</td>\n",
       "      <td>Noreste</td>\n",
       "      <td>NaN</td>\n",
       "      <td>37.0</td>\n",
       "      <td>64.0</td>\n",
       "      <td>14471</td>\n",
       "      <td>no</td>\n",
       "      <td>NaN</td>\n",
       "      <td>...</td>\n",
       "      <td>1017.9</td>\n",
       "      <td>1021.8</td>\n",
       "      <td>Nornoreste</td>\n",
       "      <td>41.0</td>\n",
       "      <td>29.3</td>\n",
       "      <td>15.6</td>\n",
       "      <td>27.8</td>\n",
       "      <td>20.2</td>\n",
       "      <td>15.0</td>\n",
       "      <td>28.0</td>\n",
       "    </tr>\n",
       "    <tr>\n",
       "      <th>29089</th>\n",
       "      <td>Villa Crespo</td>\n",
       "      <td>2011-08-09</td>\n",
       "      <td>Nornoreste</td>\n",
       "      <td>Norte</td>\n",
       "      <td>10.1</td>\n",
       "      <td>31.0</td>\n",
       "      <td>77.0</td>\n",
       "      <td>106482</td>\n",
       "      <td>no</td>\n",
       "      <td>3.2</td>\n",
       "      <td>...</td>\n",
       "      <td>1011.1</td>\n",
       "      <td>1016.3</td>\n",
       "      <td>suroeste</td>\n",
       "      <td>41.0</td>\n",
       "      <td>19.8</td>\n",
       "      <td>5.5</td>\n",
       "      <td>18.6</td>\n",
       "      <td>11.1</td>\n",
       "      <td>20.0</td>\n",
       "      <td>11.0</td>\n",
       "    </tr>\n",
       "    <tr>\n",
       "      <th>29090</th>\n",
       "      <td>Caballito</td>\n",
       "      <td>2017-04-25</td>\n",
       "      <td>Nornoreste</td>\n",
       "      <td>Norte</td>\n",
       "      <td>NaN</td>\n",
       "      <td>81.0</td>\n",
       "      <td>90.0</td>\n",
       "      <td>21057</td>\n",
       "      <td>no</td>\n",
       "      <td>NaN</td>\n",
       "      <td>...</td>\n",
       "      <td>1008.2</td>\n",
       "      <td>1014.6</td>\n",
       "      <td>Nornoreste</td>\n",
       "      <td>39.0</td>\n",
       "      <td>25.4</td>\n",
       "      <td>17.8</td>\n",
       "      <td>22.0</td>\n",
       "      <td>19.5</td>\n",
       "      <td>33.0</td>\n",
       "      <td>15.0</td>\n",
       "    </tr>\n",
       "    <tr>\n",
       "      <th>29091</th>\n",
       "      <td>Vélez Sársfield</td>\n",
       "      <td>2016-02-14</td>\n",
       "      <td>Oeste</td>\n",
       "      <td>Noroeste</td>\n",
       "      <td>7.6</td>\n",
       "      <td>47.0</td>\n",
       "      <td>77.0</td>\n",
       "      <td>102055</td>\n",
       "      <td>no</td>\n",
       "      <td>3.6</td>\n",
       "      <td>...</td>\n",
       "      <td>1013.5</td>\n",
       "      <td>1013.1</td>\n",
       "      <td>Oeste</td>\n",
       "      <td>50.0</td>\n",
       "      <td>22.2</td>\n",
       "      <td>10.9</td>\n",
       "      <td>20.7</td>\n",
       "      <td>16.9</td>\n",
       "      <td>31.0</td>\n",
       "      <td>13.0</td>\n",
       "    </tr>\n",
       "  </tbody>\n",
       "</table>\n",
       "<p>29092 rows × 23 columns</p>\n",
       "</div>"
      ],
      "text/plain": [
       "                    barrio         dia direccion_viento_tarde  \\\n",
       "0      Villa General Mitre  2014-12-16          Oestesuroeste   \n",
       "1            Nueva Pompeya  2010-10-21             Nornoreste   \n",
       "2             Constitución  2013-04-09            Estesureste   \n",
       "3                Agronomía  2016-02-05                Sureste   \n",
       "4                Balvanera  2012-06-05               suroeste   \n",
       "...                    ...         ...                    ...   \n",
       "29087          Parque Chas  2013-04-24               suroeste   \n",
       "29088             Belgrano  2015-10-30                  Norte   \n",
       "29089         Villa Crespo  2011-08-09             Nornoreste   \n",
       "29090            Caballito  2017-04-25             Nornoreste   \n",
       "29091      Vélez Sársfield  2016-02-14                  Oeste   \n",
       "\n",
       "      direccion_viento_temprano  horas_de_sol  humedad_tarde  \\\n",
       "0                    Sursureste          13.4           38.0   \n",
       "1                   Estesureste           NaN           39.0   \n",
       "2                 Oestenoroeste           3.6           73.0   \n",
       "3                       Sureste           NaN           34.0   \n",
       "4                      Noroeste           NaN           77.0   \n",
       "...                         ...           ...            ...   \n",
       "29087             Oestenoroeste           NaN           71.0   \n",
       "29088                   Noreste           NaN           37.0   \n",
       "29089                     Norte          10.1           31.0   \n",
       "29090                     Norte           NaN           81.0   \n",
       "29091                  Noroeste           7.6           47.0   \n",
       "\n",
       "       humedad_temprano      id llovieron_hamburguesas_hoy  \\\n",
       "0                  51.0  116706                        NaN   \n",
       "1                  57.0   58831                         no   \n",
       "2                  90.0   31981                         si   \n",
       "3                  47.0    2533                         no   \n",
       "4                  87.0    7270                         no   \n",
       "...                 ...     ...                        ...   \n",
       "29087              77.0   73456                         no   \n",
       "29088              64.0   14471                         no   \n",
       "29089              77.0  106482                         no   \n",
       "29090              90.0   21057                         no   \n",
       "29091              77.0  102055                         no   \n",
       "\n",
       "       mm_evaporados_agua  ...  presion_atmosferica_tarde  \\\n",
       "0                     NaN  ...                     1010.9   \n",
       "1                     NaN  ...                     1020.2   \n",
       "2                     2.4  ...                     1024.3   \n",
       "3                     NaN  ...                     1015.8   \n",
       "4                     2.0  ...                     1007.6   \n",
       "...                   ...  ...                        ...   \n",
       "29087                 NaN  ...                     1018.9   \n",
       "29088                 NaN  ...                     1017.9   \n",
       "29089                 3.2  ...                     1011.1   \n",
       "29090                 NaN  ...                     1008.2   \n",
       "29091                 3.6  ...                     1013.5   \n",
       "\n",
       "       presion_atmosferica_temprano  rafaga_viento_max_direccion  \\\n",
       "0                            1014.4                     suroeste   \n",
       "1                            1023.8                        Norte   \n",
       "2                            1026.7                Oestenoroeste   \n",
       "3                            1018.3                      Sureste   \n",
       "4                            1006.0                     suroeste   \n",
       "...                             ...                          ...   \n",
       "29087                        1021.2                        Oeste   \n",
       "29088                        1021.8                   Nornoreste   \n",
       "29089                        1016.3                     suroeste   \n",
       "29090                        1014.6                   Nornoreste   \n",
       "29091                        1013.1                        Oeste   \n",
       "\n",
       "       rafaga_viento_max_velocidad  temp_max temp_min  temperatura_tarde  \\\n",
       "0                             41.0      26.8      8.9               24.9   \n",
       "1                             28.0      23.3      5.0               21.5   \n",
       "2                             24.0      22.0     15.6               20.7   \n",
       "3                             30.0      29.9     14.2               27.0   \n",
       "4                             39.0      11.5      5.5               11.2   \n",
       "...                            ...       ...      ...                ...   \n",
       "29087                         37.0      19.8      9.8               17.3   \n",
       "29088                         41.0      29.3     15.6               27.8   \n",
       "29089                         41.0      19.8      5.5               18.6   \n",
       "29090                         39.0      25.4     17.8               22.0   \n",
       "29091                         50.0      22.2     10.9               20.7   \n",
       "\n",
       "       temperatura_temprano  velocidad_viendo_tarde  velocidad_viendo_temprano  \n",
       "0                      20.6                    28.0                       13.0  \n",
       "1                      14.7                    11.0                        6.0  \n",
       "2                      16.7                     6.0                       15.0  \n",
       "3                      20.0                    11.0                       15.0  \n",
       "4                       7.0                    20.0                       17.0  \n",
       "...                     ...                     ...                        ...  \n",
       "29087                  12.8                     9.0                       13.0  \n",
       "29088                  20.2                    15.0                       28.0  \n",
       "29089                  11.1                    20.0                       11.0  \n",
       "29090                  19.5                    33.0                       15.0  \n",
       "29091                  16.9                    31.0                       13.0  \n",
       "\n",
       "[29092 rows x 23 columns]"
      ]
     },
     "execution_count": 89,
     "metadata": {},
     "output_type": "execute_result"
    }
   ],
   "source": [
    "try:\n",
    "    df_feat = pd.read_csv('predictions/pred_feat.csv', low_memory=False)\n",
    "except:\n",
    "    df_feat = pd.read_csv('https://docs.google.com/spreadsheets/d/1mR_JNN0-ceiB5qV42Ff9hznz0HtWaoPF3B9zNGoNPY8/export?format=csv', low_memory=False)\n",
    "    df_feat.to_csv('predictions/pred_feat.csv')\n",
    "df_feat.drop('Unnamed: 0',axis=1,inplace=True)\n",
    "df_feat"
   ]
  },
  {
   "cell_type": "code",
   "execution_count": 90,
   "id": "1229c8db-f31c-4449-8173-12161ead5235",
   "metadata": {
    "execution": {
     "iopub.execute_input": "2021-12-30T02:39:40.115845Z",
     "iopub.status.busy": "2021-12-30T02:39:40.115579Z",
     "iopub.status.idle": "2021-12-30T02:39:40.126889Z",
     "shell.execute_reply": "2021-12-30T02:39:40.126063Z",
     "shell.execute_reply.started": "2021-12-30T02:39:40.115821Z"
    },
    "tags": []
   },
   "outputs": [],
   "source": [
    "cols = ['id', 'barrio', 'dia', 'direccion_viento_tarde','direccion_viento_temprano', 'horas_de_sol', 'humedad_tarde','humedad_temprano', 'llovieron_hamburguesas_hoy', 'mm_evaporados_agua','mm_lluvia_dia', 'nubosidad_tarde', 'nubosidad_temprano','presion_atmosferica_tarde', 'presion_atmosferica_temprano','rafaga_viento_max_direccion', 'rafaga_viento_max_velocidad','temp_max', 'temp_min', 'temperatura_tarde', 'temperatura_temprano','velocidad_viendo_tarde', 'velocidad_viendo_temprano']\n",
    "ids = df_feat.id\n",
    "df_feat = df_feat.reindex(cols, axis=1).set_index(\"id\")"
   ]
  },
  {
   "cell_type": "code",
   "execution_count": 91,
   "id": "5a670b82-665f-46b1-945b-c362df8a264f",
   "metadata": {
    "execution": {
     "iopub.execute_input": "2021-12-30T02:39:40.282376Z",
     "iopub.status.busy": "2021-12-30T02:39:40.282130Z",
     "iopub.status.idle": "2021-12-30T02:40:08.785750Z",
     "shell.execute_reply": "2021-12-30T02:40:08.784925Z",
     "shell.execute_reply.started": "2021-12-30T02:39:40.282353Z"
    },
    "tags": []
   },
   "outputs": [],
   "source": [
    "ohe_feat = reemplazarCategoricas_OHE(df_feat)\n",
    "ht_feat = reemplazarCategoricas_HashTrick(df_feat)\n",
    "\n",
    "reemplazarNulls(df_feat , inplace=True)\n",
    "reemplazarCategoricas(df_feat , inplace=True)\n",
    "reemplazarFechas(df_feat , inplace=True)\n",
    "\n",
    "df_reg = regularizar(df_feat)\n",
    "\n",
    "reemplazarNullsNum(ohe_feat, inplace=True)\n",
    "reemplazarFechas(ohe_feat , inplace=True)\n",
    "ohe_feat2 = keepFeat_OHE(ohe_feat, 10)\n",
    "\n",
    "reemplazarFechas(ht_feat , inplace=True)\n",
    "reemplazarNullsNum(ht_feat, inplace=True)\n",
    "ht_feat2 = normalizar_HashTrick(ht_feat)"
   ]
  },
  {
   "cell_type": "code",
   "execution_count": 125,
   "id": "2003640c-aeb0-43fd-805c-9fb1c0d15955",
   "metadata": {
    "execution": {
     "iopub.execute_input": "2021-12-30T02:58:28.711991Z",
     "iopub.status.busy": "2021-12-30T02:58:28.711391Z",
     "iopub.status.idle": "2021-12-30T02:58:28.716776Z",
     "shell.execute_reply": "2021-12-30T02:58:28.715698Z",
     "shell.execute_reply.started": "2021-12-30T02:58:28.711966Z"
    },
    "tags": []
   },
   "outputs": [],
   "source": [
    "def save_pred(name, model, feat):\n",
    "    pred_targ = model.predict(feat)\n",
    "    pred_df = pd.DataFrame({'id':ids, 'llovieron_hamburguesas_al_dia_siguiente': pred_targ}).set_index('id').replace( {False:'no', True:'si'} )\n",
    "    pred_df.to_csv(f'predictions/{name}.csv')\n",
    "    return pred_df"
   ]
  },
  {
   "cell_type": "code",
   "execution_count": 126,
   "id": "82898ea2-7f9c-44c4-aad3-831c297d7949",
   "metadata": {
    "execution": {
     "iopub.execute_input": "2021-12-30T02:58:29.180790Z",
     "iopub.status.busy": "2021-12-30T02:58:29.180498Z",
     "iopub.status.idle": "2021-12-30T02:58:29.186271Z",
     "shell.execute_reply": "2021-12-30T02:58:29.185233Z",
     "shell.execute_reply.started": "2021-12-30T02:58:29.180749Z"
    },
    "tags": []
   },
   "outputs": [],
   "source": [
    "toPredict = [\n",
    "    (\"arbol\",arbol,df_feat),\n",
    "    (\"knn\",knn,df_reg),\n",
    "    (\"naive_bayes\",nb,df_reg),\n",
    "    (\"svm\",svm,ohe_feat),\n",
    "    (\"red_neuronal\",nn,ht_feat2),\n",
    "    (\"random_forest\",random_forest,df_feat),\n",
    "    (\"boost\",boost,ohe_feat),\n",
    "]"
   ]
  },
  {
   "cell_type": "code",
   "execution_count": 130,
   "id": "ee0fccf9-d357-4a05-afe9-26f1b065cb67",
   "metadata": {
    "execution": {
     "iopub.execute_input": "2021-12-30T03:06:50.961560Z",
     "iopub.status.busy": "2021-12-30T03:06:50.960871Z",
     "iopub.status.idle": "2021-12-30T03:08:35.366580Z",
     "shell.execute_reply": "2021-12-30T03:08:35.365692Z",
     "shell.execute_reply.started": "2021-12-30T03:06:50.961509Z"
    },
    "tags": []
   },
   "outputs": [
    {
     "name": "stdout",
     "output_type": "stream",
     "text": [
      "CPU times: user 1min 44s, sys: 417 ms, total: 1min 45s\n",
      "Wall time: 1min 44s\n"
     ]
    }
   ],
   "source": [
    "%%time\n",
    "newPredictions = {}\n",
    "for name,model,feat in toPredict:\n",
    "    pred = save_pred(name,model,feat)\n",
    "    newPredictions[name] = pred.llovieron_hamburguesas_al_dia_siguiente"
   ]
  },
  {
   "cell_type": "code",
   "execution_count": 142,
   "id": "5c654ca5-f875-4c64-a684-c8e875689e64",
   "metadata": {
    "execution": {
     "iopub.execute_input": "2021-12-30T03:25:36.568391Z",
     "iopub.status.busy": "2021-12-30T03:25:36.567734Z",
     "iopub.status.idle": "2021-12-30T03:25:36.599861Z",
     "shell.execute_reply": "2021-12-30T03:25:36.598934Z",
     "shell.execute_reply.started": "2021-12-30T03:25:36.568366Z"
    },
    "tags": []
   },
   "outputs": [],
   "source": [
    "newPredictions = pd.DataFrame(newPredictions).replace( {'no':False, 'si':True} )"
   ]
  },
  {
   "cell_type": "code",
   "execution_count": 154,
   "id": "b50db0f8-c39d-44c5-b1d7-783707a0fbc0",
   "metadata": {
    "execution": {
     "iopub.execute_input": "2021-12-30T03:29:14.265204Z",
     "iopub.status.busy": "2021-12-30T03:29:14.264900Z",
     "iopub.status.idle": "2021-12-30T03:29:14.274600Z",
     "shell.execute_reply": "2021-12-30T03:29:14.273710Z",
     "shell.execute_reply.started": "2021-12-30T03:29:14.265182Z"
    },
    "tags": []
   },
   "outputs": [
    {
     "name": "stdout",
     "output_type": "stream",
     "text": [
      "mean \t 22.377560889826782\n"
     ]
    },
    {
     "data": {
      "text/plain": [
       "arbol            7.205005\n",
       "knn              8.899629\n",
       "naive_bayes      2.839544\n",
       "svm              7.572804\n",
       "red_neuronal     5.823182\n",
       "random_forest    9.133370\n",
       "boost            4.774783\n",
       "dtype: float64"
      ]
     },
     "execution_count": 154,
     "metadata": {},
     "output_type": "execute_result"
    }
   ],
   "source": [
    "train_targ_mean = df_targ.mean()*100\n",
    "print(f'mean \\t {train_targ_mean}')\n",
    "train_targ_mean - newPredictions.mean()*100"
   ]
  }
 ],
 "metadata": {
  "kernelspec": {
   "display_name": "Python 3 (ipykernel)",
   "language": "python",
   "name": "python3"
  },
  "language_info": {
   "codemirror_mode": {
    "name": "ipython",
    "version": 3
   },
   "file_extension": ".py",
   "mimetype": "text/x-python",
   "name": "python",
   "nbconvert_exporter": "python",
   "pygments_lexer": "ipython3",
   "version": "3.9.8"
  }
 },
 "nbformat": 4,
 "nbformat_minor": 5
}
