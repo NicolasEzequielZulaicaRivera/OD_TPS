{
 "cells": [
  {
   "cell_type": "markdown",
   "id": "305e2aea-8552-432d-aca9-945a50182740",
   "metadata": {},
   "source": [
    "# Entrega"
   ]
  },
  {
   "cell_type": "markdown",
   "id": "2dc5738a-1cff-45c3-8c96-bfbdb1351f50",
   "metadata": {},
   "source": [
    "### Imports"
   ]
  },
  {
   "cell_type": "code",
   "execution_count": 1,
   "id": "beb361cf-9dee-4854-888f-1fc8d2f50b32",
   "metadata": {
    "execution": {
     "iopub.execute_input": "2021-12-06T04:13:46.890022Z",
     "iopub.status.busy": "2021-12-06T04:13:46.888942Z",
     "iopub.status.idle": "2021-12-06T04:13:47.700698Z",
     "shell.execute_reply": "2021-12-06T04:13:47.699726Z",
     "shell.execute_reply.started": "2021-12-06T04:13:46.889896Z"
    }
   },
   "outputs": [],
   "source": [
    "import pandas as pd\n",
    "import numpy as np\n",
    "from matplotlib import pyplot as plt\n",
    "from joblib import dump, load"
   ]
  },
  {
   "cell_type": "code",
   "execution_count": 2,
   "id": "9d9592e1-5b1f-48e6-b20b-4e0a14b77bf7",
   "metadata": {
    "execution": {
     "iopub.execute_input": "2021-12-06T04:13:47.701921Z",
     "iopub.status.busy": "2021-12-06T04:13:47.701723Z",
     "iopub.status.idle": "2021-12-06T04:13:47.706946Z",
     "shell.execute_reply": "2021-12-06T04:13:47.705736Z",
     "shell.execute_reply.started": "2021-12-06T04:13:47.701880Z"
    }
   },
   "outputs": [],
   "source": [
    "# from sklearn.model_selection import StratifiedKFold"
   ]
  },
  {
   "cell_type": "code",
   "execution_count": 3,
   "id": "3cd0b092-c1a0-4f66-96ed-54d1532fac68",
   "metadata": {
    "execution": {
     "iopub.execute_input": "2021-12-06T04:13:47.709391Z",
     "iopub.status.busy": "2021-12-06T04:13:47.709139Z",
     "iopub.status.idle": "2021-12-06T04:13:49.171529Z",
     "shell.execute_reply": "2021-12-06T04:13:49.170565Z",
     "shell.execute_reply.started": "2021-12-06T04:13:47.709369Z"
    }
   },
   "outputs": [
    {
     "name": "stdout",
     "output_type": "stream",
     "text": [
      "[###] All Done                                              \n"
     ]
    }
   ],
   "source": [
    "from preprocessing import reemplazarNulls,reemplazarCategoricas,reemplazarFechas,regularizar,targetBooleano"
   ]
  },
  {
   "cell_type": "code",
   "execution_count": 20,
   "id": "f526bcba-868d-4e14-97fb-44d67c46cd55",
   "metadata": {
    "execution": {
     "iopub.execute_input": "2021-12-06T04:14:31.786967Z",
     "iopub.status.busy": "2021-12-06T04:14:31.786243Z",
     "iopub.status.idle": "2021-12-06T04:14:31.790953Z",
     "shell.execute_reply": "2021-12-06T04:14:31.789896Z",
     "shell.execute_reply.started": "2021-12-06T04:14:31.786947Z"
    },
    "tags": []
   },
   "outputs": [],
   "source": [
    "from utilities import score2, score"
   ]
  },
  {
   "cell_type": "markdown",
   "id": "e4fbe660-9a08-46f1-86d8-d6516b3a7e9a",
   "metadata": {},
   "source": [
    "### Test Holdout"
   ]
  },
  {
   "cell_type": "code",
   "execution_count": 5,
   "id": "f1a75687-2d21-460e-84db-dddf9ac5dd25",
   "metadata": {
    "execution": {
     "iopub.execute_input": "2021-12-06T04:13:49.565295Z",
     "iopub.status.busy": "2021-12-06T04:13:49.565060Z",
     "iopub.status.idle": "2021-12-06T04:13:49.607425Z",
     "shell.execute_reply": "2021-12-06T04:13:49.606614Z",
     "shell.execute_reply.started": "2021-12-06T04:13:49.565261Z"
    }
   },
   "outputs": [],
   "source": [
    "df_feat = pd.read_csv(\"datasets/holdout_features.csv\", low_memory=False)\n",
    "df_targ = pd.read_csv(\"datasets/holdout_target.csv\").llovieron_hamburguesas_al_dia_siguiente"
   ]
  },
  {
   "cell_type": "code",
   "execution_count": 6,
   "id": "10147b25-efcb-43e9-a6d7-274ff1baec58",
   "metadata": {
    "execution": {
     "iopub.execute_input": "2021-12-06T04:13:49.608501Z",
     "iopub.status.busy": "2021-12-06T04:13:49.608313Z",
     "iopub.status.idle": "2021-12-06T04:13:49.880207Z",
     "shell.execute_reply": "2021-12-06T04:13:49.879228Z",
     "shell.execute_reply.started": "2021-12-06T04:13:49.608480Z"
    }
   },
   "outputs": [
    {
     "data": {
      "text/html": [
       "<div>\n",
       "<style scoped>\n",
       "    .dataframe tbody tr th:only-of-type {\n",
       "        vertical-align: middle;\n",
       "    }\n",
       "\n",
       "    .dataframe tbody tr th {\n",
       "        vertical-align: top;\n",
       "    }\n",
       "\n",
       "    .dataframe thead th {\n",
       "        text-align: right;\n",
       "    }\n",
       "</style>\n",
       "<table border=\"1\" class=\"dataframe\">\n",
       "  <thead>\n",
       "    <tr style=\"text-align: right;\">\n",
       "      <th></th>\n",
       "      <th>id</th>\n",
       "      <th>direccion_viento_tarde</th>\n",
       "      <th>direccion_viento_temprano</th>\n",
       "      <th>horas_de_sol</th>\n",
       "      <th>humedad_tarde</th>\n",
       "      <th>humedad_temprano</th>\n",
       "      <th>mm_lluvia_dia</th>\n",
       "      <th>nubosidad_tarde</th>\n",
       "      <th>presion_atmosferica_tarde</th>\n",
       "      <th>rafaga_viento_max_direccion</th>\n",
       "      <th>rafaga_viento_max_velocidad</th>\n",
       "      <th>velocidad_viendo_tarde</th>\n",
       "    </tr>\n",
       "  </thead>\n",
       "  <tbody>\n",
       "    <tr>\n",
       "      <th>0</th>\n",
       "      <td>-0.114786</td>\n",
       "      <td>-0.311222</td>\n",
       "      <td>-0.773796</td>\n",
       "      <td>-2.018030</td>\n",
       "      <td>-1.372610</td>\n",
       "      <td>-0.832696</td>\n",
       "      <td>0.345041</td>\n",
       "      <td>0.916539</td>\n",
       "      <td>-1.384970</td>\n",
       "      <td>-0.220589</td>\n",
       "      <td>1.544505</td>\n",
       "      <td>0.834079</td>\n",
       "    </tr>\n",
       "    <tr>\n",
       "      <th>1</th>\n",
       "      <td>1.006900</td>\n",
       "      <td>-1.358982</td>\n",
       "      <td>-0.976624</td>\n",
       "      <td>-2.018030</td>\n",
       "      <td>1.085157</td>\n",
       "      <td>0.638263</td>\n",
       "      <td>-0.281713</td>\n",
       "      <td>0.916539</td>\n",
       "      <td>-2.080499</td>\n",
       "      <td>0.802215</td>\n",
       "      <td>0.221665</td>\n",
       "      <td>-0.642648</td>\n",
       "    </tr>\n",
       "    <tr>\n",
       "      <th>2</th>\n",
       "      <td>0.008030</td>\n",
       "      <td>-1.149430</td>\n",
       "      <td>-0.570969</td>\n",
       "      <td>-2.018030</td>\n",
       "      <td>-0.023248</td>\n",
       "      <td>1.058537</td>\n",
       "      <td>1.020008</td>\n",
       "      <td>0.916539</td>\n",
       "      <td>-0.064885</td>\n",
       "      <td>-0.016028</td>\n",
       "      <td>-0.219282</td>\n",
       "      <td>-0.869837</td>\n",
       "    </tr>\n",
       "    <tr>\n",
       "      <th>3</th>\n",
       "      <td>0.337019</td>\n",
       "      <td>-0.939878</td>\n",
       "      <td>-0.976624</td>\n",
       "      <td>0.653494</td>\n",
       "      <td>-0.360588</td>\n",
       "      <td>-0.044682</td>\n",
       "      <td>-0.281713</td>\n",
       "      <td>0.916539</td>\n",
       "      <td>-0.717831</td>\n",
       "      <td>1.620459</td>\n",
       "      <td>-0.219282</td>\n",
       "      <td>0.152513</td>\n",
       "    </tr>\n",
       "    <tr>\n",
       "      <th>4</th>\n",
       "      <td>1.129419</td>\n",
       "      <td>-1.149430</td>\n",
       "      <td>-1.179451</td>\n",
       "      <td>-2.018030</td>\n",
       "      <td>0.362285</td>\n",
       "      <td>0.165455</td>\n",
       "      <td>-0.281713</td>\n",
       "      <td>0.181553</td>\n",
       "      <td>0.559671</td>\n",
       "      <td>-1.038833</td>\n",
       "      <td>-0.219282</td>\n",
       "      <td>0.379701</td>\n",
       "    </tr>\n",
       "    <tr>\n",
       "      <th>...</th>\n",
       "      <td>...</td>\n",
       "      <td>...</td>\n",
       "      <td>...</td>\n",
       "      <td>...</td>\n",
       "      <td>...</td>\n",
       "      <td>...</td>\n",
       "      <td>...</td>\n",
       "      <td>...</td>\n",
       "      <td>...</td>\n",
       "      <td>...</td>\n",
       "      <td>...</td>\n",
       "      <td>...</td>\n",
       "    </tr>\n",
       "    <tr>\n",
       "      <th>11368</th>\n",
       "      <td>0.913813</td>\n",
       "      <td>-0.101670</td>\n",
       "      <td>-0.773796</td>\n",
       "      <td>-1.515466</td>\n",
       "      <td>0.217710</td>\n",
       "      <td>0.270523</td>\n",
       "      <td>-0.257607</td>\n",
       "      <td>0.916539</td>\n",
       "      <td>0.971310</td>\n",
       "      <td>-0.834272</td>\n",
       "      <td>-0.513247</td>\n",
       "      <td>-0.188270</td>\n",
       "    </tr>\n",
       "    <tr>\n",
       "      <th>11369</th>\n",
       "      <td>0.358833</td>\n",
       "      <td>-1.568534</td>\n",
       "      <td>0.645996</td>\n",
       "      <td>-2.018030</td>\n",
       "      <td>-0.264205</td>\n",
       "      <td>-0.517490</td>\n",
       "      <td>-0.281713</td>\n",
       "      <td>-1.655914</td>\n",
       "      <td>-0.121663</td>\n",
       "      <td>-0.220589</td>\n",
       "      <td>-0.660229</td>\n",
       "      <td>-1.097025</td>\n",
       "    </tr>\n",
       "    <tr>\n",
       "      <th>11370</th>\n",
       "      <td>-1.586621</td>\n",
       "      <td>-0.101670</td>\n",
       "      <td>-0.570969</td>\n",
       "      <td>0.045127</td>\n",
       "      <td>-1.468993</td>\n",
       "      <td>-1.515641</td>\n",
       "      <td>-0.281713</td>\n",
       "      <td>0.916539</td>\n",
       "      <td>-1.015914</td>\n",
       "      <td>0.393094</td>\n",
       "      <td>3.014328</td>\n",
       "      <td>3.333155</td>\n",
       "    </tr>\n",
       "    <tr>\n",
       "      <th>11371</th>\n",
       "      <td>-1.313430</td>\n",
       "      <td>1.574745</td>\n",
       "      <td>1.254478</td>\n",
       "      <td>-2.018030</td>\n",
       "      <td>1.085157</td>\n",
       "      <td>0.795865</td>\n",
       "      <td>-0.209395</td>\n",
       "      <td>0.916539</td>\n",
       "      <td>1.553283</td>\n",
       "      <td>1.211337</td>\n",
       "      <td>0.221665</td>\n",
       "      <td>-0.415459</td>\n",
       "    </tr>\n",
       "    <tr>\n",
       "      <th>11372</th>\n",
       "      <td>0.702880</td>\n",
       "      <td>0.526985</td>\n",
       "      <td>0.848823</td>\n",
       "      <td>0.785747</td>\n",
       "      <td>-0.023248</td>\n",
       "      <td>-0.254819</td>\n",
       "      <td>-0.281713</td>\n",
       "      <td>-1.288420</td>\n",
       "      <td>0.247393</td>\n",
       "      <td>1.006776</td>\n",
       "      <td>-0.660229</td>\n",
       "      <td>0.152513</td>\n",
       "    </tr>\n",
       "  </tbody>\n",
       "</table>\n",
       "<p>11373 rows × 12 columns</p>\n",
       "</div>"
      ],
      "text/plain": [
       "             id  direccion_viento_tarde  direccion_viento_temprano  \\\n",
       "0     -0.114786               -0.311222                  -0.773796   \n",
       "1      1.006900               -1.358982                  -0.976624   \n",
       "2      0.008030               -1.149430                  -0.570969   \n",
       "3      0.337019               -0.939878                  -0.976624   \n",
       "4      1.129419               -1.149430                  -1.179451   \n",
       "...         ...                     ...                        ...   \n",
       "11368  0.913813               -0.101670                  -0.773796   \n",
       "11369  0.358833               -1.568534                   0.645996   \n",
       "11370 -1.586621               -0.101670                  -0.570969   \n",
       "11371 -1.313430                1.574745                   1.254478   \n",
       "11372  0.702880                0.526985                   0.848823   \n",
       "\n",
       "       horas_de_sol  humedad_tarde  humedad_temprano  mm_lluvia_dia  \\\n",
       "0         -2.018030      -1.372610         -0.832696       0.345041   \n",
       "1         -2.018030       1.085157          0.638263      -0.281713   \n",
       "2         -2.018030      -0.023248          1.058537       1.020008   \n",
       "3          0.653494      -0.360588         -0.044682      -0.281713   \n",
       "4         -2.018030       0.362285          0.165455      -0.281713   \n",
       "...             ...            ...               ...            ...   \n",
       "11368     -1.515466       0.217710          0.270523      -0.257607   \n",
       "11369     -2.018030      -0.264205         -0.517490      -0.281713   \n",
       "11370      0.045127      -1.468993         -1.515641      -0.281713   \n",
       "11371     -2.018030       1.085157          0.795865      -0.209395   \n",
       "11372      0.785747      -0.023248         -0.254819      -0.281713   \n",
       "\n",
       "       nubosidad_tarde  presion_atmosferica_tarde  \\\n",
       "0             0.916539                  -1.384970   \n",
       "1             0.916539                  -2.080499   \n",
       "2             0.916539                  -0.064885   \n",
       "3             0.916539                  -0.717831   \n",
       "4             0.181553                   0.559671   \n",
       "...                ...                        ...   \n",
       "11368         0.916539                   0.971310   \n",
       "11369        -1.655914                  -0.121663   \n",
       "11370         0.916539                  -1.015914   \n",
       "11371         0.916539                   1.553283   \n",
       "11372        -1.288420                   0.247393   \n",
       "\n",
       "       rafaga_viento_max_direccion  rafaga_viento_max_velocidad  \\\n",
       "0                        -0.220589                     1.544505   \n",
       "1                         0.802215                     0.221665   \n",
       "2                        -0.016028                    -0.219282   \n",
       "3                         1.620459                    -0.219282   \n",
       "4                        -1.038833                    -0.219282   \n",
       "...                            ...                          ...   \n",
       "11368                    -0.834272                    -0.513247   \n",
       "11369                    -0.220589                    -0.660229   \n",
       "11370                     0.393094                     3.014328   \n",
       "11371                     1.211337                     0.221665   \n",
       "11372                     1.006776                    -0.660229   \n",
       "\n",
       "       velocidad_viendo_tarde  \n",
       "0                    0.834079  \n",
       "1                   -0.642648  \n",
       "2                   -0.869837  \n",
       "3                    0.152513  \n",
       "4                    0.379701  \n",
       "...                       ...  \n",
       "11368               -0.188270  \n",
       "11369               -1.097025  \n",
       "11370                3.333155  \n",
       "11371               -0.415459  \n",
       "11372                0.152513  \n",
       "\n",
       "[11373 rows x 12 columns]"
      ]
     },
     "execution_count": 6,
     "metadata": {},
     "output_type": "execute_result"
    }
   ],
   "source": [
    "df_targ=targetBooleano(df_targ)\n",
    "reemplazarNulls(df_feat , inplace=True)\n",
    "reemplazarCategoricas(df_feat , inplace=True)\n",
    "reemplazarFechas(df_feat , inplace=True)\n",
    "regularizar(df_feat , inplace=True)"
   ]
  },
  {
   "cell_type": "code",
   "execution_count": 7,
   "id": "27b4de79-5349-459d-a04d-9e25a11581b4",
   "metadata": {
    "execution": {
     "iopub.execute_input": "2021-12-06T04:13:49.881380Z",
     "iopub.status.busy": "2021-12-06T04:13:49.881170Z",
     "iopub.status.idle": "2021-12-06T04:13:49.886015Z",
     "shell.execute_reply": "2021-12-06T04:13:49.884796Z",
     "shell.execute_reply.started": "2021-12-06T04:13:49.881358Z"
    }
   },
   "outputs": [],
   "source": [
    "# skf = StratifiedKFold(n_splits=5, random_state=1, shuffle=False)\n",
    "# skf.get_n_splits(df_feat, df_targ)"
   ]
  },
  {
   "cell_type": "markdown",
   "id": "fd24cffc-1efb-4c68-a78d-81010ba584a5",
   "metadata": {},
   "source": [
    "### Modelos"
   ]
  },
  {
   "cell_type": "code",
   "execution_count": 8,
   "id": "b52a7d27-5e61-4534-8ceb-f706f2f1c13c",
   "metadata": {
    "execution": {
     "iopub.execute_input": "2021-12-06T04:13:49.887330Z",
     "iopub.status.busy": "2021-12-06T04:13:49.887109Z",
     "iopub.status.idle": "2021-12-06T04:13:50.070658Z",
     "shell.execute_reply": "2021-12-06T04:13:50.069761Z",
     "shell.execute_reply.started": "2021-12-06T04:13:49.887307Z"
    }
   },
   "outputs": [],
   "source": [
    "arbol = load('models/Tree/arbol_r.sk')"
   ]
  },
  {
   "cell_type": "code",
   "execution_count": 9,
   "id": "276b3c20-1d8c-4022-b94e-e7a5bd6cc159",
   "metadata": {
    "execution": {
     "iopub.execute_input": "2021-12-06T04:13:50.072004Z",
     "iopub.status.busy": "2021-12-06T04:13:50.071795Z",
     "iopub.status.idle": "2021-12-06T04:13:50.204984Z",
     "shell.execute_reply": "2021-12-06T04:13:50.204101Z",
     "shell.execute_reply.started": "2021-12-06T04:13:50.071980Z"
    }
   },
   "outputs": [],
   "source": [
    "knn = load('models/KNN/knn_auto.sk')"
   ]
  },
  {
   "cell_type": "code",
   "execution_count": 10,
   "id": "b71c0916-bc9d-47df-9f00-536c20153dd5",
   "metadata": {
    "execution": {
     "iopub.execute_input": "2021-12-06T04:13:50.206063Z",
     "iopub.status.busy": "2021-12-06T04:13:50.205871Z",
     "iopub.status.idle": "2021-12-06T04:13:50.333690Z",
     "shell.execute_reply": "2021-12-06T04:13:50.332841Z",
     "shell.execute_reply.started": "2021-12-06T04:13:50.206028Z"
    }
   },
   "outputs": [],
   "source": [
    "nb = load('models/NB/nb_reg.sk')"
   ]
  },
  {
   "cell_type": "code",
   "execution_count": 11,
   "id": "e3bc9c01-b36d-40f5-8654-71618ed9e54a",
   "metadata": {
    "execution": {
     "iopub.execute_input": "2021-12-06T04:13:50.334894Z",
     "iopub.status.busy": "2021-12-06T04:13:50.334685Z",
     "iopub.status.idle": "2021-12-06T04:13:50.473863Z",
     "shell.execute_reply": "2021-12-06T04:13:50.472746Z",
     "shell.execute_reply.started": "2021-12-06T04:13:50.334849Z"
    }
   },
   "outputs": [],
   "source": [
    "svm_lin = load('models/SVM/svm_lineal.sk')\n",
    "svm_pol = load('models/SVM/svm_poly.sk')\n",
    "svm_rad = load('models/SVM/svm_radial.sk')"
   ]
  },
  {
   "cell_type": "code",
   "execution_count": 12,
   "id": "6419cd23-4162-4420-97f8-02cf70057882",
   "metadata": {
    "execution": {
     "iopub.execute_input": "2021-12-06T04:13:50.476307Z",
     "iopub.status.busy": "2021-12-06T04:13:50.476092Z",
     "iopub.status.idle": "2021-12-06T04:13:50.603350Z",
     "shell.execute_reply": "2021-12-06T04:13:50.602307Z",
     "shell.execute_reply.started": "2021-12-06T04:13:50.476285Z"
    }
   },
   "outputs": [],
   "source": [
    "nn = load('models/NN/mlp_cls_r.sk')"
   ]
  },
  {
   "cell_type": "code",
   "execution_count": 13,
   "id": "a3e8f48e-ca6f-439f-8eba-713be4856427",
   "metadata": {
    "execution": {
     "iopub.execute_input": "2021-12-06T04:13:50.605087Z",
     "iopub.status.busy": "2021-12-06T04:13:50.604824Z",
     "iopub.status.idle": "2021-12-06T04:13:50.780419Z",
     "shell.execute_reply": "2021-12-06T04:13:50.779205Z",
     "shell.execute_reply.started": "2021-12-06T04:13:50.605060Z"
    }
   },
   "outputs": [],
   "source": [
    "rand_f = load('models/Ensambles/forest_r.sk')"
   ]
  },
  {
   "cell_type": "code",
   "execution_count": 14,
   "id": "7ac795f6-2d5b-4fdf-9794-3e53dcd2cf1f",
   "metadata": {
    "execution": {
     "iopub.execute_input": "2021-12-06T04:13:50.781443Z",
     "iopub.status.busy": "2021-12-06T04:13:50.781261Z",
     "iopub.status.idle": "2021-12-06T04:13:50.897844Z",
     "shell.execute_reply": "2021-12-06T04:13:50.896718Z",
     "shell.execute_reply.started": "2021-12-06T04:13:50.781424Z"
    }
   },
   "outputs": [],
   "source": [
    "boost = load('models/Ensambles/boost_r.sk')"
   ]
  },
  {
   "cell_type": "code",
   "execution_count": 15,
   "id": "cfc2606f-04eb-4ab7-a0d5-2eecd37f4e80",
   "metadata": {
    "execution": {
     "iopub.execute_input": "2021-12-06T04:13:50.899009Z",
     "iopub.status.busy": "2021-12-06T04:13:50.898807Z",
     "iopub.status.idle": "2021-12-06T04:13:51.032852Z",
     "shell.execute_reply": "2021-12-06T04:13:51.031860Z",
     "shell.execute_reply.started": "2021-12-06T04:13:50.898976Z"
    },
    "tags": []
   },
   "outputs": [],
   "source": [
    "# vote = load('models/Ensambles/vote_svm.sk')"
   ]
  },
  {
   "cell_type": "markdown",
   "id": "cecce098-37a3-4cf4-b8ba-b578cf1fdb2d",
   "metadata": {},
   "source": [
    "## Comparacion con Test Holdout"
   ]
  },
  {
   "cell_type": "code",
   "execution_count": 16,
   "id": "2708938f-08d3-42bf-83eb-c320945d2f02",
   "metadata": {
    "execution": {
     "iopub.execute_input": "2021-12-06T04:13:51.034517Z",
     "iopub.status.busy": "2021-12-06T04:13:51.033793Z",
     "iopub.status.idle": "2021-12-06T04:13:51.158229Z",
     "shell.execute_reply": "2021-12-06T04:13:51.156922Z",
     "shell.execute_reply.started": "2021-12-06T04:13:51.034492Z"
    }
   },
   "outputs": [],
   "source": [
    "modelos = [\n",
    "    ('arbol',arbol),\n",
    "    ('knn',knn),\n",
    "    ('nb',nb),\n",
    "    ('svm_lin',svm_lin),\n",
    "    ('svm_pol',svm_pol),\n",
    "    ('svm_rad',svm_rad),\n",
    "    ('nn',nn),\n",
    "    ('rand_f',rand_f),\n",
    "    ('boost',boost),\n",
    "]"
   ]
  },
  {
   "cell_type": "code",
   "execution_count": 17,
   "id": "951e1d00-0f1b-4ab5-a041-432eeca21758",
   "metadata": {
    "execution": {
     "iopub.execute_input": "2021-12-06T04:13:51.159825Z",
     "iopub.status.busy": "2021-12-06T04:13:51.159516Z",
     "iopub.status.idle": "2021-12-06T04:13:51.284802Z",
     "shell.execute_reply": "2021-12-06T04:13:51.283414Z",
     "shell.execute_reply.started": "2021-12-06T04:13:51.159791Z"
    }
   },
   "outputs": [],
   "source": [
    "df = pd.DataFrame(columns=[\"Modelo\", \"Preprocesamientos\", \"AUC-ROC\", \"Accuracy\", \"Precision\", \"Recall\", \"F1 score\"])"
   ]
  },
  {
   "cell_type": "code",
   "execution_count": 22,
   "id": "49050c2f-e80b-4e3c-b61f-3b522e348b43",
   "metadata": {
    "execution": {
     "iopub.execute_input": "2021-12-06T04:15:04.772067Z",
     "iopub.status.busy": "2021-12-06T04:15:04.771103Z",
     "iopub.status.idle": "2021-12-06T04:15:04.836587Z",
     "shell.execute_reply": "2021-12-06T04:15:04.834530Z",
     "shell.execute_reply.started": "2021-12-06T04:15:04.772030Z"
    },
    "tags": []
   },
   "outputs": [
    {
     "ename": "ValueError",
     "evalue": "unknown format is not supported",
     "output_type": "error",
     "traceback": [
      "\u001b[0;31m---------------------------------------------------------------------------\u001b[0m",
      "\u001b[0;31mValueError\u001b[0m                                Traceback (most recent call last)",
      "\u001b[0;32m/tmp/ipykernel_15511/1456750706.py\u001b[0m in \u001b[0;36m<module>\u001b[0;34m\u001b[0m\n\u001b[1;32m      1\u001b[0m \u001b[0mpred\u001b[0m \u001b[0;34m=\u001b[0m \u001b[0marbol\u001b[0m\u001b[0;34m.\u001b[0m\u001b[0mpredict\u001b[0m\u001b[0;34m(\u001b[0m\u001b[0mdf_feat\u001b[0m\u001b[0;34m)\u001b[0m\u001b[0;34m\u001b[0m\u001b[0;34m\u001b[0m\u001b[0m\n\u001b[1;32m      2\u001b[0m \u001b[0mprob\u001b[0m \u001b[0;34m=\u001b[0m \u001b[0marbol\u001b[0m\u001b[0;34m.\u001b[0m\u001b[0mpredict_proba\u001b[0m\u001b[0;34m(\u001b[0m\u001b[0mdf_feat\u001b[0m\u001b[0;34m)\u001b[0m\u001b[0;34m\u001b[0m\u001b[0;34m\u001b[0m\u001b[0m\n\u001b[0;32m----> 3\u001b[0;31m \u001b[0mscore\u001b[0m\u001b[0;34m(\u001b[0m\u001b[0mdf_targ\u001b[0m\u001b[0;34m,\u001b[0m \u001b[0mpred\u001b[0m\u001b[0;34m,\u001b[0m \u001b[0mprob\u001b[0m\u001b[0;34m[\u001b[0m\u001b[0;34m:\u001b[0m\u001b[0;34m,\u001b[0m\u001b[0;36m1\u001b[0m\u001b[0;34m]\u001b[0m\u001b[0;34m)\u001b[0m\u001b[0;34m\u001b[0m\u001b[0;34m\u001b[0m\u001b[0m\n\u001b[0m",
      "\u001b[0;32m~/orga/TP2/utilities.py\u001b[0m in \u001b[0;36mscore\u001b[0;34m(target, predictions, probas)\u001b[0m\n\u001b[1;32m     25\u001b[0m \u001b[0;34m\u001b[0m\u001b[0m\n\u001b[1;32m     26\u001b[0m     \u001b[0;32mif\u001b[0m\u001b[0;34m(\u001b[0m \u001b[0mtype\u001b[0m\u001b[0;34m(\u001b[0m\u001b[0mprobas\u001b[0m\u001b[0;34m)\u001b[0m \u001b[0;34m!=\u001b[0m \u001b[0mtype\u001b[0m\u001b[0;34m(\u001b[0m\u001b[0;32mNone\u001b[0m\u001b[0;34m)\u001b[0m \u001b[0;34m)\u001b[0m\u001b[0;34m:\u001b[0m\u001b[0;34m\u001b[0m\u001b[0;34m\u001b[0m\u001b[0m\n\u001b[0;32m---> 27\u001b[0;31m         \u001b[0mprint\u001b[0m\u001b[0;34m(\u001b[0m\u001b[0;34mf'AUC-ROC: {roc_auc_score(target, probas)}'\u001b[0m\u001b[0;34m)\u001b[0m\u001b[0;34m\u001b[0m\u001b[0;34m\u001b[0m\u001b[0m\n\u001b[0m\u001b[1;32m     28\u001b[0m \u001b[0;34m\u001b[0m\u001b[0m\n\u001b[1;32m     29\u001b[0m     \u001b[0;32mif\u001b[0m\u001b[0;34m(\u001b[0m \u001b[0mtype\u001b[0m\u001b[0;34m(\u001b[0m\u001b[0mpredictions\u001b[0m\u001b[0;34m)\u001b[0m \u001b[0;34m!=\u001b[0m \u001b[0mtype\u001b[0m\u001b[0;34m(\u001b[0m\u001b[0;32mNone\u001b[0m\u001b[0;34m)\u001b[0m \u001b[0;34m)\u001b[0m\u001b[0;34m:\u001b[0m\u001b[0;34m\u001b[0m\u001b[0;34m\u001b[0m\u001b[0m\n",
      "\u001b[0;32m~/orga/venv/lib/python3.9/site-packages/sklearn/metrics/_ranking.py\u001b[0m in \u001b[0;36mroc_auc_score\u001b[0;34m(y_true, y_score, average, sample_weight, max_fpr, multi_class, labels)\u001b[0m\n\u001b[1;32m    573\u001b[0m         )\n\u001b[1;32m    574\u001b[0m     \u001b[0;32melse\u001b[0m\u001b[0;34m:\u001b[0m  \u001b[0;31m# multilabel-indicator\u001b[0m\u001b[0;34m\u001b[0m\u001b[0;34m\u001b[0m\u001b[0m\n\u001b[0;32m--> 575\u001b[0;31m         return _average_binary_score(\n\u001b[0m\u001b[1;32m    576\u001b[0m             \u001b[0mpartial\u001b[0m\u001b[0;34m(\u001b[0m\u001b[0m_binary_roc_auc_score\u001b[0m\u001b[0;34m,\u001b[0m \u001b[0mmax_fpr\u001b[0m\u001b[0;34m=\u001b[0m\u001b[0mmax_fpr\u001b[0m\u001b[0;34m)\u001b[0m\u001b[0;34m,\u001b[0m\u001b[0;34m\u001b[0m\u001b[0;34m\u001b[0m\u001b[0m\n\u001b[1;32m    577\u001b[0m             \u001b[0my_true\u001b[0m\u001b[0;34m,\u001b[0m\u001b[0;34m\u001b[0m\u001b[0;34m\u001b[0m\u001b[0m\n",
      "\u001b[0;32m~/orga/venv/lib/python3.9/site-packages/sklearn/metrics/_base.py\u001b[0m in \u001b[0;36m_average_binary_score\u001b[0;34m(binary_metric, y_true, y_score, average, sample_weight)\u001b[0m\n\u001b[1;32m     70\u001b[0m     \u001b[0my_type\u001b[0m \u001b[0;34m=\u001b[0m \u001b[0mtype_of_target\u001b[0m\u001b[0;34m(\u001b[0m\u001b[0my_true\u001b[0m\u001b[0;34m)\u001b[0m\u001b[0;34m\u001b[0m\u001b[0;34m\u001b[0m\u001b[0m\n\u001b[1;32m     71\u001b[0m     \u001b[0;32mif\u001b[0m \u001b[0my_type\u001b[0m \u001b[0;32mnot\u001b[0m \u001b[0;32min\u001b[0m \u001b[0;34m(\u001b[0m\u001b[0;34m\"binary\"\u001b[0m\u001b[0;34m,\u001b[0m \u001b[0;34m\"multilabel-indicator\"\u001b[0m\u001b[0;34m)\u001b[0m\u001b[0;34m:\u001b[0m\u001b[0;34m\u001b[0m\u001b[0;34m\u001b[0m\u001b[0m\n\u001b[0;32m---> 72\u001b[0;31m         \u001b[0;32mraise\u001b[0m \u001b[0mValueError\u001b[0m\u001b[0;34m(\u001b[0m\u001b[0;34m\"{0} format is not supported\"\u001b[0m\u001b[0;34m.\u001b[0m\u001b[0mformat\u001b[0m\u001b[0;34m(\u001b[0m\u001b[0my_type\u001b[0m\u001b[0;34m)\u001b[0m\u001b[0;34m)\u001b[0m\u001b[0;34m\u001b[0m\u001b[0;34m\u001b[0m\u001b[0m\n\u001b[0m\u001b[1;32m     73\u001b[0m \u001b[0;34m\u001b[0m\u001b[0m\n\u001b[1;32m     74\u001b[0m     \u001b[0;32mif\u001b[0m \u001b[0my_type\u001b[0m \u001b[0;34m==\u001b[0m \u001b[0;34m\"binary\"\u001b[0m\u001b[0;34m:\u001b[0m\u001b[0;34m\u001b[0m\u001b[0;34m\u001b[0m\u001b[0m\n",
      "\u001b[0;31mValueError\u001b[0m: unknown format is not supported"
     ]
    }
   ],
   "source": [
    "pred = arbol.predict(df_feat)\n",
    "prob = arbol.predict_proba(df_feat)\n",
    "score(df_targ, pred, prob[:,1])"
   ]
  },
  {
   "cell_type": "code",
   "execution_count": null,
   "id": "3617c0b8-8bfa-49c5-bec6-c0e1ac6f4215",
   "metadata": {
    "execution": {
     "iopub.status.busy": "2021-12-06T04:13:51.527231Z",
     "iopub.status.idle": "2021-12-06T04:13:51.527533Z",
     "shell.execute_reply": "2021-12-06T04:13:51.527392Z",
     "shell.execute_reply.started": "2021-12-06T04:13:51.527378Z"
    },
    "tags": []
   },
   "outputs": [],
   "source": [
    "for (name, model) in modelos:\n",
    "    pred = model.predict(df_feat)\n",
    "    prob = model.predict_proba(df_feat)\n",
    "    \n",
    "    roc_auc, acc, prec, rec, f1 = score2(df_targ, pred, prob)\n",
    "    \n",
    "    df = df.append(\n",
    "        {\n",
    "            \"Modelo\": name,\n",
    "            \"Preprocesamientos\":  \"Todos\",\n",
    "            \"AUC-ROC\":  roc_auc,\n",
    "            \"Accuracy\":  acc,\n",
    "            \"Precision\":  prec,\n",
    "            \"Recall\":  rec,\n",
    "            \"F1 score\":  f1,\n",
    "        },\n",
    "        ignore_index=True\n",
    "    )\n",
    "df"
   ]
  },
  {
   "cell_type": "code",
   "execution_count": null,
   "id": "c80e8e84-4b91-4267-ae14-da6f36a7bd77",
   "metadata": {},
   "outputs": [],
   "source": []
  }
 ],
 "metadata": {
  "kernelspec": {
   "display_name": "Python 3 (ipykernel)",
   "language": "python",
   "name": "python3"
  },
  "language_info": {
   "codemirror_mode": {
    "name": "ipython",
    "version": 3
   },
   "file_extension": ".py",
   "mimetype": "text/x-python",
   "name": "python",
   "nbconvert_exporter": "python",
   "pygments_lexer": "ipython3",
   "version": "3.9.8"
  }
 },
 "nbformat": 4,
 "nbformat_minor": 5
}
