{
 "cells": [
  {
   "cell_type": "markdown",
   "id": "305e2aea-8552-432d-aca9-945a50182740",
   "metadata": {},
   "source": [
    "# Entrega"
   ]
  },
  {
   "cell_type": "markdown",
   "id": "2dc5738a-1cff-45c3-8c96-bfbdb1351f50",
   "metadata": {},
   "source": [
    "### Imports"
   ]
  },
  {
   "cell_type": "code",
   "execution_count": 27,
   "id": "beb361cf-9dee-4854-888f-1fc8d2f50b32",
   "metadata": {
    "execution": {
     "iopub.execute_input": "2021-12-07T02:06:27.773741Z",
     "iopub.status.busy": "2021-12-07T02:06:27.773465Z",
     "iopub.status.idle": "2021-12-07T02:06:27.781016Z",
     "shell.execute_reply": "2021-12-07T02:06:27.780389Z",
     "shell.execute_reply.started": "2021-12-07T02:06:27.773718Z"
    },
    "tags": []
   },
   "outputs": [],
   "source": [
    "import pandas as pd\n",
    "import numpy as np\n",
    "from matplotlib import pyplot as plt\n",
    "from joblib import dump, load"
   ]
  },
  {
   "cell_type": "code",
   "execution_count": 3,
   "id": "3cd0b092-c1a0-4f66-96ed-54d1532fac68",
   "metadata": {
    "execution": {
     "iopub.execute_input": "2021-12-07T01:54:52.085614Z",
     "iopub.status.busy": "2021-12-07T01:54:52.085340Z",
     "iopub.status.idle": "2021-12-07T01:54:55.062384Z",
     "shell.execute_reply": "2021-12-07T01:54:55.061651Z",
     "shell.execute_reply.started": "2021-12-07T01:54:52.085593Z"
    },
    "tags": []
   },
   "outputs": [
    {
     "name": "stdout",
     "output_type": "stream",
     "text": [
      "[###] All Done                                              \n"
     ]
    }
   ],
   "source": [
    "from preprocessing import reemplazarNulls,reemplazarCategoricas,reemplazarFechas,regularizar,targetBooleano"
   ]
  },
  {
   "cell_type": "code",
   "execution_count": 4,
   "id": "f526bcba-868d-4e14-97fb-44d67c46cd55",
   "metadata": {
    "execution": {
     "iopub.execute_input": "2021-12-07T01:54:55.064961Z",
     "iopub.status.busy": "2021-12-07T01:54:55.064729Z",
     "iopub.status.idle": "2021-12-07T01:54:55.679506Z",
     "shell.execute_reply": "2021-12-07T01:54:55.678770Z",
     "shell.execute_reply.started": "2021-12-07T01:54:55.064939Z"
    },
    "tags": []
   },
   "outputs": [],
   "source": [
    "from utilities import score2, score"
   ]
  },
  {
   "cell_type": "markdown",
   "id": "e4fbe660-9a08-46f1-86d8-d6516b3a7e9a",
   "metadata": {},
   "source": [
    "### Test Holdout"
   ]
  },
  {
   "cell_type": "code",
   "execution_count": 7,
   "id": "f1a75687-2d21-460e-84db-dddf9ac5dd25",
   "metadata": {
    "execution": {
     "iopub.execute_input": "2021-12-07T01:55:21.327635Z",
     "iopub.status.busy": "2021-12-07T01:55:21.327271Z",
     "iopub.status.idle": "2021-12-07T01:55:21.374348Z",
     "shell.execute_reply": "2021-12-07T01:55:21.372792Z",
     "shell.execute_reply.started": "2021-12-07T01:55:21.327595Z"
    },
    "tags": []
   },
   "outputs": [],
   "source": [
    "df_feat = pd.read_csv(\"datasets/holdout_features.csv\", low_memory=False)\n",
    "df_targ = pd.read_csv(\"datasets/holdout_target.csv\")"
   ]
  },
  {
   "cell_type": "code",
   "execution_count": 8,
   "id": "10147b25-efcb-43e9-a6d7-274ff1baec58",
   "metadata": {
    "execution": {
     "iopub.execute_input": "2021-12-07T01:55:21.848871Z",
     "iopub.status.busy": "2021-12-07T01:55:21.848624Z",
     "iopub.status.idle": "2021-12-07T01:55:22.050936Z",
     "shell.execute_reply": "2021-12-07T01:55:22.050363Z",
     "shell.execute_reply.started": "2021-12-07T01:55:21.848848Z"
    },
    "tags": []
   },
   "outputs": [
    {
     "data": {
      "text/html": [
       "<div>\n",
       "<style scoped>\n",
       "    .dataframe tbody tr th:only-of-type {\n",
       "        vertical-align: middle;\n",
       "    }\n",
       "\n",
       "    .dataframe tbody tr th {\n",
       "        vertical-align: top;\n",
       "    }\n",
       "\n",
       "    .dataframe thead th {\n",
       "        text-align: right;\n",
       "    }\n",
       "</style>\n",
       "<table border=\"1\" class=\"dataframe\">\n",
       "  <thead>\n",
       "    <tr style=\"text-align: right;\">\n",
       "      <th></th>\n",
       "      <th>id</th>\n",
       "      <th>direccion_viento_tarde</th>\n",
       "      <th>direccion_viento_temprano</th>\n",
       "      <th>horas_de_sol</th>\n",
       "      <th>humedad_tarde</th>\n",
       "      <th>humedad_temprano</th>\n",
       "      <th>mm_lluvia_dia</th>\n",
       "      <th>nubosidad_tarde</th>\n",
       "      <th>presion_atmosferica_tarde</th>\n",
       "      <th>rafaga_viento_max_direccion</th>\n",
       "      <th>rafaga_viento_max_velocidad</th>\n",
       "      <th>velocidad_viendo_tarde</th>\n",
       "    </tr>\n",
       "  </thead>\n",
       "  <tbody>\n",
       "    <tr>\n",
       "      <th>0</th>\n",
       "      <td>-0.114786</td>\n",
       "      <td>-0.311222</td>\n",
       "      <td>-0.773796</td>\n",
       "      <td>-2.018030</td>\n",
       "      <td>-1.372610</td>\n",
       "      <td>-0.832696</td>\n",
       "      <td>0.345041</td>\n",
       "      <td>0.916539</td>\n",
       "      <td>-1.384970</td>\n",
       "      <td>-0.220589</td>\n",
       "      <td>1.544505</td>\n",
       "      <td>0.834079</td>\n",
       "    </tr>\n",
       "    <tr>\n",
       "      <th>1</th>\n",
       "      <td>1.006900</td>\n",
       "      <td>-1.358982</td>\n",
       "      <td>-0.976624</td>\n",
       "      <td>-2.018030</td>\n",
       "      <td>1.085157</td>\n",
       "      <td>0.638263</td>\n",
       "      <td>-0.281713</td>\n",
       "      <td>0.916539</td>\n",
       "      <td>-2.080499</td>\n",
       "      <td>0.802215</td>\n",
       "      <td>0.221665</td>\n",
       "      <td>-0.642648</td>\n",
       "    </tr>\n",
       "    <tr>\n",
       "      <th>2</th>\n",
       "      <td>0.008030</td>\n",
       "      <td>-1.149430</td>\n",
       "      <td>-0.570969</td>\n",
       "      <td>-2.018030</td>\n",
       "      <td>-0.023248</td>\n",
       "      <td>1.058537</td>\n",
       "      <td>1.020008</td>\n",
       "      <td>0.916539</td>\n",
       "      <td>-0.064885</td>\n",
       "      <td>-0.016028</td>\n",
       "      <td>-0.219282</td>\n",
       "      <td>-0.869837</td>\n",
       "    </tr>\n",
       "    <tr>\n",
       "      <th>3</th>\n",
       "      <td>0.337019</td>\n",
       "      <td>-0.939878</td>\n",
       "      <td>-0.976624</td>\n",
       "      <td>0.653494</td>\n",
       "      <td>-0.360588</td>\n",
       "      <td>-0.044682</td>\n",
       "      <td>-0.281713</td>\n",
       "      <td>0.916539</td>\n",
       "      <td>-0.717831</td>\n",
       "      <td>1.620459</td>\n",
       "      <td>-0.219282</td>\n",
       "      <td>0.152513</td>\n",
       "    </tr>\n",
       "    <tr>\n",
       "      <th>4</th>\n",
       "      <td>1.129419</td>\n",
       "      <td>-1.149430</td>\n",
       "      <td>-1.179451</td>\n",
       "      <td>-2.018030</td>\n",
       "      <td>0.362285</td>\n",
       "      <td>0.165455</td>\n",
       "      <td>-0.281713</td>\n",
       "      <td>0.181553</td>\n",
       "      <td>0.559671</td>\n",
       "      <td>-1.038833</td>\n",
       "      <td>-0.219282</td>\n",
       "      <td>0.379701</td>\n",
       "    </tr>\n",
       "    <tr>\n",
       "      <th>...</th>\n",
       "      <td>...</td>\n",
       "      <td>...</td>\n",
       "      <td>...</td>\n",
       "      <td>...</td>\n",
       "      <td>...</td>\n",
       "      <td>...</td>\n",
       "      <td>...</td>\n",
       "      <td>...</td>\n",
       "      <td>...</td>\n",
       "      <td>...</td>\n",
       "      <td>...</td>\n",
       "      <td>...</td>\n",
       "    </tr>\n",
       "    <tr>\n",
       "      <th>11368</th>\n",
       "      <td>0.913813</td>\n",
       "      <td>-0.101670</td>\n",
       "      <td>-0.773796</td>\n",
       "      <td>-1.515466</td>\n",
       "      <td>0.217710</td>\n",
       "      <td>0.270523</td>\n",
       "      <td>-0.257607</td>\n",
       "      <td>0.916539</td>\n",
       "      <td>0.971310</td>\n",
       "      <td>-0.834272</td>\n",
       "      <td>-0.513247</td>\n",
       "      <td>-0.188270</td>\n",
       "    </tr>\n",
       "    <tr>\n",
       "      <th>11369</th>\n",
       "      <td>0.358833</td>\n",
       "      <td>-1.568534</td>\n",
       "      <td>0.645996</td>\n",
       "      <td>-2.018030</td>\n",
       "      <td>-0.264205</td>\n",
       "      <td>-0.517490</td>\n",
       "      <td>-0.281713</td>\n",
       "      <td>-1.655914</td>\n",
       "      <td>-0.121663</td>\n",
       "      <td>-0.220589</td>\n",
       "      <td>-0.660229</td>\n",
       "      <td>-1.097025</td>\n",
       "    </tr>\n",
       "    <tr>\n",
       "      <th>11370</th>\n",
       "      <td>-1.586621</td>\n",
       "      <td>-0.101670</td>\n",
       "      <td>-0.570969</td>\n",
       "      <td>0.045127</td>\n",
       "      <td>-1.468993</td>\n",
       "      <td>-1.515641</td>\n",
       "      <td>-0.281713</td>\n",
       "      <td>0.916539</td>\n",
       "      <td>-1.015914</td>\n",
       "      <td>0.393094</td>\n",
       "      <td>3.014328</td>\n",
       "      <td>3.333155</td>\n",
       "    </tr>\n",
       "    <tr>\n",
       "      <th>11371</th>\n",
       "      <td>-1.313430</td>\n",
       "      <td>1.574745</td>\n",
       "      <td>1.254478</td>\n",
       "      <td>-2.018030</td>\n",
       "      <td>1.085157</td>\n",
       "      <td>0.795865</td>\n",
       "      <td>-0.209395</td>\n",
       "      <td>0.916539</td>\n",
       "      <td>1.553283</td>\n",
       "      <td>1.211337</td>\n",
       "      <td>0.221665</td>\n",
       "      <td>-0.415459</td>\n",
       "    </tr>\n",
       "    <tr>\n",
       "      <th>11372</th>\n",
       "      <td>0.702880</td>\n",
       "      <td>0.526985</td>\n",
       "      <td>0.848823</td>\n",
       "      <td>0.785747</td>\n",
       "      <td>-0.023248</td>\n",
       "      <td>-0.254819</td>\n",
       "      <td>-0.281713</td>\n",
       "      <td>-1.288420</td>\n",
       "      <td>0.247393</td>\n",
       "      <td>1.006776</td>\n",
       "      <td>-0.660229</td>\n",
       "      <td>0.152513</td>\n",
       "    </tr>\n",
       "  </tbody>\n",
       "</table>\n",
       "<p>11373 rows × 12 columns</p>\n",
       "</div>"
      ],
      "text/plain": [
       "             id  direccion_viento_tarde  direccion_viento_temprano  \\\n",
       "0     -0.114786               -0.311222                  -0.773796   \n",
       "1      1.006900               -1.358982                  -0.976624   \n",
       "2      0.008030               -1.149430                  -0.570969   \n",
       "3      0.337019               -0.939878                  -0.976624   \n",
       "4      1.129419               -1.149430                  -1.179451   \n",
       "...         ...                     ...                        ...   \n",
       "11368  0.913813               -0.101670                  -0.773796   \n",
       "11369  0.358833               -1.568534                   0.645996   \n",
       "11370 -1.586621               -0.101670                  -0.570969   \n",
       "11371 -1.313430                1.574745                   1.254478   \n",
       "11372  0.702880                0.526985                   0.848823   \n",
       "\n",
       "       horas_de_sol  humedad_tarde  humedad_temprano  mm_lluvia_dia  \\\n",
       "0         -2.018030      -1.372610         -0.832696       0.345041   \n",
       "1         -2.018030       1.085157          0.638263      -0.281713   \n",
       "2         -2.018030      -0.023248          1.058537       1.020008   \n",
       "3          0.653494      -0.360588         -0.044682      -0.281713   \n",
       "4         -2.018030       0.362285          0.165455      -0.281713   \n",
       "...             ...            ...               ...            ...   \n",
       "11368     -1.515466       0.217710          0.270523      -0.257607   \n",
       "11369     -2.018030      -0.264205         -0.517490      -0.281713   \n",
       "11370      0.045127      -1.468993         -1.515641      -0.281713   \n",
       "11371     -2.018030       1.085157          0.795865      -0.209395   \n",
       "11372      0.785747      -0.023248         -0.254819      -0.281713   \n",
       "\n",
       "       nubosidad_tarde  presion_atmosferica_tarde  \\\n",
       "0             0.916539                  -1.384970   \n",
       "1             0.916539                  -2.080499   \n",
       "2             0.916539                  -0.064885   \n",
       "3             0.916539                  -0.717831   \n",
       "4             0.181553                   0.559671   \n",
       "...                ...                        ...   \n",
       "11368         0.916539                   0.971310   \n",
       "11369        -1.655914                  -0.121663   \n",
       "11370         0.916539                  -1.015914   \n",
       "11371         0.916539                   1.553283   \n",
       "11372        -1.288420                   0.247393   \n",
       "\n",
       "       rafaga_viento_max_direccion  rafaga_viento_max_velocidad  \\\n",
       "0                        -0.220589                     1.544505   \n",
       "1                         0.802215                     0.221665   \n",
       "2                        -0.016028                    -0.219282   \n",
       "3                         1.620459                    -0.219282   \n",
       "4                        -1.038833                    -0.219282   \n",
       "...                            ...                          ...   \n",
       "11368                    -0.834272                    -0.513247   \n",
       "11369                    -0.220589                    -0.660229   \n",
       "11370                     0.393094                     3.014328   \n",
       "11371                     1.211337                     0.221665   \n",
       "11372                     1.006776                    -0.660229   \n",
       "\n",
       "       velocidad_viendo_tarde  \n",
       "0                    0.834079  \n",
       "1                   -0.642648  \n",
       "2                   -0.869837  \n",
       "3                    0.152513  \n",
       "4                    0.379701  \n",
       "...                       ...  \n",
       "11368               -0.188270  \n",
       "11369               -1.097025  \n",
       "11370                3.333155  \n",
       "11371               -0.415459  \n",
       "11372                0.152513  \n",
       "\n",
       "[11373 rows x 12 columns]"
      ]
     },
     "execution_count": 8,
     "metadata": {},
     "output_type": "execute_result"
    }
   ],
   "source": [
    "df_targ=targetBooleano(df_targ).llovieron_hamburguesas_al_dia_siguiente\n",
    "reemplazarNulls(df_feat , inplace=True)\n",
    "reemplazarCategoricas(df_feat , inplace=True)\n",
    "reemplazarFechas(df_feat , inplace=True)\n",
    "regularizar(df_feat , inplace=True)"
   ]
  },
  {
   "cell_type": "markdown",
   "id": "fd24cffc-1efb-4c68-a78d-81010ba584a5",
   "metadata": {},
   "source": [
    "### Modelos"
   ]
  },
  {
   "cell_type": "code",
   "execution_count": 10,
   "id": "b52a7d27-5e61-4534-8ceb-f706f2f1c13c",
   "metadata": {
    "execution": {
     "iopub.execute_input": "2021-12-07T01:55:24.476706Z",
     "iopub.status.busy": "2021-12-07T01:55:24.476250Z",
     "iopub.status.idle": "2021-12-07T01:55:24.515581Z",
     "shell.execute_reply": "2021-12-07T01:55:24.514945Z",
     "shell.execute_reply.started": "2021-12-07T01:55:24.476683Z"
    },
    "tags": []
   },
   "outputs": [],
   "source": [
    "arbol = load('models/Tree/arbol_r.sk')"
   ]
  },
  {
   "cell_type": "code",
   "execution_count": 11,
   "id": "276b3c20-1d8c-4022-b94e-e7a5bd6cc159",
   "metadata": {
    "execution": {
     "iopub.execute_input": "2021-12-07T01:55:24.649837Z",
     "iopub.status.busy": "2021-12-07T01:55:24.649597Z",
     "iopub.status.idle": "2021-12-07T01:55:24.711771Z",
     "shell.execute_reply": "2021-12-07T01:55:24.710963Z",
     "shell.execute_reply.started": "2021-12-07T01:55:24.649814Z"
    },
    "tags": []
   },
   "outputs": [],
   "source": [
    "knn = load('models/KNN/knn_auto.sk')"
   ]
  },
  {
   "cell_type": "code",
   "execution_count": 12,
   "id": "b71c0916-bc9d-47df-9f00-536c20153dd5",
   "metadata": {
    "execution": {
     "iopub.execute_input": "2021-12-07T01:55:24.815593Z",
     "iopub.status.busy": "2021-12-07T01:55:24.815344Z",
     "iopub.status.idle": "2021-12-07T01:55:24.827467Z",
     "shell.execute_reply": "2021-12-07T01:55:24.826891Z",
     "shell.execute_reply.started": "2021-12-07T01:55:24.815570Z"
    },
    "tags": []
   },
   "outputs": [],
   "source": [
    "nb = load('models/NB/nb_reg.sk')"
   ]
  },
  {
   "cell_type": "code",
   "execution_count": 13,
   "id": "e3bc9c01-b36d-40f5-8654-71618ed9e54a",
   "metadata": {
    "execution": {
     "iopub.execute_input": "2021-12-07T01:55:25.077604Z",
     "iopub.status.busy": "2021-12-07T01:55:25.077353Z",
     "iopub.status.idle": "2021-12-07T01:55:25.125555Z",
     "shell.execute_reply": "2021-12-07T01:55:25.124856Z",
     "shell.execute_reply.started": "2021-12-07T01:55:25.077580Z"
    },
    "tags": []
   },
   "outputs": [],
   "source": [
    "svm_lin = load('models/SVM/svm_lineal.sk')\n",
    "svm_pol = load('models/SVM/svm_poly.sk')\n",
    "svm_rad = load('models/SVM/svm_radial.sk')"
   ]
  },
  {
   "cell_type": "code",
   "execution_count": 14,
   "id": "6419cd23-4162-4420-97f8-02cf70057882",
   "metadata": {
    "execution": {
     "iopub.execute_input": "2021-12-07T01:55:25.217827Z",
     "iopub.status.busy": "2021-12-07T01:55:25.217589Z",
     "iopub.status.idle": "2021-12-07T01:55:25.234223Z",
     "shell.execute_reply": "2021-12-07T01:55:25.233645Z",
     "shell.execute_reply.started": "2021-12-07T01:55:25.217805Z"
    },
    "tags": []
   },
   "outputs": [],
   "source": [
    "nn = load('models/NN/mlp_cls_r.sk')"
   ]
  },
  {
   "cell_type": "code",
   "execution_count": 15,
   "id": "a3e8f48e-ca6f-439f-8eba-713be4856427",
   "metadata": {
    "execution": {
     "iopub.execute_input": "2021-12-07T01:55:25.603208Z",
     "iopub.status.busy": "2021-12-07T01:55:25.602969Z",
     "iopub.status.idle": "2021-12-07T01:55:25.733443Z",
     "shell.execute_reply": "2021-12-07T01:55:25.732801Z",
     "shell.execute_reply.started": "2021-12-07T01:55:25.603185Z"
    },
    "tags": []
   },
   "outputs": [],
   "source": [
    "rand_f = load('models/Ensambles/forest_r.sk')"
   ]
  },
  {
   "cell_type": "code",
   "execution_count": 16,
   "id": "7ac795f6-2d5b-4fdf-9794-3e53dcd2cf1f",
   "metadata": {
    "execution": {
     "iopub.execute_input": "2021-12-07T01:55:25.819642Z",
     "iopub.status.busy": "2021-12-07T01:55:25.819396Z",
     "iopub.status.idle": "2021-12-07T01:55:25.852261Z",
     "shell.execute_reply": "2021-12-07T01:55:25.851700Z",
     "shell.execute_reply.started": "2021-12-07T01:55:25.819619Z"
    },
    "tags": []
   },
   "outputs": [],
   "source": [
    "boost = load('models/Ensambles/boost_r.sk')"
   ]
  },
  {
   "cell_type": "code",
   "execution_count": 17,
   "id": "cfc2606f-04eb-4ab7-a0d5-2eecd37f4e80",
   "metadata": {
    "execution": {
     "iopub.execute_input": "2021-12-07T01:55:26.265901Z",
     "iopub.status.busy": "2021-12-07T01:55:26.265654Z",
     "iopub.status.idle": "2021-12-07T01:55:26.268772Z",
     "shell.execute_reply": "2021-12-07T01:55:26.268078Z",
     "shell.execute_reply.started": "2021-12-07T01:55:26.265878Z"
    },
    "tags": []
   },
   "outputs": [],
   "source": [
    "# vote = load('models/Ensambles/vote_svm.sk')"
   ]
  },
  {
   "cell_type": "markdown",
   "id": "955320cd-1589-47ff-8022-4487170d7190",
   "metadata": {},
   "source": [
    "## Preprocesamientos"
   ]
  },
  {
   "cell_type": "markdown",
   "id": "3349867a-5773-43d6-b636-8ea3786f0b4d",
   "metadata": {
    "tags": []
   },
   "source": [
    "preprocesamiento | descripcion | funcion\n",
    ":--:|:--:|:--:\n",
    " convertir target a booleano | Convierte los 'si' y 'no' por True y False | `targetBooleano`\n",
    " reemplazar nulls de features | Reemplaza los nulls de los features con un `simple imputer` | `reemplazarNulls`\n",
    " reemplazar categoricas de features | convierte las features categoricas en numericas | `reemplazarCategoricas`\n",
    " reemplazar fechas de features | convierte las features de fecha en numericas | `reemplazarFechas`\n",
    " regularizar features | Normaliza las features y elimina las menos significativas | `regularizar`"
   ]
  },
  {
   "cell_type": "markdown",
   "id": "cecce098-37a3-4cf4-b8ba-b578cf1fdb2d",
   "metadata": {},
   "source": [
    "## Comparacion con Test Holdout"
   ]
  },
  {
   "cell_type": "code",
   "execution_count": 18,
   "id": "2708938f-08d3-42bf-83eb-c320945d2f02",
   "metadata": {
    "execution": {
     "iopub.execute_input": "2021-12-07T01:55:29.045495Z",
     "iopub.status.busy": "2021-12-07T01:55:29.045034Z",
     "iopub.status.idle": "2021-12-07T01:55:29.049399Z",
     "shell.execute_reply": "2021-12-07T01:55:29.048585Z",
     "shell.execute_reply.started": "2021-12-07T01:55:29.045471Z"
    },
    "tags": []
   },
   "outputs": [],
   "source": [
    "modelos = [\n",
    "    ('arbol',arbol),\n",
    "    ('knn',knn),\n",
    "    ('naive bayes',nb),\n",
    "    ('svm lineal',svm_lin),\n",
    "    ('svm poly',svm_pol),\n",
    "    ('svm radial',svm_rad),\n",
    "    ('Red Neuronal',nn),\n",
    "    ('Random Forest',rand_f),\n",
    "    ('Boosting',boost),\n",
    "]"
   ]
  },
  {
   "cell_type": "code",
   "execution_count": 19,
   "id": "951e1d00-0f1b-4ab5-a041-432eeca21758",
   "metadata": {
    "execution": {
     "iopub.execute_input": "2021-12-07T01:55:30.093808Z",
     "iopub.status.busy": "2021-12-07T01:55:30.093562Z",
     "iopub.status.idle": "2021-12-07T01:55:30.098836Z",
     "shell.execute_reply": "2021-12-07T01:55:30.098078Z",
     "shell.execute_reply.started": "2021-12-07T01:55:30.093784Z"
    },
    "tags": []
   },
   "outputs": [],
   "source": [
    "df = pd.DataFrame(columns=[\"Modelo\", \"Preprocesamientos\", \"AUC-ROC\", \"Accuracy\", \"Precision\", \"Recall\", \"F1 score\"])"
   ]
  },
  {
   "cell_type": "code",
   "execution_count": 26,
   "id": "3617c0b8-8bfa-49c5-bec6-c0e1ac6f4215",
   "metadata": {
    "execution": {
     "iopub.execute_input": "2021-12-07T01:57:04.631341Z",
     "iopub.status.busy": "2021-12-07T01:57:04.631060Z",
     "iopub.status.idle": "2021-12-07T02:00:07.258462Z",
     "shell.execute_reply": "2021-12-07T02:00:07.257692Z",
     "shell.execute_reply.started": "2021-12-07T01:57:04.631318Z"
    },
    "tags": []
   },
   "outputs": [
    {
     "data": {
      "text/html": [
       "<div>\n",
       "<style scoped>\n",
       "    .dataframe tbody tr th:only-of-type {\n",
       "        vertical-align: middle;\n",
       "    }\n",
       "\n",
       "    .dataframe tbody tr th {\n",
       "        vertical-align: top;\n",
       "    }\n",
       "\n",
       "    .dataframe thead th {\n",
       "        text-align: right;\n",
       "    }\n",
       "</style>\n",
       "<table border=\"1\" class=\"dataframe\">\n",
       "  <thead>\n",
       "    <tr style=\"text-align: right;\">\n",
       "      <th></th>\n",
       "      <th>Modelo</th>\n",
       "      <th>Preprocesamientos</th>\n",
       "      <th>AUC-ROC</th>\n",
       "      <th>Accuracy</th>\n",
       "      <th>Precision</th>\n",
       "      <th>Recall</th>\n",
       "      <th>F1 score</th>\n",
       "    </tr>\n",
       "  </thead>\n",
       "  <tbody>\n",
       "    <tr>\n",
       "      <th>0</th>\n",
       "      <td>arbol</td>\n",
       "      <td>Todos</td>\n",
       "      <td>0.857910</td>\n",
       "      <td>0.841027</td>\n",
       "      <td>0.722659</td>\n",
       "      <td>0.469941</td>\n",
       "      <td>0.569524</td>\n",
       "    </tr>\n",
       "    <tr>\n",
       "      <th>1</th>\n",
       "      <td>knn</td>\n",
       "      <td>Todos</td>\n",
       "      <td>0.870998</td>\n",
       "      <td>0.838565</td>\n",
       "      <td>0.770404</td>\n",
       "      <td>0.396857</td>\n",
       "      <td>0.523859</td>\n",
       "    </tr>\n",
       "    <tr>\n",
       "      <th>2</th>\n",
       "      <td>nb</td>\n",
       "      <td>Todos</td>\n",
       "      <td>0.829405</td>\n",
       "      <td>0.826167</td>\n",
       "      <td>0.631603</td>\n",
       "      <td>0.535560</td>\n",
       "      <td>0.579630</td>\n",
       "    </tr>\n",
       "    <tr>\n",
       "      <th>3</th>\n",
       "      <td>svm_lin</td>\n",
       "      <td>Todos</td>\n",
       "      <td>0.857328</td>\n",
       "      <td>0.838301</td>\n",
       "      <td>0.743785</td>\n",
       "      <td>0.423183</td>\n",
       "      <td>0.539444</td>\n",
       "    </tr>\n",
       "    <tr>\n",
       "      <th>4</th>\n",
       "      <td>svm_pol</td>\n",
       "      <td>Todos</td>\n",
       "      <td>0.860728</td>\n",
       "      <td>0.838917</td>\n",
       "      <td>0.765846</td>\n",
       "      <td>0.403536</td>\n",
       "      <td>0.528564</td>\n",
       "    </tr>\n",
       "    <tr>\n",
       "      <th>5</th>\n",
       "      <td>svm_rad</td>\n",
       "      <td>Todos</td>\n",
       "      <td>0.856471</td>\n",
       "      <td>0.838741</td>\n",
       "      <td>0.774094</td>\n",
       "      <td>0.394499</td>\n",
       "      <td>0.522644</td>\n",
       "    </tr>\n",
       "    <tr>\n",
       "      <th>6</th>\n",
       "      <td>nn</td>\n",
       "      <td>Todos</td>\n",
       "      <td>0.872029</td>\n",
       "      <td>0.846742</td>\n",
       "      <td>0.715360</td>\n",
       "      <td>0.523379</td>\n",
       "      <td>0.604493</td>\n",
       "    </tr>\n",
       "    <tr>\n",
       "      <th>7</th>\n",
       "      <td>rand_f</td>\n",
       "      <td>Todos</td>\n",
       "      <td>0.873621</td>\n",
       "      <td>0.845511</td>\n",
       "      <td>0.760582</td>\n",
       "      <td>0.451866</td>\n",
       "      <td>0.566921</td>\n",
       "    </tr>\n",
       "    <tr>\n",
       "      <th>8</th>\n",
       "      <td>boost</td>\n",
       "      <td>Todos</td>\n",
       "      <td>0.883838</td>\n",
       "      <td>0.851490</td>\n",
       "      <td>0.737514</td>\n",
       "      <td>0.522200</td>\n",
       "      <td>0.611456</td>\n",
       "    </tr>\n",
       "  </tbody>\n",
       "</table>\n",
       "</div>"
      ],
      "text/plain": [
       "    Modelo Preprocesamientos   AUC-ROC  Accuracy  Precision    Recall  \\\n",
       "0    arbol             Todos  0.857910  0.841027   0.722659  0.469941   \n",
       "1      knn             Todos  0.870998  0.838565   0.770404  0.396857   \n",
       "2       nb             Todos  0.829405  0.826167   0.631603  0.535560   \n",
       "3  svm_lin             Todos  0.857328  0.838301   0.743785  0.423183   \n",
       "4  svm_pol             Todos  0.860728  0.838917   0.765846  0.403536   \n",
       "5  svm_rad             Todos  0.856471  0.838741   0.774094  0.394499   \n",
       "6       nn             Todos  0.872029  0.846742   0.715360  0.523379   \n",
       "7   rand_f             Todos  0.873621  0.845511   0.760582  0.451866   \n",
       "8    boost             Todos  0.883838  0.851490   0.737514  0.522200   \n",
       "\n",
       "   F1 score  \n",
       "0  0.569524  \n",
       "1  0.523859  \n",
       "2  0.579630  \n",
       "3  0.539444  \n",
       "4  0.528564  \n",
       "5  0.522644  \n",
       "6  0.604493  \n",
       "7  0.566921  \n",
       "8  0.611456  "
      ]
     },
     "execution_count": 26,
     "metadata": {},
     "output_type": "execute_result"
    }
   ],
   "source": [
    "for (name, model) in modelos:\n",
    "    pred = model.predict(df_feat)\n",
    "    prob = model.predict_proba(df_feat)\n",
    "    \n",
    "    roc_auc, acc, prec, rec, f1 = score2(df_targ, pred, prob[:,1])\n",
    "    \n",
    "    df = df.append(\n",
    "        {\n",
    "            \"Modelo\": name,\n",
    "            \"Preprocesamientos\":  \"Todos\",\n",
    "            \"AUC-ROC\":  roc_auc,\n",
    "            \"Accuracy\":  acc,\n",
    "            \"Precision\":  prec,\n",
    "            \"Recall\":  rec,\n",
    "            \"F1 score\":  f1,\n",
    "        },\n",
    "        ignore_index=True\n",
    "    )\n",
    "df"
   ]
  },
  {
   "cell_type": "markdown",
   "id": "a4bf6411-16d6-4ced-93a2-f5313f56ea3c",
   "metadata": {},
   "source": [
    "## Conclusion"
   ]
  },
  {
   "cell_type": "markdown",
   "id": "2db17a57-c1d5-4822-b071-5de86facfde0",
   "metadata": {},
   "source": [
    "(CONCLUSIÓN) Finalmente luego de poner las tablas TABLA 1 y TABLA 2, nos piden que lleguemos a una conclusión sobre qué modelo recomendamos y por qué y que lo comparemos con respecto al baseline que anteriormente implementamos. También quiere que agreguemos un pequeño análisis de qué modelo elegiríamos si se necesitase tener la menor cantidad de falsos positivos o si necesitan tener una lista de todos los días que potencialmente lloverán hamburguesas al día siguiente sin preocuparse demasiado si metemos en la misma días que realmente no llovieron hamburguesas al día siguiente."
   ]
  },
  {
   "cell_type": "markdown",
   "id": "1aaf9e70-51ba-4f24-a7cd-c0a11ae35227",
   "metadata": {},
   "source": [
    "**Modelo Recomendado:** Boosting, evaluando con el test-holdout es el que mejores metricas en todos los campos excepto  Precision"
   ]
  },
  {
   "cell_type": "markdown",
   "id": "6ac27504-9528-42db-bf13-e4fbf8188ebc",
   "metadata": {},
   "source": [
    "- qué modelo elegiríamos si se necesitase tener la menor cantidad de falsos positivos\n"
   ]
  },
  {
   "cell_type": "markdown",
   "id": "66478c56-0b1b-4f49-ac61-ccf4dc34b131",
   "metadata": {},
   "source": [
    "- qué modelo elegiríamos si se necesitase tener la menor cantidad de falsos positivos\n"
   ]
  },
  {
   "cell_type": "markdown",
   "id": "3d0d54d7-9a8c-44df-9972-5910d77fb140",
   "metadata": {},
   "source": [
    "- si necesitan tener una lista de todos los días que potencialmente lloverán hamburguesas al día siguiente sin preocuparse demasiado si metemos en la misma días que realmente no llovieron hamburguesas al día siguiente"
   ]
  },
  {
   "cell_type": "markdown",
   "id": "9fc8e1fb-5b3f-440f-bab1-1ec0fa1e1f6f",
   "metadata": {},
   "source": [
    "#### Comparacion con Base Line"
   ]
  },
  {
   "cell_type": "code",
   "execution_count": null,
   "id": "acd5cc90-ee0e-4364-808e-8d20b8702c8f",
   "metadata": {},
   "outputs": [],
   "source": []
  },
  {
   "cell_type": "markdown",
   "id": "7a4be8a6-8406-41d8-b297-afbcdb5afeba",
   "metadata": {},
   "source": [
    "## Predicciones"
   ]
  }
 ],
 "metadata": {
  "kernelspec": {
   "display_name": "Python 3 (ipykernel)",
   "language": "python",
   "name": "python3"
  },
  "language_info": {
   "codemirror_mode": {
    "name": "ipython",
    "version": 3
   },
   "file_extension": ".py",
   "mimetype": "text/x-python",
   "name": "python",
   "nbconvert_exporter": "python",
   "pygments_lexer": "ipython3",
   "version": "3.9.9"
  }
 },
 "nbformat": 4,
 "nbformat_minor": 5
}
