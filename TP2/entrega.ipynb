{
 "cells": [
  {
   "cell_type": "markdown",
   "id": "305e2aea-8552-432d-aca9-945a50182740",
   "metadata": {},
   "source": [
    "# Entrega"
   ]
  },
  {
   "cell_type": "markdown",
   "id": "32470318-92b3-4f95-a3a6-42fa6201114a",
   "metadata": {
    "tags": []
   },
   "source": [
    "## Preparacion"
   ]
  },
  {
   "cell_type": "markdown",
   "id": "2dc5738a-1cff-45c3-8c96-bfbdb1351f50",
   "metadata": {},
   "source": [
    "### Imports"
   ]
  },
  {
   "cell_type": "code",
   "execution_count": 1,
   "id": "beb361cf-9dee-4854-888f-1fc8d2f50b32",
   "metadata": {
    "execution": {
     "iopub.execute_input": "2021-12-29T23:30:00.253367Z",
     "iopub.status.busy": "2021-12-29T23:30:00.253061Z",
     "iopub.status.idle": "2021-12-29T23:30:01.350537Z",
     "shell.execute_reply": "2021-12-29T23:30:01.349867Z",
     "shell.execute_reply.started": "2021-12-29T23:30:00.253305Z"
    },
    "tags": []
   },
   "outputs": [],
   "source": [
    "import pandas as pd\n",
    "import numpy as np\n",
    "from matplotlib import pyplot as plt\n",
    "from joblib import dump, load"
   ]
  },
  {
   "cell_type": "code",
   "execution_count": 2,
   "id": "3cd0b092-c1a0-4f66-96ed-54d1532fac68",
   "metadata": {
    "execution": {
     "iopub.execute_input": "2021-12-29T23:30:01.351801Z",
     "iopub.status.busy": "2021-12-29T23:30:01.351540Z",
     "iopub.status.idle": "2021-12-29T23:30:03.096390Z",
     "shell.execute_reply": "2021-12-29T23:30:03.095694Z",
     "shell.execute_reply.started": "2021-12-29T23:30:01.351777Z"
    },
    "tags": []
   },
   "outputs": [
    {
     "name": "stdout",
     "output_type": "stream",
     "text": [
      "[###] Initial Preprocessings Done                           \n",
      "[###] Aditional Preprocessings Done                                                   \n"
     ]
    }
   ],
   "source": [
    "from preprocessing import reemplazarNulls,reemplazarCategoricas,reemplazarFechas,regularizar,targetBooleano\n",
    "from preprocessing import reemplazarCategoricas_OHE, keepFeat_OHE, reemplazarNullsNum\n",
    "from preprocessing import reemplazarCategoricas_HashTrick, normalizar_HashTrick"
   ]
  },
  {
   "cell_type": "code",
   "execution_count": 3,
   "id": "f526bcba-868d-4e14-97fb-44d67c46cd55",
   "metadata": {
    "execution": {
     "iopub.execute_input": "2021-12-29T23:30:03.099409Z",
     "iopub.status.busy": "2021-12-29T23:30:03.098949Z",
     "iopub.status.idle": "2021-12-29T23:30:03.500957Z",
     "shell.execute_reply": "2021-12-29T23:30:03.500264Z",
     "shell.execute_reply.started": "2021-12-29T23:30:03.099385Z"
    },
    "tags": []
   },
   "outputs": [],
   "source": [
    "from utilities import score2"
   ]
  },
  {
   "cell_type": "markdown",
   "id": "e4fbe660-9a08-46f1-86d8-d6516b3a7e9a",
   "metadata": {},
   "source": [
    "### Test Holdout"
   ]
  },
  {
   "cell_type": "code",
   "execution_count": 4,
   "id": "f1a75687-2d21-460e-84db-dddf9ac5dd25",
   "metadata": {
    "execution": {
     "iopub.execute_input": "2021-12-29T23:30:03.502320Z",
     "iopub.status.busy": "2021-12-29T23:30:03.501956Z",
     "iopub.status.idle": "2021-12-29T23:30:03.539952Z",
     "shell.execute_reply": "2021-12-29T23:30:03.539263Z",
     "shell.execute_reply.started": "2021-12-29T23:30:03.502283Z"
    },
    "tags": []
   },
   "outputs": [],
   "source": [
    "df_feat = pd.read_csv(\"datasets/holdout_features.csv\", low_memory=False).set_index('id')\n",
    "df_targ = pd.read_csv(\"datasets/holdout_target.csv\")"
   ]
  },
  {
   "cell_type": "markdown",
   "id": "50bd704c-d590-4bf7-aa29-9499de1bb141",
   "metadata": {},
   "source": [
    "## Preprocesamientos"
   ]
  },
  {
   "cell_type": "markdown",
   "id": "d015ecc5-1e79-43cd-97d2-c0ec98ed2f22",
   "metadata": {},
   "source": [
    "preprocesamiento | descripcion | funcion\n",
    ":--:|:--:|:--:\n",
    "convertir target a booleano | Convierte los 'si' y 'no' por True y False | `targetBooleano`\n",
    "reemplazar nulls de todas las features | Reemplaza los nulls de los features con un `simple imputer` | `reemplazarNulls`\n",
    "tratar missings numericos| Reemplaza missings por su media y una feature bool de missing |`reemplazarNullsNum`\n",
    "reemplazar categoricas de features | convierte las features categoricas en numericas | `reemplazarCategoricas`\n",
    "reemplazar fechas de features | convierte las features de fecha en numericas | `reemplazarFechas`\n",
    "regularizar features | Normaliza las features y elimina las menos significativas mediante lasso | `regularizar`\n",
    "escalar features | Luego de normalizar features pueden ser escaladas segun el peso asignado por lasso | `regularizar`\n",
    "One Hot | Reemplazar features categoricas con one hot encoding | `reemplazarCategoricas_OHE`\n",
    "Seleccion OHE | Selecciona los `N` features mas significativos | `keepFeat_OHE(N)`\n",
    "Hash Trick | Reemplazar features categoricas con hash trick | `reemplazarCategoricas_HashTrick`\n",
    "Normalizar HT | Normaliza las features resultantes de hash trick | `normalizar_HashTrick`"
   ]
  },
  {
   "cell_type": "markdown",
   "id": "bfbe11c6-f496-4326-b18c-9550ce59c464",
   "metadata": {},
   "source": [
    "identificacion | preprocesamientos\n",
    ":--:|:--:\n",
    "`Comun` | `targetBooleano` `reemplazarFechas`\n",
    "`BAS` | `Comun` `reemplazarNulls` `reemplazarCategoricas`\n",
    "`REG` | `BAS` `regularizar`\n",
    "`OHE` | `Comun` `reemplazarCategoricas_OHE`\n",
    "`OHE(N)` | `OHE` `keepFeat_OHE(N)`\n",
    "`HT` | `Comun` `reemplazarCategoricas_HashTrick`\n",
    "`HTN` | `HT` `normalizar_HashTrick`"
   ]
  },
  {
   "cell_type": "code",
   "execution_count": 5,
   "id": "10147b25-efcb-43e9-a6d7-274ff1baec58",
   "metadata": {
    "execution": {
     "iopub.execute_input": "2021-12-29T23:30:03.541854Z",
     "iopub.status.busy": "2021-12-29T23:30:03.541291Z",
     "iopub.status.idle": "2021-12-29T23:30:15.288596Z",
     "shell.execute_reply": "2021-12-29T23:30:15.287960Z",
     "shell.execute_reply.started": "2021-12-29T23:30:03.541805Z"
    },
    "tags": []
   },
   "outputs": [],
   "source": [
    "targetBooleano(df_targ, inplace=True)\n",
    "df_targ = df_targ.llovieron_hamburguesas_al_dia_siguiente\n",
    "\n",
    "ohe_feat = reemplazarCategoricas_OHE(df_feat)\n",
    "ht_feat = reemplazarCategoricas_HashTrick(df_feat)\n",
    "\n",
    "reemplazarNulls(df_feat , inplace=True)\n",
    "reemplazarCategoricas(df_feat , inplace=True)\n",
    "reemplazarFechas(df_feat , inplace=True)\n",
    "\n",
    "df_reg = regularizar(df_feat)\n",
    "\n",
    "reemplazarNullsNum(ohe_feat, inplace=True)\n",
    "reemplazarFechas(ohe_feat , inplace=True)\n",
    "ohe_feat2 = keepFeat_OHE(ohe_feat, 10)\n",
    "\n",
    "reemplazarFechas(ht_feat , inplace=True)\n",
    "reemplazarNullsNum(ht_feat, inplace=True)\n",
    "ht_feat2 = normalizar_HashTrick(ht_feat)"
   ]
  },
  {
   "cell_type": "markdown",
   "id": "ba9acbf4-fcd8-45b5-baeb-04680f0fd37a",
   "metadata": {},
   "source": [
    "## Comparacion con Test Holdout"
   ]
  },
  {
   "cell_type": "code",
   "execution_count": 6,
   "id": "bd4d7299-7e3b-4f11-97b6-16513a55a923",
   "metadata": {
    "execution": {
     "iopub.execute_input": "2021-12-29T23:30:15.290078Z",
     "iopub.status.busy": "2021-12-29T23:30:15.289622Z",
     "iopub.status.idle": "2021-12-29T23:30:15.295810Z",
     "shell.execute_reply": "2021-12-29T23:30:15.293568Z",
     "shell.execute_reply.started": "2021-12-29T23:30:15.290054Z"
    },
    "tags": []
   },
   "outputs": [],
   "source": [
    "predictions = pd.DataFrame()"
   ]
  },
  {
   "cell_type": "code",
   "execution_count": 7,
   "id": "3216ea4b-4b8b-4594-8e86-ba54b6bc8135",
   "metadata": {
    "execution": {
     "iopub.execute_input": "2021-12-29T23:30:15.297528Z",
     "iopub.status.busy": "2021-12-29T23:30:15.297308Z",
     "iopub.status.idle": "2021-12-29T23:30:15.301891Z",
     "shell.execute_reply": "2021-12-29T23:30:15.301239Z",
     "shell.execute_reply.started": "2021-12-29T23:30:15.297505Z"
    },
    "tags": []
   },
   "outputs": [],
   "source": [
    "def predict( model, name, preproc, feat ):\n",
    "    pred = model.predict(feat)\n",
    "    prob = model.predict_proba(feat)\n",
    "    return score2( name, preproc, df_targ, pred, prob[:,1] )"
   ]
  },
  {
   "cell_type": "markdown",
   "id": "fd24cffc-1efb-4c68-a78d-81010ba584a5",
   "metadata": {},
   "source": [
    "### Modelos"
   ]
  },
  {
   "cell_type": "markdown",
   "id": "72c59410-a7c3-40e9-aa0e-81145bcd92f0",
   "metadata": {},
   "source": [
    "#### Arbol"
   ]
  },
  {
   "cell_type": "code",
   "execution_count": 8,
   "id": "b52a7d27-5e61-4534-8ceb-f706f2f1c13c",
   "metadata": {
    "execution": {
     "iopub.execute_input": "2021-12-29T23:30:15.303548Z",
     "iopub.status.busy": "2021-12-29T23:30:15.303187Z",
     "iopub.status.idle": "2021-12-29T23:30:15.318505Z",
     "shell.execute_reply": "2021-12-29T23:30:15.317840Z",
     "shell.execute_reply.started": "2021-12-29T23:30:15.303514Z"
    },
    "tags": []
   },
   "outputs": [],
   "source": [
    "arbol = load('models/Tree/tree.sk')"
   ]
  },
  {
   "cell_type": "code",
   "execution_count": 9,
   "id": "279ee5b1-faef-4ea8-83ee-6133d8175933",
   "metadata": {
    "execution": {
     "iopub.execute_input": "2021-12-29T23:30:15.319898Z",
     "iopub.status.busy": "2021-12-29T23:30:15.319577Z",
     "iopub.status.idle": "2021-12-29T23:30:15.399234Z",
     "shell.execute_reply": "2021-12-29T23:30:15.398125Z",
     "shell.execute_reply.started": "2021-12-29T23:30:15.319875Z"
    },
    "tags": []
   },
   "outputs": [
    {
     "data": {
      "text/plain": [
       "0.8545815778158975"
      ]
     },
     "execution_count": 9,
     "metadata": {},
     "output_type": "execute_result"
    }
   ],
   "source": [
    "pdf = predict(arbol,\"Arbol\",\"BAS\",df_feat)\n",
    "predictions = predictions.append( pdf )\n",
    "pdf['AUC-ROC'][0]"
   ]
  },
  {
   "cell_type": "markdown",
   "id": "87dcb271-8e04-4adf-9c46-07cffd1b95cf",
   "metadata": {},
   "source": [
    "#### Knn"
   ]
  },
  {
   "cell_type": "code",
   "execution_count": 10,
   "id": "276b3c20-1d8c-4022-b94e-e7a5bd6cc159",
   "metadata": {
    "execution": {
     "iopub.execute_input": "2021-12-29T23:30:15.401083Z",
     "iopub.status.busy": "2021-12-29T23:30:15.400688Z",
     "iopub.status.idle": "2021-12-29T23:30:15.431670Z",
     "shell.execute_reply": "2021-12-29T23:30:15.430814Z",
     "shell.execute_reply.started": "2021-12-29T23:30:15.401057Z"
    },
    "tags": []
   },
   "outputs": [],
   "source": [
    "knn = load('models/KNN/knn.sk')"
   ]
  },
  {
   "cell_type": "code",
   "execution_count": 11,
   "id": "2c9a0160-c466-4f56-8ff8-0e9f878d6233",
   "metadata": {
    "execution": {
     "iopub.execute_input": "2021-12-29T23:30:15.433109Z",
     "iopub.status.busy": "2021-12-29T23:30:15.432816Z",
     "iopub.status.idle": "2021-12-29T23:30:35.811319Z",
     "shell.execute_reply": "2021-12-29T23:30:35.810685Z",
     "shell.execute_reply.started": "2021-12-29T23:30:15.433073Z"
    },
    "tags": []
   },
   "outputs": [
    {
     "data": {
      "text/plain": [
       "0.8731459243361229"
      ]
     },
     "execution_count": 11,
     "metadata": {},
     "output_type": "execute_result"
    }
   ],
   "source": [
    "pdf = predict(knn,\"KNN\",\"REG\",df_reg)\n",
    "predictions = predictions.append( pdf )\n",
    "pdf['AUC-ROC'][0]"
   ]
  },
  {
   "cell_type": "markdown",
   "id": "86948128-e163-4818-93d2-1d3749cccf9d",
   "metadata": {},
   "source": [
    "#### Naive Bayes"
   ]
  },
  {
   "cell_type": "code",
   "execution_count": 12,
   "id": "b71c0916-bc9d-47df-9f00-536c20153dd5",
   "metadata": {
    "execution": {
     "iopub.execute_input": "2021-12-29T23:30:35.815764Z",
     "iopub.status.busy": "2021-12-29T23:30:35.815512Z",
     "iopub.status.idle": "2021-12-29T23:30:35.821554Z",
     "shell.execute_reply": "2021-12-29T23:30:35.820983Z",
     "shell.execute_reply.started": "2021-12-29T23:30:35.815739Z"
    },
    "tags": []
   },
   "outputs": [],
   "source": [
    "nb = load('models/NB/nb.sk')"
   ]
  },
  {
   "cell_type": "code",
   "execution_count": 13,
   "id": "648bb33a-2ca8-4f00-a215-06ae91212263",
   "metadata": {
    "execution": {
     "iopub.execute_input": "2021-12-29T23:30:35.822582Z",
     "iopub.status.busy": "2021-12-29T23:30:35.822293Z",
     "iopub.status.idle": "2021-12-29T23:30:35.873823Z",
     "shell.execute_reply": "2021-12-29T23:30:35.873047Z",
     "shell.execute_reply.started": "2021-12-29T23:30:35.822558Z"
    },
    "tags": []
   },
   "outputs": [
    {
     "data": {
      "text/plain": [
       "0.8294019163885583"
      ]
     },
     "execution_count": 13,
     "metadata": {},
     "output_type": "execute_result"
    }
   ],
   "source": [
    "pdf = predict(nb,\"Naive Bayes\",\"REG\",df_reg)\n",
    "predictions = predictions.append( pdf )\n",
    "pdf['AUC-ROC'][0]"
   ]
  },
  {
   "cell_type": "markdown",
   "id": "6322c6fa-e325-40f2-9d15-2c359cf82f06",
   "metadata": {},
   "source": [
    "#### SVM (Poly)"
   ]
  },
  {
   "cell_type": "code",
   "execution_count": 14,
   "id": "e3bc9c01-b36d-40f5-8654-71618ed9e54a",
   "metadata": {
    "execution": {
     "iopub.execute_input": "2021-12-29T23:30:35.875116Z",
     "iopub.status.busy": "2021-12-29T23:30:35.874798Z",
     "iopub.status.idle": "2021-12-29T23:30:35.929927Z",
     "shell.execute_reply": "2021-12-29T23:30:35.928978Z",
     "shell.execute_reply.started": "2021-12-29T23:30:35.875093Z"
    },
    "tags": []
   },
   "outputs": [],
   "source": [
    "svm = load('models/SVM/svm.sk')"
   ]
  },
  {
   "cell_type": "code",
   "execution_count": 15,
   "id": "8fbe764e-68e3-478d-bdc3-05f3508cef45",
   "metadata": {
    "execution": {
     "iopub.execute_input": "2021-12-29T23:30:35.931249Z",
     "iopub.status.busy": "2021-12-29T23:30:35.930909Z",
     "iopub.status.idle": "2021-12-29T23:31:26.054273Z",
     "shell.execute_reply": "2021-12-29T23:31:26.053740Z",
     "shell.execute_reply.started": "2021-12-29T23:30:35.931225Z"
    },
    "tags": []
   },
   "outputs": [
    {
     "data": {
      "text/plain": [
       "0.8743984357683136"
      ]
     },
     "execution_count": 15,
     "metadata": {},
     "output_type": "execute_result"
    }
   ],
   "source": [
    "pdf = predict(svm,\"SVM (Poly)\",\"OHE\",ohe_feat)\n",
    "predictions = predictions.append( pdf )\n",
    "pdf['AUC-ROC'][0]"
   ]
  },
  {
   "cell_type": "markdown",
   "id": "4b36829d-8448-4325-8abd-2d04aaa573e8",
   "metadata": {},
   "source": [
    "#### Red Neuronal"
   ]
  },
  {
   "cell_type": "code",
   "execution_count": 16,
   "id": "6419cd23-4162-4420-97f8-02cf70057882",
   "metadata": {
    "execution": {
     "iopub.execute_input": "2021-12-29T23:31:26.055578Z",
     "iopub.status.busy": "2021-12-29T23:31:26.055306Z",
     "iopub.status.idle": "2021-12-29T23:31:26.066736Z",
     "shell.execute_reply": "2021-12-29T23:31:26.065605Z",
     "shell.execute_reply.started": "2021-12-29T23:31:26.055554Z"
    },
    "tags": []
   },
   "outputs": [],
   "source": [
    "nn = load('models/NN/nn.sk')"
   ]
  },
  {
   "cell_type": "code",
   "execution_count": 17,
   "id": "b066407b-d136-495e-94f8-ebe6edbf5594",
   "metadata": {
    "execution": {
     "iopub.execute_input": "2021-12-29T23:31:26.068704Z",
     "iopub.status.busy": "2021-12-29T23:31:26.067933Z",
     "iopub.status.idle": "2021-12-29T23:31:26.158083Z",
     "shell.execute_reply": "2021-12-29T23:31:26.157088Z",
     "shell.execute_reply.started": "2021-12-29T23:31:26.068664Z"
    },
    "tags": []
   },
   "outputs": [
    {
     "data": {
      "text/plain": [
       "0.8779010880721546"
      ]
     },
     "execution_count": 17,
     "metadata": {},
     "output_type": "execute_result"
    }
   ],
   "source": [
    "pdf = predict(nn,\"Red Neuronal\",\"HTN\",ht_feat2)\n",
    "predictions = predictions.append( pdf )\n",
    "pdf['AUC-ROC'][0]"
   ]
  },
  {
   "cell_type": "markdown",
   "id": "1fdcec5f-5810-46ee-90d8-7b2878f6b022",
   "metadata": {},
   "source": [
    "#### Random Forest"
   ]
  },
  {
   "cell_type": "code",
   "execution_count": 18,
   "id": "a3e8f48e-ca6f-439f-8eba-713be4856427",
   "metadata": {
    "execution": {
     "iopub.execute_input": "2021-12-29T23:31:26.159810Z",
     "iopub.status.busy": "2021-12-29T23:31:26.159347Z",
     "iopub.status.idle": "2021-12-29T23:31:26.385987Z",
     "shell.execute_reply": "2021-12-29T23:31:26.385267Z",
     "shell.execute_reply.started": "2021-12-29T23:31:26.159766Z"
    },
    "tags": []
   },
   "outputs": [],
   "source": [
    "random_forest = load('models/Ensambles/random_forest.sk')"
   ]
  },
  {
   "cell_type": "code",
   "execution_count": 19,
   "id": "91ad8018-d4f7-43cf-950a-6a71b6651b66",
   "metadata": {
    "execution": {
     "iopub.execute_input": "2021-12-29T23:31:26.387578Z",
     "iopub.status.busy": "2021-12-29T23:31:26.387171Z",
     "iopub.status.idle": "2021-12-29T23:31:27.505861Z",
     "shell.execute_reply": "2021-12-29T23:31:27.505199Z",
     "shell.execute_reply.started": "2021-12-29T23:31:26.387553Z"
    },
    "tags": []
   },
   "outputs": [
    {
     "data": {
      "text/plain": [
       "0.8733757476434599"
      ]
     },
     "execution_count": 19,
     "metadata": {},
     "output_type": "execute_result"
    }
   ],
   "source": [
    "pdf = predict(random_forest,\"Random Forest\",\"BAS\",df_feat)\n",
    "predictions = predictions.append( pdf )\n",
    "pdf['AUC-ROC'][0]"
   ]
  },
  {
   "cell_type": "markdown",
   "id": "9add2bee-ef6f-467f-9cdb-965f3631fa36",
   "metadata": {},
   "source": [
    "#### Boosting"
   ]
  },
  {
   "cell_type": "code",
   "execution_count": 20,
   "id": "7ac795f6-2d5b-4fdf-9794-3e53dcd2cf1f",
   "metadata": {
    "execution": {
     "iopub.execute_input": "2021-12-29T23:31:27.507643Z",
     "iopub.status.busy": "2021-12-29T23:31:27.507130Z",
     "iopub.status.idle": "2021-12-29T23:31:27.574480Z",
     "shell.execute_reply": "2021-12-29T23:31:27.573830Z",
     "shell.execute_reply.started": "2021-12-29T23:31:27.507601Z"
    },
    "tags": []
   },
   "outputs": [],
   "source": [
    "boost = load('models/Ensambles/boost.sk')"
   ]
  },
  {
   "cell_type": "code",
   "execution_count": 21,
   "id": "8af0448b-825e-475e-b2e0-60bb966dd3e3",
   "metadata": {
    "execution": {
     "iopub.execute_input": "2021-12-29T23:31:27.575647Z",
     "iopub.status.busy": "2021-12-29T23:31:27.575383Z",
     "iopub.status.idle": "2021-12-29T23:31:28.228772Z",
     "shell.execute_reply": "2021-12-29T23:31:28.228156Z",
     "shell.execute_reply.started": "2021-12-29T23:31:27.575623Z"
    },
    "tags": []
   },
   "outputs": [
    {
     "data": {
      "text/plain": [
       "0.9032807293813307"
      ]
     },
     "execution_count": 21,
     "metadata": {},
     "output_type": "execute_result"
    }
   ],
   "source": [
    "pdf = predict(boost,\"BOOST\",\"OHE\",ohe_feat)\n",
    "predictions = predictions.append( pdf )\n",
    "pdf['AUC-ROC'][0]"
   ]
  },
  {
   "cell_type": "markdown",
   "id": "cecce098-37a3-4cf4-b8ba-b578cf1fdb2d",
   "metadata": {},
   "source": [
    "## Resultados"
   ]
  },
  {
   "cell_type": "code",
   "execution_count": 22,
   "id": "2708938f-08d3-42bf-83eb-c320945d2f02",
   "metadata": {
    "execution": {
     "iopub.execute_input": "2021-12-29T23:31:28.229636Z",
     "iopub.status.busy": "2021-12-29T23:31:28.229501Z",
     "iopub.status.idle": "2021-12-29T23:31:28.245585Z",
     "shell.execute_reply": "2021-12-29T23:31:28.244568Z",
     "shell.execute_reply.started": "2021-12-29T23:31:28.229617Z"
    },
    "tags": []
   },
   "outputs": [
    {
     "data": {
      "text/html": [
       "<div>\n",
       "<style scoped>\n",
       "    .dataframe tbody tr th:only-of-type {\n",
       "        vertical-align: middle;\n",
       "    }\n",
       "\n",
       "    .dataframe tbody tr th {\n",
       "        vertical-align: top;\n",
       "    }\n",
       "\n",
       "    .dataframe thead th {\n",
       "        text-align: right;\n",
       "    }\n",
       "</style>\n",
       "<table border=\"1\" class=\"dataframe\">\n",
       "  <thead>\n",
       "    <tr style=\"text-align: right;\">\n",
       "      <th></th>\n",
       "      <th>Modelo</th>\n",
       "      <th>Preprocesamientos</th>\n",
       "      <th>Clase</th>\n",
       "      <th>AUC-ROC</th>\n",
       "      <th>Accuracy</th>\n",
       "      <th>Precision</th>\n",
       "      <th>Recall</th>\n",
       "      <th>F1 score</th>\n",
       "      <th>Support</th>\n",
       "    </tr>\n",
       "  </thead>\n",
       "  <tbody>\n",
       "    <tr>\n",
       "      <th>0</th>\n",
       "      <td>Arbol</td>\n",
       "      <td>BAS</td>\n",
       "      <td>AVG</td>\n",
       "      <td>0.854582</td>\n",
       "      <td>0.840587</td>\n",
       "      <td>0.829657</td>\n",
       "      <td>0.840587</td>\n",
       "      <td>0.828618</td>\n",
       "      <td>11373</td>\n",
       "    </tr>\n",
       "    <tr>\n",
       "      <th>1</th>\n",
       "      <td>Arbol</td>\n",
       "      <td>BAS</td>\n",
       "      <td>True</td>\n",
       "      <td>NaN</td>\n",
       "      <td>NaN</td>\n",
       "      <td>0.713536</td>\n",
       "      <td>0.480550</td>\n",
       "      <td>0.574313</td>\n",
       "      <td>2545</td>\n",
       "    </tr>\n",
       "    <tr>\n",
       "      <th>2</th>\n",
       "      <td>Arbol</td>\n",
       "      <td>BAS</td>\n",
       "      <td>False</td>\n",
       "      <td>NaN</td>\n",
       "      <td>NaN</td>\n",
       "      <td>0.863133</td>\n",
       "      <td>0.944382</td>\n",
       "      <td>0.901931</td>\n",
       "      <td>8828</td>\n",
       "    </tr>\n",
       "    <tr>\n",
       "      <th>0</th>\n",
       "      <td>KNN</td>\n",
       "      <td>REG</td>\n",
       "      <td>AVG</td>\n",
       "      <td>0.873146</td>\n",
       "      <td>0.842786</td>\n",
       "      <td>0.833702</td>\n",
       "      <td>0.842786</td>\n",
       "      <td>0.825936</td>\n",
       "      <td>11373</td>\n",
       "    </tr>\n",
       "    <tr>\n",
       "      <th>1</th>\n",
       "      <td>KNN</td>\n",
       "      <td>REG</td>\n",
       "      <td>True</td>\n",
       "      <td>NaN</td>\n",
       "      <td>NaN</td>\n",
       "      <td>0.760137</td>\n",
       "      <td>0.434578</td>\n",
       "      <td>0.553000</td>\n",
       "      <td>2545</td>\n",
       "    </tr>\n",
       "    <tr>\n",
       "      <th>2</th>\n",
       "      <td>KNN</td>\n",
       "      <td>REG</td>\n",
       "      <td>False</td>\n",
       "      <td>NaN</td>\n",
       "      <td>NaN</td>\n",
       "      <td>0.854910</td>\n",
       "      <td>0.960467</td>\n",
       "      <td>0.904620</td>\n",
       "      <td>8828</td>\n",
       "    </tr>\n",
       "    <tr>\n",
       "      <th>0</th>\n",
       "      <td>Naive Bayes</td>\n",
       "      <td>REG</td>\n",
       "      <td>AVG</td>\n",
       "      <td>0.829402</td>\n",
       "      <td>0.825991</td>\n",
       "      <td>0.817808</td>\n",
       "      <td>0.825991</td>\n",
       "      <td>0.820698</td>\n",
       "      <td>11373</td>\n",
       "    </tr>\n",
       "    <tr>\n",
       "      <th>1</th>\n",
       "      <td>Naive Bayes</td>\n",
       "      <td>REG</td>\n",
       "      <td>True</td>\n",
       "      <td>NaN</td>\n",
       "      <td>NaN</td>\n",
       "      <td>0.631140</td>\n",
       "      <td>0.535167</td>\n",
       "      <td>0.579205</td>\n",
       "      <td>2545</td>\n",
       "    </tr>\n",
       "    <tr>\n",
       "      <th>2</th>\n",
       "      <td>Naive Bayes</td>\n",
       "      <td>REG</td>\n",
       "      <td>False</td>\n",
       "      <td>NaN</td>\n",
       "      <td>NaN</td>\n",
       "      <td>0.871622</td>\n",
       "      <td>0.909832</td>\n",
       "      <td>0.890318</td>\n",
       "      <td>8828</td>\n",
       "    </tr>\n",
       "    <tr>\n",
       "      <th>0</th>\n",
       "      <td>SVM (Poly)</td>\n",
       "      <td>OHE</td>\n",
       "      <td>AVG</td>\n",
       "      <td>0.874398</td>\n",
       "      <td>0.849028</td>\n",
       "      <td>0.840390</td>\n",
       "      <td>0.849028</td>\n",
       "      <td>0.835431</td>\n",
       "      <td>11373</td>\n",
       "    </tr>\n",
       "    <tr>\n",
       "      <th>1</th>\n",
       "      <td>SVM (Poly)</td>\n",
       "      <td>OHE</td>\n",
       "      <td>True</td>\n",
       "      <td>NaN</td>\n",
       "      <td>NaN</td>\n",
       "      <td>0.760705</td>\n",
       "      <td>0.474656</td>\n",
       "      <td>0.584563</td>\n",
       "      <td>2545</td>\n",
       "    </tr>\n",
       "    <tr>\n",
       "      <th>2</th>\n",
       "      <td>SVM (Poly)</td>\n",
       "      <td>OHE</td>\n",
       "      <td>False</td>\n",
       "      <td>NaN</td>\n",
       "      <td>NaN</td>\n",
       "      <td>0.863362</td>\n",
       "      <td>0.956955</td>\n",
       "      <td>0.907753</td>\n",
       "      <td>8828</td>\n",
       "    </tr>\n",
       "    <tr>\n",
       "      <th>0</th>\n",
       "      <td>Red Neuronal</td>\n",
       "      <td>HTN</td>\n",
       "      <td>AVG</td>\n",
       "      <td>0.877901</td>\n",
       "      <td>0.847622</td>\n",
       "      <td>0.838106</td>\n",
       "      <td>0.847622</td>\n",
       "      <td>0.836041</td>\n",
       "      <td>11373</td>\n",
       "    </tr>\n",
       "    <tr>\n",
       "      <th>1</th>\n",
       "      <td>Red Neuronal</td>\n",
       "      <td>HTN</td>\n",
       "      <td>True</td>\n",
       "      <td>NaN</td>\n",
       "      <td>NaN</td>\n",
       "      <td>0.737984</td>\n",
       "      <td>0.494695</td>\n",
       "      <td>0.592331</td>\n",
       "      <td>2545</td>\n",
       "    </tr>\n",
       "    <tr>\n",
       "      <th>2</th>\n",
       "      <td>Red Neuronal</td>\n",
       "      <td>HTN</td>\n",
       "      <td>False</td>\n",
       "      <td>NaN</td>\n",
       "      <td>NaN</td>\n",
       "      <td>0.866970</td>\n",
       "      <td>0.949366</td>\n",
       "      <td>0.906299</td>\n",
       "      <td>8828</td>\n",
       "    </tr>\n",
       "    <tr>\n",
       "      <th>0</th>\n",
       "      <td>Random Forest</td>\n",
       "      <td>BAS</td>\n",
       "      <td>AVG</td>\n",
       "      <td>0.873376</td>\n",
       "      <td>0.844896</td>\n",
       "      <td>0.836653</td>\n",
       "      <td>0.844896</td>\n",
       "      <td>0.828022</td>\n",
       "      <td>11373</td>\n",
       "    </tr>\n",
       "    <tr>\n",
       "      <th>1</th>\n",
       "      <td>Random Forest</td>\n",
       "      <td>BAS</td>\n",
       "      <td>True</td>\n",
       "      <td>NaN</td>\n",
       "      <td>NaN</td>\n",
       "      <td>0.770617</td>\n",
       "      <td>0.436935</td>\n",
       "      <td>0.557673</td>\n",
       "      <td>2545</td>\n",
       "    </tr>\n",
       "    <tr>\n",
       "      <th>2</th>\n",
       "      <td>Random Forest</td>\n",
       "      <td>BAS</td>\n",
       "      <td>False</td>\n",
       "      <td>NaN</td>\n",
       "      <td>NaN</td>\n",
       "      <td>0.855690</td>\n",
       "      <td>0.962506</td>\n",
       "      <td>0.905960</td>\n",
       "      <td>8828</td>\n",
       "    </tr>\n",
       "    <tr>\n",
       "      <th>0</th>\n",
       "      <td>BOOST</td>\n",
       "      <td>OHE</td>\n",
       "      <td>AVG</td>\n",
       "      <td>0.903281</td>\n",
       "      <td>0.867405</td>\n",
       "      <td>0.860987</td>\n",
       "      <td>0.867405</td>\n",
       "      <td>0.859862</td>\n",
       "      <td>11373</td>\n",
       "    </tr>\n",
       "    <tr>\n",
       "      <th>1</th>\n",
       "      <td>BOOST</td>\n",
       "      <td>OHE</td>\n",
       "      <td>True</td>\n",
       "      <td>NaN</td>\n",
       "      <td>NaN</td>\n",
       "      <td>0.775651</td>\n",
       "      <td>0.573281</td>\n",
       "      <td>0.659286</td>\n",
       "      <td>2545</td>\n",
       "    </tr>\n",
       "    <tr>\n",
       "      <th>2</th>\n",
       "      <td>BOOST</td>\n",
       "      <td>OHE</td>\n",
       "      <td>False</td>\n",
       "      <td>NaN</td>\n",
       "      <td>NaN</td>\n",
       "      <td>0.885588</td>\n",
       "      <td>0.952198</td>\n",
       "      <td>0.917686</td>\n",
       "      <td>8828</td>\n",
       "    </tr>\n",
       "  </tbody>\n",
       "</table>\n",
       "</div>"
      ],
      "text/plain": [
       "          Modelo Preprocesamientos  Clase   AUC-ROC  Accuracy  Precision  \\\n",
       "0          Arbol               BAS    AVG  0.854582  0.840587   0.829657   \n",
       "1          Arbol               BAS   True       NaN       NaN   0.713536   \n",
       "2          Arbol               BAS  False       NaN       NaN   0.863133   \n",
       "0            KNN               REG    AVG  0.873146  0.842786   0.833702   \n",
       "1            KNN               REG   True       NaN       NaN   0.760137   \n",
       "2            KNN               REG  False       NaN       NaN   0.854910   \n",
       "0    Naive Bayes               REG    AVG  0.829402  0.825991   0.817808   \n",
       "1    Naive Bayes               REG   True       NaN       NaN   0.631140   \n",
       "2    Naive Bayes               REG  False       NaN       NaN   0.871622   \n",
       "0     SVM (Poly)               OHE    AVG  0.874398  0.849028   0.840390   \n",
       "1     SVM (Poly)               OHE   True       NaN       NaN   0.760705   \n",
       "2     SVM (Poly)               OHE  False       NaN       NaN   0.863362   \n",
       "0   Red Neuronal               HTN    AVG  0.877901  0.847622   0.838106   \n",
       "1   Red Neuronal               HTN   True       NaN       NaN   0.737984   \n",
       "2   Red Neuronal               HTN  False       NaN       NaN   0.866970   \n",
       "0  Random Forest               BAS    AVG  0.873376  0.844896   0.836653   \n",
       "1  Random Forest               BAS   True       NaN       NaN   0.770617   \n",
       "2  Random Forest               BAS  False       NaN       NaN   0.855690   \n",
       "0          BOOST               OHE    AVG  0.903281  0.867405   0.860987   \n",
       "1          BOOST               OHE   True       NaN       NaN   0.775651   \n",
       "2          BOOST               OHE  False       NaN       NaN   0.885588   \n",
       "\n",
       "     Recall  F1 score Support  \n",
       "0  0.840587  0.828618   11373  \n",
       "1  0.480550  0.574313    2545  \n",
       "2  0.944382  0.901931    8828  \n",
       "0  0.842786  0.825936   11373  \n",
       "1  0.434578  0.553000    2545  \n",
       "2  0.960467  0.904620    8828  \n",
       "0  0.825991  0.820698   11373  \n",
       "1  0.535167  0.579205    2545  \n",
       "2  0.909832  0.890318    8828  \n",
       "0  0.849028  0.835431   11373  \n",
       "1  0.474656  0.584563    2545  \n",
       "2  0.956955  0.907753    8828  \n",
       "0  0.847622  0.836041   11373  \n",
       "1  0.494695  0.592331    2545  \n",
       "2  0.949366  0.906299    8828  \n",
       "0  0.844896  0.828022   11373  \n",
       "1  0.436935  0.557673    2545  \n",
       "2  0.962506  0.905960    8828  \n",
       "0  0.867405  0.859862   11373  \n",
       "1  0.573281  0.659286    2545  \n",
       "2  0.952198  0.917686    8828  "
      ]
     },
     "execution_count": 22,
     "metadata": {},
     "output_type": "execute_result"
    }
   ],
   "source": [
    "predictions"
   ]
  },
  {
   "cell_type": "markdown",
   "id": "a4bf6411-16d6-4ced-93a2-f5313f56ea3c",
   "metadata": {},
   "source": [
    "## Conclusion"
   ]
  },
  {
   "cell_type": "markdown",
   "id": "1aaf9e70-51ba-4f24-a7cd-c0a11ae35227",
   "metadata": {},
   "source": [
    "**Modelo Recomendado:** Boosting, evaluando con el test-holdout es el que mejores metricas en todos los campos excepto  Precision"
   ]
  },
  {
   "cell_type": "markdown",
   "id": "66478c56-0b1b-4f49-ac61-ccf4dc34b131",
   "metadata": {},
   "source": [
    "- qué modelo elegiríamos si se necesitase tener la menor cantidad de falsos positivos\n",
    "\n",
    "> Ninguno, los modelos fueron entrenados para optimizar AUR-ROC, si quisiera minimizar la cantidad de FP entrenaria para optimizar la Presicion.\n",
    ">\n",
    "> De los modelos entrenados, el de mayor Precision en el test-holdout fue knn. "
   ]
  },
  {
   "cell_type": "markdown",
   "id": "3d0d54d7-9a8c-44df-9972-5910d77fb140",
   "metadata": {},
   "source": [
    "- si necesitan tener una lista de todos los días que potencialmente lloverán hamburguesas al día siguiente sin preocuparse demasiado si metemos en la misma días que realmente no llovieron hamburguesas al día siguiente\n",
    "\n",
    "> Ninguno, los modelos fueron entrenados para optimizar AUR-ROC, si quisiera minimizar la cantidad de FN entrenaria para optimizar el Recall.\n",
    ">\n",
    "> De los modelos entrenados, el de mayor Recall en el test-holdout fue Naive Bayes, que es bastante bajo. "
   ]
  },
  {
   "cell_type": "markdown",
   "id": "9fc8e1fb-5b3f-440f-bab1-1ec0fa1e1f6f",
   "metadata": {},
   "source": [
    "#### Comparacion con Base Line"
   ]
  },
  {
   "cell_type": "code",
   "execution_count": 23,
   "id": "6685c954-d985-459b-95d7-dfb3292a95ee",
   "metadata": {
    "execution": {
     "iopub.execute_input": "2021-12-29T23:31:28.247407Z",
     "iopub.status.busy": "2021-12-29T23:31:28.246873Z",
     "iopub.status.idle": "2021-12-29T23:31:28.551825Z",
     "shell.execute_reply": "2021-12-29T23:31:28.550644Z",
     "shell.execute_reply.started": "2021-12-29T23:31:28.247376Z"
    }
   },
   "outputs": [
    {
     "name": "stderr",
     "output_type": "stream",
     "text": [
      "/Users/nicozulaica/Documents/FIUBA/orga/venv/lib/python3.9/site-packages/sklearn/base.py:488: FutureWarning: The feature names should match those that were passed during fit. Starting version 1.2, an error will be raised.\n",
      "Feature names unseen at fit time:\n",
      "- id\n",
      "Feature names must be in the same order as they were in fit.\n",
      "\n",
      "  warnings.warn(message, FutureWarning)\n"
     ]
    },
    {
     "ename": "ValueError",
     "evalue": "X has 23 features, but SimpleImputer is expecting 22 features as input.",
     "output_type": "error",
     "traceback": [
      "\u001b[0;31m---------------------------------------------------------------------------\u001b[0m",
      "\u001b[0;31mValueError\u001b[0m                                Traceback (most recent call last)",
      "\u001b[0;32m/var/folders/q6/fq53dz9d1mng1jcw7yq9t8j40000gq/T/ipykernel_95731/3762317483.py\u001b[0m in \u001b[0;36m<module>\u001b[0;34m\u001b[0m\n\u001b[1;32m      1\u001b[0m \u001b[0mdf_feat_base\u001b[0m \u001b[0;34m=\u001b[0m \u001b[0mpd\u001b[0m\u001b[0;34m.\u001b[0m\u001b[0mread_csv\u001b[0m\u001b[0;34m(\u001b[0m\u001b[0;34m\"datasets/holdout_features.csv\"\u001b[0m\u001b[0;34m,\u001b[0m \u001b[0mlow_memory\u001b[0m\u001b[0;34m=\u001b[0m\u001b[0;32mFalse\u001b[0m\u001b[0;34m)\u001b[0m\u001b[0;34m\u001b[0m\u001b[0;34m\u001b[0m\u001b[0m\n\u001b[0;32m----> 2\u001b[0;31m \u001b[0mreemplazarNulls\u001b[0m\u001b[0;34m(\u001b[0m\u001b[0mdf_feat_base\u001b[0m \u001b[0;34m,\u001b[0m \u001b[0minplace\u001b[0m\u001b[0;34m=\u001b[0m\u001b[0;32mTrue\u001b[0m\u001b[0;34m)\u001b[0m\u001b[0;34m\u001b[0m\u001b[0;34m\u001b[0m\u001b[0m\n\u001b[0m",
      "\u001b[0;32m~/Documents/FIUBA/orga/TP2/preprocessing.py\u001b[0m in \u001b[0;36mreemplazarNulls\u001b[0;34m(feat, inplace)\u001b[0m\n\u001b[1;32m     66\u001b[0m     \u001b[0;32mif\u001b[0m\u001b[0;34m(\u001b[0m \u001b[0;32mnot\u001b[0m \u001b[0minplace\u001b[0m \u001b[0;34m)\u001b[0m\u001b[0;34m:\u001b[0m\u001b[0;34m\u001b[0m\u001b[0;34m\u001b[0m\u001b[0m\n\u001b[1;32m     67\u001b[0m         \u001b[0m_feat\u001b[0m \u001b[0;34m=\u001b[0m \u001b[0mfeat\u001b[0m\u001b[0;34m.\u001b[0m\u001b[0mcopy\u001b[0m\u001b[0;34m(\u001b[0m\u001b[0;34m)\u001b[0m\u001b[0;34m\u001b[0m\u001b[0;34m\u001b[0m\u001b[0m\n\u001b[0;32m---> 68\u001b[0;31m     \u001b[0m_feat\u001b[0m\u001b[0;34m[\u001b[0m\u001b[0;34m:\u001b[0m\u001b[0;34m]\u001b[0m \u001b[0;34m=\u001b[0m \u001b[0mimputer\u001b[0m\u001b[0;34m.\u001b[0m\u001b[0mtransform\u001b[0m\u001b[0;34m(\u001b[0m\u001b[0m_feat\u001b[0m\u001b[0;34m)\u001b[0m\u001b[0;34m\u001b[0m\u001b[0;34m\u001b[0m\u001b[0m\n\u001b[0m\u001b[1;32m     69\u001b[0m     \u001b[0;32mreturn\u001b[0m \u001b[0m_feat\u001b[0m\u001b[0;34m\u001b[0m\u001b[0;34m\u001b[0m\u001b[0m\n\u001b[1;32m     70\u001b[0m \u001b[0;34m\u001b[0m\u001b[0m\n",
      "\u001b[0;32m~/Documents/FIUBA/orga/venv/lib/python3.9/site-packages/sklearn/impute/_base.py\u001b[0m in \u001b[0;36mtransform\u001b[0;34m(self, X)\u001b[0m\n\u001b[1;32m    468\u001b[0m         \u001b[0mcheck_is_fitted\u001b[0m\u001b[0;34m(\u001b[0m\u001b[0mself\u001b[0m\u001b[0;34m)\u001b[0m\u001b[0;34m\u001b[0m\u001b[0;34m\u001b[0m\u001b[0m\n\u001b[1;32m    469\u001b[0m \u001b[0;34m\u001b[0m\u001b[0m\n\u001b[0;32m--> 470\u001b[0;31m         \u001b[0mX\u001b[0m \u001b[0;34m=\u001b[0m \u001b[0mself\u001b[0m\u001b[0;34m.\u001b[0m\u001b[0m_validate_input\u001b[0m\u001b[0;34m(\u001b[0m\u001b[0mX\u001b[0m\u001b[0;34m,\u001b[0m \u001b[0min_fit\u001b[0m\u001b[0;34m=\u001b[0m\u001b[0;32mFalse\u001b[0m\u001b[0;34m)\u001b[0m\u001b[0;34m\u001b[0m\u001b[0;34m\u001b[0m\u001b[0m\n\u001b[0m\u001b[1;32m    471\u001b[0m         \u001b[0mstatistics\u001b[0m \u001b[0;34m=\u001b[0m \u001b[0mself\u001b[0m\u001b[0;34m.\u001b[0m\u001b[0mstatistics_\u001b[0m\u001b[0;34m\u001b[0m\u001b[0;34m\u001b[0m\u001b[0m\n\u001b[1;32m    472\u001b[0m \u001b[0;34m\u001b[0m\u001b[0m\n",
      "\u001b[0;32m~/Documents/FIUBA/orga/venv/lib/python3.9/site-packages/sklearn/impute/_base.py\u001b[0m in \u001b[0;36m_validate_input\u001b[0;34m(self, X, in_fit)\u001b[0m\n\u001b[1;32m    285\u001b[0m                 \u001b[0;32mraise\u001b[0m \u001b[0mnew_ve\u001b[0m \u001b[0;32mfrom\u001b[0m \u001b[0;32mNone\u001b[0m\u001b[0;34m\u001b[0m\u001b[0;34m\u001b[0m\u001b[0m\n\u001b[1;32m    286\u001b[0m             \u001b[0;32melse\u001b[0m\u001b[0;34m:\u001b[0m\u001b[0;34m\u001b[0m\u001b[0;34m\u001b[0m\u001b[0m\n\u001b[0;32m--> 287\u001b[0;31m                 \u001b[0;32mraise\u001b[0m \u001b[0mve\u001b[0m\u001b[0;34m\u001b[0m\u001b[0;34m\u001b[0m\u001b[0m\n\u001b[0m\u001b[1;32m    288\u001b[0m \u001b[0;34m\u001b[0m\u001b[0m\n\u001b[1;32m    289\u001b[0m         \u001b[0m_check_inputs_dtype\u001b[0m\u001b[0;34m(\u001b[0m\u001b[0mX\u001b[0m\u001b[0;34m,\u001b[0m \u001b[0mself\u001b[0m\u001b[0;34m.\u001b[0m\u001b[0mmissing_values\u001b[0m\u001b[0;34m)\u001b[0m\u001b[0;34m\u001b[0m\u001b[0;34m\u001b[0m\u001b[0m\n",
      "\u001b[0;32m~/Documents/FIUBA/orga/venv/lib/python3.9/site-packages/sklearn/impute/_base.py\u001b[0m in \u001b[0;36m_validate_input\u001b[0;34m(self, X, in_fit)\u001b[0m\n\u001b[1;32m    268\u001b[0m \u001b[0;34m\u001b[0m\u001b[0m\n\u001b[1;32m    269\u001b[0m         \u001b[0;32mtry\u001b[0m\u001b[0;34m:\u001b[0m\u001b[0;34m\u001b[0m\u001b[0;34m\u001b[0m\u001b[0m\n\u001b[0;32m--> 270\u001b[0;31m             X = self._validate_data(\n\u001b[0m\u001b[1;32m    271\u001b[0m                 \u001b[0mX\u001b[0m\u001b[0;34m,\u001b[0m\u001b[0;34m\u001b[0m\u001b[0;34m\u001b[0m\u001b[0m\n\u001b[1;32m    272\u001b[0m                 \u001b[0mreset\u001b[0m\u001b[0;34m=\u001b[0m\u001b[0min_fit\u001b[0m\u001b[0;34m,\u001b[0m\u001b[0;34m\u001b[0m\u001b[0;34m\u001b[0m\u001b[0m\n",
      "\u001b[0;32m~/Documents/FIUBA/orga/venv/lib/python3.9/site-packages/sklearn/base.py\u001b[0m in \u001b[0;36m_validate_data\u001b[0;34m(self, X, y, reset, validate_separately, **check_params)\u001b[0m\n\u001b[1;32m    578\u001b[0m \u001b[0;34m\u001b[0m\u001b[0m\n\u001b[1;32m    579\u001b[0m         \u001b[0;32mif\u001b[0m \u001b[0;32mnot\u001b[0m \u001b[0mno_val_X\u001b[0m \u001b[0;32mand\u001b[0m \u001b[0mcheck_params\u001b[0m\u001b[0;34m.\u001b[0m\u001b[0mget\u001b[0m\u001b[0;34m(\u001b[0m\u001b[0;34m\"ensure_2d\"\u001b[0m\u001b[0;34m,\u001b[0m \u001b[0;32mTrue\u001b[0m\u001b[0;34m)\u001b[0m\u001b[0;34m:\u001b[0m\u001b[0;34m\u001b[0m\u001b[0;34m\u001b[0m\u001b[0m\n\u001b[0;32m--> 580\u001b[0;31m             \u001b[0mself\u001b[0m\u001b[0;34m.\u001b[0m\u001b[0m_check_n_features\u001b[0m\u001b[0;34m(\u001b[0m\u001b[0mX\u001b[0m\u001b[0;34m,\u001b[0m \u001b[0mreset\u001b[0m\u001b[0;34m=\u001b[0m\u001b[0mreset\u001b[0m\u001b[0;34m)\u001b[0m\u001b[0;34m\u001b[0m\u001b[0;34m\u001b[0m\u001b[0m\n\u001b[0m\u001b[1;32m    581\u001b[0m \u001b[0;34m\u001b[0m\u001b[0m\n\u001b[1;32m    582\u001b[0m         \u001b[0;32mreturn\u001b[0m \u001b[0mout\u001b[0m\u001b[0;34m\u001b[0m\u001b[0;34m\u001b[0m\u001b[0m\n",
      "\u001b[0;32m~/Documents/FIUBA/orga/venv/lib/python3.9/site-packages/sklearn/base.py\u001b[0m in \u001b[0;36m_check_n_features\u001b[0;34m(self, X, reset)\u001b[0m\n\u001b[1;32m    393\u001b[0m \u001b[0;34m\u001b[0m\u001b[0m\n\u001b[1;32m    394\u001b[0m         \u001b[0;32mif\u001b[0m \u001b[0mn_features\u001b[0m \u001b[0;34m!=\u001b[0m \u001b[0mself\u001b[0m\u001b[0;34m.\u001b[0m\u001b[0mn_features_in_\u001b[0m\u001b[0;34m:\u001b[0m\u001b[0;34m\u001b[0m\u001b[0;34m\u001b[0m\u001b[0m\n\u001b[0;32m--> 395\u001b[0;31m             raise ValueError(\n\u001b[0m\u001b[1;32m    396\u001b[0m                 \u001b[0;34mf\"X has {n_features} features, but {self.__class__.__name__} \"\u001b[0m\u001b[0;34m\u001b[0m\u001b[0;34m\u001b[0m\u001b[0m\n\u001b[1;32m    397\u001b[0m                 \u001b[0;34mf\"is expecting {self.n_features_in_} features as input.\"\u001b[0m\u001b[0;34m\u001b[0m\u001b[0;34m\u001b[0m\u001b[0m\n",
      "\u001b[0;31mValueError\u001b[0m: X has 23 features, but SimpleImputer is expecting 22 features as input."
     ]
    }
   ],
   "source": [
    "df_feat_base = pd.read_csv(\"datasets/holdout_features.csv\", low_memory=False).set_index('id')\n",
    "reemplazarNullsNum(df_feat_base , inplace=True)"
   ]
  },
  {
   "cell_type": "code",
   "execution_count": null,
   "id": "acd5cc90-ee0e-4364-808e-8d20b8702c8f",
   "metadata": {
    "execution": {
     "iopub.status.busy": "2021-12-29T23:31:28.552560Z",
     "iopub.status.idle": "2021-12-29T23:31:28.552978Z",
     "shell.execute_reply": "2021-12-29T23:31:28.552782Z",
     "shell.execute_reply.started": "2021-12-29T23:31:28.552766Z"
    }
   },
   "outputs": [],
   "source": [
    "def funcion_baseline(row):\n",
    "    if row[\"llovieron_hamburguesas_hoy\"] == \"si\":\n",
    "        if row['horas_de_sol'] < 2:\n",
    "            return True\n",
    "        if row['nubosidad_tarde'] > 7:\n",
    "            return True\n",
    "        if row[\"humedad_tarde\"] > 70:\n",
    "            return True\n",
    "\n",
    "    if row[\"mm_lluvia_dia\"] > 10:\n",
    "        return True\n",
    "    if row[\"humedad_tarde\"] > 80:\n",
    "        return True\n",
    "\n",
    "    return False\n",
    "\n",
    "def baseline(df):\n",
    "    return df.apply(funcion_baseline, axis=1)"
   ]
  },
  {
   "cell_type": "code",
   "execution_count": null,
   "id": "5d7fe56a-e64b-488d-97a4-83f6c0522c82",
   "metadata": {
    "execution": {
     "iopub.status.busy": "2021-12-29T23:31:28.554483Z",
     "iopub.status.idle": "2021-12-29T23:31:28.554962Z",
     "shell.execute_reply": "2021-12-29T23:31:28.554789Z",
     "shell.execute_reply.started": "2021-12-29T23:31:28.554772Z"
    },
    "tags": []
   },
   "outputs": [],
   "source": [
    "pred = baseline(df_feat_base)\n",
    "prob = pred_b.replace({True:80,False:20})\n",
    "pdf = score2( \"Baseline\", \"reemplazar nulls\", df_targ, pred, prob[:,1] )\n",
    "predictions = predictions.append( pdf )\n",
    "pdf['AUC-ROC'][0]"
   ]
  },
  {
   "cell_type": "code",
   "execution_count": null,
   "id": "5f25e693-bf2b-4a09-b553-a2b14d4c46a5",
   "metadata": {},
   "outputs": [],
   "source": [
    "predictions"
   ]
  },
  {
   "cell_type": "markdown",
   "id": "98cd074b-4c83-4f32-a173-6c79751a9847",
   "metadata": {},
   "source": [
    "Una mejora impresionante !"
   ]
  },
  {
   "cell_type": "markdown",
   "id": "7a4be8a6-8406-41d8-b297-afbcdb5afeba",
   "metadata": {},
   "source": [
    "## Predicciones"
   ]
  },
  {
   "cell_type": "code",
   "execution_count": null,
   "id": "8e26fcdd-dfb5-43c3-abe8-afe1d2ec0661",
   "metadata": {
    "execution": {
     "iopub.status.busy": "2021-12-29T23:31:28.557639Z",
     "iopub.status.idle": "2021-12-29T23:31:28.558016Z",
     "shell.execute_reply": "2021-12-29T23:31:28.557856Z",
     "shell.execute_reply.started": "2021-12-29T23:31:28.557841Z"
    },
    "tags": []
   },
   "outputs": [],
   "source": [
    "try:\n",
    "    df_feat = pd.read_csv('predictions/pred_feat.csv', low_memory=False)\n",
    "except:\n",
    "    df_feat = pd.read_csv('https://docs.google.com/spreadsheets/d/1mR_JNN0-ceiB5qV42Ff9hznz0HtWaoPF3B9zNGoNPY8/export?format=csv', low_memory=False)\n",
    "    df_feat.to_csv('predictions/pred_feat.csv')\n",
    "pred_feat.drop('Unnamed: 0',axis=1,inplace=True)\n",
    "pred_feat"
   ]
  },
  {
   "cell_type": "code",
   "execution_count": null,
   "id": "1229c8db-f31c-4449-8173-12161ead5235",
   "metadata": {
    "execution": {
     "iopub.status.busy": "2021-12-29T23:31:28.559150Z",
     "iopub.status.idle": "2021-12-29T23:31:28.559435Z",
     "shell.execute_reply": "2021-12-29T23:31:28.559298Z",
     "shell.execute_reply.started": "2021-12-29T23:31:28.559283Z"
    },
    "tags": []
   },
   "outputs": [],
   "source": [
    "cols = ['id', 'barrio', 'dia', 'direccion_viento_tarde','direccion_viento_temprano', 'horas_de_sol', 'humedad_tarde','humedad_temprano', 'llovieron_hamburguesas_hoy', 'mm_evaporados_agua','mm_lluvia_dia', 'nubosidad_tarde', 'nubosidad_temprano','presion_atmosferica_tarde', 'presion_atmosferica_temprano','rafaga_viento_max_direccion', 'rafaga_viento_max_velocidad','temp_max', 'temp_min', 'temperatura_tarde', 'temperatura_temprano','velocidad_viendo_tarde', 'velocidad_viendo_temprano']\n",
    "df_feat = df_feat.reindex(cols, axis=1).set_index(\"id\")"
   ]
  },
  {
   "cell_type": "code",
   "execution_count": null,
   "id": "5a670b82-665f-46b1-945b-c362df8a264f",
   "metadata": {
    "execution": {
     "iopub.status.busy": "2021-12-29T23:31:28.560807Z",
     "iopub.status.idle": "2021-12-29T23:31:28.561179Z",
     "shell.execute_reply": "2021-12-29T23:31:28.561027Z",
     "shell.execute_reply.started": "2021-12-29T23:31:28.561010Z"
    },
    "tags": []
   },
   "outputs": [],
   "source": [
    "ohe_feat = reemplazarCategoricas_OHE(df_feat)\n",
    "ht_feat = reemplazarCategoricas_HashTrick(df_feat)\n",
    "\n",
    "reemplazarNulls(df_feat , inplace=True)\n",
    "reemplazarCategoricas(df_feat , inplace=True)\n",
    "reemplazarFechas(df_feat , inplace=True)\n",
    "\n",
    "df_reg = regularizar(df_feat)\n",
    "\n",
    "reemplazarNullsNum(ohe_feat, inplace=True)\n",
    "reemplazarFechas(ohe_feat , inplace=True)\n",
    "ohe_feat2 = keepFeat_OHE(ohe_feat, 10)\n",
    "\n",
    "reemplazarFechas(ht_feat , inplace=True)\n",
    "reemplazarNullsNum(ht_feat, inplace=True)\n",
    "ht_feat2 = normalizar_HashTrick(ht_feat)"
   ]
  },
  {
   "cell_type": "code",
   "execution_count": null,
   "id": "2003640c-aeb0-43fd-805c-9fb1c0d15955",
   "metadata": {
    "execution": {
     "iopub.status.busy": "2021-12-29T23:31:28.562225Z",
     "iopub.status.idle": "2021-12-29T23:31:28.562600Z",
     "shell.execute_reply": "2021-12-29T23:31:28.562443Z",
     "shell.execute_reply.started": "2021-12-29T23:31:28.562428Z"
    },
    "tags": []
   },
   "outputs": [],
   "source": [
    "def save_pred(name, model, feat):\n",
    "    pred = model.predict(feat)\n",
    "    pred = pd.Series(pred).replace( {False:'no', True:'si'} )\n",
    "    #pred_df = pd.concat([ids,pred_targ], keys=['id', 'llovieron_hamburguesas_al_dia_siguiente'], axis=1)\n",
    "    # pred_df.set_index('id').to_csv(f'predictions/{name}.csv')\n",
    "    return pred"
   ]
  },
  {
   "cell_type": "code",
   "execution_count": null,
   "id": "ee0fccf9-d357-4a05-afe9-26f1b065cb67",
   "metadata": {},
   "outputs": [],
   "source": [
    "save_pred(\"arbol\",arbol,df_feat)"
   ]
  }
 ],
 "metadata": {
  "kernelspec": {
   "display_name": "Python 3 (ipykernel)",
   "language": "python",
   "name": "python3"
  },
  "language_info": {
   "codemirror_mode": {
    "name": "ipython",
    "version": 3
   },
   "file_extension": ".py",
   "mimetype": "text/x-python",
   "name": "python",
   "nbconvert_exporter": "python",
   "pygments_lexer": "ipython3",
   "version": "3.9.9"
  }
 },
 "nbformat": 4,
 "nbformat_minor": 5
}
