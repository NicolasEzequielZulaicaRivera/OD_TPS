{
 "cells": [
  {
   "cell_type": "markdown",
   "id": "8172a3ad-f6b1-4d82-b4ba-6b4e2ed0c8dc",
   "metadata": {},
   "source": [
    "# Red Neuronal"
   ]
  },
  {
   "cell_type": "markdown",
   "id": "9d1941a2-1869-445e-b85e-75ef52164578",
   "metadata": {},
   "source": [
    "### Imports"
   ]
  },
  {
   "cell_type": "code",
   "execution_count": 1,
   "id": "62d0b99e-037e-4fbe-99b2-f03bdabcf34d",
   "metadata": {
    "execution": {
     "iopub.execute_input": "2021-12-29T20:56:44.429447Z",
     "iopub.status.busy": "2021-12-29T20:56:44.429238Z",
     "iopub.status.idle": "2021-12-29T20:56:45.568921Z",
     "shell.execute_reply": "2021-12-29T20:56:45.568333Z",
     "shell.execute_reply.started": "2021-12-29T20:56:44.429390Z"
    },
    "tags": []
   },
   "outputs": [],
   "source": [
    "import pandas as pd\n",
    "import numpy as np\n",
    "from matplotlib import pyplot as plt\n",
    "from joblib import dump, load"
   ]
  },
  {
   "cell_type": "code",
   "execution_count": 2,
   "id": "a2d6e5a5-982f-4b8b-8d37-731f87afa7fc",
   "metadata": {
    "execution": {
     "iopub.execute_input": "2021-12-29T20:56:45.570301Z",
     "iopub.status.busy": "2021-12-29T20:56:45.569839Z",
     "iopub.status.idle": "2021-12-29T20:56:45.970513Z",
     "shell.execute_reply": "2021-12-29T20:56:45.969592Z",
     "shell.execute_reply.started": "2021-12-29T20:56:45.570276Z"
    },
    "tags": []
   },
   "outputs": [],
   "source": [
    "from sklearn.neural_network import MLPClassifier\n",
    "from sklearn.experimental import enable_halving_search_cv\n",
    "from sklearn.model_selection import HalvingGridSearchCV\n",
    "from sklearn.metrics import roc_auc_score"
   ]
  },
  {
   "cell_type": "code",
   "execution_count": 3,
   "id": "98073fb3-ae90-4ff9-a05d-65ecb758edd0",
   "metadata": {
    "execution": {
     "iopub.execute_input": "2021-12-29T20:56:45.973270Z",
     "iopub.status.busy": "2021-12-29T20:56:45.972996Z",
     "iopub.status.idle": "2021-12-29T20:56:47.343199Z",
     "shell.execute_reply": "2021-12-29T20:56:47.342620Z",
     "shell.execute_reply.started": "2021-12-29T20:56:45.973247Z"
    },
    "tags": []
   },
   "outputs": [
    {
     "name": "stdout",
     "output_type": "stream",
     "text": [
      "[###] Initial Preprocessings Done                           \n",
      "[###] Aditional Preprocessings Done                                                   \n"
     ]
    }
   ],
   "source": [
    "from preprocessing import reemplazarNulls,reemplazarCategoricas,reemplazarFechas,targetBooleano,regularizar,reemplazarCategoricas_HashTrick,reemplazarNullsNum, normalizar_HashTrick"
   ]
  },
  {
   "cell_type": "markdown",
   "id": "2a61af87-8a2c-4ee2-8af2-5950a793a22a",
   "metadata": {},
   "source": [
    "### Codigo a correr"
   ]
  },
  {
   "cell_type": "code",
   "execution_count": 4,
   "id": "e712148c-0f89-485b-a383-ffcfd860948b",
   "metadata": {
    "execution": {
     "iopub.execute_input": "2021-12-29T20:56:47.347268Z",
     "iopub.status.busy": "2021-12-29T20:56:47.344228Z",
     "iopub.status.idle": "2021-12-29T20:56:47.352188Z",
     "shell.execute_reply": "2021-12-29T20:56:47.351156Z",
     "shell.execute_reply.started": "2021-12-29T20:56:47.347218Z"
    },
    "tags": []
   },
   "outputs": [],
   "source": [
    "MAX_ITER = 10**4\n",
    "MAX_JOBS = -1"
   ]
  },
  {
   "cell_type": "markdown",
   "id": "2cdabf60-a9b0-4811-8e39-004d298928d8",
   "metadata": {},
   "source": [
    "**Run :** Entrenar Nuevamente o Cargar Entrenado"
   ]
  },
  {
   "cell_type": "code",
   "execution_count": 5,
   "id": "6a34dae7-b811-47e7-ae44-399d9399d29a",
   "metadata": {
    "execution": {
     "iopub.execute_input": "2021-12-29T20:56:47.353470Z",
     "iopub.status.busy": "2021-12-29T20:56:47.353157Z",
     "iopub.status.idle": "2021-12-29T20:56:47.357040Z",
     "shell.execute_reply": "2021-12-29T20:56:47.356246Z",
     "shell.execute_reply.started": "2021-12-29T20:56:47.353449Z"
    },
    "tags": []
   },
   "outputs": [],
   "source": [
    "runSimple = True\n",
    "runMlpC = True\n",
    "runMlpC_R = True\n",
    "runHt = True\n",
    "runHtN = True"
   ]
  },
  {
   "cell_type": "markdown",
   "id": "c46677cb-6af4-44c8-b202-832377d0580d",
   "metadata": {},
   "source": [
    "**Save :** Guardar Modelo (pisa anterior)"
   ]
  },
  {
   "cell_type": "code",
   "execution_count": 6,
   "id": "bb7910c8-8ddc-4832-95a7-7014afd99983",
   "metadata": {
    "execution": {
     "iopub.execute_input": "2021-12-29T20:56:47.358312Z",
     "iopub.status.busy": "2021-12-29T20:56:47.357997Z",
     "iopub.status.idle": "2021-12-29T20:56:47.361980Z",
     "shell.execute_reply": "2021-12-29T20:56:47.360999Z",
     "shell.execute_reply.started": "2021-12-29T20:56:47.358282Z"
    },
    "tags": []
   },
   "outputs": [],
   "source": [
    "saveMlpC = True\n",
    "saveMlpC_R = True\n",
    "saveHt = True\n",
    "saveHtN = True\n",
    "saveBest = True"
   ]
  },
  {
   "cell_type": "code",
   "execution_count": 7,
   "id": "e0667f84-bf4e-4834-a2b1-1b46d8be405e",
   "metadata": {
    "execution": {
     "iopub.execute_input": "2021-12-29T20:56:47.363240Z",
     "iopub.status.busy": "2021-12-29T20:56:47.362942Z",
     "iopub.status.idle": "2021-12-29T20:56:47.366999Z",
     "shell.execute_reply": "2021-12-29T20:56:47.366095Z",
     "shell.execute_reply.started": "2021-12-29T20:56:47.363211Z"
    },
    "tags": []
   },
   "outputs": [],
   "source": [
    "predictions = pd.DataFrame()"
   ]
  },
  {
   "cell_type": "code",
   "execution_count": 8,
   "id": "8c87d7bb-61c4-49f0-bff4-9fb05527a2d9",
   "metadata": {
    "execution": {
     "iopub.execute_input": "2021-12-29T20:56:47.368070Z",
     "iopub.status.busy": "2021-12-29T20:56:47.367764Z",
     "iopub.status.idle": "2021-12-29T20:56:47.775414Z",
     "shell.execute_reply": "2021-12-29T20:56:47.774563Z",
     "shell.execute_reply.started": "2021-12-29T20:56:47.368039Z"
    },
    "tags": []
   },
   "outputs": [],
   "source": [
    "from utilities import score, score2, df_feat, df_targ, train_val"
   ]
  },
  {
   "cell_type": "markdown",
   "id": "773b5023-83fe-4e46-abed-1d987d0f22a4",
   "metadata": {},
   "source": [
    "### Preprocesamiento"
   ]
  },
  {
   "cell_type": "code",
   "execution_count": 9,
   "id": "3e49a10e-27bd-4db3-9bfa-748dd76f92a3",
   "metadata": {
    "execution": {
     "iopub.execute_input": "2021-12-29T20:56:47.777004Z",
     "iopub.status.busy": "2021-12-29T20:56:47.776503Z",
     "iopub.status.idle": "2021-12-29T20:58:36.085452Z",
     "shell.execute_reply": "2021-12-29T20:58:36.084739Z",
     "shell.execute_reply.started": "2021-12-29T20:56:47.776978Z"
    },
    "tags": []
   },
   "outputs": [],
   "source": [
    "targetBooleano(df_targ, inplace=True)\n",
    "ht_feat = reemplazarCategoricas_HashTrick(df_feat)\n",
    "\n",
    "reemplazarNulls(df_feat , inplace=True)\n",
    "reemplazarCategoricas(df_feat , inplace=True)\n",
    "reemplazarFechas(df_feat , inplace=True)\n",
    "\n",
    "df_feat_r = regularizar(df_feat)\n",
    "\n",
    "reemplazarFechas(ht_feat , inplace=True)\n",
    "reemplazarNullsNum(ht_feat, inplace=True)\n",
    "ht_feat2 = normalizar_HashTrick(ht_feat)"
   ]
  },
  {
   "cell_type": "code",
   "execution_count": 10,
   "id": "e469dcc0-e1a4-4649-866a-62a94835073d",
   "metadata": {
    "execution": {
     "iopub.execute_input": "2021-12-29T20:58:36.086697Z",
     "iopub.status.busy": "2021-12-29T20:58:36.086442Z",
     "iopub.status.idle": "2021-12-29T20:58:36.385943Z",
     "shell.execute_reply": "2021-12-29T20:58:36.385231Z",
     "shell.execute_reply.started": "2021-12-29T20:58:36.086674Z"
    },
    "tags": []
   },
   "outputs": [],
   "source": [
    "train_feat, val_feat, train_targ, val_targ = train_val( df_feat, df_targ, True )\n",
    "train_feat_r, val_feat_r, train_targ_r, val_targ_r = train_val( df_feat_r, df_targ, True )\n",
    "train_feat_ht, val_feat_ht, train_targ_ht, val_targ_ht = train_val( ht_feat, df_targ, True )\n",
    "train_feat_ht2, val_feat_ht2, train_targ_ht2, val_targ_ht2 = train_val( ht_feat2, df_targ, True )"
   ]
  },
  {
   "cell_type": "code",
   "execution_count": 11,
   "id": "329598d1-4fa3-47b2-92ae-f4ea047d001c",
   "metadata": {
    "execution": {
     "iopub.execute_input": "2021-12-29T20:58:36.387767Z",
     "iopub.status.busy": "2021-12-29T20:58:36.386930Z",
     "iopub.status.idle": "2021-12-29T20:58:36.391553Z",
     "shell.execute_reply": "2021-12-29T20:58:36.390910Z",
     "shell.execute_reply.started": "2021-12-29T20:58:36.387745Z"
    },
    "tags": []
   },
   "outputs": [],
   "source": [
    "layer_sizes = []\n",
    "for i in range(6,13,3):\n",
    "    for j in range(6,13,3):\n",
    "        layer_sizes.append( ( i+1, j+1 ) )\n",
    "layer_sizes.append( ( 20, 20 ) )"
   ]
  },
  {
   "cell_type": "code",
   "execution_count": 12,
   "id": "63b68557-2b04-4abc-9104-2d340f211b3b",
   "metadata": {
    "execution": {
     "iopub.execute_input": "2021-12-29T20:58:36.396853Z",
     "iopub.status.busy": "2021-12-29T20:58:36.396597Z",
     "iopub.status.idle": "2021-12-29T20:58:36.400380Z",
     "shell.execute_reply": "2021-12-29T20:58:36.399611Z",
     "shell.execute_reply.started": "2021-12-29T20:58:36.396829Z"
    }
   },
   "outputs": [],
   "source": [
    "params = {\n",
    "    'alpha': np.arange(1e-5,10e-5,1e-5),\n",
    "    'hidden_layer_sizes':layer_sizes,\n",
    "    'activation': ['logistic', 'relu'],\n",
    "}"
   ]
  },
  {
   "cell_type": "markdown",
   "id": "fef0f64c-2258-43be-83ad-f15f40907b01",
   "metadata": {},
   "source": [
    "## Simple"
   ]
  },
  {
   "cell_type": "code",
   "execution_count": 13,
   "id": "a376b7d5-95e7-4cf8-8607-bf056f20de30",
   "metadata": {
    "execution": {
     "iopub.execute_input": "2021-12-29T20:58:36.402192Z",
     "iopub.status.busy": "2021-12-29T20:58:36.401681Z",
     "iopub.status.idle": "2021-12-29T20:58:42.730072Z",
     "shell.execute_reply": "2021-12-29T20:58:42.729495Z",
     "shell.execute_reply.started": "2021-12-29T20:58:36.402168Z"
    },
    "tags": []
   },
   "outputs": [],
   "source": [
    "if (runSimple):\n",
    "    mlp = MLPClassifier(\n",
    "        solver='adam',\n",
    "        max_iter=MAX_ITER,\n",
    "        random_state=1,\n",
    "    ).fit(train_feat, train_targ)"
   ]
  },
  {
   "cell_type": "code",
   "execution_count": 14,
   "id": "c5aa1044-5fa5-46b8-89e6-e943135c8112",
   "metadata": {
    "execution": {
     "iopub.execute_input": "2021-12-29T20:58:42.731594Z",
     "iopub.status.busy": "2021-12-29T20:58:42.731266Z",
     "iopub.status.idle": "2021-12-29T20:58:43.092083Z",
     "shell.execute_reply": "2021-12-29T20:58:43.090849Z",
     "shell.execute_reply.started": "2021-12-29T20:58:42.731564Z"
    },
    "tags": []
   },
   "outputs": [
    {
     "name": "stdout",
     "output_type": "stream",
     "text": [
      "AUC-ROC: 0.8499260840366799\n",
      "              precision    recall  f1-score   support\n",
      "\n",
      "       False       0.85      0.96      0.90      7946\n",
      "        True       0.74      0.42      0.53      2290\n",
      "\n",
      "    accuracy                           0.84     10236\n",
      "   macro avg       0.79      0.69      0.72     10236\n",
      "weighted avg       0.83      0.84      0.82     10236\n",
      "\n",
      "CONFUSION MATRIX\n"
     ]
    },
    {
     "data": {
      "text/plain": [
       "None"
      ]
     },
     "metadata": {},
     "output_type": "display_data"
    },
    {
     "data": {
      "image/png": "[encoded data removed]",
      "text/plain": [
       "<Figure size 432x288 with 2 Axes>"
      ]
     },
     "metadata": {},
     "output_type": "display_data"
    }
   ],
   "source": [
    "if (runSimple):\n",
    "    pred = mlp.predict(val_feat)\n",
    "    prob = mlp.predict_proba(val_feat)\n",
    "    display(score(val_targ, pred, prob[:,1]))\n",
    "    pdf = score2('Simple','Basico',val_targ, pred, prob[:,1])\n",
    "    predictions = predictions.append( pdf )"
   ]
  },
  {
   "cell_type": "markdown",
   "id": "53e853e8-8b50-4672-a077-71bc4023dce1",
   "metadata": {},
   "source": [
    "## MLP Clasifier"
   ]
  },
  {
   "cell_type": "code",
   "execution_count": 15,
   "id": "58509551-5655-4924-a310-41064e587819",
   "metadata": {
    "execution": {
     "iopub.execute_input": "2021-12-29T20:58:43.094193Z",
     "iopub.status.busy": "2021-12-29T20:58:43.093582Z",
     "iopub.status.idle": "2021-12-29T21:02:50.351784Z",
     "shell.execute_reply": "2021-12-29T21:02:50.351083Z",
     "shell.execute_reply.started": "2021-12-29T20:58:43.094169Z"
    },
    "scrolled": true,
    "tags": []
   },
   "outputs": [
    {
     "name": "stdout",
     "output_type": "stream",
     "text": [
      "n_iterations: 5\n",
      "n_required_iterations: 5\n",
      "n_possible_iterations: 5\n",
      "min_resources_: 1137\n",
      "max_resources_: 92120\n",
      "aggressive_elimination: False\n",
      "factor: 3\n",
      "----------\n",
      "iter: 0\n",
      "n_candidates: 180\n",
      "n_resources: 1137\n",
      "Fitting 5 folds for each of 180 candidates, totalling 900 fits\n",
      "----------\n",
      "iter: 1\n",
      "n_candidates: 60\n",
      "n_resources: 3411\n",
      "Fitting 5 folds for each of 60 candidates, totalling 300 fits\n",
      "----------\n",
      "iter: 2\n",
      "n_candidates: 20\n",
      "n_resources: 10233\n",
      "Fitting 5 folds for each of 20 candidates, totalling 100 fits\n",
      "----------\n",
      "iter: 3\n",
      "n_candidates: 7\n",
      "n_resources: 30699\n",
      "Fitting 5 folds for each of 7 candidates, totalling 35 fits\n",
      "----------\n",
      "iter: 4\n",
      "n_candidates: 3\n",
      "n_resources: 92097\n",
      "Fitting 5 folds for each of 3 candidates, totalling 15 fits\n"
     ]
    }
   ],
   "source": [
    "if (runMlpC):\n",
    "    mlp_cls = MLPClassifier(\n",
    "        solver='adam',\n",
    "        max_iter=MAX_ITER,\n",
    "        random_state=1,\n",
    "    )\n",
    "    \n",
    "    mlp_cls_grid = HalvingGridSearchCV(\n",
    "        mlp_cls,\n",
    "        params,\n",
    "        scoring='roc_auc',\n",
    "        n_jobs=MAX_JOBS,\n",
    "        return_train_score=True,\n",
    "        verbose=1,\n",
    "    ).fit(train_feat, train_targ)\n",
    "    \n",
    "    # Guardar\n",
    "    if(saveMlpC):\n",
    "        dump(mlp_cls_grid, 'models/NN/mlp_cls_grid.sk')\n",
    "else:\n",
    "    # Cargar\n",
    "    mlp_cls_grid = load('models/NN/mlp_cls_grid.sk')"
   ]
  },
  {
   "cell_type": "code",
   "execution_count": 16,
   "id": "5af9461d-ffa5-4fec-9921-60b3b804afba",
   "metadata": {
    "execution": {
     "iopub.execute_input": "2021-12-29T21:02:50.353520Z",
     "iopub.status.busy": "2021-12-29T21:02:50.353269Z",
     "iopub.status.idle": "2021-12-29T21:02:50.358567Z",
     "shell.execute_reply": "2021-12-29T21:02:50.357655Z",
     "shell.execute_reply.started": "2021-12-29T21:02:50.353494Z"
    },
    "tags": []
   },
   "outputs": [
    {
     "name": "stdout",
     "output_type": "stream",
     "text": [
      "Best score: 0.8563582581467761\n",
      "Best params {'activation': 'relu', 'alpha': 6e-05, 'hidden_layer_sizes': (13, 7)}\n"
     ]
    }
   ],
   "source": [
    "print(f\"Best score: {mlp_cls_grid.best_score_}\")\n",
    "print(f\"Best params {mlp_cls_grid.best_params_}\")"
   ]
  },
  {
   "cell_type": "code",
   "execution_count": 17,
   "id": "72f0f581-1296-4084-8d33-230c4a35a497",
   "metadata": {
    "execution": {
     "iopub.execute_input": "2021-12-29T21:02:50.359955Z",
     "iopub.status.busy": "2021-12-29T21:02:50.359656Z",
     "iopub.status.idle": "2021-12-29T21:02:50.370652Z",
     "shell.execute_reply": "2021-12-29T21:02:50.365512Z",
     "shell.execute_reply.started": "2021-12-29T21:02:50.359931Z"
    },
    "tags": []
   },
   "outputs": [],
   "source": [
    "mlp_cls = mlp_cls_grid.best_estimator_"
   ]
  },
  {
   "cell_type": "code",
   "execution_count": 18,
   "id": "4b10cd9a-f190-4abb-b60a-bb48c5092386",
   "metadata": {
    "execution": {
     "iopub.execute_input": "2021-12-29T21:02:50.372042Z",
     "iopub.status.busy": "2021-12-29T21:02:50.371806Z",
     "iopub.status.idle": "2021-12-29T21:02:50.643483Z",
     "shell.execute_reply": "2021-12-29T21:02:50.642925Z",
     "shell.execute_reply.started": "2021-12-29T21:02:50.372022Z"
    },
    "tags": []
   },
   "outputs": [
    {
     "name": "stdout",
     "output_type": "stream",
     "text": [
      "AUC-ROC: 0.8511153341825882\n",
      "              precision    recall  f1-score   support\n",
      "\n",
      "       False       0.83      0.98      0.90      7946\n",
      "        True       0.79      0.30      0.44      2290\n",
      "\n",
      "    accuracy                           0.83     10236\n",
      "   macro avg       0.81      0.64      0.67     10236\n",
      "weighted avg       0.82      0.83      0.79     10236\n",
      "\n",
      "CONFUSION MATRIX\n",
      "CPU times: user 469 ms, sys: 93.1 ms, total: 562 ms\n",
      "Wall time: 186 ms\n"
     ]
    },
    {
     "data": {
      "image/png": "[encoded data removed]",
      "text/plain": [
       "<Figure size 432x288 with 2 Axes>"
      ]
     },
     "metadata": {},
     "output_type": "display_data"
    }
   ],
   "source": [
    "%%time\n",
    "pred = mlp_cls.predict(val_feat)\n",
    "prob = mlp_cls.predict_proba(val_feat)\n",
    "score(val_targ, pred, prob[:,1])"
   ]
  },
  {
   "cell_type": "code",
   "execution_count": 19,
   "id": "a63288ea-4700-45c6-8bd5-3267a5cccf1f",
   "metadata": {
    "execution": {
     "iopub.execute_input": "2021-12-29T21:02:50.644810Z",
     "iopub.status.busy": "2021-12-29T21:02:50.644485Z",
     "iopub.status.idle": "2021-12-29T21:02:50.678695Z",
     "shell.execute_reply": "2021-12-29T21:02:50.677852Z",
     "shell.execute_reply.started": "2021-12-29T21:02:50.644786Z"
    }
   },
   "outputs": [],
   "source": [
    "pdf = score2('Val','Basico',val_targ, pred, prob[:,1])\n",
    "predictions = predictions.append( pdf )"
   ]
  },
  {
   "cell_type": "markdown",
   "id": "2cc4b3c8-f305-47cb-9c53-84e58f85a040",
   "metadata": {},
   "source": [
    "## MLP Clasifier - Features Regularizados"
   ]
  },
  {
   "cell_type": "code",
   "execution_count": 20,
   "id": "87067f48-a030-4ebb-90f5-2cc34b9a7f5d",
   "metadata": {
    "execution": {
     "iopub.execute_input": "2021-12-29T21:02:50.680238Z",
     "iopub.status.busy": "2021-12-29T21:02:50.679777Z",
     "iopub.status.idle": "2021-12-29T21:19:43.089887Z",
     "shell.execute_reply": "2021-12-29T21:19:43.089028Z",
     "shell.execute_reply.started": "2021-12-29T21:02:50.680197Z"
    },
    "scrolled": true,
    "tags": []
   },
   "outputs": [
    {
     "name": "stdout",
     "output_type": "stream",
     "text": [
      "n_iterations: 5\n",
      "n_required_iterations: 5\n",
      "n_possible_iterations: 5\n",
      "min_resources_: 1137\n",
      "max_resources_: 92120\n",
      "aggressive_elimination: False\n",
      "factor: 3\n",
      "----------\n",
      "iter: 0\n",
      "n_candidates: 180\n",
      "n_resources: 1137\n",
      "Fitting 5 folds for each of 180 candidates, totalling 900 fits\n",
      "----------\n",
      "iter: 1\n",
      "n_candidates: 60\n",
      "n_resources: 3411\n",
      "Fitting 5 folds for each of 60 candidates, totalling 300 fits\n",
      "----------\n",
      "iter: 2\n",
      "n_candidates: 20\n",
      "n_resources: 10233\n",
      "Fitting 5 folds for each of 20 candidates, totalling 100 fits\n",
      "----------\n",
      "iter: 3\n",
      "n_candidates: 7\n",
      "n_resources: 30699\n",
      "Fitting 5 folds for each of 7 candidates, totalling 35 fits\n",
      "----------\n",
      "iter: 4\n",
      "n_candidates: 3\n",
      "n_resources: 92097\n",
      "Fitting 5 folds for each of 3 candidates, totalling 15 fits\n"
     ]
    }
   ],
   "source": [
    "if (runMlpC_R):\n",
    "    mlp_cls_r = MLPClassifier(\n",
    "        solver='adam',\n",
    "        max_iter=MAX_ITER,\n",
    "        random_state=1,\n",
    "    )\n",
    "    \n",
    "    mlp_cls_r_grid = HalvingGridSearchCV(\n",
    "        mlp_cls_r,\n",
    "        params,\n",
    "        scoring='roc_auc',\n",
    "        n_jobs=MAX_JOBS,\n",
    "        return_train_score=True,\n",
    "        verbose=1,\n",
    "    ).fit(train_feat_r, train_targ_r)\n",
    "    \n",
    "    # Guardar\n",
    "    if(saveMlpC_R):\n",
    "        dump(mlp_cls_r_grid, 'models/NN/mlp_cls_r_grid.sk')\n",
    "        dump(mlp_cls_r_grid.best_estimator_, 'models/NN/mlp_cls_r.sk')\n",
    "else:\n",
    "    # Cargar\n",
    "    mlp_cls_r_grid = load('models/NN/mlp_cls_r_grid.sk')"
   ]
  },
  {
   "cell_type": "code",
   "execution_count": 21,
   "id": "714536e3-a557-413d-8917-0ad09837e5e0",
   "metadata": {
    "execution": {
     "iopub.execute_input": "2021-12-29T21:19:43.091211Z",
     "iopub.status.busy": "2021-12-29T21:19:43.090833Z",
     "iopub.status.idle": "2021-12-29T21:19:43.095949Z",
     "shell.execute_reply": "2021-12-29T21:19:43.094797Z",
     "shell.execute_reply.started": "2021-12-29T21:19:43.091188Z"
    },
    "tags": []
   },
   "outputs": [
    {
     "name": "stdout",
     "output_type": "stream",
     "text": [
      "Best score: 0.869241261450471\n",
      "Best params {'activation': 'logistic', 'alpha': 9e-05, 'hidden_layer_sizes': (13, 13)}\n"
     ]
    }
   ],
   "source": [
    "print(f\"Best score: {mlp_cls_r_grid.best_score_}\")\n",
    "print(f\"Best params {mlp_cls_r_grid.best_params_}\")"
   ]
  },
  {
   "cell_type": "code",
   "execution_count": 22,
   "id": "d5741744-7961-43a7-9f77-38b3ef129750",
   "metadata": {
    "execution": {
     "iopub.execute_input": "2021-12-29T21:19:43.098328Z",
     "iopub.status.busy": "2021-12-29T21:19:43.097919Z",
     "iopub.status.idle": "2021-12-29T21:19:43.105617Z",
     "shell.execute_reply": "2021-12-29T21:19:43.102948Z",
     "shell.execute_reply.started": "2021-12-29T21:19:43.098292Z"
    },
    "tags": []
   },
   "outputs": [],
   "source": [
    "mlp_cls_r = mlp_cls_r_grid.best_estimator_"
   ]
  },
  {
   "cell_type": "code",
   "execution_count": 23,
   "id": "d1095ff9-bfa1-4b98-8a13-a39c8c493769",
   "metadata": {
    "execution": {
     "iopub.execute_input": "2021-12-29T21:19:43.110011Z",
     "iopub.status.busy": "2021-12-29T21:19:43.108430Z",
     "iopub.status.idle": "2021-12-29T21:19:43.368572Z",
     "shell.execute_reply": "2021-12-29T21:19:43.367998Z",
     "shell.execute_reply.started": "2021-12-29T21:19:43.109968Z"
    },
    "tags": []
   },
   "outputs": [
    {
     "name": "stdout",
     "output_type": "stream",
     "text": [
      "AUC-ROC: 0.8648563392418476\n",
      "              precision    recall  f1-score   support\n",
      "\n",
      "       False       0.86      0.94      0.90      7946\n",
      "        True       0.71      0.49      0.58      2290\n",
      "\n",
      "    accuracy                           0.84     10236\n",
      "   macro avg       0.79      0.71      0.74     10236\n",
      "weighted avg       0.83      0.84      0.83     10236\n",
      "\n",
      "CONFUSION MATRIX\n",
      "CPU times: user 309 ms, sys: 90.4 ms, total: 400 ms\n",
      "Wall time: 166 ms\n"
     ]
    },
    {
     "data": {
      "image/png": "[encoded data removed]",
      "text/plain": [
       "<Figure size 432x288 with 2 Axes>"
      ]
     },
     "metadata": {},
     "output_type": "display_data"
    }
   ],
   "source": [
    "%%time\n",
    "pred = mlp_cls_r.predict(val_feat_r)\n",
    "prob = mlp_cls_r.predict_proba(val_feat_r)\n",
    "score(val_targ_r, pred, prob[:,1])"
   ]
  },
  {
   "cell_type": "code",
   "execution_count": 24,
   "id": "4903b193-79ac-4852-a922-74294ca935b0",
   "metadata": {
    "execution": {
     "iopub.execute_input": "2021-12-29T21:19:43.370196Z",
     "iopub.status.busy": "2021-12-29T21:19:43.369865Z",
     "iopub.status.idle": "2021-12-29T21:19:43.402836Z",
     "shell.execute_reply": "2021-12-29T21:19:43.402239Z",
     "shell.execute_reply.started": "2021-12-29T21:19:43.370167Z"
    }
   },
   "outputs": [],
   "source": [
    "pdf = score2('Reg','Regularizado',val_targ_r, pred, prob[:,1])\n",
    "predictions = predictions.append( pdf )"
   ]
  },
  {
   "cell_type": "markdown",
   "id": "e1328b8e-002f-4a70-8c43-0a3fbdbefc51",
   "metadata": {},
   "source": [
    "## Hashing Trick"
   ]
  },
  {
   "cell_type": "code",
   "execution_count": 25,
   "id": "3887a631-2c71-4aa9-8054-eec469e0b362",
   "metadata": {
    "execution": {
     "iopub.execute_input": "2021-12-29T21:19:43.404128Z",
     "iopub.status.busy": "2021-12-29T21:19:43.403657Z",
     "iopub.status.idle": "2021-12-29T21:24:11.429500Z",
     "shell.execute_reply": "2021-12-29T21:24:11.428668Z",
     "shell.execute_reply.started": "2021-12-29T21:19:43.404076Z"
    },
    "scrolled": true,
    "tags": []
   },
   "outputs": [
    {
     "name": "stdout",
     "output_type": "stream",
     "text": [
      "n_iterations: 5\n",
      "n_required_iterations: 5\n",
      "n_possible_iterations: 5\n",
      "min_resources_: 1137\n",
      "max_resources_: 92120\n",
      "aggressive_elimination: False\n",
      "factor: 3\n",
      "----------\n",
      "iter: 0\n",
      "n_candidates: 180\n",
      "n_resources: 1137\n",
      "Fitting 5 folds for each of 180 candidates, totalling 900 fits\n",
      "----------\n",
      "iter: 1\n",
      "n_candidates: 60\n",
      "n_resources: 3411\n",
      "Fitting 5 folds for each of 60 candidates, totalling 300 fits\n",
      "----------\n",
      "iter: 2\n",
      "n_candidates: 20\n",
      "n_resources: 10233\n",
      "Fitting 5 folds for each of 20 candidates, totalling 100 fits\n",
      "----------\n",
      "iter: 3\n",
      "n_candidates: 7\n",
      "n_resources: 30699\n",
      "Fitting 5 folds for each of 7 candidates, totalling 35 fits\n",
      "----------\n",
      "iter: 4\n",
      "n_candidates: 3\n",
      "n_resources: 92097\n",
      "Fitting 5 folds for each of 3 candidates, totalling 15 fits\n"
     ]
    }
   ],
   "source": [
    "if (runHt):\n",
    "    mlp_ht = MLPClassifier(\n",
    "        solver='adam',\n",
    "        max_iter=MAX_ITER,\n",
    "        random_state=1,\n",
    "    )\n",
    "    \n",
    "    mlp_ht_grid = HalvingGridSearchCV(\n",
    "        mlp_ht,\n",
    "        params,\n",
    "        scoring='roc_auc',\n",
    "        n_jobs=MAX_JOBS,\n",
    "        return_train_score=True,\n",
    "        verbose=1,\n",
    "    ).fit(train_feat_ht, train_targ_ht)\n",
    "    \n",
    "    # Guardar\n",
    "    if(saveHt):\n",
    "        dump(mlp_ht_grid, 'models/NN/mlp_ht_grid.sk')\n",
    "else:\n",
    "    # Cargar\n",
    "    mlp_ht_grid = load('models/NN/mlp_ht_grid.sk')"
   ]
  },
  {
   "cell_type": "code",
   "execution_count": 26,
   "id": "725c42f4-d022-42d7-aae1-9fca23349852",
   "metadata": {
    "execution": {
     "iopub.execute_input": "2021-12-29T21:24:11.430897Z",
     "iopub.status.busy": "2021-12-29T21:24:11.430552Z",
     "iopub.status.idle": "2021-12-29T21:24:11.436544Z",
     "shell.execute_reply": "2021-12-29T21:24:11.435387Z",
     "shell.execute_reply.started": "2021-12-29T21:24:11.430874Z"
    },
    "tags": []
   },
   "outputs": [
    {
     "name": "stdout",
     "output_type": "stream",
     "text": [
      "Best score: 0.8604616992766051\n",
      "Best params {'activation': 'relu', 'alpha': 1e-05, 'hidden_layer_sizes': (10, 7)}\n"
     ]
    }
   ],
   "source": [
    "print(f\"Best score: {mlp_ht_grid.best_score_}\")\n",
    "print(f\"Best params {mlp_ht_grid.best_params_}\")"
   ]
  },
  {
   "cell_type": "code",
   "execution_count": 27,
   "id": "0f773fbd-d393-48bd-a2c6-cb43ace03c79",
   "metadata": {
    "execution": {
     "iopub.execute_input": "2021-12-29T21:24:11.439035Z",
     "iopub.status.busy": "2021-12-29T21:24:11.438630Z",
     "iopub.status.idle": "2021-12-29T21:24:11.448191Z",
     "shell.execute_reply": "2021-12-29T21:24:11.446634Z",
     "shell.execute_reply.started": "2021-12-29T21:24:11.438998Z"
    },
    "tags": []
   },
   "outputs": [],
   "source": [
    "mlp_ht = mlp_ht_grid.best_estimator_"
   ]
  },
  {
   "cell_type": "code",
   "execution_count": 28,
   "id": "bf43e5dc-08b5-471a-a5ca-6331b0641722",
   "metadata": {
    "execution": {
     "iopub.execute_input": "2021-12-29T21:24:11.450413Z",
     "iopub.status.busy": "2021-12-29T21:24:11.450119Z",
     "iopub.status.idle": "2021-12-29T21:24:11.752345Z",
     "shell.execute_reply": "2021-12-29T21:24:11.751592Z",
     "shell.execute_reply.started": "2021-12-29T21:24:11.450379Z"
    },
    "tags": []
   },
   "outputs": [
    {
     "name": "stdout",
     "output_type": "stream",
     "text": [
      "AUC-ROC: 0.8619530630885113\n",
      "              precision    recall  f1-score   support\n",
      "\n",
      "       False       0.85      0.96      0.90      7946\n",
      "        True       0.75      0.40      0.52      2290\n",
      "\n",
      "    accuracy                           0.84     10236\n",
      "   macro avg       0.80      0.68      0.71     10236\n",
      "weighted avg       0.82      0.84      0.82     10236\n",
      "\n",
      "CONFUSION MATRIX\n",
      "CPU times: user 514 ms, sys: 118 ms, total: 632 ms\n",
      "Wall time: 220 ms\n"
     ]
    },
    {
     "data": {
      "image/png": "[encoded data removed]",
      "text/plain": [
       "<Figure size 432x288 with 2 Axes>"
      ]
     },
     "metadata": {},
     "output_type": "display_data"
    }
   ],
   "source": [
    "%%time\n",
    "pred = mlp_ht.predict(val_feat_ht)\n",
    "prob = mlp_ht.predict_proba(val_feat_ht)\n",
    "score(val_targ_ht, pred, prob[:,1])"
   ]
  },
  {
   "cell_type": "code",
   "execution_count": 29,
   "id": "ff3a9f4c-b800-4cd9-8001-8c1e0fd69728",
   "metadata": {
    "execution": {
     "iopub.execute_input": "2021-12-29T21:24:11.753443Z",
     "iopub.status.busy": "2021-12-29T21:24:11.753194Z",
     "iopub.status.idle": "2021-12-29T21:24:11.784993Z",
     "shell.execute_reply": "2021-12-29T21:24:11.784227Z",
     "shell.execute_reply.started": "2021-12-29T21:24:11.753422Z"
    }
   },
   "outputs": [],
   "source": [
    "pdf = score2('HT','Hashing Trick',val_targ_ht, pred, prob[:,1])\n",
    "predictions = predictions.append( pdf )"
   ]
  },
  {
   "cell_type": "markdown",
   "id": "ed3c7e85-1191-44cc-82d2-5efb8d02ce0a",
   "metadata": {},
   "source": [
    "### Normalizado"
   ]
  },
  {
   "cell_type": "code",
   "execution_count": 30,
   "id": "67381052-761d-453b-a4d0-20735b431dec",
   "metadata": {
    "execution": {
     "iopub.execute_input": "2021-12-29T21:24:11.786094Z",
     "iopub.status.busy": "2021-12-29T21:24:11.785857Z",
     "iopub.status.idle": "2021-12-29T21:58:14.347861Z",
     "shell.execute_reply": "2021-12-29T21:58:14.347017Z",
     "shell.execute_reply.started": "2021-12-29T21:24:11.786074Z"
    },
    "scrolled": true,
    "tags": []
   },
   "outputs": [
    {
     "name": "stdout",
     "output_type": "stream",
     "text": [
      "n_iterations: 5\n",
      "n_required_iterations: 5\n",
      "n_possible_iterations: 5\n",
      "min_resources_: 1137\n",
      "max_resources_: 92120\n",
      "aggressive_elimination: False\n",
      "factor: 3\n",
      "----------\n",
      "iter: 0\n",
      "n_candidates: 180\n",
      "n_resources: 1137\n",
      "Fitting 5 folds for each of 180 candidates, totalling 900 fits\n",
      "----------\n",
      "iter: 1\n",
      "n_candidates: 60\n",
      "n_resources: 3411\n",
      "Fitting 5 folds for each of 60 candidates, totalling 300 fits\n",
      "----------\n",
      "iter: 2\n",
      "n_candidates: 20\n",
      "n_resources: 10233\n",
      "Fitting 5 folds for each of 20 candidates, totalling 100 fits\n",
      "----------\n",
      "iter: 3\n",
      "n_candidates: 7\n",
      "n_resources: 30699\n",
      "Fitting 5 folds for each of 7 candidates, totalling 35 fits\n",
      "----------\n",
      "iter: 4\n",
      "n_candidates: 3\n",
      "n_resources: 92097\n",
      "Fitting 5 folds for each of 3 candidates, totalling 15 fits\n"
     ]
    }
   ],
   "source": [
    "if (runHtN):\n",
    "    mlp_ht2 = MLPClassifier(\n",
    "        solver='adam',\n",
    "        max_iter=MAX_ITER,\n",
    "        random_state=1,\n",
    "    )\n",
    "    \n",
    "    mlp_ht_grid2 = HalvingGridSearchCV(\n",
    "        mlp_ht2,\n",
    "        params,\n",
    "        scoring='roc_auc',\n",
    "        n_jobs=MAX_JOBS,\n",
    "        return_train_score=True,\n",
    "        verbose=1,\n",
    "    ).fit(train_feat_ht2, train_targ_ht2)\n",
    "    \n",
    "    # Guardar\n",
    "    if(saveHtN):\n",
    "        dump(mlp_ht_grid2, 'models/NN/mlp_htn_grid.sk')\n",
    "else:\n",
    "    # Cargar\n",
    "    mlp_ht_grid2 = load('models/NN/mlp_htn_grid2.sk')"
   ]
  },
  {
   "cell_type": "code",
   "execution_count": 31,
   "id": "39346d6f-0a40-4e07-bf02-be841ea3e50c",
   "metadata": {
    "execution": {
     "iopub.execute_input": "2021-12-29T21:58:14.349023Z",
     "iopub.status.busy": "2021-12-29T21:58:14.348831Z",
     "iopub.status.idle": "2021-12-29T21:58:14.355252Z",
     "shell.execute_reply": "2021-12-29T21:58:14.352693Z",
     "shell.execute_reply.started": "2021-12-29T21:58:14.349001Z"
    },
    "tags": []
   },
   "outputs": [
    {
     "name": "stdout",
     "output_type": "stream",
     "text": [
      "Best score: 0.8799514021981425\n",
      "Best params {'activation': 'logistic', 'alpha': 3.0000000000000004e-05, 'hidden_layer_sizes': (7, 13)}\n"
     ]
    }
   ],
   "source": [
    "print(f\"Best score: {mlp_ht_grid2.best_score_}\")\n",
    "print(f\"Best params {mlp_ht_grid2.best_params_}\")"
   ]
  },
  {
   "cell_type": "code",
   "execution_count": 32,
   "id": "4a5ef00a-ff76-4dfc-84c7-54e9d53dd23f",
   "metadata": {
    "execution": {
     "iopub.execute_input": "2021-12-29T21:58:14.357799Z",
     "iopub.status.busy": "2021-12-29T21:58:14.357047Z",
     "iopub.status.idle": "2021-12-29T21:58:14.363188Z",
     "shell.execute_reply": "2021-12-29T21:58:14.362168Z",
     "shell.execute_reply.started": "2021-12-29T21:58:14.357742Z"
    },
    "tags": []
   },
   "outputs": [],
   "source": [
    "mlp_htn = mlp_ht_grid2.best_estimator_"
   ]
  },
  {
   "cell_type": "code",
   "execution_count": 33,
   "id": "ab95c238-9453-4f11-8eca-dd135b7ae6a4",
   "metadata": {
    "execution": {
     "iopub.execute_input": "2021-12-29T21:58:14.364946Z",
     "iopub.status.busy": "2021-12-29T21:58:14.364288Z",
     "iopub.status.idle": "2021-12-29T21:58:14.622654Z",
     "shell.execute_reply": "2021-12-29T21:58:14.618935Z",
     "shell.execute_reply.started": "2021-12-29T21:58:14.364910Z"
    },
    "tags": []
   },
   "outputs": [
    {
     "name": "stdout",
     "output_type": "stream",
     "text": [
      "AUC-ROC: 0.8791196471378311\n",
      "              precision    recall  f1-score   support\n",
      "\n",
      "       False       0.87      0.95      0.91      7946\n",
      "        True       0.74      0.50      0.60      2290\n",
      "\n",
      "    accuracy                           0.85     10236\n",
      "   macro avg       0.81      0.72      0.75     10236\n",
      "weighted avg       0.84      0.85      0.84     10236\n",
      "\n",
      "CONFUSION MATRIX\n",
      "CPU times: user 358 ms, sys: 87.4 ms, total: 445 ms\n",
      "Wall time: 161 ms\n"
     ]
    },
    {
     "data": {
      "image/png": "[encoded data removed]",
      "text/plain": [
       "<Figure size 432x288 with 2 Axes>"
      ]
     },
     "metadata": {},
     "output_type": "display_data"
    }
   ],
   "source": [
    "%%time\n",
    "pred = mlp_htn.predict(val_feat_ht2)\n",
    "prob = mlp_htn.predict_proba(val_feat_ht2)\n",
    "score(val_targ_ht2, pred, prob[:,1])"
   ]
  },
  {
   "cell_type": "code",
   "execution_count": 34,
   "id": "21783245-66ca-4419-8ffb-c91a3968c7a9",
   "metadata": {
    "execution": {
     "iopub.execute_input": "2021-12-29T21:58:14.623907Z",
     "iopub.status.busy": "2021-12-29T21:58:14.623619Z",
     "iopub.status.idle": "2021-12-29T21:58:14.657433Z",
     "shell.execute_reply": "2021-12-29T21:58:14.656712Z",
     "shell.execute_reply.started": "2021-12-29T21:58:14.623884Z"
    }
   },
   "outputs": [],
   "source": [
    "pdf = score2('HTN','Hashing Trick + Normalizado',val_targ_ht2, pred, prob[:,1])\n",
    "predictions = predictions.append( pdf )"
   ]
  },
  {
   "cell_type": "markdown",
   "id": "81192f2d-da83-44e5-83b1-7833eda32f66",
   "metadata": {},
   "source": [
    "## Resultados"
   ]
  },
  {
   "cell_type": "code",
   "execution_count": 35,
   "id": "64d8be1a-2e21-452d-bd81-9ebf5569e75f",
   "metadata": {
    "execution": {
     "iopub.execute_input": "2021-12-29T21:58:14.658576Z",
     "iopub.status.busy": "2021-12-29T21:58:14.658285Z",
     "iopub.status.idle": "2021-12-29T21:58:14.674721Z",
     "shell.execute_reply": "2021-12-29T21:58:14.674068Z",
     "shell.execute_reply.started": "2021-12-29T21:58:14.658555Z"
    },
    "tags": []
   },
   "outputs": [
    {
     "data": {
      "text/html": [
       "<div>\n",
       "<style scoped>\n",
       "    .dataframe tbody tr th:only-of-type {\n",
       "        vertical-align: middle;\n",
       "    }\n",
       "\n",
       "    .dataframe tbody tr th {\n",
       "        vertical-align: top;\n",
       "    }\n",
       "\n",
       "    .dataframe thead th {\n",
       "        text-align: right;\n",
       "    }\n",
       "</style>\n",
       "<table border=\"1\" class=\"dataframe\">\n",
       "  <thead>\n",
       "    <tr style=\"text-align: right;\">\n",
       "      <th></th>\n",
       "      <th>Modelo</th>\n",
       "      <th>Preprocesamientos</th>\n",
       "      <th>Clase</th>\n",
       "      <th>AUC-ROC</th>\n",
       "      <th>Accuracy</th>\n",
       "      <th>Precision</th>\n",
       "      <th>Recall</th>\n",
       "      <th>F1 score</th>\n",
       "      <th>Support</th>\n",
       "    </tr>\n",
       "  </thead>\n",
       "  <tbody>\n",
       "    <tr>\n",
       "      <th>0</th>\n",
       "      <td>Simple</td>\n",
       "      <td>Basico</td>\n",
       "      <td>AVG</td>\n",
       "      <td>0.849926</td>\n",
       "      <td>0.836655</td>\n",
       "      <td>0.825691</td>\n",
       "      <td>0.836655</td>\n",
       "      <td>0.818922</td>\n",
       "      <td>10236</td>\n",
       "    </tr>\n",
       "    <tr>\n",
       "      <th>1</th>\n",
       "      <td>Simple</td>\n",
       "      <td>Basico</td>\n",
       "      <td>True</td>\n",
       "      <td>NaN</td>\n",
       "      <td>NaN</td>\n",
       "      <td>0.737692</td>\n",
       "      <td>0.418777</td>\n",
       "      <td>0.534262</td>\n",
       "      <td>2290</td>\n",
       "    </tr>\n",
       "    <tr>\n",
       "      <th>2</th>\n",
       "      <td>Simple</td>\n",
       "      <td>Basico</td>\n",
       "      <td>False</td>\n",
       "      <td>NaN</td>\n",
       "      <td>NaN</td>\n",
       "      <td>0.851052</td>\n",
       "      <td>0.957085</td>\n",
       "      <td>0.900960</td>\n",
       "      <td>7946</td>\n",
       "    </tr>\n",
       "    <tr>\n",
       "      <th>0</th>\n",
       "      <td>Val</td>\n",
       "      <td>Basico</td>\n",
       "      <td>AVG</td>\n",
       "      <td>0.851115</td>\n",
       "      <td>0.826104</td>\n",
       "      <td>0.821101</td>\n",
       "      <td>0.826104</td>\n",
       "      <td>0.794164</td>\n",
       "      <td>10236</td>\n",
       "    </tr>\n",
       "    <tr>\n",
       "      <th>1</th>\n",
       "      <td>Val</td>\n",
       "      <td>Basico</td>\n",
       "      <td>True</td>\n",
       "      <td>NaN</td>\n",
       "      <td>NaN</td>\n",
       "      <td>0.793103</td>\n",
       "      <td>0.301310</td>\n",
       "      <td>0.436709</td>\n",
       "      <td>2290</td>\n",
       "    </tr>\n",
       "    <tr>\n",
       "      <th>2</th>\n",
       "      <td>Val</td>\n",
       "      <td>Basico</td>\n",
       "      <td>False</td>\n",
       "      <td>NaN</td>\n",
       "      <td>NaN</td>\n",
       "      <td>0.829169</td>\n",
       "      <td>0.977347</td>\n",
       "      <td>0.897181</td>\n",
       "      <td>7946</td>\n",
       "    </tr>\n",
       "    <tr>\n",
       "      <th>0</th>\n",
       "      <td>Reg</td>\n",
       "      <td>Regularizado</td>\n",
       "      <td>AVG</td>\n",
       "      <td>0.864856</td>\n",
       "      <td>0.840563</td>\n",
       "      <td>0.829690</td>\n",
       "      <td>0.840563</td>\n",
       "      <td>0.829228</td>\n",
       "      <td>10236</td>\n",
       "    </tr>\n",
       "    <tr>\n",
       "      <th>1</th>\n",
       "      <td>Reg</td>\n",
       "      <td>Regularizado</td>\n",
       "      <td>True</td>\n",
       "      <td>NaN</td>\n",
       "      <td>NaN</td>\n",
       "      <td>0.709022</td>\n",
       "      <td>0.487336</td>\n",
       "      <td>0.577640</td>\n",
       "      <td>2290</td>\n",
       "    </tr>\n",
       "    <tr>\n",
       "      <th>2</th>\n",
       "      <td>Reg</td>\n",
       "      <td>Regularizado</td>\n",
       "      <td>False</td>\n",
       "      <td>NaN</td>\n",
       "      <td>NaN</td>\n",
       "      <td>0.864465</td>\n",
       "      <td>0.942361</td>\n",
       "      <td>0.901734</td>\n",
       "      <td>7946</td>\n",
       "    </tr>\n",
       "    <tr>\n",
       "      <th>0</th>\n",
       "      <td>HT</td>\n",
       "      <td>Hashing Trick</td>\n",
       "      <td>AVG</td>\n",
       "      <td>0.861953</td>\n",
       "      <td>0.835385</td>\n",
       "      <td>0.824932</td>\n",
       "      <td>0.835385</td>\n",
       "      <td>0.815616</td>\n",
       "      <td>10236</td>\n",
       "    </tr>\n",
       "    <tr>\n",
       "      <th>1</th>\n",
       "      <td>HT</td>\n",
       "      <td>Hashing Trick</td>\n",
       "      <td>True</td>\n",
       "      <td>NaN</td>\n",
       "      <td>NaN</td>\n",
       "      <td>0.746939</td>\n",
       "      <td>0.399563</td>\n",
       "      <td>0.520626</td>\n",
       "      <td>2290</td>\n",
       "    </tr>\n",
       "    <tr>\n",
       "      <th>2</th>\n",
       "      <td>HT</td>\n",
       "      <td>Hashing Trick</td>\n",
       "      <td>False</td>\n",
       "      <td>NaN</td>\n",
       "      <td>NaN</td>\n",
       "      <td>0.847409</td>\n",
       "      <td>0.960987</td>\n",
       "      <td>0.900631</td>\n",
       "      <td>7946</td>\n",
       "    </tr>\n",
       "    <tr>\n",
       "      <th>0</th>\n",
       "      <td>HTN</td>\n",
       "      <td>Hashing Trick + Normalizado</td>\n",
       "      <td>AVG</td>\n",
       "      <td>0.879120</td>\n",
       "      <td>0.849453</td>\n",
       "      <td>0.840290</td>\n",
       "      <td>0.849453</td>\n",
       "      <td>0.838086</td>\n",
       "      <td>10236</td>\n",
       "    </tr>\n",
       "    <tr>\n",
       "      <th>1</th>\n",
       "      <td>HTN</td>\n",
       "      <td>Hashing Trick + Normalizado</td>\n",
       "      <td>True</td>\n",
       "      <td>NaN</td>\n",
       "      <td>NaN</td>\n",
       "      <td>0.743340</td>\n",
       "      <td>0.499563</td>\n",
       "      <td>0.597545</td>\n",
       "      <td>2290</td>\n",
       "    </tr>\n",
       "    <tr>\n",
       "      <th>2</th>\n",
       "      <td>HTN</td>\n",
       "      <td>Hashing Trick + Normalizado</td>\n",
       "      <td>False</td>\n",
       "      <td>NaN</td>\n",
       "      <td>NaN</td>\n",
       "      <td>0.868230</td>\n",
       "      <td>0.950289</td>\n",
       "      <td>0.907409</td>\n",
       "      <td>7946</td>\n",
       "    </tr>\n",
       "  </tbody>\n",
       "</table>\n",
       "</div>"
      ],
      "text/plain": [
       "   Modelo            Preprocesamientos  Clase   AUC-ROC  Accuracy  Precision  \\\n",
       "0  Simple                       Basico    AVG  0.849926  0.836655   0.825691   \n",
       "1  Simple                       Basico   True       NaN       NaN   0.737692   \n",
       "2  Simple                       Basico  False       NaN       NaN   0.851052   \n",
       "0     Val                       Basico    AVG  0.851115  0.826104   0.821101   \n",
       "1     Val                       Basico   True       NaN       NaN   0.793103   \n",
       "2     Val                       Basico  False       NaN       NaN   0.829169   \n",
       "0     Reg                 Regularizado    AVG  0.864856  0.840563   0.829690   \n",
       "1     Reg                 Regularizado   True       NaN       NaN   0.709022   \n",
       "2     Reg                 Regularizado  False       NaN       NaN   0.864465   \n",
       "0      HT                Hashing Trick    AVG  0.861953  0.835385   0.824932   \n",
       "1      HT                Hashing Trick   True       NaN       NaN   0.746939   \n",
       "2      HT                Hashing Trick  False       NaN       NaN   0.847409   \n",
       "0     HTN  Hashing Trick + Normalizado    AVG  0.879120  0.849453   0.840290   \n",
       "1     HTN  Hashing Trick + Normalizado   True       NaN       NaN   0.743340   \n",
       "2     HTN  Hashing Trick + Normalizado  False       NaN       NaN   0.868230   \n",
       "\n",
       "     Recall  F1 score Support  \n",
       "0  0.836655  0.818922   10236  \n",
       "1  0.418777  0.534262    2290  \n",
       "2  0.957085  0.900960    7946  \n",
       "0  0.826104  0.794164   10236  \n",
       "1  0.301310  0.436709    2290  \n",
       "2  0.977347  0.897181    7946  \n",
       "0  0.840563  0.829228   10236  \n",
       "1  0.487336  0.577640    2290  \n",
       "2  0.942361  0.901734    7946  \n",
       "0  0.835385  0.815616   10236  \n",
       "1  0.399563  0.520626    2290  \n",
       "2  0.960987  0.900631    7946  \n",
       "0  0.849453  0.838086   10236  \n",
       "1  0.499563  0.597545    2290  \n",
       "2  0.950289  0.907409    7946  "
      ]
     },
     "execution_count": 35,
     "metadata": {},
     "output_type": "execute_result"
    }
   ],
   "source": [
    "predictions"
   ]
  },
  {
   "cell_type": "code",
   "execution_count": 37,
   "id": "dc60f6e1-700c-40ad-b2f1-7a82d5390b79",
   "metadata": {
    "execution": {
     "iopub.execute_input": "2021-12-29T22:03:49.590070Z",
     "iopub.status.busy": "2021-12-29T22:03:49.589832Z",
     "iopub.status.idle": "2021-12-29T22:03:49.598526Z",
     "shell.execute_reply": "2021-12-29T22:03:49.597932Z",
     "shell.execute_reply.started": "2021-12-29T22:03:49.590047Z"
    },
    "tags": []
   },
   "outputs": [],
   "source": [
    "if(saveBest):\n",
    "    dump(mlp_htn, 'models/NN/mlp.sk')"
   ]
  }
 ],
 "metadata": {
  "kernelspec": {
   "display_name": "Python 3 (ipykernel)",
   "language": "python",
   "name": "python3"
  },
  "language_info": {
   "codemirror_mode": {
    "name": "ipython",
    "version": 3
   },
   "file_extension": ".py",
   "mimetype": "text/x-python",
   "name": "python",
   "nbconvert_exporter": "python",
   "pygments_lexer": "ipython3",
   "version": "3.9.9"
  }
 },
 "nbformat": 4,
 "nbformat_minor": 5
}
