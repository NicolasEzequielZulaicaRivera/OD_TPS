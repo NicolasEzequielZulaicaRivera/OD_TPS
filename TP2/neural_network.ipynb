{
 "cells": [
  {
   "cell_type": "markdown",
   "id": "8172a3ad-f6b1-4d82-b4ba-6b4e2ed0c8dc",
   "metadata": {},
   "source": [
    "# Red Neuronal"
   ]
  },
  {
   "cell_type": "markdown",
   "id": "9d1941a2-1869-445e-b85e-75ef52164578",
   "metadata": {},
   "source": [
    "### Imports"
   ]
  },
  {
   "cell_type": "code",
   "execution_count": 1,
   "id": "62d0b99e-037e-4fbe-99b2-f03bdabcf34d",
   "metadata": {
    "execution": {
     "iopub.execute_input": "2021-12-29T18:03:44.953200Z",
     "iopub.status.busy": "2021-12-29T18:03:44.952984Z",
     "iopub.status.idle": "2021-12-29T18:03:46.046852Z",
     "shell.execute_reply": "2021-12-29T18:03:46.045999Z",
     "shell.execute_reply.started": "2021-12-29T18:03:44.953149Z"
    },
    "tags": []
   },
   "outputs": [],
   "source": [
    "import pandas as pd\n",
    "import numpy as np\n",
    "from matplotlib import pyplot as plt\n",
    "from joblib import dump, load"
   ]
  },
  {
   "cell_type": "code",
   "execution_count": 2,
   "id": "a2d6e5a5-982f-4b8b-8d37-731f87afa7fc",
   "metadata": {
    "execution": {
     "iopub.execute_input": "2021-12-29T18:03:46.048124Z",
     "iopub.status.busy": "2021-12-29T18:03:46.047855Z",
     "iopub.status.idle": "2021-12-29T18:03:46.422305Z",
     "shell.execute_reply": "2021-12-29T18:03:46.421554Z",
     "shell.execute_reply.started": "2021-12-29T18:03:46.048099Z"
    },
    "tags": []
   },
   "outputs": [],
   "source": [
    "from sklearn.neural_network import MLPClassifier\n",
    "from sklearn.model_selection import RandomizedSearchCV\n",
    "from sklearn.metrics import roc_auc_score"
   ]
  },
  {
   "cell_type": "code",
   "execution_count": 3,
   "id": "98073fb3-ae90-4ff9-a05d-65ecb758edd0",
   "metadata": {
    "execution": {
     "iopub.execute_input": "2021-12-29T18:03:46.425650Z",
     "iopub.status.busy": "2021-12-29T18:03:46.425334Z",
     "iopub.status.idle": "2021-12-29T18:03:47.886990Z",
     "shell.execute_reply": "2021-12-29T18:03:47.886419Z",
     "shell.execute_reply.started": "2021-12-29T18:03:46.425620Z"
    },
    "tags": []
   },
   "outputs": [
    {
     "name": "stdout",
     "output_type": "stream",
     "text": [
      "[###] Initial Preprocessings Done                           \n",
      "[###] Aditional Preprocessings Done                                                   \n"
     ]
    }
   ],
   "source": [
    "from preprocessing import reemplazarNulls,reemplazarCategoricas,reemplazarFechas,targetBooleano,regularizar,reemplazarCategoricas_HashTrick,reemplazarNullsNum"
   ]
  },
  {
   "cell_type": "markdown",
   "id": "2a61af87-8a2c-4ee2-8af2-5950a793a22a",
   "metadata": {},
   "source": [
    "### Codigo a correr"
   ]
  },
  {
   "cell_type": "code",
   "execution_count": 4,
   "id": "e712148c-0f89-485b-a383-ffcfd860948b",
   "metadata": {
    "execution": {
     "iopub.execute_input": "2021-12-29T18:03:47.888058Z",
     "iopub.status.busy": "2021-12-29T18:03:47.887801Z",
     "iopub.status.idle": "2021-12-29T18:03:47.891887Z",
     "shell.execute_reply": "2021-12-29T18:03:47.890726Z",
     "shell.execute_reply.started": "2021-12-29T18:03:47.888035Z"
    },
    "tags": []
   },
   "outputs": [],
   "source": [
    "MAX_ITER = 10**4\n",
    "MAX_JOBS = -1"
   ]
  },
  {
   "cell_type": "markdown",
   "id": "2cdabf60-a9b0-4811-8e39-004d298928d8",
   "metadata": {},
   "source": [
    "**Run :** Entrenar Nuevamente o Cargar Entrenado"
   ]
  },
  {
   "cell_type": "code",
   "execution_count": 5,
   "id": "6a34dae7-b811-47e7-ae44-399d9399d29a",
   "metadata": {
    "execution": {
     "iopub.execute_input": "2021-12-29T18:03:47.894552Z",
     "iopub.status.busy": "2021-12-29T18:03:47.893765Z",
     "iopub.status.idle": "2021-12-29T18:03:47.898413Z",
     "shell.execute_reply": "2021-12-29T18:03:47.897875Z",
     "shell.execute_reply.started": "2021-12-29T18:03:47.894488Z"
    },
    "tags": []
   },
   "outputs": [],
   "source": [
    "runSimple = True\n",
    "runMlpC = True\n",
    "runMlpC_R = True\n",
    "runHt = True"
   ]
  },
  {
   "cell_type": "markdown",
   "id": "c46677cb-6af4-44c8-b202-832377d0580d",
   "metadata": {},
   "source": [
    "**Save :** Guardar Modelo (pisa anterior)"
   ]
  },
  {
   "cell_type": "code",
   "execution_count": 6,
   "id": "bb7910c8-8ddc-4832-95a7-7014afd99983",
   "metadata": {
    "execution": {
     "iopub.execute_input": "2021-12-29T18:03:47.899454Z",
     "iopub.status.busy": "2021-12-29T18:03:47.899195Z",
     "iopub.status.idle": "2021-12-29T18:03:47.903222Z",
     "shell.execute_reply": "2021-12-29T18:03:47.902210Z",
     "shell.execute_reply.started": "2021-12-29T18:03:47.899434Z"
    },
    "tags": []
   },
   "outputs": [],
   "source": [
    "saveMlpC = True\n",
    "saveMlpC_R = True\n",
    "saveHt = True\n",
    "saveBest = True"
   ]
  },
  {
   "cell_type": "code",
   "execution_count": 19,
   "id": "e0667f84-bf4e-4834-a2b1-1b46d8be405e",
   "metadata": {
    "execution": {
     "iopub.execute_input": "2021-12-29T18:10:48.924565Z",
     "iopub.status.busy": "2021-12-29T18:10:48.924321Z",
     "iopub.status.idle": "2021-12-29T18:10:48.928188Z",
     "shell.execute_reply": "2021-12-29T18:10:48.927427Z",
     "shell.execute_reply.started": "2021-12-29T18:10:48.924543Z"
    },
    "tags": []
   },
   "outputs": [],
   "source": [
    "predictions = pd.DataFrame()"
   ]
  },
  {
   "cell_type": "code",
   "execution_count": 8,
   "id": "8c87d7bb-61c4-49f0-bff4-9fb05527a2d9",
   "metadata": {
    "execution": {
     "iopub.execute_input": "2021-12-29T18:03:47.910051Z",
     "iopub.status.busy": "2021-12-29T18:03:47.909732Z",
     "iopub.status.idle": "2021-12-29T18:03:48.348654Z",
     "shell.execute_reply": "2021-12-29T18:03:48.347977Z",
     "shell.execute_reply.started": "2021-12-29T18:03:47.910027Z"
    },
    "tags": []
   },
   "outputs": [],
   "source": [
    "from utilities import score, score2, df_feat, df_targ, train_val"
   ]
  },
  {
   "cell_type": "markdown",
   "id": "773b5023-83fe-4e46-abed-1d987d0f22a4",
   "metadata": {},
   "source": [
    "### Preprocesamiento"
   ]
  },
  {
   "cell_type": "code",
   "execution_count": 9,
   "id": "3e49a10e-27bd-4db3-9bfa-748dd76f92a3",
   "metadata": {
    "execution": {
     "iopub.execute_input": "2021-12-29T18:03:48.350350Z",
     "iopub.status.busy": "2021-12-29T18:03:48.349985Z",
     "iopub.status.idle": "2021-12-29T18:05:36.795920Z",
     "shell.execute_reply": "2021-12-29T18:05:36.795337Z",
     "shell.execute_reply.started": "2021-12-29T18:03:48.350311Z"
    },
    "tags": []
   },
   "outputs": [
    {
     "data": {
      "text/html": [
       "<div>\n",
       "<style scoped>\n",
       "    .dataframe tbody tr th:only-of-type {\n",
       "        vertical-align: middle;\n",
       "    }\n",
       "\n",
       "    .dataframe tbody tr th {\n",
       "        vertical-align: top;\n",
       "    }\n",
       "\n",
       "    .dataframe thead th {\n",
       "        text-align: right;\n",
       "    }\n",
       "</style>\n",
       "<table border=\"1\" class=\"dataframe\">\n",
       "  <thead>\n",
       "    <tr style=\"text-align: right;\">\n",
       "      <th></th>\n",
       "      <th>horas_de_sol</th>\n",
       "      <th>humedad_tarde</th>\n",
       "      <th>humedad_temprano</th>\n",
       "      <th>mm_evaporados_agua</th>\n",
       "      <th>mm_lluvia_dia</th>\n",
       "      <th>nubosidad_tarde</th>\n",
       "      <th>nubosidad_temprano</th>\n",
       "      <th>presion_atmosferica_tarde</th>\n",
       "      <th>presion_atmosferica_temprano</th>\n",
       "      <th>rafaga_viento_max_velocidad</th>\n",
       "      <th>...</th>\n",
       "      <th>missing_rafaga_viento_max_velocidad</th>\n",
       "      <th>missing_temp_max</th>\n",
       "      <th>missing_temp_min</th>\n",
       "      <th>missing_temperatura_tarde</th>\n",
       "      <th>missing_temperatura_temprano</th>\n",
       "      <th>missing_velocidad_viendo_tarde</th>\n",
       "      <th>missing_velocidad_viendo_temprano</th>\n",
       "      <th>y</th>\n",
       "      <th>m</th>\n",
       "      <th>d</th>\n",
       "    </tr>\n",
       "    <tr>\n",
       "      <th>id</th>\n",
       "      <th></th>\n",
       "      <th></th>\n",
       "      <th></th>\n",
       "      <th></th>\n",
       "      <th></th>\n",
       "      <th></th>\n",
       "      <th></th>\n",
       "      <th></th>\n",
       "      <th></th>\n",
       "      <th></th>\n",
       "      <th></th>\n",
       "      <th></th>\n",
       "      <th></th>\n",
       "      <th></th>\n",
       "      <th></th>\n",
       "      <th></th>\n",
       "      <th></th>\n",
       "      <th></th>\n",
       "      <th></th>\n",
       "      <th></th>\n",
       "      <th></th>\n",
       "    </tr>\n",
       "  </thead>\n",
       "  <tbody>\n",
       "    <tr>\n",
       "      <th>74816</th>\n",
       "      <td>7.629393</td>\n",
       "      <td>78.0</td>\n",
       "      <td>74.0</td>\n",
       "      <td>5.470542</td>\n",
       "      <td>68.0</td>\n",
       "      <td>4.50597</td>\n",
       "      <td>4.430203</td>\n",
       "      <td>1024.200000</td>\n",
       "      <td>1026.200000</td>\n",
       "      <td>48.0</td>\n",
       "      <td>...</td>\n",
       "      <td>False</td>\n",
       "      <td>False</td>\n",
       "      <td>False</td>\n",
       "      <td>False</td>\n",
       "      <td>False</td>\n",
       "      <td>False</td>\n",
       "      <td>False</td>\n",
       "      <td>2014</td>\n",
       "      <td>6</td>\n",
       "      <td>7</td>\n",
       "    </tr>\n",
       "    <tr>\n",
       "      <th>64318</th>\n",
       "      <td>7.629393</td>\n",
       "      <td>14.0</td>\n",
       "      <td>56.0</td>\n",
       "      <td>5.470542</td>\n",
       "      <td>5.8</td>\n",
       "      <td>1.00000</td>\n",
       "      <td>4.430203</td>\n",
       "      <td>998.300000</td>\n",
       "      <td>1002.500000</td>\n",
       "      <td>61.0</td>\n",
       "      <td>...</td>\n",
       "      <td>False</td>\n",
       "      <td>False</td>\n",
       "      <td>False</td>\n",
       "      <td>False</td>\n",
       "      <td>False</td>\n",
       "      <td>False</td>\n",
       "      <td>False</td>\n",
       "      <td>2014</td>\n",
       "      <td>12</td>\n",
       "      <td>7</td>\n",
       "    </tr>\n",
       "    <tr>\n",
       "      <th>54357</th>\n",
       "      <td>2.600000</td>\n",
       "      <td>79.0</td>\n",
       "      <td>47.0</td>\n",
       "      <td>5.470542</td>\n",
       "      <td>0.0</td>\n",
       "      <td>8.00000</td>\n",
       "      <td>7.000000</td>\n",
       "      <td>1000.500000</td>\n",
       "      <td>1005.800000</td>\n",
       "      <td>57.0</td>\n",
       "      <td>...</td>\n",
       "      <td>False</td>\n",
       "      <td>False</td>\n",
       "      <td>False</td>\n",
       "      <td>False</td>\n",
       "      <td>False</td>\n",
       "      <td>False</td>\n",
       "      <td>False</td>\n",
       "      <td>2010</td>\n",
       "      <td>7</td>\n",
       "      <td>8</td>\n",
       "    </tr>\n",
       "    <tr>\n",
       "      <th>1762</th>\n",
       "      <td>0.000000</td>\n",
       "      <td>92.0</td>\n",
       "      <td>96.0</td>\n",
       "      <td>3.000000</td>\n",
       "      <td>5.0</td>\n",
       "      <td>8.00000</td>\n",
       "      <td>8.000000</td>\n",
       "      <td>1015.400000</td>\n",
       "      <td>1016.800000</td>\n",
       "      <td>54.0</td>\n",
       "      <td>...</td>\n",
       "      <td>False</td>\n",
       "      <td>False</td>\n",
       "      <td>False</td>\n",
       "      <td>False</td>\n",
       "      <td>False</td>\n",
       "      <td>False</td>\n",
       "      <td>False</td>\n",
       "      <td>2015</td>\n",
       "      <td>11</td>\n",
       "      <td>4</td>\n",
       "    </tr>\n",
       "    <tr>\n",
       "      <th>89422</th>\n",
       "      <td>7.629393</td>\n",
       "      <td>14.0</td>\n",
       "      <td>37.0</td>\n",
       "      <td>5.470542</td>\n",
       "      <td>0.0</td>\n",
       "      <td>2.00000</td>\n",
       "      <td>4.430203</td>\n",
       "      <td>1006.400000</td>\n",
       "      <td>1011.100000</td>\n",
       "      <td>50.0</td>\n",
       "      <td>...</td>\n",
       "      <td>False</td>\n",
       "      <td>False</td>\n",
       "      <td>False</td>\n",
       "      <td>False</td>\n",
       "      <td>False</td>\n",
       "      <td>False</td>\n",
       "      <td>False</td>\n",
       "      <td>2014</td>\n",
       "      <td>12</td>\n",
       "      <td>22</td>\n",
       "    </tr>\n",
       "    <tr>\n",
       "      <th>...</th>\n",
       "      <td>...</td>\n",
       "      <td>...</td>\n",
       "      <td>...</td>\n",
       "      <td>...</td>\n",
       "      <td>...</td>\n",
       "      <td>...</td>\n",
       "      <td>...</td>\n",
       "      <td>...</td>\n",
       "      <td>...</td>\n",
       "      <td>...</td>\n",
       "      <td>...</td>\n",
       "      <td>...</td>\n",
       "      <td>...</td>\n",
       "      <td>...</td>\n",
       "      <td>...</td>\n",
       "      <td>...</td>\n",
       "      <td>...</td>\n",
       "      <td>...</td>\n",
       "      <td>...</td>\n",
       "      <td>...</td>\n",
       "      <td>...</td>\n",
       "    </tr>\n",
       "    <tr>\n",
       "      <th>49272</th>\n",
       "      <td>6.500000</td>\n",
       "      <td>63.0</td>\n",
       "      <td>44.0</td>\n",
       "      <td>3.800000</td>\n",
       "      <td>0.4</td>\n",
       "      <td>6.00000</td>\n",
       "      <td>2.000000</td>\n",
       "      <td>1011.800000</td>\n",
       "      <td>1014.500000</td>\n",
       "      <td>72.0</td>\n",
       "      <td>...</td>\n",
       "      <td>False</td>\n",
       "      <td>False</td>\n",
       "      <td>False</td>\n",
       "      <td>False</td>\n",
       "      <td>False</td>\n",
       "      <td>False</td>\n",
       "      <td>False</td>\n",
       "      <td>2012</td>\n",
       "      <td>5</td>\n",
       "      <td>23</td>\n",
       "    </tr>\n",
       "    <tr>\n",
       "      <th>13885</th>\n",
       "      <td>2.100000</td>\n",
       "      <td>65.0</td>\n",
       "      <td>80.0</td>\n",
       "      <td>1.600000</td>\n",
       "      <td>5.2</td>\n",
       "      <td>7.00000</td>\n",
       "      <td>7.000000</td>\n",
       "      <td>1017.500000</td>\n",
       "      <td>1016.300000</td>\n",
       "      <td>48.0</td>\n",
       "      <td>...</td>\n",
       "      <td>False</td>\n",
       "      <td>False</td>\n",
       "      <td>False</td>\n",
       "      <td>False</td>\n",
       "      <td>False</td>\n",
       "      <td>False</td>\n",
       "      <td>False</td>\n",
       "      <td>2011</td>\n",
       "      <td>10</td>\n",
       "      <td>25</td>\n",
       "    </tr>\n",
       "    <tr>\n",
       "      <th>4586</th>\n",
       "      <td>7.629393</td>\n",
       "      <td>81.0</td>\n",
       "      <td>62.0</td>\n",
       "      <td>5.470542</td>\n",
       "      <td>0.0</td>\n",
       "      <td>4.50597</td>\n",
       "      <td>4.430203</td>\n",
       "      <td>1015.257118</td>\n",
       "      <td>1017.655555</td>\n",
       "      <td>35.0</td>\n",
       "      <td>...</td>\n",
       "      <td>False</td>\n",
       "      <td>False</td>\n",
       "      <td>False</td>\n",
       "      <td>False</td>\n",
       "      <td>False</td>\n",
       "      <td>False</td>\n",
       "      <td>False</td>\n",
       "      <td>2015</td>\n",
       "      <td>12</td>\n",
       "      <td>16</td>\n",
       "    </tr>\n",
       "    <tr>\n",
       "      <th>68030</th>\n",
       "      <td>0.900000</td>\n",
       "      <td>79.0</td>\n",
       "      <td>65.0</td>\n",
       "      <td>2.200000</td>\n",
       "      <td>0.0</td>\n",
       "      <td>8.00000</td>\n",
       "      <td>7.000000</td>\n",
       "      <td>1000.800000</td>\n",
       "      <td>1010.900000</td>\n",
       "      <td>56.0</td>\n",
       "      <td>...</td>\n",
       "      <td>False</td>\n",
       "      <td>False</td>\n",
       "      <td>False</td>\n",
       "      <td>False</td>\n",
       "      <td>False</td>\n",
       "      <td>False</td>\n",
       "      <td>False</td>\n",
       "      <td>2010</td>\n",
       "      <td>8</td>\n",
       "      <td>18</td>\n",
       "    </tr>\n",
       "    <tr>\n",
       "      <th>32535</th>\n",
       "      <td>10.700000</td>\n",
       "      <td>56.0</td>\n",
       "      <td>65.0</td>\n",
       "      <td>10.000000</td>\n",
       "      <td>0.0</td>\n",
       "      <td>2.00000</td>\n",
       "      <td>2.000000</td>\n",
       "      <td>1019.400000</td>\n",
       "      <td>1020.800000</td>\n",
       "      <td>48.0</td>\n",
       "      <td>...</td>\n",
       "      <td>False</td>\n",
       "      <td>False</td>\n",
       "      <td>False</td>\n",
       "      <td>False</td>\n",
       "      <td>False</td>\n",
       "      <td>False</td>\n",
       "      <td>False</td>\n",
       "      <td>2015</td>\n",
       "      <td>12</td>\n",
       "      <td>7</td>\n",
       "    </tr>\n",
       "  </tbody>\n",
       "</table>\n",
       "<p>102356 rows × 53 columns</p>\n",
       "</div>"
      ],
      "text/plain": [
       "       horas_de_sol  humedad_tarde  humedad_temprano  mm_evaporados_agua  \\\n",
       "id                                                                         \n",
       "74816      7.629393           78.0              74.0            5.470542   \n",
       "64318      7.629393           14.0              56.0            5.470542   \n",
       "54357      2.600000           79.0              47.0            5.470542   \n",
       "1762       0.000000           92.0              96.0            3.000000   \n",
       "89422      7.629393           14.0              37.0            5.470542   \n",
       "...             ...            ...               ...                 ...   \n",
       "49272      6.500000           63.0              44.0            3.800000   \n",
       "13885      2.100000           65.0              80.0            1.600000   \n",
       "4586       7.629393           81.0              62.0            5.470542   \n",
       "68030      0.900000           79.0              65.0            2.200000   \n",
       "32535     10.700000           56.0              65.0           10.000000   \n",
       "\n",
       "       mm_lluvia_dia  nubosidad_tarde  nubosidad_temprano  \\\n",
       "id                                                          \n",
       "74816           68.0          4.50597            4.430203   \n",
       "64318            5.8          1.00000            4.430203   \n",
       "54357            0.0          8.00000            7.000000   \n",
       "1762             5.0          8.00000            8.000000   \n",
       "89422            0.0          2.00000            4.430203   \n",
       "...              ...              ...                 ...   \n",
       "49272            0.4          6.00000            2.000000   \n",
       "13885            5.2          7.00000            7.000000   \n",
       "4586             0.0          4.50597            4.430203   \n",
       "68030            0.0          8.00000            7.000000   \n",
       "32535            0.0          2.00000            2.000000   \n",
       "\n",
       "       presion_atmosferica_tarde  presion_atmosferica_temprano  \\\n",
       "id                                                               \n",
       "74816                1024.200000                   1026.200000   \n",
       "64318                 998.300000                   1002.500000   \n",
       "54357                1000.500000                   1005.800000   \n",
       "1762                 1015.400000                   1016.800000   \n",
       "89422                1006.400000                   1011.100000   \n",
       "...                          ...                           ...   \n",
       "49272                1011.800000                   1014.500000   \n",
       "13885                1017.500000                   1016.300000   \n",
       "4586                 1015.257118                   1017.655555   \n",
       "68030                1000.800000                   1010.900000   \n",
       "32535                1019.400000                   1020.800000   \n",
       "\n",
       "       rafaga_viento_max_velocidad  ...  missing_rafaga_viento_max_velocidad  \\\n",
       "id                                  ...                                        \n",
       "74816                         48.0  ...                                False   \n",
       "64318                         61.0  ...                                False   \n",
       "54357                         57.0  ...                                False   \n",
       "1762                          54.0  ...                                False   \n",
       "89422                         50.0  ...                                False   \n",
       "...                            ...  ...                                  ...   \n",
       "49272                         72.0  ...                                False   \n",
       "13885                         48.0  ...                                False   \n",
       "4586                          35.0  ...                                False   \n",
       "68030                         56.0  ...                                False   \n",
       "32535                         48.0  ...                                False   \n",
       "\n",
       "       missing_temp_max  missing_temp_min  missing_temperatura_tarde  \\\n",
       "id                                                                     \n",
       "74816             False             False                      False   \n",
       "64318             False             False                      False   \n",
       "54357             False             False                      False   \n",
       "1762              False             False                      False   \n",
       "89422             False             False                      False   \n",
       "...                 ...               ...                        ...   \n",
       "49272             False             False                      False   \n",
       "13885             False             False                      False   \n",
       "4586              False             False                      False   \n",
       "68030             False             False                      False   \n",
       "32535             False             False                      False   \n",
       "\n",
       "       missing_temperatura_temprano  missing_velocidad_viendo_tarde  \\\n",
       "id                                                                    \n",
       "74816                         False                           False   \n",
       "64318                         False                           False   \n",
       "54357                         False                           False   \n",
       "1762                          False                           False   \n",
       "89422                         False                           False   \n",
       "...                             ...                             ...   \n",
       "49272                         False                           False   \n",
       "13885                         False                           False   \n",
       "4586                          False                           False   \n",
       "68030                         False                           False   \n",
       "32535                         False                           False   \n",
       "\n",
       "       missing_velocidad_viendo_temprano     y   m   d  \n",
       "id                                                      \n",
       "74816                              False  2014   6   7  \n",
       "64318                              False  2014  12   7  \n",
       "54357                              False  2010   7   8  \n",
       "1762                               False  2015  11   4  \n",
       "89422                              False  2014  12  22  \n",
       "...                                  ...   ...  ..  ..  \n",
       "49272                              False  2012   5  23  \n",
       "13885                              False  2011  10  25  \n",
       "4586                               False  2015  12  16  \n",
       "68030                              False  2010   8  18  \n",
       "32535                              False  2015  12   7  \n",
       "\n",
       "[102356 rows x 53 columns]"
      ]
     },
     "execution_count": 9,
     "metadata": {},
     "output_type": "execute_result"
    }
   ],
   "source": [
    "targetBooleano(df_targ, inplace=True)\n",
    "ht_feat = reemplazarCategoricas_HashTrick(df_feat)\n",
    "\n",
    "reemplazarNulls(df_feat , inplace=True)\n",
    "reemplazarCategoricas(df_feat , inplace=True)\n",
    "reemplazarFechas(df_feat , inplace=True)\n",
    "\n",
    "df_feat_r = regularizar(df_feat)\n",
    "\n",
    "reemplazarNullsNum(ht_feat, inplace=True)\n",
    "reemplazarFechas(ht_feat , inplace=True)"
   ]
  },
  {
   "cell_type": "code",
   "execution_count": 10,
   "id": "e469dcc0-e1a4-4649-866a-62a94835073d",
   "metadata": {
    "execution": {
     "iopub.execute_input": "2021-12-29T18:05:36.797309Z",
     "iopub.status.busy": "2021-12-29T18:05:36.797012Z",
     "iopub.status.idle": "2021-12-29T18:05:36.942528Z",
     "shell.execute_reply": "2021-12-29T18:05:36.941949Z",
     "shell.execute_reply.started": "2021-12-29T18:05:36.797288Z"
    },
    "tags": []
   },
   "outputs": [],
   "source": [
    "train_feat, val_feat, train_targ, val_targ = train_val( df_feat, df_targ, True )\n",
    "train_feat_r, val_feat_r, train_targ_r, val_targ_r = train_val( df_feat_r, df_targ, True )\n",
    "train_feat_ht, val_feat_ht, train_targ_ht, val_targ_ht = train_val( ht_feat, df_targ, True )"
   ]
  },
  {
   "cell_type": "code",
   "execution_count": 11,
   "id": "329598d1-4fa3-47b2-92ae-f4ea047d001c",
   "metadata": {
    "execution": {
     "iopub.execute_input": "2021-12-29T18:05:36.943719Z",
     "iopub.status.busy": "2021-12-29T18:05:36.943376Z",
     "iopub.status.idle": "2021-12-29T18:05:36.947717Z",
     "shell.execute_reply": "2021-12-29T18:05:36.946725Z",
     "shell.execute_reply.started": "2021-12-29T18:05:36.943688Z"
    },
    "tags": []
   },
   "outputs": [],
   "source": [
    "layer_sizes = []\n",
    "for i in range(10):\n",
    "    for j in range(10):\n",
    "        layer_sizes.append( ( i+1, j+1 ) )"
   ]
  },
  {
   "cell_type": "markdown",
   "id": "fef0f64c-2258-43be-83ad-f15f40907b01",
   "metadata": {},
   "source": [
    "## Simple"
   ]
  },
  {
   "cell_type": "code",
   "execution_count": 12,
   "id": "a376b7d5-95e7-4cf8-8607-bf056f20de30",
   "metadata": {
    "execution": {
     "iopub.execute_input": "2021-12-29T18:05:36.953412Z",
     "iopub.status.busy": "2021-12-29T18:05:36.953197Z",
     "iopub.status.idle": "2021-12-29T18:05:42.998354Z",
     "shell.execute_reply": "2021-12-29T18:05:42.997714Z",
     "shell.execute_reply.started": "2021-12-29T18:05:36.953388Z"
    },
    "tags": []
   },
   "outputs": [],
   "source": [
    "if (runSimple):\n",
    "    mlp = MLPClassifier(\n",
    "        solver='adam',\n",
    "        max_iter=MAX_ITER,\n",
    "        random_state=1,\n",
    "    ).fit(train_feat, train_targ)"
   ]
  },
  {
   "cell_type": "code",
   "execution_count": 13,
   "id": "c5aa1044-5fa5-46b8-89e6-e943135c8112",
   "metadata": {
    "execution": {
     "iopub.execute_input": "2021-12-29T18:05:42.999570Z",
     "iopub.status.busy": "2021-12-29T18:05:42.999391Z",
     "iopub.status.idle": "2021-12-29T18:05:43.304406Z",
     "shell.execute_reply": "2021-12-29T18:05:43.303804Z",
     "shell.execute_reply.started": "2021-12-29T18:05:42.999544Z"
    },
    "tags": []
   },
   "outputs": [
    {
     "name": "stdout",
     "output_type": "stream",
     "text": [
      "AUC-ROC: 0.8499260840366799\n",
      "              precision    recall  f1-score   support\n",
      "\n",
      "       False       0.85      0.96      0.90      7946\n",
      "        True       0.74      0.42      0.53      2290\n",
      "\n",
      "    accuracy                           0.84     10236\n",
      "   macro avg       0.79      0.69      0.72     10236\n",
      "weighted avg       0.83      0.84      0.82     10236\n",
      "\n",
      "CONFUSION MATRIX\n"
     ]
    },
    {
     "data": {
      "text/plain": [
       "None"
      ]
     },
     "metadata": {},
     "output_type": "display_data"
    },
    {
     "data": {
      "image/png": "[encoded data removed]",
      "text/plain": [
       "<Figure size 432x288 with 2 Axes>"
      ]
     },
     "metadata": {},
     "output_type": "display_data"
    }
   ],
   "source": [
    "if (runSimple):\n",
    "    pred = mlp.predict(val_feat)\n",
    "    prob = mlp.predict_proba(val_feat)\n",
    "    display(score(val_targ, pred, prob[:,1]))\n",
    "    pdf = score2('Simple','Basico',val_targ, pred, prob[:,1])\n",
    "    predictions = predictions.append( pdf )"
   ]
  },
  {
   "cell_type": "markdown",
   "id": "53e853e8-8b50-4672-a077-71bc4023dce1",
   "metadata": {},
   "source": [
    "## MLP Clasifier"
   ]
  },
  {
   "cell_type": "code",
   "execution_count": 14,
   "id": "58509551-5655-4924-a310-41064e587819",
   "metadata": {
    "execution": {
     "iopub.execute_input": "2021-12-29T18:05:43.305598Z",
     "iopub.status.busy": "2021-12-29T18:05:43.305320Z",
     "iopub.status.idle": "2021-12-29T18:07:15.455047Z",
     "shell.execute_reply": "2021-12-29T18:07:15.454089Z",
     "shell.execute_reply.started": "2021-12-29T18:05:43.305569Z"
    },
    "scrolled": true,
    "tags": []
   },
   "outputs": [
    {
     "name": "stdout",
     "output_type": "stream",
     "text": [
      "Fitting 5 folds for each of 10 candidates, totalling 50 fits\n"
     ]
    }
   ],
   "source": [
    "if (runMlpC):\n",
    "    mlp_cls = MLPClassifier(\n",
    "        solver='adam',\n",
    "        max_iter=MAX_ITER,\n",
    "        random_state=1,\n",
    "    )\n",
    "    params = {\n",
    "        'alpha': np.arange(1e-5,10e-5,1e-5),\n",
    "        'hidden_layer_sizes':layer_sizes,\n",
    "        'activation': ['identity', 'logistic', 'relu', 'tanh'],\n",
    "        'learning_rate': [\"constant\", \"invscaling\", \"adaptive\"],\n",
    "    }\n",
    "    \n",
    "    mlp_cls_grid = RandomizedSearchCV(\n",
    "        mlp_cls,\n",
    "        params,\n",
    "        scoring='roc_auc',\n",
    "        n_jobs=MAX_JOBS,\n",
    "        return_train_score=True,\n",
    "        verbose=1,\n",
    "    ).fit(train_feat, train_targ)\n",
    "    \n",
    "    # Guardar\n",
    "    if(saveMlpC):\n",
    "        dump(mlp_cls_grid, 'models/NN/mlp_cls_grid.sk')\n",
    "else:\n",
    "    # Cargar\n",
    "    mlp_cls_grid = load('models/NN/mlp_cls_grid.sk')"
   ]
  },
  {
   "cell_type": "code",
   "execution_count": 15,
   "id": "5af9461d-ffa5-4fec-9921-60b3b804afba",
   "metadata": {
    "execution": {
     "iopub.execute_input": "2021-12-29T18:07:15.456680Z",
     "iopub.status.busy": "2021-12-29T18:07:15.456389Z",
     "iopub.status.idle": "2021-12-29T18:07:15.463074Z",
     "shell.execute_reply": "2021-12-29T18:07:15.462084Z",
     "shell.execute_reply.started": "2021-12-29T18:07:15.456656Z"
    },
    "tags": []
   },
   "outputs": [
    {
     "name": "stdout",
     "output_type": "stream",
     "text": [
      "Best score: 0.8531912253343096\n",
      "Best params {'learning_rate': 'adaptive', 'hidden_layer_sizes': (6, 6), 'alpha': 9e-05, 'activation': 'identity'}\n"
     ]
    }
   ],
   "source": [
    "print(f\"Best score: {mlp_cls_grid.best_score_}\")\n",
    "print(f\"Best params {mlp_cls_grid.best_params_}\")"
   ]
  },
  {
   "cell_type": "code",
   "execution_count": 16,
   "id": "72f0f581-1296-4084-8d33-230c4a35a497",
   "metadata": {
    "execution": {
     "iopub.execute_input": "2021-12-29T18:07:15.465639Z",
     "iopub.status.busy": "2021-12-29T18:07:15.465228Z",
     "iopub.status.idle": "2021-12-29T18:07:15.470554Z",
     "shell.execute_reply": "2021-12-29T18:07:15.469631Z",
     "shell.execute_reply.started": "2021-12-29T18:07:15.465604Z"
    },
    "tags": []
   },
   "outputs": [],
   "source": [
    "mlp_cls = mlp_cls_grid.best_estimator_"
   ]
  },
  {
   "cell_type": "code",
   "execution_count": 20,
   "id": "4b10cd9a-f190-4abb-b60a-bb48c5092386",
   "metadata": {
    "execution": {
     "iopub.execute_input": "2021-12-29T18:11:03.101867Z",
     "iopub.status.busy": "2021-12-29T18:11:03.101589Z",
     "iopub.status.idle": "2021-12-29T18:11:03.366980Z",
     "shell.execute_reply": "2021-12-29T18:11:03.366394Z",
     "shell.execute_reply.started": "2021-12-29T18:11:03.101835Z"
    },
    "tags": []
   },
   "outputs": [
    {
     "name": "stdout",
     "output_type": "stream",
     "text": [
      "AUC-ROC: 0.8461262539609613\n",
      "              precision    recall  f1-score   support\n",
      "\n",
      "       False       0.87      0.93      0.90      7946\n",
      "        True       0.67      0.50      0.57      2290\n",
      "\n",
      "    accuracy                           0.83     10236\n",
      "   macro avg       0.77      0.72      0.74     10236\n",
      "weighted avg       0.82      0.83      0.82     10236\n",
      "\n",
      "CONFUSION MATRIX\n",
      "CPU times: user 431 ms, sys: 101 ms, total: 531 ms\n",
      "Wall time: 183 ms\n"
     ]
    },
    {
     "data": {
      "image/png": "[encoded data removed]",
      "text/plain": [
       "<Figure size 432x288 with 2 Axes>"
      ]
     },
     "metadata": {},
     "output_type": "display_data"
    }
   ],
   "source": [
    "%%time\n",
    "pred = mlp_cls.predict(val_feat)\n",
    "prob = mlp_cls.predict_proba(val_feat)\n",
    "score(val_targ, pred, prob[:,1])"
   ]
  },
  {
   "cell_type": "code",
   "execution_count": 21,
   "id": "a63288ea-4700-45c6-8bd5-3267a5cccf1f",
   "metadata": {
    "execution": {
     "iopub.execute_input": "2021-12-29T18:11:03.368980Z",
     "iopub.status.busy": "2021-12-29T18:11:03.368674Z",
     "iopub.status.idle": "2021-12-29T18:11:03.403720Z",
     "shell.execute_reply": "2021-12-29T18:11:03.403079Z",
     "shell.execute_reply.started": "2021-12-29T18:11:03.368952Z"
    }
   },
   "outputs": [],
   "source": [
    "pdf = score2('Val','Basico',val_targ, pred, prob[:,1])\n",
    "predictions = predictions.append( pdf )"
   ]
  },
  {
   "cell_type": "markdown",
   "id": "2cc4b3c8-f305-47cb-9c53-84e58f85a040",
   "metadata": {},
   "source": [
    "## MPL Clasifier - Features Regularizados"
   ]
  },
  {
   "cell_type": "code",
   "execution_count": 22,
   "id": "87067f48-a030-4ebb-90f5-2cc34b9a7f5d",
   "metadata": {
    "execution": {
     "iopub.execute_input": "2021-12-29T18:11:03.405011Z",
     "iopub.status.busy": "2021-12-29T18:11:03.404696Z",
     "iopub.status.idle": "2021-12-29T18:13:59.940896Z",
     "shell.execute_reply": "2021-12-29T18:13:59.940142Z",
     "shell.execute_reply.started": "2021-12-29T18:11:03.404989Z"
    },
    "scrolled": true,
    "tags": []
   },
   "outputs": [
    {
     "name": "stdout",
     "output_type": "stream",
     "text": [
      "Fitting 5 folds for each of 10 candidates, totalling 50 fits\n"
     ]
    }
   ],
   "source": [
    "if (runMlpC_R):\n",
    "    mlp_cls_r = MLPClassifier(\n",
    "        solver='adam',\n",
    "        max_iter=MAX_ITER,\n",
    "        random_state=1,\n",
    "    )\n",
    "    params = {\n",
    "        'alpha': np.arange(1e-5,10e-5,1e-5),\n",
    "        'hidden_layer_sizes':layer_sizes,\n",
    "        'activation': ['identity', 'logistic', 'relu', 'tanh'],\n",
    "        'learning_rate': [\"constant\", \"invscaling\", \"adaptive\"],\n",
    "    }\n",
    "    \n",
    "    mlp_cls_r_grid = RandomizedSearchCV(\n",
    "        mlp_cls_r,\n",
    "        params,\n",
    "        scoring='roc_auc',\n",
    "        n_jobs=MAX_JOBS,\n",
    "        return_train_score=True,\n",
    "        verbose=1,\n",
    "    ).fit(train_feat_r, train_targ_r)\n",
    "    \n",
    "    # Guardar\n",
    "    if(saveMlpC_R):\n",
    "        dump(mlp_cls_r_grid, 'models/NN/mlp_cls_r_grid.sk')\n",
    "        dump(mlp_cls_r_grid.best_estimator_, 'models/NN/mlp_cls_r.sk')\n",
    "else:\n",
    "    # Cargar\n",
    "    mlp_cls_r_grid = load('models/NN/mlp_cls_r_grid.sk')"
   ]
  },
  {
   "cell_type": "code",
   "execution_count": 23,
   "id": "714536e3-a557-413d-8917-0ad09837e5e0",
   "metadata": {
    "execution": {
     "iopub.execute_input": "2021-12-29T18:13:59.943710Z",
     "iopub.status.busy": "2021-12-29T18:13:59.943509Z",
     "iopub.status.idle": "2021-12-29T18:13:59.947940Z",
     "shell.execute_reply": "2021-12-29T18:13:59.947003Z",
     "shell.execute_reply.started": "2021-12-29T18:13:59.943688Z"
    },
    "tags": []
   },
   "outputs": [
    {
     "name": "stdout",
     "output_type": "stream",
     "text": [
      "Best score: 0.868838599178609\n",
      "Best params {'learning_rate': 'adaptive', 'hidden_layer_sizes': (9, 8), 'alpha': 2e-05, 'activation': 'tanh'}\n"
     ]
    }
   ],
   "source": [
    "print(f\"Best score: {mlp_cls_r_grid.best_score_}\")\n",
    "print(f\"Best params {mlp_cls_r_grid.best_params_}\")"
   ]
  },
  {
   "cell_type": "code",
   "execution_count": 24,
   "id": "d5741744-7961-43a7-9f77-38b3ef129750",
   "metadata": {
    "execution": {
     "iopub.execute_input": "2021-12-29T18:13:59.949828Z",
     "iopub.status.busy": "2021-12-29T18:13:59.949548Z",
     "iopub.status.idle": "2021-12-29T18:13:59.953258Z",
     "shell.execute_reply": "2021-12-29T18:13:59.952499Z",
     "shell.execute_reply.started": "2021-12-29T18:13:59.949795Z"
    },
    "tags": []
   },
   "outputs": [],
   "source": [
    "mlp_cls_r = mlp_cls_r_grid.best_estimator_"
   ]
  },
  {
   "cell_type": "code",
   "execution_count": 25,
   "id": "d1095ff9-bfa1-4b98-8a13-a39c8c493769",
   "metadata": {
    "execution": {
     "iopub.execute_input": "2021-12-29T18:13:59.954659Z",
     "iopub.status.busy": "2021-12-29T18:13:59.954429Z",
     "iopub.status.idle": "2021-12-29T18:14:00.218267Z",
     "shell.execute_reply": "2021-12-29T18:14:00.217456Z",
     "shell.execute_reply.started": "2021-12-29T18:13:59.954630Z"
    },
    "tags": []
   },
   "outputs": [
    {
     "name": "stdout",
     "output_type": "stream",
     "text": [
      "AUC-ROC: 0.8644458171258617\n",
      "              precision    recall  f1-score   support\n",
      "\n",
      "       False       0.86      0.94      0.90      7946\n",
      "        True       0.71      0.48      0.57      2290\n",
      "\n",
      "    accuracy                           0.84     10236\n",
      "   macro avg       0.79      0.71      0.74     10236\n",
      "weighted avg       0.83      0.84      0.83     10236\n",
      "\n",
      "CONFUSION MATRIX\n",
      "CPU times: user 350 ms, sys: 80.9 ms, total: 431 ms\n",
      "Wall time: 166 ms\n"
     ]
    },
    {
     "data": {
      "image/png": "[encoded data removed]",
      "text/plain": [
       "<Figure size 432x288 with 2 Axes>"
      ]
     },
     "metadata": {},
     "output_type": "display_data"
    }
   ],
   "source": [
    "%%time\n",
    "pred = mlp_cls_r.predict(val_feat_r)\n",
    "prob = mlp_cls_r.predict_proba(val_feat_r)\n",
    "score(val_targ_r, pred, prob[:,1])"
   ]
  },
  {
   "cell_type": "code",
   "execution_count": 26,
   "id": "4903b193-79ac-4852-a922-74294ca935b0",
   "metadata": {
    "execution": {
     "iopub.execute_input": "2021-12-29T18:14:00.219735Z",
     "iopub.status.busy": "2021-12-29T18:14:00.219424Z",
     "iopub.status.idle": "2021-12-29T18:14:00.253877Z",
     "shell.execute_reply": "2021-12-29T18:14:00.253270Z",
     "shell.execute_reply.started": "2021-12-29T18:14:00.219711Z"
    }
   },
   "outputs": [],
   "source": [
    "pdf = score2('Reg','Regularizado',val_targ_r, pred, prob[:,1])\n",
    "predictions = predictions.append( pdf )"
   ]
  },
  {
   "cell_type": "markdown",
   "id": "e1328b8e-002f-4a70-8c43-0a3fbdbefc51",
   "metadata": {},
   "source": [
    "## Hashing Trick"
   ]
  },
  {
   "cell_type": "code",
   "execution_count": 27,
   "id": "3887a631-2c71-4aa9-8054-eec469e0b362",
   "metadata": {
    "execution": {
     "iopub.execute_input": "2021-12-29T18:14:00.255317Z",
     "iopub.status.busy": "2021-12-29T18:14:00.255060Z",
     "iopub.status.idle": "2021-12-29T18:17:07.523259Z",
     "shell.execute_reply": "2021-12-29T18:17:07.522429Z",
     "shell.execute_reply.started": "2021-12-29T18:14:00.255296Z"
    },
    "scrolled": true,
    "tags": []
   },
   "outputs": [
    {
     "name": "stdout",
     "output_type": "stream",
     "text": [
      "Fitting 5 folds for each of 10 candidates, totalling 50 fits\n"
     ]
    }
   ],
   "source": [
    "if (runHt):\n",
    "    mlp_ht = MLPClassifier(\n",
    "        solver='adam',\n",
    "        max_iter=MAX_ITER,\n",
    "        random_state=1,\n",
    "    )\n",
    "    params = {\n",
    "        'alpha': np.arange(1e-5,10e-5,1e-5),\n",
    "        'hidden_layer_sizes':layer_sizes,\n",
    "        'activation': ['identity', 'logistic', 'relu', 'tanh'],\n",
    "        'learning_rate': [\"constant\", \"invscaling\", \"adaptive\"],\n",
    "    }\n",
    "    \n",
    "    mlp_ht_grid = RandomizedSearchCV(\n",
    "        mlp_ht,\n",
    "        params,\n",
    "        scoring='roc_auc',\n",
    "        n_jobs=MAX_JOBS,\n",
    "        return_train_score=True,\n",
    "        verbose=1,\n",
    "    ).fit(train_feat_ht, train_targ_ht)\n",
    "    \n",
    "    # Guardar\n",
    "    if(saveHt):\n",
    "        dump(mlp_ht_grid, 'models/NN/mlp_ht_grid.sk')\n",
    "else:\n",
    "    # Cargar\n",
    "    mlp_ht_grid = load('models/NN/mlp_ht_grid.sk')"
   ]
  },
  {
   "cell_type": "code",
   "execution_count": 28,
   "id": "725c42f4-d022-42d7-aae1-9fca23349852",
   "metadata": {
    "execution": {
     "iopub.execute_input": "2021-12-29T18:17:07.524850Z",
     "iopub.status.busy": "2021-12-29T18:17:07.524522Z",
     "iopub.status.idle": "2021-12-29T18:17:07.529800Z",
     "shell.execute_reply": "2021-12-29T18:17:07.529040Z",
     "shell.execute_reply.started": "2021-12-29T18:17:07.524827Z"
    },
    "tags": []
   },
   "outputs": [
    {
     "name": "stdout",
     "output_type": "stream",
     "text": [
      "Best score: 0.8661652348060249\n",
      "Best params {'learning_rate': 'constant', 'hidden_layer_sizes': (6, 2), 'alpha': 6e-05, 'activation': 'identity'}\n"
     ]
    }
   ],
   "source": [
    "print(f\"Best score: {mlp_ht_grid.best_score_}\")\n",
    "print(f\"Best params {mlp_ht_grid.best_params_}\")"
   ]
  },
  {
   "cell_type": "code",
   "execution_count": 29,
   "id": "0f773fbd-d393-48bd-a2c6-cb43ace03c79",
   "metadata": {
    "execution": {
     "iopub.execute_input": "2021-12-29T18:17:07.535080Z",
     "iopub.status.busy": "2021-12-29T18:17:07.534639Z",
     "iopub.status.idle": "2021-12-29T18:17:07.538461Z",
     "shell.execute_reply": "2021-12-29T18:17:07.537743Z",
     "shell.execute_reply.started": "2021-12-29T18:17:07.535048Z"
    },
    "tags": []
   },
   "outputs": [],
   "source": [
    "mlp_ht = mlp_ht_grid.best_estimator_"
   ]
  },
  {
   "cell_type": "code",
   "execution_count": 30,
   "id": "bf43e5dc-08b5-471a-a5ca-6331b0641722",
   "metadata": {
    "execution": {
     "iopub.execute_input": "2021-12-29T18:17:07.539849Z",
     "iopub.status.busy": "2021-12-29T18:17:07.539548Z",
     "iopub.status.idle": "2021-12-29T18:17:07.834638Z",
     "shell.execute_reply": "2021-12-29T18:17:07.834043Z",
     "shell.execute_reply.started": "2021-12-29T18:17:07.539819Z"
    },
    "tags": []
   },
   "outputs": [
    {
     "name": "stdout",
     "output_type": "stream",
     "text": [
      "AUC-ROC: 0.8610972316410882\n",
      "              precision    recall  f1-score   support\n",
      "\n",
      "       False       0.86      0.95      0.90      7946\n",
      "        True       0.71      0.45      0.55      2290\n",
      "\n",
      "    accuracy                           0.84     10236\n",
      "   macro avg       0.78      0.70      0.72     10236\n",
      "weighted avg       0.82      0.84      0.82     10236\n",
      "\n",
      "CONFUSION MATRIX\n",
      "CPU times: user 500 ms, sys: 118 ms, total: 618 ms\n",
      "Wall time: 209 ms\n"
     ]
    },
    {
     "data": {
      "image/png": "[encoded data removed]",
      "text/plain": [
       "<Figure size 432x288 with 2 Axes>"
      ]
     },
     "metadata": {},
     "output_type": "display_data"
    }
   ],
   "source": [
    "%%time\n",
    "pred = mlp_ht.predict(val_feat_ht)\n",
    "prob = mlp_ht.predict_proba(val_feat_ht)\n",
    "score(val_targ_ht, pred, prob[:,1])"
   ]
  },
  {
   "cell_type": "code",
   "execution_count": 31,
   "id": "ff3a9f4c-b800-4cd9-8001-8c1e0fd69728",
   "metadata": {
    "execution": {
     "iopub.execute_input": "2021-12-29T18:17:07.836253Z",
     "iopub.status.busy": "2021-12-29T18:17:07.835808Z",
     "iopub.status.idle": "2021-12-29T18:17:07.868858Z",
     "shell.execute_reply": "2021-12-29T18:17:07.868044Z",
     "shell.execute_reply.started": "2021-12-29T18:17:07.836221Z"
    }
   },
   "outputs": [],
   "source": [
    "pdf = score2('HT','Hashing Trick',val_targ_ht, pred, prob[:,1])\n",
    "predictions = predictions.append( pdf )"
   ]
  },
  {
   "cell_type": "markdown",
   "id": "81192f2d-da83-44e5-83b1-7833eda32f66",
   "metadata": {},
   "source": [
    "## Resultados"
   ]
  },
  {
   "cell_type": "code",
   "execution_count": 32,
   "id": "64d8be1a-2e21-452d-bd81-9ebf5569e75f",
   "metadata": {
    "execution": {
     "iopub.execute_input": "2021-12-29T18:17:07.870184Z",
     "iopub.status.busy": "2021-12-29T18:17:07.869860Z",
     "iopub.status.idle": "2021-12-29T18:17:07.882911Z",
     "shell.execute_reply": "2021-12-29T18:17:07.882324Z",
     "shell.execute_reply.started": "2021-12-29T18:17:07.870136Z"
    },
    "tags": []
   },
   "outputs": [
    {
     "data": {
      "text/html": [
       "<div>\n",
       "<style scoped>\n",
       "    .dataframe tbody tr th:only-of-type {\n",
       "        vertical-align: middle;\n",
       "    }\n",
       "\n",
       "    .dataframe tbody tr th {\n",
       "        vertical-align: top;\n",
       "    }\n",
       "\n",
       "    .dataframe thead th {\n",
       "        text-align: right;\n",
       "    }\n",
       "</style>\n",
       "<table border=\"1\" class=\"dataframe\">\n",
       "  <thead>\n",
       "    <tr style=\"text-align: right;\">\n",
       "      <th></th>\n",
       "      <th>Modelo</th>\n",
       "      <th>Preprocesamientos</th>\n",
       "      <th>Clase</th>\n",
       "      <th>AUC-ROC</th>\n",
       "      <th>Accuracy</th>\n",
       "      <th>Precision</th>\n",
       "      <th>Recall</th>\n",
       "      <th>F1 score</th>\n",
       "      <th>Support</th>\n",
       "    </tr>\n",
       "  </thead>\n",
       "  <tbody>\n",
       "    <tr>\n",
       "      <th>0</th>\n",
       "      <td>Val</td>\n",
       "      <td>Basico</td>\n",
       "      <td>AVG</td>\n",
       "      <td>0.846126</td>\n",
       "      <td>0.833919</td>\n",
       "      <td>0.822833</td>\n",
       "      <td>0.833919</td>\n",
       "      <td>0.824613</td>\n",
       "      <td>10236</td>\n",
       "    </tr>\n",
       "    <tr>\n",
       "      <th>1</th>\n",
       "      <td>Val</td>\n",
       "      <td>Basico</td>\n",
       "      <td>True</td>\n",
       "      <td>NaN</td>\n",
       "      <td>NaN</td>\n",
       "      <td>0.673529</td>\n",
       "      <td>0.500000</td>\n",
       "      <td>0.573935</td>\n",
       "      <td>2290</td>\n",
       "    </tr>\n",
       "    <tr>\n",
       "      <th>2</th>\n",
       "      <td>Val</td>\n",
       "      <td>Basico</td>\n",
       "      <td>False</td>\n",
       "      <td>NaN</td>\n",
       "      <td>NaN</td>\n",
       "      <td>0.865862</td>\n",
       "      <td>0.930154</td>\n",
       "      <td>0.896857</td>\n",
       "      <td>7946</td>\n",
       "    </tr>\n",
       "    <tr>\n",
       "      <th>0</th>\n",
       "      <td>Reg</td>\n",
       "      <td>Regularizado</td>\n",
       "      <td>AVG</td>\n",
       "      <td>0.864446</td>\n",
       "      <td>0.839000</td>\n",
       "      <td>0.827732</td>\n",
       "      <td>0.839000</td>\n",
       "      <td>0.826782</td>\n",
       "      <td>10236</td>\n",
       "    </tr>\n",
       "    <tr>\n",
       "      <th>1</th>\n",
       "      <td>Reg</td>\n",
       "      <td>Regularizado</td>\n",
       "      <td>True</td>\n",
       "      <td>NaN</td>\n",
       "      <td>NaN</td>\n",
       "      <td>0.708984</td>\n",
       "      <td>0.475546</td>\n",
       "      <td>0.569263</td>\n",
       "      <td>2290</td>\n",
       "    </tr>\n",
       "    <tr>\n",
       "      <th>2</th>\n",
       "      <td>Reg</td>\n",
       "      <td>Regularizado</td>\n",
       "      <td>False</td>\n",
       "      <td>NaN</td>\n",
       "      <td>NaN</td>\n",
       "      <td>0.861954</td>\n",
       "      <td>0.943745</td>\n",
       "      <td>0.900997</td>\n",
       "      <td>7946</td>\n",
       "    </tr>\n",
       "    <tr>\n",
       "      <th>0</th>\n",
       "      <td>Reg</td>\n",
       "      <td>Regularizado</td>\n",
       "      <td>AVG</td>\n",
       "      <td>0.861097</td>\n",
       "      <td>0.835287</td>\n",
       "      <td>0.823143</td>\n",
       "      <td>0.835287</td>\n",
       "      <td>0.820969</td>\n",
       "      <td>10236</td>\n",
       "    </tr>\n",
       "    <tr>\n",
       "      <th>1</th>\n",
       "      <td>Reg</td>\n",
       "      <td>Regularizado</td>\n",
       "      <td>True</td>\n",
       "      <td>NaN</td>\n",
       "      <td>NaN</td>\n",
       "      <td>0.707989</td>\n",
       "      <td>0.448908</td>\n",
       "      <td>0.549439</td>\n",
       "      <td>2290</td>\n",
       "    </tr>\n",
       "    <tr>\n",
       "      <th>2</th>\n",
       "      <td>Reg</td>\n",
       "      <td>Regularizado</td>\n",
       "      <td>False</td>\n",
       "      <td>NaN</td>\n",
       "      <td>NaN</td>\n",
       "      <td>0.856330</td>\n",
       "      <td>0.946640</td>\n",
       "      <td>0.899223</td>\n",
       "      <td>7946</td>\n",
       "    </tr>\n",
       "  </tbody>\n",
       "</table>\n",
       "</div>"
      ],
      "text/plain": [
       "  Modelo Preprocesamientos  Clase   AUC-ROC  Accuracy  Precision    Recall  \\\n",
       "0    Val            Basico    AVG  0.846126  0.833919   0.822833  0.833919   \n",
       "1    Val            Basico   True       NaN       NaN   0.673529  0.500000   \n",
       "2    Val            Basico  False       NaN       NaN   0.865862  0.930154   \n",
       "0    Reg      Regularizado    AVG  0.864446  0.839000   0.827732  0.839000   \n",
       "1    Reg      Regularizado   True       NaN       NaN   0.708984  0.475546   \n",
       "2    Reg      Regularizado  False       NaN       NaN   0.861954  0.943745   \n",
       "0    Reg      Regularizado    AVG  0.861097  0.835287   0.823143  0.835287   \n",
       "1    Reg      Regularizado   True       NaN       NaN   0.707989  0.448908   \n",
       "2    Reg      Regularizado  False       NaN       NaN   0.856330  0.946640   \n",
       "\n",
       "   F1 score Support  \n",
       "0  0.824613   10236  \n",
       "1  0.573935    2290  \n",
       "2  0.896857    7946  \n",
       "0  0.826782   10236  \n",
       "1  0.569263    2290  \n",
       "2  0.900997    7946  \n",
       "0  0.820969   10236  \n",
       "1  0.549439    2290  \n",
       "2  0.899223    7946  "
      ]
     },
     "execution_count": 32,
     "metadata": {},
     "output_type": "execute_result"
    }
   ],
   "source": [
    "predictions"
   ]
  }
 ],
 "metadata": {
  "kernelspec": {
   "display_name": "Python 3 (ipykernel)",
   "language": "python",
   "name": "python3"
  },
  "language_info": {
   "codemirror_mode": {
    "name": "ipython",
    "version": 3
   },
   "file_extension": ".py",
   "mimetype": "text/x-python",
   "name": "python",
   "nbconvert_exporter": "python",
   "pygments_lexer": "ipython3",
   "version": "3.9.9"
  }
 },
 "nbformat": 4,
 "nbformat_minor": 5
}
