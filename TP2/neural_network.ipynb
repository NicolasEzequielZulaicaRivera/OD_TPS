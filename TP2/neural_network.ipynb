{
 "cells": [
  {
   "cell_type": "markdown",
   "id": "8172a3ad-f6b1-4d82-b4ba-6b4e2ed0c8dc",
   "metadata": {},
   "source": [
    "# Red Neuronal"
   ]
  },
  {
   "cell_type": "markdown",
   "id": "9d1941a2-1869-445e-b85e-75ef52164578",
   "metadata": {},
   "source": [
    "### Imports"
   ]
  },
  {
   "cell_type": "code",
   "execution_count": null,
   "id": "62d0b99e-037e-4fbe-99b2-f03bdabcf34d",
   "metadata": {
    "execution": {
     "iopub.execute_input": "2021-12-06T20:24:39.849753Z",
     "iopub.status.busy": "2021-12-06T20:24:39.849009Z"
    },
    "tags": []
   },
   "outputs": [],
   "source": [
    "import pandas as pd\n",
    "import numpy as np\n",
    "from matplotlib import pyplot as plt\n",
    "from joblib import dump, load"
   ]
  },
  {
   "cell_type": "code",
   "execution_count": null,
   "id": "a2d6e5a5-982f-4b8b-8d37-731f87afa7fc",
   "metadata": {
    "tags": []
   },
   "outputs": [],
   "source": [
    "from sklearn.neural_network import MLPClassifier\n",
    "from sklearn.model_selection import RandomizedSearchCV\n",
    "from sklearn.metrics import roc_auc_score"
   ]
  },
  {
   "cell_type": "code",
   "execution_count": null,
   "id": "98073fb3-ae90-4ff9-a05d-65ecb758edd0",
   "metadata": {
    "tags": []
   },
   "outputs": [],
   "source": [
    "from preprocessing import reemplazarNulls,reemplazarCategoricas,reemplazarFechas,targetBooleano,regularizar"
   ]
  },
  {
   "cell_type": "markdown",
   "id": "2a61af87-8a2c-4ee2-8af2-5950a793a22a",
   "metadata": {},
   "source": [
    "### Codigo a correr"
   ]
  },
  {
   "cell_type": "code",
   "execution_count": null,
   "id": "e712148c-0f89-485b-a383-ffcfd860948b",
   "metadata": {
    "tags": []
   },
   "outputs": [],
   "source": [
    "MAX_ITER = 10**4\n",
    "MAX_JOBS = 1"
   ]
  },
  {
   "cell_type": "markdown",
   "id": "2cdabf60-a9b0-4811-8e39-004d298928d8",
   "metadata": {},
   "source": [
    "**Run :** Entrenar Nuevamente o Cargar Entrenado"
   ]
  },
  {
   "cell_type": "code",
   "execution_count": null,
   "id": "6a34dae7-b811-47e7-ae44-399d9399d29a",
   "metadata": {
    "tags": []
   },
   "outputs": [],
   "source": [
    "runSimple = False\n",
    "runMlpC = False\n",
    "runMlpC_R = False"
   ]
  },
  {
   "cell_type": "markdown",
   "id": "c46677cb-6af4-44c8-b202-832377d0580d",
   "metadata": {},
   "source": [
    "**Save :** Guardar Modelo (pisa anterior)"
   ]
  },
  {
   "cell_type": "code",
   "execution_count": null,
   "id": "bb7910c8-8ddc-4832-95a7-7014afd99983",
   "metadata": {
    "tags": []
   },
   "outputs": [],
   "source": [
    "saveMlpC = True\n",
    "saveMlpC_R = True"
   ]
  },
  {
   "cell_type": "code",
   "execution_count": null,
   "id": "8c87d7bb-61c4-49f0-bff4-9fb05527a2d9",
   "metadata": {
    "tags": []
   },
   "outputs": [],
   "source": [
    "from utilities import score, df_feat, df_targ, train_val"
   ]
  },
  {
   "cell_type": "markdown",
   "id": "773b5023-83fe-4e46-abed-1d987d0f22a4",
   "metadata": {},
   "source": [
    "### Preprocesamiento"
   ]
  },
  {
   "cell_type": "code",
   "execution_count": null,
   "id": "3e49a10e-27bd-4db3-9bfa-748dd76f92a3",
   "metadata": {
    "tags": []
   },
   "outputs": [],
   "source": [
    "targetBooleano(df_targ, inplace=True)\n",
    "reemplazarNulls(df_feat , inplace=True)\n",
    "reemplazarCategoricas(df_feat , inplace=True)\n",
    "reemplazarFechas(df_feat , inplace=True)\n",
    "df_feat_r = regularizar(df_feat)"
   ]
  },
  {
   "cell_type": "code",
   "execution_count": null,
   "id": "e469dcc0-e1a4-4649-866a-62a94835073d",
   "metadata": {
    "tags": []
   },
   "outputs": [],
   "source": [
    "train_feat, val_feat, train_targ, val_targ = train_val( df_feat, df_targ )\n",
    "train_targ = train_targ.llovieron_hamburguesas_al_dia_siguiente\n",
    "val_targ = val_targ.llovieron_hamburguesas_al_dia_siguiente"
   ]
  },
  {
   "cell_type": "code",
   "execution_count": null,
   "id": "7548595e-f8f1-4a9f-88c9-18b747d286df",
   "metadata": {
    "tags": []
   },
   "outputs": [],
   "source": [
    "train_feat_r, val_feat_r, train_targ_r, val_targ_r = train_val( df_feat_r, df_targ )\n",
    "train_targ_r = train_targ_r.llovieron_hamburguesas_al_dia_siguiente\n",
    "val_targ_r = val_targ_r.llovieron_hamburguesas_al_dia_siguiente"
   ]
  },
  {
   "cell_type": "code",
   "execution_count": null,
   "id": "329598d1-4fa3-47b2-92ae-f4ea047d001c",
   "metadata": {
    "tags": []
   },
   "outputs": [],
   "source": [
    "layer_sizes = []\n",
    "for i in range(10):\n",
    "    for j in range(10):\n",
    "        layer_sizes.append( ( i+1, j+1 ) )"
   ]
  },
  {
   "cell_type": "markdown",
   "id": "fef0f64c-2258-43be-83ad-f15f40907b01",
   "metadata": {},
   "source": [
    "## Simple"
   ]
  },
  {
   "cell_type": "code",
   "execution_count": null,
   "id": "a376b7d5-95e7-4cf8-8607-bf056f20de30",
   "metadata": {
    "tags": []
   },
   "outputs": [],
   "source": [
    "if (runSimple):\n",
    "    mlp = MLPClassifier(\n",
    "        solver='adam',\n",
    "        max_iter=MAX_ITER,\n",
    "        random_state=1,\n",
    "    ).fit(train_feat, train_targ)"
   ]
  },
  {
   "cell_type": "code",
   "execution_count": null,
   "id": "c5aa1044-5fa5-46b8-89e6-e943135c8112",
   "metadata": {
    "tags": []
   },
   "outputs": [],
   "source": [
    "if (runSimple):\n",
    "    pred = mlp.predict(val_feat)\n",
    "    prob = mlp.predict_proba(val_feat)\n",
    "    display(score(val_targ, pred, prob[:,1]))"
   ]
  },
  {
   "cell_type": "markdown",
   "id": "53e853e8-8b50-4672-a077-71bc4023dce1",
   "metadata": {},
   "source": [
    "## MLP Clasifier"
   ]
  },
  {
   "cell_type": "code",
   "execution_count": null,
   "id": "58509551-5655-4924-a310-41064e587819",
   "metadata": {
    "scrolled": true,
    "tags": []
   },
   "outputs": [],
   "source": [
    "if (runMlpC):\n",
    "    mlp_cls = MLPClassifier(\n",
    "        solver='adam',\n",
    "        max_iter=MAX_ITER,\n",
    "        random_state=1,\n",
    "    )\n",
    "    params = {\n",
    "        'alpha': np.arange(1e-5,10e-5,1e-5),\n",
    "        'hidden_layer_sizes':layer_sizes,\n",
    "        'activation': ['identity', 'logistic', 'relu', 'tanh'],\n",
    "        'learning_rate': [\"constant\", \"invscaling\", \"adaptive\"],\n",
    "    }\n",
    "    \n",
    "    mlp_cls_grid = RandomizedSearchCV(\n",
    "        mlp_cls,\n",
    "        params,\n",
    "        scoring='roc_auc',\n",
    "        n_jobs=MAX_JOBS,\n",
    "        return_train_score=True,\n",
    "        verbose=1,\n",
    "    ).fit(train_feat, train_targ)\n",
    "    \n",
    "    # Guardar\n",
    "    if(saveMlpC):\n",
    "        dump(mlp_cls_grid, 'models/NN/mlp_cls_grid.sk')\n",
    "        dump(mlp_cls_grid.best_estimator_, 'models/NN/mlp_cls.sk')\n",
    "else:\n",
    "    # Cargar\n",
    "    mlp_cls_grid = load('models/NN/mlp_cls_grid.sk')"
   ]
  },
  {
   "cell_type": "code",
   "execution_count": null,
   "id": "5af9461d-ffa5-4fec-9921-60b3b804afba",
   "metadata": {
    "tags": []
   },
   "outputs": [],
   "source": [
    "print(f\"Best score: {mlp_cls_grid.best_score_}\")\n",
    "print(f\"Best params {mlp_cls_grid.best_params_}\")"
   ]
  },
  {
   "cell_type": "code",
   "execution_count": null,
   "id": "72f0f581-1296-4084-8d33-230c4a35a497",
   "metadata": {
    "tags": []
   },
   "outputs": [],
   "source": [
    "mlp_cls = mlp_cls_grid.best_estimator_"
   ]
  },
  {
   "cell_type": "code",
   "execution_count": null,
   "id": "4b10cd9a-f190-4abb-b60a-bb48c5092386",
   "metadata": {
    "tags": []
   },
   "outputs": [],
   "source": [
    "%%time\n",
    "mlp_pred = mlp_cls.predict(val_feat)\n",
    "mlp_prob = mlp_cls.predict_proba(val_feat)\n",
    "score(val_targ, mlp_pred, mlp_prob[:,1])"
   ]
  },
  {
   "cell_type": "markdown",
   "id": "2cc4b3c8-f305-47cb-9c53-84e58f85a040",
   "metadata": {},
   "source": [
    "## MPL Clasifier - Features Regularizados"
   ]
  },
  {
   "cell_type": "code",
   "execution_count": null,
   "id": "87067f48-a030-4ebb-90f5-2cc34b9a7f5d",
   "metadata": {
    "scrolled": true,
    "tags": []
   },
   "outputs": [],
   "source": [
    "if (runMlpC_R):\n",
    "    mlp_cls_r = MLPClassifier(\n",
    "        solver='adam',\n",
    "        max_iter=MAX_ITER,\n",
    "        random_state=1,\n",
    "    )\n",
    "    params = {\n",
    "        'alpha': np.arange(1e-5,10e-5,1e-5),\n",
    "        'hidden_layer_sizes':layer_sizes,\n",
    "        'activation': ['identity', 'logistic', 'relu', 'tanh'],\n",
    "        'learning_rate': [\"constant\", \"invscaling\", \"adaptive\"],\n",
    "    }\n",
    "    \n",
    "    mlp_cls_r_grid = RandomizedSearchCV(\n",
    "        mlp_cls_r,\n",
    "        params,\n",
    "        scoring='roc_auc',\n",
    "        n_jobs=MAX_JOBS,\n",
    "        return_train_score=True,\n",
    "        verbose=1,\n",
    "    ).fit(train_feat_r, train_targ_r)\n",
    "    \n",
    "    # Guardar\n",
    "    if(saveMlpC_R):\n",
    "        dump(mlp_cls_r_grid, 'models/NN/mlp_cls_r_grid.sk')\n",
    "        dump(mlp_cls_r_grid.best_estimator_, 'models/NN/mlp_cls_r.sk')\n",
    "else:\n",
    "    # Cargar\n",
    "    mlp_cls_r_grid = load('models/NN/mlp_cls_r_grid.sk')"
   ]
  },
  {
   "cell_type": "code",
   "execution_count": null,
   "id": "714536e3-a557-413d-8917-0ad09837e5e0",
   "metadata": {
    "tags": []
   },
   "outputs": [],
   "source": [
    "print(f\"Best score: {mlp_cls_r_grid.best_score_}\")\n",
    "print(f\"Best params {mlp_cls_r_grid.best_params_}\")"
   ]
  },
  {
   "cell_type": "code",
   "execution_count": null,
   "id": "d5741744-7961-43a7-9f77-38b3ef129750",
   "metadata": {
    "tags": []
   },
   "outputs": [],
   "source": [
    "mlp_cls_r = mlp_cls_r_grid.best_estimator_"
   ]
  },
  {
   "cell_type": "code",
   "execution_count": null,
   "id": "d1095ff9-bfa1-4b98-8a13-a39c8c493769",
   "metadata": {
    "tags": []
   },
   "outputs": [],
   "source": [
    "%%time\n",
    "mlp_r_pred = mlp_cls_r.predict(val_feat_r)\n",
    "mlp_r_prob = mlp_cls_r.predict_proba(val_feat_r)\n",
    "score(val_targ_r, mlp_r_pred, mlp_r_prob[:,1])"
   ]
  }
 ],
 "metadata": {
  "kernelspec": {
   "display_name": "Python 3 (ipykernel)",
   "language": "python",
   "name": "python3"
  },
  "language_info": {
   "codemirror_mode": {
    "name": "ipython",
    "version": 3
   },
   "file_extension": ".py",
   "mimetype": "text/x-python",
   "name": "python",
   "nbconvert_exporter": "python",
   "pygments_lexer": "ipython3",
   "version": "3.9.8"
  }
 },
 "nbformat": 4,
 "nbformat_minor": 5
}
