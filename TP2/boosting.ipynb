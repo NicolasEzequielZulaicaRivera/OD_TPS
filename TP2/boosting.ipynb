{
 "cells": [
  {
   "cell_type": "markdown",
   "id": "3308d311-40d7-4259-a828-7a57b1c0697c",
   "metadata": {},
   "source": [
    "# Boosting"
   ]
  },
  {
   "cell_type": "markdown",
   "id": "2052667d-db58-4679-830a-e39d8750ef0a",
   "metadata": {},
   "source": [
    "### Imports"
   ]
  },
  {
   "cell_type": "code",
   "execution_count": 1,
   "id": "57fe6f06-9c8e-4d61-97ae-d6a56db43ce2",
   "metadata": {
    "execution": {
     "iopub.execute_input": "2021-12-05T15:05:54.275568Z",
     "iopub.status.busy": "2021-12-05T15:05:54.275258Z",
     "iopub.status.idle": "2021-12-05T15:05:55.348749Z",
     "shell.execute_reply": "2021-12-05T15:05:55.348140Z",
     "shell.execute_reply.started": "2021-12-05T15:05:54.275499Z"
    }
   },
   "outputs": [],
   "source": [
    "import pandas as pd\n",
    "import numpy as np\n",
    "from matplotlib import pyplot as plt\n",
    "from joblib import dump, load"
   ]
  },
  {
   "cell_type": "code",
   "execution_count": 2,
   "id": "a49e6792-264c-4416-9d7a-2fd751337a76",
   "metadata": {
    "execution": {
     "iopub.execute_input": "2021-12-05T15:05:55.349838Z",
     "iopub.status.busy": "2021-12-05T15:05:55.349655Z",
     "iopub.status.idle": "2021-12-05T15:05:55.809513Z",
     "shell.execute_reply": "2021-12-05T15:05:55.808622Z",
     "shell.execute_reply.started": "2021-12-05T15:05:55.349815Z"
    }
   },
   "outputs": [],
   "source": [
    "from sklearn.ensemble import GradientBoostingClassifier\n",
    "from sklearn.model_selection import RandomizedSearchCV\n",
    "from sklearn.experimental import enable_halving_search_cv\n",
    "from sklearn.model_selection import HalvingGridSearchCV\n",
    "from sklearn import tree"
   ]
  },
  {
   "cell_type": "code",
   "execution_count": 3,
   "id": "ecbe57a8-73db-45f4-a21d-4f876860ec06",
   "metadata": {
    "execution": {
     "iopub.execute_input": "2021-12-05T15:05:55.812387Z",
     "iopub.status.busy": "2021-12-05T15:05:55.812185Z",
     "iopub.status.idle": "2021-12-05T15:05:57.161051Z",
     "shell.execute_reply": "2021-12-05T15:05:57.160461Z",
     "shell.execute_reply.started": "2021-12-05T15:05:55.812366Z"
    }
   },
   "outputs": [
    {
     "name": "stdout",
     "output_type": "stream",
     "text": [
      "[###] All Done                                              \n"
     ]
    }
   ],
   "source": [
    "from preprocessing import reemplazarNulls,reemplazarCategoricas,reemplazarFechas,targetBooleano"
   ]
  },
  {
   "cell_type": "code",
   "execution_count": 4,
   "id": "ae53c637-7f02-4802-9add-5a35ced69f64",
   "metadata": {
    "execution": {
     "iopub.execute_input": "2021-12-05T15:05:57.162371Z",
     "iopub.status.busy": "2021-12-05T15:05:57.162048Z",
     "iopub.status.idle": "2021-12-05T15:05:57.647548Z",
     "shell.execute_reply": "2021-12-05T15:05:57.646864Z",
     "shell.execute_reply.started": "2021-12-05T15:05:57.162349Z"
    }
   },
   "outputs": [],
   "source": [
    "from utilities import score, df_feat, df_targ, train_val"
   ]
  },
  {
   "cell_type": "markdown",
   "id": "1aa60fef-ad74-400f-8ef7-8255160828a9",
   "metadata": {},
   "source": [
    "### Codigo a correr"
   ]
  },
  {
   "cell_type": "code",
   "execution_count": 5,
   "id": "cac84d06-6216-46dc-9d75-3044c9a63f5d",
   "metadata": {
    "execution": {
     "iopub.execute_input": "2021-12-05T15:05:57.648951Z",
     "iopub.status.busy": "2021-12-05T15:05:57.648723Z",
     "iopub.status.idle": "2021-12-05T15:05:57.653019Z",
     "shell.execute_reply": "2021-12-05T15:05:57.652339Z",
     "shell.execute_reply.started": "2021-12-05T15:05:57.648928Z"
    }
   },
   "outputs": [],
   "source": [
    "MAX_JOBS = 5"
   ]
  },
  {
   "cell_type": "markdown",
   "id": "c99e8bfe-0edd-4db5-a218-1cf71f809d2d",
   "metadata": {},
   "source": [
    "**Run :** Entrenar Nuevamente o Cargar Entrenado"
   ]
  },
  {
   "cell_type": "code",
   "execution_count": 6,
   "id": "cd65bc5e-db28-4191-9e7f-0932bbd738a3",
   "metadata": {
    "execution": {
     "iopub.execute_input": "2021-12-05T15:05:57.654494Z",
     "iopub.status.busy": "2021-12-05T15:05:57.654182Z",
     "iopub.status.idle": "2021-12-05T15:05:57.662010Z",
     "shell.execute_reply": "2021-12-05T15:05:57.661080Z",
     "shell.execute_reply.started": "2021-12-05T15:05:57.654473Z"
    },
    "tags": []
   },
   "outputs": [],
   "source": [
    "runSimple = False\n",
    "runValidated = False\n",
    "runValidated2 = True"
   ]
  },
  {
   "cell_type": "markdown",
   "id": "f1c590df-60bb-4c53-91e7-2da0c3476415",
   "metadata": {},
   "source": [
    "**Save :** Guardar Modelo (pisa anterior)"
   ]
  },
  {
   "cell_type": "code",
   "execution_count": 7,
   "id": "6f9b41b6-3059-4967-a9c7-c00188c3e415",
   "metadata": {
    "execution": {
     "iopub.execute_input": "2021-12-05T15:05:57.663853Z",
     "iopub.status.busy": "2021-12-05T15:05:57.663391Z",
     "iopub.status.idle": "2021-12-05T15:05:57.667652Z",
     "shell.execute_reply": "2021-12-05T15:05:57.666868Z",
     "shell.execute_reply.started": "2021-12-05T15:05:57.663832Z"
    },
    "tags": []
   },
   "outputs": [],
   "source": [
    "saveSimple = True\n",
    "saveValidated = True\n",
    "saveValidated2 = True"
   ]
  },
  {
   "cell_type": "markdown",
   "id": "e6b58791-7d09-4d8a-8fcd-2b5e207db9fd",
   "metadata": {},
   "source": [
    "### Preprocesamiento"
   ]
  },
  {
   "cell_type": "code",
   "execution_count": 8,
   "id": "2e086941-2bc4-49ea-8bd8-91682b5a619a",
   "metadata": {
    "execution": {
     "iopub.execute_input": "2021-12-05T15:05:57.668995Z",
     "iopub.status.busy": "2021-12-05T15:05:57.668769Z",
     "iopub.status.idle": "2021-12-05T15:05:58.797125Z",
     "shell.execute_reply": "2021-12-05T15:05:58.796564Z",
     "shell.execute_reply.started": "2021-12-05T15:05:57.668973Z"
    },
    "tags": []
   },
   "outputs": [
    {
     "data": {
      "text/html": [
       "<div>\n",
       "<style scoped>\n",
       "    .dataframe tbody tr th:only-of-type {\n",
       "        vertical-align: middle;\n",
       "    }\n",
       "\n",
       "    .dataframe tbody tr th {\n",
       "        vertical-align: top;\n",
       "    }\n",
       "\n",
       "    .dataframe thead th {\n",
       "        text-align: right;\n",
       "    }\n",
       "</style>\n",
       "<table border=\"1\" class=\"dataframe\">\n",
       "  <thead>\n",
       "    <tr style=\"text-align: right;\">\n",
       "      <th></th>\n",
       "      <th>id</th>\n",
       "      <th>direccion_viento_tarde</th>\n",
       "      <th>direccion_viento_temprano</th>\n",
       "      <th>horas_de_sol</th>\n",
       "      <th>humedad_tarde</th>\n",
       "      <th>humedad_temprano</th>\n",
       "      <th>llovieron_hamburguesas_hoy</th>\n",
       "      <th>mm_evaporados_agua</th>\n",
       "      <th>mm_lluvia_dia</th>\n",
       "      <th>nubosidad_tarde</th>\n",
       "      <th>...</th>\n",
       "      <th>rafaga_viento_max_velocidad</th>\n",
       "      <th>temp_max</th>\n",
       "      <th>temp_min</th>\n",
       "      <th>temperatura_tarde</th>\n",
       "      <th>temperatura_temprano</th>\n",
       "      <th>velocidad_viendo_tarde</th>\n",
       "      <th>velocidad_viendo_temprano</th>\n",
       "      <th>y</th>\n",
       "      <th>m</th>\n",
       "      <th>d</th>\n",
       "    </tr>\n",
       "  </thead>\n",
       "  <tbody>\n",
       "    <tr>\n",
       "      <th>0</th>\n",
       "      <td>74816</td>\n",
       "      <td>247.5</td>\n",
       "      <td>225.0</td>\n",
       "      <td>0.0</td>\n",
       "      <td>78.0</td>\n",
       "      <td>74.0</td>\n",
       "      <td>True</td>\n",
       "      <td>4.0</td>\n",
       "      <td>68.0</td>\n",
       "      <td>7.0</td>\n",
       "      <td>...</td>\n",
       "      <td>48.0</td>\n",
       "      <td>17.9</td>\n",
       "      <td>11.6</td>\n",
       "      <td>17.2</td>\n",
       "      <td>14.8</td>\n",
       "      <td>26.0</td>\n",
       "      <td>17.0</td>\n",
       "      <td>2014</td>\n",
       "      <td>6</td>\n",
       "      <td>7</td>\n",
       "    </tr>\n",
       "    <tr>\n",
       "      <th>1</th>\n",
       "      <td>64318</td>\n",
       "      <td>202.5</td>\n",
       "      <td>0.0</td>\n",
       "      <td>0.0</td>\n",
       "      <td>14.0</td>\n",
       "      <td>56.0</td>\n",
       "      <td>True</td>\n",
       "      <td>4.0</td>\n",
       "      <td>5.8</td>\n",
       "      <td>1.0</td>\n",
       "      <td>...</td>\n",
       "      <td>61.0</td>\n",
       "      <td>41.8</td>\n",
       "      <td>22.0</td>\n",
       "      <td>40.2</td>\n",
       "      <td>28.1</td>\n",
       "      <td>31.0</td>\n",
       "      <td>11.0</td>\n",
       "      <td>2014</td>\n",
       "      <td>12</td>\n",
       "      <td>7</td>\n",
       "    </tr>\n",
       "    <tr>\n",
       "      <th>2</th>\n",
       "      <td>54357</td>\n",
       "      <td>90.0</td>\n",
       "      <td>90.0</td>\n",
       "      <td>2.6</td>\n",
       "      <td>79.0</td>\n",
       "      <td>47.0</td>\n",
       "      <td>False</td>\n",
       "      <td>4.0</td>\n",
       "      <td>0.0</td>\n",
       "      <td>8.0</td>\n",
       "      <td>...</td>\n",
       "      <td>57.0</td>\n",
       "      <td>19.0</td>\n",
       "      <td>3.1</td>\n",
       "      <td>15.9</td>\n",
       "      <td>13.7</td>\n",
       "      <td>33.0</td>\n",
       "      <td>19.0</td>\n",
       "      <td>2010</td>\n",
       "      <td>7</td>\n",
       "      <td>8</td>\n",
       "    </tr>\n",
       "    <tr>\n",
       "      <th>3</th>\n",
       "      <td>1762</td>\n",
       "      <td>337.5</td>\n",
       "      <td>247.5</td>\n",
       "      <td>0.0</td>\n",
       "      <td>92.0</td>\n",
       "      <td>96.0</td>\n",
       "      <td>True</td>\n",
       "      <td>3.0</td>\n",
       "      <td>5.0</td>\n",
       "      <td>8.0</td>\n",
       "      <td>...</td>\n",
       "      <td>54.0</td>\n",
       "      <td>21.5</td>\n",
       "      <td>19.3</td>\n",
       "      <td>19.2</td>\n",
       "      <td>19.4</td>\n",
       "      <td>31.0</td>\n",
       "      <td>13.0</td>\n",
       "      <td>2015</td>\n",
       "      <td>11</td>\n",
       "      <td>4</td>\n",
       "    </tr>\n",
       "    <tr>\n",
       "      <th>4</th>\n",
       "      <td>89422</td>\n",
       "      <td>45.0</td>\n",
       "      <td>22.5</td>\n",
       "      <td>0.0</td>\n",
       "      <td>14.0</td>\n",
       "      <td>37.0</td>\n",
       "      <td>False</td>\n",
       "      <td>4.0</td>\n",
       "      <td>0.0</td>\n",
       "      <td>2.0</td>\n",
       "      <td>...</td>\n",
       "      <td>50.0</td>\n",
       "      <td>35.7</td>\n",
       "      <td>18.4</td>\n",
       "      <td>34.8</td>\n",
       "      <td>26.9</td>\n",
       "      <td>19.0</td>\n",
       "      <td>13.0</td>\n",
       "      <td>2014</td>\n",
       "      <td>12</td>\n",
       "      <td>22</td>\n",
       "    </tr>\n",
       "    <tr>\n",
       "      <th>...</th>\n",
       "      <td>...</td>\n",
       "      <td>...</td>\n",
       "      <td>...</td>\n",
       "      <td>...</td>\n",
       "      <td>...</td>\n",
       "      <td>...</td>\n",
       "      <td>...</td>\n",
       "      <td>...</td>\n",
       "      <td>...</td>\n",
       "      <td>...</td>\n",
       "      <td>...</td>\n",
       "      <td>...</td>\n",
       "      <td>...</td>\n",
       "      <td>...</td>\n",
       "      <td>...</td>\n",
       "      <td>...</td>\n",
       "      <td>...</td>\n",
       "      <td>...</td>\n",
       "      <td>...</td>\n",
       "      <td>...</td>\n",
       "      <td>...</td>\n",
       "    </tr>\n",
       "    <tr>\n",
       "      <th>102351</th>\n",
       "      <td>49272</td>\n",
       "      <td>157.5</td>\n",
       "      <td>90.0</td>\n",
       "      <td>6.5</td>\n",
       "      <td>63.0</td>\n",
       "      <td>44.0</td>\n",
       "      <td>False</td>\n",
       "      <td>3.8</td>\n",
       "      <td>0.4</td>\n",
       "      <td>6.0</td>\n",
       "      <td>...</td>\n",
       "      <td>72.0</td>\n",
       "      <td>20.5</td>\n",
       "      <td>9.6</td>\n",
       "      <td>13.8</td>\n",
       "      <td>14.6</td>\n",
       "      <td>37.0</td>\n",
       "      <td>20.0</td>\n",
       "      <td>2012</td>\n",
       "      <td>5</td>\n",
       "      <td>23</td>\n",
       "    </tr>\n",
       "    <tr>\n",
       "      <th>102352</th>\n",
       "      <td>13885</td>\n",
       "      <td>270.0</td>\n",
       "      <td>315.0</td>\n",
       "      <td>2.1</td>\n",
       "      <td>65.0</td>\n",
       "      <td>80.0</td>\n",
       "      <td>True</td>\n",
       "      <td>1.6</td>\n",
       "      <td>5.2</td>\n",
       "      <td>7.0</td>\n",
       "      <td>...</td>\n",
       "      <td>48.0</td>\n",
       "      <td>15.4</td>\n",
       "      <td>8.9</td>\n",
       "      <td>14.3</td>\n",
       "      <td>11.8</td>\n",
       "      <td>31.0</td>\n",
       "      <td>30.0</td>\n",
       "      <td>2011</td>\n",
       "      <td>10</td>\n",
       "      <td>25</td>\n",
       "    </tr>\n",
       "    <tr>\n",
       "      <th>102353</th>\n",
       "      <td>4586</td>\n",
       "      <td>247.5</td>\n",
       "      <td>337.5</td>\n",
       "      <td>0.0</td>\n",
       "      <td>81.0</td>\n",
       "      <td>62.0</td>\n",
       "      <td>False</td>\n",
       "      <td>4.0</td>\n",
       "      <td>0.0</td>\n",
       "      <td>7.0</td>\n",
       "      <td>...</td>\n",
       "      <td>35.0</td>\n",
       "      <td>17.9</td>\n",
       "      <td>9.6</td>\n",
       "      <td>15.3</td>\n",
       "      <td>14.6</td>\n",
       "      <td>2.0</td>\n",
       "      <td>6.0</td>\n",
       "      <td>2015</td>\n",
       "      <td>12</td>\n",
       "      <td>16</td>\n",
       "    </tr>\n",
       "    <tr>\n",
       "      <th>102354</th>\n",
       "      <td>68030</td>\n",
       "      <td>45.0</td>\n",
       "      <td>67.5</td>\n",
       "      <td>0.9</td>\n",
       "      <td>79.0</td>\n",
       "      <td>65.0</td>\n",
       "      <td>False</td>\n",
       "      <td>2.2</td>\n",
       "      <td>0.0</td>\n",
       "      <td>8.0</td>\n",
       "      <td>...</td>\n",
       "      <td>56.0</td>\n",
       "      <td>12.8</td>\n",
       "      <td>5.9</td>\n",
       "      <td>9.8</td>\n",
       "      <td>9.6</td>\n",
       "      <td>24.0</td>\n",
       "      <td>17.0</td>\n",
       "      <td>2010</td>\n",
       "      <td>8</td>\n",
       "      <td>18</td>\n",
       "    </tr>\n",
       "    <tr>\n",
       "      <th>102355</th>\n",
       "      <td>32535</td>\n",
       "      <td>337.5</td>\n",
       "      <td>315.0</td>\n",
       "      <td>10.7</td>\n",
       "      <td>56.0</td>\n",
       "      <td>65.0</td>\n",
       "      <td>False</td>\n",
       "      <td>10.0</td>\n",
       "      <td>0.0</td>\n",
       "      <td>2.0</td>\n",
       "      <td>...</td>\n",
       "      <td>48.0</td>\n",
       "      <td>27.0</td>\n",
       "      <td>13.7</td>\n",
       "      <td>26.3</td>\n",
       "      <td>23.1</td>\n",
       "      <td>30.0</td>\n",
       "      <td>11.0</td>\n",
       "      <td>2015</td>\n",
       "      <td>12</td>\n",
       "      <td>7</td>\n",
       "    </tr>\n",
       "  </tbody>\n",
       "</table>\n",
       "<p>102356 rows × 24 columns</p>\n",
       "</div>"
      ],
      "text/plain": [
       "           id  direccion_viento_tarde  direccion_viento_temprano  \\\n",
       "0       74816                   247.5                      225.0   \n",
       "1       64318                   202.5                        0.0   \n",
       "2       54357                    90.0                       90.0   \n",
       "3        1762                   337.5                      247.5   \n",
       "4       89422                    45.0                       22.5   \n",
       "...       ...                     ...                        ...   \n",
       "102351  49272                   157.5                       90.0   \n",
       "102352  13885                   270.0                      315.0   \n",
       "102353   4586                   247.5                      337.5   \n",
       "102354  68030                    45.0                       67.5   \n",
       "102355  32535                   337.5                      315.0   \n",
       "\n",
       "        horas_de_sol  humedad_tarde  humedad_temprano  \\\n",
       "0                0.0           78.0              74.0   \n",
       "1                0.0           14.0              56.0   \n",
       "2                2.6           79.0              47.0   \n",
       "3                0.0           92.0              96.0   \n",
       "4                0.0           14.0              37.0   \n",
       "...              ...            ...               ...   \n",
       "102351           6.5           63.0              44.0   \n",
       "102352           2.1           65.0              80.0   \n",
       "102353           0.0           81.0              62.0   \n",
       "102354           0.9           79.0              65.0   \n",
       "102355          10.7           56.0              65.0   \n",
       "\n",
       "        llovieron_hamburguesas_hoy  mm_evaporados_agua  mm_lluvia_dia  \\\n",
       "0                             True                 4.0           68.0   \n",
       "1                             True                 4.0            5.8   \n",
       "2                            False                 4.0            0.0   \n",
       "3                             True                 3.0            5.0   \n",
       "4                            False                 4.0            0.0   \n",
       "...                            ...                 ...            ...   \n",
       "102351                       False                 3.8            0.4   \n",
       "102352                        True                 1.6            5.2   \n",
       "102353                       False                 4.0            0.0   \n",
       "102354                       False                 2.2            0.0   \n",
       "102355                       False                10.0            0.0   \n",
       "\n",
       "        nubosidad_tarde  ...  rafaga_viento_max_velocidad  temp_max  temp_min  \\\n",
       "0                   7.0  ...                         48.0      17.9      11.6   \n",
       "1                   1.0  ...                         61.0      41.8      22.0   \n",
       "2                   8.0  ...                         57.0      19.0       3.1   \n",
       "3                   8.0  ...                         54.0      21.5      19.3   \n",
       "4                   2.0  ...                         50.0      35.7      18.4   \n",
       "...                 ...  ...                          ...       ...       ...   \n",
       "102351              6.0  ...                         72.0      20.5       9.6   \n",
       "102352              7.0  ...                         48.0      15.4       8.9   \n",
       "102353              7.0  ...                         35.0      17.9       9.6   \n",
       "102354              8.0  ...                         56.0      12.8       5.9   \n",
       "102355              2.0  ...                         48.0      27.0      13.7   \n",
       "\n",
       "        temperatura_tarde  temperatura_temprano  velocidad_viendo_tarde  \\\n",
       "0                    17.2                  14.8                    26.0   \n",
       "1                    40.2                  28.1                    31.0   \n",
       "2                    15.9                  13.7                    33.0   \n",
       "3                    19.2                  19.4                    31.0   \n",
       "4                    34.8                  26.9                    19.0   \n",
       "...                   ...                   ...                     ...   \n",
       "102351               13.8                  14.6                    37.0   \n",
       "102352               14.3                  11.8                    31.0   \n",
       "102353               15.3                  14.6                     2.0   \n",
       "102354                9.8                   9.6                    24.0   \n",
       "102355               26.3                  23.1                    30.0   \n",
       "\n",
       "        velocidad_viendo_temprano     y   m   d  \n",
       "0                            17.0  2014   6   7  \n",
       "1                            11.0  2014  12   7  \n",
       "2                            19.0  2010   7   8  \n",
       "3                            13.0  2015  11   4  \n",
       "4                            13.0  2014  12  22  \n",
       "...                           ...   ...  ..  ..  \n",
       "102351                       20.0  2012   5  23  \n",
       "102352                       30.0  2011  10  25  \n",
       "102353                        6.0  2015  12  16  \n",
       "102354                       17.0  2010   8  18  \n",
       "102355                       11.0  2015  12   7  \n",
       "\n",
       "[102356 rows x 24 columns]"
      ]
     },
     "execution_count": 8,
     "metadata": {},
     "output_type": "execute_result"
    }
   ],
   "source": [
    "targetBooleano(df_targ, inplace=True)\n",
    "reemplazarNulls(df_feat , inplace=True)\n",
    "reemplazarCategoricas(df_feat , inplace=True)\n",
    "reemplazarFechas(df_feat , inplace=True)"
   ]
  },
  {
   "cell_type": "code",
   "execution_count": 9,
   "id": "642171dc-c717-48aa-9f13-3d5115385741",
   "metadata": {
    "execution": {
     "iopub.execute_input": "2021-12-05T15:05:58.798472Z",
     "iopub.status.busy": "2021-12-05T15:05:58.798054Z",
     "iopub.status.idle": "2021-12-05T15:05:58.814910Z",
     "shell.execute_reply": "2021-12-05T15:05:58.814155Z",
     "shell.execute_reply.started": "2021-12-05T15:05:58.798448Z"
    },
    "tags": []
   },
   "outputs": [
    {
     "name": "stdout",
     "output_type": "stream",
     "text": [
      "<class 'pandas.core.frame.DataFrame'>\n",
      "RangeIndex: 102356 entries, 0 to 102355\n",
      "Data columns (total 24 columns):\n",
      " #   Column                        Non-Null Count   Dtype  \n",
      "---  ------                        --------------   -----  \n",
      " 0   id                            102356 non-null  int64  \n",
      " 1   direccion_viento_tarde        102356 non-null  float64\n",
      " 2   direccion_viento_temprano     102356 non-null  float64\n",
      " 3   horas_de_sol                  102356 non-null  float64\n",
      " 4   humedad_tarde                 102356 non-null  float64\n",
      " 5   humedad_temprano              102356 non-null  float64\n",
      " 6   llovieron_hamburguesas_hoy    102356 non-null  bool   \n",
      " 7   mm_evaporados_agua            102356 non-null  float64\n",
      " 8   mm_lluvia_dia                 102356 non-null  float64\n",
      " 9   nubosidad_tarde               102356 non-null  float64\n",
      " 10  nubosidad_temprano            102356 non-null  float64\n",
      " 11  presion_atmosferica_tarde     102356 non-null  float64\n",
      " 12  presion_atmosferica_temprano  102356 non-null  float64\n",
      " 13  rafaga_viento_max_direccion   102356 non-null  float64\n",
      " 14  rafaga_viento_max_velocidad   102356 non-null  float64\n",
      " 15  temp_max                      102356 non-null  float64\n",
      " 16  temp_min                      102356 non-null  float64\n",
      " 17  temperatura_tarde             102356 non-null  float64\n",
      " 18  temperatura_temprano          102356 non-null  float64\n",
      " 19  velocidad_viendo_tarde        102356 non-null  float64\n",
      " 20  velocidad_viendo_temprano     102356 non-null  float64\n",
      " 21  y                             102356 non-null  int64  \n",
      " 22  m                             102356 non-null  int64  \n",
      " 23  d                             102356 non-null  int64  \n",
      "dtypes: bool(1), float64(19), int64(4)\n",
      "memory usage: 18.1 MB\n"
     ]
    }
   ],
   "source": [
    "df_feat.info()"
   ]
  },
  {
   "cell_type": "code",
   "execution_count": 10,
   "id": "a21cd14d-72b8-46e3-a7ac-96ba3e4a42dc",
   "metadata": {
    "execution": {
     "iopub.execute_input": "2021-12-05T15:05:58.815995Z",
     "iopub.status.busy": "2021-12-05T15:05:58.815711Z",
     "iopub.status.idle": "2021-12-05T15:05:58.874688Z",
     "shell.execute_reply": "2021-12-05T15:05:58.873979Z",
     "shell.execute_reply.started": "2021-12-05T15:05:58.815976Z"
    }
   },
   "outputs": [],
   "source": [
    "train_feat, val_feat, train_targ, val_targ = train_val( df_feat, df_targ )"
   ]
  },
  {
   "cell_type": "code",
   "execution_count": 11,
   "id": "d6118176-4cc5-4353-ad27-18dee03eb9cb",
   "metadata": {
    "execution": {
     "iopub.execute_input": "2021-12-05T15:05:58.876260Z",
     "iopub.status.busy": "2021-12-05T15:05:58.875850Z",
     "iopub.status.idle": "2021-12-05T15:05:58.884504Z",
     "shell.execute_reply": "2021-12-05T15:05:58.882515Z",
     "shell.execute_reply.started": "2021-12-05T15:05:58.876225Z"
    }
   },
   "outputs": [],
   "source": [
    "train_targ = train_targ.llovieron_hamburguesas_al_dia_siguiente\n",
    "val_targ = val_targ.llovieron_hamburguesas_al_dia_siguiente"
   ]
  },
  {
   "cell_type": "markdown",
   "id": "0644d54b-4e59-49d5-a8df-c627b574c2f3",
   "metadata": {},
   "source": [
    "## Entrenamiento"
   ]
  },
  {
   "cell_type": "markdown",
   "id": "12e60815-3880-48af-9fcc-527ec3ecec42",
   "metadata": {},
   "source": [
    "### Simple"
   ]
  },
  {
   "cell_type": "code",
   "execution_count": 12,
   "id": "2bb0e7fa-49d3-4711-aa60-2a98afef1996",
   "metadata": {
    "execution": {
     "iopub.execute_input": "2021-12-05T15:05:58.891285Z",
     "iopub.status.busy": "2021-12-05T15:05:58.890839Z",
     "iopub.status.idle": "2021-12-05T15:05:58.905810Z",
     "shell.execute_reply": "2021-12-05T15:05:58.905122Z",
     "shell.execute_reply.started": "2021-12-05T15:05:58.891241Z"
    }
   },
   "outputs": [],
   "source": [
    "if (runSimple):\n",
    "    boost_simple = GradientBoostingClassifier(\n",
    "        random_state=1,\n",
    "        max_depth=3,\n",
    "        min_samples_split=200,\n",
    "    )\n",
    "    boost_simple.fit( train_feat, train_targ )\n",
    "    \n",
    "    # Guardar\n",
    "    if(saveSimple):\n",
    "        dump(boost_simple, 'models/Ensambles/boost_simple.sk') \n",
    "else:\n",
    "    # Cargar\n",
    "    boost_simple = load('models/Ensambles/boost_simple.sk')"
   ]
  },
  {
   "cell_type": "code",
   "execution_count": 13,
   "id": "13fd98df-4710-49ba-8c42-a630eb2987df",
   "metadata": {
    "execution": {
     "iopub.execute_input": "2021-12-05T15:05:58.908132Z",
     "iopub.status.busy": "2021-12-05T15:05:58.907410Z",
     "iopub.status.idle": "2021-12-05T15:05:59.170495Z",
     "shell.execute_reply": "2021-12-05T15:05:59.169955Z",
     "shell.execute_reply.started": "2021-12-05T15:05:58.908093Z"
    }
   },
   "outputs": [
    {
     "name": "stdout",
     "output_type": "stream",
     "text": [
      "CPU times: user 3 µs, sys: 0 ns, total: 3 µs\n",
      "Wall time: 6.2 µs\n",
      "ACCURACY: 0.841051191871825\n",
      "PRESICION: 0.46593886462882095\n",
      "RECALL: 0.7253569000679809\n",
      "CONFUSION MATRIX\n"
     ]
    },
    {
     "data": {
      "image/png": "[encoded data removed]",
      "text/plain": [
       "<Figure size 432x288 with 2 Axes>"
      ]
     },
     "metadata": {},
     "output_type": "display_data"
    }
   ],
   "source": [
    "%time\n",
    "pred_s = boost_simple.predict(val_feat)\n",
    "score(pred_s, val_targ)"
   ]
  },
  {
   "cell_type": "markdown",
   "id": "530e14b5-501c-4cf5-87fc-b57e4559f24c",
   "metadata": {},
   "source": [
    "### Validado"
   ]
  },
  {
   "cell_type": "code",
   "execution_count": 14,
   "id": "0be2b1be-0ddb-43e5-9966-8364904b477e",
   "metadata": {
    "execution": {
     "iopub.execute_input": "2021-12-05T15:05:59.171693Z",
     "iopub.status.busy": "2021-12-05T15:05:59.171459Z",
     "iopub.status.idle": "2021-12-05T15:05:59.219611Z",
     "shell.execute_reply": "2021-12-05T15:05:59.219014Z",
     "shell.execute_reply.started": "2021-12-05T15:05:59.171670Z"
    },
    "scrolled": true,
    "tags": []
   },
   "outputs": [],
   "source": [
    "if( runValidated ):\n",
    "    boost = GradientBoostingClassifier(\n",
    "        random_state=1,\n",
    "    )\n",
    "    \n",
    "    params = {\n",
    "        'max_depth': np.arange(1, 20, 1),\n",
    "        'min_samples_leaf': np.arange(50, 1000, 50),\n",
    "        'n_estimators': np.arange(50,500,50),\n",
    "        'loss': ['deviance', 'exponential'],\n",
    "        'learning_rate': [0.05,0.1,0.2],\n",
    "    }\n",
    "    \n",
    "    boost_grid = RandomizedSearchCV(\n",
    "        boost,\n",
    "        params,\n",
    "        scoring='roc_auc',\n",
    "        n_jobs=MAX_JOBS,\n",
    "        return_train_score=True,\n",
    "        verbose=1\n",
    "    ).fit(train_feat, train_targ)\n",
    "    \n",
    "    # Guardar\n",
    "    if(saveValidated):\n",
    "        dump(boost_grid, 'models/Ensambles/boost_grid.sk')\n",
    "else:\n",
    "    # Cargar\n",
    "    boost_grid = load('models/Ensambles/boost_grid.sk')"
   ]
  },
  {
   "cell_type": "code",
   "execution_count": 15,
   "id": "63a6b4bc-e597-46dc-9146-e255adc0e118",
   "metadata": {
    "execution": {
     "iopub.execute_input": "2021-12-05T15:05:59.220743Z",
     "iopub.status.busy": "2021-12-05T15:05:59.220503Z",
     "iopub.status.idle": "2021-12-05T15:05:59.225272Z",
     "shell.execute_reply": "2021-12-05T15:05:59.223906Z",
     "shell.execute_reply.started": "2021-12-05T15:05:59.220721Z"
    },
    "tags": []
   },
   "outputs": [
    {
     "name": "stdout",
     "output_type": "stream",
     "text": [
      "Best score: 0.8900215501117197\n",
      "Best params {'n_estimators': 300, 'min_samples_leaf': 450, 'max_depth': 17, 'loss': 'deviance', 'learning_rate': 0.05}\n"
     ]
    }
   ],
   "source": [
    "print(f\"Best score: {boost_grid.best_score_}\")\n",
    "print(f\"Best params {boost_grid.best_params_}\")"
   ]
  },
  {
   "cell_type": "code",
   "execution_count": 16,
   "id": "3d93138b-9a57-47e0-81a1-820e8fc2e0c9",
   "metadata": {
    "execution": {
     "iopub.execute_input": "2021-12-05T15:05:59.227010Z",
     "iopub.status.busy": "2021-12-05T15:05:59.226572Z",
     "iopub.status.idle": "2021-12-05T15:05:59.235097Z",
     "shell.execute_reply": "2021-12-05T15:05:59.234262Z",
     "shell.execute_reply.started": "2021-12-05T15:05:59.226953Z"
    }
   },
   "outputs": [],
   "source": [
    "boost = boost_grid.best_estimator_"
   ]
  },
  {
   "cell_type": "code",
   "execution_count": 17,
   "id": "1698b124-275e-4a0c-b83c-39ee13760708",
   "metadata": {
    "execution": {
     "iopub.execute_input": "2021-12-05T15:05:59.236922Z",
     "iopub.status.busy": "2021-12-05T15:05:59.236318Z",
     "iopub.status.idle": "2021-12-05T15:05:59.747840Z",
     "shell.execute_reply": "2021-12-05T15:05:59.747251Z",
     "shell.execute_reply.started": "2021-12-05T15:05:59.236872Z"
    }
   },
   "outputs": [
    {
     "name": "stdout",
     "output_type": "stream",
     "text": [
      "AUC-ROC: 0.7353058911847107\n",
      "ACCURACY: 0.8491598280578351\n",
      "PRESICION: 0.7222884386174017\n",
      "RECALL: 0.5292576419213973\n",
      "CONFUSION MATRIX\n",
      "CPU times: user 451 ms, sys: 12.5 ms, total: 463 ms\n",
      "Wall time: 431 ms\n"
     ]
    },
    {
     "data": {
      "image/png": "[encoded data removed]",
      "text/plain": [
       "<Figure size 432x288 with 2 Axes>"
      ]
     },
     "metadata": {},
     "output_type": "display_data"
    }
   ],
   "source": [
    "%%time\n",
    "pred = boost.predict(val_feat)\n",
    "prob = boost.predict_proba(val_feat)\n",
    "score(val_targ, pred, prob[:,1])"
   ]
  },
  {
   "cell_type": "code",
   "execution_count": 18,
   "id": "6e8601a9-0cba-4a18-a8e6-7afd4b39737c",
   "metadata": {
    "execution": {
     "iopub.execute_input": "2021-12-05T15:05:59.749238Z",
     "iopub.status.busy": "2021-12-05T15:05:59.749044Z",
     "iopub.status.idle": "2021-12-05T15:05:59.814327Z",
     "shell.execute_reply": "2021-12-05T15:05:59.813717Z",
     "shell.execute_reply.started": "2021-12-05T15:05:59.749218Z"
    },
    "tags": []
   },
   "outputs": [],
   "source": [
    "if(saveValidated):\n",
    "    dump(boost, 'models/Ensambles/boost.sk')"
   ]
  },
  {
   "cell_type": "markdown",
   "id": "133d5232-3d45-4378-b7fc-93624ae3bbb7",
   "metadata": {},
   "source": [
    "### Optimizando mas hiperparametros"
   ]
  },
  {
   "cell_type": "code",
   "execution_count": 19,
   "id": "775f5db0-8eec-4380-94c4-823c528f327c",
   "metadata": {
    "execution": {
     "iopub.execute_input": "2021-12-05T15:05:59.815381Z",
     "iopub.status.busy": "2021-12-05T15:05:59.815195Z",
     "iopub.status.idle": "2021-12-05T15:41:47.679683Z",
     "shell.execute_reply": "2021-12-05T15:41:47.678872Z",
     "shell.execute_reply.started": "2021-12-05T15:05:59.815358Z"
    },
    "tags": []
   },
   "outputs": [
    {
     "name": "stdout",
     "output_type": "stream",
     "text": [
      "n_iterations: 7\n",
      "n_required_iterations: 7\n",
      "n_possible_iterations: 7\n",
      "min_resources_: 126\n",
      "max_resources_: 92120\n",
      "aggressive_elimination: False\n",
      "factor: 3\n",
      "----------\n",
      "iter: 0\n",
      "n_candidates: 1296\n",
      "n_resources: 126\n",
      "Fitting 5 folds for each of 1296 candidates, totalling 6480 fits\n",
      "----------\n",
      "iter: 1\n",
      "n_candidates: 432\n",
      "n_resources: 378\n",
      "Fitting 5 folds for each of 432 candidates, totalling 2160 fits\n",
      "----------\n",
      "iter: 2\n",
      "n_candidates: 144\n",
      "n_resources: 1134\n",
      "Fitting 5 folds for each of 144 candidates, totalling 720 fits\n",
      "----------\n",
      "iter: 3\n",
      "n_candidates: 48\n",
      "n_resources: 3402\n",
      "Fitting 5 folds for each of 48 candidates, totalling 240 fits\n",
      "----------\n",
      "iter: 4\n",
      "n_candidates: 16\n",
      "n_resources: 10206\n",
      "Fitting 5 folds for each of 16 candidates, totalling 80 fits\n",
      "----------\n",
      "iter: 5\n",
      "n_candidates: 6\n",
      "n_resources: 30618\n",
      "Fitting 5 folds for each of 6 candidates, totalling 30 fits\n",
      "----------\n",
      "iter: 6\n",
      "n_candidates: 2\n",
      "n_resources: 91854\n",
      "Fitting 5 folds for each of 2 candidates, totalling 10 fits\n"
     ]
    }
   ],
   "source": [
    "if( runValidated2 ):\n",
    "    boost2 = GradientBoostingClassifier(\n",
    "        random_state=1,\n",
    "    )\n",
    "    \n",
    "    params = {\n",
    "        'max_depth': np.arange(15, 19, 1),\n",
    "        'min_samples_leaf': np.arange(50, 200, 50),\n",
    "        'min_samples_split': np.arange(50, 200, 50),\n",
    "        'n_estimators': np.arange(200,500,100),\n",
    "        'loss': ['deviance', 'exponential'],\n",
    "        'learning_rate': [0.03,0.05,0.07],\n",
    "        'criterion' :['friedman_mse','squared_error']\n",
    "    }\n",
    "    \n",
    "    boost_grid2 = HalvingGridSearchCV(\n",
    "        boost2,\n",
    "        params,\n",
    "        scoring='roc_auc',\n",
    "        n_jobs=MAX_JOBS,\n",
    "        return_train_score=True,\n",
    "        verbose=1\n",
    "    ).fit(train_feat, train_targ)\n",
    "    \n",
    "    # Guardar\n",
    "    if(saveValidated2):\n",
    "        dump(boost_grid2, 'models/Ensambles/boost2_grid.sk')\n",
    "else:\n",
    "    # Cargar\n",
    "    boost_grid2 = load('models/Ensambles/boost2_grid.sk')"
   ]
  },
  {
   "cell_type": "code",
   "execution_count": 20,
   "id": "313337a2-bc3b-43a6-ad72-52bf3676a486",
   "metadata": {
    "execution": {
     "iopub.execute_input": "2021-12-05T15:41:47.681305Z",
     "iopub.status.busy": "2021-12-05T15:41:47.681046Z",
     "iopub.status.idle": "2021-12-05T15:41:47.686057Z",
     "shell.execute_reply": "2021-12-05T15:41:47.685157Z",
     "shell.execute_reply.started": "2021-12-05T15:41:47.681279Z"
    }
   },
   "outputs": [
    {
     "name": "stdout",
     "output_type": "stream",
     "text": [
      "Best score: 0.8880131564342968\n",
      "Best params {'criterion': 'squared_error', 'learning_rate': 0.03, 'loss': 'exponential', 'max_depth': 18, 'min_samples_leaf': 50, 'min_samples_split': 50, 'n_estimators': 200}\n"
     ]
    }
   ],
   "source": [
    "print(f\"Best score: {boost_grid2.best_score_}\")\n",
    "print(f\"Best params {boost_grid2.best_params_}\")"
   ]
  },
  {
   "cell_type": "code",
   "execution_count": 21,
   "id": "11288bbc-4417-4b57-8353-c3b4a6cc8f5a",
   "metadata": {
    "execution": {
     "iopub.execute_input": "2021-12-05T15:41:47.687508Z",
     "iopub.status.busy": "2021-12-05T15:41:47.687218Z",
     "iopub.status.idle": "2021-12-05T15:41:47.701708Z",
     "shell.execute_reply": "2021-12-05T15:41:47.700459Z",
     "shell.execute_reply.started": "2021-12-05T15:41:47.687467Z"
    }
   },
   "outputs": [],
   "source": [
    "boost2 = boost_grid2.best_estimator_"
   ]
  },
  {
   "cell_type": "code",
   "execution_count": 22,
   "id": "ad108361-7982-499a-ae4e-463ba922c148",
   "metadata": {
    "execution": {
     "iopub.execute_input": "2021-12-05T15:41:47.705020Z",
     "iopub.status.busy": "2021-12-05T15:41:47.703381Z",
     "iopub.status.idle": "2021-12-05T15:41:48.329385Z",
     "shell.execute_reply": "2021-12-05T15:41:48.328817Z",
     "shell.execute_reply.started": "2021-12-05T15:41:47.704981Z"
    }
   },
   "outputs": [
    {
     "name": "stdout",
     "output_type": "stream",
     "text": [
      "AUC-ROC: 0.7309102819578003\n",
      "ACCURACY: 0.8515044939429465\n",
      "PRESICION: 0.743979721166033\n",
      "RECALL: 0.5126637554585153\n",
      "CONFUSION MATRIX\n",
      "CPU times: user 547 ms, sys: 24.1 ms, total: 571 ms\n",
      "Wall time: 537 ms\n"
     ]
    },
    {
     "data": {
      "image/png": "[encoded data removed]",
      "text/plain": [
       "<Figure size 432x288 with 2 Axes>"
      ]
     },
     "metadata": {},
     "output_type": "display_data"
    }
   ],
   "source": [
    "%%time\n",
    "pred2 = boost2.predict(val_feat)\n",
    "prob2 = boost2.predict_proba(val_feat)\n",
    "score(val_targ, pred2, prob2[:,1])"
   ]
  },
  {
   "cell_type": "code",
   "execution_count": 23,
   "id": "c8eb00d0-3ac7-4bb0-ba8c-f01cbf8c979b",
   "metadata": {
    "execution": {
     "iopub.execute_input": "2021-12-05T15:41:48.331167Z",
     "iopub.status.busy": "2021-12-05T15:41:48.330589Z",
     "iopub.status.idle": "2021-12-05T15:41:48.486537Z",
     "shell.execute_reply": "2021-12-05T15:41:48.485980Z",
     "shell.execute_reply.started": "2021-12-05T15:41:48.331145Z"
    },
    "tags": []
   },
   "outputs": [],
   "source": [
    "if(saveValidated2):\n",
    "    dump(boost2, 'models/Ensambles/boost2.sk')"
   ]
  }
 ],
 "metadata": {
  "kernelspec": {
   "display_name": "Python 3 (ipykernel)",
   "language": "python",
   "name": "python3"
  },
  "language_info": {
   "codemirror_mode": {
    "name": "ipython",
    "version": 3
   },
   "file_extension": ".py",
   "mimetype": "text/x-python",
   "name": "python",
   "nbconvert_exporter": "python",
   "pygments_lexer": "ipython3",
   "version": "3.9.9"
  }
 },
 "nbformat": 4,
 "nbformat_minor": 5
}
