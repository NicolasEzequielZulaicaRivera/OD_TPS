{
 "cells": [
  {
   "cell_type": "markdown",
   "id": "3308d311-40d7-4259-a828-7a57b1c0697c",
   "metadata": {},
   "source": [
    "# Boosting"
   ]
  },
  {
   "cell_type": "markdown",
   "id": "2052667d-db58-4679-830a-e39d8750ef0a",
   "metadata": {},
   "source": [
    "### Imports"
   ]
  },
  {
   "cell_type": "code",
   "execution_count": 1,
   "id": "57fe6f06-9c8e-4d61-97ae-d6a56db43ce2",
   "metadata": {
    "execution": {
     "iopub.execute_input": "2021-12-07T13:03:33.833051Z",
     "iopub.status.busy": "2021-12-07T13:03:33.832687Z",
     "iopub.status.idle": "2021-12-07T13:03:34.869297Z",
     "shell.execute_reply": "2021-12-07T13:03:34.868784Z",
     "shell.execute_reply.started": "2021-12-07T13:03:33.833000Z"
    },
    "tags": []
   },
   "outputs": [],
   "source": [
    "import pandas as pd\n",
    "import numpy as np\n",
    "from matplotlib import pyplot as plt\n",
    "from joblib import dump, load"
   ]
  },
  {
   "cell_type": "code",
   "execution_count": 2,
   "id": "a49e6792-264c-4416-9d7a-2fd751337a76",
   "metadata": {
    "execution": {
     "iopub.execute_input": "2021-12-07T13:03:34.870732Z",
     "iopub.status.busy": "2021-12-07T13:03:34.870363Z",
     "iopub.status.idle": "2021-12-07T13:03:35.246421Z",
     "shell.execute_reply": "2021-12-07T13:03:35.245801Z",
     "shell.execute_reply.started": "2021-12-07T13:03:34.870710Z"
    },
    "tags": []
   },
   "outputs": [],
   "source": [
    "from sklearn.ensemble import GradientBoostingClassifier\n",
    "from sklearn.model_selection import RandomizedSearchCV\n",
    "from sklearn.experimental import enable_halving_search_cv\n",
    "from sklearn.model_selection import HalvingGridSearchCV\n",
    "from sklearn import tree"
   ]
  },
  {
   "cell_type": "code",
   "execution_count": 3,
   "id": "ecbe57a8-73db-45f4-a21d-4f876860ec06",
   "metadata": {
    "execution": {
     "iopub.execute_input": "2021-12-07T13:03:35.249193Z",
     "iopub.status.busy": "2021-12-07T13:03:35.248967Z",
     "iopub.status.idle": "2021-12-07T13:03:36.639349Z",
     "shell.execute_reply": "2021-12-07T13:03:36.638759Z",
     "shell.execute_reply.started": "2021-12-07T13:03:35.249167Z"
    },
    "tags": []
   },
   "outputs": [
    {
     "name": "stdout",
     "output_type": "stream",
     "text": [
      "[###] All Done                                              \n"
     ]
    }
   ],
   "source": [
    "from preprocessing import reemplazarNulls,reemplazarCategoricas,reemplazarFechas,regularizar,targetBooleano"
   ]
  },
  {
   "cell_type": "code",
   "execution_count": 4,
   "id": "ae53c637-7f02-4802-9add-5a35ced69f64",
   "metadata": {
    "execution": {
     "iopub.execute_input": "2021-12-07T13:03:36.640385Z",
     "iopub.status.busy": "2021-12-07T13:03:36.640142Z",
     "iopub.status.idle": "2021-12-07T13:03:37.125760Z",
     "shell.execute_reply": "2021-12-07T13:03:37.125031Z",
     "shell.execute_reply.started": "2021-12-07T13:03:36.640362Z"
    },
    "tags": []
   },
   "outputs": [],
   "source": [
    "from utilities import score, df_feat, df_targ, train_val"
   ]
  },
  {
   "cell_type": "markdown",
   "id": "1aa60fef-ad74-400f-8ef7-8255160828a9",
   "metadata": {},
   "source": [
    "### Codigo a correr"
   ]
  },
  {
   "cell_type": "code",
   "execution_count": 5,
   "id": "cac84d06-6216-46dc-9d75-3044c9a63f5d",
   "metadata": {
    "execution": {
     "iopub.execute_input": "2021-12-07T13:03:37.127042Z",
     "iopub.status.busy": "2021-12-07T13:03:37.126682Z",
     "iopub.status.idle": "2021-12-07T13:03:37.130169Z",
     "shell.execute_reply": "2021-12-07T13:03:37.129494Z",
     "shell.execute_reply.started": "2021-12-07T13:03:37.127018Z"
    },
    "tags": []
   },
   "outputs": [],
   "source": [
    "MAX_JOBS = 5"
   ]
  },
  {
   "cell_type": "markdown",
   "id": "c99e8bfe-0edd-4db5-a218-1cf71f809d2d",
   "metadata": {},
   "source": [
    "**Run :** Entrenar Nuevamente o Cargar Entrenado"
   ]
  },
  {
   "cell_type": "code",
   "execution_count": 6,
   "id": "cd65bc5e-db28-4191-9e7f-0932bbd738a3",
   "metadata": {
    "execution": {
     "iopub.execute_input": "2021-12-07T13:03:37.132239Z",
     "iopub.status.busy": "2021-12-07T13:03:37.131840Z",
     "iopub.status.idle": "2021-12-07T13:03:37.138187Z",
     "shell.execute_reply": "2021-12-07T13:03:37.137410Z",
     "shell.execute_reply.started": "2021-12-07T13:03:37.132208Z"
    },
    "tags": []
   },
   "outputs": [],
   "source": [
    "runSimple = False\n",
    "runValidated = False\n",
    "runValidated2 = False\n",
    "runReg = False"
   ]
  },
  {
   "cell_type": "markdown",
   "id": "f1c590df-60bb-4c53-91e7-2da0c3476415",
   "metadata": {},
   "source": [
    "**Save :** Guardar Modelo (pisa anterior)"
   ]
  },
  {
   "cell_type": "code",
   "execution_count": 7,
   "id": "6f9b41b6-3059-4967-a9c7-c00188c3e415",
   "metadata": {
    "execution": {
     "iopub.execute_input": "2021-12-07T13:03:37.139539Z",
     "iopub.status.busy": "2021-12-07T13:03:37.139301Z",
     "iopub.status.idle": "2021-12-07T13:03:37.144725Z",
     "shell.execute_reply": "2021-12-07T13:03:37.143626Z",
     "shell.execute_reply.started": "2021-12-07T13:03:37.139518Z"
    },
    "tags": []
   },
   "outputs": [],
   "source": [
    "saveSimple = True\n",
    "saveValidated = True\n",
    "saveValidated2 = True\n",
    "saveReg = True"
   ]
  },
  {
   "cell_type": "markdown",
   "id": "e6b58791-7d09-4d8a-8fcd-2b5e207db9fd",
   "metadata": {},
   "source": [
    "### Preprocesamiento"
   ]
  },
  {
   "cell_type": "code",
   "execution_count": 8,
   "id": "2e086941-2bc4-49ea-8bd8-91682b5a619a",
   "metadata": {
    "execution": {
     "iopub.execute_input": "2021-12-07T13:03:37.146014Z",
     "iopub.status.busy": "2021-12-07T13:03:37.145676Z",
     "iopub.status.idle": "2021-12-07T13:03:38.793263Z",
     "shell.execute_reply": "2021-12-07T13:03:38.792544Z",
     "shell.execute_reply.started": "2021-12-07T13:03:37.145994Z"
    },
    "tags": []
   },
   "outputs": [],
   "source": [
    "targetBooleano(df_targ, inplace=True)\n",
    "reemplazarNulls(df_feat , inplace=True)\n",
    "reemplazarCategoricas(df_feat , inplace=True)\n",
    "reemplazarFechas(df_feat , inplace=True)\n",
    "df_feat_r = regularizar(df_feat)"
   ]
  },
  {
   "cell_type": "code",
   "execution_count": 9,
   "id": "642171dc-c717-48aa-9f13-3d5115385741",
   "metadata": {
    "execution": {
     "iopub.execute_input": "2021-12-07T13:03:38.794683Z",
     "iopub.status.busy": "2021-12-07T13:03:38.794477Z",
     "iopub.status.idle": "2021-12-07T13:03:38.813968Z",
     "shell.execute_reply": "2021-12-07T13:03:38.813399Z",
     "shell.execute_reply.started": "2021-12-07T13:03:38.794661Z"
    },
    "tags": []
   },
   "outputs": [
    {
     "name": "stdout",
     "output_type": "stream",
     "text": [
      "<class 'pandas.core.frame.DataFrame'>\n",
      "RangeIndex: 102356 entries, 0 to 102355\n",
      "Data columns (total 24 columns):\n",
      " #   Column                        Non-Null Count   Dtype  \n",
      "---  ------                        --------------   -----  \n",
      " 0   id                            102356 non-null  int64  \n",
      " 1   direccion_viento_tarde        102356 non-null  float64\n",
      " 2   direccion_viento_temprano     102356 non-null  float64\n",
      " 3   horas_de_sol                  102356 non-null  float64\n",
      " 4   humedad_tarde                 102356 non-null  float64\n",
      " 5   humedad_temprano              102356 non-null  float64\n",
      " 6   llovieron_hamburguesas_hoy    102356 non-null  bool   \n",
      " 7   mm_evaporados_agua            102356 non-null  float64\n",
      " 8   mm_lluvia_dia                 102356 non-null  float64\n",
      " 9   nubosidad_tarde               102356 non-null  float64\n",
      " 10  nubosidad_temprano            102356 non-null  float64\n",
      " 11  presion_atmosferica_tarde     102356 non-null  float64\n",
      " 12  presion_atmosferica_temprano  102356 non-null  float64\n",
      " 13  rafaga_viento_max_direccion   102356 non-null  float64\n",
      " 14  rafaga_viento_max_velocidad   102356 non-null  float64\n",
      " 15  temp_max                      102356 non-null  float64\n",
      " 16  temp_min                      102356 non-null  float64\n",
      " 17  temperatura_tarde             102356 non-null  float64\n",
      " 18  temperatura_temprano          102356 non-null  float64\n",
      " 19  velocidad_viendo_tarde        102356 non-null  float64\n",
      " 20  velocidad_viendo_temprano     102356 non-null  float64\n",
      " 21  y                             102356 non-null  int64  \n",
      " 22  m                             102356 non-null  int64  \n",
      " 23  d                             102356 non-null  int64  \n",
      "dtypes: bool(1), float64(19), int64(4)\n",
      "memory usage: 18.1 MB\n"
     ]
    }
   ],
   "source": [
    "df_feat.info()"
   ]
  },
  {
   "cell_type": "code",
   "execution_count": 10,
   "id": "a21cd14d-72b8-46e3-a7ac-96ba3e4a42dc",
   "metadata": {
    "execution": {
     "iopub.execute_input": "2021-12-07T13:03:38.815201Z",
     "iopub.status.busy": "2021-12-07T13:03:38.815004Z",
     "iopub.status.idle": "2021-12-07T13:03:38.870367Z",
     "shell.execute_reply": "2021-12-07T13:03:38.869596Z",
     "shell.execute_reply.started": "2021-12-07T13:03:38.815179Z"
    },
    "tags": []
   },
   "outputs": [],
   "source": [
    "train_feat, val_feat, train_targ, val_targ = train_val( df_feat, df_targ )"
   ]
  },
  {
   "cell_type": "code",
   "execution_count": 11,
   "id": "d6118176-4cc5-4353-ad27-18dee03eb9cb",
   "metadata": {
    "execution": {
     "iopub.execute_input": "2021-12-07T13:03:38.871587Z",
     "iopub.status.busy": "2021-12-07T13:03:38.871404Z",
     "iopub.status.idle": "2021-12-07T13:03:38.875703Z",
     "shell.execute_reply": "2021-12-07T13:03:38.874743Z",
     "shell.execute_reply.started": "2021-12-07T13:03:38.871565Z"
    },
    "tags": []
   },
   "outputs": [],
   "source": [
    "train_targ = train_targ.llovieron_hamburguesas_al_dia_siguiente\n",
    "val_targ = val_targ.llovieron_hamburguesas_al_dia_siguiente"
   ]
  },
  {
   "cell_type": "code",
   "execution_count": 12,
   "id": "25c35a3b-855e-46f4-b25e-1459e5081e4b",
   "metadata": {
    "execution": {
     "iopub.execute_input": "2021-12-07T13:03:38.882082Z",
     "iopub.status.busy": "2021-12-07T13:03:38.881883Z",
     "iopub.status.idle": "2021-12-07T13:03:38.923964Z",
     "shell.execute_reply": "2021-12-07T13:03:38.923217Z",
     "shell.execute_reply.started": "2021-12-07T13:03:38.882062Z"
    },
    "tags": []
   },
   "outputs": [],
   "source": [
    "train_feat_r, val_feat_r, train_targ_r, val_targ_r = train_val( df_feat_r, df_targ )\n",
    "train_targ_r = train_targ_r.llovieron_hamburguesas_al_dia_siguiente\n",
    "val_targ_r = val_targ_r.llovieron_hamburguesas_al_dia_siguiente"
   ]
  },
  {
   "cell_type": "markdown",
   "id": "0644d54b-4e59-49d5-a8df-c627b574c2f3",
   "metadata": {},
   "source": [
    "## Entrenamiento"
   ]
  },
  {
   "cell_type": "markdown",
   "id": "12e60815-3880-48af-9fcc-527ec3ecec42",
   "metadata": {},
   "source": [
    "### Simple"
   ]
  },
  {
   "cell_type": "code",
   "execution_count": 13,
   "id": "2bb0e7fa-49d3-4711-aa60-2a98afef1996",
   "metadata": {
    "execution": {
     "iopub.execute_input": "2021-12-07T13:03:38.924993Z",
     "iopub.status.busy": "2021-12-07T13:03:38.924759Z",
     "iopub.status.idle": "2021-12-07T13:03:38.937385Z",
     "shell.execute_reply": "2021-12-07T13:03:38.936649Z",
     "shell.execute_reply.started": "2021-12-07T13:03:38.924974Z"
    },
    "tags": []
   },
   "outputs": [],
   "source": [
    "if (runSimple):\n",
    "    boost_simple = GradientBoostingClassifier(\n",
    "        random_state=1,\n",
    "        max_depth=3,\n",
    "        min_samples_split=200,\n",
    "    )\n",
    "    boost_simple.fit( train_feat, train_targ )\n",
    "    \n",
    "    # Guardar\n",
    "    if(saveSimple):\n",
    "        dump(boost_simple, 'models/Ensambles/boost_simple.sk') \n",
    "else:\n",
    "    # Cargar\n",
    "    boost_simple = load('models/Ensambles/boost_simple.sk')"
   ]
  },
  {
   "cell_type": "code",
   "execution_count": 14,
   "id": "13fd98df-4710-49ba-8c42-a630eb2987df",
   "metadata": {
    "execution": {
     "iopub.execute_input": "2021-12-07T13:03:38.938313Z",
     "iopub.status.busy": "2021-12-07T13:03:38.938148Z",
     "iopub.status.idle": "2021-12-07T13:03:39.227171Z",
     "shell.execute_reply": "2021-12-07T13:03:39.226571Z",
     "shell.execute_reply.started": "2021-12-07T13:03:38.938294Z"
    },
    "tags": []
   },
   "outputs": [
    {
     "name": "stdout",
     "output_type": "stream",
     "text": [
      "CPU times: user 18 µs, sys: 1e+03 ns, total: 19 µs\n",
      "Wall time: 21 µs\n",
      "AUC-ROC: 1.0\n",
      "ACCURACY: 0.841051191871825\n",
      "PRESICION: 0.46593886462882095\n",
      "RECALL: 0.7253569000679809\n",
      "CONFUSION MATRIX\n"
     ]
    },
    {
     "data": {
      "image/png": "[encoded data removed]",
      "text/plain": [
       "<Figure size 432x288 with 2 Axes>"
      ]
     },
     "metadata": {},
     "output_type": "display_data"
    }
   ],
   "source": [
    "%time\n",
    "pred_s = boost_simple.predict(val_feat)\n",
    "prob_s = boost_simple.predict_proba(val_feat)\n",
    "score(pred_s, val_targ, prob_s[:,1])"
   ]
  },
  {
   "cell_type": "markdown",
   "id": "530e14b5-501c-4cf5-87fc-b57e4559f24c",
   "metadata": {},
   "source": [
    "### Validado"
   ]
  },
  {
   "cell_type": "code",
   "execution_count": 15,
   "id": "0be2b1be-0ddb-43e5-9966-8364904b477e",
   "metadata": {
    "execution": {
     "iopub.execute_input": "2021-12-07T13:03:39.228494Z",
     "iopub.status.busy": "2021-12-07T13:03:39.228187Z",
     "iopub.status.idle": "2021-12-07T13:03:39.274065Z",
     "shell.execute_reply": "2021-12-07T13:03:39.273364Z",
     "shell.execute_reply.started": "2021-12-07T13:03:39.228466Z"
    },
    "scrolled": true,
    "tags": []
   },
   "outputs": [],
   "source": [
    "if( runValidated ):\n",
    "    boost = GradientBoostingClassifier(\n",
    "        random_state=1,\n",
    "    )\n",
    "    \n",
    "    params = {\n",
    "        'max_depth': np.arange(1, 20, 1),\n",
    "        'min_samples_leaf': np.arange(50, 1000, 50),\n",
    "        'n_estimators': np.arange(50,500,50),\n",
    "        'loss': ['deviance', 'exponential'],\n",
    "        'learning_rate': [0.05,0.1,0.2],\n",
    "    }\n",
    "    \n",
    "    boost_grid = RandomizedSearchCV(\n",
    "        boost,\n",
    "        params,\n",
    "        scoring='roc_auc',\n",
    "        n_jobs=MAX_JOBS,\n",
    "        return_train_score=True,\n",
    "        verbose=1\n",
    "    ).fit(train_feat, train_targ)\n",
    "    \n",
    "    # Guardar\n",
    "    if(saveValidated):\n",
    "        dump(boost_grid, 'models/Ensambles/boost_grid.sk')\n",
    "else:\n",
    "    # Cargar\n",
    "    boost_grid = load('models/Ensambles/boost_grid.sk')"
   ]
  },
  {
   "cell_type": "code",
   "execution_count": 16,
   "id": "63a6b4bc-e597-46dc-9146-e255adc0e118",
   "metadata": {
    "execution": {
     "iopub.execute_input": "2021-12-07T13:03:39.275292Z",
     "iopub.status.busy": "2021-12-07T13:03:39.275039Z",
     "iopub.status.idle": "2021-12-07T13:03:39.279756Z",
     "shell.execute_reply": "2021-12-07T13:03:39.279099Z",
     "shell.execute_reply.started": "2021-12-07T13:03:39.275272Z"
    },
    "tags": []
   },
   "outputs": [
    {
     "name": "stdout",
     "output_type": "stream",
     "text": [
      "Best score: 0.8900215501117197\n",
      "Best params {'n_estimators': 300, 'min_samples_leaf': 450, 'max_depth': 17, 'loss': 'deviance', 'learning_rate': 0.05}\n"
     ]
    }
   ],
   "source": [
    "print(f\"Best score: {boost_grid.best_score_}\")\n",
    "print(f\"Best params {boost_grid.best_params_}\")"
   ]
  },
  {
   "cell_type": "code",
   "execution_count": 17,
   "id": "3d93138b-9a57-47e0-81a1-820e8fc2e0c9",
   "metadata": {
    "execution": {
     "iopub.execute_input": "2021-12-07T13:03:39.281421Z",
     "iopub.status.busy": "2021-12-07T13:03:39.281066Z",
     "iopub.status.idle": "2021-12-07T13:03:39.286037Z",
     "shell.execute_reply": "2021-12-07T13:03:39.284977Z",
     "shell.execute_reply.started": "2021-12-07T13:03:39.281395Z"
    }
   },
   "outputs": [],
   "source": [
    "boost = boost_grid.best_estimator_"
   ]
  },
  {
   "cell_type": "code",
   "execution_count": 18,
   "id": "1698b124-275e-4a0c-b83c-39ee13760708",
   "metadata": {
    "execution": {
     "iopub.execute_input": "2021-12-07T13:03:39.287496Z",
     "iopub.status.busy": "2021-12-07T13:03:39.287271Z",
     "iopub.status.idle": "2021-12-07T13:03:39.806915Z",
     "shell.execute_reply": "2021-12-07T13:03:39.806126Z",
     "shell.execute_reply.started": "2021-12-07T13:03:39.287477Z"
    }
   },
   "outputs": [
    {
     "name": "stdout",
     "output_type": "stream",
     "text": [
      "AUC-ROC: 0.8900511311615412\n",
      "ACCURACY: 0.8491598280578351\n",
      "PRESICION: 0.7222884386174017\n",
      "RECALL: 0.5292576419213973\n",
      "CONFUSION MATRIX\n",
      "CPU times: user 453 ms, sys: 15.1 ms, total: 468 ms\n",
      "Wall time: 434 ms\n"
     ]
    },
    {
     "data": {
      "image/png": "[encoded data removed]",
      "text/plain": [
       "<Figure size 432x288 with 2 Axes>"
      ]
     },
     "metadata": {},
     "output_type": "display_data"
    }
   ],
   "source": [
    "%%time\n",
    "pred = boost.predict(val_feat)\n",
    "prob = boost.predict_proba(val_feat)\n",
    "score(val_targ, pred, prob[:,1])"
   ]
  },
  {
   "cell_type": "code",
   "execution_count": 19,
   "id": "6e8601a9-0cba-4a18-a8e6-7afd4b39737c",
   "metadata": {
    "execution": {
     "iopub.execute_input": "2021-12-07T13:03:39.808487Z",
     "iopub.status.busy": "2021-12-07T13:03:39.808176Z",
     "iopub.status.idle": "2021-12-07T13:03:39.855783Z",
     "shell.execute_reply": "2021-12-07T13:03:39.855167Z",
     "shell.execute_reply.started": "2021-12-07T13:03:39.808465Z"
    },
    "tags": []
   },
   "outputs": [],
   "source": [
    "if(saveValidated):\n",
    "    dump(boost, 'models/Ensambles/boost.sk')"
   ]
  },
  {
   "cell_type": "markdown",
   "id": "133d5232-3d45-4378-b7fc-93624ae3bbb7",
   "metadata": {},
   "source": [
    "### Optimizando mas hiperparametros"
   ]
  },
  {
   "cell_type": "code",
   "execution_count": 20,
   "id": "775f5db0-8eec-4380-94c4-823c528f327c",
   "metadata": {
    "execution": {
     "iopub.execute_input": "2021-12-07T13:03:39.856952Z",
     "iopub.status.busy": "2021-12-07T13:03:39.856757Z",
     "iopub.status.idle": "2021-12-07T13:03:40.036014Z",
     "shell.execute_reply": "2021-12-07T13:03:40.035212Z",
     "shell.execute_reply.started": "2021-12-07T13:03:39.856933Z"
    },
    "tags": []
   },
   "outputs": [],
   "source": [
    "if( runValidated2 ):\n",
    "    boost2 = GradientBoostingClassifier(\n",
    "        random_state=1,\n",
    "    )\n",
    "    \n",
    "    params = {\n",
    "        'max_depth': np.arange(15, 19, 1),\n",
    "        'min_samples_leaf': np.arange(50, 200, 50),\n",
    "        'min_samples_split': np.arange(50, 200, 50),\n",
    "        'n_estimators': np.arange(200,500,100),\n",
    "        'loss': ['deviance', 'exponential'],\n",
    "        'learning_rate': [0.03,0.05,0.07],\n",
    "        'criterion' :['friedman_mse','squared_error']\n",
    "    }\n",
    "    \n",
    "    boost_grid2 = HalvingGridSearchCV(\n",
    "        boost2,\n",
    "        params,\n",
    "        scoring='roc_auc',\n",
    "        n_jobs=MAX_JOBS,\n",
    "        return_train_score=True,\n",
    "        verbose=1\n",
    "    ).fit(train_feat, train_targ)\n",
    "    \n",
    "    # Guardar\n",
    "    if(saveValidated2):\n",
    "        dump(boost_grid2, 'models/Ensambles/boost2_grid.sk')\n",
    "else:\n",
    "    # Cargar\n",
    "    boost_grid2 = load('models/Ensambles/boost2_grid.sk')"
   ]
  },
  {
   "cell_type": "code",
   "execution_count": 21,
   "id": "313337a2-bc3b-43a6-ad72-52bf3676a486",
   "metadata": {
    "execution": {
     "iopub.execute_input": "2021-12-07T13:03:40.037190Z",
     "iopub.status.busy": "2021-12-07T13:03:40.036996Z",
     "iopub.status.idle": "2021-12-07T13:03:40.041755Z",
     "shell.execute_reply": "2021-12-07T13:03:40.040868Z",
     "shell.execute_reply.started": "2021-12-07T13:03:40.037167Z"
    }
   },
   "outputs": [
    {
     "name": "stdout",
     "output_type": "stream",
     "text": [
      "Best score: 0.8880131564342968\n",
      "Best params {'criterion': 'squared_error', 'learning_rate': 0.03, 'loss': 'exponential', 'max_depth': 18, 'min_samples_leaf': 50, 'min_samples_split': 50, 'n_estimators': 200}\n"
     ]
    }
   ],
   "source": [
    "print(f\"Best score: {boost_grid2.best_score_}\")\n",
    "print(f\"Best params {boost_grid2.best_params_}\")"
   ]
  },
  {
   "cell_type": "code",
   "execution_count": 22,
   "id": "11288bbc-4417-4b57-8353-c3b4a6cc8f5a",
   "metadata": {
    "execution": {
     "iopub.execute_input": "2021-12-07T13:03:40.043751Z",
     "iopub.status.busy": "2021-12-07T13:03:40.042999Z",
     "iopub.status.idle": "2021-12-07T13:03:40.049358Z",
     "shell.execute_reply": "2021-12-07T13:03:40.047932Z",
     "shell.execute_reply.started": "2021-12-07T13:03:40.043713Z"
    }
   },
   "outputs": [],
   "source": [
    "boost2 = boost_grid2.best_estimator_"
   ]
  },
  {
   "cell_type": "code",
   "execution_count": 23,
   "id": "ad108361-7982-499a-ae4e-463ba922c148",
   "metadata": {
    "execution": {
     "iopub.execute_input": "2021-12-07T13:03:40.051298Z",
     "iopub.status.busy": "2021-12-07T13:03:40.051004Z",
     "iopub.status.idle": "2021-12-07T13:03:40.685928Z",
     "shell.execute_reply": "2021-12-07T13:03:40.685080Z",
     "shell.execute_reply.started": "2021-12-07T13:03:40.051268Z"
    }
   },
   "outputs": [
    {
     "name": "stdout",
     "output_type": "stream",
     "text": [
      "AUC-ROC: 0.8880743600086611\n",
      "ACCURACY: 0.8515044939429465\n",
      "PRESICION: 0.743979721166033\n",
      "RECALL: 0.5126637554585153\n",
      "CONFUSION MATRIX\n",
      "CPU times: user 527 ms, sys: 25.6 ms, total: 552 ms\n",
      "Wall time: 518 ms\n"
     ]
    },
    {
     "data": {
      "image/png": "[encoded data removed]",
      "text/plain": [
       "<Figure size 432x288 with 2 Axes>"
      ]
     },
     "metadata": {},
     "output_type": "display_data"
    }
   ],
   "source": [
    "%%time\n",
    "pred2 = boost2.predict(val_feat)\n",
    "prob2 = boost2.predict_proba(val_feat)\n",
    "score(val_targ, pred2, prob2[:,1])"
   ]
  },
  {
   "cell_type": "code",
   "execution_count": 24,
   "id": "e82a9caf-4df2-445a-8584-47ea2c11ee46",
   "metadata": {
    "execution": {
     "iopub.execute_input": "2021-12-07T13:03:40.687344Z",
     "iopub.status.busy": "2021-12-07T13:03:40.686930Z",
     "iopub.status.idle": "2021-12-07T13:03:40.848520Z",
     "shell.execute_reply": "2021-12-07T13:03:40.847673Z",
     "shell.execute_reply.started": "2021-12-07T13:03:40.687320Z"
    }
   },
   "outputs": [],
   "source": [
    "if(saveValidated2):\n",
    "    dump(boost2, 'models/Ensambles/boost2.sk')"
   ]
  },
  {
   "cell_type": "markdown",
   "id": "f343196c-df0e-458e-a8b0-95d327c30f2b",
   "metadata": {},
   "source": [
    "### Reg"
   ]
  },
  {
   "cell_type": "code",
   "execution_count": 25,
   "id": "96c45f44-d917-4c29-9d6e-02143175a867",
   "metadata": {
    "execution": {
     "iopub.execute_input": "2021-12-07T13:03:40.850098Z",
     "iopub.status.busy": "2021-12-07T13:03:40.849584Z",
     "iopub.status.idle": "2021-12-07T13:03:40.886599Z",
     "shell.execute_reply": "2021-12-07T13:03:40.885997Z",
     "shell.execute_reply.started": "2021-12-07T13:03:40.850042Z"
    },
    "tags": []
   },
   "outputs": [],
   "source": [
    "if( runReg ):\n",
    "    boost3 = GradientBoostingClassifier(\n",
    "        random_state=1,\n",
    "    )\n",
    "    \n",
    "    params = {\n",
    "        'max_depth': np.arange(1, 20, 1),\n",
    "        'min_samples_leaf': np.arange(50, 1000, 50),\n",
    "        'n_estimators': np.arange(50,500,50),\n",
    "        'loss': ['deviance', 'exponential'],\n",
    "        'learning_rate': [0.05,0.1,0.2],\n",
    "    }\n",
    "    \n",
    "    boost_grid3 = RandomizedSearchCV(\n",
    "        boost3,\n",
    "        params,\n",
    "        scoring='roc_auc',\n",
    "        n_jobs=MAX_JOBS,\n",
    "        return_train_score=True,\n",
    "        verbose=1\n",
    "    ).fit(train_feat_r, train_targ_r)\n",
    "    \n",
    "    # Guardar\n",
    "    if(saveReg):\n",
    "        dump(boost_grid3, 'models/Ensambles/boost_grid_r.sk')\n",
    "else:\n",
    "    # Cargar\n",
    "    boost_grid3 = load('models/Ensambles/boost_grid_r.sk')"
   ]
  },
  {
   "cell_type": "code",
   "execution_count": 26,
   "id": "08b97ba0-aded-4b8f-bb0c-0fd62728c01e",
   "metadata": {
    "execution": {
     "iopub.execute_input": "2021-12-07T13:03:40.888072Z",
     "iopub.status.busy": "2021-12-07T13:03:40.887734Z",
     "iopub.status.idle": "2021-12-07T13:03:40.893895Z",
     "shell.execute_reply": "2021-12-07T13:03:40.892363Z",
     "shell.execute_reply.started": "2021-12-07T13:03:40.888046Z"
    },
    "tags": []
   },
   "outputs": [
    {
     "name": "stdout",
     "output_type": "stream",
     "text": [
      "Best score: 0.8779575973793345\n",
      "Best params {'n_estimators': 250, 'min_samples_leaf': 550, 'max_depth': 16, 'loss': 'deviance', 'learning_rate': 0.05}\n"
     ]
    }
   ],
   "source": [
    "print(f\"Best score: {boost_grid3.best_score_}\")\n",
    "print(f\"Best params {boost_grid3.best_params_}\")"
   ]
  },
  {
   "cell_type": "code",
   "execution_count": 27,
   "id": "b4c0d7d2-3f9b-499d-84d3-1ecfcba35688",
   "metadata": {
    "execution": {
     "iopub.execute_input": "2021-12-07T13:03:40.896899Z",
     "iopub.status.busy": "2021-12-07T13:03:40.896342Z",
     "iopub.status.idle": "2021-12-07T13:03:40.901183Z",
     "shell.execute_reply": "2021-12-07T13:03:40.900075Z",
     "shell.execute_reply.started": "2021-12-07T13:03:40.896867Z"
    },
    "tags": []
   },
   "outputs": [],
   "source": [
    "boost3 = boost_grid3.best_estimator_"
   ]
  },
  {
   "cell_type": "code",
   "execution_count": 28,
   "id": "43863c2a-8549-40bd-b5d3-6bc805712b25",
   "metadata": {
    "execution": {
     "iopub.execute_input": "2021-12-07T13:03:40.902870Z",
     "iopub.status.busy": "2021-12-07T13:03:40.902631Z",
     "iopub.status.idle": "2021-12-07T13:03:41.372420Z",
     "shell.execute_reply": "2021-12-07T13:03:41.371802Z",
     "shell.execute_reply.started": "2021-12-07T13:03:40.902842Z"
    }
   },
   "outputs": [
    {
     "name": "stdout",
     "output_type": "stream",
     "text": [
      "AUC-ROC: 0.8757278661533033\n",
      "ACCURACY: 0.8485736615865572\n",
      "PRESICION: 0.7341772151898734\n",
      "RECALL: 0.5065502183406113\n",
      "CONFUSION MATRIX\n",
      "CPU times: user 391 ms, sys: 18.2 ms, total: 409 ms\n",
      "Wall time: 378 ms\n"
     ]
    },
    {
     "data": {
      "image/png": "[encoded data removed]",
      "text/plain": [
       "<Figure size 432x288 with 2 Axes>"
      ]
     },
     "metadata": {},
     "output_type": "display_data"
    }
   ],
   "source": [
    "%%time\n",
    "pred3 = boost3.predict(val_feat_r)\n",
    "prob3 = boost3.predict_proba(val_feat_r)\n",
    "score(val_targ_r, pred3, prob3[:,1])"
   ]
  },
  {
   "cell_type": "code",
   "execution_count": 29,
   "id": "4e6b5917-2c2b-4881-99f9-a2fc9ca5d564",
   "metadata": {
    "execution": {
     "iopub.execute_input": "2021-12-07T13:03:41.373813Z",
     "iopub.status.busy": "2021-12-07T13:03:41.373371Z",
     "iopub.status.idle": "2021-12-07T13:03:41.421611Z",
     "shell.execute_reply": "2021-12-07T13:03:41.420928Z",
     "shell.execute_reply.started": "2021-12-07T13:03:41.373788Z"
    },
    "tags": []
   },
   "outputs": [],
   "source": [
    "if(saveReg):\n",
    "    dump(boost3, 'models/Ensambles/boost_r.sk')"
   ]
  }
 ],
 "metadata": {
  "kernelspec": {
   "display_name": "Python 3 (ipykernel)",
   "language": "python",
   "name": "python3"
  },
  "language_info": {
   "codemirror_mode": {
    "name": "ipython",
    "version": 3
   },
   "file_extension": ".py",
   "mimetype": "text/x-python",
   "name": "python",
   "nbconvert_exporter": "python",
   "pygments_lexer": "ipython3",
   "version": "3.9.9"
  }
 },
 "nbformat": 4,
 "nbformat_minor": 5
}
