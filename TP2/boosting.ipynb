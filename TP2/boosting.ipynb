{
 "cells": [
  {
   "cell_type": "markdown",
   "id": "3308d311-40d7-4259-a828-7a57b1c0697c",
   "metadata": {},
   "source": [
    "# Boosting"
   ]
  },
  {
   "cell_type": "markdown",
   "id": "2052667d-db58-4679-830a-e39d8750ef0a",
   "metadata": {},
   "source": [
    "### Imports"
   ]
  },
  {
   "cell_type": "code",
   "execution_count": 1,
   "id": "57fe6f06-9c8e-4d61-97ae-d6a56db43ce2",
   "metadata": {
    "execution": {
     "iopub.execute_input": "2021-12-05T17:24:16.554565Z",
     "iopub.status.busy": "2021-12-05T17:24:16.554215Z",
     "iopub.status.idle": "2021-12-05T17:24:17.414066Z",
     "shell.execute_reply": "2021-12-05T17:24:17.412673Z",
     "shell.execute_reply.started": "2021-12-05T17:24:16.554483Z"
    },
    "tags": []
   },
   "outputs": [],
   "source": [
    "import pandas as pd\n",
    "import numpy as np\n",
    "from matplotlib import pyplot as plt\n",
    "from joblib import dump, load"
   ]
  },
  {
   "cell_type": "code",
   "execution_count": 2,
   "id": "a49e6792-264c-4416-9d7a-2fd751337a76",
   "metadata": {
    "execution": {
     "iopub.execute_input": "2021-12-05T17:24:17.415674Z",
     "iopub.status.busy": "2021-12-05T17:24:17.415378Z",
     "iopub.status.idle": "2021-12-05T17:24:17.732963Z",
     "shell.execute_reply": "2021-12-05T17:24:17.732177Z",
     "shell.execute_reply.started": "2021-12-05T17:24:17.415645Z"
    },
    "tags": []
   },
   "outputs": [],
   "source": [
    "from sklearn.ensemble import GradientBoostingClassifier\n",
    "from sklearn.model_selection import RandomizedSearchCV\n",
    "from sklearn.experimental import enable_halving_search_cv\n",
    "from sklearn.model_selection import HalvingGridSearchCV\n",
    "from sklearn import tree"
   ]
  },
  {
   "cell_type": "code",
   "execution_count": 3,
   "id": "ecbe57a8-73db-45f4-a21d-4f876860ec06",
   "metadata": {
    "execution": {
     "iopub.execute_input": "2021-12-05T17:24:17.735154Z",
     "iopub.status.busy": "2021-12-05T17:24:17.734564Z",
     "iopub.status.idle": "2021-12-05T17:24:18.870775Z",
     "shell.execute_reply": "2021-12-05T17:24:18.869927Z",
     "shell.execute_reply.started": "2021-12-05T17:24:17.735129Z"
    },
    "tags": []
   },
   "outputs": [
    {
     "name": "stdout",
     "output_type": "stream",
     "text": [
      "[###] All Done                                              \n"
     ]
    }
   ],
   "source": [
    "from preprocessing import reemplazarNulls,reemplazarCategoricas,reemplazarFechas,regularizar,targetBooleano"
   ]
  },
  {
   "cell_type": "code",
   "execution_count": 4,
   "id": "ae53c637-7f02-4802-9add-5a35ced69f64",
   "metadata": {
    "execution": {
     "iopub.execute_input": "2021-12-05T17:24:18.872516Z",
     "iopub.status.busy": "2021-12-05T17:24:18.872050Z",
     "iopub.status.idle": "2021-12-05T17:24:19.297606Z",
     "shell.execute_reply": "2021-12-05T17:24:19.296581Z",
     "shell.execute_reply.started": "2021-12-05T17:24:18.872481Z"
    },
    "tags": []
   },
   "outputs": [],
   "source": [
    "from utilities import score, df_feat, df_targ, train_val"
   ]
  },
  {
   "cell_type": "markdown",
   "id": "1aa60fef-ad74-400f-8ef7-8255160828a9",
   "metadata": {},
   "source": [
    "### Codigo a correr"
   ]
  },
  {
   "cell_type": "code",
   "execution_count": 5,
   "id": "cac84d06-6216-46dc-9d75-3044c9a63f5d",
   "metadata": {
    "execution": {
     "iopub.execute_input": "2021-12-05T17:24:19.299555Z",
     "iopub.status.busy": "2021-12-05T17:24:19.299312Z",
     "iopub.status.idle": "2021-12-05T17:24:19.304052Z",
     "shell.execute_reply": "2021-12-05T17:24:19.302751Z",
     "shell.execute_reply.started": "2021-12-05T17:24:19.299524Z"
    },
    "tags": []
   },
   "outputs": [],
   "source": [
    "MAX_JOBS = 5"
   ]
  },
  {
   "cell_type": "markdown",
   "id": "c99e8bfe-0edd-4db5-a218-1cf71f809d2d",
   "metadata": {},
   "source": [
    "**Run :** Entrenar Nuevamente o Cargar Entrenado"
   ]
  },
  {
   "cell_type": "code",
   "execution_count": 6,
   "id": "cd65bc5e-db28-4191-9e7f-0932bbd738a3",
   "metadata": {
    "execution": {
     "iopub.execute_input": "2021-12-05T17:24:19.305468Z",
     "iopub.status.busy": "2021-12-05T17:24:19.305232Z",
     "iopub.status.idle": "2021-12-05T17:24:19.442583Z",
     "shell.execute_reply": "2021-12-05T17:24:19.441509Z",
     "shell.execute_reply.started": "2021-12-05T17:24:19.305445Z"
    },
    "tags": []
   },
   "outputs": [],
   "source": [
    "runSimple = False\n",
    "runValidated = False\n",
    "runValidated2 = False\n",
    "runReg = False"
   ]
  },
  {
   "cell_type": "markdown",
   "id": "f1c590df-60bb-4c53-91e7-2da0c3476415",
   "metadata": {},
   "source": [
    "**Save :** Guardar Modelo (pisa anterior)"
   ]
  },
  {
   "cell_type": "code",
   "execution_count": 7,
   "id": "6f9b41b6-3059-4967-a9c7-c00188c3e415",
   "metadata": {
    "execution": {
     "iopub.execute_input": "2021-12-05T17:24:19.445036Z",
     "iopub.status.busy": "2021-12-05T17:24:19.443908Z",
     "iopub.status.idle": "2021-12-05T17:24:19.575763Z",
     "shell.execute_reply": "2021-12-05T17:24:19.574865Z",
     "shell.execute_reply.started": "2021-12-05T17:24:19.444962Z"
    },
    "tags": []
   },
   "outputs": [],
   "source": [
    "saveSimple = True\n",
    "saveValidated = True\n",
    "saveValidated2 = True\n",
    "saveReg = True"
   ]
  },
  {
   "cell_type": "markdown",
   "id": "e6b58791-7d09-4d8a-8fcd-2b5e207db9fd",
   "metadata": {},
   "source": [
    "### Preprocesamiento"
   ]
  },
  {
   "cell_type": "code",
   "execution_count": 8,
   "id": "2e086941-2bc4-49ea-8bd8-91682b5a619a",
   "metadata": {
    "execution": {
     "iopub.execute_input": "2021-12-05T17:24:19.576998Z",
     "iopub.status.busy": "2021-12-05T17:24:19.576713Z",
     "iopub.status.idle": "2021-12-05T17:24:21.027053Z",
     "shell.execute_reply": "2021-12-05T17:24:21.025957Z",
     "shell.execute_reply.started": "2021-12-05T17:24:19.576945Z"
    },
    "tags": []
   },
   "outputs": [],
   "source": [
    "targetBooleano(df_targ, inplace=True)\n",
    "reemplazarNulls(df_feat , inplace=True)\n",
    "reemplazarCategoricas(df_feat , inplace=True)\n",
    "reemplazarFechas(df_feat , inplace=True)\n",
    "df_feat_r = regularizar(df_feat)"
   ]
  },
  {
   "cell_type": "code",
   "execution_count": 9,
   "id": "642171dc-c717-48aa-9f13-3d5115385741",
   "metadata": {
    "execution": {
     "iopub.execute_input": "2021-12-05T17:24:21.028547Z",
     "iopub.status.busy": "2021-12-05T17:24:21.028356Z",
     "iopub.status.idle": "2021-12-05T17:24:21.047829Z",
     "shell.execute_reply": "2021-12-05T17:24:21.046323Z",
     "shell.execute_reply.started": "2021-12-05T17:24:21.028506Z"
    },
    "tags": []
   },
   "outputs": [
    {
     "name": "stdout",
     "output_type": "stream",
     "text": [
      "<class 'pandas.core.frame.DataFrame'>\n",
      "RangeIndex: 102356 entries, 0 to 102355\n",
      "Data columns (total 24 columns):\n",
      " #   Column                        Non-Null Count   Dtype  \n",
      "---  ------                        --------------   -----  \n",
      " 0   id                            102356 non-null  int64  \n",
      " 1   direccion_viento_tarde        102356 non-null  float64\n",
      " 2   direccion_viento_temprano     102356 non-null  float64\n",
      " 3   horas_de_sol                  102356 non-null  float64\n",
      " 4   humedad_tarde                 102356 non-null  float64\n",
      " 5   humedad_temprano              102356 non-null  float64\n",
      " 6   llovieron_hamburguesas_hoy    102356 non-null  bool   \n",
      " 7   mm_evaporados_agua            102356 non-null  float64\n",
      " 8   mm_lluvia_dia                 102356 non-null  float64\n",
      " 9   nubosidad_tarde               102356 non-null  float64\n",
      " 10  nubosidad_temprano            102356 non-null  float64\n",
      " 11  presion_atmosferica_tarde     102356 non-null  float64\n",
      " 12  presion_atmosferica_temprano  102356 non-null  float64\n",
      " 13  rafaga_viento_max_direccion   102356 non-null  float64\n",
      " 14  rafaga_viento_max_velocidad   102356 non-null  float64\n",
      " 15  temp_max                      102356 non-null  float64\n",
      " 16  temp_min                      102356 non-null  float64\n",
      " 17  temperatura_tarde             102356 non-null  float64\n",
      " 18  temperatura_temprano          102356 non-null  float64\n",
      " 19  velocidad_viendo_tarde        102356 non-null  float64\n",
      " 20  velocidad_viendo_temprano     102356 non-null  float64\n",
      " 21  y                             102356 non-null  int64  \n",
      " 22  m                             102356 non-null  int64  \n",
      " 23  d                             102356 non-null  int64  \n",
      "dtypes: bool(1), float64(19), int64(4)\n",
      "memory usage: 18.1 MB\n"
     ]
    }
   ],
   "source": [
    "df_feat.info()"
   ]
  },
  {
   "cell_type": "code",
   "execution_count": 10,
   "id": "a21cd14d-72b8-46e3-a7ac-96ba3e4a42dc",
   "metadata": {
    "execution": {
     "iopub.execute_input": "2021-12-05T17:24:21.048834Z",
     "iopub.status.busy": "2021-12-05T17:24:21.048660Z",
     "iopub.status.idle": "2021-12-05T17:24:21.212881Z",
     "shell.execute_reply": "2021-12-05T17:24:21.212037Z",
     "shell.execute_reply.started": "2021-12-05T17:24:21.048814Z"
    },
    "tags": []
   },
   "outputs": [],
   "source": [
    "train_feat, val_feat, train_targ, val_targ = train_val( df_feat, df_targ )"
   ]
  },
  {
   "cell_type": "code",
   "execution_count": 11,
   "id": "d6118176-4cc5-4353-ad27-18dee03eb9cb",
   "metadata": {
    "execution": {
     "iopub.execute_input": "2021-12-05T17:24:21.214316Z",
     "iopub.status.busy": "2021-12-05T17:24:21.214061Z",
     "iopub.status.idle": "2021-12-05T17:24:21.309699Z",
     "shell.execute_reply": "2021-12-05T17:24:21.308758Z",
     "shell.execute_reply.started": "2021-12-05T17:24:21.214283Z"
    },
    "tags": []
   },
   "outputs": [],
   "source": [
    "train_targ = train_targ.llovieron_hamburguesas_al_dia_siguiente\n",
    "val_targ = val_targ.llovieron_hamburguesas_al_dia_siguiente"
   ]
  },
  {
   "cell_type": "code",
   "execution_count": 12,
   "id": "25c35a3b-855e-46f4-b25e-1459e5081e4b",
   "metadata": {
    "execution": {
     "iopub.execute_input": "2021-12-05T17:24:21.312421Z",
     "iopub.status.busy": "2021-12-05T17:24:21.312202Z",
     "iopub.status.idle": "2021-12-05T17:24:21.474461Z",
     "shell.execute_reply": "2021-12-05T17:24:21.473511Z",
     "shell.execute_reply.started": "2021-12-05T17:24:21.312400Z"
    },
    "tags": []
   },
   "outputs": [],
   "source": [
    "train_feat_r, val_feat_r, train_targ_r, val_targ_r = train_val( df_feat_r, df_targ )\n",
    "train_targ_r = train_targ_r.llovieron_hamburguesas_al_dia_siguiente\n",
    "val_targ_r = val_targ_r.llovieron_hamburguesas_al_dia_siguiente"
   ]
  },
  {
   "cell_type": "markdown",
   "id": "0644d54b-4e59-49d5-a8df-c627b574c2f3",
   "metadata": {},
   "source": [
    "## Entrenamiento"
   ]
  },
  {
   "cell_type": "markdown",
   "id": "12e60815-3880-48af-9fcc-527ec3ecec42",
   "metadata": {},
   "source": [
    "### Simple"
   ]
  },
  {
   "cell_type": "code",
   "execution_count": 13,
   "id": "2bb0e7fa-49d3-4711-aa60-2a98afef1996",
   "metadata": {
    "execution": {
     "iopub.execute_input": "2021-12-05T17:24:21.475846Z",
     "iopub.status.busy": "2021-12-05T17:24:21.475633Z",
     "iopub.status.idle": "2021-12-05T17:24:21.583974Z",
     "shell.execute_reply": "2021-12-05T17:24:21.582939Z",
     "shell.execute_reply.started": "2021-12-05T17:24:21.475826Z"
    },
    "tags": []
   },
   "outputs": [],
   "source": [
    "if (runSimple):\n",
    "    boost_simple = GradientBoostingClassifier(\n",
    "        random_state=1,\n",
    "        max_depth=3,\n",
    "        min_samples_split=200,\n",
    "    )\n",
    "    boost_simple.fit( train_feat, train_targ )\n",
    "    \n",
    "    # Guardar\n",
    "    if(saveSimple):\n",
    "        dump(boost_simple, 'models/Ensambles/boost_simple.sk') \n",
    "else:\n",
    "    # Cargar\n",
    "    boost_simple = load('models/Ensambles/boost_simple.sk')"
   ]
  },
  {
   "cell_type": "code",
   "execution_count": 14,
   "id": "13fd98df-4710-49ba-8c42-a630eb2987df",
   "metadata": {
    "execution": {
     "iopub.execute_input": "2021-12-05T17:24:21.585664Z",
     "iopub.status.busy": "2021-12-05T17:24:21.585344Z",
     "iopub.status.idle": "2021-12-05T17:24:21.972401Z",
     "shell.execute_reply": "2021-12-05T17:24:21.971498Z",
     "shell.execute_reply.started": "2021-12-05T17:24:21.585598Z"
    },
    "tags": []
   },
   "outputs": [
    {
     "name": "stdout",
     "output_type": "stream",
     "text": [
      "CPU times: user 2 µs, sys: 1 µs, total: 3 µs\n",
      "Wall time: 4.77 µs\n",
      "AUC-ROC: 0.792912334802958\n",
      "ACCURACY: 0.841051191871825\n",
      "PRESICION: 0.46593886462882095\n",
      "RECALL: 0.7253569000679809\n",
      "CONFUSION MATRIX\n"
     ]
    },
    {
     "data": {
      "image/png": "[encoded data removed]",
      "text/plain": [
       "<Figure size 432x288 with 2 Axes>"
      ]
     },
     "metadata": {},
     "output_type": "display_data"
    }
   ],
   "source": [
    "%time\n",
    "pred_s = boost_simple.predict(val_feat)\n",
    "prob_s = boost_simple.predict_proba(val_feat)\n",
    "score(pred_s, val_targ, prob_s)"
   ]
  },
  {
   "cell_type": "markdown",
   "id": "530e14b5-501c-4cf5-87fc-b57e4559f24c",
   "metadata": {},
   "source": [
    "### Validado"
   ]
  },
  {
   "cell_type": "code",
   "execution_count": 15,
   "id": "0be2b1be-0ddb-43e5-9966-8364904b477e",
   "metadata": {
    "execution": {
     "iopub.execute_input": "2021-12-05T17:24:21.973519Z",
     "iopub.status.busy": "2021-12-05T17:24:21.973336Z",
     "iopub.status.idle": "2021-12-05T17:24:22.020479Z",
     "shell.execute_reply": "2021-12-05T17:24:22.019440Z",
     "shell.execute_reply.started": "2021-12-05T17:24:21.973498Z"
    },
    "scrolled": true,
    "tags": []
   },
   "outputs": [],
   "source": [
    "if( runValidated ):\n",
    "    boost = GradientBoostingClassifier(\n",
    "        random_state=1,\n",
    "    )\n",
    "    \n",
    "    params = {\n",
    "        'max_depth': np.arange(1, 20, 1),\n",
    "        'min_samples_leaf': np.arange(50, 1000, 50),\n",
    "        'n_estimators': np.arange(50,500,50),\n",
    "        'loss': ['deviance', 'exponential'],\n",
    "        'learning_rate': [0.05,0.1,0.2],\n",
    "    }\n",
    "    \n",
    "    boost_grid = RandomizedSearchCV(\n",
    "        boost,\n",
    "        params,\n",
    "        scoring='roc_auc',\n",
    "        n_jobs=MAX_JOBS,\n",
    "        return_train_score=True,\n",
    "        verbose=1\n",
    "    ).fit(train_feat, train_targ)\n",
    "    \n",
    "    # Guardar\n",
    "    if(saveValidated):\n",
    "        dump(boost_grid, 'models/Ensambles/boost_grid.sk')\n",
    "else:\n",
    "    # Cargar\n",
    "    boost_grid = load('models/Ensambles/boost_grid.sk')"
   ]
  },
  {
   "cell_type": "code",
   "execution_count": 16,
   "id": "63a6b4bc-e597-46dc-9146-e255adc0e118",
   "metadata": {
    "execution": {
     "iopub.execute_input": "2021-12-05T17:24:22.021920Z",
     "iopub.status.busy": "2021-12-05T17:24:22.021643Z",
     "iopub.status.idle": "2021-12-05T17:24:22.135138Z",
     "shell.execute_reply": "2021-12-05T17:24:22.134227Z",
     "shell.execute_reply.started": "2021-12-05T17:24:22.021890Z"
    },
    "tags": []
   },
   "outputs": [
    {
     "name": "stdout",
     "output_type": "stream",
     "text": [
      "Best score: 0.8900215501117197\n",
      "Best params {'n_estimators': 300, 'min_samples_leaf': 450, 'max_depth': 17, 'loss': 'deviance', 'learning_rate': 0.05}\n"
     ]
    }
   ],
   "source": [
    "print(f\"Best score: {boost_grid.best_score_}\")\n",
    "print(f\"Best params {boost_grid.best_params_}\")"
   ]
  },
  {
   "cell_type": "code",
   "execution_count": 17,
   "id": "3d93138b-9a57-47e0-81a1-820e8fc2e0c9",
   "metadata": {
    "execution": {
     "iopub.execute_input": "2021-12-05T17:24:22.136199Z",
     "iopub.status.busy": "2021-12-05T17:24:22.136001Z",
     "iopub.status.idle": "2021-12-05T17:24:22.276908Z",
     "shell.execute_reply": "2021-12-05T17:24:22.275550Z",
     "shell.execute_reply.started": "2021-12-05T17:24:22.136176Z"
    }
   },
   "outputs": [],
   "source": [
    "boost = boost_grid.best_estimator_"
   ]
  },
  {
   "cell_type": "code",
   "execution_count": 18,
   "id": "1698b124-275e-4a0c-b83c-39ee13760708",
   "metadata": {
    "execution": {
     "iopub.execute_input": "2021-12-05T17:24:22.277926Z",
     "iopub.status.busy": "2021-12-05T17:24:22.277748Z",
     "iopub.status.idle": "2021-12-05T17:24:22.981069Z",
     "shell.execute_reply": "2021-12-05T17:24:22.980144Z",
     "shell.execute_reply.started": "2021-12-05T17:24:22.277906Z"
    }
   },
   "outputs": [
    {
     "name": "stdout",
     "output_type": "stream",
     "text": [
      "AUC-ROC: 0.7353058911847107\n",
      "ACCURACY: 0.8491598280578351\n",
      "PRESICION: 0.7222884386174017\n",
      "RECALL: 0.5292576419213973\n",
      "CONFUSION MATRIX\n",
      "CPU times: user 486 ms, sys: 37.9 ms, total: 524 ms\n",
      "Wall time: 493 ms\n"
     ]
    },
    {
     "data": {
      "image/png": "[encoded data removed]",
      "text/plain": [
       "<Figure size 432x288 with 2 Axes>"
      ]
     },
     "metadata": {},
     "output_type": "display_data"
    }
   ],
   "source": [
    "%%time\n",
    "pred = boost.predict(val_feat)\n",
    "prob = boost.predict_proba(val_feat)\n",
    "score(val_targ, pred, prob[:,1])"
   ]
  },
  {
   "cell_type": "code",
   "execution_count": 19,
   "id": "6e8601a9-0cba-4a18-a8e6-7afd4b39737c",
   "metadata": {
    "execution": {
     "iopub.execute_input": "2021-12-05T17:24:22.983124Z",
     "iopub.status.busy": "2021-12-05T17:24:22.982627Z",
     "iopub.status.idle": "2021-12-05T17:24:23.030896Z",
     "shell.execute_reply": "2021-12-05T17:24:23.029918Z",
     "shell.execute_reply.started": "2021-12-05T17:24:22.983096Z"
    },
    "tags": []
   },
   "outputs": [],
   "source": [
    "if(saveValidated):\n",
    "    dump(boost, 'models/Ensambles/boost.sk')"
   ]
  },
  {
   "cell_type": "markdown",
   "id": "133d5232-3d45-4378-b7fc-93624ae3bbb7",
   "metadata": {},
   "source": [
    "### Optimizando mas hiperparametros"
   ]
  },
  {
   "cell_type": "code",
   "execution_count": 20,
   "id": "775f5db0-8eec-4380-94c4-823c528f327c",
   "metadata": {
    "execution": {
     "iopub.execute_input": "2021-12-05T17:24:23.032639Z",
     "iopub.status.busy": "2021-12-05T17:24:23.032347Z",
     "iopub.status.idle": "2021-12-05T17:24:23.414295Z",
     "shell.execute_reply": "2021-12-05T17:24:23.413308Z",
     "shell.execute_reply.started": "2021-12-05T17:24:23.032612Z"
    },
    "tags": []
   },
   "outputs": [],
   "source": [
    "if( runValidated2 ):\n",
    "    boost2 = GradientBoostingClassifier(\n",
    "        random_state=1,\n",
    "    )\n",
    "    \n",
    "    params = {\n",
    "        'max_depth': np.arange(15, 19, 1),\n",
    "        'min_samples_leaf': np.arange(50, 200, 50),\n",
    "        'min_samples_split': np.arange(50, 200, 50),\n",
    "        'n_estimators': np.arange(200,500,100),\n",
    "        'loss': ['deviance', 'exponential'],\n",
    "        'learning_rate': [0.03,0.05,0.07],\n",
    "        'criterion' :['friedman_mse','squared_error']\n",
    "    }\n",
    "    \n",
    "    boost_grid2 = HalvingGridSearchCV(\n",
    "        boost2,\n",
    "        params,\n",
    "        scoring='roc_auc',\n",
    "        n_jobs=MAX_JOBS,\n",
    "        return_train_score=True,\n",
    "        verbose=1\n",
    "    ).fit(train_feat, train_targ)\n",
    "    \n",
    "    # Guardar\n",
    "    if(saveValidated2):\n",
    "        dump(boost_grid2, 'models/Ensambles/boost2_grid.sk')\n",
    "else:\n",
    "    # Cargar\n",
    "    boost_grid2 = load('models/Ensambles/boost2_grid.sk')"
   ]
  },
  {
   "cell_type": "code",
   "execution_count": 21,
   "id": "313337a2-bc3b-43a6-ad72-52bf3676a486",
   "metadata": {
    "execution": {
     "iopub.execute_input": "2021-12-05T17:24:23.415599Z",
     "iopub.status.busy": "2021-12-05T17:24:23.415396Z",
     "iopub.status.idle": "2021-12-05T17:24:23.475480Z",
     "shell.execute_reply": "2021-12-05T17:24:23.474500Z",
     "shell.execute_reply.started": "2021-12-05T17:24:23.415576Z"
    }
   },
   "outputs": [
    {
     "name": "stdout",
     "output_type": "stream",
     "text": [
      "Best score: 0.8880131564342968\n",
      "Best params {'criterion': 'squared_error', 'learning_rate': 0.03, 'loss': 'exponential', 'max_depth': 18, 'min_samples_leaf': 50, 'min_samples_split': 50, 'n_estimators': 200}\n"
     ]
    }
   ],
   "source": [
    "print(f\"Best score: {boost_grid2.best_score_}\")\n",
    "print(f\"Best params {boost_grid2.best_params_}\")"
   ]
  },
  {
   "cell_type": "code",
   "execution_count": 22,
   "id": "11288bbc-4417-4b57-8353-c3b4a6cc8f5a",
   "metadata": {
    "execution": {
     "iopub.execute_input": "2021-12-05T17:24:23.477444Z",
     "iopub.status.busy": "2021-12-05T17:24:23.476555Z",
     "iopub.status.idle": "2021-12-05T17:24:23.619828Z",
     "shell.execute_reply": "2021-12-05T17:24:23.618904Z",
     "shell.execute_reply.started": "2021-12-05T17:24:23.477417Z"
    }
   },
   "outputs": [],
   "source": [
    "boost2 = boost_grid2.best_estimator_"
   ]
  },
  {
   "cell_type": "code",
   "execution_count": 23,
   "id": "ad108361-7982-499a-ae4e-463ba922c148",
   "metadata": {
    "execution": {
     "iopub.execute_input": "2021-12-05T17:24:23.620988Z",
     "iopub.status.busy": "2021-12-05T17:24:23.620803Z",
     "iopub.status.idle": "2021-12-05T17:24:24.382263Z",
     "shell.execute_reply": "2021-12-05T17:24:24.381446Z",
     "shell.execute_reply.started": "2021-12-05T17:24:23.620970Z"
    }
   },
   "outputs": [
    {
     "name": "stdout",
     "output_type": "stream",
     "text": [
      "AUC-ROC: 0.7309102819578003\n",
      "ACCURACY: 0.8515044939429465\n",
      "PRESICION: 0.743979721166033\n",
      "RECALL: 0.5126637554585153\n",
      "CONFUSION MATRIX\n",
      "CPU times: user 576 ms, sys: 21.6 ms, total: 598 ms\n",
      "Wall time: 560 ms\n"
     ]
    },
    {
     "data": {
      "image/png": "[encoded data removed]",
      "text/plain": [
       "<Figure size 432x288 with 2 Axes>"
      ]
     },
     "metadata": {},
     "output_type": "display_data"
    }
   ],
   "source": [
    "%%time\n",
    "pred2 = boost2.predict(val_feat)\n",
    "prob2 = boost2.predict_proba(val_feat)\n",
    "score(val_targ, pred2, prob2[:,1])"
   ]
  },
  {
   "cell_type": "code",
   "execution_count": 24,
   "id": "e82a9caf-4df2-445a-8584-47ea2c11ee46",
   "metadata": {
    "execution": {
     "iopub.execute_input": "2021-12-05T17:24:24.384153Z",
     "iopub.status.busy": "2021-12-05T17:24:24.383383Z",
     "iopub.status.idle": "2021-12-05T17:24:24.521564Z",
     "shell.execute_reply": "2021-12-05T17:24:24.520557Z",
     "shell.execute_reply.started": "2021-12-05T17:24:24.384117Z"
    }
   },
   "outputs": [],
   "source": [
    "if(saveValidated2):\n",
    "    dump(boost2, 'models/Ensambles/boost2.sk')"
   ]
  },
  {
   "cell_type": "markdown",
   "id": "f343196c-df0e-458e-a8b0-95d327c30f2b",
   "metadata": {},
   "source": [
    "### Reg"
   ]
  },
  {
   "cell_type": "code",
   "execution_count": 25,
   "id": "96c45f44-d917-4c29-9d6e-02143175a867",
   "metadata": {
    "execution": {
     "iopub.execute_input": "2021-12-05T17:24:24.523265Z",
     "iopub.status.busy": "2021-12-05T17:24:24.522698Z",
     "iopub.status.idle": "2021-12-05T17:41:58.989314Z",
     "shell.execute_reply": "2021-12-05T17:41:58.988190Z",
     "shell.execute_reply.started": "2021-12-05T17:24:24.523240Z"
    },
    "tags": []
   },
   "outputs": [
    {
     "name": "stdout",
     "output_type": "stream",
     "text": [
      "Fitting 5 folds for each of 10 candidates, totalling 50 fits\n"
     ]
    }
   ],
   "source": [
    "if( runReg ):\n",
    "    boost3 = GradientBoostingClassifier(\n",
    "        random_state=1,\n",
    "    )\n",
    "    \n",
    "    params = {\n",
    "        'max_depth': np.arange(1, 20, 1),\n",
    "        'min_samples_leaf': np.arange(50, 1000, 50),\n",
    "        'n_estimators': np.arange(50,500,50),\n",
    "        'loss': ['deviance', 'exponential'],\n",
    "        'learning_rate': [0.05,0.1,0.2],\n",
    "    }\n",
    "    \n",
    "    boost_grid3 = RandomizedSearchCV(\n",
    "        boost3,\n",
    "        params,\n",
    "        scoring='roc_auc',\n",
    "        n_jobs=MAX_JOBS,\n",
    "        return_train_score=True,\n",
    "        verbose=1\n",
    "    ).fit(train_feat_r, train_targ_r)\n",
    "    \n",
    "    # Guardar\n",
    "    if(saveReg):\n",
    "        dump(boost_grid3, 'models/Ensambles/boost_grid_r.sk')\n",
    "else:\n",
    "    # Cargar\n",
    "    boost_grid3 = load('models/Ensambles/boost_grid_r.sk')"
   ]
  },
  {
   "cell_type": "code",
   "execution_count": 26,
   "id": "08b97ba0-aded-4b8f-bb0c-0fd62728c01e",
   "metadata": {
    "execution": {
     "iopub.execute_input": "2021-12-05T17:41:58.990953Z",
     "iopub.status.busy": "2021-12-05T17:41:58.990736Z",
     "iopub.status.idle": "2021-12-05T17:41:58.997519Z",
     "shell.execute_reply": "2021-12-05T17:41:58.996442Z",
     "shell.execute_reply.started": "2021-12-05T17:41:58.990928Z"
    },
    "tags": []
   },
   "outputs": [
    {
     "name": "stdout",
     "output_type": "stream",
     "text": [
      "Best score: 0.8779575973793345\n",
      "Best params {'n_estimators': 250, 'min_samples_leaf': 550, 'max_depth': 16, 'loss': 'deviance', 'learning_rate': 0.05}\n"
     ]
    }
   ],
   "source": [
    "print(f\"Best score: {boost_grid3.best_score_}\")\n",
    "print(f\"Best params {boost_grid3.best_params_}\")"
   ]
  },
  {
   "cell_type": "code",
   "execution_count": 27,
   "id": "b4c0d7d2-3f9b-499d-84d3-1ecfcba35688",
   "metadata": {
    "execution": {
     "iopub.execute_input": "2021-12-05T17:41:58.998858Z",
     "iopub.status.busy": "2021-12-05T17:41:58.998658Z",
     "iopub.status.idle": "2021-12-05T17:41:59.296288Z",
     "shell.execute_reply": "2021-12-05T17:41:59.293506Z",
     "shell.execute_reply.started": "2021-12-05T17:41:58.998836Z"
    },
    "tags": []
   },
   "outputs": [],
   "source": [
    "boost3 = boost_grid3.best_estimator_"
   ]
  },
  {
   "cell_type": "code",
   "execution_count": 28,
   "id": "43863c2a-8549-40bd-b5d3-6bc805712b25",
   "metadata": {
    "execution": {
     "iopub.execute_input": "2021-12-05T17:41:59.299538Z",
     "iopub.status.busy": "2021-12-05T17:41:59.298958Z",
     "iopub.status.idle": "2021-12-05T17:41:59.967219Z",
     "shell.execute_reply": "2021-12-05T17:41:59.966334Z",
     "shell.execute_reply.started": "2021-12-05T17:41:59.299471Z"
    }
   },
   "outputs": [
    {
     "name": "stdout",
     "output_type": "stream",
     "text": [
      "AUC-ROC: 0.7268467175267114\n",
      "ACCURACY: 0.8485736615865572\n",
      "PRESICION: 0.7341772151898734\n",
      "RECALL: 0.5065502183406113\n",
      "CONFUSION MATRIX\n",
      "CPU times: user 611 ms, sys: 120 ms, total: 731 ms\n",
      "Wall time: 442 ms\n"
     ]
    },
    {
     "data": {
      "image/png": "[encoded data removed]",
      "text/plain": [
       "<Figure size 432x288 with 2 Axes>"
      ]
     },
     "metadata": {},
     "output_type": "display_data"
    }
   ],
   "source": [
    "%%time\n",
    "pred3 = boost3.predict(val_feat_r)\n",
    "prob3 = boost3.predict_proba(val_feat_r)\n",
    "score(val_targ_r, pred3, prob3[:,1])"
   ]
  },
  {
   "cell_type": "code",
   "execution_count": 29,
   "id": "4e6b5917-2c2b-4881-99f9-a2fc9ca5d564",
   "metadata": {
    "execution": {
     "iopub.execute_input": "2021-12-05T17:41:59.968241Z",
     "iopub.status.busy": "2021-12-05T17:41:59.968071Z",
     "iopub.status.idle": "2021-12-05T17:42:00.002665Z",
     "shell.execute_reply": "2021-12-05T17:42:00.001712Z",
     "shell.execute_reply.started": "2021-12-05T17:41:59.968219Z"
    },
    "tags": []
   },
   "outputs": [],
   "source": [
    "if(saveReg):\n",
    "    dump(boost3, 'models/Ensambles/boost_r.sk')"
   ]
  }
 ],
 "metadata": {
  "kernelspec": {
   "display_name": "Python 3 (ipykernel)",
   "language": "python",
   "name": "python3"
  },
  "language_info": {
   "codemirror_mode": {
    "name": "ipython",
    "version": 3
   },
   "file_extension": ".py",
   "mimetype": "text/x-python",
   "name": "python",
   "nbconvert_exporter": "python",
   "pygments_lexer": "ipython3",
   "version": "3.9.8"
  }
 },
 "nbformat": 4,
 "nbformat_minor": 5
}
