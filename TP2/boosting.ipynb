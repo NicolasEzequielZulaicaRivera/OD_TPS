{
 "cells": [
  {
   "cell_type": "markdown",
   "id": "3308d311-40d7-4259-a828-7a57b1c0697c",
   "metadata": {},
   "source": [
    "# Boosting"
   ]
  },
  {
   "cell_type": "markdown",
   "id": "2052667d-db58-4679-830a-e39d8750ef0a",
   "metadata": {},
   "source": [
    "### Imports"
   ]
  },
  {
   "cell_type": "code",
   "execution_count": 1,
   "id": "57fe6f06-9c8e-4d61-97ae-d6a56db43ce2",
   "metadata": {
    "execution": {
     "iopub.execute_input": "2021-12-29T03:56:32.630069Z",
     "iopub.status.busy": "2021-12-29T03:56:32.629903Z",
     "iopub.status.idle": "2021-12-29T03:56:33.501299Z",
     "shell.execute_reply": "2021-12-29T03:56:33.500595Z",
     "shell.execute_reply.started": "2021-12-29T03:56:32.630021Z"
    },
    "tags": []
   },
   "outputs": [],
   "source": [
    "import pandas as pd\n",
    "import numpy as np\n",
    "from matplotlib import pyplot as plt\n",
    "from joblib import dump, load"
   ]
  },
  {
   "cell_type": "code",
   "execution_count": 2,
   "id": "a49e6792-264c-4416-9d7a-2fd751337a76",
   "metadata": {
    "execution": {
     "iopub.execute_input": "2021-12-29T03:56:33.503008Z",
     "iopub.status.busy": "2021-12-29T03:56:33.502759Z",
     "iopub.status.idle": "2021-12-29T03:56:33.847156Z",
     "shell.execute_reply": "2021-12-29T03:56:33.846395Z",
     "shell.execute_reply.started": "2021-12-29T03:56:33.502984Z"
    },
    "tags": []
   },
   "outputs": [],
   "source": [
    "from sklearn.ensemble import GradientBoostingClassifier\n",
    "from sklearn.model_selection import RandomizedSearchCV\n",
    "from sklearn.experimental import enable_halving_search_cv\n",
    "from sklearn.model_selection import HalvingGridSearchCV\n",
    "from sklearn import tree"
   ]
  },
  {
   "cell_type": "code",
   "execution_count": 3,
   "id": "ecbe57a8-73db-45f4-a21d-4f876860ec06",
   "metadata": {
    "execution": {
     "iopub.execute_input": "2021-12-29T03:56:33.851403Z",
     "iopub.status.busy": "2021-12-29T03:56:33.850896Z",
     "iopub.status.idle": "2021-12-29T03:56:35.231478Z",
     "shell.execute_reply": "2021-12-29T03:56:35.230879Z",
     "shell.execute_reply.started": "2021-12-29T03:56:33.851377Z"
    },
    "tags": []
   },
   "outputs": [
    {
     "name": "stdout",
     "output_type": "stream",
     "text": [
      "[###] Initial Preprocessings Done                           \n",
      "[###] Aditional Preprocessings Done                                                   \n"
     ]
    }
   ],
   "source": [
    "from preprocessing import reemplazarNulls,reemplazarCategoricas,reemplazarFechas,regularizar,targetBooleano,reemplazarCategoricas_OHE,reemplazarNullsNum,keepFeat_OHE"
   ]
  },
  {
   "cell_type": "code",
   "execution_count": 4,
   "id": "ae53c637-7f02-4802-9add-5a35ced69f64",
   "metadata": {
    "execution": {
     "iopub.execute_input": "2021-12-29T03:56:35.232806Z",
     "iopub.status.busy": "2021-12-29T03:56:35.232399Z",
     "iopub.status.idle": "2021-12-29T03:56:35.596603Z",
     "shell.execute_reply": "2021-12-29T03:56:35.595907Z",
     "shell.execute_reply.started": "2021-12-29T03:56:35.232783Z"
    },
    "tags": []
   },
   "outputs": [],
   "source": [
    "from utilities import score, score2, df_feat, df_targ, train_val"
   ]
  },
  {
   "cell_type": "markdown",
   "id": "1aa60fef-ad74-400f-8ef7-8255160828a9",
   "metadata": {},
   "source": [
    "### Codigo a correr"
   ]
  },
  {
   "cell_type": "code",
   "execution_count": 5,
   "id": "cac84d06-6216-46dc-9d75-3044c9a63f5d",
   "metadata": {
    "execution": {
     "iopub.execute_input": "2021-12-29T03:56:35.598225Z",
     "iopub.status.busy": "2021-12-29T03:56:35.597844Z",
     "iopub.status.idle": "2021-12-29T03:56:35.602547Z",
     "shell.execute_reply": "2021-12-29T03:56:35.601548Z",
     "shell.execute_reply.started": "2021-12-29T03:56:35.598202Z"
    },
    "tags": []
   },
   "outputs": [],
   "source": [
    "MAX_JOBS = 5"
   ]
  },
  {
   "cell_type": "markdown",
   "id": "c99e8bfe-0edd-4db5-a218-1cf71f809d2d",
   "metadata": {},
   "source": [
    "**Run :** Entrenar Nuevamente o Cargar Entrenado"
   ]
  },
  {
   "cell_type": "code",
   "execution_count": 6,
   "id": "cd65bc5e-db28-4191-9e7f-0932bbd738a3",
   "metadata": {
    "execution": {
     "iopub.execute_input": "2021-12-29T03:56:35.604014Z",
     "iopub.status.busy": "2021-12-29T03:56:35.603808Z",
     "iopub.status.idle": "2021-12-29T03:56:35.608370Z",
     "shell.execute_reply": "2021-12-29T03:56:35.607662Z",
     "shell.execute_reply.started": "2021-12-29T03:56:35.603994Z"
    },
    "tags": []
   },
   "outputs": [],
   "source": [
    "runSimple = True\n",
    "runValidated = True\n",
    "runValidated2 = True\n",
    "runReg = True\n",
    "runOhe = True"
   ]
  },
  {
   "cell_type": "markdown",
   "id": "f1c590df-60bb-4c53-91e7-2da0c3476415",
   "metadata": {},
   "source": [
    "**Save :** Guardar Modelo (pisa anterior)"
   ]
  },
  {
   "cell_type": "code",
   "execution_count": 7,
   "id": "6f9b41b6-3059-4967-a9c7-c00188c3e415",
   "metadata": {
    "execution": {
     "iopub.execute_input": "2021-12-29T03:56:35.610306Z",
     "iopub.status.busy": "2021-12-29T03:56:35.609454Z",
     "iopub.status.idle": "2021-12-29T03:56:35.615586Z",
     "shell.execute_reply": "2021-12-29T03:56:35.614407Z",
     "shell.execute_reply.started": "2021-12-29T03:56:35.610273Z"
    },
    "tags": []
   },
   "outputs": [],
   "source": [
    "saveSimple = True\n",
    "saveValidated = True\n",
    "saveValidated2 = True\n",
    "saveReg = True\n",
    "saveOhe = True\n",
    "saveBest = True"
   ]
  },
  {
   "cell_type": "code",
   "execution_count": 52,
   "id": "7b29b429-817c-4421-ae00-f1261b975354",
   "metadata": {
    "execution": {
     "iopub.execute_input": "2021-12-29T12:00:19.471894Z",
     "iopub.status.busy": "2021-12-29T12:00:19.471657Z",
     "iopub.status.idle": "2021-12-29T12:00:19.475168Z",
     "shell.execute_reply": "2021-12-29T12:00:19.474507Z",
     "shell.execute_reply.started": "2021-12-29T12:00:19.471871Z"
    },
    "tags": []
   },
   "outputs": [],
   "source": [
    "predictions = pd.DataFrame()"
   ]
  },
  {
   "cell_type": "markdown",
   "id": "e6b58791-7d09-4d8a-8fcd-2b5e207db9fd",
   "metadata": {},
   "source": [
    "### Preprocesamiento"
   ]
  },
  {
   "cell_type": "code",
   "execution_count": 9,
   "id": "2e086941-2bc4-49ea-8bd8-91682b5a619a",
   "metadata": {
    "execution": {
     "iopub.execute_input": "2021-12-29T03:56:35.623580Z",
     "iopub.status.busy": "2021-12-29T03:56:35.623185Z",
     "iopub.status.idle": "2021-12-29T03:56:37.732927Z",
     "shell.execute_reply": "2021-12-29T03:56:37.732076Z",
     "shell.execute_reply.started": "2021-12-29T03:56:35.623551Z"
    },
    "tags": []
   },
   "outputs": [
    {
     "data": {
      "text/html": [
       "<div>\n",
       "<style scoped>\n",
       "    .dataframe tbody tr th:only-of-type {\n",
       "        vertical-align: middle;\n",
       "    }\n",
       "\n",
       "    .dataframe tbody tr th {\n",
       "        vertical-align: top;\n",
       "    }\n",
       "\n",
       "    .dataframe thead th {\n",
       "        text-align: right;\n",
       "    }\n",
       "</style>\n",
       "<table border=\"1\" class=\"dataframe\">\n",
       "  <thead>\n",
       "    <tr style=\"text-align: right;\">\n",
       "      <th></th>\n",
       "      <th>horas_de_sol</th>\n",
       "      <th>humedad_tarde</th>\n",
       "      <th>humedad_temprano</th>\n",
       "      <th>mm_evaporados_agua</th>\n",
       "      <th>mm_lluvia_dia</th>\n",
       "      <th>nubosidad_tarde</th>\n",
       "      <th>nubosidad_temprano</th>\n",
       "      <th>presion_atmosferica_tarde</th>\n",
       "      <th>presion_atmosferica_temprano</th>\n",
       "      <th>rafaga_viento_max_velocidad</th>\n",
       "      <th>...</th>\n",
       "      <th>missing_rafaga_viento_max_velocidad</th>\n",
       "      <th>missing_temp_max</th>\n",
       "      <th>missing_temp_min</th>\n",
       "      <th>missing_temperatura_tarde</th>\n",
       "      <th>missing_temperatura_temprano</th>\n",
       "      <th>missing_velocidad_viendo_tarde</th>\n",
       "      <th>missing_velocidad_viendo_temprano</th>\n",
       "      <th>y</th>\n",
       "      <th>m</th>\n",
       "      <th>d</th>\n",
       "    </tr>\n",
       "    <tr>\n",
       "      <th>id</th>\n",
       "      <th></th>\n",
       "      <th></th>\n",
       "      <th></th>\n",
       "      <th></th>\n",
       "      <th></th>\n",
       "      <th></th>\n",
       "      <th></th>\n",
       "      <th></th>\n",
       "      <th></th>\n",
       "      <th></th>\n",
       "      <th></th>\n",
       "      <th></th>\n",
       "      <th></th>\n",
       "      <th></th>\n",
       "      <th></th>\n",
       "      <th></th>\n",
       "      <th></th>\n",
       "      <th></th>\n",
       "      <th></th>\n",
       "      <th></th>\n",
       "      <th></th>\n",
       "    </tr>\n",
       "  </thead>\n",
       "  <tbody>\n",
       "    <tr>\n",
       "      <th>74816</th>\n",
       "      <td>7.629393</td>\n",
       "      <td>78.0</td>\n",
       "      <td>74.0</td>\n",
       "      <td>5.470542</td>\n",
       "      <td>68.0</td>\n",
       "      <td>4.50597</td>\n",
       "      <td>4.430203</td>\n",
       "      <td>1024.200000</td>\n",
       "      <td>1026.200000</td>\n",
       "      <td>48.0</td>\n",
       "      <td>...</td>\n",
       "      <td>False</td>\n",
       "      <td>False</td>\n",
       "      <td>False</td>\n",
       "      <td>False</td>\n",
       "      <td>False</td>\n",
       "      <td>False</td>\n",
       "      <td>False</td>\n",
       "      <td>2014</td>\n",
       "      <td>6</td>\n",
       "      <td>7</td>\n",
       "    </tr>\n",
       "    <tr>\n",
       "      <th>64318</th>\n",
       "      <td>7.629393</td>\n",
       "      <td>14.0</td>\n",
       "      <td>56.0</td>\n",
       "      <td>5.470542</td>\n",
       "      <td>5.8</td>\n",
       "      <td>1.00000</td>\n",
       "      <td>4.430203</td>\n",
       "      <td>998.300000</td>\n",
       "      <td>1002.500000</td>\n",
       "      <td>61.0</td>\n",
       "      <td>...</td>\n",
       "      <td>False</td>\n",
       "      <td>False</td>\n",
       "      <td>False</td>\n",
       "      <td>False</td>\n",
       "      <td>False</td>\n",
       "      <td>False</td>\n",
       "      <td>False</td>\n",
       "      <td>2014</td>\n",
       "      <td>12</td>\n",
       "      <td>7</td>\n",
       "    </tr>\n",
       "    <tr>\n",
       "      <th>54357</th>\n",
       "      <td>2.600000</td>\n",
       "      <td>79.0</td>\n",
       "      <td>47.0</td>\n",
       "      <td>5.470542</td>\n",
       "      <td>0.0</td>\n",
       "      <td>8.00000</td>\n",
       "      <td>7.000000</td>\n",
       "      <td>1000.500000</td>\n",
       "      <td>1005.800000</td>\n",
       "      <td>57.0</td>\n",
       "      <td>...</td>\n",
       "      <td>False</td>\n",
       "      <td>False</td>\n",
       "      <td>False</td>\n",
       "      <td>False</td>\n",
       "      <td>False</td>\n",
       "      <td>False</td>\n",
       "      <td>False</td>\n",
       "      <td>2010</td>\n",
       "      <td>7</td>\n",
       "      <td>8</td>\n",
       "    </tr>\n",
       "    <tr>\n",
       "      <th>1762</th>\n",
       "      <td>0.000000</td>\n",
       "      <td>92.0</td>\n",
       "      <td>96.0</td>\n",
       "      <td>3.000000</td>\n",
       "      <td>5.0</td>\n",
       "      <td>8.00000</td>\n",
       "      <td>8.000000</td>\n",
       "      <td>1015.400000</td>\n",
       "      <td>1016.800000</td>\n",
       "      <td>54.0</td>\n",
       "      <td>...</td>\n",
       "      <td>False</td>\n",
       "      <td>False</td>\n",
       "      <td>False</td>\n",
       "      <td>False</td>\n",
       "      <td>False</td>\n",
       "      <td>False</td>\n",
       "      <td>False</td>\n",
       "      <td>2015</td>\n",
       "      <td>11</td>\n",
       "      <td>4</td>\n",
       "    </tr>\n",
       "    <tr>\n",
       "      <th>89422</th>\n",
       "      <td>7.629393</td>\n",
       "      <td>14.0</td>\n",
       "      <td>37.0</td>\n",
       "      <td>5.470542</td>\n",
       "      <td>0.0</td>\n",
       "      <td>2.00000</td>\n",
       "      <td>4.430203</td>\n",
       "      <td>1006.400000</td>\n",
       "      <td>1011.100000</td>\n",
       "      <td>50.0</td>\n",
       "      <td>...</td>\n",
       "      <td>False</td>\n",
       "      <td>False</td>\n",
       "      <td>False</td>\n",
       "      <td>False</td>\n",
       "      <td>False</td>\n",
       "      <td>False</td>\n",
       "      <td>False</td>\n",
       "      <td>2014</td>\n",
       "      <td>12</td>\n",
       "      <td>22</td>\n",
       "    </tr>\n",
       "    <tr>\n",
       "      <th>...</th>\n",
       "      <td>...</td>\n",
       "      <td>...</td>\n",
       "      <td>...</td>\n",
       "      <td>...</td>\n",
       "      <td>...</td>\n",
       "      <td>...</td>\n",
       "      <td>...</td>\n",
       "      <td>...</td>\n",
       "      <td>...</td>\n",
       "      <td>...</td>\n",
       "      <td>...</td>\n",
       "      <td>...</td>\n",
       "      <td>...</td>\n",
       "      <td>...</td>\n",
       "      <td>...</td>\n",
       "      <td>...</td>\n",
       "      <td>...</td>\n",
       "      <td>...</td>\n",
       "      <td>...</td>\n",
       "      <td>...</td>\n",
       "      <td>...</td>\n",
       "    </tr>\n",
       "    <tr>\n",
       "      <th>49272</th>\n",
       "      <td>6.500000</td>\n",
       "      <td>63.0</td>\n",
       "      <td>44.0</td>\n",
       "      <td>3.800000</td>\n",
       "      <td>0.4</td>\n",
       "      <td>6.00000</td>\n",
       "      <td>2.000000</td>\n",
       "      <td>1011.800000</td>\n",
       "      <td>1014.500000</td>\n",
       "      <td>72.0</td>\n",
       "      <td>...</td>\n",
       "      <td>False</td>\n",
       "      <td>False</td>\n",
       "      <td>False</td>\n",
       "      <td>False</td>\n",
       "      <td>False</td>\n",
       "      <td>False</td>\n",
       "      <td>False</td>\n",
       "      <td>2012</td>\n",
       "      <td>5</td>\n",
       "      <td>23</td>\n",
       "    </tr>\n",
       "    <tr>\n",
       "      <th>13885</th>\n",
       "      <td>2.100000</td>\n",
       "      <td>65.0</td>\n",
       "      <td>80.0</td>\n",
       "      <td>1.600000</td>\n",
       "      <td>5.2</td>\n",
       "      <td>7.00000</td>\n",
       "      <td>7.000000</td>\n",
       "      <td>1017.500000</td>\n",
       "      <td>1016.300000</td>\n",
       "      <td>48.0</td>\n",
       "      <td>...</td>\n",
       "      <td>False</td>\n",
       "      <td>False</td>\n",
       "      <td>False</td>\n",
       "      <td>False</td>\n",
       "      <td>False</td>\n",
       "      <td>False</td>\n",
       "      <td>False</td>\n",
       "      <td>2011</td>\n",
       "      <td>10</td>\n",
       "      <td>25</td>\n",
       "    </tr>\n",
       "    <tr>\n",
       "      <th>4586</th>\n",
       "      <td>7.629393</td>\n",
       "      <td>81.0</td>\n",
       "      <td>62.0</td>\n",
       "      <td>5.470542</td>\n",
       "      <td>0.0</td>\n",
       "      <td>4.50597</td>\n",
       "      <td>4.430203</td>\n",
       "      <td>1015.257118</td>\n",
       "      <td>1017.655555</td>\n",
       "      <td>35.0</td>\n",
       "      <td>...</td>\n",
       "      <td>False</td>\n",
       "      <td>False</td>\n",
       "      <td>False</td>\n",
       "      <td>False</td>\n",
       "      <td>False</td>\n",
       "      <td>False</td>\n",
       "      <td>False</td>\n",
       "      <td>2015</td>\n",
       "      <td>12</td>\n",
       "      <td>16</td>\n",
       "    </tr>\n",
       "    <tr>\n",
       "      <th>68030</th>\n",
       "      <td>0.900000</td>\n",
       "      <td>79.0</td>\n",
       "      <td>65.0</td>\n",
       "      <td>2.200000</td>\n",
       "      <td>0.0</td>\n",
       "      <td>8.00000</td>\n",
       "      <td>7.000000</td>\n",
       "      <td>1000.800000</td>\n",
       "      <td>1010.900000</td>\n",
       "      <td>56.0</td>\n",
       "      <td>...</td>\n",
       "      <td>False</td>\n",
       "      <td>False</td>\n",
       "      <td>False</td>\n",
       "      <td>False</td>\n",
       "      <td>False</td>\n",
       "      <td>False</td>\n",
       "      <td>False</td>\n",
       "      <td>2010</td>\n",
       "      <td>8</td>\n",
       "      <td>18</td>\n",
       "    </tr>\n",
       "    <tr>\n",
       "      <th>32535</th>\n",
       "      <td>10.700000</td>\n",
       "      <td>56.0</td>\n",
       "      <td>65.0</td>\n",
       "      <td>10.000000</td>\n",
       "      <td>0.0</td>\n",
       "      <td>2.00000</td>\n",
       "      <td>2.000000</td>\n",
       "      <td>1019.400000</td>\n",
       "      <td>1020.800000</td>\n",
       "      <td>48.0</td>\n",
       "      <td>...</td>\n",
       "      <td>False</td>\n",
       "      <td>False</td>\n",
       "      <td>False</td>\n",
       "      <td>False</td>\n",
       "      <td>False</td>\n",
       "      <td>False</td>\n",
       "      <td>False</td>\n",
       "      <td>2015</td>\n",
       "      <td>12</td>\n",
       "      <td>7</td>\n",
       "    </tr>\n",
       "  </tbody>\n",
       "</table>\n",
       "<p>102356 rows × 131 columns</p>\n",
       "</div>"
      ],
      "text/plain": [
       "       horas_de_sol  humedad_tarde  humedad_temprano  mm_evaporados_agua  \\\n",
       "id                                                                         \n",
       "74816      7.629393           78.0              74.0            5.470542   \n",
       "64318      7.629393           14.0              56.0            5.470542   \n",
       "54357      2.600000           79.0              47.0            5.470542   \n",
       "1762       0.000000           92.0              96.0            3.000000   \n",
       "89422      7.629393           14.0              37.0            5.470542   \n",
       "...             ...            ...               ...                 ...   \n",
       "49272      6.500000           63.0              44.0            3.800000   \n",
       "13885      2.100000           65.0              80.0            1.600000   \n",
       "4586       7.629393           81.0              62.0            5.470542   \n",
       "68030      0.900000           79.0              65.0            2.200000   \n",
       "32535     10.700000           56.0              65.0           10.000000   \n",
       "\n",
       "       mm_lluvia_dia  nubosidad_tarde  nubosidad_temprano  \\\n",
       "id                                                          \n",
       "74816           68.0          4.50597            4.430203   \n",
       "64318            5.8          1.00000            4.430203   \n",
       "54357            0.0          8.00000            7.000000   \n",
       "1762             5.0          8.00000            8.000000   \n",
       "89422            0.0          2.00000            4.430203   \n",
       "...              ...              ...                 ...   \n",
       "49272            0.4          6.00000            2.000000   \n",
       "13885            5.2          7.00000            7.000000   \n",
       "4586             0.0          4.50597            4.430203   \n",
       "68030            0.0          8.00000            7.000000   \n",
       "32535            0.0          2.00000            2.000000   \n",
       "\n",
       "       presion_atmosferica_tarde  presion_atmosferica_temprano  \\\n",
       "id                                                               \n",
       "74816                1024.200000                   1026.200000   \n",
       "64318                 998.300000                   1002.500000   \n",
       "54357                1000.500000                   1005.800000   \n",
       "1762                 1015.400000                   1016.800000   \n",
       "89422                1006.400000                   1011.100000   \n",
       "...                          ...                           ...   \n",
       "49272                1011.800000                   1014.500000   \n",
       "13885                1017.500000                   1016.300000   \n",
       "4586                 1015.257118                   1017.655555   \n",
       "68030                1000.800000                   1010.900000   \n",
       "32535                1019.400000                   1020.800000   \n",
       "\n",
       "       rafaga_viento_max_velocidad  ...  missing_rafaga_viento_max_velocidad  \\\n",
       "id                                  ...                                        \n",
       "74816                         48.0  ...                                False   \n",
       "64318                         61.0  ...                                False   \n",
       "54357                         57.0  ...                                False   \n",
       "1762                          54.0  ...                                False   \n",
       "89422                         50.0  ...                                False   \n",
       "...                            ...  ...                                  ...   \n",
       "49272                         72.0  ...                                False   \n",
       "13885                         48.0  ...                                False   \n",
       "4586                          35.0  ...                                False   \n",
       "68030                         56.0  ...                                False   \n",
       "32535                         48.0  ...                                False   \n",
       "\n",
       "       missing_temp_max  missing_temp_min  missing_temperatura_tarde  \\\n",
       "id                                                                     \n",
       "74816             False             False                      False   \n",
       "64318             False             False                      False   \n",
       "54357             False             False                      False   \n",
       "1762              False             False                      False   \n",
       "89422             False             False                      False   \n",
       "...                 ...               ...                        ...   \n",
       "49272             False             False                      False   \n",
       "13885             False             False                      False   \n",
       "4586              False             False                      False   \n",
       "68030             False             False                      False   \n",
       "32535             False             False                      False   \n",
       "\n",
       "       missing_temperatura_temprano  missing_velocidad_viendo_tarde  \\\n",
       "id                                                                    \n",
       "74816                         False                           False   \n",
       "64318                         False                           False   \n",
       "54357                         False                           False   \n",
       "1762                          False                           False   \n",
       "89422                         False                           False   \n",
       "...                             ...                             ...   \n",
       "49272                         False                           False   \n",
       "13885                         False                           False   \n",
       "4586                          False                           False   \n",
       "68030                         False                           False   \n",
       "32535                         False                           False   \n",
       "\n",
       "       missing_velocidad_viendo_temprano     y   m   d  \n",
       "id                                                      \n",
       "74816                              False  2014   6   7  \n",
       "64318                              False  2014  12   7  \n",
       "54357                              False  2010   7   8  \n",
       "1762                               False  2015  11   4  \n",
       "89422                              False  2014  12  22  \n",
       "...                                  ...   ...  ..  ..  \n",
       "49272                              False  2012   5  23  \n",
       "13885                              False  2011  10  25  \n",
       "4586                               False  2015  12  16  \n",
       "68030                              False  2010   8  18  \n",
       "32535                              False  2015  12   7  \n",
       "\n",
       "[102356 rows x 131 columns]"
      ]
     },
     "execution_count": 9,
     "metadata": {},
     "output_type": "execute_result"
    }
   ],
   "source": [
    "targetBooleano(df_targ, inplace=True)\n",
    "ohe_feat = reemplazarCategoricas_OHE(df_feat)\n",
    "\n",
    "reemplazarNulls(df_feat , inplace=True)\n",
    "reemplazarCategoricas(df_feat , inplace=True)\n",
    "reemplazarFechas(df_feat , inplace=True)\n",
    "df_feat_r = regularizar(df_feat)\n",
    "\n",
    "reemplazarNullsNum(ohe_feat, inplace=True)\n",
    "reemplazarFechas(ohe_feat , inplace=True)"
   ]
  },
  {
   "cell_type": "code",
   "execution_count": 10,
   "id": "642171dc-c717-48aa-9f13-3d5115385741",
   "metadata": {
    "execution": {
     "iopub.execute_input": "2021-12-29T03:56:37.734707Z",
     "iopub.status.busy": "2021-12-29T03:56:37.734423Z",
     "iopub.status.idle": "2021-12-29T03:56:37.750999Z",
     "shell.execute_reply": "2021-12-29T03:56:37.750357Z",
     "shell.execute_reply.started": "2021-12-29T03:56:37.734680Z"
    },
    "tags": []
   },
   "outputs": [
    {
     "name": "stdout",
     "output_type": "stream",
     "text": [
      "<class 'pandas.core.frame.DataFrame'>\n",
      "Int64Index: 102356 entries, 74816 to 32535\n",
      "Data columns (total 23 columns):\n",
      " #   Column                        Non-Null Count   Dtype  \n",
      "---  ------                        --------------   -----  \n",
      " 0   direccion_viento_tarde        102356 non-null  float64\n",
      " 1   direccion_viento_temprano     102356 non-null  float64\n",
      " 2   horas_de_sol                  102356 non-null  float64\n",
      " 3   humedad_tarde                 102356 non-null  float64\n",
      " 4   humedad_temprano              102356 non-null  float64\n",
      " 5   llovieron_hamburguesas_hoy    102356 non-null  bool   \n",
      " 6   mm_evaporados_agua            102356 non-null  float64\n",
      " 7   mm_lluvia_dia                 102356 non-null  float64\n",
      " 8   nubosidad_tarde               102356 non-null  float64\n",
      " 9   nubosidad_temprano            102356 non-null  float64\n",
      " 10  presion_atmosferica_tarde     102356 non-null  float64\n",
      " 11  presion_atmosferica_temprano  102356 non-null  float64\n",
      " 12  rafaga_viento_max_direccion   102356 non-null  float64\n",
      " 13  rafaga_viento_max_velocidad   102356 non-null  float64\n",
      " 14  temp_max                      102356 non-null  float64\n",
      " 15  temp_min                      102356 non-null  float64\n",
      " 16  temperatura_tarde             102356 non-null  float64\n",
      " 17  temperatura_temprano          102356 non-null  float64\n",
      " 18  velocidad_viendo_tarde        102356 non-null  float64\n",
      " 19  velocidad_viendo_temprano     102356 non-null  float64\n",
      " 20  y                             102356 non-null  int64  \n",
      " 21  m                             102356 non-null  int64  \n",
      " 22  d                             102356 non-null  int64  \n",
      "dtypes: bool(1), float64(19), int64(3)\n",
      "memory usage: 18.1 MB\n"
     ]
    }
   ],
   "source": [
    "df_feat.info()"
   ]
  },
  {
   "cell_type": "code",
   "execution_count": 11,
   "id": "a21cd14d-72b8-46e3-a7ac-96ba3e4a42dc",
   "metadata": {
    "execution": {
     "iopub.execute_input": "2021-12-29T03:56:37.752325Z",
     "iopub.status.busy": "2021-12-29T03:56:37.751983Z",
     "iopub.status.idle": "2021-12-29T03:56:37.948754Z",
     "shell.execute_reply": "2021-12-29T03:56:37.948121Z",
     "shell.execute_reply.started": "2021-12-29T03:56:37.752296Z"
    },
    "tags": []
   },
   "outputs": [],
   "source": [
    "train_feat, val_feat, train_targ, val_targ = train_val( df_feat, df_targ, True )\n",
    "train_feat_r, val_feat_r, train_targ_r, val_targ_r = train_val( df_feat_r, df_targ, True )\n",
    "train_feat_ohe, val_feat_ohe, train_targ_ohe, val_targ_ohe = train_val( ohe_feat, df_targ, True )"
   ]
  },
  {
   "cell_type": "markdown",
   "id": "0644d54b-4e59-49d5-a8df-c627b574c2f3",
   "metadata": {},
   "source": [
    "## Entrenamiento"
   ]
  },
  {
   "cell_type": "markdown",
   "id": "12e60815-3880-48af-9fcc-527ec3ecec42",
   "metadata": {},
   "source": [
    "### Simple"
   ]
  },
  {
   "cell_type": "code",
   "execution_count": 12,
   "id": "2bb0e7fa-49d3-4711-aa60-2a98afef1996",
   "metadata": {
    "execution": {
     "iopub.execute_input": "2021-12-29T03:56:37.954665Z",
     "iopub.status.busy": "2021-12-29T03:56:37.954443Z",
     "iopub.status.idle": "2021-12-29T03:56:57.629848Z",
     "shell.execute_reply": "2021-12-29T03:56:57.629189Z",
     "shell.execute_reply.started": "2021-12-29T03:56:37.954643Z"
    },
    "tags": []
   },
   "outputs": [],
   "source": [
    "if (runSimple):\n",
    "    boost_simple = GradientBoostingClassifier(\n",
    "        random_state=1,\n",
    "        max_depth=3,\n",
    "        min_samples_split=200,\n",
    "    )\n",
    "    boost_simple.fit( train_feat, train_targ )\n",
    "    \n",
    "    # Guardar\n",
    "    if(saveSimple):\n",
    "        dump(boost_simple, 'models/Ensambles/boost_simple.sk') \n",
    "else:\n",
    "    # Cargar\n",
    "    boost_simple = load('models/Ensambles/boost_simple.sk')"
   ]
  },
  {
   "cell_type": "code",
   "execution_count": 53,
   "id": "13fd98df-4710-49ba-8c42-a630eb2987df",
   "metadata": {
    "execution": {
     "iopub.execute_input": "2021-12-29T12:00:25.027742Z",
     "iopub.status.busy": "2021-12-29T12:00:25.027142Z",
     "iopub.status.idle": "2021-12-29T12:00:25.278298Z",
     "shell.execute_reply": "2021-12-29T12:00:25.277569Z",
     "shell.execute_reply.started": "2021-12-29T12:00:25.027718Z"
    },
    "tags": []
   },
   "outputs": [
    {
     "name": "stdout",
     "output_type": "stream",
     "text": [
      "CPU times: user 2 µs, sys: 1e+03 ns, total: 3 µs\n",
      "Wall time: 4.05 µs\n",
      "AUC-ROC: 0.8669765733108965\n",
      "              precision    recall  f1-score   support\n",
      "\n",
      "       False       0.86      0.95      0.90      7946\n",
      "        True       0.73      0.47      0.57      2290\n",
      "\n",
      "    accuracy                           0.84     10236\n",
      "   macro avg       0.79      0.71      0.74     10236\n",
      "weighted avg       0.83      0.84      0.83     10236\n",
      "\n",
      "CONFUSION MATRIX\n"
     ]
    },
    {
     "data": {
      "image/png": "[encoded data removed]",
      "text/plain": [
       "<Figure size 432x288 with 2 Axes>"
      ]
     },
     "metadata": {},
     "output_type": "display_data"
    }
   ],
   "source": [
    "%time\n",
    "pred = boost_simple.predict(val_feat)\n",
    "prob = boost_simple.predict_proba(val_feat)\n",
    "score(val_targ, pred, prob[:,1])"
   ]
  },
  {
   "cell_type": "code",
   "execution_count": 54,
   "id": "536567f3-5fe9-4d10-ab93-7ff0308c8788",
   "metadata": {
    "execution": {
     "iopub.execute_input": "2021-12-29T12:00:25.280662Z",
     "iopub.status.busy": "2021-12-29T12:00:25.280073Z",
     "iopub.status.idle": "2021-12-29T12:00:25.314044Z",
     "shell.execute_reply": "2021-12-29T12:00:25.313466Z",
     "shell.execute_reply.started": "2021-12-29T12:00:25.280639Z"
    },
    "tags": []
   },
   "outputs": [],
   "source": [
    "pdf = score2('Simple','Basico',val_targ, pred, prob[:,1])\n",
    "predictions = predictions.append( pdf )"
   ]
  },
  {
   "cell_type": "markdown",
   "id": "530e14b5-501c-4cf5-87fc-b57e4559f24c",
   "metadata": {},
   "source": [
    "### Validado"
   ]
  },
  {
   "cell_type": "code",
   "execution_count": 15,
   "id": "0be2b1be-0ddb-43e5-9966-8364904b477e",
   "metadata": {
    "execution": {
     "iopub.execute_input": "2021-12-29T03:56:57.939362Z",
     "iopub.status.busy": "2021-12-29T03:56:57.939112Z",
     "iopub.status.idle": "2021-12-29T04:26:17.788804Z",
     "shell.execute_reply": "2021-12-29T04:26:17.788015Z",
     "shell.execute_reply.started": "2021-12-29T03:56:57.939342Z"
    },
    "scrolled": true,
    "tags": []
   },
   "outputs": [
    {
     "name": "stdout",
     "output_type": "stream",
     "text": [
      "Fitting 5 folds for each of 10 candidates, totalling 50 fits\n"
     ]
    }
   ],
   "source": [
    "if( runValidated ):\n",
    "    boost = GradientBoostingClassifier(\n",
    "        random_state=1,\n",
    "    )\n",
    "    \n",
    "    params = {\n",
    "        'max_depth': np.arange(1, 20, 1),\n",
    "        'min_samples_leaf': np.arange(50, 1000, 50),\n",
    "        'n_estimators': np.arange(50,500,50),\n",
    "        'loss': ['deviance', 'exponential'],\n",
    "        'learning_rate': [0.05,0.1,0.2],\n",
    "    }\n",
    "    \n",
    "    boost_grid = RandomizedSearchCV(\n",
    "        boost,\n",
    "        params,\n",
    "        scoring='roc_auc',\n",
    "        n_jobs=MAX_JOBS,\n",
    "        return_train_score=True,\n",
    "        verbose=1\n",
    "    ).fit(train_feat, train_targ)\n",
    "    \n",
    "    # Guardar\n",
    "    if(saveValidated):\n",
    "        dump(boost_grid, 'models/Ensambles/boost_grid.sk')\n",
    "else:\n",
    "    # Cargar\n",
    "    boost_grid = load('models/Ensambles/boost_grid.sk')"
   ]
  },
  {
   "cell_type": "code",
   "execution_count": 16,
   "id": "63a6b4bc-e597-46dc-9146-e255adc0e118",
   "metadata": {
    "execution": {
     "iopub.execute_input": "2021-12-29T04:26:17.790844Z",
     "iopub.status.busy": "2021-12-29T04:26:17.790417Z",
     "iopub.status.idle": "2021-12-29T04:26:17.796131Z",
     "shell.execute_reply": "2021-12-29T04:26:17.795517Z",
     "shell.execute_reply.started": "2021-12-29T04:26:17.790806Z"
    },
    "tags": []
   },
   "outputs": [
    {
     "name": "stdout",
     "output_type": "stream",
     "text": [
      "Best score: 0.8904162604840289\n",
      "Best params {'n_estimators': 200, 'min_samples_leaf': 200, 'max_depth': 19, 'loss': 'deviance', 'learning_rate': 0.1}\n"
     ]
    }
   ],
   "source": [
    "print(f\"Best score: {boost_grid.best_score_}\")\n",
    "print(f\"Best params {boost_grid.best_params_}\")"
   ]
  },
  {
   "cell_type": "code",
   "execution_count": 17,
   "id": "3d93138b-9a57-47e0-81a1-820e8fc2e0c9",
   "metadata": {
    "execution": {
     "iopub.execute_input": "2021-12-29T04:26:17.797309Z",
     "iopub.status.busy": "2021-12-29T04:26:17.797019Z",
     "iopub.status.idle": "2021-12-29T04:26:17.800584Z",
     "shell.execute_reply": "2021-12-29T04:26:17.799938Z",
     "shell.execute_reply.started": "2021-12-29T04:26:17.797272Z"
    }
   },
   "outputs": [],
   "source": [
    "boost = boost_grid.best_estimator_"
   ]
  },
  {
   "cell_type": "code",
   "execution_count": 55,
   "id": "1698b124-275e-4a0c-b83c-39ee13760708",
   "metadata": {
    "execution": {
     "iopub.execute_input": "2021-12-29T12:00:29.482377Z",
     "iopub.status.busy": "2021-12-29T12:00:29.482126Z",
     "iopub.status.idle": "2021-12-29T12:00:29.918555Z",
     "shell.execute_reply": "2021-12-29T12:00:29.917739Z",
     "shell.execute_reply.started": "2021-12-29T12:00:29.482354Z"
    },
    "tags": []
   },
   "outputs": [
    {
     "name": "stdout",
     "output_type": "stream",
     "text": [
      "AUC-ROC: 0.8922015636111437\n",
      "              precision    recall  f1-score   support\n",
      "\n",
      "       False       0.88      0.94      0.91      7946\n",
      "        True       0.73      0.53      0.62      2290\n",
      "\n",
      "    accuracy                           0.85     10236\n",
      "   macro avg       0.80      0.74      0.76     10236\n",
      "weighted avg       0.84      0.85      0.84     10236\n",
      "\n",
      "CONFUSION MATRIX\n",
      "CPU times: user 383 ms, sys: 9.63 ms, total: 392 ms\n",
      "Wall time: 361 ms\n"
     ]
    },
    {
     "data": {
      "image/png": "[encoded data removed]",
      "text/plain": [
       "<Figure size 432x288 with 2 Axes>"
      ]
     },
     "metadata": {},
     "output_type": "display_data"
    }
   ],
   "source": [
    "%%time\n",
    "pred = boost.predict(val_feat)\n",
    "prob = boost.predict_proba(val_feat)\n",
    "score(val_targ, pred, prob[:,1])"
   ]
  },
  {
   "cell_type": "code",
   "execution_count": 56,
   "id": "f4d9a5b4-c829-44c5-b3e1-b9afba327668",
   "metadata": {
    "execution": {
     "iopub.execute_input": "2021-12-29T12:00:29.920556Z",
     "iopub.status.busy": "2021-12-29T12:00:29.920297Z",
     "iopub.status.idle": "2021-12-29T12:00:29.953561Z",
     "shell.execute_reply": "2021-12-29T12:00:29.952921Z",
     "shell.execute_reply.started": "2021-12-29T12:00:29.920526Z"
    },
    "tags": []
   },
   "outputs": [],
   "source": [
    "pdf = score2('Val','Basico',val_targ, pred, prob[:,1])\n",
    "predictions = predictions.append( pdf )"
   ]
  },
  {
   "cell_type": "markdown",
   "id": "133d5232-3d45-4378-b7fc-93624ae3bbb7",
   "metadata": {},
   "source": [
    "### Optimizando mas hiperparametros"
   ]
  },
  {
   "cell_type": "code",
   "execution_count": 20,
   "id": "775f5db0-8eec-4380-94c4-823c528f327c",
   "metadata": {
    "execution": {
     "iopub.execute_input": "2021-12-29T04:26:18.316361Z",
     "iopub.status.busy": "2021-12-29T04:26:18.316116Z",
     "iopub.status.idle": "2021-12-29T04:59:52.041266Z",
     "shell.execute_reply": "2021-12-29T04:59:52.040678Z",
     "shell.execute_reply.started": "2021-12-29T04:26:18.316340Z"
    },
    "tags": []
   },
   "outputs": [
    {
     "name": "stdout",
     "output_type": "stream",
     "text": [
      "n_iterations: 7\n",
      "n_required_iterations: 7\n",
      "n_possible_iterations: 7\n",
      "min_resources_: 126\n",
      "max_resources_: 92120\n",
      "aggressive_elimination: False\n",
      "factor: 3\n",
      "----------\n",
      "iter: 0\n",
      "n_candidates: 1296\n",
      "n_resources: 126\n",
      "Fitting 5 folds for each of 1296 candidates, totalling 6480 fits\n",
      "----------\n",
      "iter: 1\n",
      "n_candidates: 432\n",
      "n_resources: 378\n",
      "Fitting 5 folds for each of 432 candidates, totalling 2160 fits\n",
      "----------\n",
      "iter: 2\n",
      "n_candidates: 144\n",
      "n_resources: 1134\n",
      "Fitting 5 folds for each of 144 candidates, totalling 720 fits\n",
      "----------\n",
      "iter: 3\n",
      "n_candidates: 48\n",
      "n_resources: 3402\n",
      "Fitting 5 folds for each of 48 candidates, totalling 240 fits\n",
      "----------\n",
      "iter: 4\n",
      "n_candidates: 16\n",
      "n_resources: 10206\n",
      "Fitting 5 folds for each of 16 candidates, totalling 80 fits\n",
      "----------\n",
      "iter: 5\n",
      "n_candidates: 6\n",
      "n_resources: 30618\n",
      "Fitting 5 folds for each of 6 candidates, totalling 30 fits\n",
      "----------\n",
      "iter: 6\n",
      "n_candidates: 2\n",
      "n_resources: 91854\n",
      "Fitting 5 folds for each of 2 candidates, totalling 10 fits\n"
     ]
    }
   ],
   "source": [
    "if( runValidated2 ):\n",
    "    boost2 = GradientBoostingClassifier(\n",
    "        random_state=1,\n",
    "    )\n",
    "    \n",
    "    params = {\n",
    "        'max_depth': np.arange(15, 19, 1),\n",
    "        'min_samples_leaf': np.arange(50, 200, 50),\n",
    "        'min_samples_split': np.arange(50, 200, 50),\n",
    "        'n_estimators': np.arange(200,500,100),\n",
    "        'loss': ['deviance', 'exponential'],\n",
    "        'learning_rate': [0.03,0.05,0.07],\n",
    "        'criterion' :['friedman_mse','squared_error']\n",
    "    }\n",
    "    \n",
    "    boost_grid2 = HalvingGridSearchCV(\n",
    "        boost2,\n",
    "        params,\n",
    "        scoring='roc_auc',\n",
    "        n_jobs=MAX_JOBS,\n",
    "        return_train_score=True,\n",
    "        verbose=1\n",
    "    ).fit(train_feat, train_targ)\n",
    "    \n",
    "    # Guardar\n",
    "    if(saveValidated2):\n",
    "        dump(boost_grid2, 'models/Ensambles/boost2_grid.sk')\n",
    "else:\n",
    "    # Cargar\n",
    "    boost_grid2 = load('models/Ensambles/boost2_grid.sk')"
   ]
  },
  {
   "cell_type": "code",
   "execution_count": 21,
   "id": "313337a2-bc3b-43a6-ad72-52bf3676a486",
   "metadata": {
    "execution": {
     "iopub.execute_input": "2021-12-29T04:59:52.042571Z",
     "iopub.status.busy": "2021-12-29T04:59:52.042278Z",
     "iopub.status.idle": "2021-12-29T04:59:52.047660Z",
     "shell.execute_reply": "2021-12-29T04:59:52.046745Z",
     "shell.execute_reply.started": "2021-12-29T04:59:52.042551Z"
    }
   },
   "outputs": [
    {
     "name": "stdout",
     "output_type": "stream",
     "text": [
      "Best score: 0.8887505170008589\n",
      "Best params {'criterion': 'squared_error', 'learning_rate': 0.03, 'loss': 'deviance', 'max_depth': 15, 'min_samples_leaf': 50, 'min_samples_split': 100, 'n_estimators': 200}\n"
     ]
    }
   ],
   "source": [
    "print(f\"Best score: {boost_grid2.best_score_}\")\n",
    "print(f\"Best params {boost_grid2.best_params_}\")"
   ]
  },
  {
   "cell_type": "code",
   "execution_count": 22,
   "id": "11288bbc-4417-4b57-8353-c3b4a6cc8f5a",
   "metadata": {
    "execution": {
     "iopub.execute_input": "2021-12-29T04:59:52.048915Z",
     "iopub.status.busy": "2021-12-29T04:59:52.048690Z",
     "iopub.status.idle": "2021-12-29T04:59:52.059391Z",
     "shell.execute_reply": "2021-12-29T04:59:52.057940Z",
     "shell.execute_reply.started": "2021-12-29T04:59:52.048867Z"
    }
   },
   "outputs": [],
   "source": [
    "boost2 = boost_grid2.best_estimator_"
   ]
  },
  {
   "cell_type": "code",
   "execution_count": 57,
   "id": "ad108361-7982-499a-ae4e-463ba922c148",
   "metadata": {
    "execution": {
     "iopub.execute_input": "2021-12-29T12:00:35.178703Z",
     "iopub.status.busy": "2021-12-29T12:00:35.178452Z",
     "iopub.status.idle": "2021-12-29T12:00:35.702897Z",
     "shell.execute_reply": "2021-12-29T12:00:35.702175Z",
     "shell.execute_reply.started": "2021-12-29T12:00:35.178682Z"
    },
    "tags": []
   },
   "outputs": [
    {
     "name": "stdout",
     "output_type": "stream",
     "text": [
      "AUC-ROC: 0.8886760194632547\n",
      "              precision    recall  f1-score   support\n",
      "\n",
      "       False       0.87      0.95      0.91      7946\n",
      "        True       0.75      0.52      0.62      2290\n",
      "\n",
      "    accuracy                           0.85     10236\n",
      "   macro avg       0.81      0.74      0.76     10236\n",
      "weighted avg       0.84      0.85      0.84     10236\n",
      "\n",
      "CONFUSION MATRIX\n",
      "CPU times: user 430 ms, sys: 10 ms, total: 440 ms\n",
      "Wall time: 447 ms\n"
     ]
    },
    {
     "data": {
      "image/png": "[encoded data removed]",
      "text/plain": [
       "<Figure size 432x288 with 2 Axes>"
      ]
     },
     "metadata": {},
     "output_type": "display_data"
    }
   ],
   "source": [
    "%%time\n",
    "pred = boost2.predict(val_feat)\n",
    "prob = boost2.predict_proba(val_feat)\n",
    "score(val_targ, pred, prob[:,1])"
   ]
  },
  {
   "cell_type": "code",
   "execution_count": 58,
   "id": "1a84165a-9e43-4bd0-9ed6-449e8c83e7ee",
   "metadata": {
    "execution": {
     "iopub.execute_input": "2021-12-29T12:00:35.704684Z",
     "iopub.status.busy": "2021-12-29T12:00:35.704444Z",
     "iopub.status.idle": "2021-12-29T12:00:35.737395Z",
     "shell.execute_reply": "2021-12-29T12:00:35.736669Z",
     "shell.execute_reply.started": "2021-12-29T12:00:35.704658Z"
    },
    "tags": []
   },
   "outputs": [],
   "source": [
    "pdf = score2('Opt','Basico',val_targ, pred, prob[:,1])\n",
    "predictions = predictions.append( pdf )"
   ]
  },
  {
   "cell_type": "markdown",
   "id": "f343196c-df0e-458e-a8b0-95d327c30f2b",
   "metadata": {},
   "source": [
    "### Reg"
   ]
  },
  {
   "cell_type": "code",
   "execution_count": 25,
   "id": "96c45f44-d917-4c29-9d6e-02143175a867",
   "metadata": {
    "execution": {
     "iopub.execute_input": "2021-12-29T04:59:52.668936Z",
     "iopub.status.busy": "2021-12-29T04:59:52.668675Z",
     "iopub.status.idle": "2021-12-29T05:10:04.649848Z",
     "shell.execute_reply": "2021-12-29T05:10:04.649125Z",
     "shell.execute_reply.started": "2021-12-29T04:59:52.668914Z"
    },
    "tags": []
   },
   "outputs": [
    {
     "name": "stdout",
     "output_type": "stream",
     "text": [
      "Fitting 5 folds for each of 10 candidates, totalling 50 fits\n"
     ]
    }
   ],
   "source": [
    "if( runReg ):\n",
    "    boost3 = GradientBoostingClassifier(\n",
    "        random_state=1,\n",
    "    )\n",
    "    \n",
    "    params = {\n",
    "        'max_depth': np.arange(1, 20, 1),\n",
    "        'min_samples_leaf': np.arange(50, 1000, 50),\n",
    "        'n_estimators': np.arange(50,500,50),\n",
    "        'loss': ['deviance', 'exponential'],\n",
    "        'learning_rate': [0.05,0.1,0.2],\n",
    "    }\n",
    "    \n",
    "    boost_grid3 = RandomizedSearchCV(\n",
    "        boost3,\n",
    "        params,\n",
    "        scoring='roc_auc',\n",
    "        n_jobs=MAX_JOBS,\n",
    "        return_train_score=True,\n",
    "        verbose=1\n",
    "    ).fit(train_feat_r, train_targ_r)\n",
    "    \n",
    "    # Guardar\n",
    "    if(saveReg):\n",
    "        dump(boost_grid3, 'models/Ensambles/boost_grid_r.sk')\n",
    "else:\n",
    "    # Cargar\n",
    "    boost_grid3 = load('models/Ensambles/boost_grid_r.sk')"
   ]
  },
  {
   "cell_type": "code",
   "execution_count": 26,
   "id": "08b97ba0-aded-4b8f-bb0c-0fd62728c01e",
   "metadata": {
    "execution": {
     "iopub.execute_input": "2021-12-29T05:10:04.651116Z",
     "iopub.status.busy": "2021-12-29T05:10:04.650775Z",
     "iopub.status.idle": "2021-12-29T05:10:04.655098Z",
     "shell.execute_reply": "2021-12-29T05:10:04.654355Z",
     "shell.execute_reply.started": "2021-12-29T05:10:04.651065Z"
    },
    "tags": []
   },
   "outputs": [
    {
     "name": "stdout",
     "output_type": "stream",
     "text": [
      "Best score: 0.8778430120012526\n",
      "Best params {'n_estimators': 300, 'min_samples_leaf': 600, 'max_depth': 6, 'loss': 'deviance', 'learning_rate': 0.1}\n"
     ]
    }
   ],
   "source": [
    "print(f\"Best score: {boost_grid3.best_score_}\")\n",
    "print(f\"Best params {boost_grid3.best_params_}\")"
   ]
  },
  {
   "cell_type": "code",
   "execution_count": 27,
   "id": "b4c0d7d2-3f9b-499d-84d3-1ecfcba35688",
   "metadata": {
    "execution": {
     "iopub.execute_input": "2021-12-29T05:10:04.657084Z",
     "iopub.status.busy": "2021-12-29T05:10:04.656424Z",
     "iopub.status.idle": "2021-12-29T05:10:04.664695Z",
     "shell.execute_reply": "2021-12-29T05:10:04.661743Z",
     "shell.execute_reply.started": "2021-12-29T05:10:04.657043Z"
    },
    "tags": []
   },
   "outputs": [],
   "source": [
    "boost3 = boost_grid3.best_estimator_"
   ]
  },
  {
   "cell_type": "code",
   "execution_count": 59,
   "id": "43863c2a-8549-40bd-b5d3-6bc805712b25",
   "metadata": {
    "execution": {
     "iopub.execute_input": "2021-12-29T12:00:39.454012Z",
     "iopub.status.busy": "2021-12-29T12:00:39.453790Z",
     "iopub.status.idle": "2021-12-29T12:00:39.768487Z",
     "shell.execute_reply": "2021-12-29T12:00:39.767786Z",
     "shell.execute_reply.started": "2021-12-29T12:00:39.453992Z"
    },
    "tags": []
   },
   "outputs": [
    {
     "name": "stdout",
     "output_type": "stream",
     "text": [
      "AUC-ROC: 0.8746432524342806\n",
      "              precision    recall  f1-score   support\n",
      "\n",
      "       False       0.87      0.95      0.91      7946\n",
      "        True       0.73      0.50      0.59      2290\n",
      "\n",
      "    accuracy                           0.85     10236\n",
      "   macro avg       0.80      0.72      0.75     10236\n",
      "weighted avg       0.84      0.85      0.84     10236\n",
      "\n",
      "CONFUSION MATRIX\n",
      "CPU times: user 256 ms, sys: 10.2 ms, total: 266 ms\n",
      "Wall time: 234 ms\n"
     ]
    },
    {
     "data": {
      "image/png": "[encoded data removed]",
      "text/plain": [
       "<Figure size 432x288 with 2 Axes>"
      ]
     },
     "metadata": {},
     "output_type": "display_data"
    }
   ],
   "source": [
    "%%time\n",
    "pred = boost3.predict(val_feat_r)\n",
    "prob = boost3.predict_proba(val_feat_r)\n",
    "score(val_targ_r, pred, prob[:,1])"
   ]
  },
  {
   "cell_type": "code",
   "execution_count": 60,
   "id": "3e54677f-db90-44d3-a22d-a550e40e1123",
   "metadata": {
    "execution": {
     "iopub.execute_input": "2021-12-29T12:00:39.770532Z",
     "iopub.status.busy": "2021-12-29T12:00:39.770279Z",
     "iopub.status.idle": "2021-12-29T12:00:39.803323Z",
     "shell.execute_reply": "2021-12-29T12:00:39.802487Z",
     "shell.execute_reply.started": "2021-12-29T12:00:39.770510Z"
    },
    "tags": []
   },
   "outputs": [],
   "source": [
    "pdf = score2('Reg','Regularizado',val_targ_r, pred, prob[:,1])\n",
    "predictions = predictions.append( pdf )"
   ]
  },
  {
   "cell_type": "markdown",
   "id": "2aa3746f-2f5b-4364-941b-12f858933444",
   "metadata": {},
   "source": [
    "### One Hot Encoding"
   ]
  },
  {
   "cell_type": "code",
   "execution_count": 30,
   "id": "0a5b3d82-c54f-4638-b094-f950184b2637",
   "metadata": {
    "execution": {
     "iopub.execute_input": "2021-12-29T05:10:04.845836Z",
     "iopub.status.busy": "2021-12-29T05:10:04.845623Z",
     "iopub.status.idle": "2021-12-29T06:09:42.242939Z",
     "shell.execute_reply": "2021-12-29T06:09:42.242408Z",
     "shell.execute_reply.started": "2021-12-29T05:10:04.845815Z"
    },
    "tags": []
   },
   "outputs": [
    {
     "name": "stdout",
     "output_type": "stream",
     "text": [
      "Fitting 5 folds for each of 10 candidates, totalling 50 fits\n"
     ]
    }
   ],
   "source": [
    "if( runReg ):\n",
    "    boost4 = GradientBoostingClassifier(\n",
    "        random_state=1,\n",
    "    )\n",
    "    \n",
    "    params = {\n",
    "        'max_depth': np.arange(1, 20, 1),\n",
    "        'min_samples_leaf': np.arange(50, 1000, 50),\n",
    "        'n_estimators': np.arange(50,500,50),\n",
    "        'loss': ['deviance', 'exponential'],\n",
    "        'learning_rate': [0.05,0.1,0.2],\n",
    "    }\n",
    "    \n",
    "    boost_grid4 = RandomizedSearchCV(\n",
    "        boost4,\n",
    "        params,\n",
    "        scoring='roc_auc',\n",
    "        n_jobs=MAX_JOBS,\n",
    "        return_train_score=True,\n",
    "        verbose=1\n",
    "    ).fit(train_feat_ohe, train_targ_ohe)\n",
    "    \n",
    "    # Guardar\n",
    "    if(saveReg):\n",
    "        dump(boost_grid4, 'models/Ensambles/boost_grid_ohe.sk')\n",
    "else:\n",
    "    # Cargar\n",
    "    boost_grid4 = load('models/Ensambles/boost_grid_ohe.sk')"
   ]
  },
  {
   "cell_type": "code",
   "execution_count": 31,
   "id": "7d4fad13-b84b-4090-b7ae-eee3e9665561",
   "metadata": {
    "execution": {
     "iopub.execute_input": "2021-12-29T06:09:42.243944Z",
     "iopub.status.busy": "2021-12-29T06:09:42.243660Z",
     "iopub.status.idle": "2021-12-29T06:09:42.247401Z",
     "shell.execute_reply": "2021-12-29T06:09:42.246737Z",
     "shell.execute_reply.started": "2021-12-29T06:09:42.243926Z"
    },
    "tags": []
   },
   "outputs": [
    {
     "name": "stdout",
     "output_type": "stream",
     "text": [
      "Best score: 0.8972523040050518\n",
      "Best params {'n_estimators': 350, 'min_samples_leaf': 200, 'max_depth': 17, 'loss': 'exponential', 'learning_rate': 0.05}\n"
     ]
    }
   ],
   "source": [
    "print(f\"Best score: {boost_grid4.best_score_}\")\n",
    "print(f\"Best params {boost_grid4.best_params_}\")"
   ]
  },
  {
   "cell_type": "code",
   "execution_count": 48,
   "id": "9d774635-bccc-4052-92ac-39eb1357a99d",
   "metadata": {
    "execution": {
     "iopub.execute_input": "2021-12-29T11:58:32.470929Z",
     "iopub.status.busy": "2021-12-29T11:58:32.470471Z",
     "iopub.status.idle": "2021-12-29T11:58:32.474077Z",
     "shell.execute_reply": "2021-12-29T11:58:32.473201Z",
     "shell.execute_reply.started": "2021-12-29T11:58:32.470906Z"
    },
    "tags": []
   },
   "outputs": [],
   "source": [
    "boost4 = boost_grid4.best_estimator_"
   ]
  },
  {
   "cell_type": "code",
   "execution_count": 61,
   "id": "10410bba-02f0-406f-9f6a-ffc92fc9ce51",
   "metadata": {
    "execution": {
     "iopub.execute_input": "2021-12-29T12:00:43.223693Z",
     "iopub.status.busy": "2021-12-29T12:00:43.223096Z",
     "iopub.status.idle": "2021-12-29T12:00:43.922101Z",
     "shell.execute_reply": "2021-12-29T12:00:43.921380Z",
     "shell.execute_reply.started": "2021-12-29T12:00:43.223658Z"
    },
    "tags": []
   },
   "outputs": [
    {
     "name": "stdout",
     "output_type": "stream",
     "text": [
      "AUC-ROC: 0.8981841403271207\n",
      "              precision    recall  f1-score   support\n",
      "\n",
      "       False       0.88      0.95      0.91      7946\n",
      "        True       0.75      0.55      0.63      2290\n",
      "\n",
      "    accuracy                           0.86     10236\n",
      "   macro avg       0.81      0.75      0.77     10236\n",
      "weighted avg       0.85      0.86      0.85     10236\n",
      "\n",
      "CONFUSION MATRIX\n",
      "CPU times: user 638 ms, sys: 15.8 ms, total: 654 ms\n",
      "Wall time: 622 ms\n"
     ]
    },
    {
     "data": {
      "image/png": "[encoded data removed]",
      "text/plain": [
       "<Figure size 432x288 with 2 Axes>"
      ]
     },
     "metadata": {},
     "output_type": "display_data"
    }
   ],
   "source": [
    "%%time\n",
    "pred = boost4.predict(val_feat_ohe)\n",
    "prob = boost4.predict_proba(val_feat_ohe)\n",
    "score(val_targ_ohe, pred, prob[:,1])"
   ]
  },
  {
   "cell_type": "code",
   "execution_count": 62,
   "id": "731b779c-53f3-40e5-942e-0f6ce63558e6",
   "metadata": {
    "execution": {
     "iopub.execute_input": "2021-12-29T12:00:43.923952Z",
     "iopub.status.busy": "2021-12-29T12:00:43.923705Z",
     "iopub.status.idle": "2021-12-29T12:00:43.957477Z",
     "shell.execute_reply": "2021-12-29T12:00:43.956796Z",
     "shell.execute_reply.started": "2021-12-29T12:00:43.923931Z"
    },
    "tags": []
   },
   "outputs": [],
   "source": [
    "pdf = score2('Ohe','OHE',val_targ_ohe, pred, prob[:,1])\n",
    "predictions = predictions.append( pdf )"
   ]
  },
  {
   "cell_type": "markdown",
   "id": "825ffe24-2c97-45fe-b1ed-34aa9fc7f2bd",
   "metadata": {},
   "source": [
    "## Predictions"
   ]
  },
  {
   "cell_type": "code",
   "execution_count": 63,
   "id": "f5f00c9b-7529-4f12-a432-ad83c4af635b",
   "metadata": {
    "execution": {
     "iopub.execute_input": "2021-12-29T12:00:48.409630Z",
     "iopub.status.busy": "2021-12-29T12:00:48.409381Z",
     "iopub.status.idle": "2021-12-29T12:00:48.421950Z",
     "shell.execute_reply": "2021-12-29T12:00:48.421326Z",
     "shell.execute_reply.started": "2021-12-29T12:00:48.409608Z"
    },
    "tags": []
   },
   "outputs": [
    {
     "data": {
      "text/html": [
       "<div>\n",
       "<style scoped>\n",
       "    .dataframe tbody tr th:only-of-type {\n",
       "        vertical-align: middle;\n",
       "    }\n",
       "\n",
       "    .dataframe tbody tr th {\n",
       "        vertical-align: top;\n",
       "    }\n",
       "\n",
       "    .dataframe thead th {\n",
       "        text-align: right;\n",
       "    }\n",
       "</style>\n",
       "<table border=\"1\" class=\"dataframe\">\n",
       "  <thead>\n",
       "    <tr style=\"text-align: right;\">\n",
       "      <th></th>\n",
       "      <th>Modelo</th>\n",
       "      <th>Preprocesamientos</th>\n",
       "      <th>Clase</th>\n",
       "      <th>AUC-ROC</th>\n",
       "      <th>Accuracy</th>\n",
       "      <th>Precision</th>\n",
       "      <th>Recall</th>\n",
       "      <th>F1 score</th>\n",
       "      <th>Support</th>\n",
       "    </tr>\n",
       "  </thead>\n",
       "  <tbody>\n",
       "    <tr>\n",
       "      <th>0</th>\n",
       "      <td>Simple</td>\n",
       "      <td>Basico</td>\n",
       "      <td>AVG</td>\n",
       "      <td>0.866977</td>\n",
       "      <td>0.841051</td>\n",
       "      <td>0.830241</td>\n",
       "      <td>0.841051</td>\n",
       "      <td>0.827640</td>\n",
       "      <td>10236</td>\n",
       "    </tr>\n",
       "    <tr>\n",
       "      <th>1</th>\n",
       "      <td>Simple</td>\n",
       "      <td>Basico</td>\n",
       "      <td>True</td>\n",
       "      <td>NaN</td>\n",
       "      <td>NaN</td>\n",
       "      <td>0.725357</td>\n",
       "      <td>0.465939</td>\n",
       "      <td>0.567402</td>\n",
       "      <td>2290</td>\n",
       "    </tr>\n",
       "    <tr>\n",
       "      <th>2</th>\n",
       "      <td>Simple</td>\n",
       "      <td>Basico</td>\n",
       "      <td>False</td>\n",
       "      <td>NaN</td>\n",
       "      <td>NaN</td>\n",
       "      <td>0.860468</td>\n",
       "      <td>0.949157</td>\n",
       "      <td>0.902639</td>\n",
       "      <td>7946</td>\n",
       "    </tr>\n",
       "    <tr>\n",
       "      <th>0</th>\n",
       "      <td>Val</td>\n",
       "      <td>Basico</td>\n",
       "      <td>AVG</td>\n",
       "      <td>0.892202</td>\n",
       "      <td>0.851114</td>\n",
       "      <td>0.842342</td>\n",
       "      <td>0.851114</td>\n",
       "      <td>0.842462</td>\n",
       "      <td>10236</td>\n",
       "    </tr>\n",
       "    <tr>\n",
       "      <th>1</th>\n",
       "      <td>Val</td>\n",
       "      <td>Basico</td>\n",
       "      <td>True</td>\n",
       "      <td>NaN</td>\n",
       "      <td>NaN</td>\n",
       "      <td>0.727705</td>\n",
       "      <td>0.534498</td>\n",
       "      <td>0.616314</td>\n",
       "      <td>2290</td>\n",
       "    </tr>\n",
       "    <tr>\n",
       "      <th>2</th>\n",
       "      <td>Val</td>\n",
       "      <td>Basico</td>\n",
       "      <td>False</td>\n",
       "      <td>NaN</td>\n",
       "      <td>NaN</td>\n",
       "      <td>0.875380</td>\n",
       "      <td>0.942361</td>\n",
       "      <td>0.907636</td>\n",
       "      <td>7946</td>\n",
       "    </tr>\n",
       "    <tr>\n",
       "      <th>0</th>\n",
       "      <td>Opt</td>\n",
       "      <td>Basico</td>\n",
       "      <td>AVG</td>\n",
       "      <td>0.888676</td>\n",
       "      <td>0.853458</td>\n",
       "      <td>0.844935</td>\n",
       "      <td>0.853458</td>\n",
       "      <td>0.843689</td>\n",
       "      <td>10236</td>\n",
       "    </tr>\n",
       "    <tr>\n",
       "      <th>1</th>\n",
       "      <td>Opt</td>\n",
       "      <td>Basico</td>\n",
       "      <td>True</td>\n",
       "      <td>NaN</td>\n",
       "      <td>NaN</td>\n",
       "      <td>0.745342</td>\n",
       "      <td>0.524017</td>\n",
       "      <td>0.615385</td>\n",
       "      <td>2290</td>\n",
       "    </tr>\n",
       "    <tr>\n",
       "      <th>2</th>\n",
       "      <td>Opt</td>\n",
       "      <td>Basico</td>\n",
       "      <td>False</td>\n",
       "      <td>NaN</td>\n",
       "      <td>NaN</td>\n",
       "      <td>0.873638</td>\n",
       "      <td>0.948402</td>\n",
       "      <td>0.909486</td>\n",
       "      <td>7946</td>\n",
       "    </tr>\n",
       "    <tr>\n",
       "      <th>0</th>\n",
       "      <td>Reg</td>\n",
       "      <td>Regularizado</td>\n",
       "      <td>AVG</td>\n",
       "      <td>0.874643</td>\n",
       "      <td>0.846229</td>\n",
       "      <td>0.836422</td>\n",
       "      <td>0.846229</td>\n",
       "      <td>0.835526</td>\n",
       "      <td>10236</td>\n",
       "    </tr>\n",
       "    <tr>\n",
       "      <th>1</th>\n",
       "      <td>Reg</td>\n",
       "      <td>Regularizado</td>\n",
       "      <td>True</td>\n",
       "      <td>NaN</td>\n",
       "      <td>NaN</td>\n",
       "      <td>0.725725</td>\n",
       "      <td>0.502620</td>\n",
       "      <td>0.593911</td>\n",
       "      <td>2290</td>\n",
       "    </tr>\n",
       "    <tr>\n",
       "      <th>2</th>\n",
       "      <td>Reg</td>\n",
       "      <td>Regularizado</td>\n",
       "      <td>False</td>\n",
       "      <td>NaN</td>\n",
       "      <td>NaN</td>\n",
       "      <td>0.868324</td>\n",
       "      <td>0.945255</td>\n",
       "      <td>0.905158</td>\n",
       "      <td>7946</td>\n",
       "    </tr>\n",
       "    <tr>\n",
       "      <th>0</th>\n",
       "      <td>Ohe</td>\n",
       "      <td>OHE</td>\n",
       "      <td>AVG</td>\n",
       "      <td>0.898184</td>\n",
       "      <td>0.857268</td>\n",
       "      <td>0.849392</td>\n",
       "      <td>0.857268</td>\n",
       "      <td>0.848991</td>\n",
       "      <td>10236</td>\n",
       "    </tr>\n",
       "    <tr>\n",
       "      <th>1</th>\n",
       "      <td>Ohe</td>\n",
       "      <td>OHE</td>\n",
       "      <td>True</td>\n",
       "      <td>NaN</td>\n",
       "      <td>NaN</td>\n",
       "      <td>0.746286</td>\n",
       "      <td>0.548472</td>\n",
       "      <td>0.632268</td>\n",
       "      <td>2290</td>\n",
       "    </tr>\n",
       "    <tr>\n",
       "      <th>2</th>\n",
       "      <td>Ohe</td>\n",
       "      <td>OHE</td>\n",
       "      <td>False</td>\n",
       "      <td>NaN</td>\n",
       "      <td>NaN</td>\n",
       "      <td>0.879107</td>\n",
       "      <td>0.946262</td>\n",
       "      <td>0.911449</td>\n",
       "      <td>7946</td>\n",
       "    </tr>\n",
       "  </tbody>\n",
       "</table>\n",
       "</div>"
      ],
      "text/plain": [
       "   Modelo Preprocesamientos  Clase   AUC-ROC  Accuracy  Precision    Recall  \\\n",
       "0  Simple            Basico    AVG  0.866977  0.841051   0.830241  0.841051   \n",
       "1  Simple            Basico   True       NaN       NaN   0.725357  0.465939   \n",
       "2  Simple            Basico  False       NaN       NaN   0.860468  0.949157   \n",
       "0     Val            Basico    AVG  0.892202  0.851114   0.842342  0.851114   \n",
       "1     Val            Basico   True       NaN       NaN   0.727705  0.534498   \n",
       "2     Val            Basico  False       NaN       NaN   0.875380  0.942361   \n",
       "0     Opt            Basico    AVG  0.888676  0.853458   0.844935  0.853458   \n",
       "1     Opt            Basico   True       NaN       NaN   0.745342  0.524017   \n",
       "2     Opt            Basico  False       NaN       NaN   0.873638  0.948402   \n",
       "0     Reg      Regularizado    AVG  0.874643  0.846229   0.836422  0.846229   \n",
       "1     Reg      Regularizado   True       NaN       NaN   0.725725  0.502620   \n",
       "2     Reg      Regularizado  False       NaN       NaN   0.868324  0.945255   \n",
       "0     Ohe               OHE    AVG  0.898184  0.857268   0.849392  0.857268   \n",
       "1     Ohe               OHE   True       NaN       NaN   0.746286  0.548472   \n",
       "2     Ohe               OHE  False       NaN       NaN   0.879107  0.946262   \n",
       "\n",
       "   F1 score Support  \n",
       "0  0.827640   10236  \n",
       "1  0.567402    2290  \n",
       "2  0.902639    7946  \n",
       "0  0.842462   10236  \n",
       "1  0.616314    2290  \n",
       "2  0.907636    7946  \n",
       "0  0.843689   10236  \n",
       "1  0.615385    2290  \n",
       "2  0.909486    7946  \n",
       "0  0.835526   10236  \n",
       "1  0.593911    2290  \n",
       "2  0.905158    7946  \n",
       "0  0.848991   10236  \n",
       "1  0.632268    2290  \n",
       "2  0.911449    7946  "
      ]
     },
     "execution_count": 63,
     "metadata": {},
     "output_type": "execute_result"
    }
   ],
   "source": [
    "predictions"
   ]
  },
  {
   "cell_type": "code",
   "execution_count": 64,
   "id": "ef0923a2-fdc2-4983-a694-8a5114d0e807",
   "metadata": {
    "execution": {
     "iopub.execute_input": "2021-12-29T12:01:25.981342Z",
     "iopub.status.busy": "2021-12-29T12:01:25.981073Z",
     "iopub.status.idle": "2021-12-29T12:01:26.047449Z",
     "shell.execute_reply": "2021-12-29T12:01:26.046924Z",
     "shell.execute_reply.started": "2021-12-29T12:01:25.981319Z"
    },
    "tags": []
   },
   "outputs": [],
   "source": [
    "if(saveBest):\n",
    "    dump(boost4, 'models/Ensambles/boost.sk')"
   ]
  }
 ],
 "metadata": {
  "kernelspec": {
   "display_name": "Python 3 (ipykernel)",
   "language": "python",
   "name": "python3"
  },
  "language_info": {
   "codemirror_mode": {
    "name": "ipython",
    "version": 3
   },
   "file_extension": ".py",
   "mimetype": "text/x-python",
   "name": "python",
   "nbconvert_exporter": "python",
   "pygments_lexer": "ipython3",
   "version": "3.9.9"
  }
 },
 "nbformat": 4,
 "nbformat_minor": 5
}
