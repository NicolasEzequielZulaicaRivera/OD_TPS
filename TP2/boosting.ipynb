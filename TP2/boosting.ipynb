{
 "cells": [
  {
   "cell_type": "markdown",
   "id": "3308d311-40d7-4259-a828-7a57b1c0697c",
   "metadata": {},
   "source": [
    "# Boosting"
   ]
  },
  {
   "cell_type": "markdown",
   "id": "2052667d-db58-4679-830a-e39d8750ef0a",
   "metadata": {},
   "source": [
    "### Imports"
   ]
  },
  {
   "cell_type": "code",
   "execution_count": 1,
   "id": "57fe6f06-9c8e-4d61-97ae-d6a56db43ce2",
   "metadata": {
    "execution": {
     "iopub.execute_input": "2021-12-29T03:56:32.630069Z",
     "iopub.status.busy": "2021-12-29T03:56:32.629903Z",
     "iopub.status.idle": "2021-12-29T03:56:33.501299Z",
     "shell.execute_reply": "2021-12-29T03:56:33.500595Z",
     "shell.execute_reply.started": "2021-12-29T03:56:32.630021Z"
    },
    "tags": []
   },
   "outputs": [],
   "source": [
    "import pandas as pd\n",
    "import numpy as np\n",
    "from matplotlib import pyplot as plt\n",
    "from joblib import dump, load"
   ]
  },
  {
   "cell_type": "code",
   "execution_count": 2,
   "id": "a49e6792-264c-4416-9d7a-2fd751337a76",
   "metadata": {
    "execution": {
     "iopub.execute_input": "2021-12-29T03:56:33.503008Z",
     "iopub.status.busy": "2021-12-29T03:56:33.502759Z",
     "iopub.status.idle": "2021-12-29T03:56:33.847156Z",
     "shell.execute_reply": "2021-12-29T03:56:33.846395Z",
     "shell.execute_reply.started": "2021-12-29T03:56:33.502984Z"
    },
    "tags": []
   },
   "outputs": [],
   "source": [
    "from sklearn.ensemble import GradientBoostingClassifier\n",
    "from sklearn.model_selection import RandomizedSearchCV\n",
    "from sklearn.experimental import enable_halving_search_cv\n",
    "from sklearn.model_selection import HalvingGridSearchCV\n",
    "from sklearn import tree"
   ]
  },
  {
   "cell_type": "code",
   "execution_count": 3,
   "id": "ecbe57a8-73db-45f4-a21d-4f876860ec06",
   "metadata": {
    "execution": {
     "iopub.execute_input": "2021-12-29T03:56:33.851403Z",
     "iopub.status.busy": "2021-12-29T03:56:33.850896Z",
     "iopub.status.idle": "2021-12-29T03:56:35.231478Z",
     "shell.execute_reply": "2021-12-29T03:56:35.230879Z",
     "shell.execute_reply.started": "2021-12-29T03:56:33.851377Z"
    },
    "tags": []
   },
   "outputs": [
    {
     "name": "stdout",
     "output_type": "stream",
     "text": [
      "[###] Initial Preprocessings Done                           \n",
      "[###] Aditional Preprocessings Done                                                   \n"
     ]
    }
   ],
   "source": [
    "from preprocessing import reemplazarNulls,reemplazarCategoricas,reemplazarFechas,regularizar,targetBooleano,reemplazarCategoricas_OHE,reemplazarNullsNum,keepFeat_OHE"
   ]
  },
  {
   "cell_type": "code",
   "execution_count": 4,
   "id": "ae53c637-7f02-4802-9add-5a35ced69f64",
   "metadata": {
    "execution": {
     "iopub.execute_input": "2021-12-29T03:56:35.232806Z",
     "iopub.status.busy": "2021-12-29T03:56:35.232399Z",
     "iopub.status.idle": "2021-12-29T03:56:35.596603Z",
     "shell.execute_reply": "2021-12-29T03:56:35.595907Z",
     "shell.execute_reply.started": "2021-12-29T03:56:35.232783Z"
    },
    "tags": []
   },
   "outputs": [],
   "source": [
    "from utilities import score, score2, df_feat, df_targ, train_val"
   ]
  },
  {
   "cell_type": "markdown",
   "id": "1aa60fef-ad74-400f-8ef7-8255160828a9",
   "metadata": {},
   "source": [
    "### Codigo a correr"
   ]
  },
  {
   "cell_type": "code",
   "execution_count": 5,
   "id": "cac84d06-6216-46dc-9d75-3044c9a63f5d",
   "metadata": {
    "execution": {
     "iopub.execute_input": "2021-12-29T03:56:35.598225Z",
     "iopub.status.busy": "2021-12-29T03:56:35.597844Z",
     "iopub.status.idle": "2021-12-29T03:56:35.602547Z",
     "shell.execute_reply": "2021-12-29T03:56:35.601548Z",
     "shell.execute_reply.started": "2021-12-29T03:56:35.598202Z"
    },
    "tags": []
   },
   "outputs": [],
   "source": [
    "MAX_JOBS = 5"
   ]
  },
  {
   "cell_type": "markdown",
   "id": "c99e8bfe-0edd-4db5-a218-1cf71f809d2d",
   "metadata": {},
   "source": [
    "**Run :** Entrenar Nuevamente o Cargar Entrenado"
   ]
  },
  {
   "cell_type": "code",
   "execution_count": 6,
   "id": "cd65bc5e-db28-4191-9e7f-0932bbd738a3",
   "metadata": {
    "execution": {
     "iopub.execute_input": "2021-12-29T03:56:35.604014Z",
     "iopub.status.busy": "2021-12-29T03:56:35.603808Z",
     "iopub.status.idle": "2021-12-29T03:56:35.608370Z",
     "shell.execute_reply": "2021-12-29T03:56:35.607662Z",
     "shell.execute_reply.started": "2021-12-29T03:56:35.603994Z"
    },
    "tags": []
   },
   "outputs": [],
   "source": [
    "runSimple = True\n",
    "runValidated = True\n",
    "runValidated2 = True\n",
    "runReg = True\n",
    "runOhe = True"
   ]
  },
  {
   "cell_type": "markdown",
   "id": "f1c590df-60bb-4c53-91e7-2da0c3476415",
   "metadata": {},
   "source": [
    "**Save :** Guardar Modelo (pisa anterior)"
   ]
  },
  {
   "cell_type": "code",
   "execution_count": 7,
   "id": "6f9b41b6-3059-4967-a9c7-c00188c3e415",
   "metadata": {
    "execution": {
     "iopub.execute_input": "2021-12-29T03:56:35.610306Z",
     "iopub.status.busy": "2021-12-29T03:56:35.609454Z",
     "iopub.status.idle": "2021-12-29T03:56:35.615586Z",
     "shell.execute_reply": "2021-12-29T03:56:35.614407Z",
     "shell.execute_reply.started": "2021-12-29T03:56:35.610273Z"
    },
    "tags": []
   },
   "outputs": [],
   "source": [
    "saveSimple = True\n",
    "saveValidated = True\n",
    "saveValidated2 = True\n",
    "saveReg = True\n",
    "saveOhe = True\n",
    "saveBest = True"
   ]
  },
  {
   "cell_type": "code",
   "execution_count": 8,
   "id": "7b29b429-817c-4421-ae00-f1261b975354",
   "metadata": {
    "execution": {
     "iopub.execute_input": "2021-12-29T03:56:35.617277Z",
     "iopub.status.busy": "2021-12-29T03:56:35.617020Z",
     "iopub.status.idle": "2021-12-29T03:56:35.621638Z",
     "shell.execute_reply": "2021-12-29T03:56:35.620908Z",
     "shell.execute_reply.started": "2021-12-29T03:56:35.617233Z"
    }
   },
   "outputs": [],
   "source": [
    "predictions = pd.DataFrame()"
   ]
  },
  {
   "cell_type": "markdown",
   "id": "e6b58791-7d09-4d8a-8fcd-2b5e207db9fd",
   "metadata": {},
   "source": [
    "### Preprocesamiento"
   ]
  },
  {
   "cell_type": "code",
   "execution_count": 9,
   "id": "2e086941-2bc4-49ea-8bd8-91682b5a619a",
   "metadata": {
    "execution": {
     "iopub.execute_input": "2021-12-29T03:56:35.623580Z",
     "iopub.status.busy": "2021-12-29T03:56:35.623185Z",
     "iopub.status.idle": "2021-12-29T03:56:37.732927Z",
     "shell.execute_reply": "2021-12-29T03:56:37.732076Z",
     "shell.execute_reply.started": "2021-12-29T03:56:35.623551Z"
    },
    "tags": []
   },
   "outputs": [
    {
     "data": {
      "text/html": [
       "<div>\n",
       "<style scoped>\n",
       "    .dataframe tbody tr th:only-of-type {\n",
       "        vertical-align: middle;\n",
       "    }\n",
       "\n",
       "    .dataframe tbody tr th {\n",
       "        vertical-align: top;\n",
       "    }\n",
       "\n",
       "    .dataframe thead th {\n",
       "        text-align: right;\n",
       "    }\n",
       "</style>\n",
       "<table border=\"1\" class=\"dataframe\">\n",
       "  <thead>\n",
       "    <tr style=\"text-align: right;\">\n",
       "      <th></th>\n",
       "      <th>horas_de_sol</th>\n",
       "      <th>humedad_tarde</th>\n",
       "      <th>humedad_temprano</th>\n",
       "      <th>mm_evaporados_agua</th>\n",
       "      <th>mm_lluvia_dia</th>\n",
       "      <th>nubosidad_tarde</th>\n",
       "      <th>nubosidad_temprano</th>\n",
       "      <th>presion_atmosferica_tarde</th>\n",
       "      <th>presion_atmosferica_temprano</th>\n",
       "      <th>rafaga_viento_max_velocidad</th>\n",
       "      <th>...</th>\n",
       "      <th>missing_rafaga_viento_max_velocidad</th>\n",
       "      <th>missing_temp_max</th>\n",
       "      <th>missing_temp_min</th>\n",
       "      <th>missing_temperatura_tarde</th>\n",
       "      <th>missing_temperatura_temprano</th>\n",
       "      <th>missing_velocidad_viendo_tarde</th>\n",
       "      <th>missing_velocidad_viendo_temprano</th>\n",
       "      <th>y</th>\n",
       "      <th>m</th>\n",
       "      <th>d</th>\n",
       "    </tr>\n",
       "    <tr>\n",
       "      <th>id</th>\n",
       "      <th></th>\n",
       "      <th></th>\n",
       "      <th></th>\n",
       "      <th></th>\n",
       "      <th></th>\n",
       "      <th></th>\n",
       "      <th></th>\n",
       "      <th></th>\n",
       "      <th></th>\n",
       "      <th></th>\n",
       "      <th></th>\n",
       "      <th></th>\n",
       "      <th></th>\n",
       "      <th></th>\n",
       "      <th></th>\n",
       "      <th></th>\n",
       "      <th></th>\n",
       "      <th></th>\n",
       "      <th></th>\n",
       "      <th></th>\n",
       "      <th></th>\n",
       "    </tr>\n",
       "  </thead>\n",
       "  <tbody>\n",
       "    <tr>\n",
       "      <th>74816</th>\n",
       "      <td>7.629393</td>\n",
       "      <td>78.0</td>\n",
       "      <td>74.0</td>\n",
       "      <td>5.470542</td>\n",
       "      <td>68.0</td>\n",
       "      <td>4.50597</td>\n",
       "      <td>4.430203</td>\n",
       "      <td>1024.200000</td>\n",
       "      <td>1026.200000</td>\n",
       "      <td>48.0</td>\n",
       "      <td>...</td>\n",
       "      <td>False</td>\n",
       "      <td>False</td>\n",
       "      <td>False</td>\n",
       "      <td>False</td>\n",
       "      <td>False</td>\n",
       "      <td>False</td>\n",
       "      <td>False</td>\n",
       "      <td>2014</td>\n",
       "      <td>6</td>\n",
       "      <td>7</td>\n",
       "    </tr>\n",
       "    <tr>\n",
       "      <th>64318</th>\n",
       "      <td>7.629393</td>\n",
       "      <td>14.0</td>\n",
       "      <td>56.0</td>\n",
       "      <td>5.470542</td>\n",
       "      <td>5.8</td>\n",
       "      <td>1.00000</td>\n",
       "      <td>4.430203</td>\n",
       "      <td>998.300000</td>\n",
       "      <td>1002.500000</td>\n",
       "      <td>61.0</td>\n",
       "      <td>...</td>\n",
       "      <td>False</td>\n",
       "      <td>False</td>\n",
       "      <td>False</td>\n",
       "      <td>False</td>\n",
       "      <td>False</td>\n",
       "      <td>False</td>\n",
       "      <td>False</td>\n",
       "      <td>2014</td>\n",
       "      <td>12</td>\n",
       "      <td>7</td>\n",
       "    </tr>\n",
       "    <tr>\n",
       "      <th>54357</th>\n",
       "      <td>2.600000</td>\n",
       "      <td>79.0</td>\n",
       "      <td>47.0</td>\n",
       "      <td>5.470542</td>\n",
       "      <td>0.0</td>\n",
       "      <td>8.00000</td>\n",
       "      <td>7.000000</td>\n",
       "      <td>1000.500000</td>\n",
       "      <td>1005.800000</td>\n",
       "      <td>57.0</td>\n",
       "      <td>...</td>\n",
       "      <td>False</td>\n",
       "      <td>False</td>\n",
       "      <td>False</td>\n",
       "      <td>False</td>\n",
       "      <td>False</td>\n",
       "      <td>False</td>\n",
       "      <td>False</td>\n",
       "      <td>2010</td>\n",
       "      <td>7</td>\n",
       "      <td>8</td>\n",
       "    </tr>\n",
       "    <tr>\n",
       "      <th>1762</th>\n",
       "      <td>0.000000</td>\n",
       "      <td>92.0</td>\n",
       "      <td>96.0</td>\n",
       "      <td>3.000000</td>\n",
       "      <td>5.0</td>\n",
       "      <td>8.00000</td>\n",
       "      <td>8.000000</td>\n",
       "      <td>1015.400000</td>\n",
       "      <td>1016.800000</td>\n",
       "      <td>54.0</td>\n",
       "      <td>...</td>\n",
       "      <td>False</td>\n",
       "      <td>False</td>\n",
       "      <td>False</td>\n",
       "      <td>False</td>\n",
       "      <td>False</td>\n",
       "      <td>False</td>\n",
       "      <td>False</td>\n",
       "      <td>2015</td>\n",
       "      <td>11</td>\n",
       "      <td>4</td>\n",
       "    </tr>\n",
       "    <tr>\n",
       "      <th>89422</th>\n",
       "      <td>7.629393</td>\n",
       "      <td>14.0</td>\n",
       "      <td>37.0</td>\n",
       "      <td>5.470542</td>\n",
       "      <td>0.0</td>\n",
       "      <td>2.00000</td>\n",
       "      <td>4.430203</td>\n",
       "      <td>1006.400000</td>\n",
       "      <td>1011.100000</td>\n",
       "      <td>50.0</td>\n",
       "      <td>...</td>\n",
       "      <td>False</td>\n",
       "      <td>False</td>\n",
       "      <td>False</td>\n",
       "      <td>False</td>\n",
       "      <td>False</td>\n",
       "      <td>False</td>\n",
       "      <td>False</td>\n",
       "      <td>2014</td>\n",
       "      <td>12</td>\n",
       "      <td>22</td>\n",
       "    </tr>\n",
       "    <tr>\n",
       "      <th>...</th>\n",
       "      <td>...</td>\n",
       "      <td>...</td>\n",
       "      <td>...</td>\n",
       "      <td>...</td>\n",
       "      <td>...</td>\n",
       "      <td>...</td>\n",
       "      <td>...</td>\n",
       "      <td>...</td>\n",
       "      <td>...</td>\n",
       "      <td>...</td>\n",
       "      <td>...</td>\n",
       "      <td>...</td>\n",
       "      <td>...</td>\n",
       "      <td>...</td>\n",
       "      <td>...</td>\n",
       "      <td>...</td>\n",
       "      <td>...</td>\n",
       "      <td>...</td>\n",
       "      <td>...</td>\n",
       "      <td>...</td>\n",
       "      <td>...</td>\n",
       "    </tr>\n",
       "    <tr>\n",
       "      <th>49272</th>\n",
       "      <td>6.500000</td>\n",
       "      <td>63.0</td>\n",
       "      <td>44.0</td>\n",
       "      <td>3.800000</td>\n",
       "      <td>0.4</td>\n",
       "      <td>6.00000</td>\n",
       "      <td>2.000000</td>\n",
       "      <td>1011.800000</td>\n",
       "      <td>1014.500000</td>\n",
       "      <td>72.0</td>\n",
       "      <td>...</td>\n",
       "      <td>False</td>\n",
       "      <td>False</td>\n",
       "      <td>False</td>\n",
       "      <td>False</td>\n",
       "      <td>False</td>\n",
       "      <td>False</td>\n",
       "      <td>False</td>\n",
       "      <td>2012</td>\n",
       "      <td>5</td>\n",
       "      <td>23</td>\n",
       "    </tr>\n",
       "    <tr>\n",
       "      <th>13885</th>\n",
       "      <td>2.100000</td>\n",
       "      <td>65.0</td>\n",
       "      <td>80.0</td>\n",
       "      <td>1.600000</td>\n",
       "      <td>5.2</td>\n",
       "      <td>7.00000</td>\n",
       "      <td>7.000000</td>\n",
       "      <td>1017.500000</td>\n",
       "      <td>1016.300000</td>\n",
       "      <td>48.0</td>\n",
       "      <td>...</td>\n",
       "      <td>False</td>\n",
       "      <td>False</td>\n",
       "      <td>False</td>\n",
       "      <td>False</td>\n",
       "      <td>False</td>\n",
       "      <td>False</td>\n",
       "      <td>False</td>\n",
       "      <td>2011</td>\n",
       "      <td>10</td>\n",
       "      <td>25</td>\n",
       "    </tr>\n",
       "    <tr>\n",
       "      <th>4586</th>\n",
       "      <td>7.629393</td>\n",
       "      <td>81.0</td>\n",
       "      <td>62.0</td>\n",
       "      <td>5.470542</td>\n",
       "      <td>0.0</td>\n",
       "      <td>4.50597</td>\n",
       "      <td>4.430203</td>\n",
       "      <td>1015.257118</td>\n",
       "      <td>1017.655555</td>\n",
       "      <td>35.0</td>\n",
       "      <td>...</td>\n",
       "      <td>False</td>\n",
       "      <td>False</td>\n",
       "      <td>False</td>\n",
       "      <td>False</td>\n",
       "      <td>False</td>\n",
       "      <td>False</td>\n",
       "      <td>False</td>\n",
       "      <td>2015</td>\n",
       "      <td>12</td>\n",
       "      <td>16</td>\n",
       "    </tr>\n",
       "    <tr>\n",
       "      <th>68030</th>\n",
       "      <td>0.900000</td>\n",
       "      <td>79.0</td>\n",
       "      <td>65.0</td>\n",
       "      <td>2.200000</td>\n",
       "      <td>0.0</td>\n",
       "      <td>8.00000</td>\n",
       "      <td>7.000000</td>\n",
       "      <td>1000.800000</td>\n",
       "      <td>1010.900000</td>\n",
       "      <td>56.0</td>\n",
       "      <td>...</td>\n",
       "      <td>False</td>\n",
       "      <td>False</td>\n",
       "      <td>False</td>\n",
       "      <td>False</td>\n",
       "      <td>False</td>\n",
       "      <td>False</td>\n",
       "      <td>False</td>\n",
       "      <td>2010</td>\n",
       "      <td>8</td>\n",
       "      <td>18</td>\n",
       "    </tr>\n",
       "    <tr>\n",
       "      <th>32535</th>\n",
       "      <td>10.700000</td>\n",
       "      <td>56.0</td>\n",
       "      <td>65.0</td>\n",
       "      <td>10.000000</td>\n",
       "      <td>0.0</td>\n",
       "      <td>2.00000</td>\n",
       "      <td>2.000000</td>\n",
       "      <td>1019.400000</td>\n",
       "      <td>1020.800000</td>\n",
       "      <td>48.0</td>\n",
       "      <td>...</td>\n",
       "      <td>False</td>\n",
       "      <td>False</td>\n",
       "      <td>False</td>\n",
       "      <td>False</td>\n",
       "      <td>False</td>\n",
       "      <td>False</td>\n",
       "      <td>False</td>\n",
       "      <td>2015</td>\n",
       "      <td>12</td>\n",
       "      <td>7</td>\n",
       "    </tr>\n",
       "  </tbody>\n",
       "</table>\n",
       "<p>102356 rows × 131 columns</p>\n",
       "</div>"
      ],
      "text/plain": [
       "       horas_de_sol  humedad_tarde  humedad_temprano  mm_evaporados_agua  \\\n",
       "id                                                                         \n",
       "74816      7.629393           78.0              74.0            5.470542   \n",
       "64318      7.629393           14.0              56.0            5.470542   \n",
       "54357      2.600000           79.0              47.0            5.470542   \n",
       "1762       0.000000           92.0              96.0            3.000000   \n",
       "89422      7.629393           14.0              37.0            5.470542   \n",
       "...             ...            ...               ...                 ...   \n",
       "49272      6.500000           63.0              44.0            3.800000   \n",
       "13885      2.100000           65.0              80.0            1.600000   \n",
       "4586       7.629393           81.0              62.0            5.470542   \n",
       "68030      0.900000           79.0              65.0            2.200000   \n",
       "32535     10.700000           56.0              65.0           10.000000   \n",
       "\n",
       "       mm_lluvia_dia  nubosidad_tarde  nubosidad_temprano  \\\n",
       "id                                                          \n",
       "74816           68.0          4.50597            4.430203   \n",
       "64318            5.8          1.00000            4.430203   \n",
       "54357            0.0          8.00000            7.000000   \n",
       "1762             5.0          8.00000            8.000000   \n",
       "89422            0.0          2.00000            4.430203   \n",
       "...              ...              ...                 ...   \n",
       "49272            0.4          6.00000            2.000000   \n",
       "13885            5.2          7.00000            7.000000   \n",
       "4586             0.0          4.50597            4.430203   \n",
       "68030            0.0          8.00000            7.000000   \n",
       "32535            0.0          2.00000            2.000000   \n",
       "\n",
       "       presion_atmosferica_tarde  presion_atmosferica_temprano  \\\n",
       "id                                                               \n",
       "74816                1024.200000                   1026.200000   \n",
       "64318                 998.300000                   1002.500000   \n",
       "54357                1000.500000                   1005.800000   \n",
       "1762                 1015.400000                   1016.800000   \n",
       "89422                1006.400000                   1011.100000   \n",
       "...                          ...                           ...   \n",
       "49272                1011.800000                   1014.500000   \n",
       "13885                1017.500000                   1016.300000   \n",
       "4586                 1015.257118                   1017.655555   \n",
       "68030                1000.800000                   1010.900000   \n",
       "32535                1019.400000                   1020.800000   \n",
       "\n",
       "       rafaga_viento_max_velocidad  ...  missing_rafaga_viento_max_velocidad  \\\n",
       "id                                  ...                                        \n",
       "74816                         48.0  ...                                False   \n",
       "64318                         61.0  ...                                False   \n",
       "54357                         57.0  ...                                False   \n",
       "1762                          54.0  ...                                False   \n",
       "89422                         50.0  ...                                False   \n",
       "...                            ...  ...                                  ...   \n",
       "49272                         72.0  ...                                False   \n",
       "13885                         48.0  ...                                False   \n",
       "4586                          35.0  ...                                False   \n",
       "68030                         56.0  ...                                False   \n",
       "32535                         48.0  ...                                False   \n",
       "\n",
       "       missing_temp_max  missing_temp_min  missing_temperatura_tarde  \\\n",
       "id                                                                     \n",
       "74816             False             False                      False   \n",
       "64318             False             False                      False   \n",
       "54357             False             False                      False   \n",
       "1762              False             False                      False   \n",
       "89422             False             False                      False   \n",
       "...                 ...               ...                        ...   \n",
       "49272             False             False                      False   \n",
       "13885             False             False                      False   \n",
       "4586              False             False                      False   \n",
       "68030             False             False                      False   \n",
       "32535             False             False                      False   \n",
       "\n",
       "       missing_temperatura_temprano  missing_velocidad_viendo_tarde  \\\n",
       "id                                                                    \n",
       "74816                         False                           False   \n",
       "64318                         False                           False   \n",
       "54357                         False                           False   \n",
       "1762                          False                           False   \n",
       "89422                         False                           False   \n",
       "...                             ...                             ...   \n",
       "49272                         False                           False   \n",
       "13885                         False                           False   \n",
       "4586                          False                           False   \n",
       "68030                         False                           False   \n",
       "32535                         False                           False   \n",
       "\n",
       "       missing_velocidad_viendo_temprano     y   m   d  \n",
       "id                                                      \n",
       "74816                              False  2014   6   7  \n",
       "64318                              False  2014  12   7  \n",
       "54357                              False  2010   7   8  \n",
       "1762                               False  2015  11   4  \n",
       "89422                              False  2014  12  22  \n",
       "...                                  ...   ...  ..  ..  \n",
       "49272                              False  2012   5  23  \n",
       "13885                              False  2011  10  25  \n",
       "4586                               False  2015  12  16  \n",
       "68030                              False  2010   8  18  \n",
       "32535                              False  2015  12   7  \n",
       "\n",
       "[102356 rows x 131 columns]"
      ]
     },
     "execution_count": 9,
     "metadata": {},
     "output_type": "execute_result"
    }
   ],
   "source": [
    "targetBooleano(df_targ, inplace=True)\n",
    "ohe_feat = reemplazarCategoricas_OHE(df_feat)\n",
    "\n",
    "reemplazarNulls(df_feat , inplace=True)\n",
    "reemplazarCategoricas(df_feat , inplace=True)\n",
    "reemplazarFechas(df_feat , inplace=True)\n",
    "df_feat_r = regularizar(df_feat)\n",
    "\n",
    "reemplazarNullsNum(ohe_feat, inplace=True)\n",
    "reemplazarFechas(ohe_feat , inplace=True)\n",
    "# keepFeat_OHE(ohe_feat, 10, inplace=True)"
   ]
  },
  {
   "cell_type": "code",
   "execution_count": 10,
   "id": "642171dc-c717-48aa-9f13-3d5115385741",
   "metadata": {
    "execution": {
     "iopub.execute_input": "2021-12-29T03:56:37.734707Z",
     "iopub.status.busy": "2021-12-29T03:56:37.734423Z",
     "iopub.status.idle": "2021-12-29T03:56:37.750999Z",
     "shell.execute_reply": "2021-12-29T03:56:37.750357Z",
     "shell.execute_reply.started": "2021-12-29T03:56:37.734680Z"
    },
    "tags": []
   },
   "outputs": [
    {
     "name": "stdout",
     "output_type": "stream",
     "text": [
      "<class 'pandas.core.frame.DataFrame'>\n",
      "Int64Index: 102356 entries, 74816 to 32535\n",
      "Data columns (total 23 columns):\n",
      " #   Column                        Non-Null Count   Dtype  \n",
      "---  ------                        --------------   -----  \n",
      " 0   direccion_viento_tarde        102356 non-null  float64\n",
      " 1   direccion_viento_temprano     102356 non-null  float64\n",
      " 2   horas_de_sol                  102356 non-null  float64\n",
      " 3   humedad_tarde                 102356 non-null  float64\n",
      " 4   humedad_temprano              102356 non-null  float64\n",
      " 5   llovieron_hamburguesas_hoy    102356 non-null  bool   \n",
      " 6   mm_evaporados_agua            102356 non-null  float64\n",
      " 7   mm_lluvia_dia                 102356 non-null  float64\n",
      " 8   nubosidad_tarde               102356 non-null  float64\n",
      " 9   nubosidad_temprano            102356 non-null  float64\n",
      " 10  presion_atmosferica_tarde     102356 non-null  float64\n",
      " 11  presion_atmosferica_temprano  102356 non-null  float64\n",
      " 12  rafaga_viento_max_direccion   102356 non-null  float64\n",
      " 13  rafaga_viento_max_velocidad   102356 non-null  float64\n",
      " 14  temp_max                      102356 non-null  float64\n",
      " 15  temp_min                      102356 non-null  float64\n",
      " 16  temperatura_tarde             102356 non-null  float64\n",
      " 17  temperatura_temprano          102356 non-null  float64\n",
      " 18  velocidad_viendo_tarde        102356 non-null  float64\n",
      " 19  velocidad_viendo_temprano     102356 non-null  float64\n",
      " 20  y                             102356 non-null  int64  \n",
      " 21  m                             102356 non-null  int64  \n",
      " 22  d                             102356 non-null  int64  \n",
      "dtypes: bool(1), float64(19), int64(3)\n",
      "memory usage: 18.1 MB\n"
     ]
    }
   ],
   "source": [
    "df_feat.info()"
   ]
  },
  {
   "cell_type": "code",
   "execution_count": 11,
   "id": "a21cd14d-72b8-46e3-a7ac-96ba3e4a42dc",
   "metadata": {
    "execution": {
     "iopub.execute_input": "2021-12-29T03:56:37.752325Z",
     "iopub.status.busy": "2021-12-29T03:56:37.751983Z",
     "iopub.status.idle": "2021-12-29T03:56:37.948754Z",
     "shell.execute_reply": "2021-12-29T03:56:37.948121Z",
     "shell.execute_reply.started": "2021-12-29T03:56:37.752296Z"
    },
    "tags": []
   },
   "outputs": [],
   "source": [
    "train_feat, val_feat, train_targ, val_targ = train_val( df_feat, df_targ, True )\n",
    "train_feat_r, val_feat_r, train_targ_r, val_targ_r = train_val( df_feat_r, df_targ, True )\n",
    "train_feat_ohe, val_feat_ohe, train_targ_ohe, val_targ_ohe = train_val( ohe_feat, df_targ, True )"
   ]
  },
  {
   "cell_type": "markdown",
   "id": "0644d54b-4e59-49d5-a8df-c627b574c2f3",
   "metadata": {},
   "source": [
    "## Entrenamiento"
   ]
  },
  {
   "cell_type": "markdown",
   "id": "12e60815-3880-48af-9fcc-527ec3ecec42",
   "metadata": {},
   "source": [
    "### Simple"
   ]
  },
  {
   "cell_type": "code",
   "execution_count": null,
   "id": "2bb0e7fa-49d3-4711-aa60-2a98afef1996",
   "metadata": {
    "execution": {
     "iopub.execute_input": "2021-12-29T03:56:37.954665Z",
     "iopub.status.busy": "2021-12-29T03:56:37.954443Z"
    },
    "tags": []
   },
   "outputs": [],
   "source": [
    "if (runSimple):\n",
    "    boost_simple = GradientBoostingClassifier(\n",
    "        random_state=1,\n",
    "        max_depth=3,\n",
    "        min_samples_split=200,\n",
    "    )\n",
    "    boost_simple.fit( train_feat, train_targ )\n",
    "    \n",
    "    # Guardar\n",
    "    if(saveSimple):\n",
    "        dump(boost_simple, 'models/Ensambles/boost_simple.sk') \n",
    "else:\n",
    "    # Cargar\n",
    "    boost_simple = load('models/Ensambles/boost_simple.sk')"
   ]
  },
  {
   "cell_type": "code",
   "execution_count": null,
   "id": "13fd98df-4710-49ba-8c42-a630eb2987df",
   "metadata": {
    "tags": []
   },
   "outputs": [],
   "source": [
    "%time\n",
    "pred = boost_simple.predict(val_feat)\n",
    "prob = boost_simple.predict_proba(val_feat)\n",
    "score(val_targ, pred, prob[:,1])"
   ]
  },
  {
   "cell_type": "code",
   "execution_count": null,
   "id": "536567f3-5fe9-4d10-ab93-7ff0308c8788",
   "metadata": {},
   "outputs": [],
   "source": [
    "pdf = score2('Simple','Basico',val_targ, pred, prob[:,1])\n",
    "predictions = predictions.append( pdf )"
   ]
  },
  {
   "cell_type": "markdown",
   "id": "530e14b5-501c-4cf5-87fc-b57e4559f24c",
   "metadata": {},
   "source": [
    "### Validado"
   ]
  },
  {
   "cell_type": "code",
   "execution_count": null,
   "id": "0be2b1be-0ddb-43e5-9966-8364904b477e",
   "metadata": {
    "scrolled": true,
    "tags": []
   },
   "outputs": [],
   "source": [
    "if( runValidated ):\n",
    "    boost = GradientBoostingClassifier(\n",
    "        random_state=1,\n",
    "    )\n",
    "    \n",
    "    params = {\n",
    "        'max_depth': np.arange(1, 20, 1),\n",
    "        'min_samples_leaf': np.arange(50, 1000, 50),\n",
    "        'n_estimators': np.arange(50,500,50),\n",
    "        'loss': ['deviance', 'exponential'],\n",
    "        'learning_rate': [0.05,0.1,0.2],\n",
    "    }\n",
    "    \n",
    "    boost_grid = RandomizedSearchCV(\n",
    "        boost,\n",
    "        params,\n",
    "        scoring='roc_auc',\n",
    "        n_jobs=MAX_JOBS,\n",
    "        return_train_score=True,\n",
    "        verbose=1\n",
    "    ).fit(train_feat, train_targ)\n",
    "    \n",
    "    # Guardar\n",
    "    if(saveValidated):\n",
    "        dump(boost_grid, 'models/Ensambles/boost_grid.sk')\n",
    "else:\n",
    "    # Cargar\n",
    "    boost_grid = load('models/Ensambles/boost_grid.sk')"
   ]
  },
  {
   "cell_type": "code",
   "execution_count": null,
   "id": "63a6b4bc-e597-46dc-9146-e255adc0e118",
   "metadata": {
    "tags": []
   },
   "outputs": [],
   "source": [
    "print(f\"Best score: {boost_grid.best_score_}\")\n",
    "print(f\"Best params {boost_grid.best_params_}\")"
   ]
  },
  {
   "cell_type": "code",
   "execution_count": null,
   "id": "3d93138b-9a57-47e0-81a1-820e8fc2e0c9",
   "metadata": {},
   "outputs": [],
   "source": [
    "boost = boost_grid.best_estimator_"
   ]
  },
  {
   "cell_type": "code",
   "execution_count": null,
   "id": "1698b124-275e-4a0c-b83c-39ee13760708",
   "metadata": {},
   "outputs": [],
   "source": [
    "%%time\n",
    "pred = boost.predict(val_feat)\n",
    "prob = boost.predict_proba(val_feat)\n",
    "score(val_targ, pred, prob[:,1])"
   ]
  },
  {
   "cell_type": "code",
   "execution_count": null,
   "id": "f4d9a5b4-c829-44c5-b3e1-b9afba327668",
   "metadata": {},
   "outputs": [],
   "source": [
    "pdf = score2('Val','Basico',val_targ, pred, prob[:,1])\n",
    "predictions = predictions.append( pdf )"
   ]
  },
  {
   "cell_type": "markdown",
   "id": "133d5232-3d45-4378-b7fc-93624ae3bbb7",
   "metadata": {},
   "source": [
    "### Optimizando mas hiperparametros"
   ]
  },
  {
   "cell_type": "code",
   "execution_count": null,
   "id": "775f5db0-8eec-4380-94c4-823c528f327c",
   "metadata": {
    "tags": []
   },
   "outputs": [],
   "source": [
    "if( runValidated2 ):\n",
    "    boost2 = GradientBoostingClassifier(\n",
    "        random_state=1,\n",
    "    )\n",
    "    \n",
    "    params = {\n",
    "        'max_depth': np.arange(15, 19, 1),\n",
    "        'min_samples_leaf': np.arange(50, 200, 50),\n",
    "        'min_samples_split': np.arange(50, 200, 50),\n",
    "        'n_estimators': np.arange(200,500,100),\n",
    "        'loss': ['deviance', 'exponential'],\n",
    "        'learning_rate': [0.03,0.05,0.07],\n",
    "        'criterion' :['friedman_mse','squared_error']\n",
    "    }\n",
    "    \n",
    "    boost_grid2 = HalvingGridSearchCV(\n",
    "        boost2,\n",
    "        params,\n",
    "        scoring='roc_auc',\n",
    "        n_jobs=MAX_JOBS,\n",
    "        return_train_score=True,\n",
    "        verbose=1\n",
    "    ).fit(train_feat, train_targ)\n",
    "    \n",
    "    # Guardar\n",
    "    if(saveValidated2):\n",
    "        dump(boost_grid2, 'models/Ensambles/boost2_grid.sk')\n",
    "else:\n",
    "    # Cargar\n",
    "    boost_grid2 = load('models/Ensambles/boost2_grid.sk')"
   ]
  },
  {
   "cell_type": "code",
   "execution_count": null,
   "id": "313337a2-bc3b-43a6-ad72-52bf3676a486",
   "metadata": {},
   "outputs": [],
   "source": [
    "print(f\"Best score: {boost_grid2.best_score_}\")\n",
    "print(f\"Best params {boost_grid2.best_params_}\")"
   ]
  },
  {
   "cell_type": "code",
   "execution_count": null,
   "id": "11288bbc-4417-4b57-8353-c3b4a6cc8f5a",
   "metadata": {},
   "outputs": [],
   "source": [
    "boost2 = boost_grid2.best_estimator_"
   ]
  },
  {
   "cell_type": "code",
   "execution_count": null,
   "id": "ad108361-7982-499a-ae4e-463ba922c148",
   "metadata": {},
   "outputs": [],
   "source": [
    "%%time\n",
    "pred = boost2.predict(val_feat)\n",
    "prob = boost2.predict_proba(val_feat)\n",
    "score(val_targ, pred2, prob2[:,1])"
   ]
  },
  {
   "cell_type": "code",
   "execution_count": null,
   "id": "1a84165a-9e43-4bd0-9ed6-449e8c83e7ee",
   "metadata": {},
   "outputs": [],
   "source": [
    "pdf = score2('Opt','Basico',val_targ, pred, prob[:,1])\n",
    "predictions = predictions.append( pdf )"
   ]
  },
  {
   "cell_type": "markdown",
   "id": "f343196c-df0e-458e-a8b0-95d327c30f2b",
   "metadata": {},
   "source": [
    "### Reg"
   ]
  },
  {
   "cell_type": "code",
   "execution_count": null,
   "id": "96c45f44-d917-4c29-9d6e-02143175a867",
   "metadata": {
    "tags": []
   },
   "outputs": [],
   "source": [
    "if( runReg ):\n",
    "    boost3 = GradientBoostingClassifier(\n",
    "        random_state=1,\n",
    "    )\n",
    "    \n",
    "    params = {\n",
    "        'max_depth': np.arange(1, 20, 1),\n",
    "        'min_samples_leaf': np.arange(50, 1000, 50),\n",
    "        'n_estimators': np.arange(50,500,50),\n",
    "        'loss': ['deviance', 'exponential'],\n",
    "        'learning_rate': [0.05,0.1,0.2],\n",
    "    }\n",
    "    \n",
    "    boost_grid3 = RandomizedSearchCV(\n",
    "        boost3,\n",
    "        params,\n",
    "        scoring='roc_auc',\n",
    "        n_jobs=MAX_JOBS,\n",
    "        return_train_score=True,\n",
    "        verbose=1\n",
    "    ).fit(train_feat_r, train_targ_r)\n",
    "    \n",
    "    # Guardar\n",
    "    if(saveReg):\n",
    "        dump(boost_grid3, 'models/Ensambles/boost_grid_r.sk')\n",
    "else:\n",
    "    # Cargar\n",
    "    boost_grid3 = load('models/Ensambles/boost_grid_r.sk')"
   ]
  },
  {
   "cell_type": "code",
   "execution_count": null,
   "id": "08b97ba0-aded-4b8f-bb0c-0fd62728c01e",
   "metadata": {
    "tags": []
   },
   "outputs": [],
   "source": [
    "print(f\"Best score: {boost_grid3.best_score_}\")\n",
    "print(f\"Best params {boost_grid3.best_params_}\")"
   ]
  },
  {
   "cell_type": "code",
   "execution_count": null,
   "id": "b4c0d7d2-3f9b-499d-84d3-1ecfcba35688",
   "metadata": {
    "tags": []
   },
   "outputs": [],
   "source": [
    "boost3 = boost_grid3.best_estimator_"
   ]
  },
  {
   "cell_type": "code",
   "execution_count": null,
   "id": "43863c2a-8549-40bd-b5d3-6bc805712b25",
   "metadata": {},
   "outputs": [],
   "source": [
    "%%time\n",
    "pred = boost3.predict(val_feat_r)\n",
    "prob = boost3.predict_proba(val_feat_r)\n",
    "score(val_targ_r, pred3, prob3[:,1])"
   ]
  },
  {
   "cell_type": "code",
   "execution_count": null,
   "id": "3e54677f-db90-44d3-a22d-a550e40e1123",
   "metadata": {},
   "outputs": [],
   "source": [
    "pdf = score2('Reg','Regularizado',val_targ_r, pred, prob[:,1])\n",
    "predictions = predictions.append( pdf )"
   ]
  },
  {
   "cell_type": "markdown",
   "id": "2aa3746f-2f5b-4364-941b-12f858933444",
   "metadata": {},
   "source": [
    "### One Hot Encoding"
   ]
  },
  {
   "cell_type": "code",
   "execution_count": null,
   "id": "0a5b3d82-c54f-4638-b094-f950184b2637",
   "metadata": {
    "tags": []
   },
   "outputs": [],
   "source": [
    "if( runReg ):\n",
    "    boost4 = GradientBoostingClassifier(\n",
    "        random_state=1,\n",
    "    )\n",
    "    \n",
    "    params = {\n",
    "        'max_depth': np.arange(1, 20, 1),\n",
    "        'min_samples_leaf': np.arange(50, 1000, 50),\n",
    "        'n_estimators': np.arange(50,500,50),\n",
    "        'loss': ['deviance', 'exponential'],\n",
    "        'learning_rate': [0.05,0.1,0.2],\n",
    "    }\n",
    "    \n",
    "    boost_grid4 = RandomizedSearchCV(\n",
    "        boost4,\n",
    "        params,\n",
    "        scoring='roc_auc',\n",
    "        n_jobs=MAX_JOBS,\n",
    "        return_train_score=True,\n",
    "        verbose=1\n",
    "    ).fit(train_feat_ohe, train_targ_ohe)\n",
    "    \n",
    "    # Guardar\n",
    "    if(saveReg):\n",
    "        dump(boost_grid4, 'models/Ensambles/boost_grid_ohe.sk')\n",
    "else:\n",
    "    # Cargar\n",
    "    boost_grid4 = load('models/Ensambles/boost_grid_ohe.sk')"
   ]
  },
  {
   "cell_type": "code",
   "execution_count": null,
   "id": "7d4fad13-b84b-4090-b7ae-eee3e9665561",
   "metadata": {
    "tags": []
   },
   "outputs": [],
   "source": [
    "print(f\"Best score: {boost_grid4.best_score_}\")\n",
    "print(f\"Best params {boost_grid4.best_params_}\")"
   ]
  },
  {
   "cell_type": "code",
   "execution_count": null,
   "id": "9d774635-bccc-4052-92ac-39eb1357a99d",
   "metadata": {
    "tags": []
   },
   "outputs": [],
   "source": [
    "boost3 = boost_grid3.best_estimator_"
   ]
  },
  {
   "cell_type": "code",
   "execution_count": null,
   "id": "10410bba-02f0-406f-9f6a-ffc92fc9ce51",
   "metadata": {},
   "outputs": [],
   "source": [
    "%%time\n",
    "pred = boost3.predict(val_feat_ohe)\n",
    "prob = boost3.predict_proba(val_feat_ohe)\n",
    "score(val_targ_ohe, pred3, prob3[:,1])"
   ]
  },
  {
   "cell_type": "code",
   "execution_count": null,
   "id": "731b779c-53f3-40e5-942e-0f6ce63558e6",
   "metadata": {},
   "outputs": [],
   "source": [
    "pdf = score2('Reg','Regularizado',val_targ_ohe, pred, prob[:,1])\n",
    "predictions = predictions.append( pdf )"
   ]
  },
  {
   "cell_type": "markdown",
   "id": "825ffe24-2c97-45fe-b1ed-34aa9fc7f2bd",
   "metadata": {},
   "source": [
    "## Predictions"
   ]
  },
  {
   "cell_type": "code",
   "execution_count": null,
   "id": "f5f00c9b-7529-4f12-a432-ad83c4af635b",
   "metadata": {},
   "outputs": [],
   "source": [
    "predictions"
   ]
  },
  {
   "cell_type": "code",
   "execution_count": null,
   "id": "ef0923a2-fdc2-4983-a694-8a5114d0e807",
   "metadata": {},
   "outputs": [],
   "source": [
    "if(saveBest):\n",
    "    print(\"todo\")\n",
    "    #dump(forest_grid.best_estimator_, 'models/Ensambles/random_forest.sk')"
   ]
  }
 ],
 "metadata": {
  "kernelspec": {
   "display_name": "Python 3 (ipykernel)",
   "language": "python",
   "name": "python3"
  },
  "language_info": {
   "codemirror_mode": {
    "name": "ipython",
    "version": 3
   },
   "file_extension": ".py",
   "mimetype": "text/x-python",
   "name": "python",
   "nbconvert_exporter": "python",
   "pygments_lexer": "ipython3",
   "version": "3.9.9"
  }
 },
 "nbformat": 4,
 "nbformat_minor": 5
}
