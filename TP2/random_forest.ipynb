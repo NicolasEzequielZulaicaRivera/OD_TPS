{
 "cells": [
  {
   "cell_type": "markdown",
   "id": "3308d311-40d7-4259-a828-7a57b1c0697c",
   "metadata": {},
   "source": [
    "# Random Forest"
   ]
  },
  {
   "cell_type": "markdown",
   "id": "2052667d-db58-4679-830a-e39d8750ef0a",
   "metadata": {},
   "source": [
    "### Imports"
   ]
  },
  {
   "cell_type": "code",
   "execution_count": 1,
   "id": "57fe6f06-9c8e-4d61-97ae-d6a56db43ce2",
   "metadata": {
    "execution": {
     "iopub.execute_input": "2021-12-29T03:53:11.327169Z",
     "iopub.status.busy": "2021-12-29T03:53:11.326843Z",
     "iopub.status.idle": "2021-12-29T03:53:12.384687Z",
     "shell.execute_reply": "2021-12-29T03:53:12.383945Z",
     "shell.execute_reply.started": "2021-12-29T03:53:11.327115Z"
    }
   },
   "outputs": [],
   "source": [
    "import pandas as pd\n",
    "import numpy as np\n",
    "from matplotlib import pyplot as plt\n",
    "from joblib import dump, load"
   ]
  },
  {
   "cell_type": "code",
   "execution_count": 2,
   "id": "a49e6792-264c-4416-9d7a-2fd751337a76",
   "metadata": {
    "execution": {
     "iopub.execute_input": "2021-12-29T03:53:12.386077Z",
     "iopub.status.busy": "2021-12-29T03:53:12.385655Z",
     "iopub.status.idle": "2021-12-29T03:53:12.726910Z",
     "shell.execute_reply": "2021-12-29T03:53:12.726293Z",
     "shell.execute_reply.started": "2021-12-29T03:53:12.386053Z"
    }
   },
   "outputs": [],
   "source": [
    "from sklearn.ensemble import RandomForestClassifier\n",
    "from sklearn.experimental import enable_halving_search_cv\n",
    "from sklearn.model_selection import HalvingGridSearchCV\n",
    "from sklearn import tree"
   ]
  },
  {
   "cell_type": "code",
   "execution_count": 3,
   "id": "ecbe57a8-73db-45f4-a21d-4f876860ec06",
   "metadata": {
    "execution": {
     "iopub.execute_input": "2021-12-29T03:53:12.729903Z",
     "iopub.status.busy": "2021-12-29T03:53:12.729637Z",
     "iopub.status.idle": "2021-12-29T03:53:14.062211Z",
     "shell.execute_reply": "2021-12-29T03:53:14.061646Z",
     "shell.execute_reply.started": "2021-12-29T03:53:12.729880Z"
    }
   },
   "outputs": [
    {
     "name": "stdout",
     "output_type": "stream",
     "text": [
      "[###] Initial Preprocessings Done                           \n",
      "[###] Aditional Preprocessings Done                                                   \n"
     ]
    }
   ],
   "source": [
    "from preprocessing import reemplazarNulls,reemplazarCategoricas,reemplazarFechas,regularizar,targetBooleano,reemplazarCategoricas_OHE,reemplazarNullsNum,keepFeat_OHE"
   ]
  },
  {
   "cell_type": "code",
   "execution_count": 4,
   "id": "ae53c637-7f02-4802-9add-5a35ced69f64",
   "metadata": {
    "execution": {
     "iopub.execute_input": "2021-12-29T03:53:14.063491Z",
     "iopub.status.busy": "2021-12-29T03:53:14.063083Z",
     "iopub.status.idle": "2021-12-29T03:53:14.448749Z",
     "shell.execute_reply": "2021-12-29T03:53:14.448050Z",
     "shell.execute_reply.started": "2021-12-29T03:53:14.063469Z"
    }
   },
   "outputs": [],
   "source": [
    "from utilities import score, score2, df_feat, df_targ, train_val"
   ]
  },
  {
   "cell_type": "markdown",
   "id": "1aa60fef-ad74-400f-8ef7-8255160828a9",
   "metadata": {},
   "source": [
    "### Codigo a correr"
   ]
  },
  {
   "cell_type": "code",
   "execution_count": 5,
   "id": "cac84d06-6216-46dc-9d75-3044c9a63f5d",
   "metadata": {
    "execution": {
     "iopub.execute_input": "2021-12-29T03:53:14.450805Z",
     "iopub.status.busy": "2021-12-29T03:53:14.450363Z",
     "iopub.status.idle": "2021-12-29T03:53:14.454143Z",
     "shell.execute_reply": "2021-12-29T03:53:14.452928Z",
     "shell.execute_reply.started": "2021-12-29T03:53:14.450783Z"
    },
    "tags": []
   },
   "outputs": [],
   "source": [
    "MAX_JOBS = -1"
   ]
  },
  {
   "cell_type": "markdown",
   "id": "c99e8bfe-0edd-4db5-a218-1cf71f809d2d",
   "metadata": {},
   "source": [
    "**Run :** Entrenar Nuevamente o Cargar Entrenado"
   ]
  },
  {
   "cell_type": "code",
   "execution_count": 6,
   "id": "cd65bc5e-db28-4191-9e7f-0932bbd738a3",
   "metadata": {
    "execution": {
     "iopub.execute_input": "2021-12-29T03:53:14.456070Z",
     "iopub.status.busy": "2021-12-29T03:53:14.455834Z",
     "iopub.status.idle": "2021-12-29T03:53:14.460195Z",
     "shell.execute_reply": "2021-12-29T03:53:14.459363Z",
     "shell.execute_reply.started": "2021-12-29T03:53:14.456047Z"
    },
    "tags": []
   },
   "outputs": [],
   "source": [
    "runSimple = True\n",
    "runValidated = False\n",
    "runReg = False\n",
    "runOhe = True"
   ]
  },
  {
   "cell_type": "markdown",
   "id": "f1c590df-60bb-4c53-91e7-2da0c3476415",
   "metadata": {},
   "source": [
    "**Save :** Guardar Modelo (pisa anterior)"
   ]
  },
  {
   "cell_type": "code",
   "execution_count": 7,
   "id": "6f9b41b6-3059-4967-a9c7-c00188c3e415",
   "metadata": {
    "execution": {
     "iopub.execute_input": "2021-12-29T03:53:14.462305Z",
     "iopub.status.busy": "2021-12-29T03:53:14.461819Z",
     "iopub.status.idle": "2021-12-29T03:53:14.467601Z",
     "shell.execute_reply": "2021-12-29T03:53:14.466394Z",
     "shell.execute_reply.started": "2021-12-29T03:53:14.462269Z"
    },
    "tags": []
   },
   "outputs": [],
   "source": [
    "saveSimple = True\n",
    "saveValidated = True\n",
    "saveReg = True\n",
    "saveOhe = True\n",
    "saveBest = True"
   ]
  },
  {
   "cell_type": "code",
   "execution_count": 8,
   "id": "db824ef5-137d-4e2d-95f3-3a4fd4c43709",
   "metadata": {
    "execution": {
     "iopub.execute_input": "2021-12-29T03:53:14.468644Z",
     "iopub.status.busy": "2021-12-29T03:53:14.468431Z",
     "iopub.status.idle": "2021-12-29T03:53:14.475394Z",
     "shell.execute_reply": "2021-12-29T03:53:14.474755Z",
     "shell.execute_reply.started": "2021-12-29T03:53:14.468625Z"
    }
   },
   "outputs": [],
   "source": [
    "predictions = pd.DataFrame()"
   ]
  },
  {
   "cell_type": "markdown",
   "id": "e6b58791-7d09-4d8a-8fcd-2b5e207db9fd",
   "metadata": {},
   "source": [
    "### Preprocesamiento"
   ]
  },
  {
   "cell_type": "code",
   "execution_count": 9,
   "id": "2e086941-2bc4-49ea-8bd8-91682b5a619a",
   "metadata": {
    "execution": {
     "iopub.execute_input": "2021-12-29T03:53:14.476454Z",
     "iopub.status.busy": "2021-12-29T03:53:14.476163Z",
     "iopub.status.idle": "2021-12-29T03:53:16.699810Z",
     "shell.execute_reply": "2021-12-29T03:53:16.699094Z",
     "shell.execute_reply.started": "2021-12-29T03:53:14.476432Z"
    },
    "tags": []
   },
   "outputs": [
    {
     "data": {
      "text/html": [
       "<div>\n",
       "<style scoped>\n",
       "    .dataframe tbody tr th:only-of-type {\n",
       "        vertical-align: middle;\n",
       "    }\n",
       "\n",
       "    .dataframe tbody tr th {\n",
       "        vertical-align: top;\n",
       "    }\n",
       "\n",
       "    .dataframe thead th {\n",
       "        text-align: right;\n",
       "    }\n",
       "</style>\n",
       "<table border=\"1\" class=\"dataframe\">\n",
       "  <thead>\n",
       "    <tr style=\"text-align: right;\">\n",
       "      <th></th>\n",
       "      <th>horas_de_sol</th>\n",
       "      <th>humedad_tarde</th>\n",
       "      <th>humedad_temprano</th>\n",
       "      <th>mm_evaporados_agua</th>\n",
       "      <th>mm_lluvia_dia</th>\n",
       "      <th>nubosidad_tarde</th>\n",
       "      <th>nubosidad_temprano</th>\n",
       "      <th>presion_atmosferica_tarde</th>\n",
       "      <th>presion_atmosferica_temprano</th>\n",
       "      <th>rafaga_viento_max_velocidad</th>\n",
       "      <th>...</th>\n",
       "      <th>missing_rafaga_viento_max_velocidad</th>\n",
       "      <th>missing_temp_max</th>\n",
       "      <th>missing_temp_min</th>\n",
       "      <th>missing_temperatura_tarde</th>\n",
       "      <th>missing_temperatura_temprano</th>\n",
       "      <th>missing_velocidad_viendo_tarde</th>\n",
       "      <th>missing_velocidad_viendo_temprano</th>\n",
       "      <th>y</th>\n",
       "      <th>m</th>\n",
       "      <th>d</th>\n",
       "    </tr>\n",
       "    <tr>\n",
       "      <th>id</th>\n",
       "      <th></th>\n",
       "      <th></th>\n",
       "      <th></th>\n",
       "      <th></th>\n",
       "      <th></th>\n",
       "      <th></th>\n",
       "      <th></th>\n",
       "      <th></th>\n",
       "      <th></th>\n",
       "      <th></th>\n",
       "      <th></th>\n",
       "      <th></th>\n",
       "      <th></th>\n",
       "      <th></th>\n",
       "      <th></th>\n",
       "      <th></th>\n",
       "      <th></th>\n",
       "      <th></th>\n",
       "      <th></th>\n",
       "      <th></th>\n",
       "      <th></th>\n",
       "    </tr>\n",
       "  </thead>\n",
       "  <tbody>\n",
       "    <tr>\n",
       "      <th>74816</th>\n",
       "      <td>7.629393</td>\n",
       "      <td>78.0</td>\n",
       "      <td>74.0</td>\n",
       "      <td>5.470542</td>\n",
       "      <td>68.0</td>\n",
       "      <td>4.50597</td>\n",
       "      <td>4.430203</td>\n",
       "      <td>1024.200000</td>\n",
       "      <td>1026.200000</td>\n",
       "      <td>48.0</td>\n",
       "      <td>...</td>\n",
       "      <td>False</td>\n",
       "      <td>False</td>\n",
       "      <td>False</td>\n",
       "      <td>False</td>\n",
       "      <td>False</td>\n",
       "      <td>False</td>\n",
       "      <td>False</td>\n",
       "      <td>2014</td>\n",
       "      <td>6</td>\n",
       "      <td>7</td>\n",
       "    </tr>\n",
       "    <tr>\n",
       "      <th>64318</th>\n",
       "      <td>7.629393</td>\n",
       "      <td>14.0</td>\n",
       "      <td>56.0</td>\n",
       "      <td>5.470542</td>\n",
       "      <td>5.8</td>\n",
       "      <td>1.00000</td>\n",
       "      <td>4.430203</td>\n",
       "      <td>998.300000</td>\n",
       "      <td>1002.500000</td>\n",
       "      <td>61.0</td>\n",
       "      <td>...</td>\n",
       "      <td>False</td>\n",
       "      <td>False</td>\n",
       "      <td>False</td>\n",
       "      <td>False</td>\n",
       "      <td>False</td>\n",
       "      <td>False</td>\n",
       "      <td>False</td>\n",
       "      <td>2014</td>\n",
       "      <td>12</td>\n",
       "      <td>7</td>\n",
       "    </tr>\n",
       "    <tr>\n",
       "      <th>54357</th>\n",
       "      <td>2.600000</td>\n",
       "      <td>79.0</td>\n",
       "      <td>47.0</td>\n",
       "      <td>5.470542</td>\n",
       "      <td>0.0</td>\n",
       "      <td>8.00000</td>\n",
       "      <td>7.000000</td>\n",
       "      <td>1000.500000</td>\n",
       "      <td>1005.800000</td>\n",
       "      <td>57.0</td>\n",
       "      <td>...</td>\n",
       "      <td>False</td>\n",
       "      <td>False</td>\n",
       "      <td>False</td>\n",
       "      <td>False</td>\n",
       "      <td>False</td>\n",
       "      <td>False</td>\n",
       "      <td>False</td>\n",
       "      <td>2010</td>\n",
       "      <td>7</td>\n",
       "      <td>8</td>\n",
       "    </tr>\n",
       "    <tr>\n",
       "      <th>1762</th>\n",
       "      <td>0.000000</td>\n",
       "      <td>92.0</td>\n",
       "      <td>96.0</td>\n",
       "      <td>3.000000</td>\n",
       "      <td>5.0</td>\n",
       "      <td>8.00000</td>\n",
       "      <td>8.000000</td>\n",
       "      <td>1015.400000</td>\n",
       "      <td>1016.800000</td>\n",
       "      <td>54.0</td>\n",
       "      <td>...</td>\n",
       "      <td>False</td>\n",
       "      <td>False</td>\n",
       "      <td>False</td>\n",
       "      <td>False</td>\n",
       "      <td>False</td>\n",
       "      <td>False</td>\n",
       "      <td>False</td>\n",
       "      <td>2015</td>\n",
       "      <td>11</td>\n",
       "      <td>4</td>\n",
       "    </tr>\n",
       "    <tr>\n",
       "      <th>89422</th>\n",
       "      <td>7.629393</td>\n",
       "      <td>14.0</td>\n",
       "      <td>37.0</td>\n",
       "      <td>5.470542</td>\n",
       "      <td>0.0</td>\n",
       "      <td>2.00000</td>\n",
       "      <td>4.430203</td>\n",
       "      <td>1006.400000</td>\n",
       "      <td>1011.100000</td>\n",
       "      <td>50.0</td>\n",
       "      <td>...</td>\n",
       "      <td>False</td>\n",
       "      <td>False</td>\n",
       "      <td>False</td>\n",
       "      <td>False</td>\n",
       "      <td>False</td>\n",
       "      <td>False</td>\n",
       "      <td>False</td>\n",
       "      <td>2014</td>\n",
       "      <td>12</td>\n",
       "      <td>22</td>\n",
       "    </tr>\n",
       "    <tr>\n",
       "      <th>...</th>\n",
       "      <td>...</td>\n",
       "      <td>...</td>\n",
       "      <td>...</td>\n",
       "      <td>...</td>\n",
       "      <td>...</td>\n",
       "      <td>...</td>\n",
       "      <td>...</td>\n",
       "      <td>...</td>\n",
       "      <td>...</td>\n",
       "      <td>...</td>\n",
       "      <td>...</td>\n",
       "      <td>...</td>\n",
       "      <td>...</td>\n",
       "      <td>...</td>\n",
       "      <td>...</td>\n",
       "      <td>...</td>\n",
       "      <td>...</td>\n",
       "      <td>...</td>\n",
       "      <td>...</td>\n",
       "      <td>...</td>\n",
       "      <td>...</td>\n",
       "    </tr>\n",
       "    <tr>\n",
       "      <th>49272</th>\n",
       "      <td>6.500000</td>\n",
       "      <td>63.0</td>\n",
       "      <td>44.0</td>\n",
       "      <td>3.800000</td>\n",
       "      <td>0.4</td>\n",
       "      <td>6.00000</td>\n",
       "      <td>2.000000</td>\n",
       "      <td>1011.800000</td>\n",
       "      <td>1014.500000</td>\n",
       "      <td>72.0</td>\n",
       "      <td>...</td>\n",
       "      <td>False</td>\n",
       "      <td>False</td>\n",
       "      <td>False</td>\n",
       "      <td>False</td>\n",
       "      <td>False</td>\n",
       "      <td>False</td>\n",
       "      <td>False</td>\n",
       "      <td>2012</td>\n",
       "      <td>5</td>\n",
       "      <td>23</td>\n",
       "    </tr>\n",
       "    <tr>\n",
       "      <th>13885</th>\n",
       "      <td>2.100000</td>\n",
       "      <td>65.0</td>\n",
       "      <td>80.0</td>\n",
       "      <td>1.600000</td>\n",
       "      <td>5.2</td>\n",
       "      <td>7.00000</td>\n",
       "      <td>7.000000</td>\n",
       "      <td>1017.500000</td>\n",
       "      <td>1016.300000</td>\n",
       "      <td>48.0</td>\n",
       "      <td>...</td>\n",
       "      <td>False</td>\n",
       "      <td>False</td>\n",
       "      <td>False</td>\n",
       "      <td>False</td>\n",
       "      <td>False</td>\n",
       "      <td>False</td>\n",
       "      <td>False</td>\n",
       "      <td>2011</td>\n",
       "      <td>10</td>\n",
       "      <td>25</td>\n",
       "    </tr>\n",
       "    <tr>\n",
       "      <th>4586</th>\n",
       "      <td>7.629393</td>\n",
       "      <td>81.0</td>\n",
       "      <td>62.0</td>\n",
       "      <td>5.470542</td>\n",
       "      <td>0.0</td>\n",
       "      <td>4.50597</td>\n",
       "      <td>4.430203</td>\n",
       "      <td>1015.257118</td>\n",
       "      <td>1017.655555</td>\n",
       "      <td>35.0</td>\n",
       "      <td>...</td>\n",
       "      <td>False</td>\n",
       "      <td>False</td>\n",
       "      <td>False</td>\n",
       "      <td>False</td>\n",
       "      <td>False</td>\n",
       "      <td>False</td>\n",
       "      <td>False</td>\n",
       "      <td>2015</td>\n",
       "      <td>12</td>\n",
       "      <td>16</td>\n",
       "    </tr>\n",
       "    <tr>\n",
       "      <th>68030</th>\n",
       "      <td>0.900000</td>\n",
       "      <td>79.0</td>\n",
       "      <td>65.0</td>\n",
       "      <td>2.200000</td>\n",
       "      <td>0.0</td>\n",
       "      <td>8.00000</td>\n",
       "      <td>7.000000</td>\n",
       "      <td>1000.800000</td>\n",
       "      <td>1010.900000</td>\n",
       "      <td>56.0</td>\n",
       "      <td>...</td>\n",
       "      <td>False</td>\n",
       "      <td>False</td>\n",
       "      <td>False</td>\n",
       "      <td>False</td>\n",
       "      <td>False</td>\n",
       "      <td>False</td>\n",
       "      <td>False</td>\n",
       "      <td>2010</td>\n",
       "      <td>8</td>\n",
       "      <td>18</td>\n",
       "    </tr>\n",
       "    <tr>\n",
       "      <th>32535</th>\n",
       "      <td>10.700000</td>\n",
       "      <td>56.0</td>\n",
       "      <td>65.0</td>\n",
       "      <td>10.000000</td>\n",
       "      <td>0.0</td>\n",
       "      <td>2.00000</td>\n",
       "      <td>2.000000</td>\n",
       "      <td>1019.400000</td>\n",
       "      <td>1020.800000</td>\n",
       "      <td>48.0</td>\n",
       "      <td>...</td>\n",
       "      <td>False</td>\n",
       "      <td>False</td>\n",
       "      <td>False</td>\n",
       "      <td>False</td>\n",
       "      <td>False</td>\n",
       "      <td>False</td>\n",
       "      <td>False</td>\n",
       "      <td>2015</td>\n",
       "      <td>12</td>\n",
       "      <td>7</td>\n",
       "    </tr>\n",
       "  </tbody>\n",
       "</table>\n",
       "<p>102356 rows × 131 columns</p>\n",
       "</div>"
      ],
      "text/plain": [
       "       horas_de_sol  humedad_tarde  humedad_temprano  mm_evaporados_agua  \\\n",
       "id                                                                         \n",
       "74816      7.629393           78.0              74.0            5.470542   \n",
       "64318      7.629393           14.0              56.0            5.470542   \n",
       "54357      2.600000           79.0              47.0            5.470542   \n",
       "1762       0.000000           92.0              96.0            3.000000   \n",
       "89422      7.629393           14.0              37.0            5.470542   \n",
       "...             ...            ...               ...                 ...   \n",
       "49272      6.500000           63.0              44.0            3.800000   \n",
       "13885      2.100000           65.0              80.0            1.600000   \n",
       "4586       7.629393           81.0              62.0            5.470542   \n",
       "68030      0.900000           79.0              65.0            2.200000   \n",
       "32535     10.700000           56.0              65.0           10.000000   \n",
       "\n",
       "       mm_lluvia_dia  nubosidad_tarde  nubosidad_temprano  \\\n",
       "id                                                          \n",
       "74816           68.0          4.50597            4.430203   \n",
       "64318            5.8          1.00000            4.430203   \n",
       "54357            0.0          8.00000            7.000000   \n",
       "1762             5.0          8.00000            8.000000   \n",
       "89422            0.0          2.00000            4.430203   \n",
       "...              ...              ...                 ...   \n",
       "49272            0.4          6.00000            2.000000   \n",
       "13885            5.2          7.00000            7.000000   \n",
       "4586             0.0          4.50597            4.430203   \n",
       "68030            0.0          8.00000            7.000000   \n",
       "32535            0.0          2.00000            2.000000   \n",
       "\n",
       "       presion_atmosferica_tarde  presion_atmosferica_temprano  \\\n",
       "id                                                               \n",
       "74816                1024.200000                   1026.200000   \n",
       "64318                 998.300000                   1002.500000   \n",
       "54357                1000.500000                   1005.800000   \n",
       "1762                 1015.400000                   1016.800000   \n",
       "89422                1006.400000                   1011.100000   \n",
       "...                          ...                           ...   \n",
       "49272                1011.800000                   1014.500000   \n",
       "13885                1017.500000                   1016.300000   \n",
       "4586                 1015.257118                   1017.655555   \n",
       "68030                1000.800000                   1010.900000   \n",
       "32535                1019.400000                   1020.800000   \n",
       "\n",
       "       rafaga_viento_max_velocidad  ...  missing_rafaga_viento_max_velocidad  \\\n",
       "id                                  ...                                        \n",
       "74816                         48.0  ...                                False   \n",
       "64318                         61.0  ...                                False   \n",
       "54357                         57.0  ...                                False   \n",
       "1762                          54.0  ...                                False   \n",
       "89422                         50.0  ...                                False   \n",
       "...                            ...  ...                                  ...   \n",
       "49272                         72.0  ...                                False   \n",
       "13885                         48.0  ...                                False   \n",
       "4586                          35.0  ...                                False   \n",
       "68030                         56.0  ...                                False   \n",
       "32535                         48.0  ...                                False   \n",
       "\n",
       "       missing_temp_max  missing_temp_min  missing_temperatura_tarde  \\\n",
       "id                                                                     \n",
       "74816             False             False                      False   \n",
       "64318             False             False                      False   \n",
       "54357             False             False                      False   \n",
       "1762              False             False                      False   \n",
       "89422             False             False                      False   \n",
       "...                 ...               ...                        ...   \n",
       "49272             False             False                      False   \n",
       "13885             False             False                      False   \n",
       "4586              False             False                      False   \n",
       "68030             False             False                      False   \n",
       "32535             False             False                      False   \n",
       "\n",
       "       missing_temperatura_temprano  missing_velocidad_viendo_tarde  \\\n",
       "id                                                                    \n",
       "74816                         False                           False   \n",
       "64318                         False                           False   \n",
       "54357                         False                           False   \n",
       "1762                          False                           False   \n",
       "89422                         False                           False   \n",
       "...                             ...                             ...   \n",
       "49272                         False                           False   \n",
       "13885                         False                           False   \n",
       "4586                          False                           False   \n",
       "68030                         False                           False   \n",
       "32535                         False                           False   \n",
       "\n",
       "       missing_velocidad_viendo_temprano     y   m   d  \n",
       "id                                                      \n",
       "74816                              False  2014   6   7  \n",
       "64318                              False  2014  12   7  \n",
       "54357                              False  2010   7   8  \n",
       "1762                               False  2015  11   4  \n",
       "89422                              False  2014  12  22  \n",
       "...                                  ...   ...  ..  ..  \n",
       "49272                              False  2012   5  23  \n",
       "13885                              False  2011  10  25  \n",
       "4586                               False  2015  12  16  \n",
       "68030                              False  2010   8  18  \n",
       "32535                              False  2015  12   7  \n",
       "\n",
       "[102356 rows x 131 columns]"
      ]
     },
     "execution_count": 9,
     "metadata": {},
     "output_type": "execute_result"
    }
   ],
   "source": [
    "targetBooleano(df_targ, inplace=True)\n",
    "ohe_feat = reemplazarCategoricas_OHE(df_feat)\n",
    "\n",
    "reemplazarNulls(df_feat , inplace=True)\n",
    "reemplazarCategoricas(df_feat , inplace=True)\n",
    "reemplazarFechas(df_feat , inplace=True)\n",
    "df_feat_r = regularizar(df_feat)\n",
    "\n",
    "reemplazarNullsNum(ohe_feat, inplace=True)\n",
    "reemplazarFechas(ohe_feat , inplace=True)\n",
    "# keepFeat_OHE(ohe_feat, 10, inplace=True)"
   ]
  },
  {
   "cell_type": "code",
   "execution_count": 10,
   "id": "642171dc-c717-48aa-9f13-3d5115385741",
   "metadata": {
    "execution": {
     "iopub.execute_input": "2021-12-29T03:53:16.701031Z",
     "iopub.status.busy": "2021-12-29T03:53:16.700762Z",
     "iopub.status.idle": "2021-12-29T03:53:16.715634Z",
     "shell.execute_reply": "2021-12-29T03:53:16.715090Z",
     "shell.execute_reply.started": "2021-12-29T03:53:16.701006Z"
    },
    "tags": []
   },
   "outputs": [
    {
     "name": "stdout",
     "output_type": "stream",
     "text": [
      "<class 'pandas.core.frame.DataFrame'>\n",
      "Int64Index: 102356 entries, 74816 to 32535\n",
      "Data columns (total 23 columns):\n",
      " #   Column                        Non-Null Count   Dtype  \n",
      "---  ------                        --------------   -----  \n",
      " 0   direccion_viento_tarde        102356 non-null  float64\n",
      " 1   direccion_viento_temprano     102356 non-null  float64\n",
      " 2   horas_de_sol                  102356 non-null  float64\n",
      " 3   humedad_tarde                 102356 non-null  float64\n",
      " 4   humedad_temprano              102356 non-null  float64\n",
      " 5   llovieron_hamburguesas_hoy    102356 non-null  bool   \n",
      " 6   mm_evaporados_agua            102356 non-null  float64\n",
      " 7   mm_lluvia_dia                 102356 non-null  float64\n",
      " 8   nubosidad_tarde               102356 non-null  float64\n",
      " 9   nubosidad_temprano            102356 non-null  float64\n",
      " 10  presion_atmosferica_tarde     102356 non-null  float64\n",
      " 11  presion_atmosferica_temprano  102356 non-null  float64\n",
      " 12  rafaga_viento_max_direccion   102356 non-null  float64\n",
      " 13  rafaga_viento_max_velocidad   102356 non-null  float64\n",
      " 14  temp_max                      102356 non-null  float64\n",
      " 15  temp_min                      102356 non-null  float64\n",
      " 16  temperatura_tarde             102356 non-null  float64\n",
      " 17  temperatura_temprano          102356 non-null  float64\n",
      " 18  velocidad_viendo_tarde        102356 non-null  float64\n",
      " 19  velocidad_viendo_temprano     102356 non-null  float64\n",
      " 20  y                             102356 non-null  int64  \n",
      " 21  m                             102356 non-null  int64  \n",
      " 22  d                             102356 non-null  int64  \n",
      "dtypes: bool(1), float64(19), int64(3)\n",
      "memory usage: 18.1 MB\n"
     ]
    }
   ],
   "source": [
    "df_feat.info()"
   ]
  },
  {
   "cell_type": "code",
   "execution_count": 11,
   "id": "a21cd14d-72b8-46e3-a7ac-96ba3e4a42dc",
   "metadata": {
    "execution": {
     "iopub.execute_input": "2021-12-29T03:53:16.716766Z",
     "iopub.status.busy": "2021-12-29T03:53:16.716384Z",
     "iopub.status.idle": "2021-12-29T03:53:16.910011Z",
     "shell.execute_reply": "2021-12-29T03:53:16.909374Z",
     "shell.execute_reply.started": "2021-12-29T03:53:16.716746Z"
    }
   },
   "outputs": [],
   "source": [
    "train_feat, val_feat, train_targ, val_targ = train_val( df_feat, df_targ, True )\n",
    "train_feat_r, val_feat_r, train_targ_r, val_targ_r = train_val( df_feat_r, df_targ, True )\n",
    "train_feat2, val_feat2, train_targ2, val_targ2 = train_val( ohe_feat, df_targ, True )"
   ]
  },
  {
   "cell_type": "markdown",
   "id": "0644d54b-4e59-49d5-a8df-c627b574c2f3",
   "metadata": {},
   "source": [
    "## Entrenamiento"
   ]
  },
  {
   "cell_type": "markdown",
   "id": "12e60815-3880-48af-9fcc-527ec3ecec42",
   "metadata": {},
   "source": [
    "### Simple"
   ]
  },
  {
   "cell_type": "code",
   "execution_count": 12,
   "id": "2bb0e7fa-49d3-4711-aa60-2a98afef1996",
   "metadata": {
    "execution": {
     "iopub.execute_input": "2021-12-29T03:53:16.916181Z",
     "iopub.status.busy": "2021-12-29T03:53:16.915733Z",
     "iopub.status.idle": "2021-12-29T03:53:20.179311Z",
     "shell.execute_reply": "2021-12-29T03:53:20.178447Z",
     "shell.execute_reply.started": "2021-12-29T03:53:16.916159Z"
    }
   },
   "outputs": [],
   "source": [
    "if (runSimple):\n",
    "    forest_simple = RandomForestClassifier(\n",
    "        random_state=1,\n",
    "        max_depth=3,\n",
    "        min_samples_split=200,\n",
    "    )\n",
    "    forest_simple.fit( train_feat, train_targ )\n",
    "    \n",
    "    # Guardar\n",
    "    if(saveSimple):\n",
    "        dump(forest_simple, 'models/Ensambles/forest_simple.sk') \n",
    "else:\n",
    "    # Cargar\n",
    "    forest_simple = load('models/Ensambles/forest_simple.sk')"
   ]
  },
  {
   "cell_type": "code",
   "execution_count": 13,
   "id": "13fd98df-4710-49ba-8c42-a630eb2987df",
   "metadata": {
    "execution": {
     "iopub.execute_input": "2021-12-29T03:53:20.180677Z",
     "iopub.status.busy": "2021-12-29T03:53:20.180222Z",
     "iopub.status.idle": "2021-12-29T03:53:20.532379Z",
     "shell.execute_reply": "2021-12-29T03:53:20.531698Z",
     "shell.execute_reply.started": "2021-12-29T03:53:20.180653Z"
    }
   },
   "outputs": [
    {
     "name": "stdout",
     "output_type": "stream",
     "text": [
      "AUC-ROC: 0.8250829837209022\n",
      "              precision    recall  f1-score   support\n",
      "\n",
      "       False       0.82      0.98      0.89      7946\n",
      "        True       0.82      0.24      0.37      2290\n",
      "\n",
      "    accuracy                           0.82     10236\n",
      "   macro avg       0.82      0.61      0.63     10236\n",
      "weighted avg       0.82      0.82      0.78     10236\n",
      "\n",
      "CONFUSION MATRIX\n",
      "CPU times: user 282 ms, sys: 15.7 ms, total: 297 ms\n",
      "Wall time: 265 ms\n"
     ]
    },
    {
     "data": {
      "image/png": "[encoded data removed]",
      "text/plain": [
       "<Figure size 432x288 with 2 Axes>"
      ]
     },
     "metadata": {},
     "output_type": "display_data"
    }
   ],
   "source": [
    "%%time\n",
    "pred = forest_simple.predict(val_feat)\n",
    "prob = forest_simple.predict_proba(val_feat)\n",
    "score(val_targ, pred, prob[:,1])"
   ]
  },
  {
   "cell_type": "code",
   "execution_count": 14,
   "id": "6d4a9e4e-ab0e-4d7e-ab70-105a72526732",
   "metadata": {
    "execution": {
     "iopub.execute_input": "2021-12-29T03:53:20.533550Z",
     "iopub.status.busy": "2021-12-29T03:53:20.533322Z",
     "iopub.status.idle": "2021-12-29T03:53:20.566091Z",
     "shell.execute_reply": "2021-12-29T03:53:20.565345Z",
     "shell.execute_reply.started": "2021-12-29T03:53:20.533527Z"
    }
   },
   "outputs": [],
   "source": [
    "pdf = score2('Simple','Basico',val_targ, pred, prob[:,1])\n",
    "predictions = predictions.append( pdf )"
   ]
  },
  {
   "cell_type": "markdown",
   "id": "530e14b5-501c-4cf5-87fc-b57e4559f24c",
   "metadata": {},
   "source": [
    "### Validado"
   ]
  },
  {
   "cell_type": "code",
   "execution_count": 15,
   "id": "0be2b1be-0ddb-43e5-9966-8364904b477e",
   "metadata": {
    "execution": {
     "iopub.execute_input": "2021-12-29T03:53:20.567419Z",
     "iopub.status.busy": "2021-12-29T03:53:20.566949Z",
     "iopub.status.idle": "2021-12-29T03:53:20.752155Z",
     "shell.execute_reply": "2021-12-29T03:53:20.751435Z",
     "shell.execute_reply.started": "2021-12-29T03:53:20.567395Z"
    },
    "scrolled": true,
    "tags": []
   },
   "outputs": [],
   "source": [
    "if( runValidated ):\n",
    "    forest = RandomForestClassifier(\n",
    "        random_state=1,\n",
    "    )\n",
    "    \n",
    "    params = {\n",
    "        'max_depth': np.arange(3, 20, 1),\n",
    "        'min_samples_leaf': np.arange(100, 1000, 100),\n",
    "        'criterion': ['gini', 'entropy'],\n",
    "        'n_estimators': np.arange(100,500,100),\n",
    "    }\n",
    "    \n",
    "    forest_grid = HalvingGridSearchCV(\n",
    "        forest,\n",
    "        params,\n",
    "        scoring='roc_auc',\n",
    "        n_jobs=MAX_JOBS,\n",
    "        return_train_score=True,\n",
    "        verbose=1\n",
    "    ).fit(train_feat, train_targ)\n",
    "    \n",
    "    # Guardar\n",
    "    if(saveValidated):\n",
    "        dump(forest_grid, 'models/Ensambles/forest_grid.sk')\n",
    "else:\n",
    "    # Cargar\n",
    "    forest_grid = load('models/Ensambles/forest_grid.sk')"
   ]
  },
  {
   "cell_type": "code",
   "execution_count": 16,
   "id": "63a6b4bc-e597-46dc-9146-e255adc0e118",
   "metadata": {
    "execution": {
     "iopub.execute_input": "2021-12-29T03:53:20.753463Z",
     "iopub.status.busy": "2021-12-29T03:53:20.753016Z",
     "iopub.status.idle": "2021-12-29T03:53:20.757235Z",
     "shell.execute_reply": "2021-12-29T03:53:20.756389Z",
     "shell.execute_reply.started": "2021-12-29T03:53:20.753439Z"
    },
    "tags": []
   },
   "outputs": [
    {
     "name": "stdout",
     "output_type": "stream",
     "text": [
      "Best score: 0.8695507184487934\n",
      "Best params {'criterion': 'gini', 'max_depth': 19, 'min_samples_leaf': 100, 'n_estimators': 400}\n"
     ]
    }
   ],
   "source": [
    "print(f\"Best score: {forest_grid.best_score_}\")\n",
    "print(f\"Best params {forest_grid.best_params_}\")"
   ]
  },
  {
   "cell_type": "code",
   "execution_count": 17,
   "id": "3d93138b-9a57-47e0-81a1-820e8fc2e0c9",
   "metadata": {
    "execution": {
     "iopub.execute_input": "2021-12-29T03:53:20.758703Z",
     "iopub.status.busy": "2021-12-29T03:53:20.758416Z",
     "iopub.status.idle": "2021-12-29T03:53:20.762113Z",
     "shell.execute_reply": "2021-12-29T03:53:20.761366Z",
     "shell.execute_reply.started": "2021-12-29T03:53:20.758680Z"
    }
   },
   "outputs": [],
   "source": [
    "forest = forest_grid.best_estimator_"
   ]
  },
  {
   "cell_type": "code",
   "execution_count": 18,
   "id": "1698b124-275e-4a0c-b83c-39ee13760708",
   "metadata": {
    "execution": {
     "iopub.execute_input": "2021-12-29T03:53:20.763636Z",
     "iopub.status.busy": "2021-12-29T03:53:20.763227Z",
     "iopub.status.idle": "2021-12-29T03:53:21.908265Z",
     "shell.execute_reply": "2021-12-29T03:53:21.907547Z",
     "shell.execute_reply.started": "2021-12-29T03:53:20.763606Z"
    },
    "tags": []
   },
   "outputs": [
    {
     "name": "stdout",
     "output_type": "stream",
     "text": [
      "AUC-ROC: 0.866658130151448\n",
      "              precision    recall  f1-score   support\n",
      "\n",
      "       False       0.85      0.96      0.90      7946\n",
      "        True       0.76      0.42      0.54      2290\n",
      "\n",
      "    accuracy                           0.84     10236\n",
      "   macro avg       0.80      0.69      0.72     10236\n",
      "weighted avg       0.83      0.84      0.82     10236\n",
      "\n",
      "CONFUSION MATRIX\n",
      "CPU times: user 1.08 s, sys: 17.9 ms, total: 1.09 s\n",
      "Wall time: 1.06 s\n"
     ]
    },
    {
     "data": {
      "image/png": "[encoded data removed]",
      "text/plain": [
       "<Figure size 432x288 with 2 Axes>"
      ]
     },
     "metadata": {},
     "output_type": "display_data"
    }
   ],
   "source": [
    "%%time\n",
    "pred = forest.predict(val_feat)\n",
    "prob = forest.predict_proba(val_feat)\n",
    "score(val_targ, pred, prob[:,1])"
   ]
  },
  {
   "cell_type": "code",
   "execution_count": 19,
   "id": "37869f73-3e81-4210-8c95-e8c124d38762",
   "metadata": {
    "execution": {
     "iopub.execute_input": "2021-12-29T03:53:21.909706Z",
     "iopub.status.busy": "2021-12-29T03:53:21.909487Z",
     "iopub.status.idle": "2021-12-29T03:53:21.942418Z",
     "shell.execute_reply": "2021-12-29T03:53:21.941759Z",
     "shell.execute_reply.started": "2021-12-29T03:53:21.909686Z"
    }
   },
   "outputs": [],
   "source": [
    "pdf = score2('Val','Basico',val_targ, pred, prob[:,1])\n",
    "predictions = predictions.append( pdf )"
   ]
  },
  {
   "cell_type": "markdown",
   "id": "5da246d0-e1a3-4e6b-a517-e37903bfb84f",
   "metadata": {},
   "source": [
    "### Reg"
   ]
  },
  {
   "cell_type": "code",
   "execution_count": 20,
   "id": "fcf5f2ce-7ca3-4347-8bd0-f49c0119738a",
   "metadata": {
    "execution": {
     "iopub.execute_input": "2021-12-29T03:53:21.943953Z",
     "iopub.status.busy": "2021-12-29T03:53:21.943586Z",
     "iopub.status.idle": "2021-12-29T03:53:22.135500Z",
     "shell.execute_reply": "2021-12-29T03:53:22.134796Z",
     "shell.execute_reply.started": "2021-12-29T03:53:21.943930Z"
    },
    "tags": []
   },
   "outputs": [],
   "source": [
    "if( runReg ):\n",
    "    forest2 = RandomForestClassifier(\n",
    "        random_state=1,\n",
    "    )\n",
    "    \n",
    "    params = {\n",
    "        'max_depth': np.arange(3, 20, 1),\n",
    "        'min_samples_leaf': np.arange(100, 1000, 100),\n",
    "        'criterion': ['gini', 'entropy'],\n",
    "        'n_estimators': np.arange(100,500,100),\n",
    "    }\n",
    "    \n",
    "    forest_grid2 = HalvingGridSearchCV(\n",
    "        forest2,\n",
    "        params,\n",
    "        scoring='roc_auc',\n",
    "        n_jobs=MAX_JOBS,\n",
    "        return_train_score=True,\n",
    "        verbose=1\n",
    "    ).fit(train_feat_r, train_targ_r)\n",
    "    \n",
    "    # Guardar\n",
    "    if(saveReg):\n",
    "        dump(forest_grid2, 'models/Ensambles/forest_r_grid.sk')\n",
    "else:\n",
    "    # Cargar\n",
    "    forest_grid2 = load('models/Ensambles/forest_r_grid.sk')"
   ]
  },
  {
   "cell_type": "code",
   "execution_count": 21,
   "id": "33053fd0-4853-4d6d-9143-0b25acd02a07",
   "metadata": {
    "execution": {
     "iopub.execute_input": "2021-12-29T03:53:22.136923Z",
     "iopub.status.busy": "2021-12-29T03:53:22.136712Z",
     "iopub.status.idle": "2021-12-29T03:53:22.141640Z",
     "shell.execute_reply": "2021-12-29T03:53:22.140970Z",
     "shell.execute_reply.started": "2021-12-29T03:53:22.136903Z"
    },
    "tags": []
   },
   "outputs": [
    {
     "name": "stdout",
     "output_type": "stream",
     "text": [
      "Best score: 0.8695055607298585\n",
      "Best params {'criterion': 'gini', 'max_depth': 15, 'min_samples_leaf': 100, 'n_estimators': 400}\n"
     ]
    }
   ],
   "source": [
    "print(f\"Best score: {forest_grid2.best_score_}\")\n",
    "print(f\"Best params {forest_grid2.best_params_}\")"
   ]
  },
  {
   "cell_type": "code",
   "execution_count": 22,
   "id": "b2410cb3-6aa1-4d86-99d8-0629430be655",
   "metadata": {
    "execution": {
     "iopub.execute_input": "2021-12-29T03:53:22.143172Z",
     "iopub.status.busy": "2021-12-29T03:53:22.142514Z",
     "iopub.status.idle": "2021-12-29T03:53:22.146925Z",
     "shell.execute_reply": "2021-12-29T03:53:22.146250Z",
     "shell.execute_reply.started": "2021-12-29T03:53:22.143147Z"
    },
    "tags": []
   },
   "outputs": [],
   "source": [
    "forest_r = forest_grid2.best_estimator_"
   ]
  },
  {
   "cell_type": "code",
   "execution_count": 23,
   "id": "08b6f670-b0b2-41b4-afa2-61c1f898c807",
   "metadata": {
    "execution": {
     "iopub.execute_input": "2021-12-29T03:53:22.148035Z",
     "iopub.status.busy": "2021-12-29T03:53:22.147774Z",
     "iopub.status.idle": "2021-12-29T03:53:23.242998Z",
     "shell.execute_reply": "2021-12-29T03:53:23.242397Z",
     "shell.execute_reply.started": "2021-12-29T03:53:22.148016Z"
    },
    "tags": []
   },
   "outputs": [
    {
     "name": "stdout",
     "output_type": "stream",
     "text": [
      "AUC-ROC: 0.8663972535136188\n",
      "              precision    recall  f1-score   support\n",
      "\n",
      "       False       0.85      0.96      0.90      7946\n",
      "        True       0.74      0.43      0.55      2290\n",
      "\n",
      "    accuracy                           0.84     10236\n",
      "   macro avg       0.79      0.69      0.72     10236\n",
      "weighted avg       0.83      0.84      0.82     10236\n",
      "\n",
      "CONFUSION MATRIX\n",
      "CPU times: user 1.03 s, sys: 16.1 ms, total: 1.05 s\n",
      "Wall time: 1.02 s\n"
     ]
    },
    {
     "data": {
      "image/png": "[encoded data removed]",
      "text/plain": [
       "<Figure size 432x288 with 2 Axes>"
      ]
     },
     "metadata": {},
     "output_type": "display_data"
    }
   ],
   "source": [
    "%%time\n",
    "pred = forest_r.predict(val_feat_r)\n",
    "prob = forest_r.predict_proba(val_feat_r)\n",
    "score(val_targ_r, pred, prob[:,1])"
   ]
  },
  {
   "cell_type": "code",
   "execution_count": 24,
   "id": "4e8f73ee-c3e0-4f6e-b37a-25c80856c347",
   "metadata": {
    "execution": {
     "iopub.execute_input": "2021-12-29T03:53:23.244452Z",
     "iopub.status.busy": "2021-12-29T03:53:23.244234Z",
     "iopub.status.idle": "2021-12-29T03:53:23.276560Z",
     "shell.execute_reply": "2021-12-29T03:53:23.275959Z",
     "shell.execute_reply.started": "2021-12-29T03:53:23.244431Z"
    }
   },
   "outputs": [],
   "source": [
    "pdf = score2('Reg','Regularizado',val_targ_r, pred, prob[:,1])\n",
    "predictions = predictions.append( pdf )"
   ]
  },
  {
   "cell_type": "markdown",
   "id": "33579b8b-9d56-4c20-8c59-35be46dc9d74",
   "metadata": {},
   "source": [
    "### One Hot Encoded"
   ]
  },
  {
   "cell_type": "code",
   "execution_count": 25,
   "id": "034f876b-8571-4e82-a88d-ee15ce3b4179",
   "metadata": {
    "execution": {
     "iopub.execute_input": "2021-12-29T03:53:23.277996Z",
     "iopub.status.busy": "2021-12-29T03:53:23.277766Z",
     "iopub.status.idle": "2021-12-29T03:53:23.378320Z",
     "shell.execute_reply": "2021-12-29T03:53:23.377523Z",
     "shell.execute_reply.started": "2021-12-29T03:53:23.277974Z"
    },
    "scrolled": true,
    "tags": []
   },
   "outputs": [],
   "source": [
    "if( runValidated ):\n",
    "    forest_ohe = RandomForestClassifier(\n",
    "        random_state=1,\n",
    "    )\n",
    "    \n",
    "    params = {\n",
    "        'max_depth': np.arange(3, 20, 1),\n",
    "        'min_samples_leaf': np.arange(100, 1000, 100),\n",
    "        'criterion': ['gini', 'entropy'],\n",
    "        'n_estimators': np.arange(100,500,100),\n",
    "    }\n",
    "    \n",
    "    forest_grid_ohe = HalvingGridSearchCV(\n",
    "        forest_ohe,\n",
    "        params,\n",
    "        scoring='roc_auc',\n",
    "        n_jobs=MAX_JOBS,\n",
    "        return_train_score=True,\n",
    "        verbose=1\n",
    "    ).fit(train_feat2, train_targ2)\n",
    "    \n",
    "    # Guardar\n",
    "    if(saveValidated):\n",
    "        dump(forest_grid_ohe, 'models/Ensambles/forest_grid_ohe.sk')\n",
    "else:\n",
    "    # Cargar\n",
    "    forest_grid_ohe = load('models/Ensambles/forest_grid_ohe.sk')"
   ]
  },
  {
   "cell_type": "code",
   "execution_count": 26,
   "id": "6885ccc8-3fff-45da-909f-1e95f491e2a0",
   "metadata": {
    "execution": {
     "iopub.execute_input": "2021-12-29T03:53:23.379687Z",
     "iopub.status.busy": "2021-12-29T03:53:23.379254Z",
     "iopub.status.idle": "2021-12-29T03:53:23.383778Z",
     "shell.execute_reply": "2021-12-29T03:53:23.382979Z",
     "shell.execute_reply.started": "2021-12-29T03:53:23.379663Z"
    },
    "tags": []
   },
   "outputs": [
    {
     "name": "stdout",
     "output_type": "stream",
     "text": [
      "Best score: 0.8627220878479067\n",
      "Best params {'criterion': 'gini', 'max_depth': 19, 'min_samples_leaf': 100, 'n_estimators': 200}\n"
     ]
    }
   ],
   "source": [
    "print(f\"Best score: {forest_grid_ohe.best_score_}\")\n",
    "print(f\"Best params {forest_grid_ohe.best_params_}\")"
   ]
  },
  {
   "cell_type": "code",
   "execution_count": 27,
   "id": "1fb4d6b5-d71f-431a-8298-cbb0c9ebbbed",
   "metadata": {
    "execution": {
     "iopub.execute_input": "2021-12-29T03:53:23.385321Z",
     "iopub.status.busy": "2021-12-29T03:53:23.385065Z",
     "iopub.status.idle": "2021-12-29T03:53:23.388636Z",
     "shell.execute_reply": "2021-12-29T03:53:23.387939Z",
     "shell.execute_reply.started": "2021-12-29T03:53:23.385299Z"
    }
   },
   "outputs": [],
   "source": [
    "forest_ohe = forest_grid_ohe.best_estimator_"
   ]
  },
  {
   "cell_type": "code",
   "execution_count": 28,
   "id": "31a83631-89e2-448b-ae5b-5ee38db7d1ca",
   "metadata": {
    "execution": {
     "iopub.execute_input": "2021-12-29T03:53:23.389722Z",
     "iopub.status.busy": "2021-12-29T03:53:23.389527Z",
     "iopub.status.idle": "2021-12-29T03:53:24.207594Z",
     "shell.execute_reply": "2021-12-29T03:53:24.207007Z",
     "shell.execute_reply.started": "2021-12-29T03:53:23.389699Z"
    },
    "tags": []
   },
   "outputs": [
    {
     "name": "stdout",
     "output_type": "stream",
     "text": [
      "AUC-ROC: 0.8589993921854615\n",
      "              precision    recall  f1-score   support\n",
      "\n",
      "       False       0.84      0.97      0.90      7946\n",
      "        True       0.78      0.38      0.51      2290\n",
      "\n",
      "    accuracy                           0.84     10236\n",
      "   macro avg       0.81      0.67      0.70     10236\n",
      "weighted avg       0.83      0.84      0.81     10236\n",
      "\n",
      "CONFUSION MATRIX\n",
      "CPU times: user 753 ms, sys: 20.5 ms, total: 773 ms\n",
      "Wall time: 741 ms\n"
     ]
    },
    {
     "data": {
      "image/png": "[encoded data removed]",
      "text/plain": [
       "<Figure size 432x288 with 2 Axes>"
      ]
     },
     "metadata": {},
     "output_type": "display_data"
    }
   ],
   "source": [
    "%%time\n",
    "pred = forest_ohe.predict(val_feat2)\n",
    "prob = forest_ohe.predict_proba(val_feat2)\n",
    "score(val_targ2, pred, prob[:,1])"
   ]
  },
  {
   "cell_type": "code",
   "execution_count": 29,
   "id": "858f0d44-9f73-46a2-966b-fcf832418426",
   "metadata": {
    "execution": {
     "iopub.execute_input": "2021-12-29T03:53:24.209342Z",
     "iopub.status.busy": "2021-12-29T03:53:24.209078Z",
     "iopub.status.idle": "2021-12-29T03:53:24.240777Z",
     "shell.execute_reply": "2021-12-29T03:53:24.240125Z",
     "shell.execute_reply.started": "2021-12-29T03:53:24.209317Z"
    }
   },
   "outputs": [],
   "source": [
    "pdf = score2('Ohe','OHE',val_targ2, pred, prob[:,1])\n",
    "predictions = predictions.append( pdf )"
   ]
  },
  {
   "cell_type": "markdown",
   "id": "bbbee7c0-3770-4b2f-b08b-a420297d941e",
   "metadata": {},
   "source": [
    "## Resultados"
   ]
  },
  {
   "cell_type": "code",
   "execution_count": 30,
   "id": "22233408-9522-4e1f-820a-7e235b05bdac",
   "metadata": {
    "execution": {
     "iopub.execute_input": "2021-12-29T03:53:24.241999Z",
     "iopub.status.busy": "2021-12-29T03:53:24.241702Z",
     "iopub.status.idle": "2021-12-29T03:53:24.254079Z",
     "shell.execute_reply": "2021-12-29T03:53:24.253326Z",
     "shell.execute_reply.started": "2021-12-29T03:53:24.241973Z"
    }
   },
   "outputs": [
    {
     "data": {
      "text/html": [
       "<div>\n",
       "<style scoped>\n",
       "    .dataframe tbody tr th:only-of-type {\n",
       "        vertical-align: middle;\n",
       "    }\n",
       "\n",
       "    .dataframe tbody tr th {\n",
       "        vertical-align: top;\n",
       "    }\n",
       "\n",
       "    .dataframe thead th {\n",
       "        text-align: right;\n",
       "    }\n",
       "</style>\n",
       "<table border=\"1\" class=\"dataframe\">\n",
       "  <thead>\n",
       "    <tr style=\"text-align: right;\">\n",
       "      <th></th>\n",
       "      <th>Modelo</th>\n",
       "      <th>Preprocesamientos</th>\n",
       "      <th>Clase</th>\n",
       "      <th>AUC-ROC</th>\n",
       "      <th>Accuracy</th>\n",
       "      <th>Precision</th>\n",
       "      <th>Recall</th>\n",
       "      <th>F1 score</th>\n",
       "      <th>Support</th>\n",
       "    </tr>\n",
       "  </thead>\n",
       "  <tbody>\n",
       "    <tr>\n",
       "      <th>0</th>\n",
       "      <td>Simple</td>\n",
       "      <td>Basico</td>\n",
       "      <td>AVG</td>\n",
       "      <td>0.825083</td>\n",
       "      <td>0.817018</td>\n",
       "      <td>0.816748</td>\n",
       "      <td>0.817018</td>\n",
       "      <td>0.775020</td>\n",
       "      <td>10236</td>\n",
       "    </tr>\n",
       "    <tr>\n",
       "      <th>1</th>\n",
       "      <td>Simple</td>\n",
       "      <td>Basico</td>\n",
       "      <td>True</td>\n",
       "      <td>NaN</td>\n",
       "      <td>NaN</td>\n",
       "      <td>0.815431</td>\n",
       "      <td>0.235371</td>\n",
       "      <td>0.365300</td>\n",
       "      <td>2290</td>\n",
       "    </tr>\n",
       "    <tr>\n",
       "      <th>2</th>\n",
       "      <td>Simple</td>\n",
       "      <td>Basico</td>\n",
       "      <td>False</td>\n",
       "      <td>NaN</td>\n",
       "      <td>NaN</td>\n",
       "      <td>0.817128</td>\n",
       "      <td>0.984646</td>\n",
       "      <td>0.893100</td>\n",
       "      <td>7946</td>\n",
       "    </tr>\n",
       "    <tr>\n",
       "      <th>0</th>\n",
       "      <td>Val</td>\n",
       "      <td>Basico</td>\n",
       "      <td>AVG</td>\n",
       "      <td>0.866658</td>\n",
       "      <td>0.839293</td>\n",
       "      <td>0.829684</td>\n",
       "      <td>0.839293</td>\n",
       "      <td>0.820944</td>\n",
       "      <td>10236</td>\n",
       "    </tr>\n",
       "    <tr>\n",
       "      <th>1</th>\n",
       "      <td>Val</td>\n",
       "      <td>Basico</td>\n",
       "      <td>True</td>\n",
       "      <td>NaN</td>\n",
       "      <td>NaN</td>\n",
       "      <td>0.755344</td>\n",
       "      <td>0.416594</td>\n",
       "      <td>0.537011</td>\n",
       "      <td>2290</td>\n",
       "    </tr>\n",
       "    <tr>\n",
       "      <th>2</th>\n",
       "      <td>Val</td>\n",
       "      <td>Basico</td>\n",
       "      <td>False</td>\n",
       "      <td>NaN</td>\n",
       "      <td>NaN</td>\n",
       "      <td>0.851109</td>\n",
       "      <td>0.961113</td>\n",
       "      <td>0.902772</td>\n",
       "      <td>7946</td>\n",
       "    </tr>\n",
       "    <tr>\n",
       "      <th>0</th>\n",
       "      <td>Reg</td>\n",
       "      <td>Regularizado</td>\n",
       "      <td>AVG</td>\n",
       "      <td>0.866397</td>\n",
       "      <td>0.838511</td>\n",
       "      <td>0.827651</td>\n",
       "      <td>0.838511</td>\n",
       "      <td>0.822192</td>\n",
       "      <td>10236</td>\n",
       "    </tr>\n",
       "    <tr>\n",
       "      <th>1</th>\n",
       "      <td>Reg</td>\n",
       "      <td>Regularizado</td>\n",
       "      <td>True</td>\n",
       "      <td>NaN</td>\n",
       "      <td>NaN</td>\n",
       "      <td>0.735751</td>\n",
       "      <td>0.434061</td>\n",
       "      <td>0.546004</td>\n",
       "      <td>2290</td>\n",
       "    </tr>\n",
       "    <tr>\n",
       "      <th>2</th>\n",
       "      <td>Reg</td>\n",
       "      <td>Regularizado</td>\n",
       "      <td>False</td>\n",
       "      <td>NaN</td>\n",
       "      <td>NaN</td>\n",
       "      <td>0.854136</td>\n",
       "      <td>0.955072</td>\n",
       "      <td>0.901788</td>\n",
       "      <td>7946</td>\n",
       "    </tr>\n",
       "    <tr>\n",
       "      <th>0</th>\n",
       "      <td>Ohe</td>\n",
       "      <td>OHE</td>\n",
       "      <td>AVG</td>\n",
       "      <td>0.858999</td>\n",
       "      <td>0.836460</td>\n",
       "      <td>0.828995</td>\n",
       "      <td>0.836460</td>\n",
       "      <td>0.813564</td>\n",
       "      <td>10236</td>\n",
       "    </tr>\n",
       "    <tr>\n",
       "      <th>1</th>\n",
       "      <td>Ohe</td>\n",
       "      <td>OHE</td>\n",
       "      <td>True</td>\n",
       "      <td>NaN</td>\n",
       "      <td>NaN</td>\n",
       "      <td>0.778986</td>\n",
       "      <td>0.375546</td>\n",
       "      <td>0.506777</td>\n",
       "      <td>2290</td>\n",
       "    </tr>\n",
       "    <tr>\n",
       "      <th>2</th>\n",
       "      <td>Ohe</td>\n",
       "      <td>OHE</td>\n",
       "      <td>False</td>\n",
       "      <td>NaN</td>\n",
       "      <td>NaN</td>\n",
       "      <td>0.843408</td>\n",
       "      <td>0.969293</td>\n",
       "      <td>0.901979</td>\n",
       "      <td>7946</td>\n",
       "    </tr>\n",
       "  </tbody>\n",
       "</table>\n",
       "</div>"
      ],
      "text/plain": [
       "   Modelo Preprocesamientos  Clase   AUC-ROC  Accuracy  Precision    Recall  \\\n",
       "0  Simple            Basico    AVG  0.825083  0.817018   0.816748  0.817018   \n",
       "1  Simple            Basico   True       NaN       NaN   0.815431  0.235371   \n",
       "2  Simple            Basico  False       NaN       NaN   0.817128  0.984646   \n",
       "0     Val            Basico    AVG  0.866658  0.839293   0.829684  0.839293   \n",
       "1     Val            Basico   True       NaN       NaN   0.755344  0.416594   \n",
       "2     Val            Basico  False       NaN       NaN   0.851109  0.961113   \n",
       "0     Reg      Regularizado    AVG  0.866397  0.838511   0.827651  0.838511   \n",
       "1     Reg      Regularizado   True       NaN       NaN   0.735751  0.434061   \n",
       "2     Reg      Regularizado  False       NaN       NaN   0.854136  0.955072   \n",
       "0     Ohe               OHE    AVG  0.858999  0.836460   0.828995  0.836460   \n",
       "1     Ohe               OHE   True       NaN       NaN   0.778986  0.375546   \n",
       "2     Ohe               OHE  False       NaN       NaN   0.843408  0.969293   \n",
       "\n",
       "   F1 score Support  \n",
       "0  0.775020   10236  \n",
       "1  0.365300    2290  \n",
       "2  0.893100    7946  \n",
       "0  0.820944   10236  \n",
       "1  0.537011    2290  \n",
       "2  0.902772    7946  \n",
       "0  0.822192   10236  \n",
       "1  0.546004    2290  \n",
       "2  0.901788    7946  \n",
       "0  0.813564   10236  \n",
       "1  0.506777    2290  \n",
       "2  0.901979    7946  "
      ]
     },
     "execution_count": 30,
     "metadata": {},
     "output_type": "execute_result"
    }
   ],
   "source": [
    "predictions"
   ]
  },
  {
   "cell_type": "code",
   "execution_count": 31,
   "id": "4ac95104-3f94-4dde-a1d5-3b8c03380e2e",
   "metadata": {
    "execution": {
     "iopub.execute_input": "2021-12-29T03:53:24.255490Z",
     "iopub.status.busy": "2021-12-29T03:53:24.254992Z",
     "iopub.status.idle": "2021-12-29T03:53:24.487972Z",
     "shell.execute_reply": "2021-12-29T03:53:24.487406Z",
     "shell.execute_reply.started": "2021-12-29T03:53:24.255464Z"
    },
    "tags": []
   },
   "outputs": [],
   "source": [
    "if(saveBest):\n",
    "    dump(forest_grid.best_estimator_, 'models/Ensambles/random_forest.sk')"
   ]
  }
 ],
 "metadata": {
  "kernelspec": {
   "display_name": "Python 3 (ipykernel)",
   "language": "python",
   "name": "python3"
  },
  "language_info": {
   "codemirror_mode": {
    "name": "ipython",
    "version": 3
   },
   "file_extension": ".py",
   "mimetype": "text/x-python",
   "name": "python",
   "nbconvert_exporter": "python",
   "pygments_lexer": "ipython3",
   "version": "3.9.9"
  }
 },
 "nbformat": 4,
 "nbformat_minor": 5
}
