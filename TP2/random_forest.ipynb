{
 "cells": [
  {
   "cell_type": "markdown",
   "id": "3308d311-40d7-4259-a828-7a57b1c0697c",
   "metadata": {},
   "source": [
    "# Random Forest"
   ]
  },
  {
   "cell_type": "markdown",
   "id": "2052667d-db58-4679-830a-e39d8750ef0a",
   "metadata": {},
   "source": [
    "### Imports"
   ]
  },
  {
   "cell_type": "code",
   "execution_count": 1,
   "id": "57fe6f06-9c8e-4d61-97ae-d6a56db43ce2",
   "metadata": {
    "execution": {
     "iopub.execute_input": "2021-12-04T01:15:12.808466Z",
     "iopub.status.busy": "2021-12-04T01:15:12.808037Z",
     "iopub.status.idle": "2021-12-04T01:15:13.753363Z",
     "shell.execute_reply": "2021-12-04T01:15:13.752870Z",
     "shell.execute_reply.started": "2021-12-04T01:15:12.808407Z"
    }
   },
   "outputs": [],
   "source": [
    "import pandas as pd\n",
    "import numpy as np\n",
    "from matplotlib import pyplot as plt\n",
    "from joblib import dump, load"
   ]
  },
  {
   "cell_type": "code",
   "execution_count": 2,
   "id": "a49e6792-264c-4416-9d7a-2fd751337a76",
   "metadata": {
    "execution": {
     "iopub.execute_input": "2021-12-04T01:15:13.754558Z",
     "iopub.status.busy": "2021-12-04T01:15:13.754359Z",
     "iopub.status.idle": "2021-12-04T01:15:18.667990Z",
     "shell.execute_reply": "2021-12-04T01:15:18.667487Z",
     "shell.execute_reply.started": "2021-12-04T01:15:13.754539Z"
    }
   },
   "outputs": [],
   "source": [
    "from sklearn.ensemble import RandomForestClassifier\n",
    "from sklearn.experimental import enable_halving_search_cv\n",
    "from sklearn.model_selection import HalvingGridSearchCV\n",
    "from sklearn import tree"
   ]
  },
  {
   "cell_type": "code",
   "execution_count": 3,
   "id": "ecbe57a8-73db-45f4-a21d-4f876860ec06",
   "metadata": {
    "execution": {
     "iopub.execute_input": "2021-12-04T01:15:18.670380Z",
     "iopub.status.busy": "2021-12-04T01:15:18.670175Z",
     "iopub.status.idle": "2021-12-04T01:15:21.553442Z",
     "shell.execute_reply": "2021-12-04T01:15:21.552729Z",
     "shell.execute_reply.started": "2021-12-04T01:15:18.670360Z"
    }
   },
   "outputs": [
    {
     "name": "stdout",
     "output_type": "stream",
     "text": [
      "[###] All Done                                              \n"
     ]
    }
   ],
   "source": [
    "from preprocessing import reemplazarNulls,reemplazarCategoricas,reemplazarFechas,targetBooleano"
   ]
  },
  {
   "cell_type": "code",
   "execution_count": 4,
   "id": "ae53c637-7f02-4802-9add-5a35ced69f64",
   "metadata": {
    "execution": {
     "iopub.execute_input": "2021-12-04T01:15:21.554942Z",
     "iopub.status.busy": "2021-12-04T01:15:21.554643Z",
     "iopub.status.idle": "2021-12-04T01:15:21.927445Z",
     "shell.execute_reply": "2021-12-04T01:15:21.926828Z",
     "shell.execute_reply.started": "2021-12-04T01:15:21.554915Z"
    }
   },
   "outputs": [],
   "source": [
    "from utilities import score, df_feat, df_targ, train_val"
   ]
  },
  {
   "cell_type": "markdown",
   "id": "1aa60fef-ad74-400f-8ef7-8255160828a9",
   "metadata": {},
   "source": [
    "### Codigo a correr"
   ]
  },
  {
   "cell_type": "code",
   "execution_count": 5,
   "id": "cac84d06-6216-46dc-9d75-3044c9a63f5d",
   "metadata": {
    "execution": {
     "iopub.execute_input": "2021-12-04T01:15:21.928715Z",
     "iopub.status.busy": "2021-12-04T01:15:21.928441Z",
     "iopub.status.idle": "2021-12-04T01:15:21.931944Z",
     "shell.execute_reply": "2021-12-04T01:15:21.931242Z",
     "shell.execute_reply.started": "2021-12-04T01:15:21.928693Z"
    }
   },
   "outputs": [],
   "source": [
    "MAX_JOBS = 5"
   ]
  },
  {
   "cell_type": "markdown",
   "id": "c99e8bfe-0edd-4db5-a218-1cf71f809d2d",
   "metadata": {},
   "source": [
    "**Run :** Entrenar Nuevamente o Cargar Entrenado"
   ]
  },
  {
   "cell_type": "code",
   "execution_count": 6,
   "id": "cd65bc5e-db28-4191-9e7f-0932bbd738a3",
   "metadata": {
    "execution": {
     "iopub.execute_input": "2021-12-04T01:15:21.934311Z",
     "iopub.status.busy": "2021-12-04T01:15:21.933645Z",
     "iopub.status.idle": "2021-12-04T01:15:21.941619Z",
     "shell.execute_reply": "2021-12-04T01:15:21.940679Z",
     "shell.execute_reply.started": "2021-12-04T01:15:21.934270Z"
    }
   },
   "outputs": [],
   "source": [
    "runSimple = True\n",
    "runValidated = True"
   ]
  },
  {
   "cell_type": "markdown",
   "id": "f1c590df-60bb-4c53-91e7-2da0c3476415",
   "metadata": {},
   "source": [
    "**Save :** Guardar Modelo (pisa anterior)"
   ]
  },
  {
   "cell_type": "code",
   "execution_count": 7,
   "id": "6f9b41b6-3059-4967-a9c7-c00188c3e415",
   "metadata": {
    "execution": {
     "iopub.execute_input": "2021-12-04T01:15:21.943250Z",
     "iopub.status.busy": "2021-12-04T01:15:21.943011Z",
     "iopub.status.idle": "2021-12-04T01:15:21.948544Z",
     "shell.execute_reply": "2021-12-04T01:15:21.947681Z",
     "shell.execute_reply.started": "2021-12-04T01:15:21.943227Z"
    }
   },
   "outputs": [],
   "source": [
    "saveSimple = True\n",
    "saveValidated = True"
   ]
  },
  {
   "cell_type": "markdown",
   "id": "e6b58791-7d09-4d8a-8fcd-2b5e207db9fd",
   "metadata": {},
   "source": [
    "### Preprocesamiento"
   ]
  },
  {
   "cell_type": "code",
   "execution_count": 8,
   "id": "2e086941-2bc4-49ea-8bd8-91682b5a619a",
   "metadata": {
    "execution": {
     "iopub.execute_input": "2021-12-04T01:15:21.950389Z",
     "iopub.status.busy": "2021-12-04T01:15:21.950058Z",
     "iopub.status.idle": "2021-12-04T01:15:23.054611Z",
     "shell.execute_reply": "2021-12-04T01:15:23.053877Z",
     "shell.execute_reply.started": "2021-12-04T01:15:21.950361Z"
    },
    "tags": []
   },
   "outputs": [
    {
     "data": {
      "text/html": [
       "<div>\n",
       "<style scoped>\n",
       "    .dataframe tbody tr th:only-of-type {\n",
       "        vertical-align: middle;\n",
       "    }\n",
       "\n",
       "    .dataframe tbody tr th {\n",
       "        vertical-align: top;\n",
       "    }\n",
       "\n",
       "    .dataframe thead th {\n",
       "        text-align: right;\n",
       "    }\n",
       "</style>\n",
       "<table border=\"1\" class=\"dataframe\">\n",
       "  <thead>\n",
       "    <tr style=\"text-align: right;\">\n",
       "      <th></th>\n",
       "      <th>id</th>\n",
       "      <th>direccion_viento_tarde</th>\n",
       "      <th>direccion_viento_temprano</th>\n",
       "      <th>horas_de_sol</th>\n",
       "      <th>humedad_tarde</th>\n",
       "      <th>humedad_temprano</th>\n",
       "      <th>llovieron_hamburguesas_hoy</th>\n",
       "      <th>mm_evaporados_agua</th>\n",
       "      <th>mm_lluvia_dia</th>\n",
       "      <th>nubosidad_tarde</th>\n",
       "      <th>...</th>\n",
       "      <th>rafaga_viento_max_velocidad</th>\n",
       "      <th>temp_max</th>\n",
       "      <th>temp_min</th>\n",
       "      <th>temperatura_tarde</th>\n",
       "      <th>temperatura_temprano</th>\n",
       "      <th>velocidad_viendo_tarde</th>\n",
       "      <th>velocidad_viendo_temprano</th>\n",
       "      <th>y</th>\n",
       "      <th>m</th>\n",
       "      <th>d</th>\n",
       "    </tr>\n",
       "  </thead>\n",
       "  <tbody>\n",
       "    <tr>\n",
       "      <th>0</th>\n",
       "      <td>74816</td>\n",
       "      <td>247.5</td>\n",
       "      <td>225.0</td>\n",
       "      <td>0.0</td>\n",
       "      <td>78.0</td>\n",
       "      <td>74.0</td>\n",
       "      <td>True</td>\n",
       "      <td>4.0</td>\n",
       "      <td>68.0</td>\n",
       "      <td>7.0</td>\n",
       "      <td>...</td>\n",
       "      <td>48.0</td>\n",
       "      <td>17.9</td>\n",
       "      <td>11.6</td>\n",
       "      <td>17.2</td>\n",
       "      <td>14.8</td>\n",
       "      <td>26.0</td>\n",
       "      <td>17.0</td>\n",
       "      <td>2014</td>\n",
       "      <td>6</td>\n",
       "      <td>7</td>\n",
       "    </tr>\n",
       "    <tr>\n",
       "      <th>1</th>\n",
       "      <td>64318</td>\n",
       "      <td>202.5</td>\n",
       "      <td>0.0</td>\n",
       "      <td>0.0</td>\n",
       "      <td>14.0</td>\n",
       "      <td>56.0</td>\n",
       "      <td>True</td>\n",
       "      <td>4.0</td>\n",
       "      <td>5.8</td>\n",
       "      <td>1.0</td>\n",
       "      <td>...</td>\n",
       "      <td>61.0</td>\n",
       "      <td>41.8</td>\n",
       "      <td>22.0</td>\n",
       "      <td>40.2</td>\n",
       "      <td>28.1</td>\n",
       "      <td>31.0</td>\n",
       "      <td>11.0</td>\n",
       "      <td>2014</td>\n",
       "      <td>12</td>\n",
       "      <td>7</td>\n",
       "    </tr>\n",
       "    <tr>\n",
       "      <th>2</th>\n",
       "      <td>54357</td>\n",
       "      <td>90.0</td>\n",
       "      <td>90.0</td>\n",
       "      <td>2.6</td>\n",
       "      <td>79.0</td>\n",
       "      <td>47.0</td>\n",
       "      <td>False</td>\n",
       "      <td>4.0</td>\n",
       "      <td>0.0</td>\n",
       "      <td>8.0</td>\n",
       "      <td>...</td>\n",
       "      <td>57.0</td>\n",
       "      <td>19.0</td>\n",
       "      <td>3.1</td>\n",
       "      <td>15.9</td>\n",
       "      <td>13.7</td>\n",
       "      <td>33.0</td>\n",
       "      <td>19.0</td>\n",
       "      <td>2010</td>\n",
       "      <td>7</td>\n",
       "      <td>8</td>\n",
       "    </tr>\n",
       "    <tr>\n",
       "      <th>3</th>\n",
       "      <td>1762</td>\n",
       "      <td>337.5</td>\n",
       "      <td>247.5</td>\n",
       "      <td>0.0</td>\n",
       "      <td>92.0</td>\n",
       "      <td>96.0</td>\n",
       "      <td>True</td>\n",
       "      <td>3.0</td>\n",
       "      <td>5.0</td>\n",
       "      <td>8.0</td>\n",
       "      <td>...</td>\n",
       "      <td>54.0</td>\n",
       "      <td>21.5</td>\n",
       "      <td>19.3</td>\n",
       "      <td>19.2</td>\n",
       "      <td>19.4</td>\n",
       "      <td>31.0</td>\n",
       "      <td>13.0</td>\n",
       "      <td>2015</td>\n",
       "      <td>11</td>\n",
       "      <td>4</td>\n",
       "    </tr>\n",
       "    <tr>\n",
       "      <th>4</th>\n",
       "      <td>89422</td>\n",
       "      <td>45.0</td>\n",
       "      <td>22.5</td>\n",
       "      <td>0.0</td>\n",
       "      <td>14.0</td>\n",
       "      <td>37.0</td>\n",
       "      <td>False</td>\n",
       "      <td>4.0</td>\n",
       "      <td>0.0</td>\n",
       "      <td>2.0</td>\n",
       "      <td>...</td>\n",
       "      <td>50.0</td>\n",
       "      <td>35.7</td>\n",
       "      <td>18.4</td>\n",
       "      <td>34.8</td>\n",
       "      <td>26.9</td>\n",
       "      <td>19.0</td>\n",
       "      <td>13.0</td>\n",
       "      <td>2014</td>\n",
       "      <td>12</td>\n",
       "      <td>22</td>\n",
       "    </tr>\n",
       "    <tr>\n",
       "      <th>...</th>\n",
       "      <td>...</td>\n",
       "      <td>...</td>\n",
       "      <td>...</td>\n",
       "      <td>...</td>\n",
       "      <td>...</td>\n",
       "      <td>...</td>\n",
       "      <td>...</td>\n",
       "      <td>...</td>\n",
       "      <td>...</td>\n",
       "      <td>...</td>\n",
       "      <td>...</td>\n",
       "      <td>...</td>\n",
       "      <td>...</td>\n",
       "      <td>...</td>\n",
       "      <td>...</td>\n",
       "      <td>...</td>\n",
       "      <td>...</td>\n",
       "      <td>...</td>\n",
       "      <td>...</td>\n",
       "      <td>...</td>\n",
       "      <td>...</td>\n",
       "    </tr>\n",
       "    <tr>\n",
       "      <th>102351</th>\n",
       "      <td>49272</td>\n",
       "      <td>157.5</td>\n",
       "      <td>90.0</td>\n",
       "      <td>6.5</td>\n",
       "      <td>63.0</td>\n",
       "      <td>44.0</td>\n",
       "      <td>False</td>\n",
       "      <td>3.8</td>\n",
       "      <td>0.4</td>\n",
       "      <td>6.0</td>\n",
       "      <td>...</td>\n",
       "      <td>72.0</td>\n",
       "      <td>20.5</td>\n",
       "      <td>9.6</td>\n",
       "      <td>13.8</td>\n",
       "      <td>14.6</td>\n",
       "      <td>37.0</td>\n",
       "      <td>20.0</td>\n",
       "      <td>2012</td>\n",
       "      <td>5</td>\n",
       "      <td>23</td>\n",
       "    </tr>\n",
       "    <tr>\n",
       "      <th>102352</th>\n",
       "      <td>13885</td>\n",
       "      <td>270.0</td>\n",
       "      <td>315.0</td>\n",
       "      <td>2.1</td>\n",
       "      <td>65.0</td>\n",
       "      <td>80.0</td>\n",
       "      <td>True</td>\n",
       "      <td>1.6</td>\n",
       "      <td>5.2</td>\n",
       "      <td>7.0</td>\n",
       "      <td>...</td>\n",
       "      <td>48.0</td>\n",
       "      <td>15.4</td>\n",
       "      <td>8.9</td>\n",
       "      <td>14.3</td>\n",
       "      <td>11.8</td>\n",
       "      <td>31.0</td>\n",
       "      <td>30.0</td>\n",
       "      <td>2011</td>\n",
       "      <td>10</td>\n",
       "      <td>25</td>\n",
       "    </tr>\n",
       "    <tr>\n",
       "      <th>102353</th>\n",
       "      <td>4586</td>\n",
       "      <td>247.5</td>\n",
       "      <td>337.5</td>\n",
       "      <td>0.0</td>\n",
       "      <td>81.0</td>\n",
       "      <td>62.0</td>\n",
       "      <td>False</td>\n",
       "      <td>4.0</td>\n",
       "      <td>0.0</td>\n",
       "      <td>7.0</td>\n",
       "      <td>...</td>\n",
       "      <td>35.0</td>\n",
       "      <td>17.9</td>\n",
       "      <td>9.6</td>\n",
       "      <td>15.3</td>\n",
       "      <td>14.6</td>\n",
       "      <td>2.0</td>\n",
       "      <td>6.0</td>\n",
       "      <td>2015</td>\n",
       "      <td>12</td>\n",
       "      <td>16</td>\n",
       "    </tr>\n",
       "    <tr>\n",
       "      <th>102354</th>\n",
       "      <td>68030</td>\n",
       "      <td>45.0</td>\n",
       "      <td>67.5</td>\n",
       "      <td>0.9</td>\n",
       "      <td>79.0</td>\n",
       "      <td>65.0</td>\n",
       "      <td>False</td>\n",
       "      <td>2.2</td>\n",
       "      <td>0.0</td>\n",
       "      <td>8.0</td>\n",
       "      <td>...</td>\n",
       "      <td>56.0</td>\n",
       "      <td>12.8</td>\n",
       "      <td>5.9</td>\n",
       "      <td>9.8</td>\n",
       "      <td>9.6</td>\n",
       "      <td>24.0</td>\n",
       "      <td>17.0</td>\n",
       "      <td>2010</td>\n",
       "      <td>8</td>\n",
       "      <td>18</td>\n",
       "    </tr>\n",
       "    <tr>\n",
       "      <th>102355</th>\n",
       "      <td>32535</td>\n",
       "      <td>337.5</td>\n",
       "      <td>315.0</td>\n",
       "      <td>10.7</td>\n",
       "      <td>56.0</td>\n",
       "      <td>65.0</td>\n",
       "      <td>False</td>\n",
       "      <td>10.0</td>\n",
       "      <td>0.0</td>\n",
       "      <td>2.0</td>\n",
       "      <td>...</td>\n",
       "      <td>48.0</td>\n",
       "      <td>27.0</td>\n",
       "      <td>13.7</td>\n",
       "      <td>26.3</td>\n",
       "      <td>23.1</td>\n",
       "      <td>30.0</td>\n",
       "      <td>11.0</td>\n",
       "      <td>2015</td>\n",
       "      <td>12</td>\n",
       "      <td>7</td>\n",
       "    </tr>\n",
       "  </tbody>\n",
       "</table>\n",
       "<p>102356 rows × 24 columns</p>\n",
       "</div>"
      ],
      "text/plain": [
       "           id  direccion_viento_tarde  direccion_viento_temprano  \\\n",
       "0       74816                   247.5                      225.0   \n",
       "1       64318                   202.5                        0.0   \n",
       "2       54357                    90.0                       90.0   \n",
       "3        1762                   337.5                      247.5   \n",
       "4       89422                    45.0                       22.5   \n",
       "...       ...                     ...                        ...   \n",
       "102351  49272                   157.5                       90.0   \n",
       "102352  13885                   270.0                      315.0   \n",
       "102353   4586                   247.5                      337.5   \n",
       "102354  68030                    45.0                       67.5   \n",
       "102355  32535                   337.5                      315.0   \n",
       "\n",
       "        horas_de_sol  humedad_tarde  humedad_temprano  \\\n",
       "0                0.0           78.0              74.0   \n",
       "1                0.0           14.0              56.0   \n",
       "2                2.6           79.0              47.0   \n",
       "3                0.0           92.0              96.0   \n",
       "4                0.0           14.0              37.0   \n",
       "...              ...            ...               ...   \n",
       "102351           6.5           63.0              44.0   \n",
       "102352           2.1           65.0              80.0   \n",
       "102353           0.0           81.0              62.0   \n",
       "102354           0.9           79.0              65.0   \n",
       "102355          10.7           56.0              65.0   \n",
       "\n",
       "        llovieron_hamburguesas_hoy  mm_evaporados_agua  mm_lluvia_dia  \\\n",
       "0                             True                 4.0           68.0   \n",
       "1                             True                 4.0            5.8   \n",
       "2                            False                 4.0            0.0   \n",
       "3                             True                 3.0            5.0   \n",
       "4                            False                 4.0            0.0   \n",
       "...                            ...                 ...            ...   \n",
       "102351                       False                 3.8            0.4   \n",
       "102352                        True                 1.6            5.2   \n",
       "102353                       False                 4.0            0.0   \n",
       "102354                       False                 2.2            0.0   \n",
       "102355                       False                10.0            0.0   \n",
       "\n",
       "        nubosidad_tarde  ...  rafaga_viento_max_velocidad  temp_max  temp_min  \\\n",
       "0                   7.0  ...                         48.0      17.9      11.6   \n",
       "1                   1.0  ...                         61.0      41.8      22.0   \n",
       "2                   8.0  ...                         57.0      19.0       3.1   \n",
       "3                   8.0  ...                         54.0      21.5      19.3   \n",
       "4                   2.0  ...                         50.0      35.7      18.4   \n",
       "...                 ...  ...                          ...       ...       ...   \n",
       "102351              6.0  ...                         72.0      20.5       9.6   \n",
       "102352              7.0  ...                         48.0      15.4       8.9   \n",
       "102353              7.0  ...                         35.0      17.9       9.6   \n",
       "102354              8.0  ...                         56.0      12.8       5.9   \n",
       "102355              2.0  ...                         48.0      27.0      13.7   \n",
       "\n",
       "        temperatura_tarde  temperatura_temprano  velocidad_viendo_tarde  \\\n",
       "0                    17.2                  14.8                    26.0   \n",
       "1                    40.2                  28.1                    31.0   \n",
       "2                    15.9                  13.7                    33.0   \n",
       "3                    19.2                  19.4                    31.0   \n",
       "4                    34.8                  26.9                    19.0   \n",
       "...                   ...                   ...                     ...   \n",
       "102351               13.8                  14.6                    37.0   \n",
       "102352               14.3                  11.8                    31.0   \n",
       "102353               15.3                  14.6                     2.0   \n",
       "102354                9.8                   9.6                    24.0   \n",
       "102355               26.3                  23.1                    30.0   \n",
       "\n",
       "        velocidad_viendo_temprano     y   m   d  \n",
       "0                            17.0  2014   6   7  \n",
       "1                            11.0  2014  12   7  \n",
       "2                            19.0  2010   7   8  \n",
       "3                            13.0  2015  11   4  \n",
       "4                            13.0  2014  12  22  \n",
       "...                           ...   ...  ..  ..  \n",
       "102351                       20.0  2012   5  23  \n",
       "102352                       30.0  2011  10  25  \n",
       "102353                        6.0  2015  12  16  \n",
       "102354                       17.0  2010   8  18  \n",
       "102355                       11.0  2015  12   7  \n",
       "\n",
       "[102356 rows x 24 columns]"
      ]
     },
     "execution_count": 8,
     "metadata": {},
     "output_type": "execute_result"
    }
   ],
   "source": [
    "targetBooleano(df_targ, inplace=True)\n",
    "reemplazarNulls(df_feat , inplace=True)\n",
    "reemplazarCategoricas(df_feat , inplace=True)\n",
    "reemplazarFechas(df_feat , inplace=True)"
   ]
  },
  {
   "cell_type": "code",
   "execution_count": 9,
   "id": "642171dc-c717-48aa-9f13-3d5115385741",
   "metadata": {
    "execution": {
     "iopub.execute_input": "2021-12-04T01:15:23.056183Z",
     "iopub.status.busy": "2021-12-04T01:15:23.055860Z",
     "iopub.status.idle": "2021-12-04T01:15:23.072805Z",
     "shell.execute_reply": "2021-12-04T01:15:23.072241Z",
     "shell.execute_reply.started": "2021-12-04T01:15:23.056159Z"
    },
    "tags": []
   },
   "outputs": [
    {
     "name": "stdout",
     "output_type": "stream",
     "text": [
      "<class 'pandas.core.frame.DataFrame'>\n",
      "RangeIndex: 102356 entries, 0 to 102355\n",
      "Data columns (total 24 columns):\n",
      " #   Column                        Non-Null Count   Dtype  \n",
      "---  ------                        --------------   -----  \n",
      " 0   id                            102356 non-null  int64  \n",
      " 1   direccion_viento_tarde        102356 non-null  float64\n",
      " 2   direccion_viento_temprano     102356 non-null  float64\n",
      " 3   horas_de_sol                  102356 non-null  float64\n",
      " 4   humedad_tarde                 102356 non-null  float64\n",
      " 5   humedad_temprano              102356 non-null  float64\n",
      " 6   llovieron_hamburguesas_hoy    102356 non-null  bool   \n",
      " 7   mm_evaporados_agua            102356 non-null  float64\n",
      " 8   mm_lluvia_dia                 102356 non-null  float64\n",
      " 9   nubosidad_tarde               102356 non-null  float64\n",
      " 10  nubosidad_temprano            102356 non-null  float64\n",
      " 11  presion_atmosferica_tarde     102356 non-null  float64\n",
      " 12  presion_atmosferica_temprano  102356 non-null  float64\n",
      " 13  rafaga_viento_max_direccion   102356 non-null  float64\n",
      " 14  rafaga_viento_max_velocidad   102356 non-null  float64\n",
      " 15  temp_max                      102356 non-null  float64\n",
      " 16  temp_min                      102356 non-null  float64\n",
      " 17  temperatura_tarde             102356 non-null  float64\n",
      " 18  temperatura_temprano          102356 non-null  float64\n",
      " 19  velocidad_viendo_tarde        102356 non-null  float64\n",
      " 20  velocidad_viendo_temprano     102356 non-null  float64\n",
      " 21  y                             102356 non-null  int64  \n",
      " 22  m                             102356 non-null  int64  \n",
      " 23  d                             102356 non-null  int64  \n",
      "dtypes: bool(1), float64(19), int64(4)\n",
      "memory usage: 18.1 MB\n"
     ]
    }
   ],
   "source": [
    "df_feat.info()"
   ]
  },
  {
   "cell_type": "code",
   "execution_count": 10,
   "id": "a21cd14d-72b8-46e3-a7ac-96ba3e4a42dc",
   "metadata": {
    "execution": {
     "iopub.execute_input": "2021-12-04T01:15:23.074278Z",
     "iopub.status.busy": "2021-12-04T01:15:23.073893Z",
     "iopub.status.idle": "2021-12-04T01:15:23.138962Z",
     "shell.execute_reply": "2021-12-04T01:15:23.138321Z",
     "shell.execute_reply.started": "2021-12-04T01:15:23.074244Z"
    }
   },
   "outputs": [],
   "source": [
    "train_feat, val_feat, train_targ, val_targ = train_val( df_feat, df_targ )"
   ]
  },
  {
   "cell_type": "code",
   "execution_count": 11,
   "id": "d6118176-4cc5-4353-ad27-18dee03eb9cb",
   "metadata": {
    "execution": {
     "iopub.execute_input": "2021-12-04T01:15:23.140276Z",
     "iopub.status.busy": "2021-12-04T01:15:23.139863Z",
     "iopub.status.idle": "2021-12-04T01:15:23.143888Z",
     "shell.execute_reply": "2021-12-04T01:15:23.142951Z",
     "shell.execute_reply.started": "2021-12-04T01:15:23.140252Z"
    }
   },
   "outputs": [],
   "source": [
    "train_targ = train_targ.llovieron_hamburguesas_al_dia_siguiente\n",
    "val_targ = val_targ.llovieron_hamburguesas_al_dia_siguiente"
   ]
  },
  {
   "cell_type": "markdown",
   "id": "0644d54b-4e59-49d5-a8df-c627b574c2f3",
   "metadata": {},
   "source": [
    "## Entrenamiento"
   ]
  },
  {
   "cell_type": "markdown",
   "id": "12e60815-3880-48af-9fcc-527ec3ecec42",
   "metadata": {},
   "source": [
    "### Simple"
   ]
  },
  {
   "cell_type": "code",
   "execution_count": 12,
   "id": "2bb0e7fa-49d3-4711-aa60-2a98afef1996",
   "metadata": {
    "execution": {
     "iopub.execute_input": "2021-12-04T01:15:23.149004Z",
     "iopub.status.busy": "2021-12-04T01:15:23.148407Z",
     "iopub.status.idle": "2021-12-04T01:15:26.714236Z",
     "shell.execute_reply": "2021-12-04T01:15:26.713653Z",
     "shell.execute_reply.started": "2021-12-04T01:15:23.148972Z"
    }
   },
   "outputs": [],
   "source": [
    "if (runSimple):\n",
    "    forest_simple = RandomForestClassifier(\n",
    "        random_state=1,\n",
    "        max_depth=3,\n",
    "        min_samples_split=200,\n",
    "    )\n",
    "    forest_simple.fit( train_feat, train_targ )\n",
    "    \n",
    "    # Guardar\n",
    "    if(saveSimple):\n",
    "        dump(forest_simple, 'models/Ensambles/forest_simple.sk') \n",
    "else:\n",
    "    # Cargar\n",
    "    forest_simple = load('models/Ensambles/forest_simple.sk')"
   ]
  },
  {
   "cell_type": "code",
   "execution_count": 13,
   "id": "13fd98df-4710-49ba-8c42-a630eb2987df",
   "metadata": {
    "execution": {
     "iopub.execute_input": "2021-12-04T01:15:26.715452Z",
     "iopub.status.busy": "2021-12-04T01:15:26.715212Z",
     "iopub.status.idle": "2021-12-04T01:15:26.799691Z",
     "shell.execute_reply": "2021-12-04T01:15:26.799075Z",
     "shell.execute_reply.started": "2021-12-04T01:15:26.715429Z"
    }
   },
   "outputs": [
    {
     "name": "stdout",
     "output_type": "stream",
     "text": [
      "CPU times: user 2 µs, sys: 0 ns, total: 2 µs\n",
      "Wall time: 4.05 µs\n",
      "ACCURACY: 0.8159437280187574\n"
     ]
    }
   ],
   "source": [
    "%time\n",
    "pred_s = forest_simple.predict(val_feat)\n",
    "score(pred_s, val_targ)"
   ]
  },
  {
   "cell_type": "markdown",
   "id": "530e14b5-501c-4cf5-87fc-b57e4559f24c",
   "metadata": {},
   "source": [
    "### Validado"
   ]
  },
  {
   "cell_type": "code",
   "execution_count": 14,
   "id": "0be2b1be-0ddb-43e5-9966-8364904b477e",
   "metadata": {
    "execution": {
     "iopub.execute_input": "2021-12-04T01:15:26.800918Z",
     "iopub.status.busy": "2021-12-04T01:15:26.800647Z",
     "iopub.status.idle": "2021-12-04T02:39:28.764546Z",
     "shell.execute_reply": "2021-12-04T02:39:28.763955Z",
     "shell.execute_reply.started": "2021-12-04T01:15:26.800880Z"
    },
    "scrolled": true,
    "tags": []
   },
   "outputs": [
    {
     "name": "stdout",
     "output_type": "stream",
     "text": [
      "n_iterations: 8\n",
      "n_required_iterations: 8\n",
      "n_possible_iterations: 8\n",
      "min_resources_: 42\n",
      "max_resources_: 92120\n",
      "aggressive_elimination: False\n",
      "factor: 3\n",
      "----------\n",
      "iter: 0\n",
      "n_candidates: 6498\n",
      "n_resources: 42\n",
      "Fitting 5 folds for each of 6498 candidates, totalling 32490 fits\n",
      "----------\n",
      "iter: 1\n",
      "n_candidates: 2166\n",
      "n_resources: 126\n",
      "Fitting 5 folds for each of 2166 candidates, totalling 10830 fits\n",
      "----------\n",
      "iter: 2\n",
      "n_candidates: 722\n",
      "n_resources: 378\n",
      "Fitting 5 folds for each of 722 candidates, totalling 3610 fits\n",
      "----------\n",
      "iter: 3\n",
      "n_candidates: 241\n",
      "n_resources: 1134\n",
      "Fitting 5 folds for each of 241 candidates, totalling 1205 fits\n",
      "----------\n",
      "iter: 4\n",
      "n_candidates: 81\n",
      "n_resources: 3402\n",
      "Fitting 5 folds for each of 81 candidates, totalling 405 fits\n",
      "----------\n",
      "iter: 5\n",
      "n_candidates: 27\n",
      "n_resources: 10206\n",
      "Fitting 5 folds for each of 27 candidates, totalling 135 fits\n",
      "----------\n",
      "iter: 6\n",
      "n_candidates: 9\n",
      "n_resources: 30618\n",
      "Fitting 5 folds for each of 9 candidates, totalling 45 fits\n",
      "----------\n",
      "iter: 7\n",
      "n_candidates: 3\n",
      "n_resources: 91854\n",
      "Fitting 5 folds for each of 3 candidates, totalling 15 fits\n"
     ]
    }
   ],
   "source": [
    "if( runValidated ):\n",
    "    forest = RandomForestClassifier(\n",
    "        random_state=1,\n",
    "    )\n",
    "    \n",
    "    params = {\n",
    "        'max_depth': np.arange(1, 20, 1),\n",
    "        'min_samples_leaf': np.arange(50, 1000, 50),\n",
    "        'criterion': ['gini', 'entropy'],\n",
    "        'n_estimators': np.arange(50,500,50),\n",
    "    }\n",
    "    \n",
    "    forest_grid = HalvingGridSearchCV(\n",
    "        forest,\n",
    "        params,\n",
    "        scoring='accuracy',\n",
    "        n_jobs=MAX_JOBS,\n",
    "        return_train_score=True,\n",
    "        verbose=1\n",
    "    ).fit(train_feat, train_targ)\n",
    "    \n",
    "    # Guardar\n",
    "    if(saveValidated):\n",
    "        dump(forest_grid, 'models/Ensambles/forest_grid.sk')\n",
    "else:\n",
    "    # Cargar\n",
    "    forest_grid = load('models/Ensambles/forest_grid.sk')"
   ]
  },
  {
   "cell_type": "code",
   "execution_count": 18,
   "id": "63a6b4bc-e597-46dc-9146-e255adc0e118",
   "metadata": {
    "execution": {
     "iopub.execute_input": "2021-12-04T02:43:30.684887Z",
     "iopub.status.busy": "2021-12-04T02:43:30.684646Z",
     "iopub.status.idle": "2021-12-04T02:43:30.688961Z",
     "shell.execute_reply": "2021-12-04T02:43:30.688091Z",
     "shell.execute_reply.started": "2021-12-04T02:43:30.684862Z"
    },
    "tags": []
   },
   "outputs": [
    {
     "name": "stdout",
     "output_type": "stream",
     "text": [
      "Best score: 0.8472291780076212\n",
      "Best params {'criterion': 'gini', 'max_depth': 19, 'min_samples_leaf': 50, 'n_estimators': 250}\n"
     ]
    }
   ],
   "source": [
    "print(f\"Best score: {forest_grid.best_score_}\")\n",
    "print(f\"Best params {forest_grid.best_params_}\")"
   ]
  },
  {
   "cell_type": "code",
   "execution_count": 15,
   "id": "3d93138b-9a57-47e0-81a1-820e8fc2e0c9",
   "metadata": {
    "execution": {
     "iopub.execute_input": "2021-12-04T02:39:28.765771Z",
     "iopub.status.busy": "2021-12-04T02:39:28.765554Z",
     "iopub.status.idle": "2021-12-04T02:39:28.769048Z",
     "shell.execute_reply": "2021-12-04T02:39:28.768157Z",
     "shell.execute_reply.started": "2021-12-04T02:39:28.765748Z"
    }
   },
   "outputs": [],
   "source": [
    "forest = forest_grid.best_estimator_"
   ]
  },
  {
   "cell_type": "code",
   "execution_count": 16,
   "id": "1698b124-275e-4a0c-b83c-39ee13760708",
   "metadata": {
    "execution": {
     "iopub.execute_input": "2021-12-04T02:39:28.770706Z",
     "iopub.status.busy": "2021-12-04T02:39:28.770396Z",
     "iopub.status.idle": "2021-12-04T02:39:29.127993Z",
     "shell.execute_reply": "2021-12-04T02:39:29.127374Z",
     "shell.execute_reply.started": "2021-12-04T02:39:28.770672Z"
    }
   },
   "outputs": [
    {
     "name": "stdout",
     "output_type": "stream",
     "text": [
      "CPU times: user 1e+03 ns, sys: 1e+03 ns, total: 2 µs\n",
      "Wall time: 4.05 µs\n",
      "ACCURACY: 0.8403673309886674\n"
     ]
    }
   ],
   "source": [
    "%time\n",
    "pred = forest.predict(val_feat)\n",
    "score(pred, val_targ)"
   ]
  },
  {
   "cell_type": "code",
   "execution_count": 17,
   "id": "6e8601a9-0cba-4a18-a8e6-7afd4b39737c",
   "metadata": {
    "execution": {
     "iopub.execute_input": "2021-12-04T02:39:29.129162Z",
     "iopub.status.busy": "2021-12-04T02:39:29.128858Z",
     "iopub.status.idle": "2021-12-04T02:39:29.380002Z",
     "shell.execute_reply": "2021-12-04T02:39:29.379284Z",
     "shell.execute_reply.started": "2021-12-04T02:39:29.129138Z"
    },
    "tags": []
   },
   "outputs": [
    {
     "data": {
      "text/plain": [
       "['models/Ensambles/forest.sk']"
      ]
     },
     "execution_count": 17,
     "metadata": {},
     "output_type": "execute_result"
    }
   ],
   "source": [
    "dump(forest, 'models/Ensambles/forest.sk')"
   ]
  }
 ],
 "metadata": {
  "kernelspec": {
   "display_name": "Python 3 (ipykernel)",
   "language": "python",
   "name": "python3"
  },
  "language_info": {
   "codemirror_mode": {
    "name": "ipython",
    "version": 3
   },
   "file_extension": ".py",
   "mimetype": "text/x-python",
   "name": "python",
   "nbconvert_exporter": "python",
   "pygments_lexer": "ipython3",
   "version": "3.9.9"
  }
 },
 "nbformat": 4,
 "nbformat_minor": 5
}
