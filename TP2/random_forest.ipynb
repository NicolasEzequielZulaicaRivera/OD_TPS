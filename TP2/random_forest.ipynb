{
 "cells": [
  {
   "cell_type": "markdown",
   "id": "3308d311-40d7-4259-a828-7a57b1c0697c",
   "metadata": {},
   "source": [
    "# Random Forest"
   ]
  },
  {
   "cell_type": "markdown",
   "id": "2052667d-db58-4679-830a-e39d8750ef0a",
   "metadata": {},
   "source": [
    "### Imports"
   ]
  },
  {
   "cell_type": "code",
   "execution_count": 1,
   "id": "57fe6f06-9c8e-4d61-97ae-d6a56db43ce2",
   "metadata": {
    "execution": {
     "iopub.execute_input": "2021-12-07T13:03:43.518464Z",
     "iopub.status.busy": "2021-12-07T13:03:43.518123Z",
     "iopub.status.idle": "2021-12-07T13:03:44.563509Z",
     "shell.execute_reply": "2021-12-07T13:03:44.562863Z",
     "shell.execute_reply.started": "2021-12-07T13:03:43.518359Z"
    }
   },
   "outputs": [],
   "source": [
    "import pandas as pd\n",
    "import numpy as np\n",
    "from matplotlib import pyplot as plt\n",
    "from joblib import dump, load"
   ]
  },
  {
   "cell_type": "code",
   "execution_count": 2,
   "id": "a49e6792-264c-4416-9d7a-2fd751337a76",
   "metadata": {
    "execution": {
     "iopub.execute_input": "2021-12-07T13:03:44.564603Z",
     "iopub.status.busy": "2021-12-07T13:03:44.564316Z",
     "iopub.status.idle": "2021-12-07T13:03:45.012798Z",
     "shell.execute_reply": "2021-12-07T13:03:45.011804Z",
     "shell.execute_reply.started": "2021-12-07T13:03:44.564584Z"
    }
   },
   "outputs": [],
   "source": [
    "from sklearn.ensemble import RandomForestClassifier\n",
    "from sklearn.experimental import enable_halving_search_cv\n",
    "from sklearn.model_selection import HalvingGridSearchCV\n",
    "from sklearn import tree"
   ]
  },
  {
   "cell_type": "code",
   "execution_count": 3,
   "id": "ecbe57a8-73db-45f4-a21d-4f876860ec06",
   "metadata": {
    "execution": {
     "iopub.execute_input": "2021-12-07T13:03:45.016247Z",
     "iopub.status.busy": "2021-12-07T13:03:45.015903Z",
     "iopub.status.idle": "2021-12-07T13:03:46.409199Z",
     "shell.execute_reply": "2021-12-07T13:03:46.408691Z",
     "shell.execute_reply.started": "2021-12-07T13:03:45.016209Z"
    }
   },
   "outputs": [
    {
     "name": "stdout",
     "output_type": "stream",
     "text": [
      "[###] All Done                                              \n"
     ]
    }
   ],
   "source": [
    "from preprocessing import reemplazarNulls,reemplazarCategoricas,reemplazarFechas,regularizar,targetBooleano"
   ]
  },
  {
   "cell_type": "code",
   "execution_count": 4,
   "id": "ae53c637-7f02-4802-9add-5a35ced69f64",
   "metadata": {
    "execution": {
     "iopub.execute_input": "2021-12-07T13:03:46.410308Z",
     "iopub.status.busy": "2021-12-07T13:03:46.409991Z",
     "iopub.status.idle": "2021-12-07T13:03:46.880593Z",
     "shell.execute_reply": "2021-12-07T13:03:46.879784Z",
     "shell.execute_reply.started": "2021-12-07T13:03:46.410276Z"
    }
   },
   "outputs": [],
   "source": [
    "from utilities import score, df_feat, df_targ, train_val"
   ]
  },
  {
   "cell_type": "markdown",
   "id": "1aa60fef-ad74-400f-8ef7-8255160828a9",
   "metadata": {},
   "source": [
    "### Codigo a correr"
   ]
  },
  {
   "cell_type": "code",
   "execution_count": 5,
   "id": "cac84d06-6216-46dc-9d75-3044c9a63f5d",
   "metadata": {
    "execution": {
     "iopub.execute_input": "2021-12-07T13:03:46.882016Z",
     "iopub.status.busy": "2021-12-07T13:03:46.881759Z",
     "iopub.status.idle": "2021-12-07T13:03:46.885950Z",
     "shell.execute_reply": "2021-12-07T13:03:46.884875Z",
     "shell.execute_reply.started": "2021-12-07T13:03:46.881995Z"
    }
   },
   "outputs": [],
   "source": [
    "MAX_JOBS = 5"
   ]
  },
  {
   "cell_type": "markdown",
   "id": "c99e8bfe-0edd-4db5-a218-1cf71f809d2d",
   "metadata": {},
   "source": [
    "**Run :** Entrenar Nuevamente o Cargar Entrenado"
   ]
  },
  {
   "cell_type": "code",
   "execution_count": 6,
   "id": "cd65bc5e-db28-4191-9e7f-0932bbd738a3",
   "metadata": {
    "execution": {
     "iopub.execute_input": "2021-12-07T13:03:46.887607Z",
     "iopub.status.busy": "2021-12-07T13:03:46.887090Z",
     "iopub.status.idle": "2021-12-07T13:03:46.893761Z",
     "shell.execute_reply": "2021-12-07T13:03:46.892851Z",
     "shell.execute_reply.started": "2021-12-07T13:03:46.887576Z"
    },
    "tags": []
   },
   "outputs": [],
   "source": [
    "runSimple = False\n",
    "runValidated = False\n",
    "runReg = False"
   ]
  },
  {
   "cell_type": "markdown",
   "id": "f1c590df-60bb-4c53-91e7-2da0c3476415",
   "metadata": {},
   "source": [
    "**Save :** Guardar Modelo (pisa anterior)"
   ]
  },
  {
   "cell_type": "code",
   "execution_count": 7,
   "id": "6f9b41b6-3059-4967-a9c7-c00188c3e415",
   "metadata": {
    "execution": {
     "iopub.execute_input": "2021-12-07T13:03:46.895295Z",
     "iopub.status.busy": "2021-12-07T13:03:46.895011Z",
     "iopub.status.idle": "2021-12-07T13:03:46.900570Z",
     "shell.execute_reply": "2021-12-07T13:03:46.899588Z",
     "shell.execute_reply.started": "2021-12-07T13:03:46.895265Z"
    },
    "tags": []
   },
   "outputs": [],
   "source": [
    "saveSimple = True\n",
    "saveValidated = True\n",
    "saveReg = True"
   ]
  },
  {
   "cell_type": "markdown",
   "id": "e6b58791-7d09-4d8a-8fcd-2b5e207db9fd",
   "metadata": {},
   "source": [
    "### Preprocesamiento"
   ]
  },
  {
   "cell_type": "code",
   "execution_count": 8,
   "id": "2e086941-2bc4-49ea-8bd8-91682b5a619a",
   "metadata": {
    "execution": {
     "iopub.execute_input": "2021-12-07T13:03:46.902104Z",
     "iopub.status.busy": "2021-12-07T13:03:46.901694Z",
     "iopub.status.idle": "2021-12-07T13:03:48.579479Z",
     "shell.execute_reply": "2021-12-07T13:03:48.578718Z",
     "shell.execute_reply.started": "2021-12-07T13:03:46.902079Z"
    },
    "tags": []
   },
   "outputs": [],
   "source": [
    "targetBooleano(df_targ, inplace=True)\n",
    "reemplazarNulls(df_feat , inplace=True)\n",
    "reemplazarCategoricas(df_feat , inplace=True)\n",
    "reemplazarFechas(df_feat , inplace=True)\n",
    "df_feat_r = regularizar(df_feat)"
   ]
  },
  {
   "cell_type": "code",
   "execution_count": 9,
   "id": "642171dc-c717-48aa-9f13-3d5115385741",
   "metadata": {
    "execution": {
     "iopub.execute_input": "2021-12-07T13:03:48.581796Z",
     "iopub.status.busy": "2021-12-07T13:03:48.581344Z",
     "iopub.status.idle": "2021-12-07T13:03:48.604063Z",
     "shell.execute_reply": "2021-12-07T13:03:48.603483Z",
     "shell.execute_reply.started": "2021-12-07T13:03:48.581765Z"
    },
    "tags": []
   },
   "outputs": [
    {
     "name": "stdout",
     "output_type": "stream",
     "text": [
      "<class 'pandas.core.frame.DataFrame'>\n",
      "RangeIndex: 102356 entries, 0 to 102355\n",
      "Data columns (total 24 columns):\n",
      " #   Column                        Non-Null Count   Dtype  \n",
      "---  ------                        --------------   -----  \n",
      " 0   id                            102356 non-null  int64  \n",
      " 1   direccion_viento_tarde        102356 non-null  float64\n",
      " 2   direccion_viento_temprano     102356 non-null  float64\n",
      " 3   horas_de_sol                  102356 non-null  float64\n",
      " 4   humedad_tarde                 102356 non-null  float64\n",
      " 5   humedad_temprano              102356 non-null  float64\n",
      " 6   llovieron_hamburguesas_hoy    102356 non-null  bool   \n",
      " 7   mm_evaporados_agua            102356 non-null  float64\n",
      " 8   mm_lluvia_dia                 102356 non-null  float64\n",
      " 9   nubosidad_tarde               102356 non-null  float64\n",
      " 10  nubosidad_temprano            102356 non-null  float64\n",
      " 11  presion_atmosferica_tarde     102356 non-null  float64\n",
      " 12  presion_atmosferica_temprano  102356 non-null  float64\n",
      " 13  rafaga_viento_max_direccion   102356 non-null  float64\n",
      " 14  rafaga_viento_max_velocidad   102356 non-null  float64\n",
      " 15  temp_max                      102356 non-null  float64\n",
      " 16  temp_min                      102356 non-null  float64\n",
      " 17  temperatura_tarde             102356 non-null  float64\n",
      " 18  temperatura_temprano          102356 non-null  float64\n",
      " 19  velocidad_viendo_tarde        102356 non-null  float64\n",
      " 20  velocidad_viendo_temprano     102356 non-null  float64\n",
      " 21  y                             102356 non-null  int64  \n",
      " 22  m                             102356 non-null  int64  \n",
      " 23  d                             102356 non-null  int64  \n",
      "dtypes: bool(1), float64(19), int64(4)\n",
      "memory usage: 18.1 MB\n"
     ]
    }
   ],
   "source": [
    "df_feat.info()"
   ]
  },
  {
   "cell_type": "code",
   "execution_count": 10,
   "id": "a21cd14d-72b8-46e3-a7ac-96ba3e4a42dc",
   "metadata": {
    "execution": {
     "iopub.execute_input": "2021-12-07T13:03:48.605582Z",
     "iopub.status.busy": "2021-12-07T13:03:48.605232Z",
     "iopub.status.idle": "2021-12-07T13:03:48.660882Z",
     "shell.execute_reply": "2021-12-07T13:03:48.660257Z",
     "shell.execute_reply.started": "2021-12-07T13:03:48.605559Z"
    }
   },
   "outputs": [],
   "source": [
    "train_feat, val_feat, train_targ, val_targ = train_val( df_feat, df_targ )"
   ]
  },
  {
   "cell_type": "code",
   "execution_count": 11,
   "id": "d6118176-4cc5-4353-ad27-18dee03eb9cb",
   "metadata": {
    "execution": {
     "iopub.execute_input": "2021-12-07T13:03:48.662591Z",
     "iopub.status.busy": "2021-12-07T13:03:48.662219Z",
     "iopub.status.idle": "2021-12-07T13:03:48.667816Z",
     "shell.execute_reply": "2021-12-07T13:03:48.667099Z",
     "shell.execute_reply.started": "2021-12-07T13:03:48.662552Z"
    }
   },
   "outputs": [],
   "source": [
    "train_targ = train_targ.llovieron_hamburguesas_al_dia_siguiente\n",
    "val_targ = val_targ.llovieron_hamburguesas_al_dia_siguiente"
   ]
  },
  {
   "cell_type": "code",
   "execution_count": 12,
   "id": "5ff6ec57-38df-404a-9797-f0cb758e0568",
   "metadata": {
    "execution": {
     "iopub.execute_input": "2021-12-07T13:03:48.674202Z",
     "iopub.status.busy": "2021-12-07T13:03:48.673984Z",
     "iopub.status.idle": "2021-12-07T13:03:48.717952Z",
     "shell.execute_reply": "2021-12-07T13:03:48.717303Z",
     "shell.execute_reply.started": "2021-12-07T13:03:48.674182Z"
    }
   },
   "outputs": [],
   "source": [
    "train_feat_r, val_feat_r, train_targ_r, val_targ_r = train_val( df_feat_r, df_targ )\n",
    "train_targ_r = train_targ_r.llovieron_hamburguesas_al_dia_siguiente\n",
    "val_targ_r = val_targ_r.llovieron_hamburguesas_al_dia_siguiente"
   ]
  },
  {
   "cell_type": "markdown",
   "id": "0644d54b-4e59-49d5-a8df-c627b574c2f3",
   "metadata": {},
   "source": [
    "## Entrenamiento"
   ]
  },
  {
   "cell_type": "markdown",
   "id": "12e60815-3880-48af-9fcc-527ec3ecec42",
   "metadata": {},
   "source": [
    "### Simple"
   ]
  },
  {
   "cell_type": "code",
   "execution_count": 13,
   "id": "2bb0e7fa-49d3-4711-aa60-2a98afef1996",
   "metadata": {
    "execution": {
     "iopub.execute_input": "2021-12-07T13:03:48.719162Z",
     "iopub.status.busy": "2021-12-07T13:03:48.718849Z",
     "iopub.status.idle": "2021-12-07T13:03:48.756688Z",
     "shell.execute_reply": "2021-12-07T13:03:48.756051Z",
     "shell.execute_reply.started": "2021-12-07T13:03:48.719140Z"
    }
   },
   "outputs": [],
   "source": [
    "if (runSimple):\n",
    "    forest_simple = RandomForestClassifier(\n",
    "        random_state=1,\n",
    "        max_depth=3,\n",
    "        min_samples_split=200,\n",
    "    )\n",
    "    forest_simple.fit( train_feat, train_targ )\n",
    "    \n",
    "    # Guardar\n",
    "    if(saveSimple):\n",
    "        dump(forest_simple, 'models/Ensambles/forest_simple.sk') \n",
    "else:\n",
    "    # Cargar\n",
    "    forest_simple = load('models/Ensambles/forest_simple.sk')"
   ]
  },
  {
   "cell_type": "code",
   "execution_count": 14,
   "id": "13fd98df-4710-49ba-8c42-a630eb2987df",
   "metadata": {
    "execution": {
     "iopub.execute_input": "2021-12-07T13:03:48.757809Z",
     "iopub.status.busy": "2021-12-07T13:03:48.757600Z",
     "iopub.status.idle": "2021-12-07T13:03:49.128919Z",
     "shell.execute_reply": "2021-12-07T13:03:49.128050Z",
     "shell.execute_reply.started": "2021-12-07T13:03:48.757787Z"
    }
   },
   "outputs": [
    {
     "name": "stdout",
     "output_type": "stream",
     "text": [
      "AUC-ROC: 0.825984730995354\n",
      "ACCURACY: 0.8159437280187574\n",
      "PRESICION: 0.8152173913043478\n",
      "RECALL: 0.2292576419213974\n",
      "CONFUSION MATRIX\n",
      "CPU times: user 288 ms, sys: 16.5 ms, total: 305 ms\n",
      "Wall time: 272 ms\n"
     ]
    },
    {
     "data": {
      "image/png": "[encoded data removed]",
      "text/plain": [
       "<Figure size 432x288 with 2 Axes>"
      ]
     },
     "metadata": {},
     "output_type": "display_data"
    }
   ],
   "source": [
    "%%time\n",
    "pred_s = forest_simple.predict(val_feat)\n",
    "prob_s = forest_simple.predict_proba(val_feat)\n",
    "score(val_targ, pred_s, prob_s[:,1])"
   ]
  },
  {
   "cell_type": "markdown",
   "id": "530e14b5-501c-4cf5-87fc-b57e4559f24c",
   "metadata": {},
   "source": [
    "### Validado"
   ]
  },
  {
   "cell_type": "code",
   "execution_count": 15,
   "id": "0be2b1be-0ddb-43e5-9966-8364904b477e",
   "metadata": {
    "execution": {
     "iopub.execute_input": "2021-12-07T13:03:49.130913Z",
     "iopub.status.busy": "2021-12-07T13:03:49.130582Z",
     "iopub.status.idle": "2021-12-07T13:03:49.289927Z",
     "shell.execute_reply": "2021-12-07T13:03:49.289113Z",
     "shell.execute_reply.started": "2021-12-07T13:03:49.130874Z"
    },
    "scrolled": true,
    "tags": []
   },
   "outputs": [],
   "source": [
    "if( runValidated ):\n",
    "    forest = RandomForestClassifier(\n",
    "        random_state=1,\n",
    "    )\n",
    "    \n",
    "    params = {\n",
    "        'max_depth': np.arange(3, 20, 1),\n",
    "        'min_samples_leaf': np.arange(100, 1000, 100),\n",
    "        'criterion': ['gini', 'entropy'],\n",
    "        'n_estimators': np.arange(100,500,100),\n",
    "    }\n",
    "    \n",
    "    forest_grid = HalvingGridSearchCV(\n",
    "        forest,\n",
    "        params,\n",
    "        scoring='roc_auc',\n",
    "        n_jobs=MAX_JOBS,\n",
    "        return_train_score=True,\n",
    "        verbose=1\n",
    "    ).fit(train_feat, train_targ)\n",
    "    \n",
    "    # Guardar\n",
    "    if(saveValidated):\n",
    "        dump(forest_grid, 'models/Ensambles/forest_grid.sk')\n",
    "        dump(forest_grid.best_estimator_, 'models/Ensambles/forest.sk')\n",
    "else:\n",
    "    # Cargar\n",
    "    forest_grid = load('models/Ensambles/forest_grid.sk')"
   ]
  },
  {
   "cell_type": "code",
   "execution_count": 16,
   "id": "63a6b4bc-e597-46dc-9146-e255adc0e118",
   "metadata": {
    "execution": {
     "iopub.execute_input": "2021-12-07T13:03:49.291264Z",
     "iopub.status.busy": "2021-12-07T13:03:49.291077Z",
     "iopub.status.idle": "2021-12-07T13:03:49.295528Z",
     "shell.execute_reply": "2021-12-07T13:03:49.294724Z",
     "shell.execute_reply.started": "2021-12-07T13:03:49.291241Z"
    },
    "tags": []
   },
   "outputs": [
    {
     "name": "stdout",
     "output_type": "stream",
     "text": [
      "Best score: 0.8690311842379943\n",
      "Best params {'criterion': 'gini', 'max_depth': 15, 'min_samples_leaf': 100, 'n_estimators': 300}\n"
     ]
    }
   ],
   "source": [
    "print(f\"Best score: {forest_grid.best_score_}\")\n",
    "print(f\"Best params {forest_grid.best_params_}\")"
   ]
  },
  {
   "cell_type": "code",
   "execution_count": 17,
   "id": "3d93138b-9a57-47e0-81a1-820e8fc2e0c9",
   "metadata": {
    "execution": {
     "iopub.execute_input": "2021-12-07T13:03:49.297027Z",
     "iopub.status.busy": "2021-12-07T13:03:49.296617Z",
     "iopub.status.idle": "2021-12-07T13:03:49.302495Z",
     "shell.execute_reply": "2021-12-07T13:03:49.301565Z",
     "shell.execute_reply.started": "2021-12-07T13:03:49.297002Z"
    }
   },
   "outputs": [],
   "source": [
    "forest = forest_grid.best_estimator_"
   ]
  },
  {
   "cell_type": "code",
   "execution_count": 18,
   "id": "1698b124-275e-4a0c-b83c-39ee13760708",
   "metadata": {
    "execution": {
     "iopub.execute_input": "2021-12-07T13:03:49.304094Z",
     "iopub.status.busy": "2021-12-07T13:03:49.303831Z",
     "iopub.status.idle": "2021-12-07T13:03:50.209858Z",
     "shell.execute_reply": "2021-12-07T13:03:50.209133Z",
     "shell.execute_reply.started": "2021-12-07T13:03:49.304073Z"
    },
    "tags": []
   },
   "outputs": [
    {
     "name": "stdout",
     "output_type": "stream",
     "text": [
      "AUC-ROC: 0.8663429568803397\n",
      "ACCURACY: 0.8390973036342321\n",
      "PRESICION: 0.7517619420516837\n",
      "RECALL: 0.4192139737991266\n",
      "CONFUSION MATRIX\n",
      "CPU times: user 841 ms, sys: 16.4 ms, total: 858 ms\n",
      "Wall time: 828 ms\n"
     ]
    },
    {
     "data": {
      "image/png": "[encoded data removed]",
      "text/plain": [
       "<Figure size 432x288 with 2 Axes>"
      ]
     },
     "metadata": {},
     "output_type": "display_data"
    }
   ],
   "source": [
    "%%time\n",
    "pred = forest.predict(val_feat)\n",
    "prob = forest.predict_proba(val_feat)\n",
    "score(val_targ, pred, prob[:,1])"
   ]
  },
  {
   "cell_type": "markdown",
   "id": "5da246d0-e1a3-4e6b-a517-e37903bfb84f",
   "metadata": {},
   "source": [
    "### Reg"
   ]
  },
  {
   "cell_type": "code",
   "execution_count": 19,
   "id": "fcf5f2ce-7ca3-4347-8bd0-f49c0119738a",
   "metadata": {
    "execution": {
     "iopub.execute_input": "2021-12-07T13:03:50.211260Z",
     "iopub.status.busy": "2021-12-07T13:03:50.210979Z",
     "iopub.status.idle": "2021-12-07T13:03:50.287135Z",
     "shell.execute_reply": "2021-12-07T13:03:50.286361Z",
     "shell.execute_reply.started": "2021-12-07T13:03:50.211238Z"
    },
    "tags": []
   },
   "outputs": [],
   "source": [
    "if( runReg ):\n",
    "    forest2 = RandomForestClassifier(\n",
    "        random_state=1,\n",
    "    )\n",
    "    \n",
    "    params = {\n",
    "        'max_depth': np.arange(3, 20, 1),\n",
    "        'min_samples_leaf': np.arange(100, 1000, 100),\n",
    "        'criterion': ['gini', 'entropy'],\n",
    "        'n_estimators': np.arange(100,500,100),\n",
    "    }\n",
    "    \n",
    "    forest_grid2 = HalvingGridSearchCV(\n",
    "        forest2,\n",
    "        params,\n",
    "        scoring='roc_auc',\n",
    "        n_jobs=MAX_JOBS,\n",
    "        return_train_score=True,\n",
    "        verbose=1\n",
    "    ).fit(train_feat_r, train_targ_r)\n",
    "    \n",
    "    # Guardar\n",
    "    if(saveReg):\n",
    "        dump(forest_grid2, 'models/Ensambles/forest_r_grid.sk')\n",
    "        dump(forest_grid2.best_estimator_, 'models/Ensambles/forest_r.sk')\n",
    "else:\n",
    "    # Cargar\n",
    "    forest_grid2 = load('models/Ensambles/forest_r_grid.sk')"
   ]
  },
  {
   "cell_type": "code",
   "execution_count": 20,
   "id": "33053fd0-4853-4d6d-9143-0b25acd02a07",
   "metadata": {
    "execution": {
     "iopub.execute_input": "2021-12-07T13:03:50.288262Z",
     "iopub.status.busy": "2021-12-07T13:03:50.288076Z",
     "iopub.status.idle": "2021-12-07T13:03:50.292576Z",
     "shell.execute_reply": "2021-12-07T13:03:50.291826Z",
     "shell.execute_reply.started": "2021-12-07T13:03:50.288239Z"
    },
    "tags": []
   },
   "outputs": [
    {
     "name": "stdout",
     "output_type": "stream",
     "text": [
      "Best score: 0.8686629309895244\n",
      "Best params {'criterion': 'gini', 'max_depth': 18, 'min_samples_leaf': 100, 'n_estimators': 100}\n"
     ]
    }
   ],
   "source": [
    "print(f\"Best score: {forest_grid2.best_score_}\")\n",
    "print(f\"Best params {forest_grid2.best_params_}\")"
   ]
  },
  {
   "cell_type": "code",
   "execution_count": 21,
   "id": "b2410cb3-6aa1-4d86-99d8-0629430be655",
   "metadata": {
    "execution": {
     "iopub.execute_input": "2021-12-07T13:03:50.294060Z",
     "iopub.status.busy": "2021-12-07T13:03:50.293739Z",
     "iopub.status.idle": "2021-12-07T13:03:50.298883Z",
     "shell.execute_reply": "2021-12-07T13:03:50.298045Z",
     "shell.execute_reply.started": "2021-12-07T13:03:50.294036Z"
    },
    "tags": []
   },
   "outputs": [],
   "source": [
    "forest2 = forest_grid2.best_estimator_"
   ]
  },
  {
   "cell_type": "code",
   "execution_count": 22,
   "id": "08b6f670-b0b2-41b4-afa2-61c1f898c807",
   "metadata": {
    "execution": {
     "iopub.execute_input": "2021-12-07T13:03:50.300394Z",
     "iopub.status.busy": "2021-12-07T13:03:50.300140Z",
     "iopub.status.idle": "2021-12-07T13:03:50.706644Z",
     "shell.execute_reply": "2021-12-07T13:03:50.706045Z",
     "shell.execute_reply.started": "2021-12-07T13:03:50.300375Z"
    },
    "tags": []
   },
   "outputs": [
    {
     "name": "stdout",
     "output_type": "stream",
     "text": [
      "AUC-ROC: 0.8660710890211988\n",
      "ACCURACY: 0.838022665103556\n",
      "PRESICION: 0.7383107088989442\n",
      "RECALL: 0.4275109170305677\n",
      "CONFUSION MATRIX\n",
      "CPU times: user 354 ms, sys: 8.63 ms, total: 362 ms\n",
      "Wall time: 329 ms\n"
     ]
    },
    {
     "data": {
      "image/png": "[encoded data removed]",
      "text/plain": [
       "<Figure size 432x288 with 2 Axes>"
      ]
     },
     "metadata": {},
     "output_type": "display_data"
    }
   ],
   "source": [
    "%%time\n",
    "pred = forest2.predict(val_feat_r)\n",
    "prob = forest2.predict_proba(val_feat_r)\n",
    "score(val_targ_r, pred, prob[:,1])"
   ]
  }
 ],
 "metadata": {
  "kernelspec": {
   "display_name": "Python 3 (ipykernel)",
   "language": "python",
   "name": "python3"
  },
  "language_info": {
   "codemirror_mode": {
    "name": "ipython",
    "version": 3
   },
   "file_extension": ".py",
   "mimetype": "text/x-python",
   "name": "python",
   "nbconvert_exporter": "python",
   "pygments_lexer": "ipython3",
   "version": "3.9.9"
  }
 },
 "nbformat": 4,
 "nbformat_minor": 5
}
