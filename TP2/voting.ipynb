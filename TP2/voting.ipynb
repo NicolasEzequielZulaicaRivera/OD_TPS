{
 "cells": [
  {
   "cell_type": "markdown",
   "id": "3308d311-40d7-4259-a828-7a57b1c0697c",
   "metadata": {},
   "source": [
    "# Voting"
   ]
  },
  {
   "cell_type": "markdown",
   "id": "2052667d-db58-4679-830a-e39d8750ef0a",
   "metadata": {},
   "source": [
    "### Imports"
   ]
  },
  {
   "cell_type": "code",
   "execution_count": 1,
   "id": "57fe6f06-9c8e-4d61-97ae-d6a56db43ce2",
   "metadata": {
    "execution": {
     "iopub.execute_input": "2021-12-06T02:52:06.157387Z",
     "iopub.status.busy": "2021-12-06T02:52:06.156619Z",
     "iopub.status.idle": "2021-12-06T02:52:07.629522Z",
     "shell.execute_reply": "2021-12-06T02:52:07.628938Z",
     "shell.execute_reply.started": "2021-12-06T02:52:06.157298Z"
    }
   },
   "outputs": [],
   "source": [
    "import pandas as pd\n",
    "import numpy as np\n",
    "from matplotlib import pyplot as plt\n",
    "from joblib import dump, load"
   ]
  },
  {
   "cell_type": "code",
   "execution_count": 2,
   "id": "a49e6792-264c-4416-9d7a-2fd751337a76",
   "metadata": {
    "execution": {
     "iopub.execute_input": "2021-12-06T02:52:07.630698Z",
     "iopub.status.busy": "2021-12-06T02:52:07.630472Z",
     "iopub.status.idle": "2021-12-06T02:52:08.517506Z",
     "shell.execute_reply": "2021-12-06T02:52:08.516894Z",
     "shell.execute_reply.started": "2021-12-06T02:52:07.630676Z"
    }
   },
   "outputs": [],
   "source": [
    "from sklearn.ensemble import VotingClassifier\n",
    "from sklearn.model_selection import RandomizedSearchCV\n",
    "from sklearn import tree"
   ]
  },
  {
   "cell_type": "code",
   "execution_count": 3,
   "id": "ecbe57a8-73db-45f4-a21d-4f876860ec06",
   "metadata": {
    "execution": {
     "iopub.execute_input": "2021-12-06T02:52:08.519999Z",
     "iopub.status.busy": "2021-12-06T02:52:08.519782Z",
     "iopub.status.idle": "2021-12-06T02:52:09.832589Z",
     "shell.execute_reply": "2021-12-06T02:52:09.832110Z",
     "shell.execute_reply.started": "2021-12-06T02:52:08.519972Z"
    }
   },
   "outputs": [
    {
     "name": "stdout",
     "output_type": "stream",
     "text": [
      "[###] All Done                                              \n"
     ]
    }
   ],
   "source": [
    "from preprocessing import reemplazarNulls,reemplazarCategoricas,reemplazarFechas,regularizar,targetBooleano"
   ]
  },
  {
   "cell_type": "code",
   "execution_count": 4,
   "id": "ae53c637-7f02-4802-9add-5a35ced69f64",
   "metadata": {
    "execution": {
     "iopub.execute_input": "2021-12-06T02:52:09.833601Z",
     "iopub.status.busy": "2021-12-06T02:52:09.833344Z",
     "iopub.status.idle": "2021-12-06T02:52:10.335425Z",
     "shell.execute_reply": "2021-12-06T02:52:10.334779Z",
     "shell.execute_reply.started": "2021-12-06T02:52:09.833582Z"
    }
   },
   "outputs": [],
   "source": [
    "from utilities import score, df_feat, df_targ, train_val"
   ]
  },
  {
   "cell_type": "markdown",
   "id": "1aa60fef-ad74-400f-8ef7-8255160828a9",
   "metadata": {},
   "source": [
    "### Codigo a correr"
   ]
  },
  {
   "cell_type": "code",
   "execution_count": 5,
   "id": "cac84d06-6216-46dc-9d75-3044c9a63f5d",
   "metadata": {
    "execution": {
     "iopub.execute_input": "2021-12-06T02:52:10.336501Z",
     "iopub.status.busy": "2021-12-06T02:52:10.336263Z",
     "iopub.status.idle": "2021-12-06T02:52:10.340263Z",
     "shell.execute_reply": "2021-12-06T02:52:10.339222Z",
     "shell.execute_reply.started": "2021-12-06T02:52:10.336479Z"
    }
   },
   "outputs": [],
   "source": [
    "MAX_JOBS = 5"
   ]
  },
  {
   "cell_type": "markdown",
   "id": "c99e8bfe-0edd-4db5-a218-1cf71f809d2d",
   "metadata": {},
   "source": [
    "**Run :** Entrenar Nuevamente o Cargar Entrenado"
   ]
  },
  {
   "cell_type": "code",
   "execution_count": 6,
   "id": "cd65bc5e-db28-4191-9e7f-0932bbd738a3",
   "metadata": {
    "execution": {
     "iopub.execute_input": "2021-12-06T02:52:10.341720Z",
     "iopub.status.busy": "2021-12-06T02:52:10.341456Z",
     "iopub.status.idle": "2021-12-06T02:52:10.349092Z",
     "shell.execute_reply": "2021-12-06T02:52:10.348340Z",
     "shell.execute_reply.started": "2021-12-06T02:52:10.341699Z"
    },
    "tags": []
   },
   "outputs": [],
   "source": [
    "runSvm = True"
   ]
  },
  {
   "cell_type": "markdown",
   "id": "f1c590df-60bb-4c53-91e7-2da0c3476415",
   "metadata": {},
   "source": [
    "**Save :** Guardar Modelo (pisa anterior)"
   ]
  },
  {
   "cell_type": "code",
   "execution_count": 7,
   "id": "6f9b41b6-3059-4967-a9c7-c00188c3e415",
   "metadata": {
    "execution": {
     "iopub.execute_input": "2021-12-06T02:52:10.350366Z",
     "iopub.status.busy": "2021-12-06T02:52:10.349965Z",
     "iopub.status.idle": "2021-12-06T02:52:10.356416Z",
     "shell.execute_reply": "2021-12-06T02:52:10.355356Z",
     "shell.execute_reply.started": "2021-12-06T02:52:10.350331Z"
    },
    "tags": []
   },
   "outputs": [],
   "source": [
    "saveSvm = True"
   ]
  },
  {
   "cell_type": "markdown",
   "id": "e6b58791-7d09-4d8a-8fcd-2b5e207db9fd",
   "metadata": {},
   "source": [
    "### Preprocesamiento"
   ]
  },
  {
   "cell_type": "code",
   "execution_count": 8,
   "id": "2e086941-2bc4-49ea-8bd8-91682b5a619a",
   "metadata": {
    "execution": {
     "iopub.execute_input": "2021-12-06T02:52:10.358161Z",
     "iopub.status.busy": "2021-12-06T02:52:10.357849Z",
     "iopub.status.idle": "2021-12-06T02:52:12.010698Z",
     "shell.execute_reply": "2021-12-06T02:52:12.009974Z",
     "shell.execute_reply.started": "2021-12-06T02:52:10.358140Z"
    },
    "tags": []
   },
   "outputs": [
    {
     "data": {
      "text/html": [
       "<div>\n",
       "<style scoped>\n",
       "    .dataframe tbody tr th:only-of-type {\n",
       "        vertical-align: middle;\n",
       "    }\n",
       "\n",
       "    .dataframe tbody tr th {\n",
       "        vertical-align: top;\n",
       "    }\n",
       "\n",
       "    .dataframe thead th {\n",
       "        text-align: right;\n",
       "    }\n",
       "</style>\n",
       "<table border=\"1\" class=\"dataframe\">\n",
       "  <thead>\n",
       "    <tr style=\"text-align: right;\">\n",
       "      <th></th>\n",
       "      <th>id</th>\n",
       "      <th>direccion_viento_tarde</th>\n",
       "      <th>direccion_viento_temprano</th>\n",
       "      <th>horas_de_sol</th>\n",
       "      <th>humedad_tarde</th>\n",
       "      <th>humedad_temprano</th>\n",
       "      <th>mm_lluvia_dia</th>\n",
       "      <th>nubosidad_tarde</th>\n",
       "      <th>presion_atmosferica_tarde</th>\n",
       "      <th>rafaga_viento_max_direccion</th>\n",
       "      <th>rafaga_viento_max_velocidad</th>\n",
       "      <th>velocidad_viendo_tarde</th>\n",
       "    </tr>\n",
       "  </thead>\n",
       "  <tbody>\n",
       "    <tr>\n",
       "      <th>0</th>\n",
       "      <td>0.495844</td>\n",
       "      <td>0.736537</td>\n",
       "      <td>0.645996</td>\n",
       "      <td>-2.018030</td>\n",
       "      <td>1.277923</td>\n",
       "      <td>0.270523</td>\n",
       "      <td>7.914307</td>\n",
       "      <td>0.916539</td>\n",
       "      <td>1.269394</td>\n",
       "      <td>0.802215</td>\n",
       "      <td>0.589120</td>\n",
       "      <td>0.834079</td>\n",
       "    </tr>\n",
       "    <tr>\n",
       "      <th>1</th>\n",
       "      <td>0.183431</td>\n",
       "      <td>0.317434</td>\n",
       "      <td>-1.382279</td>\n",
       "      <td>-2.018030</td>\n",
       "      <td>-1.806334</td>\n",
       "      <td>-0.675093</td>\n",
       "      <td>0.417359</td>\n",
       "      <td>-1.288420</td>\n",
       "      <td>-2.406972</td>\n",
       "      <td>0.393094</td>\n",
       "      <td>1.544505</td>\n",
       "      <td>1.402051</td>\n",
       "    </tr>\n",
       "    <tr>\n",
       "      <th>2</th>\n",
       "      <td>-0.113001</td>\n",
       "      <td>-0.730326</td>\n",
       "      <td>-0.570969</td>\n",
       "      <td>-1.330311</td>\n",
       "      <td>1.326115</td>\n",
       "      <td>-1.147901</td>\n",
       "      <td>-0.281713</td>\n",
       "      <td>1.284033</td>\n",
       "      <td>-2.094694</td>\n",
       "      <td>-0.834272</td>\n",
       "      <td>1.250541</td>\n",
       "      <td>1.629239</td>\n",
       "    </tr>\n",
       "    <tr>\n",
       "      <th>3</th>\n",
       "      <td>-1.678190</td>\n",
       "      <td>1.574745</td>\n",
       "      <td>0.848823</td>\n",
       "      <td>-2.018030</td>\n",
       "      <td>1.952605</td>\n",
       "      <td>1.426276</td>\n",
       "      <td>0.320935</td>\n",
       "      <td>1.284033</td>\n",
       "      <td>0.020281</td>\n",
       "      <td>-1.447954</td>\n",
       "      <td>1.030067</td>\n",
       "      <td>1.402051</td>\n",
       "    </tr>\n",
       "    <tr>\n",
       "      <th>4</th>\n",
       "      <td>0.930508</td>\n",
       "      <td>-1.149430</td>\n",
       "      <td>-1.179451</td>\n",
       "      <td>-2.018030</td>\n",
       "      <td>-1.806334</td>\n",
       "      <td>-1.673244</td>\n",
       "      <td>-0.281713</td>\n",
       "      <td>-0.920927</td>\n",
       "      <td>-1.257220</td>\n",
       "      <td>-0.834272</td>\n",
       "      <td>0.736103</td>\n",
       "      <td>0.038918</td>\n",
       "    </tr>\n",
       "    <tr>\n",
       "      <th>...</th>\n",
       "      <td>...</td>\n",
       "      <td>...</td>\n",
       "      <td>...</td>\n",
       "      <td>...</td>\n",
       "      <td>...</td>\n",
       "      <td>...</td>\n",
       "      <td>...</td>\n",
       "      <td>...</td>\n",
       "      <td>...</td>\n",
       "      <td>...</td>\n",
       "      <td>...</td>\n",
       "      <td>...</td>\n",
       "    </tr>\n",
       "    <tr>\n",
       "      <th>102351</th>\n",
       "      <td>-0.264327</td>\n",
       "      <td>-0.101670</td>\n",
       "      <td>-0.570969</td>\n",
       "      <td>-0.298733</td>\n",
       "      <td>0.555051</td>\n",
       "      <td>-1.305504</td>\n",
       "      <td>-0.233501</td>\n",
       "      <td>0.549046</td>\n",
       "      <td>-0.490719</td>\n",
       "      <td>-0.834272</td>\n",
       "      <td>2.352908</td>\n",
       "      <td>2.083617</td>\n",
       "    </tr>\n",
       "    <tr>\n",
       "      <th>102352</th>\n",
       "      <td>-1.317418</td>\n",
       "      <td>0.946089</td>\n",
       "      <td>1.457306</td>\n",
       "      <td>-1.462565</td>\n",
       "      <td>0.651434</td>\n",
       "      <td>0.585729</td>\n",
       "      <td>0.345041</td>\n",
       "      <td>0.916539</td>\n",
       "      <td>0.318365</td>\n",
       "      <td>1.211337</td>\n",
       "      <td>0.589120</td>\n",
       "      <td>1.402051</td>\n",
       "    </tr>\n",
       "    <tr>\n",
       "      <th>102353</th>\n",
       "      <td>-1.594150</td>\n",
       "      <td>0.736537</td>\n",
       "      <td>1.660133</td>\n",
       "      <td>-2.018030</td>\n",
       "      <td>1.422498</td>\n",
       "      <td>-0.359888</td>\n",
       "      <td>-0.281713</td>\n",
       "      <td>0.916539</td>\n",
       "      <td>-0.064885</td>\n",
       "      <td>-1.447954</td>\n",
       "      <td>-0.366265</td>\n",
       "      <td>-1.892186</td>\n",
       "    </tr>\n",
       "    <tr>\n",
       "      <th>102354</th>\n",
       "      <td>0.293898</td>\n",
       "      <td>-1.149430</td>\n",
       "      <td>-0.773796</td>\n",
       "      <td>-1.779974</td>\n",
       "      <td>1.326115</td>\n",
       "      <td>-0.202285</td>\n",
       "      <td>-0.281713</td>\n",
       "      <td>1.284033</td>\n",
       "      <td>-2.052110</td>\n",
       "      <td>-0.629711</td>\n",
       "      <td>1.177050</td>\n",
       "      <td>0.606890</td>\n",
       "    </tr>\n",
       "    <tr>\n",
       "      <th>102355</th>\n",
       "      <td>-0.762408</td>\n",
       "      <td>1.574745</td>\n",
       "      <td>1.457306</td>\n",
       "      <td>0.812198</td>\n",
       "      <td>0.217710</td>\n",
       "      <td>-0.202285</td>\n",
       "      <td>-0.281713</td>\n",
       "      <td>-0.920927</td>\n",
       "      <td>0.588060</td>\n",
       "      <td>1.415898</td>\n",
       "      <td>0.589120</td>\n",
       "      <td>1.288456</td>\n",
       "    </tr>\n",
       "  </tbody>\n",
       "</table>\n",
       "<p>102356 rows × 12 columns</p>\n",
       "</div>"
      ],
      "text/plain": [
       "              id  direccion_viento_tarde  direccion_viento_temprano  \\\n",
       "0       0.495844                0.736537                   0.645996   \n",
       "1       0.183431                0.317434                  -1.382279   \n",
       "2      -0.113001               -0.730326                  -0.570969   \n",
       "3      -1.678190                1.574745                   0.848823   \n",
       "4       0.930508               -1.149430                  -1.179451   \n",
       "...          ...                     ...                        ...   \n",
       "102351 -0.264327               -0.101670                  -0.570969   \n",
       "102352 -1.317418                0.946089                   1.457306   \n",
       "102353 -1.594150                0.736537                   1.660133   \n",
       "102354  0.293898               -1.149430                  -0.773796   \n",
       "102355 -0.762408                1.574745                   1.457306   \n",
       "\n",
       "        horas_de_sol  humedad_tarde  humedad_temprano  mm_lluvia_dia  \\\n",
       "0          -2.018030       1.277923          0.270523       7.914307   \n",
       "1          -2.018030      -1.806334         -0.675093       0.417359   \n",
       "2          -1.330311       1.326115         -1.147901      -0.281713   \n",
       "3          -2.018030       1.952605          1.426276       0.320935   \n",
       "4          -2.018030      -1.806334         -1.673244      -0.281713   \n",
       "...              ...            ...               ...            ...   \n",
       "102351     -0.298733       0.555051         -1.305504      -0.233501   \n",
       "102352     -1.462565       0.651434          0.585729       0.345041   \n",
       "102353     -2.018030       1.422498         -0.359888      -0.281713   \n",
       "102354     -1.779974       1.326115         -0.202285      -0.281713   \n",
       "102355      0.812198       0.217710         -0.202285      -0.281713   \n",
       "\n",
       "        nubosidad_tarde  presion_atmosferica_tarde  \\\n",
       "0              0.916539                   1.269394   \n",
       "1             -1.288420                  -2.406972   \n",
       "2              1.284033                  -2.094694   \n",
       "3              1.284033                   0.020281   \n",
       "4             -0.920927                  -1.257220   \n",
       "...                 ...                        ...   \n",
       "102351         0.549046                  -0.490719   \n",
       "102352         0.916539                   0.318365   \n",
       "102353         0.916539                  -0.064885   \n",
       "102354         1.284033                  -2.052110   \n",
       "102355        -0.920927                   0.588060   \n",
       "\n",
       "        rafaga_viento_max_direccion  rafaga_viento_max_velocidad  \\\n",
       "0                          0.802215                     0.589120   \n",
       "1                          0.393094                     1.544505   \n",
       "2                         -0.834272                     1.250541   \n",
       "3                         -1.447954                     1.030067   \n",
       "4                         -0.834272                     0.736103   \n",
       "...                             ...                          ...   \n",
       "102351                    -0.834272                     2.352908   \n",
       "102352                     1.211337                     0.589120   \n",
       "102353                    -1.447954                    -0.366265   \n",
       "102354                    -0.629711                     1.177050   \n",
       "102355                     1.415898                     0.589120   \n",
       "\n",
       "        velocidad_viendo_tarde  \n",
       "0                     0.834079  \n",
       "1                     1.402051  \n",
       "2                     1.629239  \n",
       "3                     1.402051  \n",
       "4                     0.038918  \n",
       "...                        ...  \n",
       "102351                2.083617  \n",
       "102352                1.402051  \n",
       "102353               -1.892186  \n",
       "102354                0.606890  \n",
       "102355                1.288456  \n",
       "\n",
       "[102356 rows x 12 columns]"
      ]
     },
     "execution_count": 8,
     "metadata": {},
     "output_type": "execute_result"
    }
   ],
   "source": [
    "targetBooleano(df_targ, inplace=True)\n",
    "reemplazarNulls(df_feat , inplace=True)\n",
    "reemplazarCategoricas(df_feat , inplace=True)\n",
    "reemplazarFechas(df_feat , inplace=True)\n",
    "regularizar(df_feat , inplace=True)"
   ]
  },
  {
   "cell_type": "code",
   "execution_count": 9,
   "id": "642171dc-c717-48aa-9f13-3d5115385741",
   "metadata": {
    "execution": {
     "iopub.execute_input": "2021-12-06T02:52:12.012190Z",
     "iopub.status.busy": "2021-12-06T02:52:12.011911Z",
     "iopub.status.idle": "2021-12-06T02:52:12.022816Z",
     "shell.execute_reply": "2021-12-06T02:52:12.021973Z",
     "shell.execute_reply.started": "2021-12-06T02:52:12.012168Z"
    },
    "tags": []
   },
   "outputs": [
    {
     "name": "stdout",
     "output_type": "stream",
     "text": [
      "<class 'pandas.core.frame.DataFrame'>\n",
      "RangeIndex: 102356 entries, 0 to 102355\n",
      "Data columns (total 12 columns):\n",
      " #   Column                       Non-Null Count   Dtype  \n",
      "---  ------                       --------------   -----  \n",
      " 0   id                           102356 non-null  float64\n",
      " 1   direccion_viento_tarde       102356 non-null  float64\n",
      " 2   direccion_viento_temprano    102356 non-null  float64\n",
      " 3   horas_de_sol                 102356 non-null  float64\n",
      " 4   humedad_tarde                102356 non-null  float64\n",
      " 5   humedad_temprano             102356 non-null  float64\n",
      " 6   mm_lluvia_dia                102356 non-null  float64\n",
      " 7   nubosidad_tarde              102356 non-null  float64\n",
      " 8   presion_atmosferica_tarde    102356 non-null  float64\n",
      " 9   rafaga_viento_max_direccion  102356 non-null  float64\n",
      " 10  rafaga_viento_max_velocidad  102356 non-null  float64\n",
      " 11  velocidad_viendo_tarde       102356 non-null  float64\n",
      "dtypes: float64(12)\n",
      "memory usage: 9.4 MB\n"
     ]
    }
   ],
   "source": [
    "df_feat.info()"
   ]
  },
  {
   "cell_type": "code",
   "execution_count": 10,
   "id": "a21cd14d-72b8-46e3-a7ac-96ba3e4a42dc",
   "metadata": {
    "execution": {
     "iopub.execute_input": "2021-12-06T02:52:12.024020Z",
     "iopub.status.busy": "2021-12-06T02:52:12.023685Z",
     "iopub.status.idle": "2021-12-06T02:52:12.067858Z",
     "shell.execute_reply": "2021-12-06T02:52:12.067284Z",
     "shell.execute_reply.started": "2021-12-06T02:52:12.023999Z"
    }
   },
   "outputs": [],
   "source": [
    "train_feat, val_feat, train_targ, val_targ = train_val( df_feat, df_targ )"
   ]
  },
  {
   "cell_type": "code",
   "execution_count": 11,
   "id": "d6118176-4cc5-4353-ad27-18dee03eb9cb",
   "metadata": {
    "execution": {
     "iopub.execute_input": "2021-12-06T02:52:12.069020Z",
     "iopub.status.busy": "2021-12-06T02:52:12.068745Z",
     "iopub.status.idle": "2021-12-06T02:52:12.073357Z",
     "shell.execute_reply": "2021-12-06T02:52:12.071868Z",
     "shell.execute_reply.started": "2021-12-06T02:52:12.069001Z"
    }
   },
   "outputs": [],
   "source": [
    "train_targ = train_targ.llovieron_hamburguesas_al_dia_siguiente\n",
    "val_targ = val_targ.llovieron_hamburguesas_al_dia_siguiente"
   ]
  },
  {
   "cell_type": "markdown",
   "id": "0644d54b-4e59-49d5-a8df-c627b574c2f3",
   "metadata": {},
   "source": [
    "## Entrenamiento"
   ]
  },
  {
   "cell_type": "markdown",
   "id": "530e14b5-501c-4cf5-87fc-b57e4559f24c",
   "metadata": {},
   "source": [
    "### Voto de SVM"
   ]
  },
  {
   "cell_type": "code",
   "execution_count": 12,
   "id": "cfbfe711-bb23-4f9a-8fb0-de05d987bd0f",
   "metadata": {
    "execution": {
     "iopub.execute_input": "2021-12-06T02:52:12.079686Z",
     "iopub.status.busy": "2021-12-06T02:52:12.079480Z",
     "iopub.status.idle": "2021-12-06T02:52:12.127600Z",
     "shell.execute_reply": "2021-12-06T02:52:12.126932Z",
     "shell.execute_reply.started": "2021-12-06T02:52:12.079665Z"
    }
   },
   "outputs": [],
   "source": [
    "lin = load('models/SVM/svm_lineal.sk')\n",
    "pol = load('models/SVM/svm_poly.sk')\n",
    "rad = load('models/SVM/svm_radial.sk')"
   ]
  },
  {
   "cell_type": "code",
   "execution_count": 16,
   "id": "0be2b1be-0ddb-43e5-9966-8364904b477e",
   "metadata": {
    "execution": {
     "iopub.execute_input": "2021-12-06T02:53:02.862251Z",
     "iopub.status.busy": "2021-12-06T02:53:02.861878Z",
     "iopub.status.idle": "2021-12-06T13:55:02.754187Z",
     "shell.execute_reply": "2021-12-06T13:55:02.753479Z",
     "shell.execute_reply.started": "2021-12-06T02:53:02.862212Z"
    },
    "scrolled": true,
    "tags": []
   },
   "outputs": [
    {
     "name": "stdout",
     "output_type": "stream",
     "text": [
      "Fitting 5 folds for each of 10 candidates, totalling 50 fits\n",
      "[Voting] ...................... (1 of 3) Processing lin, total=18.4min\n",
      "[Voting] ...................... (2 of 3) Processing pol, total=16.4min\n",
      "[Voting] ...................... (3 of 3) Processing rad, total=22.9min\n",
      "[CV 3/5] END weights=[3, 1, 3];, score=(train=0.857, test=0.848) total time=59.8min\n",
      "[Voting] ...................... (1 of 3) Processing lin, total=15.6min\n",
      "[Voting] ...................... (2 of 3) Processing pol, total=14.8min\n",
      "[Voting] ...................... (3 of 3) Processing rad, total=20.3min\n",
      "[CV 1/5] END weights=[2, 3, 1];, score=(train=0.855, test=0.861) total time=52.6min\n",
      "[Voting] ...................... (1 of 3) Processing lin, total=14.1min\n",
      "[Voting] ...................... (2 of 3) Processing pol, total=14.8min\n",
      "[Voting] ...................... (3 of 3) Processing rad, total=20.4min\n",
      "[CV 2/5] END weights=[3, 2, 1];, score=(train=0.854, test=0.860) total time=51.2min\n",
      "[Voting] ...................... (1 of 3) Processing lin, total=14.0min\n",
      "[Voting] ...................... (2 of 3) Processing pol, total=14.7min\n",
      "[Voting] ...................... (3 of 3) Processing rad, total=20.2min\n",
      "[CV 4/5] END weights=[1, 3, 1];, score=(train=0.857, test=0.855) total time=50.8min\n",
      "[Voting] ...................... (1 of 3) Processing lin, total=14.1min\n",
      "[Voting] ...................... (2 of 3) Processing pol, total=14.9min\n",
      "[Voting] ...................... (3 of 3) Processing rad, total=20.4min\n",
      "[CV 2/5] END weights=[1, 3, 3];, score=(train=0.855, test=0.860) total time=51.3min\n",
      "[Voting] ...................... (1 of 3) Processing lin, total=14.0min\n",
      "[Voting] ...................... (2 of 3) Processing pol, total=14.7min\n",
      "[Voting] ...................... (3 of 3) Processing rad, total=20.1min\n",
      "[CV 3/5] END weights=[3, 1, 1];, score=(train=0.857, test=0.847) total time=50.8min\n",
      "[Voting] ...................... (1 of 3) Processing lin, total=14.0min\n",
      "[Voting] ...................... (2 of 3) Processing pol, total=14.8min\n",
      "[Voting] ...................... (3 of 3) Processing rad, total=20.3min\n",
      "[CV 1/5] END weights=[2, 2, 1];, score=(train=0.855, test=0.861) total time=51.0min\n",
      "[Voting] ...................... (1 of 3) Processing lin, total=13.9min\n",
      "[Voting] ...................... (2 of 3) Processing pol, total=14.7min\n",
      "[Voting] ...................... (3 of 3) Processing rad, total=20.2min\n",
      "[CV 1/5] END weights=[1, 1, 2];, score=(train=0.855, test=0.861) total time=50.9min\n",
      "[Voting] ...................... (1 of 3) Processing lin, total=14.0min\n",
      "[Voting] ...................... (2 of 3) Processing pol, total=14.8min\n",
      "[Voting] ...................... (3 of 3) Processing rad, total=20.3min\n",
      "[CV 1/5] END weights=[3, 3, 1];, score=(train=0.855, test=0.861) total time=51.0min\n",
      "[Voting] ...................... (1 of 3) Processing lin, total=14.0min\n",
      "[Voting] ...................... (2 of 3) Processing pol, total=14.7min\n",
      "[Voting] ...................... (3 of 3) Processing rad, total=20.3min\n",
      "[CV 1/5] END weights=[2, 1, 1];, score=(train=0.854, test=0.861) total time=51.0min\n",
      "[Voting] ...................... (1 of 3) Processing lin, total=18.5min\n",
      "[Voting] ...................... (2 of 3) Processing pol, total=16.6min\n",
      "[Voting] ...................... (3 of 3) Processing rad, total=23.0min\n",
      "[CV 2/5] END weights=[3, 1, 3];, score=(train=0.854, test=0.860) total time=60.3min\n",
      "[Voting] ...................... (1 of 3) Processing lin, total=15.5min\n",
      "[Voting] ...................... (2 of 3) Processing pol, total=14.7min\n",
      "[Voting] ...................... (3 of 3) Processing rad, total=20.3min\n",
      "[CV 4/5] END weights=[2, 3, 1];, score=(train=0.856, test=0.855) total time=52.4min\n",
      "[Voting] ...................... (1 of 3) Processing lin, total=14.0min\n",
      "[Voting] ...................... (2 of 3) Processing pol, total=14.7min\n",
      "[Voting] ...................... (3 of 3) Processing rad, total=20.3min\n",
      "[CV 3/5] END weights=[3, 2, 1];, score=(train=0.857, test=0.848) total time=50.9min\n",
      "[Voting] ...................... (1 of 3) Processing lin, total=14.1min\n",
      "[Voting] ...................... (2 of 3) Processing pol, total=14.8min\n",
      "[Voting] ...................... (3 of 3) Processing rad, total=20.4min\n",
      "[CV 1/5] END weights=[1, 3, 1];, score=(train=0.855, test=0.861) total time=51.2min\n",
      "[Voting] ...................... (1 of 3) Processing lin, total=14.0min\n",
      "[Voting] ...................... (2 of 3) Processing pol, total=14.8min\n",
      "[Voting] ...................... (3 of 3) Processing rad, total=20.3min\n",
      "[CV 3/5] END weights=[1, 3, 3];, score=(train=0.858, test=0.849) total time=50.9min\n",
      "[Voting] ...................... (1 of 3) Processing lin, total=14.1min\n",
      "[Voting] ...................... (2 of 3) Processing pol, total=14.9min\n",
      "[Voting] ...................... (3 of 3) Processing rad, total=20.3min\n",
      "[CV 1/5] END weights=[3, 1, 1];, score=(train=0.854, test=0.860) total time=51.2min\n",
      "[Voting] ...................... (1 of 3) Processing lin, total=14.1min\n",
      "[Voting] ...................... (2 of 3) Processing pol, total=14.8min\n",
      "[Voting] ...................... (3 of 3) Processing rad, total=20.4min\n",
      "[CV 2/5] END weights=[2, 2, 1];, score=(train=0.855, test=0.860) total time=51.2min\n",
      "[Voting] ...................... (1 of 3) Processing lin, total=13.9min\n",
      "[Voting] ...................... (2 of 3) Processing pol, total=14.7min\n",
      "[Voting] ...................... (3 of 3) Processing rad, total=20.1min\n",
      "[CV 3/5] END weights=[1, 1, 2];, score=(train=0.857, test=0.848) total time=50.7min\n",
      "[Voting] ...................... (1 of 3) Processing lin, total=14.0min\n",
      "[Voting] ...................... (2 of 3) Processing pol, total=14.8min\n",
      "[Voting] ...................... (3 of 3) Processing rad, total=20.4min\n",
      "[CV 2/5] END weights=[3, 3, 1];, score=(train=0.855, test=0.860) total time=51.2min\n",
      "[Voting] ...................... (1 of 3) Processing lin, total=14.0min\n",
      "[Voting] ...................... (2 of 3) Processing pol, total=14.7min\n",
      "[Voting] ...................... (3 of 3) Processing rad, total=20.2min\n",
      "[CV 3/5] END weights=[2, 1, 1];, score=(train=0.857, test=0.848) total time=50.7min\n",
      "[Voting] ...................... (1 of 3) Processing lin, total=18.5min\n",
      "[Voting] ...................... (2 of 3) Processing pol, total=16.6min\n",
      "[Voting] ...................... (3 of 3) Processing rad, total=23.1min\n",
      "[CV 1/5] END weights=[3, 1, 3];, score=(train=0.854, test=0.861) total time=60.4min\n",
      "[Voting] ...................... (1 of 3) Processing lin, total=15.5min\n",
      "[Voting] ...................... (2 of 3) Processing pol, total=14.8min\n",
      "[Voting] ...................... (3 of 3) Processing rad, total=20.2min\n",
      "[CV 5/5] END weights=[2, 3, 1];, score=(train=0.856, test=0.854) total time=52.4min\n",
      "[Voting] ...................... (1 of 3) Processing lin, total=14.1min\n",
      "[Voting] ...................... (2 of 3) Processing pol, total=14.8min\n",
      "[Voting] ...................... (3 of 3) Processing rad, total=20.3min\n",
      "[CV 4/5] END weights=[3, 2, 1];, score=(train=0.856, test=0.855) total time=51.1min\n",
      "[Voting] ...................... (1 of 3) Processing lin, total=14.1min\n",
      "[Voting] ...................... (2 of 3) Processing pol, total=14.8min\n",
      "[Voting] ...................... (3 of 3) Processing rad, total=20.4min\n",
      "[CV 2/5] END weights=[1, 3, 1];, score=(train=0.855, test=0.860) total time=51.2min\n",
      "[Voting] ...................... (1 of 3) Processing lin, total=14.1min\n",
      "[Voting] ...................... (2 of 3) Processing pol, total=14.8min\n",
      "[Voting] ...................... (3 of 3) Processing rad, total=20.4min\n",
      "[CV 4/5] END weights=[1, 3, 3];, score=(train=0.856, test=0.855) total time=51.2min\n",
      "[Voting] ...................... (1 of 3) Processing lin, total=14.1min\n",
      "[Voting] ...................... (2 of 3) Processing pol, total=14.8min\n",
      "[Voting] ...................... (3 of 3) Processing rad, total=20.3min\n",
      "[CV 4/5] END weights=[3, 1, 1];, score=(train=0.855, test=0.854) total time=51.0min\n",
      "[Voting] ...................... (1 of 3) Processing lin, total=14.0min\n",
      "[Voting] ...................... (2 of 3) Processing pol, total=14.7min\n",
      "[Voting] ...................... (3 of 3) Processing rad, total=20.1min\n",
      "[CV 3/5] END weights=[2, 2, 1];, score=(train=0.857, test=0.848) total time=50.8min\n",
      "[Voting] ...................... (1 of 3) Processing lin, total=14.0min\n",
      "[Voting] ...................... (2 of 3) Processing pol, total=14.9min\n",
      "[Voting] ...................... (3 of 3) Processing rad, total=20.3min\n",
      "[CV 2/5] END weights=[1, 1, 2];, score=(train=0.855, test=0.860) total time=51.1min\n",
      "[Voting] ...................... (1 of 3) Processing lin, total=14.0min\n",
      "[Voting] ...................... (2 of 3) Processing pol, total=14.7min\n",
      "[Voting] ...................... (3 of 3) Processing rad, total=20.2min\n",
      "[CV 3/5] END weights=[3, 3, 1];, score=(train=0.857, test=0.848) total time=50.7min\n",
      "[Voting] ...................... (1 of 3) Processing lin, total=14.1min\n",
      "[Voting] ...................... (2 of 3) Processing pol, total=14.8min\n",
      "[Voting] ...................... (3 of 3) Processing rad, total=20.4min\n",
      "[CV 2/5] END weights=[2, 1, 1];, score=(train=0.854, test=0.860) total time=51.3min\n",
      "[Voting] ...................... (1 of 3) Processing lin, total=18.4min\n",
      "[Voting] ...................... (2 of 3) Processing pol, total=16.5min\n",
      "[Voting] ...................... (3 of 3) Processing rad, total=22.9min\n",
      "[CV 5/5] END weights=[3, 1, 3];, score=(train=0.856, test=0.853) total time=60.0min\n",
      "[Voting] ...................... (1 of 3) Processing lin, total=15.6min\n",
      "[Voting] ...................... (2 of 3) Processing pol, total=14.8min\n",
      "[Voting] ...................... (3 of 3) Processing rad, total=20.4min\n",
      "[CV 2/5] END weights=[2, 3, 1];, score=(train=0.855, test=0.860) total time=52.7min\n",
      "[Voting] ...................... (1 of 3) Processing lin, total=14.1min\n",
      "[Voting] ...................... (2 of 3) Processing pol, total=14.8min\n",
      "[Voting] ...................... (3 of 3) Processing rad, total=20.3min\n",
      "[CV 5/5] END weights=[3, 2, 1];, score=(train=0.856, test=0.854) total time=51.1min\n",
      "[Voting] ...................... (1 of 3) Processing lin, total=14.0min\n",
      "[Voting] ...................... (2 of 3) Processing pol, total=14.7min\n",
      "[Voting] ...................... (3 of 3) Processing rad, total=20.2min\n",
      "[CV 3/5] END weights=[1, 3, 1];, score=(train=0.858, test=0.849) total time=50.7min\n",
      "[Voting] ...................... (1 of 3) Processing lin, total=14.1min\n",
      "[Voting] ...................... (2 of 3) Processing pol, total=14.9min\n",
      "[Voting] ...................... (3 of 3) Processing rad, total=20.4min\n",
      "[CV 1/5] END weights=[1, 3, 3];, score=(train=0.855, test=0.861) total time=51.3min\n",
      "[Voting] ...................... (1 of 3) Processing lin, total=14.1min\n",
      "[Voting] ...................... (2 of 3) Processing pol, total=14.9min\n",
      "[Voting] ...................... (3 of 3) Processing rad, total=20.4min\n",
      "[CV 2/5] END weights=[3, 1, 1];, score=(train=0.854, test=0.859) total time=51.3min\n",
      "[Voting] ...................... (1 of 3) Processing lin, total=14.1min\n",
      "[Voting] ...................... (2 of 3) Processing pol, total=14.8min\n",
      "[Voting] ...................... (3 of 3) Processing rad, total=20.3min\n",
      "[CV 4/5] END weights=[2, 2, 1];, score=(train=0.856, test=0.855) total time=51.0min\n",
      "[Voting] ...................... (1 of 3) Processing lin, total=14.0min\n",
      "[Voting] ...................... (2 of 3) Processing pol, total=14.8min\n",
      "[Voting] ...................... (3 of 3) Processing rad, total=20.3min\n",
      "[CV 4/5] END weights=[1, 1, 2];, score=(train=0.856, test=0.855) total time=50.9min\n",
      "[Voting] ...................... (1 of 3) Processing lin, total=14.0min\n",
      "[Voting] ...................... (2 of 3) Processing pol, total=14.7min\n",
      "[Voting] ...................... (3 of 3) Processing rad, total=20.3min\n",
      "[CV 4/5] END weights=[3, 3, 1];, score=(train=0.856, test=0.855) total time=50.9min\n",
      "[Voting] ...................... (1 of 3) Processing lin, total=14.1min\n",
      "[Voting] ...................... (2 of 3) Processing pol, total=14.8min\n",
      "[Voting] ...................... (3 of 3) Processing rad, total=20.2min\n",
      "[CV 4/5] END weights=[2, 1, 1];, score=(train=0.856, test=0.854) total time=51.0min\n",
      "[Voting] ...................... (1 of 3) Processing lin, total=18.5min\n",
      "[Voting] ...................... (2 of 3) Processing pol, total=16.4min\n",
      "[Voting] ...................... (3 of 3) Processing rad, total=23.0min\n",
      "[CV 4/5] END weights=[3, 1, 3];, score=(train=0.856, test=0.855) total time=60.1min\n",
      "[Voting] ...................... (1 of 3) Processing lin, total=15.5min\n",
      "[Voting] ...................... (2 of 3) Processing pol, total=14.7min\n",
      "[Voting] ...................... (3 of 3) Processing rad, total=20.2min\n",
      "[CV 3/5] END weights=[2, 3, 1];, score=(train=0.858, test=0.848) total time=52.3min\n",
      "[Voting] ...................... (1 of 3) Processing lin, total=14.2min\n",
      "[Voting] ...................... (2 of 3) Processing pol, total=14.9min\n",
      "[Voting] ...................... (3 of 3) Processing rad, total=20.5min\n",
      "[CV 1/5] END weights=[3, 2, 1];, score=(train=0.854, test=0.861) total time=51.4min\n",
      "[Voting] ...................... (1 of 3) Processing lin, total=14.1min\n",
      "[Voting] ...................... (2 of 3) Processing pol, total=14.8min\n",
      "[Voting] ...................... (3 of 3) Processing rad, total=20.3min\n",
      "[CV 5/5] END weights=[1, 3, 1];, score=(train=0.857, test=0.854) total time=51.0min\n",
      "[Voting] ...................... (1 of 3) Processing lin, total=14.1min\n",
      "[Voting] ...................... (2 of 3) Processing pol, total=14.8min\n",
      "[Voting] ...................... (3 of 3) Processing rad, total=20.4min\n",
      "[CV 5/5] END weights=[1, 3, 3];, score=(train=0.856, test=0.854) total time=51.2min\n",
      "[Voting] ...................... (1 of 3) Processing lin, total=14.1min\n",
      "[Voting] ...................... (2 of 3) Processing pol, total=14.8min\n",
      "[Voting] ...................... (3 of 3) Processing rad, total=20.3min\n",
      "[CV 5/5] END weights=[3, 1, 1];, score=(train=0.855, test=0.853) total time=51.1min\n",
      "[Voting] ...................... (1 of 3) Processing lin, total=14.1min\n",
      "[Voting] ...................... (2 of 3) Processing pol, total=14.8min\n",
      "[Voting] ...................... (3 of 3) Processing rad, total=20.2min\n",
      "[CV 5/5] END weights=[2, 2, 1];, score=(train=0.856, test=0.854) total time=51.0min\n",
      "[Voting] ...................... (1 of 3) Processing lin, total=13.9min\n",
      "[Voting] ...................... (2 of 3) Processing pol, total=14.8min\n",
      "[Voting] ...................... (3 of 3) Processing rad, total=20.2min\n",
      "[CV 5/5] END weights=[1, 1, 2];, score=(train=0.856, test=0.853) total time=50.9min\n",
      "[Voting] ...................... (1 of 3) Processing lin, total=14.1min\n",
      "[Voting] ...................... (2 of 3) Processing pol, total=14.8min\n",
      "[Voting] ...................... (3 of 3) Processing rad, total=20.3min\n",
      "[CV 5/5] END weights=[3, 3, 1];, score=(train=0.856, test=0.854) total time=51.0min\n",
      "[Voting] ...................... (1 of 3) Processing lin, total=14.0min\n",
      "[Voting] ...................... (2 of 3) Processing pol, total=14.8min\n",
      "[Voting] ...................... (3 of 3) Processing rad, total=20.3min\n",
      "[CV 5/5] END weights=[2, 1, 1];, score=(train=0.856, test=0.854) total time=51.0min\n",
      "[Voting] ...................... (1 of 3) Processing lin, total=17.4min\n",
      "[Voting] ...................... (2 of 3) Processing pol, total=18.1min\n",
      "[Voting] ...................... (3 of 3) Processing rad, total=28.2min\n"
     ]
    }
   ],
   "source": [
    "if( runSvm ):\n",
    "    voting_svm = VotingClassifier(\n",
    "        estimators=[\n",
    "            ('lin', lin),\n",
    "            ('pol', pol),\n",
    "            ('rad', rad)\n",
    "        ],\n",
    "        voting='soft',\n",
    "        verbose=1\n",
    "    )\n",
    "    \n",
    "    params = {\n",
    "        'weights': [\n",
    "            [1,1,1],\n",
    "            [2,1,1],[1,2,1],[1,1,2],\n",
    "            [2,2,1],[1,2,2],[2,1,2],\n",
    "            [3,1,1],[1,3,1],[1,1,3],\n",
    "            [3,2,1],[1,3,2],[2,1,3],\n",
    "            [2,3,1],[1,2,3],[3,1,2],\n",
    "            [3,3,1],[1,3,3],[3,1,3],\n",
    "        ],\n",
    "    }\n",
    "    \n",
    "    voting_svm_grid = RandomizedSearchCV(\n",
    "        voting_svm,\n",
    "        params,\n",
    "        scoring='roc_auc',\n",
    "        n_jobs=MAX_JOBS,\n",
    "        return_train_score=True,\n",
    "        verbose=5\n",
    "    ).fit(train_feat, train_targ)\n",
    "    \n",
    "    # Guardar\n",
    "    if(saveSvm):\n",
    "        dump(voting_svm_grid, 'models/Ensambles/voting_svm_grid.sk')\n",
    "        dump(voting_svm_grid, 'models/Ensambles/voting_svm_grid.sk')\n",
    "else:\n",
    "    # Cargar\n",
    "    voting_svm_grid = load('models/Ensambles/voting_svm_grid.sk')"
   ]
  },
  {
   "cell_type": "markdown",
   "id": "b0a43fa7-4fd7-4c7f-b65f-9da0add98e4b",
   "metadata": {},
   "source": [
    "11hs con 5 jobs, habia mejores maneras de optimizar hiperparametros"
   ]
  },
  {
   "cell_type": "code",
   "execution_count": 17,
   "id": "63a6b4bc-e597-46dc-9146-e255adc0e118",
   "metadata": {
    "execution": {
     "iopub.execute_input": "2021-12-06T13:55:02.756116Z",
     "iopub.status.busy": "2021-12-06T13:55:02.755901Z",
     "iopub.status.idle": "2021-12-06T13:55:02.760614Z",
     "shell.execute_reply": "2021-12-06T13:55:02.759545Z",
     "shell.execute_reply.started": "2021-12-06T13:55:02.756092Z"
    },
    "tags": []
   },
   "outputs": [
    {
     "name": "stdout",
     "output_type": "stream",
     "text": [
      "Best score: 0.8560376343580632\n",
      "Best params {'weights': [1, 3, 1]}\n"
     ]
    }
   ],
   "source": [
    "print(f\"Best score: {voting_svm_grid.best_score_}\")\n",
    "print(f\"Best params {voting_svm_grid.best_params_}\")"
   ]
  },
  {
   "cell_type": "code",
   "execution_count": 18,
   "id": "3d93138b-9a57-47e0-81a1-820e8fc2e0c9",
   "metadata": {
    "execution": {
     "iopub.execute_input": "2021-12-06T13:55:02.762239Z",
     "iopub.status.busy": "2021-12-06T13:55:02.761961Z",
     "iopub.status.idle": "2021-12-06T13:55:02.773789Z",
     "shell.execute_reply": "2021-12-06T13:55:02.770225Z",
     "shell.execute_reply.started": "2021-12-06T13:55:02.762210Z"
    },
    "tags": []
   },
   "outputs": [],
   "source": [
    "voting_svm = voting_svm_grid.best_estimator_"
   ]
  },
  {
   "cell_type": "code",
   "execution_count": null,
   "id": "1698b124-275e-4a0c-b83c-39ee13760708",
   "metadata": {
    "execution": {
     "iopub.status.busy": "2021-12-06T14:01:32.552040Z",
     "iopub.status.idle": "2021-12-06T14:01:32.552435Z",
     "shell.execute_reply": "2021-12-06T14:01:32.552236Z",
     "shell.execute_reply.started": "2021-12-06T14:01:32.552221Z"
    },
    "tags": []
   },
   "outputs": [],
   "source": [
    "%%time\n",
    "pred = voting_svm.predict(val_feat)\n",
    "prob = voting_svm.predict_proba(val_feat)\n",
    "score(val_targ, pred, prob)"
   ]
  }
 ],
 "metadata": {
  "kernelspec": {
   "display_name": "Python 3 (ipykernel)",
   "language": "python",
   "name": "python3"
  },
  "language_info": {
   "codemirror_mode": {
    "name": "ipython",
    "version": 3
   },
   "file_extension": ".py",
   "mimetype": "text/x-python",
   "name": "python",
   "nbconvert_exporter": "python",
   "pygments_lexer": "ipython3",
   "version": "3.9.9"
  }
 },
 "nbformat": 4,
 "nbformat_minor": 5
}
