{
 "cells": [
  {
   "cell_type": "markdown",
   "id": "f52068c0-7153-474f-a5c3-80dca215b967",
   "metadata": {
    "execution": {
     "iopub.execute_input": "2021-11-30T02:10:08.889763Z",
     "iopub.status.busy": "2021-11-30T02:10:08.889506Z",
     "iopub.status.idle": "2021-11-30T02:10:09.873670Z",
     "shell.execute_reply": "2021-11-30T02:10:09.873096Z",
     "shell.execute_reply.started": "2021-11-30T02:10:08.889697Z"
    }
   },
   "source": [
    "# Naive bayes"
   ]
  },
  {
   "cell_type": "markdown",
   "id": "9bcef705-8bf8-4989-82de-be5e44d5fde9",
   "metadata": {},
   "source": [
    "### Imports"
   ]
  },
  {
   "cell_type": "code",
   "execution_count": 1,
   "id": "908f84f4-ee8d-49ea-a369-c59c0f30a901",
   "metadata": {
    "execution": {
     "iopub.execute_input": "2021-12-05T02:23:28.904689Z",
     "iopub.status.busy": "2021-12-05T02:23:28.904145Z",
     "iopub.status.idle": "2021-12-05T02:23:29.816428Z",
     "shell.execute_reply": "2021-12-05T02:23:29.815914Z",
     "shell.execute_reply.started": "2021-12-05T02:23:28.904607Z"
    }
   },
   "outputs": [],
   "source": [
    "import pandas as pd\n",
    "import numpy as np\n",
    "from matplotlib import pyplot as plt\n",
    "from joblib import dump, load"
   ]
  },
  {
   "cell_type": "code",
   "execution_count": 2,
   "id": "c94c7fb4-bcec-48e6-965c-9058dcbdbc53",
   "metadata": {
    "execution": {
     "iopub.execute_input": "2021-12-05T02:23:29.817696Z",
     "iopub.status.busy": "2021-12-05T02:23:29.817494Z",
     "iopub.status.idle": "2021-12-05T02:23:30.110898Z",
     "shell.execute_reply": "2021-12-05T02:23:30.110195Z",
     "shell.execute_reply.started": "2021-12-05T02:23:29.817671Z"
    },
    "tags": []
   },
   "outputs": [],
   "source": [
    "from sklearn.naive_bayes import GaussianNB\n",
    "from sklearn.naive_bayes import ComplementNB"
   ]
  },
  {
   "cell_type": "code",
   "execution_count": 3,
   "id": "cfb24ca0-9bd9-4b58-8b92-5092f42a4cda",
   "metadata": {
    "execution": {
     "iopub.execute_input": "2021-12-05T02:23:30.113232Z",
     "iopub.status.busy": "2021-12-05T02:23:30.113020Z",
     "iopub.status.idle": "2021-12-05T02:23:32.718209Z",
     "shell.execute_reply": "2021-12-05T02:23:32.717639Z",
     "shell.execute_reply.started": "2021-12-05T02:23:30.113206Z"
    }
   },
   "outputs": [
    {
     "name": "stdout",
     "output_type": "stream",
     "text": [
      "[###] All Done                                              \n"
     ]
    }
   ],
   "source": [
    "from preprocessing import reemplazarNulls,reemplazarCategoricas,reemplazarFechas,targetBooleano,regularizar"
   ]
  },
  {
   "cell_type": "code",
   "execution_count": 4,
   "id": "59647526-08b8-4e5c-bf24-54a1280e33e9",
   "metadata": {
    "execution": {
     "iopub.execute_input": "2021-12-05T02:23:32.719755Z",
     "iopub.status.busy": "2021-12-05T02:23:32.719499Z",
     "iopub.status.idle": "2021-12-05T02:23:33.142293Z",
     "shell.execute_reply": "2021-12-05T02:23:33.141487Z",
     "shell.execute_reply.started": "2021-12-05T02:23:32.719726Z"
    }
   },
   "outputs": [],
   "source": [
    "from utilities import score, df_feat, df_targ, train_val"
   ]
  },
  {
   "cell_type": "markdown",
   "id": "8b202d87-3e34-4c7c-8944-5addb5e0bccc",
   "metadata": {},
   "source": [
    "### Codigo a correr"
   ]
  },
  {
   "cell_type": "code",
   "execution_count": 5,
   "id": "1df16897-a34d-4c6c-8dfb-cdd79a3f0930",
   "metadata": {
    "execution": {
     "iopub.execute_input": "2021-12-05T02:23:33.143685Z",
     "iopub.status.busy": "2021-12-05T02:23:33.143352Z",
     "iopub.status.idle": "2021-12-05T02:23:33.147116Z",
     "shell.execute_reply": "2021-12-05T02:23:33.146280Z",
     "shell.execute_reply.started": "2021-12-05T02:23:33.143662Z"
    }
   },
   "outputs": [],
   "source": [
    "MAX_ITER = 10**6\n",
    "MAX_JOBS = -1"
   ]
  },
  {
   "cell_type": "markdown",
   "id": "ad6e03b0-054c-4ee9-a850-fb8e31a34fb2",
   "metadata": {},
   "source": [
    "**Run :** Entrenar Nuevamente o Cargar Entrenado"
   ]
  },
  {
   "cell_type": "code",
   "execution_count": 6,
   "id": "462bbeeb-82e1-4353-afc9-27893f355cab",
   "metadata": {
    "execution": {
     "iopub.execute_input": "2021-12-05T02:23:33.148467Z",
     "iopub.status.busy": "2021-12-05T02:23:33.148062Z",
     "iopub.status.idle": "2021-12-05T02:23:33.154311Z",
     "shell.execute_reply": "2021-12-05T02:23:33.153344Z",
     "shell.execute_reply.started": "2021-12-05T02:23:33.148437Z"
    },
    "tags": []
   },
   "outputs": [],
   "source": [
    "runNB = True"
   ]
  },
  {
   "cell_type": "markdown",
   "id": "d44b2c11-34d5-44c0-a842-7a173b50993b",
   "metadata": {},
   "source": [
    "**Save :** Guardar Modelo (pisa anterior)"
   ]
  },
  {
   "cell_type": "code",
   "execution_count": 7,
   "id": "07c1439f-5b3c-4ba2-9c15-09eb314cdb77",
   "metadata": {
    "execution": {
     "iopub.execute_input": "2021-12-05T02:23:33.155547Z",
     "iopub.status.busy": "2021-12-05T02:23:33.155296Z",
     "iopub.status.idle": "2021-12-05T02:23:33.159495Z",
     "shell.execute_reply": "2021-12-05T02:23:33.158578Z",
     "shell.execute_reply.started": "2021-12-05T02:23:33.155517Z"
    }
   },
   "outputs": [],
   "source": [
    "saveNB = True"
   ]
  },
  {
   "cell_type": "markdown",
   "id": "6eb64672-26db-4e45-ae0d-544505b0fb83",
   "metadata": {},
   "source": [
    "### Preprocesamiento"
   ]
  },
  {
   "cell_type": "code",
   "execution_count": 8,
   "id": "1595b6db-747c-4202-b289-ceba0ec11c9b",
   "metadata": {
    "execution": {
     "iopub.execute_input": "2021-12-05T02:23:33.161077Z",
     "iopub.status.busy": "2021-12-05T02:23:33.160812Z",
     "iopub.status.idle": "2021-12-05T02:23:34.662907Z",
     "shell.execute_reply": "2021-12-05T02:23:34.662262Z",
     "shell.execute_reply.started": "2021-12-05T02:23:33.161057Z"
    },
    "tags": []
   },
   "outputs": [],
   "source": [
    "df_targ=targetBooleano(df_targ)\n",
    "reemplazarNulls(df_feat , inplace=True)\n",
    "reemplazarCategoricas(df_feat , inplace=True)\n",
    "reemplazarFechas(df_feat , inplace=True)\n",
    "df_feat_r = regularizar(df_feat)"
   ]
  },
  {
   "cell_type": "code",
   "execution_count": 9,
   "id": "0a2ab13c-8af8-4f56-bdec-192a92a7fa25",
   "metadata": {
    "execution": {
     "iopub.execute_input": "2021-12-05T02:23:34.664110Z",
     "iopub.status.busy": "2021-12-05T02:23:34.663814Z",
     "iopub.status.idle": "2021-12-05T02:23:34.682564Z",
     "shell.execute_reply": "2021-12-05T02:23:34.681875Z",
     "shell.execute_reply.started": "2021-12-05T02:23:34.664086Z"
    }
   },
   "outputs": [
    {
     "name": "stdout",
     "output_type": "stream",
     "text": [
      "<class 'pandas.core.frame.DataFrame'>\n",
      "RangeIndex: 102356 entries, 0 to 102355\n",
      "Data columns (total 24 columns):\n",
      " #   Column                        Non-Null Count   Dtype  \n",
      "---  ------                        --------------   -----  \n",
      " 0   id                            102356 non-null  int64  \n",
      " 1   direccion_viento_tarde        102356 non-null  float64\n",
      " 2   direccion_viento_temprano     102356 non-null  float64\n",
      " 3   horas_de_sol                  102356 non-null  float64\n",
      " 4   humedad_tarde                 102356 non-null  float64\n",
      " 5   humedad_temprano              102356 non-null  float64\n",
      " 6   llovieron_hamburguesas_hoy    102356 non-null  bool   \n",
      " 7   mm_evaporados_agua            102356 non-null  float64\n",
      " 8   mm_lluvia_dia                 102356 non-null  float64\n",
      " 9   nubosidad_tarde               102356 non-null  float64\n",
      " 10  nubosidad_temprano            102356 non-null  float64\n",
      " 11  presion_atmosferica_tarde     102356 non-null  float64\n",
      " 12  presion_atmosferica_temprano  102356 non-null  float64\n",
      " 13  rafaga_viento_max_direccion   102356 non-null  float64\n",
      " 14  rafaga_viento_max_velocidad   102356 non-null  float64\n",
      " 15  temp_max                      102356 non-null  float64\n",
      " 16  temp_min                      102356 non-null  float64\n",
      " 17  temperatura_tarde             102356 non-null  float64\n",
      " 18  temperatura_temprano          102356 non-null  float64\n",
      " 19  velocidad_viendo_tarde        102356 non-null  float64\n",
      " 20  velocidad_viendo_temprano     102356 non-null  float64\n",
      " 21  y                             102356 non-null  int64  \n",
      " 22  m                             102356 non-null  int64  \n",
      " 23  d                             102356 non-null  int64  \n",
      "dtypes: bool(1), float64(19), int64(4)\n",
      "memory usage: 18.1 MB\n"
     ]
    }
   ],
   "source": [
    "df_feat.info()"
   ]
  },
  {
   "cell_type": "code",
   "execution_count": 10,
   "id": "e90cbd14-d511-4194-84fe-e84d56acafc9",
   "metadata": {
    "execution": {
     "iopub.execute_input": "2021-12-05T02:23:34.684096Z",
     "iopub.status.busy": "2021-12-05T02:23:34.683731Z",
     "iopub.status.idle": "2021-12-05T02:23:34.730952Z",
     "shell.execute_reply": "2021-12-05T02:23:34.730187Z",
     "shell.execute_reply.started": "2021-12-05T02:23:34.684071Z"
    }
   },
   "outputs": [],
   "source": [
    "train_feat_r, val_feat_r, train_targ_r, val_targ_r = train_val( df_feat_r, df_targ )\n",
    "train_targ_r=train_targ_r.llovieron_hamburguesas_al_dia_siguiente\n",
    "val_targ_r=val_targ_r.llovieron_hamburguesas_al_dia_siguiente"
   ]
  },
  {
   "cell_type": "markdown",
   "id": "c5be4845-2836-4adf-aaac-4cc7bca2993d",
   "metadata": {},
   "source": [
    "## Entrenamiento"
   ]
  },
  {
   "cell_type": "markdown",
   "id": "0c5a7f98-92c2-47bb-bb03-f5035ec16983",
   "metadata": {},
   "source": [
    "### Regularizado, asumiendo continuidad"
   ]
  },
  {
   "cell_type": "code",
   "execution_count": 11,
   "id": "4ec52b58-47dc-48d5-a25f-8fc3fa2ac92b",
   "metadata": {
    "execution": {
     "iopub.execute_input": "2021-12-05T02:23:34.732135Z",
     "iopub.status.busy": "2021-12-05T02:23:34.731850Z",
     "iopub.status.idle": "2021-12-05T02:23:34.764183Z",
     "shell.execute_reply": "2021-12-05T02:23:34.763133Z",
     "shell.execute_reply.started": "2021-12-05T02:23:34.732112Z"
    },
    "tags": []
   },
   "outputs": [],
   "source": [
    "if (runNB):\n",
    "    nb_cont = GaussianNB()\n",
    "    \n",
    "    nb_cont.fit(train_feat_r, train_targ_r)\n",
    "    \n",
    "    # Guardar\n",
    "    if(saveNB):\n",
    "        dump(nb_cont, 'models/NB/nb_reg.sk') \n",
    "else:\n",
    "    # Cargar\n",
    "    nb_cont = load('models/NB/nb_reg.sk')"
   ]
  },
  {
   "cell_type": "code",
   "execution_count": 12,
   "id": "d80cf9d4-5938-4ffe-8404-700b7e9d041a",
   "metadata": {
    "execution": {
     "iopub.execute_input": "2021-12-05T02:23:34.768320Z",
     "iopub.status.busy": "2021-12-05T02:23:34.768120Z",
     "iopub.status.idle": "2021-12-05T02:23:34.995243Z",
     "shell.execute_reply": "2021-12-05T02:23:34.994332Z",
     "shell.execute_reply.started": "2021-12-05T02:23:34.768299Z"
    },
    "tags": []
   },
   "outputs": [
    {
     "name": "stdout",
     "output_type": "stream",
     "text": [
      "AUC-ROC: 0.7193154227718321\n",
      "ACCURACY: 0.82336850332161\n",
      "PRESICION: 0.6235897435897436\n",
      "RECALL: 0.5310043668122271\n",
      "CONFUSION MATRIX\n",
      "CPU times: user 164 ms, sys: 13.8 ms, total: 178 ms\n",
      "Wall time: 133 ms\n"
     ]
    },
    {
     "data": {
      "image/png": "[encoded data removed]",
      "text/plain": [
       "<Figure size 432x288 with 2 Axes>"
      ]
     },
     "metadata": {},
     "output_type": "display_data"
    }
   ],
   "source": [
    "%%time\n",
    "pred = nb_cont.predict(val_feat_r)\n",
    "prob = nb_cont.predict_proba(val_feat_r)\n",
    "score(val_targ_r,pred, prob)"
   ]
  }
 ],
 "metadata": {
  "kernelspec": {
   "display_name": "Python 3 (ipykernel)",
   "language": "python",
   "name": "python3"
  },
  "language_info": {
   "codemirror_mode": {
    "name": "ipython",
    "version": 3
   },
   "file_extension": ".py",
   "mimetype": "text/x-python",
   "name": "python",
   "nbconvert_exporter": "python",
   "pygments_lexer": "ipython3",
   "version": "3.9.9"
  }
 },
 "nbformat": 4,
 "nbformat_minor": 5
}
