{
 "cells": [
  {
   "cell_type": "markdown",
   "id": "f52068c0-7153-474f-a5c3-80dca215b967",
   "metadata": {
    "execution": {
     "iopub.execute_input": "2021-11-30T02:10:08.889763Z",
     "iopub.status.busy": "2021-11-30T02:10:08.889506Z",
     "iopub.status.idle": "2021-11-30T02:10:09.873670Z",
     "shell.execute_reply": "2021-11-30T02:10:09.873096Z",
     "shell.execute_reply.started": "2021-11-30T02:10:08.889697Z"
    }
   },
   "source": [
    "# Naive bayes"
   ]
  },
  {
   "cell_type": "markdown",
   "id": "9bcef705-8bf8-4989-82de-be5e44d5fde9",
   "metadata": {},
   "source": [
    "### Imports"
   ]
  },
  {
   "cell_type": "code",
   "execution_count": 1,
   "id": "908f84f4-ee8d-49ea-a369-c59c0f30a901",
   "metadata": {
    "execution": {
     "iopub.execute_input": "2021-12-28T03:14:31.526265Z",
     "iopub.status.busy": "2021-12-28T03:14:31.525420Z",
     "iopub.status.idle": "2021-12-28T03:14:32.453036Z",
     "shell.execute_reply": "2021-12-28T03:14:32.452110Z",
     "shell.execute_reply.started": "2021-12-28T03:14:31.526146Z"
    }
   },
   "outputs": [],
   "source": [
    "import pandas as pd\n",
    "import numpy as np\n",
    "from matplotlib import pyplot as plt\n",
    "from joblib import dump, load"
   ]
  },
  {
   "cell_type": "code",
   "execution_count": 2,
   "id": "c94c7fb4-bcec-48e6-965c-9058dcbdbc53",
   "metadata": {
    "execution": {
     "iopub.execute_input": "2021-12-28T03:14:32.454516Z",
     "iopub.status.busy": "2021-12-28T03:14:32.454101Z",
     "iopub.status.idle": "2021-12-28T03:14:32.736090Z",
     "shell.execute_reply": "2021-12-28T03:14:32.735427Z",
     "shell.execute_reply.started": "2021-12-28T03:14:32.454493Z"
    },
    "tags": []
   },
   "outputs": [],
   "source": [
    "from sklearn.naive_bayes import GaussianNB\n",
    "from sklearn.naive_bayes import ComplementNB"
   ]
  },
  {
   "cell_type": "code",
   "execution_count": 3,
   "id": "cfb24ca0-9bd9-4b58-8b92-5092f42a4cda",
   "metadata": {
    "execution": {
     "iopub.execute_input": "2021-12-28T03:14:32.739362Z",
     "iopub.status.busy": "2021-12-28T03:14:32.739028Z",
     "iopub.status.idle": "2021-12-28T03:14:34.071553Z",
     "shell.execute_reply": "2021-12-28T03:14:34.070906Z",
     "shell.execute_reply.started": "2021-12-28T03:14:32.739333Z"
    }
   },
   "outputs": [
    {
     "name": "stdout",
     "output_type": "stream",
     "text": [
      "[###] Initial Preprocessings Done                           \n",
      "[###] Aditional Preprocessings Done                                                   \n"
     ]
    }
   ],
   "source": [
    "from preprocessing import reemplazarNulls,reemplazarCategoricas,reemplazarFechas,targetBooleano,regularizar,reemplazarCategoricas_OHE,reemplazarCategoricas_HashTrick,reemplazarNullsNum"
   ]
  },
  {
   "cell_type": "code",
   "execution_count": 15,
   "id": "59647526-08b8-4e5c-bf24-54a1280e33e9",
   "metadata": {
    "execution": {
     "iopub.execute_input": "2021-12-28T03:17:05.643529Z",
     "iopub.status.busy": "2021-12-28T03:17:05.643252Z",
     "iopub.status.idle": "2021-12-28T03:17:05.646937Z",
     "shell.execute_reply": "2021-12-28T03:17:05.646089Z",
     "shell.execute_reply.started": "2021-12-28T03:17:05.643494Z"
    },
    "tags": []
   },
   "outputs": [],
   "source": [
    "from utilities import score, score2, df_feat, df_targ, train_val"
   ]
  },
  {
   "cell_type": "markdown",
   "id": "8b202d87-3e34-4c7c-8944-5addb5e0bccc",
   "metadata": {},
   "source": [
    "### Codigo a correr"
   ]
  },
  {
   "cell_type": "code",
   "execution_count": 5,
   "id": "1df16897-a34d-4c6c-8dfb-cdd79a3f0930",
   "metadata": {
    "execution": {
     "iopub.execute_input": "2021-12-28T03:14:34.443551Z",
     "iopub.status.busy": "2021-12-28T03:14:34.443227Z",
     "iopub.status.idle": "2021-12-28T03:14:34.446954Z",
     "shell.execute_reply": "2021-12-28T03:14:34.445963Z",
     "shell.execute_reply.started": "2021-12-28T03:14:34.443527Z"
    }
   },
   "outputs": [],
   "source": [
    "MAX_ITER = 10**6\n",
    "MAX_JOBS = -1"
   ]
  },
  {
   "cell_type": "markdown",
   "id": "ad6e03b0-054c-4ee9-a850-fb8e31a34fb2",
   "metadata": {},
   "source": [
    "**Run :** Entrenar Nuevamente o Cargar Entrenado"
   ]
  },
  {
   "cell_type": "code",
   "execution_count": 6,
   "id": "462bbeeb-82e1-4353-afc9-27893f355cab",
   "metadata": {
    "execution": {
     "iopub.execute_input": "2021-12-28T03:14:34.448364Z",
     "iopub.status.busy": "2021-12-28T03:14:34.447987Z",
     "iopub.status.idle": "2021-12-28T03:14:34.452075Z",
     "shell.execute_reply": "2021-12-28T03:14:34.451042Z",
     "shell.execute_reply.started": "2021-12-28T03:14:34.448343Z"
    },
    "tags": []
   },
   "outputs": [],
   "source": [
    "runReg = True\n",
    "runOhe = True\n",
    "runHt = True"
   ]
  },
  {
   "cell_type": "markdown",
   "id": "d44b2c11-34d5-44c0-a842-7a173b50993b",
   "metadata": {},
   "source": [
    "**Save :** Guardar Modelo (pisa anterior)"
   ]
  },
  {
   "cell_type": "code",
   "execution_count": 7,
   "id": "07c1439f-5b3c-4ba2-9c15-09eb314cdb77",
   "metadata": {
    "execution": {
     "iopub.execute_input": "2021-12-28T03:14:34.453238Z",
     "iopub.status.busy": "2021-12-28T03:14:34.452926Z",
     "iopub.status.idle": "2021-12-28T03:14:34.457235Z",
     "shell.execute_reply": "2021-12-28T03:14:34.455927Z",
     "shell.execute_reply.started": "2021-12-28T03:14:34.453195Z"
    }
   },
   "outputs": [],
   "source": [
    "saveReg = True\n",
    "saveOhe = True\n",
    "saveHt = True\n",
    "saveBest = True"
   ]
  },
  {
   "cell_type": "code",
   "execution_count": 40,
   "id": "7946c3a5-09c3-4f28-b74d-1581a61a75da",
   "metadata": {
    "execution": {
     "iopub.execute_input": "2021-12-28T03:20:00.194622Z",
     "iopub.status.busy": "2021-12-28T03:20:00.194379Z",
     "iopub.status.idle": "2021-12-28T03:20:00.198059Z",
     "shell.execute_reply": "2021-12-28T03:20:00.197287Z",
     "shell.execute_reply.started": "2021-12-28T03:20:00.194597Z"
    },
    "tags": []
   },
   "outputs": [],
   "source": [
    "predictions = pd.DataFrame()"
   ]
  },
  {
   "cell_type": "markdown",
   "id": "6eb64672-26db-4e45-ae0d-544505b0fb83",
   "metadata": {},
   "source": [
    "### Preprocesamiento"
   ]
  },
  {
   "cell_type": "code",
   "execution_count": 9,
   "id": "1595b6db-747c-4202-b289-ceba0ec11c9b",
   "metadata": {
    "execution": {
     "iopub.execute_input": "2021-12-28T03:14:34.463949Z",
     "iopub.status.busy": "2021-12-28T03:14:34.463622Z",
     "iopub.status.idle": "2021-12-28T03:16:24.349886Z",
     "shell.execute_reply": "2021-12-28T03:16:24.349290Z",
     "shell.execute_reply.started": "2021-12-28T03:14:34.463885Z"
    },
    "tags": []
   },
   "outputs": [
    {
     "data": {
      "text/html": [
       "<div>\n",
       "<style scoped>\n",
       "    .dataframe tbody tr th:only-of-type {\n",
       "        vertical-align: middle;\n",
       "    }\n",
       "\n",
       "    .dataframe tbody tr th {\n",
       "        vertical-align: top;\n",
       "    }\n",
       "\n",
       "    .dataframe thead th {\n",
       "        text-align: right;\n",
       "    }\n",
       "</style>\n",
       "<table border=\"1\" class=\"dataframe\">\n",
       "  <thead>\n",
       "    <tr style=\"text-align: right;\">\n",
       "      <th></th>\n",
       "      <th>horas_de_sol</th>\n",
       "      <th>humedad_tarde</th>\n",
       "      <th>humedad_temprano</th>\n",
       "      <th>mm_evaporados_agua</th>\n",
       "      <th>mm_lluvia_dia</th>\n",
       "      <th>nubosidad_tarde</th>\n",
       "      <th>nubosidad_temprano</th>\n",
       "      <th>presion_atmosferica_tarde</th>\n",
       "      <th>presion_atmosferica_temprano</th>\n",
       "      <th>rafaga_viento_max_velocidad</th>\n",
       "      <th>...</th>\n",
       "      <th>missing_rafaga_viento_max_velocidad</th>\n",
       "      <th>missing_temp_max</th>\n",
       "      <th>missing_temp_min</th>\n",
       "      <th>missing_temperatura_tarde</th>\n",
       "      <th>missing_temperatura_temprano</th>\n",
       "      <th>missing_velocidad_viendo_tarde</th>\n",
       "      <th>missing_velocidad_viendo_temprano</th>\n",
       "      <th>y</th>\n",
       "      <th>m</th>\n",
       "      <th>d</th>\n",
       "    </tr>\n",
       "    <tr>\n",
       "      <th>id</th>\n",
       "      <th></th>\n",
       "      <th></th>\n",
       "      <th></th>\n",
       "      <th></th>\n",
       "      <th></th>\n",
       "      <th></th>\n",
       "      <th></th>\n",
       "      <th></th>\n",
       "      <th></th>\n",
       "      <th></th>\n",
       "      <th></th>\n",
       "      <th></th>\n",
       "      <th></th>\n",
       "      <th></th>\n",
       "      <th></th>\n",
       "      <th></th>\n",
       "      <th></th>\n",
       "      <th></th>\n",
       "      <th></th>\n",
       "      <th></th>\n",
       "      <th></th>\n",
       "    </tr>\n",
       "  </thead>\n",
       "  <tbody>\n",
       "    <tr>\n",
       "      <th>74816</th>\n",
       "      <td>7.629393</td>\n",
       "      <td>78.0</td>\n",
       "      <td>74.0</td>\n",
       "      <td>5.470542</td>\n",
       "      <td>68.0</td>\n",
       "      <td>4.50597</td>\n",
       "      <td>4.430203</td>\n",
       "      <td>1024.200000</td>\n",
       "      <td>1026.200000</td>\n",
       "      <td>48.0</td>\n",
       "      <td>...</td>\n",
       "      <td>False</td>\n",
       "      <td>False</td>\n",
       "      <td>False</td>\n",
       "      <td>False</td>\n",
       "      <td>False</td>\n",
       "      <td>False</td>\n",
       "      <td>False</td>\n",
       "      <td>2014</td>\n",
       "      <td>6</td>\n",
       "      <td>7</td>\n",
       "    </tr>\n",
       "    <tr>\n",
       "      <th>64318</th>\n",
       "      <td>7.629393</td>\n",
       "      <td>14.0</td>\n",
       "      <td>56.0</td>\n",
       "      <td>5.470542</td>\n",
       "      <td>5.8</td>\n",
       "      <td>1.00000</td>\n",
       "      <td>4.430203</td>\n",
       "      <td>998.300000</td>\n",
       "      <td>1002.500000</td>\n",
       "      <td>61.0</td>\n",
       "      <td>...</td>\n",
       "      <td>False</td>\n",
       "      <td>False</td>\n",
       "      <td>False</td>\n",
       "      <td>False</td>\n",
       "      <td>False</td>\n",
       "      <td>False</td>\n",
       "      <td>False</td>\n",
       "      <td>2014</td>\n",
       "      <td>12</td>\n",
       "      <td>7</td>\n",
       "    </tr>\n",
       "    <tr>\n",
       "      <th>54357</th>\n",
       "      <td>2.600000</td>\n",
       "      <td>79.0</td>\n",
       "      <td>47.0</td>\n",
       "      <td>5.470542</td>\n",
       "      <td>0.0</td>\n",
       "      <td>8.00000</td>\n",
       "      <td>7.000000</td>\n",
       "      <td>1000.500000</td>\n",
       "      <td>1005.800000</td>\n",
       "      <td>57.0</td>\n",
       "      <td>...</td>\n",
       "      <td>False</td>\n",
       "      <td>False</td>\n",
       "      <td>False</td>\n",
       "      <td>False</td>\n",
       "      <td>False</td>\n",
       "      <td>False</td>\n",
       "      <td>False</td>\n",
       "      <td>2010</td>\n",
       "      <td>7</td>\n",
       "      <td>8</td>\n",
       "    </tr>\n",
       "    <tr>\n",
       "      <th>1762</th>\n",
       "      <td>0.000000</td>\n",
       "      <td>92.0</td>\n",
       "      <td>96.0</td>\n",
       "      <td>3.000000</td>\n",
       "      <td>5.0</td>\n",
       "      <td>8.00000</td>\n",
       "      <td>8.000000</td>\n",
       "      <td>1015.400000</td>\n",
       "      <td>1016.800000</td>\n",
       "      <td>54.0</td>\n",
       "      <td>...</td>\n",
       "      <td>False</td>\n",
       "      <td>False</td>\n",
       "      <td>False</td>\n",
       "      <td>False</td>\n",
       "      <td>False</td>\n",
       "      <td>False</td>\n",
       "      <td>False</td>\n",
       "      <td>2015</td>\n",
       "      <td>11</td>\n",
       "      <td>4</td>\n",
       "    </tr>\n",
       "    <tr>\n",
       "      <th>89422</th>\n",
       "      <td>7.629393</td>\n",
       "      <td>14.0</td>\n",
       "      <td>37.0</td>\n",
       "      <td>5.470542</td>\n",
       "      <td>0.0</td>\n",
       "      <td>2.00000</td>\n",
       "      <td>4.430203</td>\n",
       "      <td>1006.400000</td>\n",
       "      <td>1011.100000</td>\n",
       "      <td>50.0</td>\n",
       "      <td>...</td>\n",
       "      <td>False</td>\n",
       "      <td>False</td>\n",
       "      <td>False</td>\n",
       "      <td>False</td>\n",
       "      <td>False</td>\n",
       "      <td>False</td>\n",
       "      <td>False</td>\n",
       "      <td>2014</td>\n",
       "      <td>12</td>\n",
       "      <td>22</td>\n",
       "    </tr>\n",
       "    <tr>\n",
       "      <th>...</th>\n",
       "      <td>...</td>\n",
       "      <td>...</td>\n",
       "      <td>...</td>\n",
       "      <td>...</td>\n",
       "      <td>...</td>\n",
       "      <td>...</td>\n",
       "      <td>...</td>\n",
       "      <td>...</td>\n",
       "      <td>...</td>\n",
       "      <td>...</td>\n",
       "      <td>...</td>\n",
       "      <td>...</td>\n",
       "      <td>...</td>\n",
       "      <td>...</td>\n",
       "      <td>...</td>\n",
       "      <td>...</td>\n",
       "      <td>...</td>\n",
       "      <td>...</td>\n",
       "      <td>...</td>\n",
       "      <td>...</td>\n",
       "      <td>...</td>\n",
       "    </tr>\n",
       "    <tr>\n",
       "      <th>49272</th>\n",
       "      <td>6.500000</td>\n",
       "      <td>63.0</td>\n",
       "      <td>44.0</td>\n",
       "      <td>3.800000</td>\n",
       "      <td>0.4</td>\n",
       "      <td>6.00000</td>\n",
       "      <td>2.000000</td>\n",
       "      <td>1011.800000</td>\n",
       "      <td>1014.500000</td>\n",
       "      <td>72.0</td>\n",
       "      <td>...</td>\n",
       "      <td>False</td>\n",
       "      <td>False</td>\n",
       "      <td>False</td>\n",
       "      <td>False</td>\n",
       "      <td>False</td>\n",
       "      <td>False</td>\n",
       "      <td>False</td>\n",
       "      <td>2012</td>\n",
       "      <td>5</td>\n",
       "      <td>23</td>\n",
       "    </tr>\n",
       "    <tr>\n",
       "      <th>13885</th>\n",
       "      <td>2.100000</td>\n",
       "      <td>65.0</td>\n",
       "      <td>80.0</td>\n",
       "      <td>1.600000</td>\n",
       "      <td>5.2</td>\n",
       "      <td>7.00000</td>\n",
       "      <td>7.000000</td>\n",
       "      <td>1017.500000</td>\n",
       "      <td>1016.300000</td>\n",
       "      <td>48.0</td>\n",
       "      <td>...</td>\n",
       "      <td>False</td>\n",
       "      <td>False</td>\n",
       "      <td>False</td>\n",
       "      <td>False</td>\n",
       "      <td>False</td>\n",
       "      <td>False</td>\n",
       "      <td>False</td>\n",
       "      <td>2011</td>\n",
       "      <td>10</td>\n",
       "      <td>25</td>\n",
       "    </tr>\n",
       "    <tr>\n",
       "      <th>4586</th>\n",
       "      <td>7.629393</td>\n",
       "      <td>81.0</td>\n",
       "      <td>62.0</td>\n",
       "      <td>5.470542</td>\n",
       "      <td>0.0</td>\n",
       "      <td>4.50597</td>\n",
       "      <td>4.430203</td>\n",
       "      <td>1015.257118</td>\n",
       "      <td>1017.655555</td>\n",
       "      <td>35.0</td>\n",
       "      <td>...</td>\n",
       "      <td>False</td>\n",
       "      <td>False</td>\n",
       "      <td>False</td>\n",
       "      <td>False</td>\n",
       "      <td>False</td>\n",
       "      <td>False</td>\n",
       "      <td>False</td>\n",
       "      <td>2015</td>\n",
       "      <td>12</td>\n",
       "      <td>16</td>\n",
       "    </tr>\n",
       "    <tr>\n",
       "      <th>68030</th>\n",
       "      <td>0.900000</td>\n",
       "      <td>79.0</td>\n",
       "      <td>65.0</td>\n",
       "      <td>2.200000</td>\n",
       "      <td>0.0</td>\n",
       "      <td>8.00000</td>\n",
       "      <td>7.000000</td>\n",
       "      <td>1000.800000</td>\n",
       "      <td>1010.900000</td>\n",
       "      <td>56.0</td>\n",
       "      <td>...</td>\n",
       "      <td>False</td>\n",
       "      <td>False</td>\n",
       "      <td>False</td>\n",
       "      <td>False</td>\n",
       "      <td>False</td>\n",
       "      <td>False</td>\n",
       "      <td>False</td>\n",
       "      <td>2010</td>\n",
       "      <td>8</td>\n",
       "      <td>18</td>\n",
       "    </tr>\n",
       "    <tr>\n",
       "      <th>32535</th>\n",
       "      <td>10.700000</td>\n",
       "      <td>56.0</td>\n",
       "      <td>65.0</td>\n",
       "      <td>10.000000</td>\n",
       "      <td>0.0</td>\n",
       "      <td>2.00000</td>\n",
       "      <td>2.000000</td>\n",
       "      <td>1019.400000</td>\n",
       "      <td>1020.800000</td>\n",
       "      <td>48.0</td>\n",
       "      <td>...</td>\n",
       "      <td>False</td>\n",
       "      <td>False</td>\n",
       "      <td>False</td>\n",
       "      <td>False</td>\n",
       "      <td>False</td>\n",
       "      <td>False</td>\n",
       "      <td>False</td>\n",
       "      <td>2015</td>\n",
       "      <td>12</td>\n",
       "      <td>7</td>\n",
       "    </tr>\n",
       "  </tbody>\n",
       "</table>\n",
       "<p>102356 rows × 53 columns</p>\n",
       "</div>"
      ],
      "text/plain": [
       "       horas_de_sol  humedad_tarde  humedad_temprano  mm_evaporados_agua  \\\n",
       "id                                                                         \n",
       "74816      7.629393           78.0              74.0            5.470542   \n",
       "64318      7.629393           14.0              56.0            5.470542   \n",
       "54357      2.600000           79.0              47.0            5.470542   \n",
       "1762       0.000000           92.0              96.0            3.000000   \n",
       "89422      7.629393           14.0              37.0            5.470542   \n",
       "...             ...            ...               ...                 ...   \n",
       "49272      6.500000           63.0              44.0            3.800000   \n",
       "13885      2.100000           65.0              80.0            1.600000   \n",
       "4586       7.629393           81.0              62.0            5.470542   \n",
       "68030      0.900000           79.0              65.0            2.200000   \n",
       "32535     10.700000           56.0              65.0           10.000000   \n",
       "\n",
       "       mm_lluvia_dia  nubosidad_tarde  nubosidad_temprano  \\\n",
       "id                                                          \n",
       "74816           68.0          4.50597            4.430203   \n",
       "64318            5.8          1.00000            4.430203   \n",
       "54357            0.0          8.00000            7.000000   \n",
       "1762             5.0          8.00000            8.000000   \n",
       "89422            0.0          2.00000            4.430203   \n",
       "...              ...              ...                 ...   \n",
       "49272            0.4          6.00000            2.000000   \n",
       "13885            5.2          7.00000            7.000000   \n",
       "4586             0.0          4.50597            4.430203   \n",
       "68030            0.0          8.00000            7.000000   \n",
       "32535            0.0          2.00000            2.000000   \n",
       "\n",
       "       presion_atmosferica_tarde  presion_atmosferica_temprano  \\\n",
       "id                                                               \n",
       "74816                1024.200000                   1026.200000   \n",
       "64318                 998.300000                   1002.500000   \n",
       "54357                1000.500000                   1005.800000   \n",
       "1762                 1015.400000                   1016.800000   \n",
       "89422                1006.400000                   1011.100000   \n",
       "...                          ...                           ...   \n",
       "49272                1011.800000                   1014.500000   \n",
       "13885                1017.500000                   1016.300000   \n",
       "4586                 1015.257118                   1017.655555   \n",
       "68030                1000.800000                   1010.900000   \n",
       "32535                1019.400000                   1020.800000   \n",
       "\n",
       "       rafaga_viento_max_velocidad  ...  missing_rafaga_viento_max_velocidad  \\\n",
       "id                                  ...                                        \n",
       "74816                         48.0  ...                                False   \n",
       "64318                         61.0  ...                                False   \n",
       "54357                         57.0  ...                                False   \n",
       "1762                          54.0  ...                                False   \n",
       "89422                         50.0  ...                                False   \n",
       "...                            ...  ...                                  ...   \n",
       "49272                         72.0  ...                                False   \n",
       "13885                         48.0  ...                                False   \n",
       "4586                          35.0  ...                                False   \n",
       "68030                         56.0  ...                                False   \n",
       "32535                         48.0  ...                                False   \n",
       "\n",
       "       missing_temp_max  missing_temp_min  missing_temperatura_tarde  \\\n",
       "id                                                                     \n",
       "74816             False             False                      False   \n",
       "64318             False             False                      False   \n",
       "54357             False             False                      False   \n",
       "1762              False             False                      False   \n",
       "89422             False             False                      False   \n",
       "...                 ...               ...                        ...   \n",
       "49272             False             False                      False   \n",
       "13885             False             False                      False   \n",
       "4586              False             False                      False   \n",
       "68030             False             False                      False   \n",
       "32535             False             False                      False   \n",
       "\n",
       "       missing_temperatura_temprano  missing_velocidad_viendo_tarde  \\\n",
       "id                                                                    \n",
       "74816                         False                           False   \n",
       "64318                         False                           False   \n",
       "54357                         False                           False   \n",
       "1762                          False                           False   \n",
       "89422                         False                           False   \n",
       "...                             ...                             ...   \n",
       "49272                         False                           False   \n",
       "13885                         False                           False   \n",
       "4586                          False                           False   \n",
       "68030                         False                           False   \n",
       "32535                         False                           False   \n",
       "\n",
       "       missing_velocidad_viendo_temprano     y   m   d  \n",
       "id                                                      \n",
       "74816                              False  2014   6   7  \n",
       "64318                              False  2014  12   7  \n",
       "54357                              False  2010   7   8  \n",
       "1762                               False  2015  11   4  \n",
       "89422                              False  2014  12  22  \n",
       "...                                  ...   ...  ..  ..  \n",
       "49272                              False  2012   5  23  \n",
       "13885                              False  2011  10  25  \n",
       "4586                               False  2015  12  16  \n",
       "68030                              False  2010   8  18  \n",
       "32535                              False  2015  12   7  \n",
       "\n",
       "[102356 rows x 53 columns]"
      ]
     },
     "execution_count": 9,
     "metadata": {},
     "output_type": "execute_result"
    }
   ],
   "source": [
    "df_targ=targetBooleano(df_targ)\n",
    "ohe_feat = reemplazarCategoricas_OHE(df_feat)\n",
    "ht_feat = reemplazarCategoricas_HashTrick(df_feat)\n",
    "\n",
    "reemplazarNulls(df_feat , inplace=True)\n",
    "reemplazarCategoricas(df_feat , inplace=True)\n",
    "reemplazarFechas(df_feat , inplace=True)\n",
    "\n",
    "df_feat_r = regularizar(df_feat)\n",
    "\n",
    "reemplazarNullsNum(ohe_feat, inplace=True)\n",
    "reemplazarFechas(ohe_feat , inplace=True)\n",
    "\n",
    "reemplazarNullsNum(ht_feat, inplace=True)\n",
    "reemplazarFechas(ht_feat , inplace=True)"
   ]
  },
  {
   "cell_type": "code",
   "execution_count": 10,
   "id": "0a2ab13c-8af8-4f56-bdec-192a92a7fa25",
   "metadata": {
    "execution": {
     "iopub.execute_input": "2021-12-28T03:16:24.351118Z",
     "iopub.status.busy": "2021-12-28T03:16:24.350828Z",
     "iopub.status.idle": "2021-12-28T03:16:24.366130Z",
     "shell.execute_reply": "2021-12-28T03:16:24.365629Z",
     "shell.execute_reply.started": "2021-12-28T03:16:24.351093Z"
    }
   },
   "outputs": [
    {
     "name": "stdout",
     "output_type": "stream",
     "text": [
      "<class 'pandas.core.frame.DataFrame'>\n",
      "Int64Index: 102356 entries, 74816 to 32535\n",
      "Data columns (total 23 columns):\n",
      " #   Column                        Non-Null Count   Dtype  \n",
      "---  ------                        --------------   -----  \n",
      " 0   direccion_viento_tarde        102356 non-null  float64\n",
      " 1   direccion_viento_temprano     102356 non-null  float64\n",
      " 2   horas_de_sol                  102356 non-null  float64\n",
      " 3   humedad_tarde                 102356 non-null  float64\n",
      " 4   humedad_temprano              102356 non-null  float64\n",
      " 5   llovieron_hamburguesas_hoy    102356 non-null  bool   \n",
      " 6   mm_evaporados_agua            102356 non-null  float64\n",
      " 7   mm_lluvia_dia                 102356 non-null  float64\n",
      " 8   nubosidad_tarde               102356 non-null  float64\n",
      " 9   nubosidad_temprano            102356 non-null  float64\n",
      " 10  presion_atmosferica_tarde     102356 non-null  float64\n",
      " 11  presion_atmosferica_temprano  102356 non-null  float64\n",
      " 12  rafaga_viento_max_direccion   102356 non-null  float64\n",
      " 13  rafaga_viento_max_velocidad   102356 non-null  float64\n",
      " 14  temp_max                      102356 non-null  float64\n",
      " 15  temp_min                      102356 non-null  float64\n",
      " 16  temperatura_tarde             102356 non-null  float64\n",
      " 17  temperatura_temprano          102356 non-null  float64\n",
      " 18  velocidad_viendo_tarde        102356 non-null  float64\n",
      " 19  velocidad_viendo_temprano     102356 non-null  float64\n",
      " 20  y                             102356 non-null  int64  \n",
      " 21  m                             102356 non-null  int64  \n",
      " 22  d                             102356 non-null  int64  \n",
      "dtypes: bool(1), float64(19), int64(3)\n",
      "memory usage: 18.1 MB\n"
     ]
    }
   ],
   "source": [
    "df_feat.info()"
   ]
  },
  {
   "cell_type": "code",
   "execution_count": 11,
   "id": "e90cbd14-d511-4194-84fe-e84d56acafc9",
   "metadata": {
    "execution": {
     "iopub.execute_input": "2021-12-28T03:16:24.367218Z",
     "iopub.status.busy": "2021-12-28T03:16:24.366829Z",
     "iopub.status.idle": "2021-12-28T03:16:24.627259Z",
     "shell.execute_reply": "2021-12-28T03:16:24.626601Z",
     "shell.execute_reply.started": "2021-12-28T03:16:24.367198Z"
    }
   },
   "outputs": [],
   "source": [
    "train_feat_r, val_feat_r, train_targ_r, val_targ_r = train_val( df_feat_r, df_targ, True )\n",
    "train_feat_ohe, val_feat_ohe, train_targ_ohe, val_targ_ohe = train_val( ohe_feat, df_targ, True )\n",
    "train_feat_ht, val_feat_ht, train_targ_ht, val_targ_ht = train_val( ht_feat, df_targ, True )"
   ]
  },
  {
   "cell_type": "markdown",
   "id": "c5be4845-2836-4adf-aaac-4cc7bca2993d",
   "metadata": {},
   "source": [
    "## Entrenamiento"
   ]
  },
  {
   "cell_type": "markdown",
   "id": "0c5a7f98-92c2-47bb-bb03-f5035ec16983",
   "metadata": {},
   "source": [
    "### Regularizado, asumiendo continuidad"
   ]
  },
  {
   "cell_type": "code",
   "execution_count": 41,
   "id": "4ec52b58-47dc-48d5-a25f-8fc3fa2ac92b",
   "metadata": {
    "execution": {
     "iopub.execute_input": "2021-12-28T03:20:04.486746Z",
     "iopub.status.busy": "2021-12-28T03:20:04.486285Z",
     "iopub.status.idle": "2021-12-28T03:20:04.517512Z",
     "shell.execute_reply": "2021-12-28T03:20:04.516826Z",
     "shell.execute_reply.started": "2021-12-28T03:20:04.486722Z"
    },
    "tags": []
   },
   "outputs": [],
   "source": [
    "if (runReg):\n",
    "    nb_reg = GaussianNB()\n",
    "    \n",
    "    nb_reg.fit(train_feat_r, train_targ_r)\n",
    "    \n",
    "    # Guardar\n",
    "    if(saveReg):\n",
    "        dump(nb_reg, 'models/NB/nb_reg.sk') \n",
    "else:\n",
    "    # Cargar\n",
    "    nb_reg = load('models/NB/nb_reg.sk')"
   ]
  },
  {
   "cell_type": "code",
   "execution_count": 42,
   "id": "d80cf9d4-5938-4ffe-8404-700b7e9d041a",
   "metadata": {
    "execution": {
     "iopub.execute_input": "2021-12-28T03:20:04.578825Z",
     "iopub.status.busy": "2021-12-28T03:20:04.578247Z",
     "iopub.status.idle": "2021-12-28T03:20:04.828447Z",
     "shell.execute_reply": "2021-12-28T03:20:04.827767Z",
     "shell.execute_reply.started": "2021-12-28T03:20:04.578799Z"
    },
    "tags": []
   },
   "outputs": [
    {
     "name": "stdout",
     "output_type": "stream",
     "text": [
      "AUC-ROC: 0.8232717403609737\n",
      "              precision    recall  f1-score   support\n",
      "\n",
      "       False       0.87      0.91      0.89      7946\n",
      "        True       0.62      0.53      0.57      2290\n",
      "\n",
      "    accuracy                           0.82     10236\n",
      "   macro avg       0.75      0.72      0.73     10236\n",
      "weighted avg       0.82      0.82      0.82     10236\n",
      "\n",
      "CONFUSION MATRIX\n",
      "CPU times: user 150 ms, sys: 13.2 ms, total: 163 ms\n",
      "Wall time: 136 ms\n"
     ]
    },
    {
     "data": {
      "image/png": "[encoded data removed]",
      "text/plain": [
       "<Figure size 432x288 with 2 Axes>"
      ]
     },
     "metadata": {},
     "output_type": "display_data"
    }
   ],
   "source": [
    "%%time\n",
    "pred = nb_reg.predict(val_feat_r)\n",
    "prob = nb_reg.predict_proba(val_feat_r)\n",
    "score(val_targ_r,pred, prob[:,1])"
   ]
  },
  {
   "cell_type": "code",
   "execution_count": 43,
   "id": "dac26bd9-790a-4ceb-b6b6-bd2056b27b01",
   "metadata": {
    "execution": {
     "iopub.execute_input": "2021-12-28T03:20:04.830239Z",
     "iopub.status.busy": "2021-12-28T03:20:04.829713Z",
     "iopub.status.idle": "2021-12-28T03:20:04.864196Z",
     "shell.execute_reply": "2021-12-28T03:20:04.863378Z",
     "shell.execute_reply.started": "2021-12-28T03:20:04.830216Z"
    },
    "tags": []
   },
   "outputs": [],
   "source": [
    "pdf = score2('Reg','Regularizado',val_targ_r, pred, prob[:,1])\n",
    "predictions = predictions.append( pdf )"
   ]
  },
  {
   "cell_type": "markdown",
   "id": "ca368f3a-a6c7-401d-a35a-075f7f05eea1",
   "metadata": {},
   "source": [
    "### One Hot Encoding"
   ]
  },
  {
   "cell_type": "code",
   "execution_count": 44,
   "id": "fe5e2adf-fb31-4b8b-b64d-756f9da4af42",
   "metadata": {
    "execution": {
     "iopub.execute_input": "2021-12-28T03:20:04.999839Z",
     "iopub.status.busy": "2021-12-28T03:20:04.999527Z",
     "iopub.status.idle": "2021-12-28T03:20:05.963676Z",
     "shell.execute_reply": "2021-12-28T03:20:05.962946Z",
     "shell.execute_reply.started": "2021-12-28T03:20:04.999806Z"
    },
    "tags": []
   },
   "outputs": [],
   "source": [
    "if (runOhe):\n",
    "    nb_ohe = GaussianNB()\n",
    "    \n",
    "    nb_ohe.fit(train_feat_ohe, train_targ_ohe)\n",
    "    \n",
    "    # Guardar\n",
    "    if(saveOhe):\n",
    "        dump(nb_ohe, 'models/NB/nb_r.sk') \n",
    "else:\n",
    "    # Cargar\n",
    "    nb_ohe = load('models/NB/nb_r.sk')"
   ]
  },
  {
   "cell_type": "code",
   "execution_count": 45,
   "id": "9722753b-12b4-4ae8-9a7e-f8c2a3685a86",
   "metadata": {
    "execution": {
     "iopub.execute_input": "2021-12-28T03:20:05.965236Z",
     "iopub.status.busy": "2021-12-28T03:20:05.965051Z",
     "iopub.status.idle": "2021-12-28T03:20:06.369839Z",
     "shell.execute_reply": "2021-12-28T03:20:06.369153Z",
     "shell.execute_reply.started": "2021-12-28T03:20:05.965216Z"
    },
    "tags": []
   },
   "outputs": [
    {
     "name": "stdout",
     "output_type": "stream",
     "text": [
      "AUC-ROC: 0.7324909294946127\n",
      "              precision    recall  f1-score   support\n",
      "\n",
      "       False       0.88      0.67      0.76      7946\n",
      "        True       0.37      0.67      0.48      2290\n",
      "\n",
      "    accuracy                           0.67     10236\n",
      "   macro avg       0.63      0.67      0.62     10236\n",
      "weighted avg       0.76      0.67      0.70     10236\n",
      "\n",
      "CONFUSION MATRIX\n",
      "CPU times: user 297 ms, sys: 53 ms, total: 350 ms\n",
      "Wall time: 324 ms\n"
     ]
    },
    {
     "data": {
      "image/png": "[encoded data removed]",
      "text/plain": [
       "<Figure size 432x288 with 2 Axes>"
      ]
     },
     "metadata": {},
     "output_type": "display_data"
    }
   ],
   "source": [
    "%%time\n",
    "pred = nb_ohe.predict(val_feat_ohe)\n",
    "prob = nb_ohe.predict_proba(val_feat_ohe)\n",
    "score(val_targ_ohe,pred, prob[:,1])"
   ]
  },
  {
   "cell_type": "code",
   "execution_count": 46,
   "id": "6042bfb5-0764-42ef-85da-51dd6c9c6fee",
   "metadata": {
    "execution": {
     "iopub.execute_input": "2021-12-28T03:20:06.371469Z",
     "iopub.status.busy": "2021-12-28T03:20:06.371226Z",
     "iopub.status.idle": "2021-12-28T03:20:06.407508Z",
     "shell.execute_reply": "2021-12-28T03:20:06.406830Z",
     "shell.execute_reply.started": "2021-12-28T03:20:06.371446Z"
    },
    "tags": []
   },
   "outputs": [],
   "source": [
    "pdf = score2('OHE','One Hot Encode',val_targ_ohe, pred, prob[:,1])\n",
    "predictions = predictions.append( pdf )"
   ]
  },
  {
   "cell_type": "markdown",
   "id": "80b5c9e3-4141-4fc1-a328-451a58fb43b3",
   "metadata": {},
   "source": [
    "### Hashing Trick"
   ]
  },
  {
   "cell_type": "code",
   "execution_count": 47,
   "id": "548c2aa3-22e6-4af1-9188-25004ad88493",
   "metadata": {
    "execution": {
     "iopub.execute_input": "2021-12-28T03:20:06.656466Z",
     "iopub.status.busy": "2021-12-28T03:20:06.656215Z",
     "iopub.status.idle": "2021-12-28T03:20:07.112298Z",
     "shell.execute_reply": "2021-12-28T03:20:07.111589Z",
     "shell.execute_reply.started": "2021-12-28T03:20:06.656440Z"
    },
    "tags": []
   },
   "outputs": [],
   "source": [
    "if (runHt):\n",
    "    nb_ht = GaussianNB()\n",
    "    \n",
    "    nb_ht.fit(train_feat_ht, train_targ_ht)\n",
    "    \n",
    "    # Guardar\n",
    "    if(saveHt):\n",
    "        dump(nb_ht, 'models/NB/nb_ht.sk') \n",
    "else:\n",
    "    # Cargar\n",
    "    nb_ht = load('models/NB/nb_ht.sk')"
   ]
  },
  {
   "cell_type": "code",
   "execution_count": 48,
   "id": "11ef2ac7-9117-4305-b741-36df1313c8ff",
   "metadata": {
    "execution": {
     "iopub.execute_input": "2021-12-28T03:20:08.474832Z",
     "iopub.status.busy": "2021-12-28T03:20:08.474512Z",
     "iopub.status.idle": "2021-12-28T03:20:08.745092Z",
     "shell.execute_reply": "2021-12-28T03:20:08.744481Z",
     "shell.execute_reply.started": "2021-12-28T03:20:08.474804Z"
    },
    "tags": []
   },
   "outputs": [
    {
     "name": "stdout",
     "output_type": "stream",
     "text": [
      "AUC-ROC: 0.7988803792411001\n",
      "              precision    recall  f1-score   support\n",
      "\n",
      "       False       0.86      0.86      0.86      7946\n",
      "        True       0.52      0.53      0.52      2290\n",
      "\n",
      "    accuracy                           0.78     10236\n",
      "   macro avg       0.69      0.69      0.69     10236\n",
      "weighted avg       0.79      0.78      0.79     10236\n",
      "\n",
      "CONFUSION MATRIX\n",
      "CPU times: user 196 ms, sys: 25.7 ms, total: 221 ms\n",
      "Wall time: 195 ms\n"
     ]
    },
    {
     "data": {
      "image/png": "[encoded data removed]",
      "text/plain": [
       "<Figure size 432x288 with 2 Axes>"
      ]
     },
     "metadata": {},
     "output_type": "display_data"
    }
   ],
   "source": [
    "%%time\n",
    "pred = nb_ht.predict(val_feat_ht)\n",
    "prob = nb_ht.predict_proba(val_feat_ht)\n",
    "score(val_targ_r,pred, prob[:,1])"
   ]
  },
  {
   "cell_type": "code",
   "execution_count": 49,
   "id": "49d34f18-668a-43e4-be9c-30734837c4fd",
   "metadata": {
    "execution": {
     "iopub.execute_input": "2021-12-28T03:20:09.553189Z",
     "iopub.status.busy": "2021-12-28T03:20:09.552916Z",
     "iopub.status.idle": "2021-12-28T03:20:09.585957Z",
     "shell.execute_reply": "2021-12-28T03:20:09.585281Z",
     "shell.execute_reply.started": "2021-12-28T03:20:09.553162Z"
    },
    "tags": []
   },
   "outputs": [],
   "source": [
    "pdf = score2('Reg','Regularizado',val_targ_r, pred, prob[:,1])\n",
    "predictions = predictions.append( pdf )"
   ]
  },
  {
   "cell_type": "markdown",
   "id": "bd15e792-97b3-4625-bc5c-e8de526d18b8",
   "metadata": {},
   "source": [
    "## Resultados"
   ]
  },
  {
   "cell_type": "code",
   "execution_count": 50,
   "id": "af8caefb-2f74-4ed7-b936-37b72df33f1e",
   "metadata": {
    "execution": {
     "iopub.execute_input": "2021-12-28T03:20:12.254681Z",
     "iopub.status.busy": "2021-12-28T03:20:12.254445Z",
     "iopub.status.idle": "2021-12-28T03:20:12.267303Z",
     "shell.execute_reply": "2021-12-28T03:20:12.266456Z",
     "shell.execute_reply.started": "2021-12-28T03:20:12.254657Z"
    },
    "tags": []
   },
   "outputs": [
    {
     "data": {
      "text/html": [
       "<div>\n",
       "<style scoped>\n",
       "    .dataframe tbody tr th:only-of-type {\n",
       "        vertical-align: middle;\n",
       "    }\n",
       "\n",
       "    .dataframe tbody tr th {\n",
       "        vertical-align: top;\n",
       "    }\n",
       "\n",
       "    .dataframe thead th {\n",
       "        text-align: right;\n",
       "    }\n",
       "</style>\n",
       "<table border=\"1\" class=\"dataframe\">\n",
       "  <thead>\n",
       "    <tr style=\"text-align: right;\">\n",
       "      <th></th>\n",
       "      <th>Modelo</th>\n",
       "      <th>Preprocesamientos</th>\n",
       "      <th>Clase</th>\n",
       "      <th>AUC-ROC</th>\n",
       "      <th>Accuracy</th>\n",
       "      <th>Precision</th>\n",
       "      <th>Recall</th>\n",
       "      <th>F1 score</th>\n",
       "      <th>Support</th>\n",
       "    </tr>\n",
       "  </thead>\n",
       "  <tbody>\n",
       "    <tr>\n",
       "      <th>0</th>\n",
       "      <td>Reg</td>\n",
       "      <td>Regularizado</td>\n",
       "      <td>AVG</td>\n",
       "      <td>0.823272</td>\n",
       "      <td>0.823369</td>\n",
       "      <td>0.815212</td>\n",
       "      <td>0.823369</td>\n",
       "      <td>0.818171</td>\n",
       "      <td>10236</td>\n",
       "    </tr>\n",
       "    <tr>\n",
       "      <th>1</th>\n",
       "      <td>Reg</td>\n",
       "      <td>Regularizado</td>\n",
       "      <td>True</td>\n",
       "      <td>NaN</td>\n",
       "      <td>NaN</td>\n",
       "      <td>0.623463</td>\n",
       "      <td>0.531441</td>\n",
       "      <td>0.573786</td>\n",
       "      <td>2290</td>\n",
       "    </tr>\n",
       "    <tr>\n",
       "      <th>2</th>\n",
       "      <td>Reg</td>\n",
       "      <td>Regularizado</td>\n",
       "      <td>False</td>\n",
       "      <td>NaN</td>\n",
       "      <td>NaN</td>\n",
       "      <td>0.870473</td>\n",
       "      <td>0.907501</td>\n",
       "      <td>0.888601</td>\n",
       "      <td>7946</td>\n",
       "    </tr>\n",
       "    <tr>\n",
       "      <th>0</th>\n",
       "      <td>OHE</td>\n",
       "      <td>One Hot Encode</td>\n",
       "      <td>AVG</td>\n",
       "      <td>0.732491</td>\n",
       "      <td>0.673310</td>\n",
       "      <td>0.764647</td>\n",
       "      <td>0.673310</td>\n",
       "      <td>0.698796</td>\n",
       "      <td>10236</td>\n",
       "    </tr>\n",
       "    <tr>\n",
       "      <th>1</th>\n",
       "      <td>OHE</td>\n",
       "      <td>One Hot Encode</td>\n",
       "      <td>True</td>\n",
       "      <td>NaN</td>\n",
       "      <td>NaN</td>\n",
       "      <td>0.372767</td>\n",
       "      <td>0.674236</td>\n",
       "      <td>0.480100</td>\n",
       "      <td>2290</td>\n",
       "    </tr>\n",
       "    <tr>\n",
       "      <th>2</th>\n",
       "      <td>OHE</td>\n",
       "      <td>One Hot Encode</td>\n",
       "      <td>False</td>\n",
       "      <td>NaN</td>\n",
       "      <td>NaN</td>\n",
       "      <td>0.877585</td>\n",
       "      <td>0.673043</td>\n",
       "      <td>0.761823</td>\n",
       "      <td>7946</td>\n",
       "    </tr>\n",
       "    <tr>\n",
       "      <th>0</th>\n",
       "      <td>Reg</td>\n",
       "      <td>Regularizado</td>\n",
       "      <td>AVG</td>\n",
       "      <td>0.798880</td>\n",
       "      <td>0.784584</td>\n",
       "      <td>0.786441</td>\n",
       "      <td>0.784584</td>\n",
       "      <td>0.785488</td>\n",
       "      <td>10236</td>\n",
       "    </tr>\n",
       "    <tr>\n",
       "      <th>1</th>\n",
       "      <td>Reg</td>\n",
       "      <td>Regularizado</td>\n",
       "      <td>True</td>\n",
       "      <td>NaN</td>\n",
       "      <td>NaN</td>\n",
       "      <td>0.518124</td>\n",
       "      <td>0.530568</td>\n",
       "      <td>0.524272</td>\n",
       "      <td>2290</td>\n",
       "    </tr>\n",
       "    <tr>\n",
       "      <th>2</th>\n",
       "      <td>Reg</td>\n",
       "      <td>Regularizado</td>\n",
       "      <td>False</td>\n",
       "      <td>NaN</td>\n",
       "      <td>NaN</td>\n",
       "      <td>0.863769</td>\n",
       "      <td>0.857790</td>\n",
       "      <td>0.860769</td>\n",
       "      <td>7946</td>\n",
       "    </tr>\n",
       "  </tbody>\n",
       "</table>\n",
       "</div>"
      ],
      "text/plain": [
       "  Modelo Preprocesamientos  Clase   AUC-ROC  Accuracy  Precision    Recall  \\\n",
       "0    Reg      Regularizado    AVG  0.823272  0.823369   0.815212  0.823369   \n",
       "1    Reg      Regularizado   True       NaN       NaN   0.623463  0.531441   \n",
       "2    Reg      Regularizado  False       NaN       NaN   0.870473  0.907501   \n",
       "0    OHE    One Hot Encode    AVG  0.732491  0.673310   0.764647  0.673310   \n",
       "1    OHE    One Hot Encode   True       NaN       NaN   0.372767  0.674236   \n",
       "2    OHE    One Hot Encode  False       NaN       NaN   0.877585  0.673043   \n",
       "0    Reg      Regularizado    AVG  0.798880  0.784584   0.786441  0.784584   \n",
       "1    Reg      Regularizado   True       NaN       NaN   0.518124  0.530568   \n",
       "2    Reg      Regularizado  False       NaN       NaN   0.863769  0.857790   \n",
       "\n",
       "   F1 score Support  \n",
       "0  0.818171   10236  \n",
       "1  0.573786    2290  \n",
       "2  0.888601    7946  \n",
       "0  0.698796   10236  \n",
       "1  0.480100    2290  \n",
       "2  0.761823    7946  \n",
       "0  0.785488   10236  \n",
       "1  0.524272    2290  \n",
       "2  0.860769    7946  "
      ]
     },
     "execution_count": 50,
     "metadata": {},
     "output_type": "execute_result"
    }
   ],
   "source": [
    "predictions"
   ]
  }
 ],
 "metadata": {
  "kernelspec": {
   "display_name": "Python 3 (ipykernel)",
   "language": "python",
   "name": "python3"
  },
  "language_info": {
   "codemirror_mode": {
    "name": "ipython",
    "version": 3
   },
   "file_extension": ".py",
   "mimetype": "text/x-python",
   "name": "python",
   "nbconvert_exporter": "python",
   "pygments_lexer": "ipython3",
   "version": "3.9.9"
  }
 },
 "nbformat": 4,
 "nbformat_minor": 5
}
