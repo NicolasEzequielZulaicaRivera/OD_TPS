{
 "cells": [
  {
   "cell_type": "markdown",
   "id": "f52068c0-7153-474f-a5c3-80dca215b967",
   "metadata": {
    "execution": {
     "iopub.execute_input": "2021-11-30T02:10:08.889763Z",
     "iopub.status.busy": "2021-11-30T02:10:08.889506Z",
     "iopub.status.idle": "2021-11-30T02:10:09.873670Z",
     "shell.execute_reply": "2021-11-30T02:10:09.873096Z",
     "shell.execute_reply.started": "2021-11-30T02:10:08.889697Z"
    }
   },
   "source": [
    "# Naive bayes"
   ]
  },
  {
   "cell_type": "markdown",
   "id": "9bcef705-8bf8-4989-82de-be5e44d5fde9",
   "metadata": {},
   "source": [
    "### Imports"
   ]
  },
  {
   "cell_type": "code",
   "execution_count": 1,
   "id": "908f84f4-ee8d-49ea-a369-c59c0f30a901",
   "metadata": {
    "execution": {
     "iopub.execute_input": "2021-11-30T20:51:34.398898Z",
     "iopub.status.busy": "2021-11-30T20:51:34.398565Z",
     "iopub.status.idle": "2021-11-30T20:51:35.318899Z",
     "shell.execute_reply": "2021-11-30T20:51:35.318320Z",
     "shell.execute_reply.started": "2021-11-30T20:51:34.398834Z"
    }
   },
   "outputs": [],
   "source": [
    "import pandas as pd\n",
    "import numpy as np\n",
    "from matplotlib import pyplot as plt\n",
    "from joblib import dump, load"
   ]
  },
  {
   "cell_type": "code",
   "execution_count": 2,
   "id": "c94c7fb4-bcec-48e6-965c-9058dcbdbc53",
   "metadata": {
    "execution": {
     "iopub.execute_input": "2021-11-30T20:51:35.320129Z",
     "iopub.status.busy": "2021-11-30T20:51:35.319890Z",
     "iopub.status.idle": "2021-11-30T20:51:35.617705Z",
     "shell.execute_reply": "2021-11-30T20:51:35.616945Z",
     "shell.execute_reply.started": "2021-11-30T20:51:35.320108Z"
    },
    "tags": []
   },
   "outputs": [],
   "source": [
    "from sklearn.naive_bayes import GaussianNB\n",
    "from sklearn.naive_bayes import ComplementNB"
   ]
  },
  {
   "cell_type": "code",
   "execution_count": 3,
   "id": "cfb24ca0-9bd9-4b58-8b92-5092f42a4cda",
   "metadata": {
    "execution": {
     "iopub.execute_input": "2021-11-30T20:51:35.620116Z",
     "iopub.status.busy": "2021-11-30T20:51:35.619711Z",
     "iopub.status.idle": "2021-11-30T20:51:38.307578Z",
     "shell.execute_reply": "2021-11-30T20:51:38.307072Z",
     "shell.execute_reply.started": "2021-11-30T20:51:35.620088Z"
    }
   },
   "outputs": [
    {
     "name": "stdout",
     "output_type": "stream",
     "text": [
      "[###] All Done                                              \n"
     ]
    }
   ],
   "source": [
    "from preprocessing import reemplazarNulls,reemplazarCategoricas,reemplazarFechas,targetBooleano,regularizar"
   ]
  },
  {
   "cell_type": "code",
   "execution_count": 4,
   "id": "59647526-08b8-4e5c-bf24-54a1280e33e9",
   "metadata": {
    "execution": {
     "iopub.execute_input": "2021-11-30T20:51:38.309110Z",
     "iopub.status.busy": "2021-11-30T20:51:38.308835Z",
     "iopub.status.idle": "2021-11-30T20:51:38.624362Z",
     "shell.execute_reply": "2021-11-30T20:51:38.623753Z",
     "shell.execute_reply.started": "2021-11-30T20:51:38.309080Z"
    }
   },
   "outputs": [],
   "source": [
    "from utilities import score, df_feat, df_targ, train_val"
   ]
  },
  {
   "cell_type": "markdown",
   "id": "8b202d87-3e34-4c7c-8944-5addb5e0bccc",
   "metadata": {},
   "source": [
    "### Codigo a correr"
   ]
  },
  {
   "cell_type": "code",
   "execution_count": 5,
   "id": "1df16897-a34d-4c6c-8dfb-cdd79a3f0930",
   "metadata": {
    "execution": {
     "iopub.execute_input": "2021-11-30T20:51:38.625679Z",
     "iopub.status.busy": "2021-11-30T20:51:38.625404Z",
     "iopub.status.idle": "2021-11-30T20:51:38.629460Z",
     "shell.execute_reply": "2021-11-30T20:51:38.628662Z",
     "shell.execute_reply.started": "2021-11-30T20:51:38.625655Z"
    }
   },
   "outputs": [],
   "source": [
    "MAX_ITER = 10**6\n",
    "MAX_JOBS = 5"
   ]
  },
  {
   "cell_type": "markdown",
   "id": "ad6e03b0-054c-4ee9-a850-fb8e31a34fb2",
   "metadata": {},
   "source": [
    "**Run :** Entrenar Nuevamente o Cargar Entrenado"
   ]
  },
  {
   "cell_type": "code",
   "execution_count": 6,
   "id": "462bbeeb-82e1-4353-afc9-27893f355cab",
   "metadata": {
    "execution": {
     "iopub.execute_input": "2021-11-30T20:51:38.631339Z",
     "iopub.status.busy": "2021-11-30T20:51:38.630893Z",
     "iopub.status.idle": "2021-11-30T20:51:38.637465Z",
     "shell.execute_reply": "2021-11-30T20:51:38.636626Z",
     "shell.execute_reply.started": "2021-11-30T20:51:38.631295Z"
    },
    "tags": []
   },
   "outputs": [],
   "source": [
    "runCont = False\n",
    "runDisc = False"
   ]
  },
  {
   "cell_type": "markdown",
   "id": "d44b2c11-34d5-44c0-a842-7a173b50993b",
   "metadata": {},
   "source": [
    "**Save :** Guardar Modelo (pisa anterior)"
   ]
  },
  {
   "cell_type": "code",
   "execution_count": 7,
   "id": "07c1439f-5b3c-4ba2-9c15-09eb314cdb77",
   "metadata": {
    "execution": {
     "iopub.execute_input": "2021-11-30T20:51:38.639270Z",
     "iopub.status.busy": "2021-11-30T20:51:38.638943Z",
     "iopub.status.idle": "2021-11-30T20:51:38.643304Z",
     "shell.execute_reply": "2021-11-30T20:51:38.642483Z",
     "shell.execute_reply.started": "2021-11-30T20:51:38.639242Z"
    }
   },
   "outputs": [],
   "source": [
    "saveCont = False\n",
    "saveDisc = False"
   ]
  },
  {
   "cell_type": "markdown",
   "id": "6eb64672-26db-4e45-ae0d-544505b0fb83",
   "metadata": {},
   "source": [
    "### Preprocesamiento"
   ]
  },
  {
   "cell_type": "code",
   "execution_count": 8,
   "id": "1595b6db-747c-4202-b289-ceba0ec11c9b",
   "metadata": {
    "execution": {
     "iopub.execute_input": "2021-11-30T20:51:38.644768Z",
     "iopub.status.busy": "2021-11-30T20:51:38.644435Z",
     "iopub.status.idle": "2021-11-30T20:51:40.191327Z",
     "shell.execute_reply": "2021-11-30T20:51:40.190681Z",
     "shell.execute_reply.started": "2021-11-30T20:51:38.644747Z"
    },
    "tags": []
   },
   "outputs": [],
   "source": [
    "df_targ=targetBooleano(df_targ)\n",
    "reemplazarNulls(df_feat , inplace=True)\n",
    "reemplazarCategoricas(df_feat , inplace=True)\n",
    "reemplazarFechas(df_feat , inplace=True)\n",
    "df_feat_r = regularizar(df_feat)"
   ]
  },
  {
   "cell_type": "code",
   "execution_count": 9,
   "id": "0a2ab13c-8af8-4f56-bdec-192a92a7fa25",
   "metadata": {
    "execution": {
     "iopub.execute_input": "2021-11-30T20:51:40.192396Z",
     "iopub.status.busy": "2021-11-30T20:51:40.192206Z",
     "iopub.status.idle": "2021-11-30T20:51:40.213378Z",
     "shell.execute_reply": "2021-11-30T20:51:40.212676Z",
     "shell.execute_reply.started": "2021-11-30T20:51:40.192371Z"
    }
   },
   "outputs": [
    {
     "name": "stdout",
     "output_type": "stream",
     "text": [
      "<class 'pandas.core.frame.DataFrame'>\n",
      "RangeIndex: 102356 entries, 0 to 102355\n",
      "Data columns (total 24 columns):\n",
      " #   Column                        Non-Null Count   Dtype  \n",
      "---  ------                        --------------   -----  \n",
      " 0   id                            102356 non-null  int64  \n",
      " 1   direccion_viento_tarde        102356 non-null  float64\n",
      " 2   direccion_viento_temprano     102356 non-null  float64\n",
      " 3   horas_de_sol                  102356 non-null  float64\n",
      " 4   humedad_tarde                 102356 non-null  float64\n",
      " 5   humedad_temprano              102356 non-null  float64\n",
      " 6   llovieron_hamburguesas_hoy    102356 non-null  bool   \n",
      " 7   mm_evaporados_agua            102356 non-null  float64\n",
      " 8   mm_lluvia_dia                 102356 non-null  float64\n",
      " 9   nubosidad_tarde               102356 non-null  float64\n",
      " 10  nubosidad_temprano            102356 non-null  float64\n",
      " 11  presion_atmosferica_tarde     102356 non-null  float64\n",
      " 12  presion_atmosferica_temprano  102356 non-null  float64\n",
      " 13  rafaga_viento_max_direccion   102356 non-null  float64\n",
      " 14  rafaga_viento_max_velocidad   102356 non-null  float64\n",
      " 15  temp_max                      102356 non-null  float64\n",
      " 16  temp_min                      102356 non-null  float64\n",
      " 17  temperatura_tarde             102356 non-null  float64\n",
      " 18  temperatura_temprano          102356 non-null  float64\n",
      " 19  velocidad_viendo_tarde        102356 non-null  float64\n",
      " 20  velocidad_viendo_temprano     102356 non-null  float64\n",
      " 21  y                             102356 non-null  int64  \n",
      " 22  m                             102356 non-null  int64  \n",
      " 23  d                             102356 non-null  int64  \n",
      "dtypes: bool(1), float64(19), int64(4)\n",
      "memory usage: 18.1 MB\n"
     ]
    }
   ],
   "source": [
    "df_feat.info()"
   ]
  },
  {
   "cell_type": "code",
   "execution_count": 10,
   "id": "33162d60-2e81-4f1f-ba99-632f57998395",
   "metadata": {
    "execution": {
     "iopub.execute_input": "2021-11-30T20:51:40.215106Z",
     "iopub.status.busy": "2021-11-30T20:51:40.214509Z",
     "iopub.status.idle": "2021-11-30T20:51:40.275732Z",
     "shell.execute_reply": "2021-11-30T20:51:40.275069Z",
     "shell.execute_reply.started": "2021-11-30T20:51:40.215065Z"
    }
   },
   "outputs": [],
   "source": [
    "train_feat, val_feat, train_targ, val_targ = train_val( df_feat, df_targ )"
   ]
  },
  {
   "cell_type": "code",
   "execution_count": 11,
   "id": "e90cbd14-d511-4194-84fe-e84d56acafc9",
   "metadata": {
    "execution": {
     "iopub.execute_input": "2021-11-30T20:51:40.277086Z",
     "iopub.status.busy": "2021-11-30T20:51:40.276884Z",
     "iopub.status.idle": "2021-11-30T20:51:40.319701Z",
     "shell.execute_reply": "2021-11-30T20:51:40.319110Z",
     "shell.execute_reply.started": "2021-11-30T20:51:40.277063Z"
    }
   },
   "outputs": [],
   "source": [
    "train_feat_r, val_feat_r, train_targ_r, val_targ_r = train_val( df_feat_r, df_targ )"
   ]
  },
  {
   "cell_type": "code",
   "execution_count": 12,
   "id": "8aa43304-7e10-4363-8dc6-76e38a0125d3",
   "metadata": {
    "execution": {
     "iopub.execute_input": "2021-11-30T20:51:40.323534Z",
     "iopub.status.busy": "2021-11-30T20:51:40.323318Z",
     "iopub.status.idle": "2021-11-30T20:51:40.327051Z",
     "shell.execute_reply": "2021-11-30T20:51:40.326217Z",
     "shell.execute_reply.started": "2021-11-30T20:51:40.323510Z"
    }
   },
   "outputs": [],
   "source": [
    "train_targ=train_targ.llovieron_hamburguesas_al_dia_siguiente\n",
    "val_targ=val_targ.llovieron_hamburguesas_al_dia_siguiente"
   ]
  },
  {
   "cell_type": "code",
   "execution_count": 13,
   "id": "402167f5-1cd9-4439-bf66-0600d10fda7a",
   "metadata": {
    "execution": {
     "iopub.execute_input": "2021-11-30T20:51:40.328453Z",
     "iopub.status.busy": "2021-11-30T20:51:40.328215Z",
     "iopub.status.idle": "2021-11-30T20:51:40.336011Z",
     "shell.execute_reply": "2021-11-30T20:51:40.335201Z",
     "shell.execute_reply.started": "2021-11-30T20:51:40.328431Z"
    }
   },
   "outputs": [],
   "source": [
    "train_targ_r=train_targ_r.llovieron_hamburguesas_al_dia_siguiente\n",
    "val_targ_r=val_targ_r.llovieron_hamburguesas_al_dia_siguiente"
   ]
  },
  {
   "cell_type": "markdown",
   "id": "c5be4845-2836-4adf-aaac-4cc7bca2993d",
   "metadata": {},
   "source": [
    "## Entrenamiento"
   ]
  },
  {
   "cell_type": "markdown",
   "id": "0c5a7f98-92c2-47bb-bb03-f5035ec16983",
   "metadata": {},
   "source": [
    "### Regularizado, asumiendo continuidad"
   ]
  },
  {
   "cell_type": "code",
   "execution_count": 14,
   "id": "4ec52b58-47dc-48d5-a25f-8fc3fa2ac92b",
   "metadata": {
    "execution": {
     "iopub.execute_input": "2021-11-30T20:51:40.337446Z",
     "iopub.status.busy": "2021-11-30T20:51:40.337083Z",
     "iopub.status.idle": "2021-11-30T20:51:40.372909Z",
     "shell.execute_reply": "2021-11-30T20:51:40.372274Z",
     "shell.execute_reply.started": "2021-11-30T20:51:40.337423Z"
    },
    "tags": []
   },
   "outputs": [],
   "source": [
    "if (runCont):\n",
    "    nb_cont = GaussianNB()\n",
    "    \n",
    "    nb_cont.fit(train_feat_r, train_targ_r)\n",
    "    \n",
    "    # Guardar\n",
    "    if(saveCont):\n",
    "        dump(nb_cont, 'models/NB/nb_reg.sk') \n",
    "else:\n",
    "    # Cargar\n",
    "    nb_cont = load('models/NB/nb_reg.sk')"
   ]
  },
  {
   "cell_type": "code",
   "execution_count": 15,
   "id": "d80cf9d4-5938-4ffe-8404-700b7e9d041a",
   "metadata": {
    "execution": {
     "iopub.execute_input": "2021-11-30T20:51:40.374161Z",
     "iopub.status.busy": "2021-11-30T20:51:40.373934Z",
     "iopub.status.idle": "2021-11-30T20:51:40.385866Z",
     "shell.execute_reply": "2021-11-30T20:51:40.384446Z",
     "shell.execute_reply.started": "2021-11-30T20:51:40.374137Z"
    },
    "tags": []
   },
   "outputs": [
    {
     "name": "stdout",
     "output_type": "stream",
     "text": [
      "CPU times: user 5.26 ms, sys: 3.29 ms, total: 8.55 ms\n",
      "Wall time: 6.63 ms\n"
     ]
    }
   ],
   "source": [
    "%%time\n",
    "cont_pred = nb_cont.predict(val_feat_r)"
   ]
  },
  {
   "cell_type": "code",
   "execution_count": 16,
   "id": "9a90538e-e44b-4a43-926a-5e027f95e706",
   "metadata": {
    "execution": {
     "iopub.execute_input": "2021-11-30T20:51:40.388192Z",
     "iopub.status.busy": "2021-11-30T20:51:40.387746Z",
     "iopub.status.idle": "2021-11-30T20:51:40.395071Z",
     "shell.execute_reply": "2021-11-30T20:51:40.394167Z",
     "shell.execute_reply.started": "2021-11-30T20:51:40.388147Z"
    },
    "scrolled": true,
    "tags": []
   },
   "outputs": [
    {
     "name": "stdout",
     "output_type": "stream",
     "text": [
      "ACCURACY: 0.82336850332161\n"
     ]
    }
   ],
   "source": [
    "score(cont_pred, val_targ_r)"
   ]
  }
 ],
 "metadata": {
  "kernelspec": {
   "display_name": "Python 3 (ipykernel)",
   "language": "python",
   "name": "python3"
  },
  "language_info": {
   "codemirror_mode": {
    "name": "ipython",
    "version": 3
   },
   "file_extension": ".py",
   "mimetype": "text/x-python",
   "name": "python",
   "nbconvert_exporter": "python",
   "pygments_lexer": "ipython3",
   "version": "3.9.9"
  }
 },
 "nbformat": 4,
 "nbformat_minor": 5
}
